{
 "cells": [
  {
   "cell_type": "markdown",
   "metadata": {},
   "source": [
    "<div style=\"text-align: center; margin-bottom: 10px; font-size: 20px; font-weight: bold;\">\n",
    "  Análisis del Tráfico Aéreo del Aeropuerto de San Francisco 2005-2016\n",
    "</div>\n",
    "\n",
    "<div style=\"text-align: center;\">\n",
    "  <img src=\"SFO.jpg\" alt=\"SFO\" style=\"width: 500px; height: auto;\">\n",
    "</div>"
   ]
  },
  {
   "cell_type": "markdown",
   "metadata": {},
   "source": [
    "<div style=\"letter-spacing: 0.5px; text-align: justify; font-size: 12px;\">\n",
    "Se ha solicitado realizar un análisis de la base de datos Air_Traffic_Passenger_Statistics relativa al Aeropuerto de San Francisco SFO, en el período 2005-2016, con el objeto de permitir la toma de decisiones basada en datos.\n",
    "\n",
    "El Dataset contiene 15007 y 16 columnas, las cuales se listan a continuación.\n",
    "</div>\n"
   ]
  },
  {
   "cell_type": "markdown",
   "metadata": {},
   "source": [
    "<div style=\"display: flex; justify-content: center; align-items: center; flex-direction: column; text-align: center; font-size: 18px; margin-bottom: 14px;\">\n",
    "    <p style=\"margin: 0;\">Descripción del Dataset</p>\n",
    "    <p style=\"margin: 0;\">El DataFrame incluye las siguiente <b>Columnas</b>:</p>\n",
    "</div>\n",
    "\n",
    "<table style=\"margin: 0 auto; border: 2px solid white; border-collapse: collapse; width: 30%; font-size: 12px;\">\n",
    "    <thead>\n",
    "        <tr>\n",
    "            <th style=\"border: 1px solid white; padding: 6px; text-align: left;\">Variable</th>\n",
    "            <th style=\"border: 1px solid white; padding: 6px; text-align: left;\">Definición</th>\n",
    "        </tr>\n",
    "    </thead>\n",
    "    <tbody>\n",
    "        <tr>\n",
    "            <td style=\"border: 1px solid white; padding: 6px;\">Activity Period</td>\n",
    "            <td style=\"border: 1px solid white; padding: 6px;\">Período de actividad</td>\n",
    "        </tr>\n",
    "        <tr>\n",
    "            <td style=\"border: 1px solid white; padding: 6px;\">Operating Airline</td>\n",
    "            <td style=\"border: 1px solid white; padding: 6px;\">Aerolínea operadora</td>\n",
    "        </tr>\n",
    "        <tr>\n",
    "            <td style=\"border: 1px solid white; padding: 6px;\">Operating Airline IATA Code</td>\n",
    "            <td style=\"border: 1px solid white; padding: 6px;\">Código IATA de la aerolínea operadora</td>\n",
    "        </tr>\n",
    "        <tr>\n",
    "            <td style=\"border: 1px solid white; padding: 6px;\">Published Airline</td>\n",
    "            <td style=\"border: 1px solid white; padding: 6px;\">Aerolínea publicada</td>\n",
    "        </tr>\n",
    "        <tr>\n",
    "            <td style=\"border: 1px solid white; padding: 6px;\">Published Airline IATA Code</td>\n",
    "            <td style=\"border: 1px solid white; padding: 6px;\">Código IATA de la aerolínea publicada</td>\n",
    "        </tr>\n",
    "        <tr>\n",
    "            <td style=\"border: 1px solid white; padding: 6px;\">GEO Summary</td>\n",
    "            <td style=\"border: 1px solid white; padding: 6px;\">Resumen GEO</td>\n",
    "        </tr>\n",
    "        <tr>\n",
    "            <td style=\"border: 1px solid white; padding: 6px;\">GEO Region</td>\n",
    "            <td style=\"border: 1px solid white; padding: 6px;\">Región GEO</td>\n",
    "        </tr>\n",
    "        <tr>\n",
    "            <td style=\"border: 1px solid white; padding: 6px;\">Activity Type Code</td>\n",
    "            <td style=\"border: 1px solid white; padding: 6px;\">Código de tipo de actividad</td>\n",
    "        </tr>\n",
    "        <tr>\n",
    "            <td style=\"border: 1px solid white; padding: 6px;\">Price Category Code</td>\n",
    "            <td style=\"border: 1px solid white; padding: 6px;\">Código de categoría de precio</td>\n",
    "        </tr>\n",
    "        <tr>\n",
    "            <td style=\"border: 1px solid white; padding: 6px;\">Terminal</td>\n",
    "            <td style=\"border: 1px solid white; padding: 6px;\">Terminal</td>\n",
    "        </tr>\n",
    "        <tr>\n",
    "            <td style=\"border: 1px solid white; padding: 6px;\">Boarding Area</td>\n",
    "            <td style=\"border: 1px solid white; padding: 6px;\">Área de embarque</td>\n",
    "        </tr>\n",
    "        <tr>\n",
    "            <td style=\"border: 1px solid white; padding: 6px;\">Passenger Count</td>\n",
    "            <td style=\"border: 1px solid white; padding: 6px;\">Cantidad de pasajeros</td>\n",
    "        </tr>\n",
    "        <tr>\n",
    "            <td style=\"border: 1px solid white; padding: 6px;\">Adjusted Activity Type Code</td>\n",
    "            <td style=\"border: 1px solid white; padding: 6px;\">Código de tipo de actividad ajustado</td>\n",
    "        </tr>\n",
    "        <tr>\n",
    "            <td style=\"border: 1px solid white; padding: 6px;\">Adjusted Passenger Count</td>\n",
    "            <td style=\"border: 1px solid white; padding: 6px;\">Cantidad de pasajeros ajustada</td>\n",
    "        </tr>\n",
    "        <tr>\n",
    "            <td style=\"border: 1px solid white; padding: 6px;\">Year</td>\n",
    "            <td style=\"border: 1px solid white; padding: 6px;\">Año</td>\n",
    "        </tr>\n",
    "        <tr>\n",
    "            <td style=\"border: 1px solid white; padding: 6px;\">Month</td>\n",
    "            <td style=\"border: 1px solid white; padding: 6px;\">Mes</td>\n",
    "        </tr>\n",
    "    </tbody>\n",
    "</table>\n",
    "<style>\n",
    "    @media print {\n",
    "        table {\n",
    "            width: 50%; /* Reduce el ancho al imprimir */\n",
    "        }\n",
    "        th, td {\n",
    "            font-size: 9px; /* Fuente más pequeña */\n",
    "            padding: 2px; /* Menos espaciado interno */\n",
    "        }\n",
    "        body {\n",
    "            margin: 0; /* Elimina márgenes de la página al imprimir */\n",
    "            padding: 0;\n",
    "        }\n",
    "    }\n",
    "</style>"
   ]
  },
  {
   "cell_type": "markdown",
   "metadata": {},
   "source": [
    "<div style=\"letter-spacing: 0.5px; text-align: justify; font-size: 14px;\">\n",
    ". Importación de librerías\n",
    "</div>"
   ]
  },
  {
   "cell_type": "code",
   "execution_count": 1,
   "metadata": {},
   "outputs": [],
   "source": [
    "import warnings\n",
    "warnings.filterwarnings(\"ignore\")"
   ]
  },
  {
   "cell_type": "code",
   "execution_count": 2,
   "metadata": {},
   "outputs": [],
   "source": [
    "from pyspark.sql import SparkSession\n",
    "from pyspark.sql import functions as F\n",
    "from pyspark.sql.window import Window\n",
    "from pyspark.ml.stat import Correlation\n",
    "from pyspark.ml.feature import VectorAssembler, StringIndexer\n",
    "from pyspark.ml.regression import LinearRegression\n",
    "from pyspark.ml.evaluation import RegressionEvaluator\n",
    "\n",
    "import os\n",
    "from dotenv import load_dotenv\n",
    "import pandas as pd # type: ignore\n",
    "import numpy as np # type: ignore\n",
    "import plotly.express as px # type: ignore\n",
    "import plotly.graph_objects as go # type: ignore"
   ]
  },
  {
   "cell_type": "code",
   "execution_count": 3,
   "metadata": {},
   "outputs": [],
   "source": [
    "# Cargar las variables de entorno\n",
    "load_dotenv()\n",
    "\n",
    "# Obtener la ruta de entrada desde el .env\n",
    "path = os.getenv(\"file_path\")\n",
    "\n",
    "# Obtener la ruta de salida desde el .env\n",
    "output_path = os.getenv(\"output_path\")"
   ]
  },
  {
   "cell_type": "markdown",
   "metadata": {},
   "source": [
    "<div style=\"letter-spacing: 0.5px; text-align: justify; font-size: 14px;\">\n",
    "1. Crear la sección pyspark y cargar los datos\n",
    "</div>"
   ]
  },
  {
   "cell_type": "code",
   "execution_count": 4,
   "metadata": {},
   "outputs": [],
   "source": [
    "# Crear la sesión de Spark\n",
    "spark = SparkSession.builder.appName(\"Air Traffic\").getOrCreate()"
   ]
  },
  {
   "cell_type": "code",
   "execution_count": 5,
   "metadata": {},
   "outputs": [],
   "source": [
    "# Cargar el archivo CSV\n",
    "df = spark.read.csv(path, header=True, inferSchema=True)"
   ]
  },
  {
   "cell_type": "code",
   "execution_count": 6,
   "metadata": {},
   "outputs": [
    {
     "name": "stdout",
     "output_type": "stream",
     "text": [
      "Esquema del DataFrame:\n",
      "root\n",
      " |-- Activity Period: integer (nullable = true)\n",
      " |-- Operating Airline: string (nullable = true)\n",
      " |-- Operating Airline IATA Code: string (nullable = true)\n",
      " |-- Published Airline: string (nullable = true)\n",
      " |-- Published Airline IATA Code: string (nullable = true)\n",
      " |-- GEO Summary: string (nullable = true)\n",
      " |-- GEO Region: string (nullable = true)\n",
      " |-- Activity Type Code: string (nullable = true)\n",
      " |-- Price Category Code: string (nullable = true)\n",
      " |-- Terminal: string (nullable = true)\n",
      " |-- Boarding Area: string (nullable = true)\n",
      " |-- Passenger Count: integer (nullable = true)\n",
      " |-- Adjusted Activity Type Code: string (nullable = true)\n",
      " |-- Adjusted Passenger Count: integer (nullable = true)\n",
      " |-- Year: integer (nullable = true)\n",
      " |-- Month: string (nullable = true)\n",
      "\n"
     ]
    }
   ],
   "source": [
    "# Mostrar el esquema del DataFrame\n",
    "print(\"Esquema del DataFrame:\")\n",
    "df.printSchema()"
   ]
  },
  {
   "cell_type": "code",
   "execution_count": 7,
   "metadata": {},
   "outputs": [
    {
     "name": "stdout",
     "output_type": "stream",
     "text": [
      "+---------------+-----------------+---------------------------+-----------------+---------------------------+-------------+----------+------------------+-------------------+----------+-------------+---------------+---------------------------+------------------------+----+-----+\n",
      "|Activity Period|Operating Airline|Operating Airline IATA Code|Published Airline|Published Airline IATA Code|  GEO Summary|GEO Region|Activity Type Code|Price Category Code|  Terminal|Boarding Area|Passenger Count|Adjusted Activity Type Code|Adjusted Passenger Count|Year|Month|\n",
      "+---------------+-----------------+---------------------------+-----------------+---------------------------+-------------+----------+------------------+-------------------+----------+-------------+---------------+---------------------------+------------------------+----+-----+\n",
      "|         200507|     ATA Airlines|                         TZ|     ATA Airlines|                         TZ|     Domestic|        US|          Deplaned|           Low Fare|Terminal 1|            B|          27271|                   Deplaned|                   27271|2005| July|\n",
      "|         200507|     ATA Airlines|                         TZ|     ATA Airlines|                         TZ|     Domestic|        US|          Enplaned|           Low Fare|Terminal 1|            B|          29131|                   Enplaned|                   29131|2005| July|\n",
      "|         200507|     ATA Airlines|                         TZ|     ATA Airlines|                         TZ|     Domestic|        US|    Thru / Transit|           Low Fare|Terminal 1|            B|           5415|         Thru / Transit * 2|                   10830|2005| July|\n",
      "|         200507|      Air Canada |                         AC|      Air Canada |                         AC|International|    Canada|          Deplaned|              Other|Terminal 1|            B|          35156|                   Deplaned|                   35156|2005| July|\n",
      "|         200507|      Air Canada |                         AC|      Air Canada |                         AC|International|    Canada|          Enplaned|              Other|Terminal 1|            B|          34090|                   Enplaned|                   34090|2005| July|\n",
      "+---------------+-----------------+---------------------------+-----------------+---------------------------+-------------+----------+------------------+-------------------+----------+-------------+---------------+---------------------------+------------------------+----+-----+\n",
      "only showing top 5 rows\n",
      "\n"
     ]
    }
   ],
   "source": [
    "# Mostrar las primeras 5 filas del DataFrame\n",
    "df.show(5)"
   ]
  },
  {
   "cell_type": "markdown",
   "metadata": {},
   "source": [
    "<div style=\"letter-spacing: 0.5px; text-align: justify; font-size: 12px;\">\n",
    "\n",
    "El resúmen estadístico muestra datos interesantes sobre la composición del dataframe.\n",
    "\n",
    "**Columnas numéricas** \n",
    "\n",
    "**a. Activity Period:**\n",
    "- **Mean.** El período promedio está en 2010, con una stddev de 313.3 (alrededor de 26 meses).\n",
    "- **Range.** El año mínimo es julio 2005 (200507) y el máximo es marzo 2016 (201603). Un rango de casi 11 años.\n",
    "\n",
    "**b. Passenger Count:**\n",
    "- **Mean.** El promedio es de 29,240 pasajeros, con una stddev de 58,319 pasajeros, lo cual indica una gran variabilidad.\n",
    "- **Range.** El mínimo es 1 pasajero y el máximo 659,837 pasajeros.\n",
    "- **Percentiles.** Se observa una distribución sesgada hacia valores más bajos con algunos valores extremos altos.\n",
    "\n",
    "**c. Adjusted Passenger Count:**\n",
    "- **Mean.** El promedio es de 29,331 pasajeros, con una stddev de 58,284. Indicativo de una gran variabilidad.\n",
    "- **Range.** El mínimo es 1 pasajero y el máximo 659,837 pasajeros.\n",
    "- **Percentiles.** Se observa la misma distribución sesgada hacia valores más bajos con algunos valores extremos altos.\n",
    "\n",
    "**d. Year:**\n",
    "- **Mean.** 2010 es el rango promedio del dataframe, y la stddev es de 3.13 años.\n",
    "- **Range.** Desde 2005 hasta 2016.\n",
    "\n",
    "**Columnas categóricas**  \n",
    "**a. Operating airline/Published airline:**\n",
    "Muestra datos completos para la mayoría de los registros, pero con 54 valores faltantes (15007-14953).\n",
    "\n",
    "**b. Geo summary:**\n",
    "Muestra las categorías Domestic e International.\n",
    "\n",
    "**c. Geo region:**\n",
    "Asia mínimo y US máximo. Orden alfabético de las filas.\n",
    "\n",
    "**d. Activity type code:**\n",
    "Deplaned mínimo y Thru/Transit máximo.\n",
    "\n",
    "**e. Price category code:**\n",
    "Rango entre low fare y other. Posiblemente relacionado con clasificación de tarifas.\n",
    "\n",
    "**f. Terminal/Boarding area:**\n",
    "Desde International hasta Terminal 3, y de A a Other, lo que representa diferentes ubicaciones en el aeropuerto.\n",
    "\n",
    "**g. Month:**\n",
    "Mínimo april y máximo september.\n",
    "</div>\n"
   ]
  },
  {
   "cell_type": "code",
   "execution_count": 8,
   "metadata": {},
   "outputs": [
    {
     "name": "stdout",
     "output_type": "stream",
     "text": [
      "+-------+------------------+-----------------+---------------------------+-----------------+---------------------------+-------------+----------+------------------+-------------------+-------------+-------------+------------------+---------------------------+------------------------+-----------------+---------+\n",
      "|summary|   Activity Period|Operating Airline|Operating Airline IATA Code|Published Airline|Published Airline IATA Code|  GEO Summary|GEO Region|Activity Type Code|Price Category Code|     Terminal|Boarding Area|   Passenger Count|Adjusted Activity Type Code|Adjusted Passenger Count|             Year|    Month|\n",
      "+-------+------------------+-----------------+---------------------------+-----------------+---------------------------+-------------+----------+------------------+-------------------+-------------+-------------+------------------+---------------------------+------------------------+-----------------+---------+\n",
      "|  count|             15007|            15007|                      14953|            15007|                      14953|        15007|     15007|             15007|              15007|        15007|        15007|             15007|                      15007|                   15007|            15007|    15007|\n",
      "|   mean|201045.07336576266|             null|                       null|             null|                       null|         null|      null|              null|               null|         null|         null|29240.521090157927|                       null|      29331.917105350836|2010.385220230559|     null|\n",
      "| stddev|313.33619609986414|             null|                       null|             null|                       null|         null|      null|              null|               null|         null|         null|58319.509284123524|                       null|        58284.1822186625|3.137589043169972|     null|\n",
      "|    min|            200507|     ATA Airlines|                         4T|     ATA Airlines|                         4T|     Domestic|      Asia|          Deplaned|           Low Fare|International|            A|                 1|                   Deplaned|                       1|             2005|    April|\n",
      "|    25%|            200803|             null|                       null|             null|                       null|         null|      null|              null|               null|         null|         null|              5372|                       null|                    5493|             2008|     null|\n",
      "|    50%|            201011|             null|                       null|             null|                       null|         null|      null|              null|               null|         null|         null|              9210|                       null|                    9354|             2010|     null|\n",
      "|    75%|            201308|             null|                       null|             null|                       null|         null|      null|              null|               null|         null|         null|             21155|                       null|                   21181|             2013|     null|\n",
      "|    max|            201603|     Xtra Airways|                         YX|     Xtra Airways|                         YX|International|        US|    Thru / Transit|              Other|   Terminal 3|        Other|            659837|         Thru / Transit * 2|                  659837|             2016|September|\n",
      "+-------+------------------+-----------------+---------------------------+-----------------+---------------------------+-------------+----------+------------------+-------------------+-------------+-------------+------------------+---------------------------+------------------------+-----------------+---------+\n",
      "\n"
     ]
    }
   ],
   "source": [
    "# Valores estadísticos\n",
    "df.summary().show()"
   ]
  },
  {
   "cell_type": "code",
   "execution_count": 9,
   "metadata": {},
   "outputs": [
    {
     "name": "stdout",
     "output_type": "stream",
     "text": [
      "Total de columnas: 16\n",
      "Total de filas: 15007\n"
     ]
    }
   ],
   "source": [
    "# Mostrar el total de columnas y filas del DataFrame\n",
    "# Total de columnas\n",
    "print(f\"Total de columnas: {len(df.columns)}\")\n",
    "\n",
    "# Total de filas\n",
    "print(f\"Total de filas: {df.count()}\")"
   ]
  },
  {
   "cell_type": "code",
   "execution_count": 10,
   "metadata": {},
   "outputs": [
    {
     "name": "stdout",
     "output_type": "stream",
     "text": [
      "Conteo de valores nulos:\n",
      "Activity Period: 0\n",
      "Operating Airline: 0\n",
      "Operating Airline IATA Code: 54\n",
      "Published Airline: 0\n",
      "Published Airline IATA Code: 54\n",
      "GEO Summary: 0\n",
      "GEO Region: 0\n",
      "Activity Type Code: 0\n",
      "Price Category Code: 0\n",
      "Terminal: 0\n",
      "Boarding Area: 0\n",
      "Passenger Count: 0\n",
      "Adjusted Activity Type Code: 0\n",
      "Adjusted Passenger Count: 0\n",
      "Year: 0\n",
      "Month: 0\n"
     ]
    }
   ],
   "source": [
    "# Verificar la existencia de valores nulos\n",
    "null_counts = df.select([F.sum(F.col(c).isNull().cast(\"int\")).alias(c) for c in df.columns]).collect()\n",
    "print(\"Conteo de valores nulos:\")\n",
    "for row in null_counts:\n",
    "    for col_name, count_value in row.asDict().items():\n",
    "        print(f\"{col_name}: {count_value}\")"
   ]
  },
  {
   "cell_type": "markdown",
   "metadata": {},
   "source": [
    "<div style=\"letter-spacing: 0.5px; text-align: justify; font-size: 14px;\">\n",
    "2. Mostrar el total de compañías aéreas\n",
    "</div>"
   ]
  },
  {
   "cell_type": "code",
   "execution_count": 11,
   "metadata": {},
   "outputs": [
    {
     "name": "stdout",
     "output_type": "stream",
     "text": [
      "Número de aerolíneas que venden los boletos: 68\n",
      "Número de aerolíneas que operan los vuelos: 77\n"
     ]
    }
   ],
   "source": [
    "# Obtener el número de aerolíneas que venden el boleto y las que operan el vuelo\n",
    "num_airlines, distinct_count = [df.select(column).distinct().count() \\\n",
    "for column in [\"Published Airline\", \"Operating Airline\"]]\n",
    "\n",
    "# Imprimir los resultados\n",
    "print(f\"Número de aerolíneas que venden los boletos: {num_airlines}\")\n",
    "print(f\"Número de aerolíneas que operan los vuelos: {distinct_count}\")"
   ]
  },
  {
   "cell_type": "markdown",
   "metadata": {},
   "source": [
    "<div style=\"letter-spacing: 0.5px; text-align: justify; font-size: 12px;\">\n",
    "Existen nueve líneas aéreas que operan los vuelos en nombre otras seis aerolíneas. De ellas, SkyWest Airlines realiza los vuelos en nombre de tres operadoras distintas. \n",
    "\n",
    "Consideramos que United Airlines es una sola empresa, a pesar que en el DataFrame aparezca con dos identificaciones distintas: United Airlines, United Airlines - Pre 07/01/2013. Aunque podrían unificarse ambas columnas para lograr unos datos consolidados de esta compañía, el desconocimiento del por qué de la existencia de dicha separación puede llevar a la duplicación de datos y por tanto a la tergiversación de la data correspondiente. Antes de decidir como proceder hay que tener mayor información sobre este punto.\n",
    "</div>"
   ]
  },
  {
   "cell_type": "code",
   "execution_count": 12,
   "metadata": {},
   "outputs": [
    {
     "name": "stdout",
     "output_type": "stream",
     "text": [
      "+---------------------------+--------------------------------+\n",
      "|Operating Airline          |Published Airline               |\n",
      "+---------------------------+--------------------------------+\n",
      "|Air Canada Jazz            |Air Canada                      |\n",
      "|SkyWest Airlines           |United Airlines                 |\n",
      "|American Eagle Airlines    |American Airlines               |\n",
      "|Mesa Airlines              |American Airlines               |\n",
      "|SkyWest Airlines           |United Airlines - Pre 07/01/2013|\n",
      "|SkyWest Airlines           |Delta Air Lines                 |\n",
      "|Compass Airlines           |Delta Air Lines                 |\n",
      "|Mesaba Airlines            |Delta Air Lines                 |\n",
      "|Horizon Air                |Alaska Airlines                 |\n",
      "|SkyWest Airlines           |Alaska Airlines                 |\n",
      "|ExpressJet Airlines        |Delta Air Lines                 |\n",
      "|Mesa Airlines              |US Airways                      |\n",
      "|Atlantic Southeast Airlines|Delta Air Lines                 |\n",
      "|Compass Airlines           |American Airlines               |\n",
      "+---------------------------+--------------------------------+\n",
      "\n"
     ]
    }
   ],
   "source": [
    "# Filtrar aerolíneas que no coinciden\n",
    "df_diff_unique = df.filter(df[\"Operating Airline\"] != df[\"Published Airline\"]) \\\n",
    "                   .select(\"Operating Airline\", \"Published Airline\") \\\n",
    "                   .distinct() \\\n",
    "                   #.toPandas()\n",
    "\n",
    "df_diff_unique.show(truncate=False)"
   ]
  },
  {
   "cell_type": "markdown",
   "metadata": {},
   "source": [
    "<div style=\"letter-spacing: 0.5px; text-align: justify; font-size: 12px;\">\n",
    "En el dataset se pueden observar varias columnas que presentan la misma información aunque bajo distinto enunciado. Esto genera una duplicación de datos e incrementa el consumo de recursos, por lo que hemos decidido eliminar algunas de ellas. \n",
    "\n",
    "En el caso particular de las columnas que presentan valores nulos, hemos decidido eliminarlas, pues no muestran información considerada relevante para el análisis.\n",
    "\n",
    "En vista de ello se elimanan las siguientes columnas:\n",
    "* <i>\"Operating Airline IATA Code\"\n",
    "* \"Published Airline IATA Code\"\n",
    "* \"Activity Type Code\"</i>\n",
    "\n",
    "Aunque las columnas  <i>\"Operating Airline\"</i> y <i>\"Published Airline\"</i> parecen mostrar la misma información, existe una diferencia significativa entre ambas. <i>\"Operating Airline\"</i> es el nombre de la aerolinea que presta el servico de transporte, en tanto que <i>\"Published Airline\"</i> es la que vende o promociona el boleto, por lo que la información entre ambas columnas no coinciden en su totalidad, tal como se muestra en las celdas anteriores, razón por la que hemos decidido mantenerlas.\n",
    "\n",
    "Igualmente se conservan las columnas <i>\"Passenger Count\"</i> y <i>\"Adjusted Passenger Count\"</i>, pues entre ambas existen pequeñas variaciones.\n",
    "</div>"
   ]
  },
  {
   "cell_type": "code",
   "execution_count": 13,
   "metadata": {},
   "outputs": [
    {
     "name": "stdout",
     "output_type": "stream",
     "text": [
      "Conteo de valores nulos en clean_df:\n",
      "Activity Period: 0\n",
      "Operating Airline: 0\n",
      "Published Airline: 0\n",
      "GEO Summary: 0\n",
      "GEO Region: 0\n",
      "Price Category Code: 0\n",
      "Terminal: 0\n",
      "Boarding Area: 0\n",
      "Passenger Count: 0\n",
      "Adjusted Activity Type Code: 0\n",
      "Adjusted Passenger Count: 0\n",
      "Year: 0\n",
      "Month: 0\n"
     ]
    }
   ],
   "source": [
    "# Eliminar columnas y asignar el resultado nuevamente a `clean_df`\n",
    "df_1 = df.drop('Operating Airline IATA Code',\\\n",
    "         'Published Airline IATA Code','Activity Type Code')\n",
    "\n",
    "# Contar valores nulos en cada columna de `clean_df`\n",
    "null_counts_df_1 = df_1.select([F.sum(F.col(c).isNull().cast(\"int\")).alias(c) \\\n",
    "         for c in df_1.columns]).collect()\n",
    "\n",
    "print(\"Conteo de valores nulos en clean_df:\")\n",
    "for row in null_counts_df_1:\n",
    "    for col_name, count_value in row.asDict().items():\n",
    "        print(f\"{col_name}: {count_value}\")"
   ]
  },
  {
   "cell_type": "markdown",
   "metadata": {},
   "source": [
    "<div style=\"letter-spacing: 0.5px; text-align: justify; font-size: 14px;\">\n",
    "3. Calcular el promedio de pasajeros por aerolínea para el periodo 2005-2016\n",
    "</div>"
   ]
  },
  {
   "cell_type": "code",
   "execution_count": 14,
   "metadata": {},
   "outputs": [
    {
     "name": "stdout",
     "output_type": "stream",
     "text": [
      "+--------------------------------+------------------+\n",
      "|Operating Airline               |Average Passengers|\n",
      "+--------------------------------+------------------+\n",
      "|American Airlines               |127164.39         |\n",
      "|Southwest Airlines              |81223.35          |\n",
      "|Virgin America                  |74405.35          |\n",
      "|United Airlines                 |72827.22          |\n",
      "|Delta Air Lines                 |68515.42          |\n",
      "|US Airways                      |55317.82          |\n",
      "|United Airlines - Pre 07/01/2013|49365.52          |\n",
      "|SkyWest Airlines                |37083.88          |\n",
      "|JetBlue Airways                 |35261.14          |\n",
      "|Northwest Airlines              |26205.5           |\n",
      "|Compass Airlines                |23359.84          |\n",
      "|Lufthansa German Airlines       |19301.97          |\n",
      "|Air Canada                      |18251.56          |\n",
      "|Frontier Airlines               |17787.68          |\n",
      "|British Airways                 |17625.12          |\n",
      "|Alaska Airlines                 |17564.68          |\n",
      "|Cathay Pacific                  |17121.33          |\n",
      "|Singapore Airlines              |14746.65          |\n",
      "|EVA Airways                     |13116.36          |\n",
      "|Air France                      |11589.08          |\n",
      "+--------------------------------+------------------+\n",
      "only showing top 20 rows\n",
      "\n"
     ]
    }
   ],
   "source": [
    "# Calcular el promedio de pasajeros por aerolínea\n",
    "average_passengers_airline = df_1.groupBy(\"Operating Airline\").agg(\n",
    "    F.round(F.mean(\"Adjusted Passenger Count\"),2).alias(\"Average Passengers\")\n",
    ").orderBy([\"Average Passengers\", \"Operating Airline\"], ascending=[False, False])\n",
    "\n",
    "# Mostrar el resultado\n",
    "average_passengers_airline.show(truncate=False)"
   ]
  },
  {
   "cell_type": "markdown",
   "metadata": {},
   "source": [
    "<div style=\"letter-spacing: 0.5px; text-align: justify; font-size: 14px;\">\n",
    ". Convertir a csv\n",
    "</div>"
   ]
  },
  {
   "cell_type": "code",
   "execution_count": 15,
   "metadata": {},
   "outputs": [],
   "source": [
    "# Crear el path completo del archivo\n",
    "output_file =os.path.join(output_path, \"average_passengers_airline.csv\")\n",
    "\n",
    "# Guardar como archivo CSV usando Pandas\n",
    "average_passengers_airline.toPandas()\\\n",
    ".to_csv(output_file, index=False)"
   ]
  },
  {
   "cell_type": "markdown",
   "metadata": {},
   "source": [
    "<div style=\"letter-spacing: 0.5px; text-align: justify; font-size: 14px;\">\n",
    "4. Conocer el número máximo de pasajeros por región para el período 2005-2016\n",
    "</div>"
   ]
  },
  {
   "cell_type": "code",
   "execution_count": 16,
   "metadata": {},
   "outputs": [
    {
     "name": "stdout",
     "output_type": "stream",
     "text": [
      "+-------------------+----------------------------+\n",
      "|GEO Region         |Max Adjusted Passenger Count|\n",
      "+-------------------+----------------------------+\n",
      "|US                 |659837                      |\n",
      "|Asia               |86398                       |\n",
      "|Europe             |48136                       |\n",
      "|Canada             |39798                       |\n",
      "|Mexico             |29206                       |\n",
      "|Middle East        |14769                       |\n",
      "|Australia / Oceania|12973                       |\n",
      "|Central America    |8970                        |\n",
      "|South America      |3685                        |\n",
      "+-------------------+----------------------------+\n",
      "\n"
     ]
    }
   ],
   "source": [
    "\n",
    "# Agrupar por \"GEO Region\" y obtener el máximo de \"Adjusted Passenger Count\"\n",
    "max_passenger_region = df_1.groupBy(\"GEO Region\").agg(\n",
    "    F.max(\"Adjusted Passenger Count\").alias(\"Max Adjusted Passenger Count\")\n",
    ").orderBy(\"Max Adjusted Passenger Count\", ascending=False)\n",
    "\n",
    "# Mostrar el resultado\n",
    "max_passenger_region.show(truncate=False)"
   ]
  },
  {
   "cell_type": "markdown",
   "metadata": {},
   "source": [
    "<div style=\"letter-spacing: 0.5px; text-align: justify; font-size: 14px;\">\n",
    ". Convertir a csv\n",
    "</div>"
   ]
  },
  {
   "cell_type": "code",
   "execution_count": 17,
   "metadata": {},
   "outputs": [],
   "source": [
    "# Crear el path completo del archivo\n",
    "output_file = os.path.join(output_path, \"max_passenger_region.csv\")\n",
    "\n",
    "# Guardar como archivo CSV usando Pandas\n",
    "max_passenger_region.toPandas()\\\n",
    ".to_csv(output_file, index=False)"
   ]
  },
  {
   "cell_type": "markdown",
   "metadata": {},
   "source": [
    "<div style=\"letter-spacing: 0.5px; text-align: justify; font-size: 14px;\">\n",
    ". Análisis descriptivo de las variables numéricas passenger count y adjusted passenger count\n",
    "</div>"
   ]
  },
  {
   "cell_type": "markdown",
   "metadata": {},
   "source": [
    "<div style=\"letter-spacing: 0.5px; text-align: justify; font-size: 12px;\">\n",
    "Se observa una discrepancia entre las variables Passenger Count y Adjusted Passenger Count. Es probable que la columna Adjusted Passenger Count se refiera al listado final de pasajeros que abordaron el vuelo, incluyendo a usuarios que adquirieron el boleto a última hora en el  <i>\"counter\"</i> de la aerolínea. La diferencia entre ambas columnas es mínima pero importante, pues refleja la diferencia entre quienes posiblemente programaron sus vuelos con antelación y los que por alguna razón adquirieron el boleto a última hora.\n",
    "</div>\n",
    "\n"
   ]
  },
  {
   "cell_type": "code",
   "execution_count": 18,
   "metadata": {},
   "outputs": [
    {
     "name": "stdout",
     "output_type": "stream",
     "text": [
      "+--------------------+-------------------+-----------------------------+----------------------------+\n",
      "|Mean Passenger Count|Std Passenger Count|Mean Adjusted Passenger Count|Std Adjusted Passenger Count|\n",
      "+--------------------+-------------------+-----------------------------+----------------------------+\n",
      "|            29240.52|           58319.51|                     29331.92|                    58284.18|\n",
      "+--------------------+-------------------+-----------------------------+----------------------------+\n",
      "\n"
     ]
    }
   ],
   "source": [
    "# Calcular la media y la desvicación standard en las columnas passenger count y adjusted passenger count\n",
    "pass_stats = df_1.agg(F.round(F.mean(\"Passenger Count\"),2).alias(\"Mean Passenger Count\"),\n",
    "        (F.round(F.stddev(\"Passenger Count\"),2). alias(\"Std Passenger Count\")),\n",
    "        (F.round(F.mean(\"Adjusted Passenger Count\"),2).alias(\"Mean Adjusted Passenger Count\")),\n",
    "        (F.round(F.stddev(\"Adjusted Passenger Count\"),2).alias(\"Std Adjusted Passenger Count\")),\n",
    "        )\n",
    "# Mostrar el resultado\n",
    "pass_stats.show()"
   ]
  },
  {
   "cell_type": "markdown",
   "metadata": {},
   "source": [
    "<div style=\"letter-spacing: 0.5px; text-align: justify; font-size: 14px;\">\n",
    ". Analísis descriptivo por aerolínea de las variables de pasajeros en el período 2005-2016\n",
    "</div>"
   ]
  },
  {
   "cell_type": "markdown",
   "metadata": {},
   "source": [
    "<div style=\"letter-spacing: 0.5px; text-align: justify; font-size: 12px;\">\n",
    "American Airline tiene el mayor promedio de pasajeros y la stddev mas baja de todas las aerolíneas, lo que indica un tráfico de pasajeros estable y considerable.\n",
    "</div>"
   ]
  },
  {
   "cell_type": "code",
   "execution_count": 19,
   "metadata": {},
   "outputs": [
    {
     "name": "stdout",
     "output_type": "stream",
     "text": [
      "+--------------------+-----------------------------+----------------------------+\n",
      "|   Operating Airline|Mean Adjusted Passenger Count|Std Adjusted Passenger Count|\n",
      "+--------------------+-----------------------------+----------------------------+\n",
      "|   American Airlines|                    127164.39|                    22044.24|\n",
      "|  Southwest Airlines|                     81223.35|                    60310.95|\n",
      "|      Virgin America|                     74405.35|                    68539.61|\n",
      "|     United Airlines|                     72827.22|                   111353.45|\n",
      "|     Delta Air Lines|                     68515.42|                    52420.02|\n",
      "|          US Airways|                     55317.82|                    17368.96|\n",
      "|United Airlines -...|                     49365.52|                   101159.05|\n",
      "|    SkyWest Airlines|                     37083.88|                    47114.36|\n",
      "|    JetBlue Airways |                     35261.14|                    15781.56|\n",
      "|  Northwest Airlines|                      26205.5|                    23201.11|\n",
      "|    Compass Airlines|                     23359.84|                    13640.96|\n",
      "|Lufthansa German ...|                     19301.97|                     3158.42|\n",
      "|         Air Canada |                     18251.56|                     8036.23|\n",
      "|   Frontier Airlines|                     17787.68|                     4894.09|\n",
      "|     British Airways|                     17625.12|                     2490.01|\n",
      "|     Alaska Airlines|                     17564.68|                    16729.12|\n",
      "|      Cathay Pacific|                     17121.33|                     4000.22|\n",
      "|  Singapore Airlines|                     14746.65|                     1969.16|\n",
      "|         EVA Airways|                     13116.36|                     2179.67|\n",
      "|          Air France|                     11589.08|                     4566.34|\n",
      "+--------------------+-----------------------------+----------------------------+\n",
      "only showing top 20 rows\n",
      "\n"
     ]
    }
   ],
   "source": [
    "# Calcular por aerolínea la media y la desviación standard en la columna Adjusted Passenger Count\n",
    "airline_pass_stats = df_1.groupBy(\"Operating Airline\").agg(\n",
    "        F.round(F.mean(\"Adjusted Passenger Count\"),2).alias(\"Mean Adjusted Passenger Count\"),\n",
    "        F.round(F.stddev(\"Adjusted Passenger Count\"),2).alias (\"Std Adjusted Passenger Count\"),\n",
    "        ).orderBy(\"Mean Adjusted Passenger Count\", ascending=False)\n",
    "\n",
    "# Mostrar el resultado\n",
    "airline_pass_stats.show()"
   ]
  },
  {
   "cell_type": "markdown",
   "metadata": {},
   "source": [
    "<div style=\"letter-spacing: 0.5px; text-align: justify; font-size: 12px;\">\n",
    "El gráfico muestra las barras con el promedio de pasajeros por aerolínea junto a las líneas que representan la desviación estándar. Cuanto más largas son las líneas, mayor es la variabilidad en el número de pasajeros de la aerolínea. La línea más corta indica que el flujo de pasajeros es más consistente en sus vuelos. United Airlines, en sus dos entradas, es la compañía que muestra la mayor variabilidad en el número de pasajeros.\n",
    "</div>"
   ]
  },
  {
   "cell_type": "code",
   "execution_count": 20,
   "metadata": {},
   "outputs": [
    {
     "data": {
      "application/vnd.plotly.v1+json": {
       "config": {
        "plotlyServerURL": "https://plot.ly"
       },
       "data": [
        {
         "alignmentgroup": "True",
         "error_y": {
          "array": [
           22044.24,
           60310.95,
           68539.61,
           111353.45,
           52420.02,
           17368.96,
           101159.05,
           47114.36,
           15781.56,
           23201.11,
           13640.96,
           3158.42,
           8036.23,
           4894.09,
           2490.01,
           16729.12,
           4000.22,
           1969.16,
           2179.67,
           4566.34,
           6649.34,
           1854.75,
           1312.01,
           2019.99,
           8595.73,
           2517.09,
           2669.16,
           2163.64,
           1466.17,
           1982.11,
           1885.4,
           1484.53,
           1929.15,
           1476.55,
           3566.16,
           729.62,
           1010.23,
           1642.2,
           1152.07,
           1491.95,
           1651.42,
           1843.03,
           1106.99,
           3718.87,
           2858.03,
           1107.02,
           1515.38,
           1589.14,
           1792.29,
           1761.47,
           972.08,
           2237.85,
           2351.21,
           3164.79,
           925.03,
           1139.33,
           2817.72,
           332.54,
           1719.92,
           396.76,
           2936.35,
           752.85,
           1123.86,
           805.75,
           296.29,
           298.41,
           123.75,
           100.88,
           8.33,
           0,
           57.15,
           58.46,
           0,
           41.72,
           null,
           3.62,
           0
          ]
         },
         "hovertemplate": "Aerolíneas=%{x}<br>Promedio de Pasajeros=%{y}<extra></extra>",
         "legendgroup": "",
         "marker": {
          "color": "#636efa",
          "pattern": {
           "shape": ""
          }
         },
         "name": "",
         "offsetgroup": "",
         "orientation": "v",
         "showlegend": false,
         "textposition": "auto",
         "type": "bar",
         "x": [
          "American Airlines",
          "Southwest Airlines",
          "Virgin America",
          "United Airlines",
          "Delta Air Lines",
          "US Airways",
          "United Airlines - Pre 07/01/2013",
          "SkyWest Airlines",
          "JetBlue Airways ",
          "Northwest Airlines",
          "Compass Airlines",
          "Lufthansa German Airlines",
          "Air Canada ",
          "Frontier Airlines",
          "British Airways",
          "Alaska Airlines",
          "Cathay Pacific",
          "Singapore Airlines",
          "EVA Airways",
          "Air France",
          "AirTran Airways",
          "Philippine Airlines",
          "China Airlines",
          "Virgin Atlantic",
          "ATA Airlines",
          "KLM Royal Dutch Airlines",
          "Emirates ",
          "Hawaiian Airlines",
          "Turkish Airlines",
          "Mexicana Airlines",
          "Air New Zealand",
          "Air China",
          "Etihad Airways",
          "Japan Airlines",
          "Independence Air",
          "All Nippon Airways",
          "Swiss International",
          "Asiana Airlines",
          "SAS Airlines",
          "Korean Air Lines",
          "ExpressJet Airlines",
          "Horizon Air ",
          "China Eastern",
          "Aeromexico",
          "WestJet Airlines",
          "TACA",
          "Qantas Airways",
          "Aer Lingus",
          "China Southern",
          "Jet Airways",
          "American Eagle Airlines",
          "Sun Country Airlines",
          "Midwest Airlines",
          "Mesa Airlines",
          "COPA Airlines, Inc.",
          "Spirit Airlines",
          "Mesaba Airlines",
          "Air India Limited",
          "Icelandair",
          "LAN Peru",
          "Republic Airlines",
          "Air Berlin",
          "XL Airways France",
          "Atlantic Southeast Airlines",
          "Allegiant Air",
          "BelAir Airlines",
          "Air Canada Jazz",
          "Swissport USA",
          "World Airways",
          "Pacific Aviation",
          "Miami Air International",
          "Servisair",
          "Xtra Airways",
          "Atlas Air, Inc",
          "Boeing Company",
          "Ameriflight",
          "Evergreen International Airlines"
         ],
         "xaxis": "x",
         "y": [
          127164.39,
          81223.35,
          74405.35,
          72827.22,
          68515.42,
          55317.82,
          49365.52,
          37083.88,
          35261.14,
          26205.5,
          23359.84,
          19301.97,
          18251.56,
          17787.68,
          17625.12,
          17564.68,
          17121.33,
          14746.65,
          13116.36,
          11589.08,
          10569.24,
          10248.64,
          9857.52,
          9847.1,
          9661.66,
          9221.81,
          9070.87,
          8282.19,
          8162.42,
          7993.81,
          7452.34,
          6618.34,
          6476.09,
          6471.43,
          6391.3,
          6385.52,
          6061.64,
          5902.96,
          5865.85,
          5678.46,
          5631.84,
          5577.58,
          5498.4,
          5463.82,
          5338.16,
          5066.2,
          4991.22,
          4407.18,
          4321.44,
          4280.31,
          4006.53,
          3992.65,
          3883,
          3710.58,
          3418.07,
          2921.04,
          2864.73,
          2834.5,
          2799.7,
          2786.01,
          2452.5,
          2320.75,
          2240.13,
          2176.91,
          1516.81,
          428,
          294.21,
          264.8,
          261.67,
          160,
          107.38,
          90.06,
          73,
          35.5,
          18,
          5.36,
          2
         ],
         "yaxis": "y"
        }
       ],
       "layout": {
        "barmode": "relative",
        "legend": {
         "tracegroupgap": 0
        },
        "template": {
         "data": {
          "bar": [
           {
            "error_x": {
             "color": "#2a3f5f"
            },
            "error_y": {
             "color": "#2a3f5f"
            },
            "marker": {
             "line": {
              "color": "#E5ECF6",
              "width": 0.5
             },
             "pattern": {
              "fillmode": "overlay",
              "size": 10,
              "solidity": 0.2
             }
            },
            "type": "bar"
           }
          ],
          "barpolar": [
           {
            "marker": {
             "line": {
              "color": "#E5ECF6",
              "width": 0.5
             },
             "pattern": {
              "fillmode": "overlay",
              "size": 10,
              "solidity": 0.2
             }
            },
            "type": "barpolar"
           }
          ],
          "carpet": [
           {
            "aaxis": {
             "endlinecolor": "#2a3f5f",
             "gridcolor": "white",
             "linecolor": "white",
             "minorgridcolor": "white",
             "startlinecolor": "#2a3f5f"
            },
            "baxis": {
             "endlinecolor": "#2a3f5f",
             "gridcolor": "white",
             "linecolor": "white",
             "minorgridcolor": "white",
             "startlinecolor": "#2a3f5f"
            },
            "type": "carpet"
           }
          ],
          "choropleth": [
           {
            "colorbar": {
             "outlinewidth": 0,
             "ticks": ""
            },
            "type": "choropleth"
           }
          ],
          "contour": [
           {
            "colorbar": {
             "outlinewidth": 0,
             "ticks": ""
            },
            "colorscale": [
             [
              0,
              "#0d0887"
             ],
             [
              0.1111111111111111,
              "#46039f"
             ],
             [
              0.2222222222222222,
              "#7201a8"
             ],
             [
              0.3333333333333333,
              "#9c179e"
             ],
             [
              0.4444444444444444,
              "#bd3786"
             ],
             [
              0.5555555555555556,
              "#d8576b"
             ],
             [
              0.6666666666666666,
              "#ed7953"
             ],
             [
              0.7777777777777778,
              "#fb9f3a"
             ],
             [
              0.8888888888888888,
              "#fdca26"
             ],
             [
              1,
              "#f0f921"
             ]
            ],
            "type": "contour"
           }
          ],
          "contourcarpet": [
           {
            "colorbar": {
             "outlinewidth": 0,
             "ticks": ""
            },
            "type": "contourcarpet"
           }
          ],
          "heatmap": [
           {
            "colorbar": {
             "outlinewidth": 0,
             "ticks": ""
            },
            "colorscale": [
             [
              0,
              "#0d0887"
             ],
             [
              0.1111111111111111,
              "#46039f"
             ],
             [
              0.2222222222222222,
              "#7201a8"
             ],
             [
              0.3333333333333333,
              "#9c179e"
             ],
             [
              0.4444444444444444,
              "#bd3786"
             ],
             [
              0.5555555555555556,
              "#d8576b"
             ],
             [
              0.6666666666666666,
              "#ed7953"
             ],
             [
              0.7777777777777778,
              "#fb9f3a"
             ],
             [
              0.8888888888888888,
              "#fdca26"
             ],
             [
              1,
              "#f0f921"
             ]
            ],
            "type": "heatmap"
           }
          ],
          "heatmapgl": [
           {
            "colorbar": {
             "outlinewidth": 0,
             "ticks": ""
            },
            "colorscale": [
             [
              0,
              "#0d0887"
             ],
             [
              0.1111111111111111,
              "#46039f"
             ],
             [
              0.2222222222222222,
              "#7201a8"
             ],
             [
              0.3333333333333333,
              "#9c179e"
             ],
             [
              0.4444444444444444,
              "#bd3786"
             ],
             [
              0.5555555555555556,
              "#d8576b"
             ],
             [
              0.6666666666666666,
              "#ed7953"
             ],
             [
              0.7777777777777778,
              "#fb9f3a"
             ],
             [
              0.8888888888888888,
              "#fdca26"
             ],
             [
              1,
              "#f0f921"
             ]
            ],
            "type": "heatmapgl"
           }
          ],
          "histogram": [
           {
            "marker": {
             "pattern": {
              "fillmode": "overlay",
              "size": 10,
              "solidity": 0.2
             }
            },
            "type": "histogram"
           }
          ],
          "histogram2d": [
           {
            "colorbar": {
             "outlinewidth": 0,
             "ticks": ""
            },
            "colorscale": [
             [
              0,
              "#0d0887"
             ],
             [
              0.1111111111111111,
              "#46039f"
             ],
             [
              0.2222222222222222,
              "#7201a8"
             ],
             [
              0.3333333333333333,
              "#9c179e"
             ],
             [
              0.4444444444444444,
              "#bd3786"
             ],
             [
              0.5555555555555556,
              "#d8576b"
             ],
             [
              0.6666666666666666,
              "#ed7953"
             ],
             [
              0.7777777777777778,
              "#fb9f3a"
             ],
             [
              0.8888888888888888,
              "#fdca26"
             ],
             [
              1,
              "#f0f921"
             ]
            ],
            "type": "histogram2d"
           }
          ],
          "histogram2dcontour": [
           {
            "colorbar": {
             "outlinewidth": 0,
             "ticks": ""
            },
            "colorscale": [
             [
              0,
              "#0d0887"
             ],
             [
              0.1111111111111111,
              "#46039f"
             ],
             [
              0.2222222222222222,
              "#7201a8"
             ],
             [
              0.3333333333333333,
              "#9c179e"
             ],
             [
              0.4444444444444444,
              "#bd3786"
             ],
             [
              0.5555555555555556,
              "#d8576b"
             ],
             [
              0.6666666666666666,
              "#ed7953"
             ],
             [
              0.7777777777777778,
              "#fb9f3a"
             ],
             [
              0.8888888888888888,
              "#fdca26"
             ],
             [
              1,
              "#f0f921"
             ]
            ],
            "type": "histogram2dcontour"
           }
          ],
          "mesh3d": [
           {
            "colorbar": {
             "outlinewidth": 0,
             "ticks": ""
            },
            "type": "mesh3d"
           }
          ],
          "parcoords": [
           {
            "line": {
             "colorbar": {
              "outlinewidth": 0,
              "ticks": ""
             }
            },
            "type": "parcoords"
           }
          ],
          "pie": [
           {
            "automargin": true,
            "type": "pie"
           }
          ],
          "scatter": [
           {
            "fillpattern": {
             "fillmode": "overlay",
             "size": 10,
             "solidity": 0.2
            },
            "type": "scatter"
           }
          ],
          "scatter3d": [
           {
            "line": {
             "colorbar": {
              "outlinewidth": 0,
              "ticks": ""
             }
            },
            "marker": {
             "colorbar": {
              "outlinewidth": 0,
              "ticks": ""
             }
            },
            "type": "scatter3d"
           }
          ],
          "scattercarpet": [
           {
            "marker": {
             "colorbar": {
              "outlinewidth": 0,
              "ticks": ""
             }
            },
            "type": "scattercarpet"
           }
          ],
          "scattergeo": [
           {
            "marker": {
             "colorbar": {
              "outlinewidth": 0,
              "ticks": ""
             }
            },
            "type": "scattergeo"
           }
          ],
          "scattergl": [
           {
            "marker": {
             "colorbar": {
              "outlinewidth": 0,
              "ticks": ""
             }
            },
            "type": "scattergl"
           }
          ],
          "scattermapbox": [
           {
            "marker": {
             "colorbar": {
              "outlinewidth": 0,
              "ticks": ""
             }
            },
            "type": "scattermapbox"
           }
          ],
          "scatterpolar": [
           {
            "marker": {
             "colorbar": {
              "outlinewidth": 0,
              "ticks": ""
             }
            },
            "type": "scatterpolar"
           }
          ],
          "scatterpolargl": [
           {
            "marker": {
             "colorbar": {
              "outlinewidth": 0,
              "ticks": ""
             }
            },
            "type": "scatterpolargl"
           }
          ],
          "scatterternary": [
           {
            "marker": {
             "colorbar": {
              "outlinewidth": 0,
              "ticks": ""
             }
            },
            "type": "scatterternary"
           }
          ],
          "surface": [
           {
            "colorbar": {
             "outlinewidth": 0,
             "ticks": ""
            },
            "colorscale": [
             [
              0,
              "#0d0887"
             ],
             [
              0.1111111111111111,
              "#46039f"
             ],
             [
              0.2222222222222222,
              "#7201a8"
             ],
             [
              0.3333333333333333,
              "#9c179e"
             ],
             [
              0.4444444444444444,
              "#bd3786"
             ],
             [
              0.5555555555555556,
              "#d8576b"
             ],
             [
              0.6666666666666666,
              "#ed7953"
             ],
             [
              0.7777777777777778,
              "#fb9f3a"
             ],
             [
              0.8888888888888888,
              "#fdca26"
             ],
             [
              1,
              "#f0f921"
             ]
            ],
            "type": "surface"
           }
          ],
          "table": [
           {
            "cells": {
             "fill": {
              "color": "#EBF0F8"
             },
             "line": {
              "color": "white"
             }
            },
            "header": {
             "fill": {
              "color": "#C8D4E3"
             },
             "line": {
              "color": "white"
             }
            },
            "type": "table"
           }
          ]
         },
         "layout": {
          "annotationdefaults": {
           "arrowcolor": "#2a3f5f",
           "arrowhead": 0,
           "arrowwidth": 1
          },
          "autotypenumbers": "strict",
          "coloraxis": {
           "colorbar": {
            "outlinewidth": 0,
            "ticks": ""
           }
          },
          "colorscale": {
           "diverging": [
            [
             0,
             "#8e0152"
            ],
            [
             0.1,
             "#c51b7d"
            ],
            [
             0.2,
             "#de77ae"
            ],
            [
             0.3,
             "#f1b6da"
            ],
            [
             0.4,
             "#fde0ef"
            ],
            [
             0.5,
             "#f7f7f7"
            ],
            [
             0.6,
             "#e6f5d0"
            ],
            [
             0.7,
             "#b8e186"
            ],
            [
             0.8,
             "#7fbc41"
            ],
            [
             0.9,
             "#4d9221"
            ],
            [
             1,
             "#276419"
            ]
           ],
           "sequential": [
            [
             0,
             "#0d0887"
            ],
            [
             0.1111111111111111,
             "#46039f"
            ],
            [
             0.2222222222222222,
             "#7201a8"
            ],
            [
             0.3333333333333333,
             "#9c179e"
            ],
            [
             0.4444444444444444,
             "#bd3786"
            ],
            [
             0.5555555555555556,
             "#d8576b"
            ],
            [
             0.6666666666666666,
             "#ed7953"
            ],
            [
             0.7777777777777778,
             "#fb9f3a"
            ],
            [
             0.8888888888888888,
             "#fdca26"
            ],
            [
             1,
             "#f0f921"
            ]
           ],
           "sequentialminus": [
            [
             0,
             "#0d0887"
            ],
            [
             0.1111111111111111,
             "#46039f"
            ],
            [
             0.2222222222222222,
             "#7201a8"
            ],
            [
             0.3333333333333333,
             "#9c179e"
            ],
            [
             0.4444444444444444,
             "#bd3786"
            ],
            [
             0.5555555555555556,
             "#d8576b"
            ],
            [
             0.6666666666666666,
             "#ed7953"
            ],
            [
             0.7777777777777778,
             "#fb9f3a"
            ],
            [
             0.8888888888888888,
             "#fdca26"
            ],
            [
             1,
             "#f0f921"
            ]
           ]
          },
          "colorway": [
           "#636efa",
           "#EF553B",
           "#00cc96",
           "#ab63fa",
           "#FFA15A",
           "#19d3f3",
           "#FF6692",
           "#B6E880",
           "#FF97FF",
           "#FECB52"
          ],
          "font": {
           "color": "#2a3f5f"
          },
          "geo": {
           "bgcolor": "white",
           "lakecolor": "white",
           "landcolor": "#E5ECF6",
           "showlakes": true,
           "showland": true,
           "subunitcolor": "white"
          },
          "hoverlabel": {
           "align": "left"
          },
          "hovermode": "closest",
          "mapbox": {
           "style": "light"
          },
          "paper_bgcolor": "white",
          "plot_bgcolor": "#E5ECF6",
          "polar": {
           "angularaxis": {
            "gridcolor": "white",
            "linecolor": "white",
            "ticks": ""
           },
           "bgcolor": "#E5ECF6",
           "radialaxis": {
            "gridcolor": "white",
            "linecolor": "white",
            "ticks": ""
           }
          },
          "scene": {
           "xaxis": {
            "backgroundcolor": "#E5ECF6",
            "gridcolor": "white",
            "gridwidth": 2,
            "linecolor": "white",
            "showbackground": true,
            "ticks": "",
            "zerolinecolor": "white"
           },
           "yaxis": {
            "backgroundcolor": "#E5ECF6",
            "gridcolor": "white",
            "gridwidth": 2,
            "linecolor": "white",
            "showbackground": true,
            "ticks": "",
            "zerolinecolor": "white"
           },
           "zaxis": {
            "backgroundcolor": "#E5ECF6",
            "gridcolor": "white",
            "gridwidth": 2,
            "linecolor": "white",
            "showbackground": true,
            "ticks": "",
            "zerolinecolor": "white"
           }
          },
          "shapedefaults": {
           "line": {
            "color": "#2a3f5f"
           }
          },
          "ternary": {
           "aaxis": {
            "gridcolor": "white",
            "linecolor": "white",
            "ticks": ""
           },
           "baxis": {
            "gridcolor": "white",
            "linecolor": "white",
            "ticks": ""
           },
           "bgcolor": "#E5ECF6",
           "caxis": {
            "gridcolor": "white",
            "linecolor": "white",
            "ticks": ""
           }
          },
          "title": {
           "x": 0.05
          },
          "xaxis": {
           "automargin": true,
           "gridcolor": "white",
           "linecolor": "white",
           "ticks": "",
           "title": {
            "standoff": 15
           },
           "zerolinecolor": "white",
           "zerolinewidth": 2
          },
          "yaxis": {
           "automargin": true,
           "gridcolor": "white",
           "linecolor": "white",
           "ticks": "",
           "title": {
            "standoff": 15
           },
           "zerolinecolor": "white",
           "zerolinewidth": 2
          }
         }
        },
        "title": {
         "text": "Promedio de Pasajeros por Aerolínea"
        },
        "xaxis": {
         "anchor": "y",
         "domain": [
          0,
          1
         ],
         "title": {
          "text": "Aerolíneas"
         }
        },
        "yaxis": {
         "anchor": "x",
         "domain": [
          0,
          1
         ],
         "title": {
          "text": "Promedio de Pasajeros"
         }
        }
       }
      }
     },
     "metadata": {},
     "output_type": "display_data"
    }
   ],
   "source": [
    "# Convertir a pandas \n",
    "airline_pass_stats_pd = airline_pass_stats.toPandas()\n",
    "\n",
    "# Crear un gráfico de barras interactivo\n",
    "fig = px.bar(airline_pass_stats_pd, \n",
    "             x=\"Operating Airline\", \n",
    "             y=\"Mean Adjusted Passenger Count\", \n",
    "             error_y=\"Std Adjusted Passenger Count\",\n",
    "             title=\"Promedio de Pasajeros por Aerolínea\",\n",
    "             labels={\"Operating Airline\": \"Aerolíneas\", \"Mean Adjusted Passenger Count\": \"Promedio de Pasajeros\"},\n",
    "             )\n",
    "\n",
    "# Mostrar gráfico\n",
    "fig.show()\n",
    "\n"
   ]
  },
  {
   "cell_type": "markdown",
   "metadata": {},
   "source": [
    "![](newplot1.png)"
   ]
  },
  {
   "cell_type": "markdown",
   "metadata": {},
   "source": [
    "<div style=\"letter-spacing: 0.5px; text-align: justify; font-size: 14px;\">\n",
    ". Calcular la media de pasajeros por año\n",
    "</div>"
   ]
  },
  {
   "cell_type": "code",
   "execution_count": 21,
   "metadata": {},
   "outputs": [
    {
     "name": "stdout",
     "output_type": "stream",
     "text": [
      "+----+-----------------------------+----------------------------+\n",
      "|Year|Mean Adjusted Passenger Count|Std Adjusted Passenger Count|\n",
      "+----+-----------------------------+----------------------------+\n",
      "|2005|                     25002.34|                    54707.74|\n",
      "|2006|                     24529.88|                    53358.71|\n",
      "|2007|                     25401.59|                    52626.75|\n",
      "|2008|                     26100.87|                    50726.96|\n",
      "|2009|                     26887.03|                    55063.06|\n",
      "|2010|                     28482.45|                    57745.14|\n",
      "|2011|                     29529.09|                    57905.05|\n",
      "|2012|                     32276.64|                    58587.49|\n",
      "|2013|                     33145.63|                    69484.16|\n",
      "|2014|                      34470.1|                    63681.88|\n",
      "|2015|                     34292.53|                    62731.75|\n",
      "|2016|                     30811.85|                    56349.96|\n",
      "+----+-----------------------------+----------------------------+\n",
      "\n"
     ]
    }
   ],
   "source": [
    "year_pass_stats = df_1.groupBy(\"Year\").agg(F.round(F.mean(\"Adjusted Passenger Count\"),2)\\\n",
    "        .alias(\"Mean Adjusted Passenger Count\"),\n",
    "        F.round(F.stddev(\"Adjusted Passenger Count\"),2)\\\n",
    "        .alias(\"Std Adjusted Passenger Count\")\n",
    "        ).orderBy(\"Year\", ascending=True)\n",
    "\n",
    "year_pass_stats.show()"
   ]
  },
  {
   "cell_type": "markdown",
   "metadata": {},
   "source": [
    "<div style=\"letter-spacing: 0.5px; text-align: justify; font-size: 12px;\">\n",
    "El gráfico muestra el promedio de pasajeros ajustados por año. A partir del 2005, se observa un crecimiento moderado y constante hasta alcanzar su máximo en 2014. A partir de entonces comienza a disminuir. Las lineas verticales indican una alta variabilidad o dispersión en el número de pasajeros, siendo 2013 donde la stddev es mayor +-69484.16\n",
    "</div>"
   ]
  },
  {
   "cell_type": "code",
   "execution_count": 22,
   "metadata": {},
   "outputs": [
    {
     "data": {
      "application/vnd.plotly.v1+json": {
       "config": {
        "plotlyServerURL": "https://plot.ly"
       },
       "data": [
        {
         "error_y": {
          "array": [
           54707.74,
           53358.71,
           52626.75,
           50726.96,
           55063.06,
           57745.14,
           57905.05,
           58587.49,
           69484.16,
           63681.88,
           62731.75,
           56349.96
          ]
         },
         "hovertemplate": "Año=%{x}<br>Promedio de Pasajeros=%{y}<extra></extra>",
         "legendgroup": "",
         "line": {
          "color": "#636efa",
          "dash": "solid"
         },
         "marker": {
          "symbol": "circle"
         },
         "mode": "lines",
         "name": "",
         "orientation": "v",
         "showlegend": false,
         "type": "scatter",
         "x": [
          2005,
          2006,
          2007,
          2008,
          2009,
          2010,
          2011,
          2012,
          2013,
          2014,
          2015,
          2016
         ],
         "xaxis": "x",
         "y": [
          25002.34,
          24529.88,
          25401.59,
          26100.87,
          26887.03,
          28482.45,
          29529.09,
          32276.64,
          33145.63,
          34470.1,
          34292.53,
          30811.85
         ],
         "yaxis": "y"
        }
       ],
       "layout": {
        "legend": {
         "tracegroupgap": 0
        },
        "template": {
         "data": {
          "bar": [
           {
            "error_x": {
             "color": "#2a3f5f"
            },
            "error_y": {
             "color": "#2a3f5f"
            },
            "marker": {
             "line": {
              "color": "#E5ECF6",
              "width": 0.5
             },
             "pattern": {
              "fillmode": "overlay",
              "size": 10,
              "solidity": 0.2
             }
            },
            "type": "bar"
           }
          ],
          "barpolar": [
           {
            "marker": {
             "line": {
              "color": "#E5ECF6",
              "width": 0.5
             },
             "pattern": {
              "fillmode": "overlay",
              "size": 10,
              "solidity": 0.2
             }
            },
            "type": "barpolar"
           }
          ],
          "carpet": [
           {
            "aaxis": {
             "endlinecolor": "#2a3f5f",
             "gridcolor": "white",
             "linecolor": "white",
             "minorgridcolor": "white",
             "startlinecolor": "#2a3f5f"
            },
            "baxis": {
             "endlinecolor": "#2a3f5f",
             "gridcolor": "white",
             "linecolor": "white",
             "minorgridcolor": "white",
             "startlinecolor": "#2a3f5f"
            },
            "type": "carpet"
           }
          ],
          "choropleth": [
           {
            "colorbar": {
             "outlinewidth": 0,
             "ticks": ""
            },
            "type": "choropleth"
           }
          ],
          "contour": [
           {
            "colorbar": {
             "outlinewidth": 0,
             "ticks": ""
            },
            "colorscale": [
             [
              0,
              "#0d0887"
             ],
             [
              0.1111111111111111,
              "#46039f"
             ],
             [
              0.2222222222222222,
              "#7201a8"
             ],
             [
              0.3333333333333333,
              "#9c179e"
             ],
             [
              0.4444444444444444,
              "#bd3786"
             ],
             [
              0.5555555555555556,
              "#d8576b"
             ],
             [
              0.6666666666666666,
              "#ed7953"
             ],
             [
              0.7777777777777778,
              "#fb9f3a"
             ],
             [
              0.8888888888888888,
              "#fdca26"
             ],
             [
              1,
              "#f0f921"
             ]
            ],
            "type": "contour"
           }
          ],
          "contourcarpet": [
           {
            "colorbar": {
             "outlinewidth": 0,
             "ticks": ""
            },
            "type": "contourcarpet"
           }
          ],
          "heatmap": [
           {
            "colorbar": {
             "outlinewidth": 0,
             "ticks": ""
            },
            "colorscale": [
             [
              0,
              "#0d0887"
             ],
             [
              0.1111111111111111,
              "#46039f"
             ],
             [
              0.2222222222222222,
              "#7201a8"
             ],
             [
              0.3333333333333333,
              "#9c179e"
             ],
             [
              0.4444444444444444,
              "#bd3786"
             ],
             [
              0.5555555555555556,
              "#d8576b"
             ],
             [
              0.6666666666666666,
              "#ed7953"
             ],
             [
              0.7777777777777778,
              "#fb9f3a"
             ],
             [
              0.8888888888888888,
              "#fdca26"
             ],
             [
              1,
              "#f0f921"
             ]
            ],
            "type": "heatmap"
           }
          ],
          "heatmapgl": [
           {
            "colorbar": {
             "outlinewidth": 0,
             "ticks": ""
            },
            "colorscale": [
             [
              0,
              "#0d0887"
             ],
             [
              0.1111111111111111,
              "#46039f"
             ],
             [
              0.2222222222222222,
              "#7201a8"
             ],
             [
              0.3333333333333333,
              "#9c179e"
             ],
             [
              0.4444444444444444,
              "#bd3786"
             ],
             [
              0.5555555555555556,
              "#d8576b"
             ],
             [
              0.6666666666666666,
              "#ed7953"
             ],
             [
              0.7777777777777778,
              "#fb9f3a"
             ],
             [
              0.8888888888888888,
              "#fdca26"
             ],
             [
              1,
              "#f0f921"
             ]
            ],
            "type": "heatmapgl"
           }
          ],
          "histogram": [
           {
            "marker": {
             "pattern": {
              "fillmode": "overlay",
              "size": 10,
              "solidity": 0.2
             }
            },
            "type": "histogram"
           }
          ],
          "histogram2d": [
           {
            "colorbar": {
             "outlinewidth": 0,
             "ticks": ""
            },
            "colorscale": [
             [
              0,
              "#0d0887"
             ],
             [
              0.1111111111111111,
              "#46039f"
             ],
             [
              0.2222222222222222,
              "#7201a8"
             ],
             [
              0.3333333333333333,
              "#9c179e"
             ],
             [
              0.4444444444444444,
              "#bd3786"
             ],
             [
              0.5555555555555556,
              "#d8576b"
             ],
             [
              0.6666666666666666,
              "#ed7953"
             ],
             [
              0.7777777777777778,
              "#fb9f3a"
             ],
             [
              0.8888888888888888,
              "#fdca26"
             ],
             [
              1,
              "#f0f921"
             ]
            ],
            "type": "histogram2d"
           }
          ],
          "histogram2dcontour": [
           {
            "colorbar": {
             "outlinewidth": 0,
             "ticks": ""
            },
            "colorscale": [
             [
              0,
              "#0d0887"
             ],
             [
              0.1111111111111111,
              "#46039f"
             ],
             [
              0.2222222222222222,
              "#7201a8"
             ],
             [
              0.3333333333333333,
              "#9c179e"
             ],
             [
              0.4444444444444444,
              "#bd3786"
             ],
             [
              0.5555555555555556,
              "#d8576b"
             ],
             [
              0.6666666666666666,
              "#ed7953"
             ],
             [
              0.7777777777777778,
              "#fb9f3a"
             ],
             [
              0.8888888888888888,
              "#fdca26"
             ],
             [
              1,
              "#f0f921"
             ]
            ],
            "type": "histogram2dcontour"
           }
          ],
          "mesh3d": [
           {
            "colorbar": {
             "outlinewidth": 0,
             "ticks": ""
            },
            "type": "mesh3d"
           }
          ],
          "parcoords": [
           {
            "line": {
             "colorbar": {
              "outlinewidth": 0,
              "ticks": ""
             }
            },
            "type": "parcoords"
           }
          ],
          "pie": [
           {
            "automargin": true,
            "type": "pie"
           }
          ],
          "scatter": [
           {
            "fillpattern": {
             "fillmode": "overlay",
             "size": 10,
             "solidity": 0.2
            },
            "type": "scatter"
           }
          ],
          "scatter3d": [
           {
            "line": {
             "colorbar": {
              "outlinewidth": 0,
              "ticks": ""
             }
            },
            "marker": {
             "colorbar": {
              "outlinewidth": 0,
              "ticks": ""
             }
            },
            "type": "scatter3d"
           }
          ],
          "scattercarpet": [
           {
            "marker": {
             "colorbar": {
              "outlinewidth": 0,
              "ticks": ""
             }
            },
            "type": "scattercarpet"
           }
          ],
          "scattergeo": [
           {
            "marker": {
             "colorbar": {
              "outlinewidth": 0,
              "ticks": ""
             }
            },
            "type": "scattergeo"
           }
          ],
          "scattergl": [
           {
            "marker": {
             "colorbar": {
              "outlinewidth": 0,
              "ticks": ""
             }
            },
            "type": "scattergl"
           }
          ],
          "scattermapbox": [
           {
            "marker": {
             "colorbar": {
              "outlinewidth": 0,
              "ticks": ""
             }
            },
            "type": "scattermapbox"
           }
          ],
          "scatterpolar": [
           {
            "marker": {
             "colorbar": {
              "outlinewidth": 0,
              "ticks": ""
             }
            },
            "type": "scatterpolar"
           }
          ],
          "scatterpolargl": [
           {
            "marker": {
             "colorbar": {
              "outlinewidth": 0,
              "ticks": ""
             }
            },
            "type": "scatterpolargl"
           }
          ],
          "scatterternary": [
           {
            "marker": {
             "colorbar": {
              "outlinewidth": 0,
              "ticks": ""
             }
            },
            "type": "scatterternary"
           }
          ],
          "surface": [
           {
            "colorbar": {
             "outlinewidth": 0,
             "ticks": ""
            },
            "colorscale": [
             [
              0,
              "#0d0887"
             ],
             [
              0.1111111111111111,
              "#46039f"
             ],
             [
              0.2222222222222222,
              "#7201a8"
             ],
             [
              0.3333333333333333,
              "#9c179e"
             ],
             [
              0.4444444444444444,
              "#bd3786"
             ],
             [
              0.5555555555555556,
              "#d8576b"
             ],
             [
              0.6666666666666666,
              "#ed7953"
             ],
             [
              0.7777777777777778,
              "#fb9f3a"
             ],
             [
              0.8888888888888888,
              "#fdca26"
             ],
             [
              1,
              "#f0f921"
             ]
            ],
            "type": "surface"
           }
          ],
          "table": [
           {
            "cells": {
             "fill": {
              "color": "#EBF0F8"
             },
             "line": {
              "color": "white"
             }
            },
            "header": {
             "fill": {
              "color": "#C8D4E3"
             },
             "line": {
              "color": "white"
             }
            },
            "type": "table"
           }
          ]
         },
         "layout": {
          "annotationdefaults": {
           "arrowcolor": "#2a3f5f",
           "arrowhead": 0,
           "arrowwidth": 1
          },
          "autotypenumbers": "strict",
          "coloraxis": {
           "colorbar": {
            "outlinewidth": 0,
            "ticks": ""
           }
          },
          "colorscale": {
           "diverging": [
            [
             0,
             "#8e0152"
            ],
            [
             0.1,
             "#c51b7d"
            ],
            [
             0.2,
             "#de77ae"
            ],
            [
             0.3,
             "#f1b6da"
            ],
            [
             0.4,
             "#fde0ef"
            ],
            [
             0.5,
             "#f7f7f7"
            ],
            [
             0.6,
             "#e6f5d0"
            ],
            [
             0.7,
             "#b8e186"
            ],
            [
             0.8,
             "#7fbc41"
            ],
            [
             0.9,
             "#4d9221"
            ],
            [
             1,
             "#276419"
            ]
           ],
           "sequential": [
            [
             0,
             "#0d0887"
            ],
            [
             0.1111111111111111,
             "#46039f"
            ],
            [
             0.2222222222222222,
             "#7201a8"
            ],
            [
             0.3333333333333333,
             "#9c179e"
            ],
            [
             0.4444444444444444,
             "#bd3786"
            ],
            [
             0.5555555555555556,
             "#d8576b"
            ],
            [
             0.6666666666666666,
             "#ed7953"
            ],
            [
             0.7777777777777778,
             "#fb9f3a"
            ],
            [
             0.8888888888888888,
             "#fdca26"
            ],
            [
             1,
             "#f0f921"
            ]
           ],
           "sequentialminus": [
            [
             0,
             "#0d0887"
            ],
            [
             0.1111111111111111,
             "#46039f"
            ],
            [
             0.2222222222222222,
             "#7201a8"
            ],
            [
             0.3333333333333333,
             "#9c179e"
            ],
            [
             0.4444444444444444,
             "#bd3786"
            ],
            [
             0.5555555555555556,
             "#d8576b"
            ],
            [
             0.6666666666666666,
             "#ed7953"
            ],
            [
             0.7777777777777778,
             "#fb9f3a"
            ],
            [
             0.8888888888888888,
             "#fdca26"
            ],
            [
             1,
             "#f0f921"
            ]
           ]
          },
          "colorway": [
           "#636efa",
           "#EF553B",
           "#00cc96",
           "#ab63fa",
           "#FFA15A",
           "#19d3f3",
           "#FF6692",
           "#B6E880",
           "#FF97FF",
           "#FECB52"
          ],
          "font": {
           "color": "#2a3f5f"
          },
          "geo": {
           "bgcolor": "white",
           "lakecolor": "white",
           "landcolor": "#E5ECF6",
           "showlakes": true,
           "showland": true,
           "subunitcolor": "white"
          },
          "hoverlabel": {
           "align": "left"
          },
          "hovermode": "closest",
          "mapbox": {
           "style": "light"
          },
          "paper_bgcolor": "white",
          "plot_bgcolor": "#E5ECF6",
          "polar": {
           "angularaxis": {
            "gridcolor": "white",
            "linecolor": "white",
            "ticks": ""
           },
           "bgcolor": "#E5ECF6",
           "radialaxis": {
            "gridcolor": "white",
            "linecolor": "white",
            "ticks": ""
           }
          },
          "scene": {
           "xaxis": {
            "backgroundcolor": "#E5ECF6",
            "gridcolor": "white",
            "gridwidth": 2,
            "linecolor": "white",
            "showbackground": true,
            "ticks": "",
            "zerolinecolor": "white"
           },
           "yaxis": {
            "backgroundcolor": "#E5ECF6",
            "gridcolor": "white",
            "gridwidth": 2,
            "linecolor": "white",
            "showbackground": true,
            "ticks": "",
            "zerolinecolor": "white"
           },
           "zaxis": {
            "backgroundcolor": "#E5ECF6",
            "gridcolor": "white",
            "gridwidth": 2,
            "linecolor": "white",
            "showbackground": true,
            "ticks": "",
            "zerolinecolor": "white"
           }
          },
          "shapedefaults": {
           "line": {
            "color": "#2a3f5f"
           }
          },
          "ternary": {
           "aaxis": {
            "gridcolor": "white",
            "linecolor": "white",
            "ticks": ""
           },
           "baxis": {
            "gridcolor": "white",
            "linecolor": "white",
            "ticks": ""
           },
           "bgcolor": "#E5ECF6",
           "caxis": {
            "gridcolor": "white",
            "linecolor": "white",
            "ticks": ""
           }
          },
          "title": {
           "x": 0.05
          },
          "xaxis": {
           "automargin": true,
           "gridcolor": "white",
           "linecolor": "white",
           "ticks": "",
           "title": {
            "standoff": 15
           },
           "zerolinecolor": "white",
           "zerolinewidth": 2
          },
          "yaxis": {
           "automargin": true,
           "gridcolor": "white",
           "linecolor": "white",
           "ticks": "",
           "title": {
            "standoff": 15
           },
           "zerolinecolor": "white",
           "zerolinewidth": 2
          }
         }
        },
        "title": {
         "text": "Tendencia de Pasajeros Promedio por Año con Variabilidad"
        },
        "xaxis": {
         "anchor": "y",
         "domain": [
          0,
          1
         ],
         "title": {
          "text": "Año"
         }
        },
        "yaxis": {
         "anchor": "x",
         "domain": [
          0,
          1
         ],
         "title": {
          "text": "Promedio de Pasajeros"
         }
        }
       }
      }
     },
     "metadata": {},
     "output_type": "display_data"
    }
   ],
   "source": [
    "# Convertir a Pandas \n",
    "year_pass_stats_pd = year_pass_stats.toPandas()\n",
    "\n",
    "# Crear gráfico de líneas con barras de error\n",
    "fig = px.line(year_pass_stats_pd, \n",
    "              x=\"Year\", \n",
    "              y=\"Mean Adjusted Passenger Count\", \n",
    "              error_y=\"Std Adjusted Passenger Count\",\n",
    "              title=\"Tendencia de Pasajeros Promedio por Año con Variabilidad\",\n",
    "              labels={\"Year\": \"Año\", \"Mean Adjusted Passenger Count\": \"Promedio de Pasajeros\"},\n",
    "              )\n",
    "\n",
    "# Mostrar gráfico\n",
    "fig.show()"
   ]
  },
  {
   "cell_type": "markdown",
   "metadata": {},
   "source": [
    "![](newplot2.png)"
   ]
  },
  {
   "cell_type": "markdown",
   "metadata": {},
   "source": [
    "<div style=\"letter-spacing: 0.5px; text-align: justify; font-size: 14px;\">\n",
    ". Total de pasajeros por destino y el porcentaje que representan en el período 2005-2016\n",
    "</div>"
   ]
  },
  {
   "cell_type": "markdown",
   "metadata": {},
   "source": [
    "<div style=\"letter-spacing: 0.5px; text-align: justify; font-size: 12px;\">\n",
    "Mas de 3/4 de los pasajeros toman vuelos nacionales.\n",
    "</div>"
   ]
  },
  {
   "cell_type": "code",
   "execution_count": 23,
   "metadata": {},
   "outputs": [
    {
     "name": "stdout",
     "output_type": "stream",
     "text": [
      "+-------------+----------------+----------+\n",
      "|  GEO Summary|Total Passengers|Percentage|\n",
      "+-------------+----------------+----------+\n",
      "|     Domestic|       339042637|     77.02|\n",
      "|International|       101141443|     22.98|\n",
      "+-------------+----------------+----------+\n",
      "\n"
     ]
    }
   ],
   "source": [
    "# Calcular el total de pasajeros\n",
    "total_pass = df_1.agg(F.sum(\"Adjusted Passenger Count\").alias(\"Total Passengers\")).collect()[0][0]\n",
    "\n",
    "# Agrupar los datos por 'GEO Summary' y calcular el total de pasajeros por categoría\n",
    "pass_distribution = (\n",
    "    df_1.groupBy(\"GEO Summary\")\n",
    "    .agg(F.sum(\"Adjusted Passenger Count\").alias(\"Total Passengers\"))\n",
    "    .withColumn(\"Percentage\", F.format_number((F.col(\"Total Passengers\") / total_pass) * 100, 2))\n",
    "    .orderBy(\"Total Passengers\", ascending=False)\n",
    ")\n",
    "\n",
    "# Mostrar los resultados\n",
    "pass_distribution.show()"
   ]
  },
  {
   "cell_type": "code",
   "execution_count": 24,
   "metadata": {},
   "outputs": [
    {
     "data": {
      "application/vnd.plotly.v1+json": {
       "config": {
        "plotlyServerURL": "https://plot.ly"
       },
       "data": [
        {
         "branchvalues": "total",
         "domain": {
          "x": [
           0,
           1
          ],
          "y": [
           0,
           1
          ]
         },
         "hovertemplate": "labels=%{label}<br>Total Passengers=%{value}<br>parent=%{parent}<br>id=%{id}<extra></extra>",
         "ids": [
          "Domestic",
          "International"
         ],
         "labels": [
          "Domestic",
          "International"
         ],
         "name": "",
         "parents": [
          "",
          ""
         ],
         "type": "sunburst",
         "values": [
          339042637,
          101141443
         ]
        }
       ],
       "layout": {
        "height": 400,
        "legend": {
         "tracegroupgap": 0
        },
        "template": {
         "data": {
          "bar": [
           {
            "error_x": {
             "color": "#2a3f5f"
            },
            "error_y": {
             "color": "#2a3f5f"
            },
            "marker": {
             "line": {
              "color": "#E5ECF6",
              "width": 0.5
             },
             "pattern": {
              "fillmode": "overlay",
              "size": 10,
              "solidity": 0.2
             }
            },
            "type": "bar"
           }
          ],
          "barpolar": [
           {
            "marker": {
             "line": {
              "color": "#E5ECF6",
              "width": 0.5
             },
             "pattern": {
              "fillmode": "overlay",
              "size": 10,
              "solidity": 0.2
             }
            },
            "type": "barpolar"
           }
          ],
          "carpet": [
           {
            "aaxis": {
             "endlinecolor": "#2a3f5f",
             "gridcolor": "white",
             "linecolor": "white",
             "minorgridcolor": "white",
             "startlinecolor": "#2a3f5f"
            },
            "baxis": {
             "endlinecolor": "#2a3f5f",
             "gridcolor": "white",
             "linecolor": "white",
             "minorgridcolor": "white",
             "startlinecolor": "#2a3f5f"
            },
            "type": "carpet"
           }
          ],
          "choropleth": [
           {
            "colorbar": {
             "outlinewidth": 0,
             "ticks": ""
            },
            "type": "choropleth"
           }
          ],
          "contour": [
           {
            "colorbar": {
             "outlinewidth": 0,
             "ticks": ""
            },
            "colorscale": [
             [
              0,
              "#0d0887"
             ],
             [
              0.1111111111111111,
              "#46039f"
             ],
             [
              0.2222222222222222,
              "#7201a8"
             ],
             [
              0.3333333333333333,
              "#9c179e"
             ],
             [
              0.4444444444444444,
              "#bd3786"
             ],
             [
              0.5555555555555556,
              "#d8576b"
             ],
             [
              0.6666666666666666,
              "#ed7953"
             ],
             [
              0.7777777777777778,
              "#fb9f3a"
             ],
             [
              0.8888888888888888,
              "#fdca26"
             ],
             [
              1,
              "#f0f921"
             ]
            ],
            "type": "contour"
           }
          ],
          "contourcarpet": [
           {
            "colorbar": {
             "outlinewidth": 0,
             "ticks": ""
            },
            "type": "contourcarpet"
           }
          ],
          "heatmap": [
           {
            "colorbar": {
             "outlinewidth": 0,
             "ticks": ""
            },
            "colorscale": [
             [
              0,
              "#0d0887"
             ],
             [
              0.1111111111111111,
              "#46039f"
             ],
             [
              0.2222222222222222,
              "#7201a8"
             ],
             [
              0.3333333333333333,
              "#9c179e"
             ],
             [
              0.4444444444444444,
              "#bd3786"
             ],
             [
              0.5555555555555556,
              "#d8576b"
             ],
             [
              0.6666666666666666,
              "#ed7953"
             ],
             [
              0.7777777777777778,
              "#fb9f3a"
             ],
             [
              0.8888888888888888,
              "#fdca26"
             ],
             [
              1,
              "#f0f921"
             ]
            ],
            "type": "heatmap"
           }
          ],
          "heatmapgl": [
           {
            "colorbar": {
             "outlinewidth": 0,
             "ticks": ""
            },
            "colorscale": [
             [
              0,
              "#0d0887"
             ],
             [
              0.1111111111111111,
              "#46039f"
             ],
             [
              0.2222222222222222,
              "#7201a8"
             ],
             [
              0.3333333333333333,
              "#9c179e"
             ],
             [
              0.4444444444444444,
              "#bd3786"
             ],
             [
              0.5555555555555556,
              "#d8576b"
             ],
             [
              0.6666666666666666,
              "#ed7953"
             ],
             [
              0.7777777777777778,
              "#fb9f3a"
             ],
             [
              0.8888888888888888,
              "#fdca26"
             ],
             [
              1,
              "#f0f921"
             ]
            ],
            "type": "heatmapgl"
           }
          ],
          "histogram": [
           {
            "marker": {
             "pattern": {
              "fillmode": "overlay",
              "size": 10,
              "solidity": 0.2
             }
            },
            "type": "histogram"
           }
          ],
          "histogram2d": [
           {
            "colorbar": {
             "outlinewidth": 0,
             "ticks": ""
            },
            "colorscale": [
             [
              0,
              "#0d0887"
             ],
             [
              0.1111111111111111,
              "#46039f"
             ],
             [
              0.2222222222222222,
              "#7201a8"
             ],
             [
              0.3333333333333333,
              "#9c179e"
             ],
             [
              0.4444444444444444,
              "#bd3786"
             ],
             [
              0.5555555555555556,
              "#d8576b"
             ],
             [
              0.6666666666666666,
              "#ed7953"
             ],
             [
              0.7777777777777778,
              "#fb9f3a"
             ],
             [
              0.8888888888888888,
              "#fdca26"
             ],
             [
              1,
              "#f0f921"
             ]
            ],
            "type": "histogram2d"
           }
          ],
          "histogram2dcontour": [
           {
            "colorbar": {
             "outlinewidth": 0,
             "ticks": ""
            },
            "colorscale": [
             [
              0,
              "#0d0887"
             ],
             [
              0.1111111111111111,
              "#46039f"
             ],
             [
              0.2222222222222222,
              "#7201a8"
             ],
             [
              0.3333333333333333,
              "#9c179e"
             ],
             [
              0.4444444444444444,
              "#bd3786"
             ],
             [
              0.5555555555555556,
              "#d8576b"
             ],
             [
              0.6666666666666666,
              "#ed7953"
             ],
             [
              0.7777777777777778,
              "#fb9f3a"
             ],
             [
              0.8888888888888888,
              "#fdca26"
             ],
             [
              1,
              "#f0f921"
             ]
            ],
            "type": "histogram2dcontour"
           }
          ],
          "mesh3d": [
           {
            "colorbar": {
             "outlinewidth": 0,
             "ticks": ""
            },
            "type": "mesh3d"
           }
          ],
          "parcoords": [
           {
            "line": {
             "colorbar": {
              "outlinewidth": 0,
              "ticks": ""
             }
            },
            "type": "parcoords"
           }
          ],
          "pie": [
           {
            "automargin": true,
            "type": "pie"
           }
          ],
          "scatter": [
           {
            "fillpattern": {
             "fillmode": "overlay",
             "size": 10,
             "solidity": 0.2
            },
            "type": "scatter"
           }
          ],
          "scatter3d": [
           {
            "line": {
             "colorbar": {
              "outlinewidth": 0,
              "ticks": ""
             }
            },
            "marker": {
             "colorbar": {
              "outlinewidth": 0,
              "ticks": ""
             }
            },
            "type": "scatter3d"
           }
          ],
          "scattercarpet": [
           {
            "marker": {
             "colorbar": {
              "outlinewidth": 0,
              "ticks": ""
             }
            },
            "type": "scattercarpet"
           }
          ],
          "scattergeo": [
           {
            "marker": {
             "colorbar": {
              "outlinewidth": 0,
              "ticks": ""
             }
            },
            "type": "scattergeo"
           }
          ],
          "scattergl": [
           {
            "marker": {
             "colorbar": {
              "outlinewidth": 0,
              "ticks": ""
             }
            },
            "type": "scattergl"
           }
          ],
          "scattermapbox": [
           {
            "marker": {
             "colorbar": {
              "outlinewidth": 0,
              "ticks": ""
             }
            },
            "type": "scattermapbox"
           }
          ],
          "scatterpolar": [
           {
            "marker": {
             "colorbar": {
              "outlinewidth": 0,
              "ticks": ""
             }
            },
            "type": "scatterpolar"
           }
          ],
          "scatterpolargl": [
           {
            "marker": {
             "colorbar": {
              "outlinewidth": 0,
              "ticks": ""
             }
            },
            "type": "scatterpolargl"
           }
          ],
          "scatterternary": [
           {
            "marker": {
             "colorbar": {
              "outlinewidth": 0,
              "ticks": ""
             }
            },
            "type": "scatterternary"
           }
          ],
          "surface": [
           {
            "colorbar": {
             "outlinewidth": 0,
             "ticks": ""
            },
            "colorscale": [
             [
              0,
              "#0d0887"
             ],
             [
              0.1111111111111111,
              "#46039f"
             ],
             [
              0.2222222222222222,
              "#7201a8"
             ],
             [
              0.3333333333333333,
              "#9c179e"
             ],
             [
              0.4444444444444444,
              "#bd3786"
             ],
             [
              0.5555555555555556,
              "#d8576b"
             ],
             [
              0.6666666666666666,
              "#ed7953"
             ],
             [
              0.7777777777777778,
              "#fb9f3a"
             ],
             [
              0.8888888888888888,
              "#fdca26"
             ],
             [
              1,
              "#f0f921"
             ]
            ],
            "type": "surface"
           }
          ],
          "table": [
           {
            "cells": {
             "fill": {
              "color": "#EBF0F8"
             },
             "line": {
              "color": "white"
             }
            },
            "header": {
             "fill": {
              "color": "#C8D4E3"
             },
             "line": {
              "color": "white"
             }
            },
            "type": "table"
           }
          ]
         },
         "layout": {
          "annotationdefaults": {
           "arrowcolor": "#2a3f5f",
           "arrowhead": 0,
           "arrowwidth": 1
          },
          "autotypenumbers": "strict",
          "coloraxis": {
           "colorbar": {
            "outlinewidth": 0,
            "ticks": ""
           }
          },
          "colorscale": {
           "diverging": [
            [
             0,
             "#8e0152"
            ],
            [
             0.1,
             "#c51b7d"
            ],
            [
             0.2,
             "#de77ae"
            ],
            [
             0.3,
             "#f1b6da"
            ],
            [
             0.4,
             "#fde0ef"
            ],
            [
             0.5,
             "#f7f7f7"
            ],
            [
             0.6,
             "#e6f5d0"
            ],
            [
             0.7,
             "#b8e186"
            ],
            [
             0.8,
             "#7fbc41"
            ],
            [
             0.9,
             "#4d9221"
            ],
            [
             1,
             "#276419"
            ]
           ],
           "sequential": [
            [
             0,
             "#0d0887"
            ],
            [
             0.1111111111111111,
             "#46039f"
            ],
            [
             0.2222222222222222,
             "#7201a8"
            ],
            [
             0.3333333333333333,
             "#9c179e"
            ],
            [
             0.4444444444444444,
             "#bd3786"
            ],
            [
             0.5555555555555556,
             "#d8576b"
            ],
            [
             0.6666666666666666,
             "#ed7953"
            ],
            [
             0.7777777777777778,
             "#fb9f3a"
            ],
            [
             0.8888888888888888,
             "#fdca26"
            ],
            [
             1,
             "#f0f921"
            ]
           ],
           "sequentialminus": [
            [
             0,
             "#0d0887"
            ],
            [
             0.1111111111111111,
             "#46039f"
            ],
            [
             0.2222222222222222,
             "#7201a8"
            ],
            [
             0.3333333333333333,
             "#9c179e"
            ],
            [
             0.4444444444444444,
             "#bd3786"
            ],
            [
             0.5555555555555556,
             "#d8576b"
            ],
            [
             0.6666666666666666,
             "#ed7953"
            ],
            [
             0.7777777777777778,
             "#fb9f3a"
            ],
            [
             0.8888888888888888,
             "#fdca26"
            ],
            [
             1,
             "#f0f921"
            ]
           ]
          },
          "colorway": [
           "#636efa",
           "#EF553B",
           "#00cc96",
           "#ab63fa",
           "#FFA15A",
           "#19d3f3",
           "#FF6692",
           "#B6E880",
           "#FF97FF",
           "#FECB52"
          ],
          "font": {
           "color": "#2a3f5f"
          },
          "geo": {
           "bgcolor": "white",
           "lakecolor": "white",
           "landcolor": "#E5ECF6",
           "showlakes": true,
           "showland": true,
           "subunitcolor": "white"
          },
          "hoverlabel": {
           "align": "left"
          },
          "hovermode": "closest",
          "mapbox": {
           "style": "light"
          },
          "paper_bgcolor": "white",
          "plot_bgcolor": "#E5ECF6",
          "polar": {
           "angularaxis": {
            "gridcolor": "white",
            "linecolor": "white",
            "ticks": ""
           },
           "bgcolor": "#E5ECF6",
           "radialaxis": {
            "gridcolor": "white",
            "linecolor": "white",
            "ticks": ""
           }
          },
          "scene": {
           "xaxis": {
            "backgroundcolor": "#E5ECF6",
            "gridcolor": "white",
            "gridwidth": 2,
            "linecolor": "white",
            "showbackground": true,
            "ticks": "",
            "zerolinecolor": "white"
           },
           "yaxis": {
            "backgroundcolor": "#E5ECF6",
            "gridcolor": "white",
            "gridwidth": 2,
            "linecolor": "white",
            "showbackground": true,
            "ticks": "",
            "zerolinecolor": "white"
           },
           "zaxis": {
            "backgroundcolor": "#E5ECF6",
            "gridcolor": "white",
            "gridwidth": 2,
            "linecolor": "white",
            "showbackground": true,
            "ticks": "",
            "zerolinecolor": "white"
           }
          },
          "shapedefaults": {
           "line": {
            "color": "#2a3f5f"
           }
          },
          "ternary": {
           "aaxis": {
            "gridcolor": "white",
            "linecolor": "white",
            "ticks": ""
           },
           "baxis": {
            "gridcolor": "white",
            "linecolor": "white",
            "ticks": ""
           },
           "bgcolor": "#E5ECF6",
           "caxis": {
            "gridcolor": "white",
            "linecolor": "white",
            "ticks": ""
           }
          },
          "title": {
           "x": 0.05
          },
          "xaxis": {
           "automargin": true,
           "gridcolor": "white",
           "linecolor": "white",
           "ticks": "",
           "title": {
            "standoff": 15
           },
           "zerolinecolor": "white",
           "zerolinewidth": 2
          },
          "yaxis": {
           "automargin": true,
           "gridcolor": "white",
           "linecolor": "white",
           "ticks": "",
           "title": {
            "standoff": 15
           },
           "zerolinecolor": "white",
           "zerolinewidth": 2
          }
         }
        },
        "title": {
         "text": "Distribución de Pasajeros por Destino (2005-2016)"
        },
        "width": 600
       }
      }
     },
     "metadata": {},
     "output_type": "display_data"
    }
   ],
   "source": [
    "\n",
    "# Convertir a pandas\n",
    "pass_distribution_pd = pass_distribution.toPandas()\n",
    "\n",
    "# Crear el gráfico Sunburst\n",
    "fig = px.sunburst(\n",
    "    pass_distribution_pd,\n",
    "    path=['GEO Summary'],  # Definir el camino (jerarquía)\n",
    "    values='Total Passengers',  # Valores para el gráfico\n",
    "    title=\"Distribución de Pasajeros por Destino (2005-2016)\",\n",
    ")\n",
    "\n",
    "# Ajustar el tamaño del gráfico\n",
    "fig.update_layout(width=600, height=400)\n",
    "\n",
    "# Mostrar el gráfico\n",
    "fig.show()"
   ]
  },
  {
   "cell_type": "markdown",
   "metadata": {},
   "source": [
    "![](newplot3.png)"
   ]
  },
  {
   "cell_type": "markdown",
   "metadata": {},
   "source": [
    "<div style=\"letter-spacing: 0.5px; text-align: justify; font-size: 14px;\">\n",
    ". Total de pasajeros por región en el período 2005-2016\n",
    "</div>"
   ]
  },
  {
   "cell_type": "markdown",
   "metadata": {},
   "source": [
    "<div style=\"letter-spacing: 0.5px; text-align: justify; font-size: 12px;\">\n",
    "Los vuelos internacionales movilizan el mayor numero de pasajeros hacia Asia, Europa y Canada.\n",
    "</div>"
   ]
  },
  {
   "cell_type": "code",
   "execution_count": 25,
   "metadata": {},
   "outputs": [
    {
     "name": "stdout",
     "output_type": "stream",
     "text": [
      "+-------------------+-------------+-------------------------+----------+\n",
      "|         GEO Region|  GEO Summary|Total Adjusted Passengers|Percentage|\n",
      "+-------------------+-------------+-------------------------+----------+\n",
      "|                 US|     Domestic|                339042637|     77.02|\n",
      "|               Asia|International|                 44213493|     10.04|\n",
      "|             Europe|International|                 26695446|      6.06|\n",
      "|             Canada|International|                 13901776|      3.16|\n",
      "|             Mexico|International|                  8084752|      1.84|\n",
      "|Australia / Oceania|International|                  4786892|      1.09|\n",
      "|        Middle East|International|                  1852943|      0.42|\n",
      "|    Central America|International|                  1355400|      0.31|\n",
      "|      South America|International|                   250741|      0.06|\n",
      "+-------------------+-------------+-------------------------+----------+\n",
      "\n"
     ]
    }
   ],
   "source": [
    "# Agrupar por \"GEO Region\" y \"GEO Summary\" y calcular el total de pasajeros\n",
    "total_pass_region_summary = df_1.groupBy(\"GEO Region\", \"GEO Summary\") \\\n",
    "    .agg(F.sum(\"Adjusted Passenger Count\").alias(\"Total Adjusted Passengers\")) \\\n",
    "    .withColumn(\"Percentage\", F.format_number((F.col(\"Total Adjusted Passengers\") / total_pass) * 100, 2)) \\\n",
    "    .orderBy(\"Total Adjusted Passengers\", ascending=False)\n",
    "\n",
    "# Mostrar el resultado\n",
    "total_pass_region_summary.show()"
   ]
  },
  {
   "cell_type": "code",
   "execution_count": 26,
   "metadata": {},
   "outputs": [
    {
     "name": "stdout",
     "output_type": "stream",
     "text": [
      "+-------------------+-------------+-------------------------+----------+------------------+\n",
      "|         GEO Region|  GEO Summary|Total Adjusted Passengers|Percentage|Percentage Excl US|\n",
      "+-------------------+-------------+-------------------------+----------+------------------+\n",
      "|               Asia|International|                 44213493|     10.04|             43.71|\n",
      "|             Europe|International|                 26695446|      6.06|             26.39|\n",
      "|             Canada|International|                 13901776|      3.16|             13.74|\n",
      "|             Mexico|International|                  8084752|      1.84|              7.99|\n",
      "|Australia / Oceania|International|                  4786892|      1.09|              4.73|\n",
      "|        Middle East|International|                  1852943|      0.42|              1.83|\n",
      "|    Central America|International|                  1355400|      0.31|              1.34|\n",
      "|      South America|International|                   250741|      0.06|              0.25|\n",
      "+-------------------+-------------+-------------------------+----------+------------------+\n",
      "\n"
     ]
    }
   ],
   "source": [
    "# Excluir la región 'US' y calcular el total de pasajeros de las otras 8 regiones\n",
    "total_pass_region_summary_excl_us = total_pass_region_summary.filter(F.col(\"GEO Region\") != \"US\")\n",
    "\n",
    "# Calcular el total de pasajeros sin la región 'US'\n",
    "total_pass_without_us = total_pass_region_summary_excl_us.agg(F.sum(\"Total Adjusted Passengers\").alias(\"Total Adjusted Passengers Without US\")).collect()[0][0]\n",
    "\n",
    "# Calcular el porcentaje respecto al total de las otras 8 regiones\n",
    "total_pass_region_summary_excl_us = total_pass_region_summary_excl_us.withColumn(\n",
    "    \"Percentage Excl US\", F.format_number((F.col(\"Total Adjusted Passengers\") / total_pass_without_us) * 100, 2)\n",
    ")\n",
    "\n",
    "# Mostrar el resultado\n",
    "total_pass_region_summary_excl_us.show()\n"
   ]
  },
  {
   "cell_type": "markdown",
   "metadata": {},
   "source": [
    "<div style=\"letter-spacing: 0.5px; text-align: justify; font-size: 12px;\">\n",
    "En el gráfico se puede observar la marcada desproporción del flujo de pasajeros entre US y el resto de regiones. La primera se apróxima a los 440 mill, en tanto Asia, la segunda ruta con mayor tráfico alcanza casi los 45 mill.\n",
    "</div>"
   ]
  },
  {
   "cell_type": "code",
   "execution_count": 27,
   "metadata": {},
   "outputs": [
    {
     "data": {
      "application/vnd.plotly.v1+json": {
       "config": {
        "plotlyServerURL": "https://plot.ly"
       },
       "data": [
        {
         "hovertemplate": "Región=%{x}<br>Total de Pasajeros=%{y}<extra></extra>",
         "legendgroup": "",
         "line": {
          "color": "#636efa",
          "dash": "solid"
         },
         "marker": {
          "symbol": "circle"
         },
         "mode": "lines",
         "name": "",
         "orientation": "v",
         "showlegend": false,
         "type": "scatter",
         "x": [
          "US",
          "Asia",
          "Europe",
          "Canada",
          "Mexico",
          "Australia / Oceania",
          "Middle East",
          "Central America",
          "South America"
         ],
         "xaxis": "x",
         "y": [
          339042637,
          44213493,
          26695446,
          13901776,
          8084752,
          4786892,
          1852943,
          1355400,
          250741
         ],
         "yaxis": "y"
        }
       ],
       "layout": {
        "legend": {
         "tracegroupgap": 0
        },
        "template": {
         "data": {
          "bar": [
           {
            "error_x": {
             "color": "#2a3f5f"
            },
            "error_y": {
             "color": "#2a3f5f"
            },
            "marker": {
             "line": {
              "color": "#E5ECF6",
              "width": 0.5
             },
             "pattern": {
              "fillmode": "overlay",
              "size": 10,
              "solidity": 0.2
             }
            },
            "type": "bar"
           }
          ],
          "barpolar": [
           {
            "marker": {
             "line": {
              "color": "#E5ECF6",
              "width": 0.5
             },
             "pattern": {
              "fillmode": "overlay",
              "size": 10,
              "solidity": 0.2
             }
            },
            "type": "barpolar"
           }
          ],
          "carpet": [
           {
            "aaxis": {
             "endlinecolor": "#2a3f5f",
             "gridcolor": "white",
             "linecolor": "white",
             "minorgridcolor": "white",
             "startlinecolor": "#2a3f5f"
            },
            "baxis": {
             "endlinecolor": "#2a3f5f",
             "gridcolor": "white",
             "linecolor": "white",
             "minorgridcolor": "white",
             "startlinecolor": "#2a3f5f"
            },
            "type": "carpet"
           }
          ],
          "choropleth": [
           {
            "colorbar": {
             "outlinewidth": 0,
             "ticks": ""
            },
            "type": "choropleth"
           }
          ],
          "contour": [
           {
            "colorbar": {
             "outlinewidth": 0,
             "ticks": ""
            },
            "colorscale": [
             [
              0,
              "#0d0887"
             ],
             [
              0.1111111111111111,
              "#46039f"
             ],
             [
              0.2222222222222222,
              "#7201a8"
             ],
             [
              0.3333333333333333,
              "#9c179e"
             ],
             [
              0.4444444444444444,
              "#bd3786"
             ],
             [
              0.5555555555555556,
              "#d8576b"
             ],
             [
              0.6666666666666666,
              "#ed7953"
             ],
             [
              0.7777777777777778,
              "#fb9f3a"
             ],
             [
              0.8888888888888888,
              "#fdca26"
             ],
             [
              1,
              "#f0f921"
             ]
            ],
            "type": "contour"
           }
          ],
          "contourcarpet": [
           {
            "colorbar": {
             "outlinewidth": 0,
             "ticks": ""
            },
            "type": "contourcarpet"
           }
          ],
          "heatmap": [
           {
            "colorbar": {
             "outlinewidth": 0,
             "ticks": ""
            },
            "colorscale": [
             [
              0,
              "#0d0887"
             ],
             [
              0.1111111111111111,
              "#46039f"
             ],
             [
              0.2222222222222222,
              "#7201a8"
             ],
             [
              0.3333333333333333,
              "#9c179e"
             ],
             [
              0.4444444444444444,
              "#bd3786"
             ],
             [
              0.5555555555555556,
              "#d8576b"
             ],
             [
              0.6666666666666666,
              "#ed7953"
             ],
             [
              0.7777777777777778,
              "#fb9f3a"
             ],
             [
              0.8888888888888888,
              "#fdca26"
             ],
             [
              1,
              "#f0f921"
             ]
            ],
            "type": "heatmap"
           }
          ],
          "heatmapgl": [
           {
            "colorbar": {
             "outlinewidth": 0,
             "ticks": ""
            },
            "colorscale": [
             [
              0,
              "#0d0887"
             ],
             [
              0.1111111111111111,
              "#46039f"
             ],
             [
              0.2222222222222222,
              "#7201a8"
             ],
             [
              0.3333333333333333,
              "#9c179e"
             ],
             [
              0.4444444444444444,
              "#bd3786"
             ],
             [
              0.5555555555555556,
              "#d8576b"
             ],
             [
              0.6666666666666666,
              "#ed7953"
             ],
             [
              0.7777777777777778,
              "#fb9f3a"
             ],
             [
              0.8888888888888888,
              "#fdca26"
             ],
             [
              1,
              "#f0f921"
             ]
            ],
            "type": "heatmapgl"
           }
          ],
          "histogram": [
           {
            "marker": {
             "pattern": {
              "fillmode": "overlay",
              "size": 10,
              "solidity": 0.2
             }
            },
            "type": "histogram"
           }
          ],
          "histogram2d": [
           {
            "colorbar": {
             "outlinewidth": 0,
             "ticks": ""
            },
            "colorscale": [
             [
              0,
              "#0d0887"
             ],
             [
              0.1111111111111111,
              "#46039f"
             ],
             [
              0.2222222222222222,
              "#7201a8"
             ],
             [
              0.3333333333333333,
              "#9c179e"
             ],
             [
              0.4444444444444444,
              "#bd3786"
             ],
             [
              0.5555555555555556,
              "#d8576b"
             ],
             [
              0.6666666666666666,
              "#ed7953"
             ],
             [
              0.7777777777777778,
              "#fb9f3a"
             ],
             [
              0.8888888888888888,
              "#fdca26"
             ],
             [
              1,
              "#f0f921"
             ]
            ],
            "type": "histogram2d"
           }
          ],
          "histogram2dcontour": [
           {
            "colorbar": {
             "outlinewidth": 0,
             "ticks": ""
            },
            "colorscale": [
             [
              0,
              "#0d0887"
             ],
             [
              0.1111111111111111,
              "#46039f"
             ],
             [
              0.2222222222222222,
              "#7201a8"
             ],
             [
              0.3333333333333333,
              "#9c179e"
             ],
             [
              0.4444444444444444,
              "#bd3786"
             ],
             [
              0.5555555555555556,
              "#d8576b"
             ],
             [
              0.6666666666666666,
              "#ed7953"
             ],
             [
              0.7777777777777778,
              "#fb9f3a"
             ],
             [
              0.8888888888888888,
              "#fdca26"
             ],
             [
              1,
              "#f0f921"
             ]
            ],
            "type": "histogram2dcontour"
           }
          ],
          "mesh3d": [
           {
            "colorbar": {
             "outlinewidth": 0,
             "ticks": ""
            },
            "type": "mesh3d"
           }
          ],
          "parcoords": [
           {
            "line": {
             "colorbar": {
              "outlinewidth": 0,
              "ticks": ""
             }
            },
            "type": "parcoords"
           }
          ],
          "pie": [
           {
            "automargin": true,
            "type": "pie"
           }
          ],
          "scatter": [
           {
            "fillpattern": {
             "fillmode": "overlay",
             "size": 10,
             "solidity": 0.2
            },
            "type": "scatter"
           }
          ],
          "scatter3d": [
           {
            "line": {
             "colorbar": {
              "outlinewidth": 0,
              "ticks": ""
             }
            },
            "marker": {
             "colorbar": {
              "outlinewidth": 0,
              "ticks": ""
             }
            },
            "type": "scatter3d"
           }
          ],
          "scattercarpet": [
           {
            "marker": {
             "colorbar": {
              "outlinewidth": 0,
              "ticks": ""
             }
            },
            "type": "scattercarpet"
           }
          ],
          "scattergeo": [
           {
            "marker": {
             "colorbar": {
              "outlinewidth": 0,
              "ticks": ""
             }
            },
            "type": "scattergeo"
           }
          ],
          "scattergl": [
           {
            "marker": {
             "colorbar": {
              "outlinewidth": 0,
              "ticks": ""
             }
            },
            "type": "scattergl"
           }
          ],
          "scattermapbox": [
           {
            "marker": {
             "colorbar": {
              "outlinewidth": 0,
              "ticks": ""
             }
            },
            "type": "scattermapbox"
           }
          ],
          "scatterpolar": [
           {
            "marker": {
             "colorbar": {
              "outlinewidth": 0,
              "ticks": ""
             }
            },
            "type": "scatterpolar"
           }
          ],
          "scatterpolargl": [
           {
            "marker": {
             "colorbar": {
              "outlinewidth": 0,
              "ticks": ""
             }
            },
            "type": "scatterpolargl"
           }
          ],
          "scatterternary": [
           {
            "marker": {
             "colorbar": {
              "outlinewidth": 0,
              "ticks": ""
             }
            },
            "type": "scatterternary"
           }
          ],
          "surface": [
           {
            "colorbar": {
             "outlinewidth": 0,
             "ticks": ""
            },
            "colorscale": [
             [
              0,
              "#0d0887"
             ],
             [
              0.1111111111111111,
              "#46039f"
             ],
             [
              0.2222222222222222,
              "#7201a8"
             ],
             [
              0.3333333333333333,
              "#9c179e"
             ],
             [
              0.4444444444444444,
              "#bd3786"
             ],
             [
              0.5555555555555556,
              "#d8576b"
             ],
             [
              0.6666666666666666,
              "#ed7953"
             ],
             [
              0.7777777777777778,
              "#fb9f3a"
             ],
             [
              0.8888888888888888,
              "#fdca26"
             ],
             [
              1,
              "#f0f921"
             ]
            ],
            "type": "surface"
           }
          ],
          "table": [
           {
            "cells": {
             "fill": {
              "color": "#EBF0F8"
             },
             "line": {
              "color": "white"
             }
            },
            "header": {
             "fill": {
              "color": "#C8D4E3"
             },
             "line": {
              "color": "white"
             }
            },
            "type": "table"
           }
          ]
         },
         "layout": {
          "annotationdefaults": {
           "arrowcolor": "#2a3f5f",
           "arrowhead": 0,
           "arrowwidth": 1
          },
          "autotypenumbers": "strict",
          "coloraxis": {
           "colorbar": {
            "outlinewidth": 0,
            "ticks": ""
           }
          },
          "colorscale": {
           "diverging": [
            [
             0,
             "#8e0152"
            ],
            [
             0.1,
             "#c51b7d"
            ],
            [
             0.2,
             "#de77ae"
            ],
            [
             0.3,
             "#f1b6da"
            ],
            [
             0.4,
             "#fde0ef"
            ],
            [
             0.5,
             "#f7f7f7"
            ],
            [
             0.6,
             "#e6f5d0"
            ],
            [
             0.7,
             "#b8e186"
            ],
            [
             0.8,
             "#7fbc41"
            ],
            [
             0.9,
             "#4d9221"
            ],
            [
             1,
             "#276419"
            ]
           ],
           "sequential": [
            [
             0,
             "#0d0887"
            ],
            [
             0.1111111111111111,
             "#46039f"
            ],
            [
             0.2222222222222222,
             "#7201a8"
            ],
            [
             0.3333333333333333,
             "#9c179e"
            ],
            [
             0.4444444444444444,
             "#bd3786"
            ],
            [
             0.5555555555555556,
             "#d8576b"
            ],
            [
             0.6666666666666666,
             "#ed7953"
            ],
            [
             0.7777777777777778,
             "#fb9f3a"
            ],
            [
             0.8888888888888888,
             "#fdca26"
            ],
            [
             1,
             "#f0f921"
            ]
           ],
           "sequentialminus": [
            [
             0,
             "#0d0887"
            ],
            [
             0.1111111111111111,
             "#46039f"
            ],
            [
             0.2222222222222222,
             "#7201a8"
            ],
            [
             0.3333333333333333,
             "#9c179e"
            ],
            [
             0.4444444444444444,
             "#bd3786"
            ],
            [
             0.5555555555555556,
             "#d8576b"
            ],
            [
             0.6666666666666666,
             "#ed7953"
            ],
            [
             0.7777777777777778,
             "#fb9f3a"
            ],
            [
             0.8888888888888888,
             "#fdca26"
            ],
            [
             1,
             "#f0f921"
            ]
           ]
          },
          "colorway": [
           "#636efa",
           "#EF553B",
           "#00cc96",
           "#ab63fa",
           "#FFA15A",
           "#19d3f3",
           "#FF6692",
           "#B6E880",
           "#FF97FF",
           "#FECB52"
          ],
          "font": {
           "color": "#2a3f5f"
          },
          "geo": {
           "bgcolor": "white",
           "lakecolor": "white",
           "landcolor": "#E5ECF6",
           "showlakes": true,
           "showland": true,
           "subunitcolor": "white"
          },
          "hoverlabel": {
           "align": "left"
          },
          "hovermode": "closest",
          "mapbox": {
           "style": "light"
          },
          "paper_bgcolor": "white",
          "plot_bgcolor": "#E5ECF6",
          "polar": {
           "angularaxis": {
            "gridcolor": "white",
            "linecolor": "white",
            "ticks": ""
           },
           "bgcolor": "#E5ECF6",
           "radialaxis": {
            "gridcolor": "white",
            "linecolor": "white",
            "ticks": ""
           }
          },
          "scene": {
           "xaxis": {
            "backgroundcolor": "#E5ECF6",
            "gridcolor": "white",
            "gridwidth": 2,
            "linecolor": "white",
            "showbackground": true,
            "ticks": "",
            "zerolinecolor": "white"
           },
           "yaxis": {
            "backgroundcolor": "#E5ECF6",
            "gridcolor": "white",
            "gridwidth": 2,
            "linecolor": "white",
            "showbackground": true,
            "ticks": "",
            "zerolinecolor": "white"
           },
           "zaxis": {
            "backgroundcolor": "#E5ECF6",
            "gridcolor": "white",
            "gridwidth": 2,
            "linecolor": "white",
            "showbackground": true,
            "ticks": "",
            "zerolinecolor": "white"
           }
          },
          "shapedefaults": {
           "line": {
            "color": "#2a3f5f"
           }
          },
          "ternary": {
           "aaxis": {
            "gridcolor": "white",
            "linecolor": "white",
            "ticks": ""
           },
           "baxis": {
            "gridcolor": "white",
            "linecolor": "white",
            "ticks": ""
           },
           "bgcolor": "#E5ECF6",
           "caxis": {
            "gridcolor": "white",
            "linecolor": "white",
            "ticks": ""
           }
          },
          "title": {
           "x": 0.05
          },
          "xaxis": {
           "automargin": true,
           "gridcolor": "white",
           "linecolor": "white",
           "ticks": "",
           "title": {
            "standoff": 15
           },
           "zerolinecolor": "white",
           "zerolinewidth": 2
          },
          "yaxis": {
           "automargin": true,
           "gridcolor": "white",
           "linecolor": "white",
           "ticks": "",
           "title": {
            "standoff": 15
           },
           "zerolinecolor": "white",
           "zerolinewidth": 2
          }
         }
        },
        "title": {
         "text": "Total de Pasajeros por Región (2005-2016)"
        },
        "xaxis": {
         "anchor": "y",
         "domain": [
          0,
          1
         ],
         "title": {
          "text": "Región"
         }
        },
        "yaxis": {
         "anchor": "x",
         "domain": [
          0,
          1
         ],
         "title": {
          "text": "Total de Pasajeros"
         }
        }
       }
      }
     },
     "metadata": {},
     "output_type": "display_data"
    }
   ],
   "source": [
    "# Convertir a Pandas \n",
    "total_pass_region_summary_pd = total_pass_region_summary.toPandas()\n",
    "\n",
    "# Crear el gráfico de líneas\n",
    "fig = px.line(\n",
    "    total_pass_region_summary_pd,\n",
    "    x=\"GEO Region\",\n",
    "    y=\"Total Adjusted Passengers\",\n",
    "    title=\"Total de Pasajeros por Región (2005-2016)\",\n",
    "    labels={\"Total Adjusted Passengers\": \"Total de Pasajeros\", \"GEO Region\": \"Región\"}\n",
    ")\n",
    "\n",
    "# Mostrar el gráfico\n",
    "fig.show()"
   ]
  },
  {
   "cell_type": "markdown",
   "metadata": {},
   "source": [
    "![](newplot4.png)"
   ]
  },
  {
   "cell_type": "markdown",
   "metadata": {},
   "source": [
    "<div style=\"letter-spacing: 0.5px; text-align: justify; font-size: 14px;\">\n",
    ". Promedio mensual de pasajeros por región para el período 2005-2016\n",
    "</div>"
   ]
  },
  {
   "cell_type": "code",
   "execution_count": 28,
   "metadata": {},
   "outputs": [
    {
     "name": "stdout",
     "output_type": "stream",
     "text": [
      "+-------------------+-----------------------------+\n",
      "|GEO Region         |Mean Adjusted Passenger Count|\n",
      "+-------------------+-----------------------------+\n",
      "|US                 |58485.88                     |\n",
      "|Asia               |13508.55                     |\n",
      "|Europe             |12779.06                     |\n",
      "|Canada             |9803.79                      |\n",
      "|Middle East        |8658.61                      |\n",
      "|Mexico             |7250.9                       |\n",
      "|Australia / Oceania|6495.1                       |\n",
      "|Central America    |4946.72                      |\n",
      "|South America      |2786.01                      |\n",
      "+-------------------+-----------------------------+\n",
      "\n"
     ]
    }
   ],
   "source": [
    "# Agrupar por \"GEO Region\" y obtener el promedio de \"Adjusted Passenger Count\"\n",
    "avg_pass_region = df_1.groupBy(\"GEO Region\").agg(\n",
    "    F.round(F.mean(\"Adjusted Passenger Count\"),2).alias(\"Mean Adjusted Passenger Count\")\n",
    ").orderBy(\"Mean Adjusted Passenger Count\", ascending=False)\n",
    "\n",
    "# Mostrar el resultado\n",
    "avg_pass_region.show(truncate=False)"
   ]
  },
  {
   "cell_type": "markdown",
   "metadata": {},
   "source": [
    "<div style=\"letter-spacing: 0.5px; text-align: justify; font-size: 14px;\">\n",
    ". Total de meses registrados por region en el período 2005-2016 \n",
    "</div>"
   ]
  },
  {
   "cell_type": "markdown",
   "metadata": {},
   "source": [
    "<div style=\"letter-spacing: 0.5px; text-align: justify; font-size: 12px;\">\n",
    "Las rutas domésticas de US acumulan 5797 meses, en tanto South America solo 90 meses. Asia 3297.\n",
    "</div>"
   ]
  },
  {
   "cell_type": "code",
   "execution_count": 29,
   "metadata": {},
   "outputs": [
    {
     "name": "stdout",
     "output_type": "stream",
     "text": [
      "+-------------------+---------------+\n",
      "|GEO Region         |Months Recorded|\n",
      "+-------------------+---------------+\n",
      "|US                 |5797           |\n",
      "|Asia               |3273           |\n",
      "|Europe             |2089           |\n",
      "|Canada             |1418           |\n",
      "|Mexico             |1115           |\n",
      "|Australia / Oceania|737            |\n",
      "|Central America    |274            |\n",
      "|Middle East        |214            |\n",
      "|South America      |90             |\n",
      "+-------------------+---------------+\n",
      "\n"
     ]
    }
   ],
   "source": [
    "# Contar el número de meses registrados por cada región\n",
    "region_months_count = df_1.groupBy(\"GEO Region\").agg(\n",
    "    F.count(\"Adjusted Passenger Count\").alias(\"Months Recorded\")\n",
    ").orderBy([\"Months Recorded\", \"GEO Region\"], ascending=[False, False])\n",
    "\n",
    "# Mostrar cuántos meses están registrados por región\n",
    "region_months_count.show(truncate=False)"
   ]
  },
  {
   "cell_type": "markdown",
   "metadata": {},
   "source": [
    "<div style=\"letter-spacing: 0.5px; text-align: justify; font-size: 14px;\">\n",
    ". Total de pasajeros por destino, región, terminal y boarding area 2005-2016\n",
    "</div>"
   ]
  },
  {
   "cell_type": "markdown",
   "metadata": {},
   "source": [
    "<div style=\"letter-spacing: 0.5px; text-align: justify; font-size: 12px;\">\n",
    "El uso de los terminales y las áreas de abordaje muestra un patrón de uso variable. Algunas rutas internacionales (Asia, Canada, Mexico) usan las terminales de los vuelos nacionales en tanto algunas rutas domésticas movilizan a los pasajeros desde el aeropuerto internacional. Habría que profundizar si existe algun patrón definido para este uso. ¿La asignación del terminal y boarding area esta relacionado con el flujo de pasajeros de las aerolíneas?.\n",
    "</div>"
   ]
  },
  {
   "cell_type": "code",
   "execution_count": 30,
   "metadata": {},
   "outputs": [
    {
     "name": "stdout",
     "output_type": "stream",
     "text": [
      "+-------------------+-------------+-------------+-------------+-------------------------+\n",
      "|GEO Region         |GEO Summary  |Terminal     |Boarding Area|Total Adjusted Passengers|\n",
      "+-------------------+-------------+-------------+-------------+-------------------------+\n",
      "|Asia               |International|International|G            |28125128                 |\n",
      "|Asia               |International|International|A            |16087649                 |\n",
      "|Asia               |International|Terminal 3   |F            |712                      |\n",
      "|Asia               |International|Other        |Other        |4                        |\n",
      "|Australia / Oceania|International|International|G            |4118069                  |\n",
      "|Australia / Oceania|International|International|A            |668823                   |\n",
      "|Canada             |International|Terminal 3   |F            |5667272                  |\n",
      "|Canada             |International|Terminal 3   |E            |2902198                  |\n",
      "|Canada             |International|International|G            |2232081                  |\n",
      "|Canada             |International|International|A            |2071949                  |\n",
      "|Canada             |International|Terminal 1   |B            |1028276                  |\n",
      "|Central America    |International|International|A            |1189484                  |\n",
      "|Central America    |International|International|G            |165916                   |\n",
      "|Europe             |International|International|G            |13856926                 |\n",
      "|Europe             |International|International|A            |12838520                 |\n",
      "|Mexico             |International|International|G            |4352217                  |\n",
      "|Mexico             |International|International|A            |2883191                  |\n",
      "|Mexico             |International|Terminal 1   |B            |448562                   |\n",
      "|Mexico             |International|Terminal 2   |D            |258426                   |\n",
      "|Mexico             |International|Terminal 3   |F            |138327                   |\n",
      "|Mexico             |International|Terminal 3   |E            |4029                     |\n",
      "|Middle East        |International|International|A            |1294635                  |\n",
      "|Middle East        |International|International|G            |558308                   |\n",
      "|South America      |International|International|A            |250741                   |\n",
      "|US                 |Domestic     |Terminal 3   |F            |133389225                |\n",
      "|US                 |Domestic     |Terminal 1   |B            |66056481                 |\n",
      "|US                 |Domestic     |Terminal 1   |C            |42298443                 |\n",
      "|US                 |Domestic     |Terminal 3   |E            |38010989                 |\n",
      "|US                 |Domestic     |Terminal 2   |D            |33801814                 |\n",
      "|US                 |Domestic     |International|A            |20515653                 |\n",
      "|US                 |Domestic     |International|G            |4560509                  |\n",
      "|US                 |Domestic     |Terminal 1   |A            |409316                   |\n",
      "|US                 |Domestic     |Other        |Other        |207                      |\n",
      "+-------------------+-------------+-------------+-------------+-------------------------+\n",
      "\n"
     ]
    }
   ],
   "source": [
    "# Agrupar y sumar 'Adjusted Passenger Count', luego ordenar por 'GEO Region' y total de pasajeros\n",
    "total_pass_region_terminal_boarding_pd = (\n",
    "    df_1.groupBy(\"GEO Region\", \"GEO Summary\", \"Terminal\", \"Boarding Area\")\n",
    "    .agg(F.sum(\"Adjusted Passenger Count\").alias(\"Total Adjusted Passengers\"))\n",
    "    .orderBy(\"GEO Region\", F.col(\"Total Adjusted Passengers\").desc())\n",
    ")\n",
    "\n",
    "# Mostrar el resultado\n",
    "total_pass_region_terminal_boarding_pd.show(50,truncate=False)"
   ]
  },
  {
   "cell_type": "markdown",
   "metadata": {},
   "source": [
    "<div style=\"letter-spacing: 0.5px; text-align: justify; font-size: 14px;\">\n",
    ". Principales 5 aerolíneas por Región 2005-2016\n",
    "</div>"
   ]
  },
  {
   "cell_type": "code",
   "execution_count": 31,
   "metadata": {},
   "outputs": [
    {
     "name": "stdout",
     "output_type": "stream",
     "text": [
      "+-------------------+--------------------------------+----------------+----+\n",
      "|GEO Region         |Operating Airline               |Total Passengers|Rank|\n",
      "+-------------------+--------------------------------+----------------+----+\n",
      "|Asia               |United Airlines - Pre 07/01/2013|13053369        |1   |\n",
      "|Asia               |United Airlines                 |4499526         |2   |\n",
      "|Asia               |Cathay Pacific                  |4417302         |3   |\n",
      "|Asia               |Singapore Airlines              |3804635         |4   |\n",
      "|Asia               |EVA Airways                     |3384020         |5   |\n",
      "|Australia / Oceania|Air New Zealand                 |1930156         |1   |\n",
      "|Australia / Oceania|United Airlines - Pre 07/01/2013|1691485         |2   |\n",
      "|Australia / Oceania|Qantas Airways                  |668823          |3   |\n",
      "|Australia / Oceania|United Airlines                 |496428          |4   |\n",
      "|Canada             |Air Canada                      |6680071         |1   |\n",
      "|Canada             |SkyWest Airlines                |2643424         |2   |\n",
      "|Canada             |United Airlines - Pre 07/01/2013|2591394         |3   |\n",
      "|Canada             |United Airlines                 |871340          |4   |\n",
      "|Canada             |WestJet Airlines                |549830          |5   |\n",
      "|Central America    |TACA                            |1307079         |1   |\n",
      "|Central America    |COPA Airlines, Inc.             |47853           |2   |\n",
      "|Central America    |Swissport USA                   |468             |3   |\n",
      "|Europe             |United Airlines - Pre 07/01/2013|5120052         |1   |\n",
      "|Europe             |Lufthansa German Airlines       |4979907         |2   |\n",
      "|Europe             |British Airways                 |4547282         |3   |\n",
      "|Europe             |Air France                      |2989982         |4   |\n",
      "|Europe             |Virgin Atlantic                 |2540553         |5   |\n",
      "|Mexico             |United Airlines - Pre 07/01/2013|2119488         |1   |\n",
      "|Mexico             |Alaska Airlines                 |2056280         |2   |\n",
      "|Mexico             |United Airlines                 |1381845         |3   |\n",
      "|Mexico             |Mexicana Airlines               |991232          |4   |\n",
      "|Mexico             |Aeromexico                      |983488          |5   |\n",
      "|Middle East        |Emirates                        |1632756         |1   |\n",
      "|Middle East        |Etihad Airways                  |220187          |2   |\n",
      "|South America      |LAN Peru                        |250741          |1   |\n",
      "|US                 |United Airlines - Pre 07/01/2013|81757535        |1   |\n",
      "|US                 |United Airlines                 |55687965        |2   |\n",
      "|US                 |American Airlines               |34588714        |3   |\n",
      "|US                 |SkyWest Airlines                |33068349        |4   |\n",
      "|US                 |Virgin America                  |26350566        |5   |\n",
      "+-------------------+--------------------------------+----------------+----+\n",
      "\n"
     ]
    }
   ],
   "source": [
    "# Agrupar por 'GEO Region' y 'Operating Airline', calcular el total de pasajeros y asignar ranking\n",
    "ranked_airlines_region = (\n",
    "    df_1.groupBy(\"GEO Region\", \"Operating Airline\")\n",
    "    .agg(F.sum(\"Adjusted Passenger Count\").alias(\"Total Passengers\"))\n",
    "    .withColumn(\"Rank\", F.row_number().over(Window.partitionBy(\"GEO Region\").orderBy(F.col(\"Total Passengers\").desc())))\n",
    "    .filter(F.col(\"Rank\") <= 5)  # Filtrar las 5 principales aerolíneas por región\n",
    "    .orderBy(\"GEO Region\", \"Rank\")\n",
    ")\n",
    "\n",
    "# Mostrar los resultados\n",
    "ranked_airlines_region.show(50, truncate=False)"
   ]
  },
  {
   "cell_type": "code",
   "execution_count": 32,
   "metadata": {},
   "outputs": [
    {
     "name": "stdout",
     "output_type": "stream",
     "text": [
      "+-------------+----------------+-------------------+\n",
      "|GEO Summary  |Total Passengers|Percentage of Total|\n",
      "+-------------+----------------+-------------------+\n",
      "|International|33849703        |19.761033821828626 |\n",
      "|Domestic     |137445500       |80.23896617817138  |\n",
      "+-------------+----------------+-------------------+\n",
      "\n"
     ]
    }
   ],
   "source": [
    "# Filtrar solo los datos de United Airlines y agrupar por GEO Summary\n",
    "united_passengers_by_geo = (\n",
    "    df_1.filter(F.col(\"Operating Airline\")\\\n",
    "    .isin(\"United Airlines\", \"United Airlines - Pre 07/01/2013\"))\n",
    "    .groupBy(\"GEO Summary\")\n",
    "    .agg(F.sum(\"Adjusted Passenger Count\").alias(\"Total Passengers\", ))\n",
    ")\n",
    "\n",
    "# Calcular el total general de pasajeros para United Airlines\n",
    "total_passengers = united_passengers_by_geo.agg(F.sum(\"Total Passengers\")\\\n",
    "    .alias(\"Total Overall\")).collect()[0][\"Total Overall\"]\n",
    "\n",
    "# Agregar la columna del porcentaje\n",
    "united_passengers_by_geo = united_passengers_by_geo.withColumn(\n",
    "    \"Percentage of Total\", F.col(\"Total Passengers\") / total_passengers * 100\n",
    ")\n",
    "\n",
    "# Mostrar los resultados\n",
    "united_passengers_by_geo.show(truncate=False)\n"
   ]
  },
  {
   "cell_type": "markdown",
   "metadata": {},
   "source": [
    "<div style=\"letter-spacing: 0.5px; text-align: justify; font-size: 12px;\">\n",
    "United Airlines es la principal operadora, por el número de pasajeros movilizados, en US, Asia, Europa y Mexico y con una cuota importante de mercado en Australia/Oceania y Canada. \n",
    "</div>"
   ]
  },
  {
   "cell_type": "code",
   "execution_count": 33,
   "metadata": {},
   "outputs": [
    {
     "data": {
      "application/vnd.plotly.v1+json": {
       "config": {
        "plotlyServerURL": "https://plot.ly"
       },
       "data": [
        {
         "hovertemplate": "Operating Airline=United Airlines - Pre 07/01/2013<br>GEO Region=%{x}<br>Y_Jitter=%{y}<br>Total Passengers=%{marker.size}<extra></extra>",
         "legendgroup": "United Airlines - Pre 07/01/2013",
         "marker": {
          "color": "#636efa",
          "size": [
           13053369,
           1691485,
           2591394,
           5120052,
           2119488,
           81757535
          ],
          "sizemode": "area",
          "sizeref": 22710.42638888889,
          "symbol": "circle"
         },
         "mode": "markers",
         "name": "United Airlines - Pre 07/01/2013",
         "orientation": "v",
         "showlegend": true,
         "textposition": "top center",
         "type": "scatter",
         "x": [
          "Asia",
          "Australia / Oceania",
          "Canada",
          "Europe",
          "Mexico",
          "US"
         ],
         "xaxis": "x",
         "y": [
          12933722.397513494,
          1901901.359320407,
          2482101.6892647,
          5028649.07240896,
          2567195.588137066,
          81466057.81299421
         ],
         "yaxis": "y"
        },
        {
         "hovertemplate": "Operating Airline=United Airlines<br>GEO Region=%{x}<br>Y_Jitter=%{y}<br>Total Passengers=%{marker.size}<extra></extra>",
         "legendgroup": "United Airlines",
         "marker": {
          "color": "#EF553B",
          "size": [
           4499526,
           496428,
           871340,
           1381845,
           55687965
          ],
          "sizemode": "area",
          "sizeref": 22710.42638888889,
          "symbol": "circle"
         },
         "mode": "markers",
         "name": "United Airlines",
         "orientation": "v",
         "showlegend": true,
         "textposition": "top center",
         "type": "scatter",
         "x": [
          "Asia",
          "Australia / Oceania",
          "Canada",
          "Mexico",
          "US"
         ],
         "xaxis": "x",
         "y": [
          4448054.786356826,
          420831.48067184497,
          376093.0587222605,
          1103469.2387760372,
          55359801.31969083
         ],
         "yaxis": "y"
        },
        {
         "hovertemplate": "Operating Airline=Cathay Pacific<br>GEO Region=%{x}<br>Y_Jitter=%{y}<br>Total Passengers=%{marker.size}<extra></extra>",
         "legendgroup": "Cathay Pacific",
         "marker": {
          "color": "#00cc96",
          "size": [
           4417302
          ],
          "sizemode": "area",
          "sizeref": 22710.42638888889,
          "symbol": "circle"
         },
         "mode": "markers",
         "name": "Cathay Pacific",
         "orientation": "v",
         "showlegend": true,
         "textposition": "top center",
         "type": "scatter",
         "x": [
          "Asia"
         ],
         "xaxis": "x",
         "y": [
          4723558.203227925
         ],
         "yaxis": "y"
        },
        {
         "hovertemplate": "Operating Airline=Singapore Airlines<br>GEO Region=%{x}<br>Y_Jitter=%{y}<br>Total Passengers=%{marker.size}<extra></extra>",
         "legendgroup": "Singapore Airlines",
         "marker": {
          "color": "#ab63fa",
          "size": [
           3804635
          ],
          "sizemode": "area",
          "sizeref": 22710.42638888889,
          "symbol": "circle"
         },
         "mode": "markers",
         "name": "Singapore Airlines",
         "orientation": "v",
         "showlegend": true,
         "textposition": "top center",
         "type": "scatter",
         "x": [
          "Asia"
         ],
         "xaxis": "x",
         "y": [
          4200887.105482051
         ],
         "yaxis": "y"
        },
        {
         "hovertemplate": "Operating Airline=EVA Airways<br>GEO Region=%{x}<br>Y_Jitter=%{y}<br>Total Passengers=%{marker.size}<extra></extra>",
         "legendgroup": "EVA Airways",
         "marker": {
          "color": "#FFA15A",
          "size": [
           3384020
          ],
          "sizemode": "area",
          "sizeref": 22710.42638888889,
          "symbol": "circle"
         },
         "mode": "markers",
         "name": "EVA Airways",
         "orientation": "v",
         "showlegend": true,
         "textposition": "top center",
         "type": "scatter",
         "x": [
          "Asia"
         ],
         "xaxis": "x",
         "y": [
          3234881.7617662693
         ],
         "yaxis": "y"
        },
        {
         "hovertemplate": "Operating Airline=Air New Zealand<br>GEO Region=%{x}<br>Y_Jitter=%{y}<br>Total Passengers=%{marker.size}<extra></extra>",
         "legendgroup": "Air New Zealand",
         "marker": {
          "color": "#19d3f3",
          "size": [
           1930156
          ],
          "sizemode": "area",
          "sizeref": 22710.42638888889,
          "symbol": "circle"
         },
         "mode": "markers",
         "name": "Air New Zealand",
         "orientation": "v",
         "showlegend": true,
         "textposition": "top center",
         "type": "scatter",
         "x": [
          "Australia / Oceania"
         ],
         "xaxis": "x",
         "y": [
          2123937.0407974557
         ],
         "yaxis": "y"
        },
        {
         "hovertemplate": "Operating Airline=Qantas Airways<br>GEO Region=%{x}<br>Y_Jitter=%{y}<br>Total Passengers=%{marker.size}<extra></extra>",
         "legendgroup": "Qantas Airways",
         "marker": {
          "color": "#FF6692",
          "size": [
           668823
          ],
          "sizemode": "area",
          "sizeref": 22710.42638888889,
          "symbol": "circle"
         },
         "mode": "markers",
         "name": "Qantas Airways",
         "orientation": "v",
         "showlegend": true,
         "textposition": "top center",
         "type": "scatter",
         "x": [
          "Australia / Oceania"
         ],
         "xaxis": "x",
         "y": [
          717135.3687886093
         ],
         "yaxis": "y"
        },
        {
         "hovertemplate": "Operating Airline=Air Canada <br>GEO Region=%{x}<br>Y_Jitter=%{y}<br>Total Passengers=%{marker.size}<extra></extra>",
         "legendgroup": "Air Canada ",
         "marker": {
          "color": "#B6E880",
          "size": [
           6680071
          ],
          "sizemode": "area",
          "sizeref": 22710.42638888889,
          "symbol": "circle"
         },
         "mode": "markers",
         "name": "Air Canada ",
         "orientation": "v",
         "showlegend": true,
         "textposition": "top center",
         "type": "scatter",
         "x": [
          "Canada"
         ],
         "xaxis": "x",
         "y": [
          6547230.468560434
         ],
         "yaxis": "y"
        },
        {
         "hovertemplate": "Operating Airline=SkyWest Airlines<br>GEO Region=%{x}<br>Y_Jitter=%{y}<br>Total Passengers=%{marker.size}<extra></extra>",
         "legendgroup": "SkyWest Airlines",
         "marker": {
          "color": "#FF97FF",
          "size": [
           2643424,
           33068349
          ],
          "sizemode": "area",
          "sizeref": 22710.42638888889,
          "symbol": "circle"
         },
         "mode": "markers",
         "name": "SkyWest Airlines",
         "orientation": "v",
         "showlegend": true,
         "textposition": "top center",
         "type": "scatter",
         "x": [
          "Canada",
          "US"
         ],
         "xaxis": "x",
         "y": [
          2553448.585308357,
          32924189.85911431
         ],
         "yaxis": "y"
        },
        {
         "hovertemplate": "Operating Airline=WestJet Airlines<br>GEO Region=%{x}<br>Y_Jitter=%{y}<br>Total Passengers=%{marker.size}<extra></extra>",
         "legendgroup": "WestJet Airlines",
         "marker": {
          "color": "#FECB52",
          "size": [
           549830
          ],
          "sizemode": "area",
          "sizeref": 22710.42638888889,
          "symbol": "circle"
         },
         "mode": "markers",
         "name": "WestJet Airlines",
         "orientation": "v",
         "showlegend": true,
         "textposition": "top center",
         "type": "scatter",
         "x": [
          "Canada"
         ],
         "xaxis": "x",
         "y": [
          406771.5277610779
         ],
         "yaxis": "y"
        },
        {
         "hovertemplate": "Operating Airline=TACA<br>GEO Region=%{x}<br>Y_Jitter=%{y}<br>Total Passengers=%{marker.size}<extra></extra>",
         "legendgroup": "TACA",
         "marker": {
          "color": "#636efa",
          "size": [
           1307079
          ],
          "sizemode": "area",
          "sizeref": 22710.42638888889,
          "symbol": "circle"
         },
         "mode": "markers",
         "name": "TACA",
         "orientation": "v",
         "showlegend": true,
         "textposition": "top center",
         "type": "scatter",
         "x": [
          "Central America"
         ],
         "xaxis": "x",
         "y": [
          1136013.8400777131
         ],
         "yaxis": "y"
        },
        {
         "hovertemplate": "Operating Airline=COPA Airlines, Inc.<br>GEO Region=%{x}<br>Y_Jitter=%{y}<br>Total Passengers=%{marker.size}<extra></extra>",
         "legendgroup": "COPA Airlines, Inc.",
         "marker": {
          "color": "#EF553B",
          "size": [
           47853
          ],
          "sizemode": "area",
          "sizeref": 22710.42638888889,
          "symbol": "circle"
         },
         "mode": "markers",
         "name": "COPA Airlines, Inc.",
         "orientation": "v",
         "showlegend": true,
         "textposition": "top center",
         "type": "scatter",
         "x": [
          "Central America"
         ],
         "xaxis": "x",
         "y": [
          -342991.91052976553
         ],
         "yaxis": "y"
        },
        {
         "hovertemplate": "Operating Airline=Swissport USA<br>GEO Region=%{x}<br>Y_Jitter=%{y}<br>Total Passengers=%{marker.size}<extra></extra>",
         "legendgroup": "Swissport USA",
         "marker": {
          "color": "#00cc96",
          "size": [
           468
          ],
          "sizemode": "area",
          "sizeref": 22710.42638888889,
          "symbol": "circle"
         },
         "mode": "markers",
         "name": "Swissport USA",
         "orientation": "v",
         "showlegend": true,
         "textposition": "top center",
         "type": "scatter",
         "x": [
          "Central America"
         ],
         "xaxis": "x",
         "y": [
          -389002.10157852503
         ],
         "yaxis": "y"
        },
        {
         "hovertemplate": "Operating Airline=Lufthansa German Airlines<br>GEO Region=%{x}<br>Y_Jitter=%{y}<br>Total Passengers=%{marker.size}<extra></extra>",
         "legendgroup": "Lufthansa German Airlines",
         "marker": {
          "color": "#ab63fa",
          "size": [
           4979907
          ],
          "sizemode": "area",
          "sizeref": 22710.42638888889,
          "symbol": "circle"
         },
         "mode": "markers",
         "name": "Lufthansa German Airlines",
         "orientation": "v",
         "showlegend": true,
         "textposition": "top center",
         "type": "scatter",
         "x": [
          "Europe"
         ],
         "xaxis": "x",
         "y": [
          5341374.5002838075
         ],
         "yaxis": "y"
        },
        {
         "hovertemplate": "Operating Airline=British Airways<br>GEO Region=%{x}<br>Y_Jitter=%{y}<br>Total Passengers=%{marker.size}<extra></extra>",
         "legendgroup": "British Airways",
         "marker": {
          "color": "#FFA15A",
          "size": [
           4547282
          ],
          "sizemode": "area",
          "sizeref": 22710.42638888889,
          "symbol": "circle"
         },
         "mode": "markers",
         "name": "British Airways",
         "orientation": "v",
         "showlegend": true,
         "textposition": "top center",
         "type": "scatter",
         "x": [
          "Europe"
         ],
         "xaxis": "x",
         "y": [
          4616064.246463296
         ],
         "yaxis": "y"
        },
        {
         "hovertemplate": "Operating Airline=Air France<br>GEO Region=%{x}<br>Y_Jitter=%{y}<br>Total Passengers=%{marker.size}<extra></extra>",
         "legendgroup": "Air France",
         "marker": {
          "color": "#19d3f3",
          "size": [
           2989982
          ],
          "sizemode": "area",
          "sizeref": 22710.42638888889,
          "symbol": "circle"
         },
         "mode": "markers",
         "name": "Air France",
         "orientation": "v",
         "showlegend": true,
         "textposition": "top center",
         "type": "scatter",
         "x": [
          "Europe"
         ],
         "xaxis": "x",
         "y": [
          3117422.3691285043
         ],
         "yaxis": "y"
        },
        {
         "hovertemplate": "Operating Airline=Virgin Atlantic<br>GEO Region=%{x}<br>Y_Jitter=%{y}<br>Total Passengers=%{marker.size}<extra></extra>",
         "legendgroup": "Virgin Atlantic",
         "marker": {
          "color": "#FF6692",
          "size": [
           2540553
          ],
          "sizemode": "area",
          "sizeref": 22710.42638888889,
          "symbol": "circle"
         },
         "mode": "markers",
         "name": "Virgin Atlantic",
         "orientation": "v",
         "showlegend": true,
         "textposition": "top center",
         "type": "scatter",
         "x": [
          "Europe"
         ],
         "xaxis": "x",
         "y": [
          2735078.3208129206
         ],
         "yaxis": "y"
        },
        {
         "hovertemplate": "Operating Airline=Alaska Airlines<br>GEO Region=%{x}<br>Y_Jitter=%{y}<br>Total Passengers=%{marker.size}<extra></extra>",
         "legendgroup": "Alaska Airlines",
         "marker": {
          "color": "#B6E880",
          "size": [
           2056280
          ],
          "sizemode": "area",
          "sizeref": 22710.42638888889,
          "symbol": "circle"
         },
         "mode": "markers",
         "name": "Alaska Airlines",
         "orientation": "v",
         "showlegend": true,
         "textposition": "top center",
         "type": "scatter",
         "x": [
          "Mexico"
         ],
         "xaxis": "x",
         "y": [
          1595283.8599518978
         ],
         "yaxis": "y"
        },
        {
         "hovertemplate": "Operating Airline=Mexicana Airlines<br>GEO Region=%{x}<br>Y_Jitter=%{y}<br>Total Passengers=%{marker.size}<extra></extra>",
         "legendgroup": "Mexicana Airlines",
         "marker": {
          "color": "#FF97FF",
          "size": [
           991232
          ],
          "sizemode": "area",
          "sizeref": 22710.42638888889,
          "symbol": "circle"
         },
         "mode": "markers",
         "name": "Mexicana Airlines",
         "orientation": "v",
         "showlegend": true,
         "textposition": "top center",
         "type": "scatter",
         "x": [
          "Mexico"
         ],
         "xaxis": "x",
         "y": [
          842565.9802854009
         ],
         "yaxis": "y"
        },
        {
         "hovertemplate": "Operating Airline=Aeromexico<br>GEO Region=%{x}<br>Y_Jitter=%{y}<br>Total Passengers=%{marker.size}<extra></extra>",
         "legendgroup": "Aeromexico",
         "marker": {
          "color": "#FECB52",
          "size": [
           983488
          ],
          "sizemode": "area",
          "sizeref": 22710.42638888889,
          "symbol": "circle"
         },
         "mode": "markers",
         "name": "Aeromexico",
         "orientation": "v",
         "showlegend": true,
         "textposition": "top center",
         "type": "scatter",
         "x": [
          "Mexico"
         ],
         "xaxis": "x",
         "y": [
          1242663.916167183
         ],
         "yaxis": "y"
        },
        {
         "hovertemplate": "Operating Airline=Emirates <br>GEO Region=%{x}<br>Y_Jitter=%{y}<br>Total Passengers=%{marker.size}<extra></extra>",
         "legendgroup": "Emirates ",
         "marker": {
          "color": "#636efa",
          "size": [
           1632756
          ],
          "sizemode": "area",
          "sizeref": 22710.42638888889,
          "symbol": "circle"
         },
         "mode": "markers",
         "name": "Emirates ",
         "orientation": "v",
         "showlegend": true,
         "textposition": "top center",
         "type": "scatter",
         "x": [
          "Middle East"
         ],
         "xaxis": "x",
         "y": [
          1300138.8116989527
         ],
         "yaxis": "y"
        },
        {
         "hovertemplate": "Operating Airline=Etihad Airways<br>GEO Region=%{x}<br>Y_Jitter=%{y}<br>Total Passengers=%{marker.size}<extra></extra>",
         "legendgroup": "Etihad Airways",
         "marker": {
          "color": "#EF553B",
          "size": [
           220187
          ],
          "sizemode": "area",
          "sizeref": 22710.42638888889,
          "symbol": "circle"
         },
         "mode": "markers",
         "name": "Etihad Airways",
         "orientation": "v",
         "showlegend": true,
         "textposition": "top center",
         "type": "scatter",
         "x": [
          "Middle East"
         ],
         "xaxis": "x",
         "y": [
          101726.55775077431
         ],
         "yaxis": "y"
        },
        {
         "hovertemplate": "Operating Airline=LAN Peru<br>GEO Region=%{x}<br>Y_Jitter=%{y}<br>Total Passengers=%{marker.size}<extra></extra>",
         "legendgroup": "LAN Peru",
         "marker": {
          "color": "#00cc96",
          "size": [
           250741
          ],
          "sizemode": "area",
          "sizeref": 22710.42638888889,
          "symbol": "circle"
         },
         "mode": "markers",
         "name": "LAN Peru",
         "orientation": "v",
         "showlegend": true,
         "textposition": "top center",
         "type": "scatter",
         "x": [
          "South America"
         ],
         "xaxis": "x",
         "y": [
          398927.72145725007
         ],
         "yaxis": "y"
        },
        {
         "hovertemplate": "Operating Airline=American Airlines<br>GEO Region=%{x}<br>Y_Jitter=%{y}<br>Total Passengers=%{marker.size}<extra></extra>",
         "legendgroup": "American Airlines",
         "marker": {
          "color": "#ab63fa",
          "size": [
           34588714
          ],
          "sizemode": "area",
          "sizeref": 22710.42638888889,
          "symbol": "circle"
         },
         "mode": "markers",
         "name": "American Airlines",
         "orientation": "v",
         "showlegend": true,
         "textposition": "top center",
         "type": "scatter",
         "x": [
          "US"
         ],
         "xaxis": "x",
         "y": [
          34287440.025174
         ],
         "yaxis": "y"
        },
        {
         "hovertemplate": "Operating Airline=Virgin America<br>GEO Region=%{x}<br>Y_Jitter=%{y}<br>Total Passengers=%{marker.size}<extra></extra>",
         "legendgroup": "Virgin America",
         "marker": {
          "color": "#FFA15A",
          "size": [
           26350566
          ],
          "sizemode": "area",
          "sizeref": 22710.42638888889,
          "symbol": "circle"
         },
         "mode": "markers",
         "name": "Virgin America",
         "orientation": "v",
         "showlegend": true,
         "textposition": "top center",
         "type": "scatter",
         "x": [
          "US"
         ],
         "xaxis": "x",
         "y": [
          26566904.722986456
         ],
         "yaxis": "y"
        }
       ],
       "layout": {
        "legend": {
         "itemsizing": "constant",
         "title": {
          "text": "Operating Airline"
         },
         "tracegroupgap": 0
        },
        "template": {
         "data": {
          "bar": [
           {
            "error_x": {
             "color": "#2a3f5f"
            },
            "error_y": {
             "color": "#2a3f5f"
            },
            "marker": {
             "line": {
              "color": "#E5ECF6",
              "width": 0.5
             },
             "pattern": {
              "fillmode": "overlay",
              "size": 10,
              "solidity": 0.2
             }
            },
            "type": "bar"
           }
          ],
          "barpolar": [
           {
            "marker": {
             "line": {
              "color": "#E5ECF6",
              "width": 0.5
             },
             "pattern": {
              "fillmode": "overlay",
              "size": 10,
              "solidity": 0.2
             }
            },
            "type": "barpolar"
           }
          ],
          "carpet": [
           {
            "aaxis": {
             "endlinecolor": "#2a3f5f",
             "gridcolor": "white",
             "linecolor": "white",
             "minorgridcolor": "white",
             "startlinecolor": "#2a3f5f"
            },
            "baxis": {
             "endlinecolor": "#2a3f5f",
             "gridcolor": "white",
             "linecolor": "white",
             "minorgridcolor": "white",
             "startlinecolor": "#2a3f5f"
            },
            "type": "carpet"
           }
          ],
          "choropleth": [
           {
            "colorbar": {
             "outlinewidth": 0,
             "ticks": ""
            },
            "type": "choropleth"
           }
          ],
          "contour": [
           {
            "colorbar": {
             "outlinewidth": 0,
             "ticks": ""
            },
            "colorscale": [
             [
              0,
              "#0d0887"
             ],
             [
              0.1111111111111111,
              "#46039f"
             ],
             [
              0.2222222222222222,
              "#7201a8"
             ],
             [
              0.3333333333333333,
              "#9c179e"
             ],
             [
              0.4444444444444444,
              "#bd3786"
             ],
             [
              0.5555555555555556,
              "#d8576b"
             ],
             [
              0.6666666666666666,
              "#ed7953"
             ],
             [
              0.7777777777777778,
              "#fb9f3a"
             ],
             [
              0.8888888888888888,
              "#fdca26"
             ],
             [
              1,
              "#f0f921"
             ]
            ],
            "type": "contour"
           }
          ],
          "contourcarpet": [
           {
            "colorbar": {
             "outlinewidth": 0,
             "ticks": ""
            },
            "type": "contourcarpet"
           }
          ],
          "heatmap": [
           {
            "colorbar": {
             "outlinewidth": 0,
             "ticks": ""
            },
            "colorscale": [
             [
              0,
              "#0d0887"
             ],
             [
              0.1111111111111111,
              "#46039f"
             ],
             [
              0.2222222222222222,
              "#7201a8"
             ],
             [
              0.3333333333333333,
              "#9c179e"
             ],
             [
              0.4444444444444444,
              "#bd3786"
             ],
             [
              0.5555555555555556,
              "#d8576b"
             ],
             [
              0.6666666666666666,
              "#ed7953"
             ],
             [
              0.7777777777777778,
              "#fb9f3a"
             ],
             [
              0.8888888888888888,
              "#fdca26"
             ],
             [
              1,
              "#f0f921"
             ]
            ],
            "type": "heatmap"
           }
          ],
          "heatmapgl": [
           {
            "colorbar": {
             "outlinewidth": 0,
             "ticks": ""
            },
            "colorscale": [
             [
              0,
              "#0d0887"
             ],
             [
              0.1111111111111111,
              "#46039f"
             ],
             [
              0.2222222222222222,
              "#7201a8"
             ],
             [
              0.3333333333333333,
              "#9c179e"
             ],
             [
              0.4444444444444444,
              "#bd3786"
             ],
             [
              0.5555555555555556,
              "#d8576b"
             ],
             [
              0.6666666666666666,
              "#ed7953"
             ],
             [
              0.7777777777777778,
              "#fb9f3a"
             ],
             [
              0.8888888888888888,
              "#fdca26"
             ],
             [
              1,
              "#f0f921"
             ]
            ],
            "type": "heatmapgl"
           }
          ],
          "histogram": [
           {
            "marker": {
             "pattern": {
              "fillmode": "overlay",
              "size": 10,
              "solidity": 0.2
             }
            },
            "type": "histogram"
           }
          ],
          "histogram2d": [
           {
            "colorbar": {
             "outlinewidth": 0,
             "ticks": ""
            },
            "colorscale": [
             [
              0,
              "#0d0887"
             ],
             [
              0.1111111111111111,
              "#46039f"
             ],
             [
              0.2222222222222222,
              "#7201a8"
             ],
             [
              0.3333333333333333,
              "#9c179e"
             ],
             [
              0.4444444444444444,
              "#bd3786"
             ],
             [
              0.5555555555555556,
              "#d8576b"
             ],
             [
              0.6666666666666666,
              "#ed7953"
             ],
             [
              0.7777777777777778,
              "#fb9f3a"
             ],
             [
              0.8888888888888888,
              "#fdca26"
             ],
             [
              1,
              "#f0f921"
             ]
            ],
            "type": "histogram2d"
           }
          ],
          "histogram2dcontour": [
           {
            "colorbar": {
             "outlinewidth": 0,
             "ticks": ""
            },
            "colorscale": [
             [
              0,
              "#0d0887"
             ],
             [
              0.1111111111111111,
              "#46039f"
             ],
             [
              0.2222222222222222,
              "#7201a8"
             ],
             [
              0.3333333333333333,
              "#9c179e"
             ],
             [
              0.4444444444444444,
              "#bd3786"
             ],
             [
              0.5555555555555556,
              "#d8576b"
             ],
             [
              0.6666666666666666,
              "#ed7953"
             ],
             [
              0.7777777777777778,
              "#fb9f3a"
             ],
             [
              0.8888888888888888,
              "#fdca26"
             ],
             [
              1,
              "#f0f921"
             ]
            ],
            "type": "histogram2dcontour"
           }
          ],
          "mesh3d": [
           {
            "colorbar": {
             "outlinewidth": 0,
             "ticks": ""
            },
            "type": "mesh3d"
           }
          ],
          "parcoords": [
           {
            "line": {
             "colorbar": {
              "outlinewidth": 0,
              "ticks": ""
             }
            },
            "type": "parcoords"
           }
          ],
          "pie": [
           {
            "automargin": true,
            "type": "pie"
           }
          ],
          "scatter": [
           {
            "fillpattern": {
             "fillmode": "overlay",
             "size": 10,
             "solidity": 0.2
            },
            "type": "scatter"
           }
          ],
          "scatter3d": [
           {
            "line": {
             "colorbar": {
              "outlinewidth": 0,
              "ticks": ""
             }
            },
            "marker": {
             "colorbar": {
              "outlinewidth": 0,
              "ticks": ""
             }
            },
            "type": "scatter3d"
           }
          ],
          "scattercarpet": [
           {
            "marker": {
             "colorbar": {
              "outlinewidth": 0,
              "ticks": ""
             }
            },
            "type": "scattercarpet"
           }
          ],
          "scattergeo": [
           {
            "marker": {
             "colorbar": {
              "outlinewidth": 0,
              "ticks": ""
             }
            },
            "type": "scattergeo"
           }
          ],
          "scattergl": [
           {
            "marker": {
             "colorbar": {
              "outlinewidth": 0,
              "ticks": ""
             }
            },
            "type": "scattergl"
           }
          ],
          "scattermapbox": [
           {
            "marker": {
             "colorbar": {
              "outlinewidth": 0,
              "ticks": ""
             }
            },
            "type": "scattermapbox"
           }
          ],
          "scatterpolar": [
           {
            "marker": {
             "colorbar": {
              "outlinewidth": 0,
              "ticks": ""
             }
            },
            "type": "scatterpolar"
           }
          ],
          "scatterpolargl": [
           {
            "marker": {
             "colorbar": {
              "outlinewidth": 0,
              "ticks": ""
             }
            },
            "type": "scatterpolargl"
           }
          ],
          "scatterternary": [
           {
            "marker": {
             "colorbar": {
              "outlinewidth": 0,
              "ticks": ""
             }
            },
            "type": "scatterternary"
           }
          ],
          "surface": [
           {
            "colorbar": {
             "outlinewidth": 0,
             "ticks": ""
            },
            "colorscale": [
             [
              0,
              "#0d0887"
             ],
             [
              0.1111111111111111,
              "#46039f"
             ],
             [
              0.2222222222222222,
              "#7201a8"
             ],
             [
              0.3333333333333333,
              "#9c179e"
             ],
             [
              0.4444444444444444,
              "#bd3786"
             ],
             [
              0.5555555555555556,
              "#d8576b"
             ],
             [
              0.6666666666666666,
              "#ed7953"
             ],
             [
              0.7777777777777778,
              "#fb9f3a"
             ],
             [
              0.8888888888888888,
              "#fdca26"
             ],
             [
              1,
              "#f0f921"
             ]
            ],
            "type": "surface"
           }
          ],
          "table": [
           {
            "cells": {
             "fill": {
              "color": "#EBF0F8"
             },
             "line": {
              "color": "white"
             }
            },
            "header": {
             "fill": {
              "color": "#C8D4E3"
             },
             "line": {
              "color": "white"
             }
            },
            "type": "table"
           }
          ]
         },
         "layout": {
          "annotationdefaults": {
           "arrowcolor": "#2a3f5f",
           "arrowhead": 0,
           "arrowwidth": 1
          },
          "autotypenumbers": "strict",
          "coloraxis": {
           "colorbar": {
            "outlinewidth": 0,
            "ticks": ""
           }
          },
          "colorscale": {
           "diverging": [
            [
             0,
             "#8e0152"
            ],
            [
             0.1,
             "#c51b7d"
            ],
            [
             0.2,
             "#de77ae"
            ],
            [
             0.3,
             "#f1b6da"
            ],
            [
             0.4,
             "#fde0ef"
            ],
            [
             0.5,
             "#f7f7f7"
            ],
            [
             0.6,
             "#e6f5d0"
            ],
            [
             0.7,
             "#b8e186"
            ],
            [
             0.8,
             "#7fbc41"
            ],
            [
             0.9,
             "#4d9221"
            ],
            [
             1,
             "#276419"
            ]
           ],
           "sequential": [
            [
             0,
             "#0d0887"
            ],
            [
             0.1111111111111111,
             "#46039f"
            ],
            [
             0.2222222222222222,
             "#7201a8"
            ],
            [
             0.3333333333333333,
             "#9c179e"
            ],
            [
             0.4444444444444444,
             "#bd3786"
            ],
            [
             0.5555555555555556,
             "#d8576b"
            ],
            [
             0.6666666666666666,
             "#ed7953"
            ],
            [
             0.7777777777777778,
             "#fb9f3a"
            ],
            [
             0.8888888888888888,
             "#fdca26"
            ],
            [
             1,
             "#f0f921"
            ]
           ],
           "sequentialminus": [
            [
             0,
             "#0d0887"
            ],
            [
             0.1111111111111111,
             "#46039f"
            ],
            [
             0.2222222222222222,
             "#7201a8"
            ],
            [
             0.3333333333333333,
             "#9c179e"
            ],
            [
             0.4444444444444444,
             "#bd3786"
            ],
            [
             0.5555555555555556,
             "#d8576b"
            ],
            [
             0.6666666666666666,
             "#ed7953"
            ],
            [
             0.7777777777777778,
             "#fb9f3a"
            ],
            [
             0.8888888888888888,
             "#fdca26"
            ],
            [
             1,
             "#f0f921"
            ]
           ]
          },
          "colorway": [
           "#636efa",
           "#EF553B",
           "#00cc96",
           "#ab63fa",
           "#FFA15A",
           "#19d3f3",
           "#FF6692",
           "#B6E880",
           "#FF97FF",
           "#FECB52"
          ],
          "font": {
           "color": "#2a3f5f"
          },
          "geo": {
           "bgcolor": "white",
           "lakecolor": "white",
           "landcolor": "#E5ECF6",
           "showlakes": true,
           "showland": true,
           "subunitcolor": "white"
          },
          "hoverlabel": {
           "align": "left"
          },
          "hovermode": "closest",
          "mapbox": {
           "style": "light"
          },
          "paper_bgcolor": "white",
          "plot_bgcolor": "#E5ECF6",
          "polar": {
           "angularaxis": {
            "gridcolor": "white",
            "linecolor": "white",
            "ticks": ""
           },
           "bgcolor": "#E5ECF6",
           "radialaxis": {
            "gridcolor": "white",
            "linecolor": "white",
            "ticks": ""
           }
          },
          "scene": {
           "xaxis": {
            "backgroundcolor": "#E5ECF6",
            "gridcolor": "white",
            "gridwidth": 2,
            "linecolor": "white",
            "showbackground": true,
            "ticks": "",
            "zerolinecolor": "white"
           },
           "yaxis": {
            "backgroundcolor": "#E5ECF6",
            "gridcolor": "white",
            "gridwidth": 2,
            "linecolor": "white",
            "showbackground": true,
            "ticks": "",
            "zerolinecolor": "white"
           },
           "zaxis": {
            "backgroundcolor": "#E5ECF6",
            "gridcolor": "white",
            "gridwidth": 2,
            "linecolor": "white",
            "showbackground": true,
            "ticks": "",
            "zerolinecolor": "white"
           }
          },
          "shapedefaults": {
           "line": {
            "color": "#2a3f5f"
           }
          },
          "ternary": {
           "aaxis": {
            "gridcolor": "white",
            "linecolor": "white",
            "ticks": ""
           },
           "baxis": {
            "gridcolor": "white",
            "linecolor": "white",
            "ticks": ""
           },
           "bgcolor": "#E5ECF6",
           "caxis": {
            "gridcolor": "white",
            "linecolor": "white",
            "ticks": ""
           }
          },
          "title": {
           "x": 0.05
          },
          "xaxis": {
           "automargin": true,
           "gridcolor": "white",
           "linecolor": "white",
           "ticks": "",
           "title": {
            "standoff": 15
           },
           "zerolinecolor": "white",
           "zerolinewidth": 2
          },
          "yaxis": {
           "automargin": true,
           "gridcolor": "white",
           "linecolor": "white",
           "ticks": "",
           "title": {
            "standoff": 15
           },
           "zerolinecolor": "white",
           "zerolinewidth": 2
          }
         }
        },
        "title": {
         "text": "Primeras 5 aerolíneas por Región 2005-2016"
        },
        "xaxis": {
         "anchor": "y",
         "domain": [
          0,
          1
         ],
         "title": {
          "text": "Región"
         }
        },
        "yaxis": {
         "anchor": "x",
         "domain": [
          0,
          1
         ],
         "title": {
          "text": "Total de Pasajeros"
         }
        }
       }
      }
     },
     "metadata": {},
     "output_type": "display_data"
    }
   ],
   "source": [
    "# Convertir a Pandas DataFrame\n",
    "ranked_airlines_by_region_pd = ranked_airlines_region.toPandas()\n",
    "\n",
    "# Añadir un \"jitter\" al eje Y para separar las burbujas\n",
    "ranked_airlines_by_region_pd[\"Y_Jitter\"]\\\n",
    "    = ranked_airlines_by_region_pd[\"Total Passengers\"] + np.random.uniform(-500000, 500000, size=len(ranked_airlines_by_region_pd))\n",
    "\n",
    "# Crear gráfico de dispersión\n",
    "fig = px.scatter(\n",
    "    ranked_airlines_by_region_pd,\n",
    "    x=\"GEO Region\",\n",
    "    y=\"Y_Jitter\",\n",
    "    size=\"Total Passengers\",\n",
    "    color=\"Operating Airline\",\n",
    "    title=\"Primeras 5 aerolíneas por Región 2005-2016\",\n",
    "    size_max=60,\n",
    "    #template=\"plotly_white\"\n",
    ").update_traces(textposition=\"top center\").update_layout(\n",
    "    xaxis_title=\"Región\",\n",
    "    yaxis_title=\"Total de Pasajeros\",\n",
    ")\n",
    "\n",
    "# Mostrar gráfico\n",
    "fig.show()"
   ]
  },
  {
   "cell_type": "markdown",
   "metadata": {},
   "source": [
    "![](newplot5.png)"
   ]
  },
  {
   "cell_type": "markdown",
   "metadata": {},
   "source": [
    "<div style=\"letter-spacing: 0.5px; text-align: justify; font-size: 14px;\">\n",
    ". Total de pasajeros por aerolíneas en el período 2005-2016\n",
    "</div>"
   ]
  },
  {
   "cell_type": "markdown",
   "metadata": {},
   "source": [
    "<div style=\"letter-spacing: 0.5px; text-align: justify; font-size: 12px;\">\n",
    "United Airlines tiene dos entradas en el dataframe. United Airlines - Pre 07/01/2013 cubre el período 2005-2013 y United Airlines, el período 2005-2016. Esto dificulta el análisis pues no está clara la razón. Lo cierto es que United Airlines - Pre 07/01/2013, muestra una cifra superior de pasajeros a pesar que los datos llegan hasta 2013. Esta situación se observa tanto en vuelos nacionales como internacionales. Habría que profundizar más sobre este punto. Si se consolidan ambas cifras, sin que ello implique una duplicación de datos, la movilización de pasajeros por United Airlines convertiría a ésta aerolínea, en comparación con las otras, en la principal compañía que opera desde el Aeropuerto de San Francisco en líneas nacionales e internacionales.\n",
    "</div>"
   ]
  },
  {
   "cell_type": "code",
   "execution_count": 34,
   "metadata": {},
   "outputs": [],
   "source": [
    "def summarize_passengers_by_airline(df_1, geo_summary):\n",
    "    return (\n",
    "        df_1.filter(df_1[\"GEO Summary\"] == geo_summary)\n",
    "        .groupBy(\"Operating Airline\")\n",
    "        .agg(\n",
    "            F.sum(\"Adjusted Passenger Count\").alias(\"Total Passengers\"),\n",
    "            F.concat_ws(\"-\", F.min(\"Year\").cast(\"string\"),\\\n",
    "            F.max(\"Year\").cast(\"string\")).alias(\"Period\")\n",
    "        )\n",
    "        .orderBy(\"Total Passengers\", ascending=False)\n",
    "    )"
   ]
  },
  {
   "cell_type": "code",
   "execution_count": 35,
   "metadata": {},
   "outputs": [
    {
     "name": "stdout",
     "output_type": "stream",
     "text": [
      "+--------------------------------+----------------+---------+\n",
      "|Operating Airline               |Total Passengers|Period   |\n",
      "+--------------------------------+----------------+---------+\n",
      "|United Airlines - Pre 07/01/2013|81757535        |2005-2013|\n",
      "|United Airlines                 |55687965        |2005-2016|\n",
      "|American Airlines               |34588714        |2005-2016|\n",
      "|SkyWest Airlines                |33068349        |2005-2016|\n",
      "|Virgin America                  |26350566        |2007-2016|\n",
      "|Delta Air Lines                 |25948711        |2005-2016|\n",
      "|Southwest Airlines              |25098015        |2007-2016|\n",
      "|US Airways                      |16816616        |2005-2015|\n",
      "|Alaska Airlines                 |10614399        |2005-2016|\n",
      "|JetBlue Airways                 |7827973         |2007-2016|\n",
      "|Northwest Airlines              |5571581         |2005-2010|\n",
      "|Frontier Airlines               |4624796         |2005-2016|\n",
      "|AirTran Airways                 |2388648         |2005-2014|\n",
      "|Hawaiian Airlines               |2136804         |2005-2016|\n",
      "|Compass Airlines                |2055666         |2013-2016|\n",
      "|Horizon Air                     |1204758         |2005-2014|\n",
      "|Sun Country Airlines            |989731          |2005-2016|\n",
      "|Midwest Airlines                |450428          |2005-2010|\n",
      "|Mesa Airlines                   |434138          |2005-2015|\n",
      "|American Eagle Airlines         |424692          |2005-2009|\n",
      "|ATA Airlines                    |424122          |2005-2008|\n",
      "|ExpressJet Airlines             |180219          |2007-2008|\n",
      "|Mesaba Airlines                 |126048          |2009-2011|\n",
      "|Spirit Airlines                 |70105           |2006-2007|\n",
      "|Independence Air                |63913           |2005-2005|\n",
      "|Republic Airlines               |58860           |2010-2015|\n",
      "|Atlantic Southeast Airlines     |47892           |2005-2007|\n",
      "|Allegiant Air                   |24269           |2008-2009|\n",
      "|Servisair                       |3210            |2010-2013|\n",
      "|Miami Air International         |1690            |2007-2015|\n",
      "|Swissport USA                   |1600            |2013-2014|\n",
      "|World Airways                   |271             |2012-2012|\n",
      "|Xtra Airways                    |146             |2006-2006|\n",
      "|Ameriflight                     |118             |2006-2008|\n",
      "|Atlas Air, Inc                  |71              |2013-2013|\n",
      "|Boeing Company                  |18              |2005-2005|\n",
      "+--------------------------------+----------------+---------+\n",
      "\n"
     ]
    }
   ],
   "source": [
    "domestic_summary = summarize_passengers_by_airline(df_1, \"Domestic\")\n",
    "domestic_summary.show(77, truncate=False)\n"
   ]
  },
  {
   "cell_type": "markdown",
   "metadata": {},
   "source": [
    "<div style=\"letter-spacing: 0.5px; text-align: justify; font-size: 14px;\">\n",
    ". Total de pasajeros por aerolínea en vuelos internacionales en el período 2005-2016\n",
    "</div>"
   ]
  },
  {
   "cell_type": "code",
   "execution_count": 36,
   "metadata": {},
   "outputs": [
    {
     "name": "stdout",
     "output_type": "stream",
     "text": [
      "+--------------------------------+----------------+---------+\n",
      "|Operating Airline               |Total Passengers|Period   |\n",
      "+--------------------------------+----------------+---------+\n",
      "|United Airlines - Pre 07/01/2013|24575788        |2005-2013|\n",
      "|United Airlines                 |9273915         |2013-2016|\n",
      "|Air Canada                      |6680071         |2005-2016|\n",
      "|Lufthansa German Airlines       |4979907         |2005-2016|\n",
      "|British Airways                 |4547282         |2005-2016|\n",
      "|Cathay Pacific                  |4417302         |2005-2016|\n",
      "|Singapore Airlines              |3804635         |2005-2016|\n",
      "|EVA Airways                     |3384020         |2005-2016|\n",
      "|Air France                      |2989982         |2005-2016|\n",
      "|Philippine Airlines             |2644148         |2005-2016|\n",
      "|SkyWest Airlines                |2643424         |2005-2016|\n",
      "|Alaska Airlines                 |2576674         |2005-2016|\n",
      "|China Airlines                  |2543239         |2005-2016|\n",
      "|Virgin Atlantic                 |2540553         |2005-2016|\n",
      "|KLM Royal Dutch Airlines        |2379228         |2005-2016|\n",
      "|Air New Zealand                 |1930156         |2005-2016|\n",
      "|Air China                       |1714149         |2005-2016|\n",
      "|Japan Airlines                  |1676100         |2005-2016|\n",
      "|All Nippon Airways              |1647465         |2005-2016|\n",
      "|Emirates                        |1632756         |2008-2016|\n",
      "|Asiana Airlines                 |1522964         |2005-2016|\n",
      "|Korean Air Lines                |1465043         |2005-2016|\n",
      "|TACA                            |1307079         |2005-2016|\n",
      "|Mexicana Airlines               |991232          |2005-2010|\n",
      "|Aeromexico                      |983488          |2007-2016|\n",
      "|Swiss International             |842568          |2010-2016|\n",
      "|Northwest Airlines              |717740          |2005-2010|\n",
      "|Qantas Airways                  |668823          |2006-2016|\n",
      "|Virgin America                  |584172          |2010-2016|\n",
      "|WestJet Airlines                |549830          |2005-2015|\n",
      "|Delta Air Lines                 |498241          |2010-2014|\n",
      "|Aer Lingus                      |431904          |2007-2016|\n",
      "|SAS Airlines                    |422341          |2013-2016|\n",
      "|China Eastern                   |395885          |2013-2016|\n",
      "|LAN Peru                        |250741          |2010-2014|\n",
      "|Etihad Airways                  |220187          |2014-2016|\n",
      "|Turkish Airlines                |195898          |2015-2016|\n",
      "|China Southern                  |138286          |2014-2016|\n",
      "|Air Berlin                      |83547           |2010-2012|\n",
      "|XL Airways France               |69444           |2012-2015|\n",
      "|Jet Airways                     |68485           |2008-2009|\n",
      "|Icelandair                      |55994           |2005-2006|\n",
      "|COPA Airlines, Inc.             |47853           |2015-2016|\n",
      "|Air India Limited               |22676           |2015-2016|\n",
      "|BelAir Airlines                 |9416            |2005-2008|\n",
      "|Sun Country Airlines            |8432            |2015-2016|\n",
      "|Air Canada Jazz                 |4119            |2005-2006|\n",
      "|Swissport USA                   |2372            |2012-2014|\n",
      "|ATA Airlines                    |991             |2005-2007|\n",
      "|World Airways                   |514             |2009-2009|\n",
      "|Pacific Aviation                |320             |2010-2010|\n",
      "|Servisair                       |32              |2011-2011|\n",
      "|Miami Air International         |28              |2005-2005|\n",
      "|Evergreen International Airlines|4               |2006-2006|\n",
      "+--------------------------------+----------------+---------+\n",
      "\n"
     ]
    }
   ],
   "source": [
    "international_summary = summarize_passengers_by_airline(df_1, \"International\")\n",
    "international_summary.show(77, truncate=False)"
   ]
  },
  {
   "cell_type": "markdown",
   "metadata": {},
   "source": [
    "<div style=\"letter-spacing: 0.5px; text-align: justify; font-size: 14px;\">\n",
    ". Total anual de pasajeros por destino\n",
    "</div>"
   ]
  },
  {
   "cell_type": "code",
   "execution_count": 37,
   "metadata": {},
   "outputs": [
    {
     "name": "stdout",
     "output_type": "stream",
     "text": [
      "+----+-------------+----------------+\n",
      "|Year|GEO Summary  |Total Passengers|\n",
      "+----+-------------+----------------+\n",
      "|2005|Domestic     |13104950        |\n",
      "|2006|Domestic     |24896096        |\n",
      "|2007|Domestic     |26611925        |\n",
      "|2008|Domestic     |28300113        |\n",
      "|2009|Domestic     |29055818        |\n",
      "|2010|Domestic     |30446208        |\n",
      "|2011|Domestic     |31947168        |\n",
      "|2012|Domestic     |34897218        |\n",
      "|2013|Domestic     |35266950        |\n",
      "|2014|Domestic     |36885221        |\n",
      "|2015|Domestic     |38823001        |\n",
      "|2016|Domestic     |8807969         |\n",
      "|2005|International|4271679         |\n",
      "|2006|International|8685316         |\n",
      "|2007|International|9178909         |\n",
      "|2008|International|9102428         |\n",
      "|2009|International|8397816         |\n",
      "|2010|International|8945026         |\n",
      "|2011|International|9098263         |\n",
      "|2012|International|9579991         |\n",
      "|2013|International|9744814         |\n",
      "|2014|International|10269879        |\n",
      "|2015|International|11244093        |\n",
      "|2016|International|2623229         |\n",
      "+----+-------------+----------------+\n",
      "\n"
     ]
    }
   ],
   "source": [
    "# Agrupar por Año y Región y sumar el total de pasajeros\n",
    "annual_pass_summary = df_1.groupBy(\n",
    "    \"Year\",                # Agrupar por Año\n",
    "    \"GEO Summary\"           # Agrupar por Destino\n",
    ").agg(\n",
    "    F.sum(\"Adjusted Passenger Count\").alias(\"Total Passengers\")  # Sumar el total de pasajeros\n",
    ").orderBy(\"GEO Summary\", \"Year\")\n",
    "\n",
    "# Mostrar el resultado\n",
    "annual_pass_summary.show(30, truncate=False)"
   ]
  },
  {
   "cell_type": "markdown",
   "metadata": {},
   "source": [
    "<div style=\"letter-spacing: 0.5px; text-align: justify; font-size: 14px;\">\n",
    ". Calcular el crecimiento interanual de pasajeros por destino.\n",
    "\n",
    "Se aprecia una importante caída del número de pasajeros internacionales en 2009, probablemente relacionado al hecho de la crisis financiera. En vuelos nacionales el crecimiento es de 2.6 puntos porcentuales, en comparación con el año previo de 6.3%.\n",
    "</div>"
   ]
  },
  {
   "cell_type": "code",
   "execution_count": 38,
   "metadata": {},
   "outputs": [
    {
     "name": "stdout",
     "output_type": "stream",
     "text": [
      "+----+-------------+----------------+------------------------+-----------------+\n",
      "|Year|GEO Summary  |Total Passengers|Previous Year Passengers|Growth Percentage|\n",
      "+----+-------------+----------------+------------------------+-----------------+\n",
      "|2005|International|4271679         |null                    |null             |\n",
      "|2006|International|8685316         |4271679                 |103.32           |\n",
      "|2007|International|9178909         |8685316                 |5.68             |\n",
      "|2008|International|9102428         |9178909                 |-0.83            |\n",
      "|2009|International|8397816         |9102428                 |-7.74            |\n",
      "|2010|International|8945026         |8397816                 |6.52             |\n",
      "|2011|International|9098263         |8945026                 |1.71             |\n",
      "|2012|International|9579991         |9098263                 |5.29             |\n",
      "|2013|International|9744814         |9579991                 |1.72             |\n",
      "|2014|International|10269879        |9744814                 |5.39             |\n",
      "|2015|International|11244093        |10269879                |9.49             |\n",
      "|2016|International|2623229         |11244093                |-76.67           |\n",
      "|2005|Domestic     |13104950        |null                    |null             |\n",
      "|2006|Domestic     |24896096        |13104950                |89.97            |\n",
      "|2007|Domestic     |26611925        |24896096                |6.89             |\n",
      "|2008|Domestic     |28300113        |26611925                |6.34             |\n",
      "|2009|Domestic     |29055818        |28300113                |2.67             |\n",
      "|2010|Domestic     |30446208        |29055818                |4.79             |\n",
      "|2011|Domestic     |31947168        |30446208                |4.93             |\n",
      "|2012|Domestic     |34897218        |31947168                |9.23             |\n",
      "|2013|Domestic     |35266950        |34897218                |1.06             |\n",
      "|2014|Domestic     |36885221        |35266950                |4.59             |\n",
      "|2015|Domestic     |38823001        |36885221                |5.25             |\n",
      "|2016|Domestic     |8807969         |38823001                |-77.31           |\n",
      "+----+-------------+----------------+------------------------+-----------------+\n",
      "\n"
     ]
    }
   ],
   "source": [
    "# Agrupar por Año y Región y sumar el total de pasajeros\n",
    "annual_pass_summary = df_1.groupBy(\n",
    "    \"Year\",                # Agrupar por Año\n",
    "    \"GEO Summary\"          # Agrupar por Región\n",
    ").agg(\n",
    "    F.sum(\"Adjusted Passenger Count\").alias(\"Total Passengers\")  # Sumar el total de pasajeros\n",
    ").orderBy(\"GEO Summary\", \"Year\")\n",
    "\n",
    "# Crear una ventana para obtener el total de pasajeros del año anterior\n",
    "window_spec = Window.partitionBy(\"GEO Summary\").orderBy(\"Year\")\n",
    "\n",
    "# Calcular el crecimiento anual en porcentaje\n",
    "annual_pass_summary_with_growth = annual_pass_summary.withColumn(\n",
    "    \"Previous Year Passengers\", F.lag(\"Total Passengers\").over(window_spec)\n",
    ").withColumn(\n",
    "    \"Growth Percentage\", \n",
    "    (F.col(\"Total Passengers\") - F.col(\"Previous Year Passengers\")) / F.col(\"Previous Year Passengers\") * 100\n",
    ")\n",
    "\n",
    "# Redondear el porcentaje de crecimiento a dos decimales\n",
    "annual_pass_summary_with_growth = annual_pass_summary_with_growth.withColumn(\n",
    "    \"Growth Percentage\", F.format_number(\"Growth Percentage\", 2)\n",
    ")\n",
    "\n",
    "# Filtrar los años entre 2006 y 2015 (excluyendo 2005 y 2016)\n",
    "annual_pass_summary_with_growth_filtered = annual_pass_summary_with_growth.filter(\n",
    "    (F.col(\"Year\") >= 2006) & (F.col(\"Year\") <= 2015)\n",
    ")\n",
    "\n",
    "# Mostrar el resultado\n",
    "annual_pass_summary_with_growth.show(30, truncate=False)\n"
   ]
  },
  {
   "cell_type": "markdown",
   "metadata": {},
   "source": [
    "<div style=\"letter-spacing: 0.5px; text-align: justify; font-size: 14px;\">\n",
    ". Calcular el crecimiento interanual de pasajeros.\n",
    "</div>"
   ]
  },
  {
   "cell_type": "code",
   "execution_count": 39,
   "metadata": {},
   "outputs": [
    {
     "name": "stdout",
     "output_type": "stream",
     "text": [
      "+----+----------------+------------------------+-----------------+\n",
      "|Year|Total Passengers|Previous Year Passengers|Growth Percentage|\n",
      "+----+----------------+------------------------+-----------------+\n",
      "|2006|33581412        |17376629                |93.26            |\n",
      "|2007|35790834        |33581412                |6.58             |\n",
      "|2008|37402541        |35790834                |4.50             |\n",
      "|2009|37453634        |37402541                |0.14             |\n",
      "|2010|39391234        |37453634                |5.17             |\n",
      "|2011|41045431        |39391234                |4.20             |\n",
      "|2012|44477209        |41045431                |8.36             |\n",
      "|2013|45011764        |44477209                |1.20             |\n",
      "|2014|47155100        |45011764                |4.76             |\n",
      "|2015|50067094        |47155100                |6.18             |\n",
      "+----+----------------+------------------------+-----------------+\n",
      "\n"
     ]
    }
   ],
   "source": [
    "# Agrupar por Año y sumar el total de pasajeros\n",
    "annual_pass_summary = df_1.groupBy(\n",
    "    \"Year\"                # Agrupar solo por Año\n",
    ").agg(\n",
    "    F.sum(\"Adjusted Passenger Count\").alias(\"Total Passengers\")  # Sumar el total de pasajeros\n",
    ").orderBy(\"Year\")\n",
    "\n",
    "# Crear una ventana para obtener el total de pasajeros del año anterior\n",
    "window_spec = Window.orderBy(\"Year\")\n",
    "\n",
    "# Calcular el crecimiento interanual en porcentaje\n",
    "annual_pass_summary_with_growth = annual_pass_summary.withColumn(\n",
    "    \"Previous Year Passengers\", F.lag(\"Total Passengers\").over(window_spec)\n",
    ").withColumn(\n",
    "    \"Growth Percentage\", \n",
    "    (F.col(\"Total Passengers\") - F.col(\"Previous Year Passengers\")) / F.col(\"Previous Year Passengers\") * 100\n",
    ")\n",
    "\n",
    "# Redondear el porcentaje de crecimiento a dos decimales\n",
    "annual_pass_summary_with_growth = annual_pass_summary_with_growth.withColumn(\n",
    "    \"Growth Percentage\", F.format_number(\"Growth Percentage\", 2)\n",
    ")\n",
    "\n",
    "# Filtrar los años entre 2006 y 2015 (excluyendo 2005 y 2016)\n",
    "annual_pass_summary_with_growth_filtered = annual_pass_summary_with_growth.filter(\n",
    "    (F.col(\"Year\") >= 2006) & (F.col(\"Year\") <= 2015)\n",
    ")\n",
    "\n",
    "# Mostrar el resultado\n",
    "annual_pass_summary_with_growth_filtered.show(30, truncate=False)\n"
   ]
  },
  {
   "cell_type": "markdown",
   "metadata": {},
   "source": [
    "<div style=\"letter-spacing: 0.5px; text-align: justify; font-size: 14px;\">\n",
    ". Generación de gráfico anual de pasajeros por región.\n",
    "</div>"
   ]
  },
  {
   "cell_type": "code",
   "execution_count": 40,
   "metadata": {},
   "outputs": [],
   "source": [
    "# Función para analizar el total de pasajeros por region y año\n",
    "def create_annual_passenger_chart(df_1, region_col, exclude_region=None, title=None, color_label=\"Región\"):\n",
    "    if exclude_region:\n",
    "        df_1 = df_1.filter(df_1[region_col] != exclude_region)\n",
    "    \n",
    "    # Agrupar y sumar\n",
    "    grouped_df_1 = (\n",
    "        df_1.groupBy(\"Year\", region_col)\n",
    "        .agg(F.sum(\"Adjusted Passenger Count\").alias(\"Total Passengers\"))\n",
    "        .orderBy(\"Year\", region_col)\n",
    "    )\n",
    "    \n",
    "    # Convertir a Pandas y graficar\n",
    "    fig = px.line(\n",
    "        grouped_df_1.toPandas(),\n",
    "        x=\"Year\",\n",
    "        y=\"Total Passengers\",\n",
    "        color=region_col,\n",
    "        title=title,\n",
    "        labels={\"Year\": \"Año\", \"Total Passengers\": \"Total de Pasajeros\", region_col: color_label},\n",
    "        template='plotly_white'\n",
    "    )\n",
    "    fig.update_layout(\n",
    "        legend=dict(title=color_label, font=dict(size=13), orientation='v', x=1.05, y=1),\n",
    "        margin=dict(r=150)\n",
    "    )\n",
    "    return grouped_df_1, fig"
   ]
  },
  {
   "cell_type": "markdown",
   "metadata": {},
   "source": [
    "<div style=\"letter-spacing: 0.5px; text-align: justify; font-size: 14px;\">\n",
    ". Total anual de pasajeros por región.\n",
    "</div>"
   ]
  },
  {
   "cell_type": "markdown",
   "metadata": {},
   "source": [
    "<div style=\"letter-spacing: 0.5px; text-align: justify; font-size: 12px;\">\n",
    "El año inicial y final del dataframe muestran datos parciales. 2005 inicia en julio y 2016 culmina en marzo. Esto explica tanto el ascenso como la caída abrupta que se observa en el gráfico.\n",
    "Igualmente, se nota una tendencia creciente en el flujo de pasajeros en la ruta nacional desde el 2006 hasta el 2015, y un movimiento estable en la ruta internacional en el mismo período.\n",
    "</div>"
   ]
  },
  {
   "cell_type": "code",
   "execution_count": 41,
   "metadata": {},
   "outputs": [
    {
     "data": {
      "application/vnd.plotly.v1+json": {
       "config": {
        "plotlyServerURL": "https://plot.ly"
       },
       "data": [
        {
         "hovertemplate": "Región=Domestic<br>Año=%{x}<br>Total de Pasajeros=%{y}<extra></extra>",
         "legendgroup": "Domestic",
         "line": {
          "color": "#636efa",
          "dash": "solid"
         },
         "marker": {
          "symbol": "circle"
         },
         "mode": "lines",
         "name": "Domestic",
         "orientation": "v",
         "showlegend": true,
         "type": "scatter",
         "x": [
          2005,
          2006,
          2007,
          2008,
          2009,
          2010,
          2011,
          2012,
          2013,
          2014,
          2015,
          2016
         ],
         "xaxis": "x",
         "y": [
          13104950,
          24896096,
          26611925,
          28300113,
          29055818,
          30446208,
          31947168,
          34897218,
          35266950,
          36885221,
          38823001,
          8807969
         ],
         "yaxis": "y"
        },
        {
         "hovertemplate": "Región=International<br>Año=%{x}<br>Total de Pasajeros=%{y}<extra></extra>",
         "legendgroup": "International",
         "line": {
          "color": "#EF553B",
          "dash": "solid"
         },
         "marker": {
          "symbol": "circle"
         },
         "mode": "lines",
         "name": "International",
         "orientation": "v",
         "showlegend": true,
         "type": "scatter",
         "x": [
          2005,
          2006,
          2007,
          2008,
          2009,
          2010,
          2011,
          2012,
          2013,
          2014,
          2015,
          2016
         ],
         "xaxis": "x",
         "y": [
          4271679,
          8685316,
          9178909,
          9102428,
          8397816,
          8945026,
          9098263,
          9579991,
          9744814,
          10269879,
          11244093,
          2623229
         ],
         "yaxis": "y"
        }
       ],
       "layout": {
        "legend": {
         "font": {
          "size": 13
         },
         "orientation": "v",
         "title": {
          "text": "Región"
         },
         "tracegroupgap": 0,
         "x": 1.05,
         "y": 1
        },
        "margin": {
         "r": 150
        },
        "template": {
         "data": {
          "bar": [
           {
            "error_x": {
             "color": "#2a3f5f"
            },
            "error_y": {
             "color": "#2a3f5f"
            },
            "marker": {
             "line": {
              "color": "white",
              "width": 0.5
             },
             "pattern": {
              "fillmode": "overlay",
              "size": 10,
              "solidity": 0.2
             }
            },
            "type": "bar"
           }
          ],
          "barpolar": [
           {
            "marker": {
             "line": {
              "color": "white",
              "width": 0.5
             },
             "pattern": {
              "fillmode": "overlay",
              "size": 10,
              "solidity": 0.2
             }
            },
            "type": "barpolar"
           }
          ],
          "carpet": [
           {
            "aaxis": {
             "endlinecolor": "#2a3f5f",
             "gridcolor": "#C8D4E3",
             "linecolor": "#C8D4E3",
             "minorgridcolor": "#C8D4E3",
             "startlinecolor": "#2a3f5f"
            },
            "baxis": {
             "endlinecolor": "#2a3f5f",
             "gridcolor": "#C8D4E3",
             "linecolor": "#C8D4E3",
             "minorgridcolor": "#C8D4E3",
             "startlinecolor": "#2a3f5f"
            },
            "type": "carpet"
           }
          ],
          "choropleth": [
           {
            "colorbar": {
             "outlinewidth": 0,
             "ticks": ""
            },
            "type": "choropleth"
           }
          ],
          "contour": [
           {
            "colorbar": {
             "outlinewidth": 0,
             "ticks": ""
            },
            "colorscale": [
             [
              0,
              "#0d0887"
             ],
             [
              0.1111111111111111,
              "#46039f"
             ],
             [
              0.2222222222222222,
              "#7201a8"
             ],
             [
              0.3333333333333333,
              "#9c179e"
             ],
             [
              0.4444444444444444,
              "#bd3786"
             ],
             [
              0.5555555555555556,
              "#d8576b"
             ],
             [
              0.6666666666666666,
              "#ed7953"
             ],
             [
              0.7777777777777778,
              "#fb9f3a"
             ],
             [
              0.8888888888888888,
              "#fdca26"
             ],
             [
              1,
              "#f0f921"
             ]
            ],
            "type": "contour"
           }
          ],
          "contourcarpet": [
           {
            "colorbar": {
             "outlinewidth": 0,
             "ticks": ""
            },
            "type": "contourcarpet"
           }
          ],
          "heatmap": [
           {
            "colorbar": {
             "outlinewidth": 0,
             "ticks": ""
            },
            "colorscale": [
             [
              0,
              "#0d0887"
             ],
             [
              0.1111111111111111,
              "#46039f"
             ],
             [
              0.2222222222222222,
              "#7201a8"
             ],
             [
              0.3333333333333333,
              "#9c179e"
             ],
             [
              0.4444444444444444,
              "#bd3786"
             ],
             [
              0.5555555555555556,
              "#d8576b"
             ],
             [
              0.6666666666666666,
              "#ed7953"
             ],
             [
              0.7777777777777778,
              "#fb9f3a"
             ],
             [
              0.8888888888888888,
              "#fdca26"
             ],
             [
              1,
              "#f0f921"
             ]
            ],
            "type": "heatmap"
           }
          ],
          "heatmapgl": [
           {
            "colorbar": {
             "outlinewidth": 0,
             "ticks": ""
            },
            "colorscale": [
             [
              0,
              "#0d0887"
             ],
             [
              0.1111111111111111,
              "#46039f"
             ],
             [
              0.2222222222222222,
              "#7201a8"
             ],
             [
              0.3333333333333333,
              "#9c179e"
             ],
             [
              0.4444444444444444,
              "#bd3786"
             ],
             [
              0.5555555555555556,
              "#d8576b"
             ],
             [
              0.6666666666666666,
              "#ed7953"
             ],
             [
              0.7777777777777778,
              "#fb9f3a"
             ],
             [
              0.8888888888888888,
              "#fdca26"
             ],
             [
              1,
              "#f0f921"
             ]
            ],
            "type": "heatmapgl"
           }
          ],
          "histogram": [
           {
            "marker": {
             "pattern": {
              "fillmode": "overlay",
              "size": 10,
              "solidity": 0.2
             }
            },
            "type": "histogram"
           }
          ],
          "histogram2d": [
           {
            "colorbar": {
             "outlinewidth": 0,
             "ticks": ""
            },
            "colorscale": [
             [
              0,
              "#0d0887"
             ],
             [
              0.1111111111111111,
              "#46039f"
             ],
             [
              0.2222222222222222,
              "#7201a8"
             ],
             [
              0.3333333333333333,
              "#9c179e"
             ],
             [
              0.4444444444444444,
              "#bd3786"
             ],
             [
              0.5555555555555556,
              "#d8576b"
             ],
             [
              0.6666666666666666,
              "#ed7953"
             ],
             [
              0.7777777777777778,
              "#fb9f3a"
             ],
             [
              0.8888888888888888,
              "#fdca26"
             ],
             [
              1,
              "#f0f921"
             ]
            ],
            "type": "histogram2d"
           }
          ],
          "histogram2dcontour": [
           {
            "colorbar": {
             "outlinewidth": 0,
             "ticks": ""
            },
            "colorscale": [
             [
              0,
              "#0d0887"
             ],
             [
              0.1111111111111111,
              "#46039f"
             ],
             [
              0.2222222222222222,
              "#7201a8"
             ],
             [
              0.3333333333333333,
              "#9c179e"
             ],
             [
              0.4444444444444444,
              "#bd3786"
             ],
             [
              0.5555555555555556,
              "#d8576b"
             ],
             [
              0.6666666666666666,
              "#ed7953"
             ],
             [
              0.7777777777777778,
              "#fb9f3a"
             ],
             [
              0.8888888888888888,
              "#fdca26"
             ],
             [
              1,
              "#f0f921"
             ]
            ],
            "type": "histogram2dcontour"
           }
          ],
          "mesh3d": [
           {
            "colorbar": {
             "outlinewidth": 0,
             "ticks": ""
            },
            "type": "mesh3d"
           }
          ],
          "parcoords": [
           {
            "line": {
             "colorbar": {
              "outlinewidth": 0,
              "ticks": ""
             }
            },
            "type": "parcoords"
           }
          ],
          "pie": [
           {
            "automargin": true,
            "type": "pie"
           }
          ],
          "scatter": [
           {
            "fillpattern": {
             "fillmode": "overlay",
             "size": 10,
             "solidity": 0.2
            },
            "type": "scatter"
           }
          ],
          "scatter3d": [
           {
            "line": {
             "colorbar": {
              "outlinewidth": 0,
              "ticks": ""
             }
            },
            "marker": {
             "colorbar": {
              "outlinewidth": 0,
              "ticks": ""
             }
            },
            "type": "scatter3d"
           }
          ],
          "scattercarpet": [
           {
            "marker": {
             "colorbar": {
              "outlinewidth": 0,
              "ticks": ""
             }
            },
            "type": "scattercarpet"
           }
          ],
          "scattergeo": [
           {
            "marker": {
             "colorbar": {
              "outlinewidth": 0,
              "ticks": ""
             }
            },
            "type": "scattergeo"
           }
          ],
          "scattergl": [
           {
            "marker": {
             "colorbar": {
              "outlinewidth": 0,
              "ticks": ""
             }
            },
            "type": "scattergl"
           }
          ],
          "scattermapbox": [
           {
            "marker": {
             "colorbar": {
              "outlinewidth": 0,
              "ticks": ""
             }
            },
            "type": "scattermapbox"
           }
          ],
          "scatterpolar": [
           {
            "marker": {
             "colorbar": {
              "outlinewidth": 0,
              "ticks": ""
             }
            },
            "type": "scatterpolar"
           }
          ],
          "scatterpolargl": [
           {
            "marker": {
             "colorbar": {
              "outlinewidth": 0,
              "ticks": ""
             }
            },
            "type": "scatterpolargl"
           }
          ],
          "scatterternary": [
           {
            "marker": {
             "colorbar": {
              "outlinewidth": 0,
              "ticks": ""
             }
            },
            "type": "scatterternary"
           }
          ],
          "surface": [
           {
            "colorbar": {
             "outlinewidth": 0,
             "ticks": ""
            },
            "colorscale": [
             [
              0,
              "#0d0887"
             ],
             [
              0.1111111111111111,
              "#46039f"
             ],
             [
              0.2222222222222222,
              "#7201a8"
             ],
             [
              0.3333333333333333,
              "#9c179e"
             ],
             [
              0.4444444444444444,
              "#bd3786"
             ],
             [
              0.5555555555555556,
              "#d8576b"
             ],
             [
              0.6666666666666666,
              "#ed7953"
             ],
             [
              0.7777777777777778,
              "#fb9f3a"
             ],
             [
              0.8888888888888888,
              "#fdca26"
             ],
             [
              1,
              "#f0f921"
             ]
            ],
            "type": "surface"
           }
          ],
          "table": [
           {
            "cells": {
             "fill": {
              "color": "#EBF0F8"
             },
             "line": {
              "color": "white"
             }
            },
            "header": {
             "fill": {
              "color": "#C8D4E3"
             },
             "line": {
              "color": "white"
             }
            },
            "type": "table"
           }
          ]
         },
         "layout": {
          "annotationdefaults": {
           "arrowcolor": "#2a3f5f",
           "arrowhead": 0,
           "arrowwidth": 1
          },
          "autotypenumbers": "strict",
          "coloraxis": {
           "colorbar": {
            "outlinewidth": 0,
            "ticks": ""
           }
          },
          "colorscale": {
           "diverging": [
            [
             0,
             "#8e0152"
            ],
            [
             0.1,
             "#c51b7d"
            ],
            [
             0.2,
             "#de77ae"
            ],
            [
             0.3,
             "#f1b6da"
            ],
            [
             0.4,
             "#fde0ef"
            ],
            [
             0.5,
             "#f7f7f7"
            ],
            [
             0.6,
             "#e6f5d0"
            ],
            [
             0.7,
             "#b8e186"
            ],
            [
             0.8,
             "#7fbc41"
            ],
            [
             0.9,
             "#4d9221"
            ],
            [
             1,
             "#276419"
            ]
           ],
           "sequential": [
            [
             0,
             "#0d0887"
            ],
            [
             0.1111111111111111,
             "#46039f"
            ],
            [
             0.2222222222222222,
             "#7201a8"
            ],
            [
             0.3333333333333333,
             "#9c179e"
            ],
            [
             0.4444444444444444,
             "#bd3786"
            ],
            [
             0.5555555555555556,
             "#d8576b"
            ],
            [
             0.6666666666666666,
             "#ed7953"
            ],
            [
             0.7777777777777778,
             "#fb9f3a"
            ],
            [
             0.8888888888888888,
             "#fdca26"
            ],
            [
             1,
             "#f0f921"
            ]
           ],
           "sequentialminus": [
            [
             0,
             "#0d0887"
            ],
            [
             0.1111111111111111,
             "#46039f"
            ],
            [
             0.2222222222222222,
             "#7201a8"
            ],
            [
             0.3333333333333333,
             "#9c179e"
            ],
            [
             0.4444444444444444,
             "#bd3786"
            ],
            [
             0.5555555555555556,
             "#d8576b"
            ],
            [
             0.6666666666666666,
             "#ed7953"
            ],
            [
             0.7777777777777778,
             "#fb9f3a"
            ],
            [
             0.8888888888888888,
             "#fdca26"
            ],
            [
             1,
             "#f0f921"
            ]
           ]
          },
          "colorway": [
           "#636efa",
           "#EF553B",
           "#00cc96",
           "#ab63fa",
           "#FFA15A",
           "#19d3f3",
           "#FF6692",
           "#B6E880",
           "#FF97FF",
           "#FECB52"
          ],
          "font": {
           "color": "#2a3f5f"
          },
          "geo": {
           "bgcolor": "white",
           "lakecolor": "white",
           "landcolor": "white",
           "showlakes": true,
           "showland": true,
           "subunitcolor": "#C8D4E3"
          },
          "hoverlabel": {
           "align": "left"
          },
          "hovermode": "closest",
          "mapbox": {
           "style": "light"
          },
          "paper_bgcolor": "white",
          "plot_bgcolor": "white",
          "polar": {
           "angularaxis": {
            "gridcolor": "#EBF0F8",
            "linecolor": "#EBF0F8",
            "ticks": ""
           },
           "bgcolor": "white",
           "radialaxis": {
            "gridcolor": "#EBF0F8",
            "linecolor": "#EBF0F8",
            "ticks": ""
           }
          },
          "scene": {
           "xaxis": {
            "backgroundcolor": "white",
            "gridcolor": "#DFE8F3",
            "gridwidth": 2,
            "linecolor": "#EBF0F8",
            "showbackground": true,
            "ticks": "",
            "zerolinecolor": "#EBF0F8"
           },
           "yaxis": {
            "backgroundcolor": "white",
            "gridcolor": "#DFE8F3",
            "gridwidth": 2,
            "linecolor": "#EBF0F8",
            "showbackground": true,
            "ticks": "",
            "zerolinecolor": "#EBF0F8"
           },
           "zaxis": {
            "backgroundcolor": "white",
            "gridcolor": "#DFE8F3",
            "gridwidth": 2,
            "linecolor": "#EBF0F8",
            "showbackground": true,
            "ticks": "",
            "zerolinecolor": "#EBF0F8"
           }
          },
          "shapedefaults": {
           "line": {
            "color": "#2a3f5f"
           }
          },
          "ternary": {
           "aaxis": {
            "gridcolor": "#DFE8F3",
            "linecolor": "#A2B1C6",
            "ticks": ""
           },
           "baxis": {
            "gridcolor": "#DFE8F3",
            "linecolor": "#A2B1C6",
            "ticks": ""
           },
           "bgcolor": "white",
           "caxis": {
            "gridcolor": "#DFE8F3",
            "linecolor": "#A2B1C6",
            "ticks": ""
           }
          },
          "title": {
           "x": 0.05
          },
          "xaxis": {
           "automargin": true,
           "gridcolor": "#EBF0F8",
           "linecolor": "#EBF0F8",
           "ticks": "",
           "title": {
            "standoff": 15
           },
           "zerolinecolor": "#EBF0F8",
           "zerolinewidth": 2
          },
          "yaxis": {
           "automargin": true,
           "gridcolor": "#EBF0F8",
           "linecolor": "#EBF0F8",
           "ticks": "",
           "title": {
            "standoff": 15
           },
           "zerolinecolor": "#EBF0F8",
           "zerolinewidth": 2
          }
         }
        },
        "title": {
         "text": "Total Anual de Pasajeros por Destino"
        },
        "xaxis": {
         "anchor": "y",
         "domain": [
          0,
          1
         ],
         "title": {
          "text": "Año"
         }
        },
        "yaxis": {
         "anchor": "x",
         "domain": [
          0,
          1
         ],
         "title": {
          "text": "Total de Pasajeros"
         }
        }
       }
      }
     },
     "metadata": {},
     "output_type": "display_data"
    }
   ],
   "source": [
    "# Distribución anual de pasajeros por vuelos\n",
    "df_summary, fig = create_annual_passenger_chart(df_1, \"GEO Summary\", title=\"Total Anual de Pasajeros por Destino\")\n",
    "fig.show()"
   ]
  },
  {
   "cell_type": "markdown",
   "metadata": {},
   "source": [
    "![](newplot6.png)"
   ]
  },
  {
   "cell_type": "markdown",
   "metadata": {},
   "source": [
    "<div style=\"letter-spacing: 0.5px; text-align: justify; font-size: 12px;\">\n",
    "En las rutas internacionales, las líneas de cada una de las regiones muestran poca variabilidad a lo largo del período, a excepción de Asia y Europa, y en menor medida Canada y Mexico. En el caso de South America sólo hubo operaciones en el período 2010-2014. LAN Peru fue la única aerolínea que cubrió la ruta. El cese de operaciones posiblemente estuvo asociado al bajo flujo de pasajeros y al costo del boleto. Habría que profundizar mas al respecto.\n",
    "</div>"
   ]
  },
  {
   "cell_type": "code",
   "execution_count": 42,
   "metadata": {},
   "outputs": [
    {
     "data": {
      "application/vnd.plotly.v1+json": {
       "config": {
        "plotlyServerURL": "https://plot.ly"
       },
       "data": [
        {
         "hovertemplate": "Región=Asia<br>Año=%{x}<br>Total de Pasajeros=%{y}<extra></extra>",
         "legendgroup": "Asia",
         "line": {
          "color": "#636efa",
          "dash": "solid"
         },
         "marker": {
          "symbol": "circle"
         },
         "mode": "lines",
         "name": "Asia",
         "orientation": "v",
         "showlegend": true,
         "type": "scatter",
         "x": [
          2005,
          2006,
          2007,
          2008,
          2009,
          2010,
          2011,
          2012,
          2013,
          2014,
          2015,
          2016
         ],
         "xaxis": "x",
         "y": [
          1977224,
          4020151,
          4254372,
          4235088,
          3715472,
          4049640,
          3974021,
          4127571,
          4054984,
          4210871,
          4460517,
          1133582
         ],
         "yaxis": "y"
        },
        {
         "hovertemplate": "Región=Australia / Oceania<br>Año=%{x}<br>Total de Pasajeros=%{y}<extra></extra>",
         "legendgroup": "Australia / Oceania",
         "line": {
          "color": "#EF553B",
          "dash": "solid"
         },
         "marker": {
          "symbol": "circle"
         },
         "mode": "lines",
         "name": "Australia / Oceania",
         "orientation": "v",
         "showlegend": true,
         "type": "scatter",
         "x": [
          2005,
          2006,
          2007,
          2008,
          2009,
          2010,
          2011,
          2012,
          2013,
          2014,
          2015,
          2016
         ],
         "xaxis": "x",
         "y": [
          172596,
          466079,
          523831,
          496787,
          482581,
          461454,
          422862,
          400522,
          431219,
          400239,
          392441,
          136281
         ],
         "yaxis": "y"
        },
        {
         "hovertemplate": "Región=Canada<br>Año=%{x}<br>Total de Pasajeros=%{y}<extra></extra>",
         "legendgroup": "Canada",
         "line": {
          "color": "#00cc96",
          "dash": "solid"
         },
         "marker": {
          "symbol": "circle"
         },
         "mode": "lines",
         "name": "Canada",
         "orientation": "v",
         "showlegend": true,
         "type": "scatter",
         "x": [
          2005,
          2006,
          2007,
          2008,
          2009,
          2010,
          2011,
          2012,
          2013,
          2014,
          2015,
          2016
         ],
         "xaxis": "x",
         "y": [
          590961,
          1199823,
          1303141,
          1246864,
          1158866,
          1304356,
          1287184,
          1259949,
          1286553,
          1417656,
          1560268,
          286155
         ],
         "yaxis": "y"
        },
        {
         "hovertemplate": "Región=Central America<br>Año=%{x}<br>Total de Pasajeros=%{y}<extra></extra>",
         "legendgroup": "Central America",
         "line": {
          "color": "#ab63fa",
          "dash": "solid"
         },
         "marker": {
          "symbol": "circle"
         },
         "mode": "lines",
         "name": "Central America",
         "orientation": "v",
         "showlegend": true,
         "type": "scatter",
         "x": [
          2005,
          2006,
          2007,
          2008,
          2009,
          2010,
          2011,
          2012,
          2013,
          2014,
          2015,
          2016
         ],
         "xaxis": "x",
         "y": [
          61994,
          111255,
          129652,
          100119,
          107171,
          114185,
          125184,
          130780,
          129110,
          128066,
          161417,
          56467
         ],
         "yaxis": "y"
        },
        {
         "hovertemplate": "Región=Europe<br>Año=%{x}<br>Total de Pasajeros=%{y}<extra></extra>",
         "legendgroup": "Europe",
         "line": {
          "color": "#FFA15A",
          "dash": "solid"
         },
         "marker": {
          "symbol": "circle"
         },
         "mode": "lines",
         "name": "Europe",
         "orientation": "v",
         "showlegend": true,
         "type": "scatter",
         "x": [
          2005,
          2006,
          2007,
          2008,
          2009,
          2010,
          2011,
          2012,
          2013,
          2014,
          2015,
          2016
         ],
         "xaxis": "x",
         "y": [
          1151652,
          2170956,
          2306008,
          2365388,
          2194229,
          2169127,
          2420697,
          2517516,
          2720213,
          2842337,
          3205713,
          631610
         ],
         "yaxis": "y"
        },
        {
         "hovertemplate": "Región=Mexico<br>Año=%{x}<br>Total de Pasajeros=%{y}<extra></extra>",
         "legendgroup": "Mexico",
         "line": {
          "color": "#19d3f3",
          "dash": "solid"
         },
         "marker": {
          "symbol": "circle"
         },
         "mode": "lines",
         "name": "Mexico",
         "orientation": "v",
         "showlegend": true,
         "type": "scatter",
         "x": [
          2005,
          2006,
          2007,
          2008,
          2009,
          2010,
          2011,
          2012,
          2013,
          2014,
          2015,
          2016
         ],
         "xaxis": "x",
         "y": [
          317252,
          717052,
          661905,
          655269,
          600963,
          597979,
          585199,
          850465,
          834049,
          995611,
          1002493,
          266515
         ],
         "yaxis": "y"
        },
        {
         "hovertemplate": "Región=Middle East<br>Año=%{x}<br>Total de Pasajeros=%{y}<extra></extra>",
         "legendgroup": "Middle East",
         "line": {
          "color": "#FF6692",
          "dash": "solid"
         },
         "marker": {
          "symbol": "circle"
         },
         "mode": "lines",
         "name": "Middle East",
         "orientation": "v",
         "showlegend": true,
         "type": "scatter",
         "x": [
          2008,
          2009,
          2010,
          2011,
          2012,
          2013,
          2014,
          2015,
          2016
         ],
         "xaxis": "x",
         "y": [
          2913,
          138534,
          211814,
          216358,
          226735,
          223274,
          259452,
          461244,
          112619
         ],
         "yaxis": "y"
        },
        {
         "hovertemplate": "Región=South America<br>Año=%{x}<br>Total de Pasajeros=%{y}<extra></extra>",
         "legendgroup": "South America",
         "line": {
          "color": "#B6E880",
          "dash": "solid"
         },
         "marker": {
          "symbol": "circle"
         },
         "mode": "lines",
         "name": "South America",
         "orientation": "v",
         "showlegend": true,
         "type": "scatter",
         "x": [
          2010,
          2011,
          2012,
          2013,
          2014
         ],
         "xaxis": "x",
         "y": [
          36471,
          66758,
          66453,
          65412,
          15647
         ],
         "yaxis": "y"
        }
       ],
       "layout": {
        "legend": {
         "font": {
          "size": 13
         },
         "orientation": "v",
         "title": {
          "text": "Región"
         },
         "tracegroupgap": 0,
         "x": 1.05,
         "y": 1
        },
        "margin": {
         "r": 150
        },
        "template": {
         "data": {
          "bar": [
           {
            "error_x": {
             "color": "#2a3f5f"
            },
            "error_y": {
             "color": "#2a3f5f"
            },
            "marker": {
             "line": {
              "color": "white",
              "width": 0.5
             },
             "pattern": {
              "fillmode": "overlay",
              "size": 10,
              "solidity": 0.2
             }
            },
            "type": "bar"
           }
          ],
          "barpolar": [
           {
            "marker": {
             "line": {
              "color": "white",
              "width": 0.5
             },
             "pattern": {
              "fillmode": "overlay",
              "size": 10,
              "solidity": 0.2
             }
            },
            "type": "barpolar"
           }
          ],
          "carpet": [
           {
            "aaxis": {
             "endlinecolor": "#2a3f5f",
             "gridcolor": "#C8D4E3",
             "linecolor": "#C8D4E3",
             "minorgridcolor": "#C8D4E3",
             "startlinecolor": "#2a3f5f"
            },
            "baxis": {
             "endlinecolor": "#2a3f5f",
             "gridcolor": "#C8D4E3",
             "linecolor": "#C8D4E3",
             "minorgridcolor": "#C8D4E3",
             "startlinecolor": "#2a3f5f"
            },
            "type": "carpet"
           }
          ],
          "choropleth": [
           {
            "colorbar": {
             "outlinewidth": 0,
             "ticks": ""
            },
            "type": "choropleth"
           }
          ],
          "contour": [
           {
            "colorbar": {
             "outlinewidth": 0,
             "ticks": ""
            },
            "colorscale": [
             [
              0,
              "#0d0887"
             ],
             [
              0.1111111111111111,
              "#46039f"
             ],
             [
              0.2222222222222222,
              "#7201a8"
             ],
             [
              0.3333333333333333,
              "#9c179e"
             ],
             [
              0.4444444444444444,
              "#bd3786"
             ],
             [
              0.5555555555555556,
              "#d8576b"
             ],
             [
              0.6666666666666666,
              "#ed7953"
             ],
             [
              0.7777777777777778,
              "#fb9f3a"
             ],
             [
              0.8888888888888888,
              "#fdca26"
             ],
             [
              1,
              "#f0f921"
             ]
            ],
            "type": "contour"
           }
          ],
          "contourcarpet": [
           {
            "colorbar": {
             "outlinewidth": 0,
             "ticks": ""
            },
            "type": "contourcarpet"
           }
          ],
          "heatmap": [
           {
            "colorbar": {
             "outlinewidth": 0,
             "ticks": ""
            },
            "colorscale": [
             [
              0,
              "#0d0887"
             ],
             [
              0.1111111111111111,
              "#46039f"
             ],
             [
              0.2222222222222222,
              "#7201a8"
             ],
             [
              0.3333333333333333,
              "#9c179e"
             ],
             [
              0.4444444444444444,
              "#bd3786"
             ],
             [
              0.5555555555555556,
              "#d8576b"
             ],
             [
              0.6666666666666666,
              "#ed7953"
             ],
             [
              0.7777777777777778,
              "#fb9f3a"
             ],
             [
              0.8888888888888888,
              "#fdca26"
             ],
             [
              1,
              "#f0f921"
             ]
            ],
            "type": "heatmap"
           }
          ],
          "heatmapgl": [
           {
            "colorbar": {
             "outlinewidth": 0,
             "ticks": ""
            },
            "colorscale": [
             [
              0,
              "#0d0887"
             ],
             [
              0.1111111111111111,
              "#46039f"
             ],
             [
              0.2222222222222222,
              "#7201a8"
             ],
             [
              0.3333333333333333,
              "#9c179e"
             ],
             [
              0.4444444444444444,
              "#bd3786"
             ],
             [
              0.5555555555555556,
              "#d8576b"
             ],
             [
              0.6666666666666666,
              "#ed7953"
             ],
             [
              0.7777777777777778,
              "#fb9f3a"
             ],
             [
              0.8888888888888888,
              "#fdca26"
             ],
             [
              1,
              "#f0f921"
             ]
            ],
            "type": "heatmapgl"
           }
          ],
          "histogram": [
           {
            "marker": {
             "pattern": {
              "fillmode": "overlay",
              "size": 10,
              "solidity": 0.2
             }
            },
            "type": "histogram"
           }
          ],
          "histogram2d": [
           {
            "colorbar": {
             "outlinewidth": 0,
             "ticks": ""
            },
            "colorscale": [
             [
              0,
              "#0d0887"
             ],
             [
              0.1111111111111111,
              "#46039f"
             ],
             [
              0.2222222222222222,
              "#7201a8"
             ],
             [
              0.3333333333333333,
              "#9c179e"
             ],
             [
              0.4444444444444444,
              "#bd3786"
             ],
             [
              0.5555555555555556,
              "#d8576b"
             ],
             [
              0.6666666666666666,
              "#ed7953"
             ],
             [
              0.7777777777777778,
              "#fb9f3a"
             ],
             [
              0.8888888888888888,
              "#fdca26"
             ],
             [
              1,
              "#f0f921"
             ]
            ],
            "type": "histogram2d"
           }
          ],
          "histogram2dcontour": [
           {
            "colorbar": {
             "outlinewidth": 0,
             "ticks": ""
            },
            "colorscale": [
             [
              0,
              "#0d0887"
             ],
             [
              0.1111111111111111,
              "#46039f"
             ],
             [
              0.2222222222222222,
              "#7201a8"
             ],
             [
              0.3333333333333333,
              "#9c179e"
             ],
             [
              0.4444444444444444,
              "#bd3786"
             ],
             [
              0.5555555555555556,
              "#d8576b"
             ],
             [
              0.6666666666666666,
              "#ed7953"
             ],
             [
              0.7777777777777778,
              "#fb9f3a"
             ],
             [
              0.8888888888888888,
              "#fdca26"
             ],
             [
              1,
              "#f0f921"
             ]
            ],
            "type": "histogram2dcontour"
           }
          ],
          "mesh3d": [
           {
            "colorbar": {
             "outlinewidth": 0,
             "ticks": ""
            },
            "type": "mesh3d"
           }
          ],
          "parcoords": [
           {
            "line": {
             "colorbar": {
              "outlinewidth": 0,
              "ticks": ""
             }
            },
            "type": "parcoords"
           }
          ],
          "pie": [
           {
            "automargin": true,
            "type": "pie"
           }
          ],
          "scatter": [
           {
            "fillpattern": {
             "fillmode": "overlay",
             "size": 10,
             "solidity": 0.2
            },
            "type": "scatter"
           }
          ],
          "scatter3d": [
           {
            "line": {
             "colorbar": {
              "outlinewidth": 0,
              "ticks": ""
             }
            },
            "marker": {
             "colorbar": {
              "outlinewidth": 0,
              "ticks": ""
             }
            },
            "type": "scatter3d"
           }
          ],
          "scattercarpet": [
           {
            "marker": {
             "colorbar": {
              "outlinewidth": 0,
              "ticks": ""
             }
            },
            "type": "scattercarpet"
           }
          ],
          "scattergeo": [
           {
            "marker": {
             "colorbar": {
              "outlinewidth": 0,
              "ticks": ""
             }
            },
            "type": "scattergeo"
           }
          ],
          "scattergl": [
           {
            "marker": {
             "colorbar": {
              "outlinewidth": 0,
              "ticks": ""
             }
            },
            "type": "scattergl"
           }
          ],
          "scattermapbox": [
           {
            "marker": {
             "colorbar": {
              "outlinewidth": 0,
              "ticks": ""
             }
            },
            "type": "scattermapbox"
           }
          ],
          "scatterpolar": [
           {
            "marker": {
             "colorbar": {
              "outlinewidth": 0,
              "ticks": ""
             }
            },
            "type": "scatterpolar"
           }
          ],
          "scatterpolargl": [
           {
            "marker": {
             "colorbar": {
              "outlinewidth": 0,
              "ticks": ""
             }
            },
            "type": "scatterpolargl"
           }
          ],
          "scatterternary": [
           {
            "marker": {
             "colorbar": {
              "outlinewidth": 0,
              "ticks": ""
             }
            },
            "type": "scatterternary"
           }
          ],
          "surface": [
           {
            "colorbar": {
             "outlinewidth": 0,
             "ticks": ""
            },
            "colorscale": [
             [
              0,
              "#0d0887"
             ],
             [
              0.1111111111111111,
              "#46039f"
             ],
             [
              0.2222222222222222,
              "#7201a8"
             ],
             [
              0.3333333333333333,
              "#9c179e"
             ],
             [
              0.4444444444444444,
              "#bd3786"
             ],
             [
              0.5555555555555556,
              "#d8576b"
             ],
             [
              0.6666666666666666,
              "#ed7953"
             ],
             [
              0.7777777777777778,
              "#fb9f3a"
             ],
             [
              0.8888888888888888,
              "#fdca26"
             ],
             [
              1,
              "#f0f921"
             ]
            ],
            "type": "surface"
           }
          ],
          "table": [
           {
            "cells": {
             "fill": {
              "color": "#EBF0F8"
             },
             "line": {
              "color": "white"
             }
            },
            "header": {
             "fill": {
              "color": "#C8D4E3"
             },
             "line": {
              "color": "white"
             }
            },
            "type": "table"
           }
          ]
         },
         "layout": {
          "annotationdefaults": {
           "arrowcolor": "#2a3f5f",
           "arrowhead": 0,
           "arrowwidth": 1
          },
          "autotypenumbers": "strict",
          "coloraxis": {
           "colorbar": {
            "outlinewidth": 0,
            "ticks": ""
           }
          },
          "colorscale": {
           "diverging": [
            [
             0,
             "#8e0152"
            ],
            [
             0.1,
             "#c51b7d"
            ],
            [
             0.2,
             "#de77ae"
            ],
            [
             0.3,
             "#f1b6da"
            ],
            [
             0.4,
             "#fde0ef"
            ],
            [
             0.5,
             "#f7f7f7"
            ],
            [
             0.6,
             "#e6f5d0"
            ],
            [
             0.7,
             "#b8e186"
            ],
            [
             0.8,
             "#7fbc41"
            ],
            [
             0.9,
             "#4d9221"
            ],
            [
             1,
             "#276419"
            ]
           ],
           "sequential": [
            [
             0,
             "#0d0887"
            ],
            [
             0.1111111111111111,
             "#46039f"
            ],
            [
             0.2222222222222222,
             "#7201a8"
            ],
            [
             0.3333333333333333,
             "#9c179e"
            ],
            [
             0.4444444444444444,
             "#bd3786"
            ],
            [
             0.5555555555555556,
             "#d8576b"
            ],
            [
             0.6666666666666666,
             "#ed7953"
            ],
            [
             0.7777777777777778,
             "#fb9f3a"
            ],
            [
             0.8888888888888888,
             "#fdca26"
            ],
            [
             1,
             "#f0f921"
            ]
           ],
           "sequentialminus": [
            [
             0,
             "#0d0887"
            ],
            [
             0.1111111111111111,
             "#46039f"
            ],
            [
             0.2222222222222222,
             "#7201a8"
            ],
            [
             0.3333333333333333,
             "#9c179e"
            ],
            [
             0.4444444444444444,
             "#bd3786"
            ],
            [
             0.5555555555555556,
             "#d8576b"
            ],
            [
             0.6666666666666666,
             "#ed7953"
            ],
            [
             0.7777777777777778,
             "#fb9f3a"
            ],
            [
             0.8888888888888888,
             "#fdca26"
            ],
            [
             1,
             "#f0f921"
            ]
           ]
          },
          "colorway": [
           "#636efa",
           "#EF553B",
           "#00cc96",
           "#ab63fa",
           "#FFA15A",
           "#19d3f3",
           "#FF6692",
           "#B6E880",
           "#FF97FF",
           "#FECB52"
          ],
          "font": {
           "color": "#2a3f5f"
          },
          "geo": {
           "bgcolor": "white",
           "lakecolor": "white",
           "landcolor": "white",
           "showlakes": true,
           "showland": true,
           "subunitcolor": "#C8D4E3"
          },
          "hoverlabel": {
           "align": "left"
          },
          "hovermode": "closest",
          "mapbox": {
           "style": "light"
          },
          "paper_bgcolor": "white",
          "plot_bgcolor": "white",
          "polar": {
           "angularaxis": {
            "gridcolor": "#EBF0F8",
            "linecolor": "#EBF0F8",
            "ticks": ""
           },
           "bgcolor": "white",
           "radialaxis": {
            "gridcolor": "#EBF0F8",
            "linecolor": "#EBF0F8",
            "ticks": ""
           }
          },
          "scene": {
           "xaxis": {
            "backgroundcolor": "white",
            "gridcolor": "#DFE8F3",
            "gridwidth": 2,
            "linecolor": "#EBF0F8",
            "showbackground": true,
            "ticks": "",
            "zerolinecolor": "#EBF0F8"
           },
           "yaxis": {
            "backgroundcolor": "white",
            "gridcolor": "#DFE8F3",
            "gridwidth": 2,
            "linecolor": "#EBF0F8",
            "showbackground": true,
            "ticks": "",
            "zerolinecolor": "#EBF0F8"
           },
           "zaxis": {
            "backgroundcolor": "white",
            "gridcolor": "#DFE8F3",
            "gridwidth": 2,
            "linecolor": "#EBF0F8",
            "showbackground": true,
            "ticks": "",
            "zerolinecolor": "#EBF0F8"
           }
          },
          "shapedefaults": {
           "line": {
            "color": "#2a3f5f"
           }
          },
          "ternary": {
           "aaxis": {
            "gridcolor": "#DFE8F3",
            "linecolor": "#A2B1C6",
            "ticks": ""
           },
           "baxis": {
            "gridcolor": "#DFE8F3",
            "linecolor": "#A2B1C6",
            "ticks": ""
           },
           "bgcolor": "white",
           "caxis": {
            "gridcolor": "#DFE8F3",
            "linecolor": "#A2B1C6",
            "ticks": ""
           }
          },
          "title": {
           "x": 0.05
          },
          "xaxis": {
           "automargin": true,
           "gridcolor": "#EBF0F8",
           "linecolor": "#EBF0F8",
           "ticks": "",
           "title": {
            "standoff": 15
           },
           "zerolinecolor": "#EBF0F8",
           "zerolinewidth": 2
          },
          "yaxis": {
           "automargin": true,
           "gridcolor": "#EBF0F8",
           "linecolor": "#EBF0F8",
           "ticks": "",
           "title": {
            "standoff": 15
           },
           "zerolinecolor": "#EBF0F8",
           "zerolinewidth": 2
          }
         }
        },
        "title": {
         "text": "Total Anual de Pasajeros por Región sin EEUU"
        },
        "xaxis": {
         "anchor": "y",
         "domain": [
          0,
          1
         ],
         "title": {
          "text": "Año"
         }
        },
        "yaxis": {
         "anchor": "x",
         "domain": [
          0,
          1
         ],
         "title": {
          "text": "Total de Pasajeros"
         }
        }
       }
      }
     },
     "metadata": {},
     "output_type": "display_data"
    }
   ],
   "source": [
    "# Dsitribución anual de pasajeros por regiones excluída US \n",
    "df_summary, fig = create_annual_passenger_chart(df_1, \"GEO Region\", exclude_region=\"US\", title=\"Total Anual de Pasajeros por Región sin EEUU\")\n",
    "fig.show()"
   ]
  },
  {
   "cell_type": "markdown",
   "metadata": {},
   "source": [
    "![](newplot7.png)"
   ]
  },
  {
   "cell_type": "markdown",
   "metadata": {},
   "source": [
    "<div style=\"letter-spacing: 0.5px; text-align: justify; font-size: 14px;\">\n",
    ". Generación de gráfico para el análisis de vuelos.\n",
    "</div>"
   ]
  },
  {
   "cell_type": "code",
   "execution_count": 43,
   "metadata": {},
   "outputs": [],
   "source": [
    "# Función para analizar los vuelos en relación con Geo summary y agrupar por aerolíneas y año\n",
    "def analyze_flights(df_1, geo_summary, title):\n",
    "    filtered_df_1 = df_1.filter(df_1[\"GEO Summary\"] == geo_summary)\n",
    "    result = filtered_df_1.groupBy(\"Operating Airline\", \"Year\").agg(\n",
    "        F.sum(\"Adjusted Passenger Count\").alias(\"Total Passengers\")\n",
    "    ).orderBy(\"Operating Airline\", \"Year\")\n",
    "    #result.show() # Mostrar el resultado\n",
    "    fig = px.scatter(\n",
    "        result.toPandas(),\n",
    "        x=\"Year\",\n",
    "        y=\"Operating Airline\",\n",
    "        size=\"Total Passengers\",\n",
    "        color=\"Operating Airline\",\n",
    "        title=title\n",
    "    )\n",
    "    fig.show()"
   ]
  },
  {
   "cell_type": "markdown",
   "metadata": {},
   "source": [
    "<div style=\"letter-spacing: 0.5px; text-align: justify; font-size: 14px;\">\n",
    ". Total anual de pasajeros por aerolínea en vuelos nacionales\n",
    "</div>"
   ]
  },
  {
   "cell_type": "code",
   "execution_count": 44,
   "metadata": {},
   "outputs": [
    {
     "data": {
      "application/vnd.plotly.v1+json": {
       "config": {
        "plotlyServerURL": "https://plot.ly"
       },
       "data": [
        {
         "hovertemplate": "Operating Airline=%{y}<br>Year=%{x}<br>Total Passengers=%{marker.size}<extra></extra>",
         "legendgroup": "ATA Airlines",
         "marker": {
          "color": "#636efa",
          "size": [
           303578,
           119539,
           939,
           66
          ],
          "sizemode": "area",
          "sizeref": 36908.7625,
          "symbol": "circle"
         },
         "mode": "markers",
         "name": "ATA Airlines",
         "orientation": "h",
         "showlegend": true,
         "type": "scatter",
         "x": [
          2005,
          2006,
          2007,
          2008
         ],
         "xaxis": "x",
         "y": [
          "ATA Airlines",
          "ATA Airlines",
          "ATA Airlines",
          "ATA Airlines"
         ],
         "yaxis": "y"
        },
        {
         "hovertemplate": "Operating Airline=%{y}<br>Year=%{x}<br>Total Passengers=%{marker.size}<extra></extra>",
         "legendgroup": "AirTran Airways",
         "marker": {
          "color": "#EF553B",
          "size": [
           82626,
           190276,
           227201,
           229969,
           276491,
           351976,
           419372,
           352488,
           182379,
           75870
          ],
          "sizemode": "area",
          "sizeref": 36908.7625,
          "symbol": "circle"
         },
         "mode": "markers",
         "name": "AirTran Airways",
         "orientation": "h",
         "showlegend": true,
         "type": "scatter",
         "x": [
          2005,
          2006,
          2007,
          2008,
          2009,
          2010,
          2011,
          2012,
          2013,
          2014
         ],
         "xaxis": "x",
         "y": [
          "AirTran Airways",
          "AirTran Airways",
          "AirTran Airways",
          "AirTran Airways",
          "AirTran Airways",
          "AirTran Airways",
          "AirTran Airways",
          "AirTran Airways",
          "AirTran Airways",
          "AirTran Airways"
         ],
         "yaxis": "y"
        },
        {
         "hovertemplate": "Operating Airline=%{y}<br>Year=%{x}<br>Total Passengers=%{marker.size}<extra></extra>",
         "legendgroup": "Alaska Airlines",
         "marker": {
          "color": "#00cc96",
          "size": [
           459431,
           941872,
           1134770,
           1037696,
           845540,
           729503,
           813382,
           844408,
           988285,
           1168469,
           1340674,
           310369
          ],
          "sizemode": "area",
          "sizeref": 36908.7625,
          "symbol": "circle"
         },
         "mode": "markers",
         "name": "Alaska Airlines",
         "orientation": "h",
         "showlegend": true,
         "type": "scatter",
         "x": [
          2005,
          2006,
          2007,
          2008,
          2009,
          2010,
          2011,
          2012,
          2013,
          2014,
          2015,
          2016
         ],
         "xaxis": "x",
         "y": [
          "Alaska Airlines",
          "Alaska Airlines",
          "Alaska Airlines",
          "Alaska Airlines",
          "Alaska Airlines",
          "Alaska Airlines",
          "Alaska Airlines",
          "Alaska Airlines",
          "Alaska Airlines",
          "Alaska Airlines",
          "Alaska Airlines",
          "Alaska Airlines"
         ],
         "yaxis": "y"
        },
        {
         "hovertemplate": "Operating Airline=%{y}<br>Year=%{x}<br>Total Passengers=%{marker.size}<extra></extra>",
         "legendgroup": "Allegiant Air",
         "marker": {
          "color": "#ab63fa",
          "size": [
           21892,
           2377
          ],
          "sizemode": "area",
          "sizeref": 36908.7625,
          "symbol": "circle"
         },
         "mode": "markers",
         "name": "Allegiant Air",
         "orientation": "h",
         "showlegend": true,
         "type": "scatter",
         "x": [
          2008,
          2009
         ],
         "xaxis": "x",
         "y": [
          "Allegiant Air",
          "Allegiant Air"
         ],
         "yaxis": "y"
        },
        {
         "hovertemplate": "Operating Airline=%{y}<br>Year=%{x}<br>Total Passengers=%{marker.size}<extra></extra>",
         "legendgroup": "American Airlines",
         "marker": {
          "color": "#FFA15A",
          "size": [
           1719412,
           3302046,
           3446573,
           3337073,
           3237381,
           3222254,
           3083430,
           3086993,
           2983840,
           2924657,
           3238472,
           1006583
          ],
          "sizemode": "area",
          "sizeref": 36908.7625,
          "symbol": "circle"
         },
         "mode": "markers",
         "name": "American Airlines",
         "orientation": "h",
         "showlegend": true,
         "type": "scatter",
         "x": [
          2005,
          2006,
          2007,
          2008,
          2009,
          2010,
          2011,
          2012,
          2013,
          2014,
          2015,
          2016
         ],
         "xaxis": "x",
         "y": [
          "American Airlines",
          "American Airlines",
          "American Airlines",
          "American Airlines",
          "American Airlines",
          "American Airlines",
          "American Airlines",
          "American Airlines",
          "American Airlines",
          "American Airlines",
          "American Airlines",
          "American Airlines"
         ],
         "yaxis": "y"
        },
        {
         "hovertemplate": "Operating Airline=%{y}<br>Year=%{x}<br>Total Passengers=%{marker.size}<extra></extra>",
         "legendgroup": "American Eagle Airlines",
         "marker": {
          "color": "#19d3f3",
          "size": [
           55939,
           97745,
           96166,
           88208,
           86634
          ],
          "sizemode": "area",
          "sizeref": 36908.7625,
          "symbol": "circle"
         },
         "mode": "markers",
         "name": "American Eagle Airlines",
         "orientation": "h",
         "showlegend": true,
         "type": "scatter",
         "x": [
          2005,
          2006,
          2007,
          2008,
          2009
         ],
         "xaxis": "x",
         "y": [
          "American Eagle Airlines",
          "American Eagle Airlines",
          "American Eagle Airlines",
          "American Eagle Airlines",
          "American Eagle Airlines"
         ],
         "yaxis": "y"
        },
        {
         "hovertemplate": "Operating Airline=%{y}<br>Year=%{x}<br>Total Passengers=%{marker.size}<extra></extra>",
         "legendgroup": "Ameriflight",
         "marker": {
          "color": "#FF6692",
          "size": [
           51,
           46,
           21
          ],
          "sizemode": "area",
          "sizeref": 36908.7625,
          "symbol": "circle"
         },
         "mode": "markers",
         "name": "Ameriflight",
         "orientation": "h",
         "showlegend": true,
         "type": "scatter",
         "x": [
          2006,
          2007,
          2008
         ],
         "xaxis": "x",
         "y": [
          "Ameriflight",
          "Ameriflight",
          "Ameriflight"
         ],
         "yaxis": "y"
        },
        {
         "hovertemplate": "Operating Airline=%{y}<br>Year=%{x}<br>Total Passengers=%{marker.size}<extra></extra>",
         "legendgroup": "Atlantic Southeast Airlines",
         "marker": {
          "color": "#B6E880",
          "size": [
           6331,
           12628,
           28933
          ],
          "sizemode": "area",
          "sizeref": 36908.7625,
          "symbol": "circle"
         },
         "mode": "markers",
         "name": "Atlantic Southeast Airlines",
         "orientation": "h",
         "showlegend": true,
         "type": "scatter",
         "x": [
          2005,
          2006,
          2007
         ],
         "xaxis": "x",
         "y": [
          "Atlantic Southeast Airlines",
          "Atlantic Southeast Airlines",
          "Atlantic Southeast Airlines"
         ],
         "yaxis": "y"
        },
        {
         "hovertemplate": "Operating Airline=%{y}<br>Year=%{x}<br>Total Passengers=%{marker.size}<extra></extra>",
         "legendgroup": "Atlas Air, Inc",
         "marker": {
          "color": "#FF97FF",
          "size": [
           71
          ],
          "sizemode": "area",
          "sizeref": 36908.7625,
          "symbol": "circle"
         },
         "mode": "markers",
         "name": "Atlas Air, Inc",
         "orientation": "h",
         "showlegend": true,
         "type": "scatter",
         "x": [
          2013
         ],
         "xaxis": "x",
         "y": [
          "Atlas Air, Inc"
         ],
         "yaxis": "y"
        },
        {
         "hovertemplate": "Operating Airline=%{y}<br>Year=%{x}<br>Total Passengers=%{marker.size}<extra></extra>",
         "legendgroup": "Boeing Company",
         "marker": {
          "color": "#FECB52",
          "size": [
           18
          ],
          "sizemode": "area",
          "sizeref": 36908.7625,
          "symbol": "circle"
         },
         "mode": "markers",
         "name": "Boeing Company",
         "orientation": "h",
         "showlegend": true,
         "type": "scatter",
         "x": [
          2005
         ],
         "xaxis": "x",
         "y": [
          "Boeing Company"
         ],
         "yaxis": "y"
        },
        {
         "hovertemplate": "Operating Airline=%{y}<br>Year=%{x}<br>Total Passengers=%{marker.size}<extra></extra>",
         "legendgroup": "Compass Airlines",
         "marker": {
          "color": "#636efa",
          "size": [
           215895,
           875719,
           840624,
           123428
          ],
          "sizemode": "area",
          "sizeref": 36908.7625,
          "symbol": "circle"
         },
         "mode": "markers",
         "name": "Compass Airlines",
         "orientation": "h",
         "showlegend": true,
         "type": "scatter",
         "x": [
          2013,
          2014,
          2015,
          2016
         ],
         "xaxis": "x",
         "y": [
          "Compass Airlines",
          "Compass Airlines",
          "Compass Airlines",
          "Compass Airlines"
         ],
         "yaxis": "y"
        },
        {
         "hovertemplate": "Operating Airline=%{y}<br>Year=%{x}<br>Total Passengers=%{marker.size}<extra></extra>",
         "legendgroup": "Delta Air Lines",
         "marker": {
          "color": "#EF553B",
          "size": [
           1036036,
           1694670,
           1699216,
           1560673,
           1585205,
           2858627,
           2798923,
           2825835,
           2791267,
           2960643,
           3364829,
           772787
          ],
          "sizemode": "area",
          "sizeref": 36908.7625,
          "symbol": "circle"
         },
         "mode": "markers",
         "name": "Delta Air Lines",
         "orientation": "h",
         "showlegend": true,
         "type": "scatter",
         "x": [
          2005,
          2006,
          2007,
          2008,
          2009,
          2010,
          2011,
          2012,
          2013,
          2014,
          2015,
          2016
         ],
         "xaxis": "x",
         "y": [
          "Delta Air Lines",
          "Delta Air Lines",
          "Delta Air Lines",
          "Delta Air Lines",
          "Delta Air Lines",
          "Delta Air Lines",
          "Delta Air Lines",
          "Delta Air Lines",
          "Delta Air Lines",
          "Delta Air Lines",
          "Delta Air Lines",
          "Delta Air Lines"
         ],
         "yaxis": "y"
        },
        {
         "hovertemplate": "Operating Airline=%{y}<br>Year=%{x}<br>Total Passengers=%{marker.size}<extra></extra>",
         "legendgroup": "ExpressJet Airlines",
         "marker": {
          "color": "#00cc96",
          "size": [
           87602,
           92617
          ],
          "sizemode": "area",
          "sizeref": 36908.7625,
          "symbol": "circle"
         },
         "mode": "markers",
         "name": "ExpressJet Airlines",
         "orientation": "h",
         "showlegend": true,
         "type": "scatter",
         "x": [
          2007,
          2008
         ],
         "xaxis": "x",
         "y": [
          "ExpressJet Airlines",
          "ExpressJet Airlines"
         ],
         "yaxis": "y"
        },
        {
         "hovertemplate": "Operating Airline=%{y}<br>Year=%{x}<br>Total Passengers=%{marker.size}<extra></extra>",
         "legendgroup": "Frontier Airlines",
         "marker": {
          "color": "#ab63fa",
          "size": [
           175293,
           431631,
           525366,
           364592,
           320604,
           378570,
           453879,
           433890,
           377488,
           421428,
           583777,
           158278
          ],
          "sizemode": "area",
          "sizeref": 36908.7625,
          "symbol": "circle"
         },
         "mode": "markers",
         "name": "Frontier Airlines",
         "orientation": "h",
         "showlegend": true,
         "type": "scatter",
         "x": [
          2005,
          2006,
          2007,
          2008,
          2009,
          2010,
          2011,
          2012,
          2013,
          2014,
          2015,
          2016
         ],
         "xaxis": "x",
         "y": [
          "Frontier Airlines",
          "Frontier Airlines",
          "Frontier Airlines",
          "Frontier Airlines",
          "Frontier Airlines",
          "Frontier Airlines",
          "Frontier Airlines",
          "Frontier Airlines",
          "Frontier Airlines",
          "Frontier Airlines",
          "Frontier Airlines",
          "Frontier Airlines"
         ],
         "yaxis": "y"
        },
        {
         "hovertemplate": "Operating Airline=%{y}<br>Year=%{x}<br>Total Passengers=%{marker.size}<extra></extra>",
         "legendgroup": "Hawaiian Airlines",
         "marker": {
          "color": "#FFA15A",
          "size": [
           89401,
           171071,
           172502,
           170505,
           174259,
           176053,
           177283,
           193163,
           198902,
           202010,
           329461,
           82194
          ],
          "sizemode": "area",
          "sizeref": 36908.7625,
          "symbol": "circle"
         },
         "mode": "markers",
         "name": "Hawaiian Airlines",
         "orientation": "h",
         "showlegend": true,
         "type": "scatter",
         "x": [
          2005,
          2006,
          2007,
          2008,
          2009,
          2010,
          2011,
          2012,
          2013,
          2014,
          2015,
          2016
         ],
         "xaxis": "x",
         "y": [
          "Hawaiian Airlines",
          "Hawaiian Airlines",
          "Hawaiian Airlines",
          "Hawaiian Airlines",
          "Hawaiian Airlines",
          "Hawaiian Airlines",
          "Hawaiian Airlines",
          "Hawaiian Airlines",
          "Hawaiian Airlines",
          "Hawaiian Airlines",
          "Hawaiian Airlines",
          "Hawaiian Airlines"
         ],
         "yaxis": "y"
        },
        {
         "hovertemplate": "Operating Airline=%{y}<br>Year=%{x}<br>Total Passengers=%{marker.size}<extra></extra>",
         "legendgroup": "Horizon Air ",
         "marker": {
          "color": "#19d3f3",
          "size": [
           56382,
           105693,
           101109,
           98570,
           169991,
           211767,
           143565,
           138394,
           126968,
           52319
          ],
          "sizemode": "area",
          "sizeref": 36908.7625,
          "symbol": "circle"
         },
         "mode": "markers",
         "name": "Horizon Air ",
         "orientation": "h",
         "showlegend": true,
         "type": "scatter",
         "x": [
          2005,
          2006,
          2007,
          2008,
          2009,
          2010,
          2011,
          2012,
          2013,
          2014
         ],
         "xaxis": "x",
         "y": [
          "Horizon Air ",
          "Horizon Air ",
          "Horizon Air ",
          "Horizon Air ",
          "Horizon Air ",
          "Horizon Air ",
          "Horizon Air ",
          "Horizon Air ",
          "Horizon Air ",
          "Horizon Air "
         ],
         "yaxis": "y"
        },
        {
         "hovertemplate": "Operating Airline=%{y}<br>Year=%{x}<br>Total Passengers=%{marker.size}<extra></extra>",
         "legendgroup": "Independence Air",
         "marker": {
          "color": "#FF6692",
          "size": [
           63913
          ],
          "sizemode": "area",
          "sizeref": 36908.7625,
          "symbol": "circle"
         },
         "mode": "markers",
         "name": "Independence Air",
         "orientation": "h",
         "showlegend": true,
         "type": "scatter",
         "x": [
          2005
         ],
         "xaxis": "x",
         "y": [
          "Independence Air"
         ],
         "yaxis": "y"
        },
        {
         "hovertemplate": "Operating Airline=%{y}<br>Year=%{x}<br>Total Passengers=%{marker.size}<extra></extra>",
         "legendgroup": "JetBlue Airways ",
         "marker": {
          "color": "#B6E880",
          "size": [
           316208,
           427014,
           451540,
           814132,
           850308,
           1040335,
           1085413,
           1047908,
           1425228,
           369887
          ],
          "sizemode": "area",
          "sizeref": 36908.7625,
          "symbol": "circle"
         },
         "mode": "markers",
         "name": "JetBlue Airways ",
         "orientation": "h",
         "showlegend": true,
         "type": "scatter",
         "x": [
          2007,
          2008,
          2009,
          2010,
          2011,
          2012,
          2013,
          2014,
          2015,
          2016
         ],
         "xaxis": "x",
         "y": [
          "JetBlue Airways ",
          "JetBlue Airways ",
          "JetBlue Airways ",
          "JetBlue Airways ",
          "JetBlue Airways ",
          "JetBlue Airways ",
          "JetBlue Airways ",
          "JetBlue Airways ",
          "JetBlue Airways ",
          "JetBlue Airways "
         ],
         "yaxis": "y"
        },
        {
         "hovertemplate": "Operating Airline=%{y}<br>Year=%{x}<br>Total Passengers=%{marker.size}<extra></extra>",
         "legendgroup": "Mesa Airlines",
         "marker": {
          "color": "#FF97FF",
          "size": [
           22649,
           15256,
           23421,
           4587,
           200084,
           94114,
           35129,
           38898
          ],
          "sizemode": "area",
          "sizeref": 36908.7625,
          "symbol": "circle"
         },
         "mode": "markers",
         "name": "Mesa Airlines",
         "orientation": "h",
         "showlegend": true,
         "type": "scatter",
         "x": [
          2005,
          2006,
          2007,
          2009,
          2010,
          2011,
          2014,
          2015
         ],
         "xaxis": "x",
         "y": [
          "Mesa Airlines",
          "Mesa Airlines",
          "Mesa Airlines",
          "Mesa Airlines",
          "Mesa Airlines",
          "Mesa Airlines",
          "Mesa Airlines",
          "Mesa Airlines"
         ],
         "yaxis": "y"
        },
        {
         "hovertemplate": "Operating Airline=%{y}<br>Year=%{x}<br>Total Passengers=%{marker.size}<extra></extra>",
         "legendgroup": "Mesaba Airlines",
         "marker": {
          "color": "#FECB52",
          "size": [
           19971,
           40917,
           65160
          ],
          "sizemode": "area",
          "sizeref": 36908.7625,
          "symbol": "circle"
         },
         "mode": "markers",
         "name": "Mesaba Airlines",
         "orientation": "h",
         "showlegend": true,
         "type": "scatter",
         "x": [
          2009,
          2010,
          2011
         ],
         "xaxis": "x",
         "y": [
          "Mesaba Airlines",
          "Mesaba Airlines",
          "Mesaba Airlines"
         ],
         "yaxis": "y"
        },
        {
         "hovertemplate": "Operating Airline=%{y}<br>Year=%{x}<br>Total Passengers=%{marker.size}<extra></extra>",
         "legendgroup": "Miami Air International",
         "marker": {
          "color": "#636efa",
          "size": [
           397,
           589,
           108,
           430,
           166
          ],
          "sizemode": "area",
          "sizeref": 36908.7625,
          "symbol": "circle"
         },
         "mode": "markers",
         "name": "Miami Air International",
         "orientation": "h",
         "showlegend": true,
         "type": "scatter",
         "x": [
          2007,
          2008,
          2009,
          2011,
          2015
         ],
         "xaxis": "x",
         "y": [
          "Miami Air International",
          "Miami Air International",
          "Miami Air International",
          "Miami Air International",
          "Miami Air International"
         ],
         "yaxis": "y"
        },
        {
         "hovertemplate": "Operating Airline=%{y}<br>Year=%{x}<br>Total Passengers=%{marker.size}<extra></extra>",
         "legendgroup": "Midwest Airlines",
         "marker": {
          "color": "#EF553B",
          "size": [
           28625,
           105036,
           139906,
           97641,
           59829,
           19391
          ],
          "sizemode": "area",
          "sizeref": 36908.7625,
          "symbol": "circle"
         },
         "mode": "markers",
         "name": "Midwest Airlines",
         "orientation": "h",
         "showlegend": true,
         "type": "scatter",
         "x": [
          2005,
          2006,
          2007,
          2008,
          2009,
          2010
         ],
         "xaxis": "x",
         "y": [
          "Midwest Airlines",
          "Midwest Airlines",
          "Midwest Airlines",
          "Midwest Airlines",
          "Midwest Airlines",
          "Midwest Airlines"
         ],
         "yaxis": "y"
        },
        {
         "hovertemplate": "Operating Airline=%{y}<br>Year=%{x}<br>Total Passengers=%{marker.size}<extra></extra>",
         "legendgroup": "Northwest Airlines",
         "marker": {
          "color": "#00cc96",
          "size": [
           615608,
           1214051,
           1222469,
           1234880,
           1211193,
           73380
          ],
          "sizemode": "area",
          "sizeref": 36908.7625,
          "symbol": "circle"
         },
         "mode": "markers",
         "name": "Northwest Airlines",
         "orientation": "h",
         "showlegend": true,
         "type": "scatter",
         "x": [
          2005,
          2006,
          2007,
          2008,
          2009,
          2010
         ],
         "xaxis": "x",
         "y": [
          "Northwest Airlines",
          "Northwest Airlines",
          "Northwest Airlines",
          "Northwest Airlines",
          "Northwest Airlines",
          "Northwest Airlines"
         ],
         "yaxis": "y"
        },
        {
         "hovertemplate": "Operating Airline=%{y}<br>Year=%{x}<br>Total Passengers=%{marker.size}<extra></extra>",
         "legendgroup": "Republic Airlines",
         "marker": {
          "color": "#ab63fa",
          "size": [
           58102,
           210,
           446,
           102
          ],
          "sizemode": "area",
          "sizeref": 36908.7625,
          "symbol": "circle"
         },
         "mode": "markers",
         "name": "Republic Airlines",
         "orientation": "h",
         "showlegend": true,
         "type": "scatter",
         "x": [
          2010,
          2013,
          2014,
          2015
         ],
         "xaxis": "x",
         "y": [
          "Republic Airlines",
          "Republic Airlines",
          "Republic Airlines",
          "Republic Airlines"
         ],
         "yaxis": "y"
        },
        {
         "hovertemplate": "Operating Airline=%{y}<br>Year=%{x}<br>Total Passengers=%{marker.size}<extra></extra>",
         "legendgroup": "Servisair",
         "marker": {
          "color": "#FFA15A",
          "size": [
           382,
           1378,
           965,
           485
          ],
          "sizemode": "area",
          "sizeref": 36908.7625,
          "symbol": "circle"
         },
         "mode": "markers",
         "name": "Servisair",
         "orientation": "h",
         "showlegend": true,
         "type": "scatter",
         "x": [
          2010,
          2011,
          2012,
          2013
         ],
         "xaxis": "x",
         "y": [
          "Servisair",
          "Servisair",
          "Servisair",
          "Servisair"
         ],
         "yaxis": "y"
        },
        {
         "hovertemplate": "Operating Airline=%{y}<br>Year=%{x}<br>Total Passengers=%{marker.size}<extra></extra>",
         "legendgroup": "SkyWest Airlines",
         "marker": {
          "color": "#19d3f3",
          "size": [
           1242993,
           2469041,
           2408371,
           2228941,
           2598425,
           2958710,
           3483088,
           3920723,
           3684517,
           3383585,
           3786241,
           903714
          ],
          "sizemode": "area",
          "sizeref": 36908.7625,
          "symbol": "circle"
         },
         "mode": "markers",
         "name": "SkyWest Airlines",
         "orientation": "h",
         "showlegend": true,
         "type": "scatter",
         "x": [
          2005,
          2006,
          2007,
          2008,
          2009,
          2010,
          2011,
          2012,
          2013,
          2014,
          2015,
          2016
         ],
         "xaxis": "x",
         "y": [
          "SkyWest Airlines",
          "SkyWest Airlines",
          "SkyWest Airlines",
          "SkyWest Airlines",
          "SkyWest Airlines",
          "SkyWest Airlines",
          "SkyWest Airlines",
          "SkyWest Airlines",
          "SkyWest Airlines",
          "SkyWest Airlines",
          "SkyWest Airlines",
          "SkyWest Airlines"
         ],
         "yaxis": "y"
        },
        {
         "hovertemplate": "Operating Airline=%{y}<br>Year=%{x}<br>Total Passengers=%{marker.size}<extra></extra>",
         "legendgroup": "Southwest Airlines",
         "marker": {
          "color": "#FF6692",
          "size": [
           500934,
           2117457,
           2848359,
           2953784,
           2979640,
           3030658,
           3148029,
           3268798,
           3470071,
           780285
          ],
          "sizemode": "area",
          "sizeref": 36908.7625,
          "symbol": "circle"
         },
         "mode": "markers",
         "name": "Southwest Airlines",
         "orientation": "h",
         "showlegend": true,
         "type": "scatter",
         "x": [
          2007,
          2008,
          2009,
          2010,
          2011,
          2012,
          2013,
          2014,
          2015,
          2016
         ],
         "xaxis": "x",
         "y": [
          "Southwest Airlines",
          "Southwest Airlines",
          "Southwest Airlines",
          "Southwest Airlines",
          "Southwest Airlines",
          "Southwest Airlines",
          "Southwest Airlines",
          "Southwest Airlines",
          "Southwest Airlines",
          "Southwest Airlines"
         ],
         "yaxis": "y"
        },
        {
         "hovertemplate": "Operating Airline=%{y}<br>Year=%{x}<br>Total Passengers=%{marker.size}<extra></extra>",
         "legendgroup": "Spirit Airlines",
         "marker": {
          "color": "#B6E880",
          "size": [
           41328,
           28777
          ],
          "sizemode": "area",
          "sizeref": 36908.7625,
          "symbol": "circle"
         },
         "mode": "markers",
         "name": "Spirit Airlines",
         "orientation": "h",
         "showlegend": true,
         "type": "scatter",
         "x": [
          2006,
          2007
         ],
         "xaxis": "x",
         "y": [
          "Spirit Airlines",
          "Spirit Airlines"
         ],
         "yaxis": "y"
        },
        {
         "hovertemplate": "Operating Airline=%{y}<br>Year=%{x}<br>Total Passengers=%{marker.size}<extra></extra>",
         "legendgroup": "Sun Country Airlines",
         "marker": {
          "color": "#FF97FF",
          "size": [
           49425,
           85601,
           101925,
           59769,
           41164,
           50604,
           65383,
           90766,
           119017,
           138169,
           168628,
           19280
          ],
          "sizemode": "area",
          "sizeref": 36908.7625,
          "symbol": "circle"
         },
         "mode": "markers",
         "name": "Sun Country Airlines",
         "orientation": "h",
         "showlegend": true,
         "type": "scatter",
         "x": [
          2005,
          2006,
          2007,
          2008,
          2009,
          2010,
          2011,
          2012,
          2013,
          2014,
          2015,
          2016
         ],
         "xaxis": "x",
         "y": [
          "Sun Country Airlines",
          "Sun Country Airlines",
          "Sun Country Airlines",
          "Sun Country Airlines",
          "Sun Country Airlines",
          "Sun Country Airlines",
          "Sun Country Airlines",
          "Sun Country Airlines",
          "Sun Country Airlines",
          "Sun Country Airlines",
          "Sun Country Airlines",
          "Sun Country Airlines"
         ],
         "yaxis": "y"
        },
        {
         "hovertemplate": "Operating Airline=%{y}<br>Year=%{x}<br>Total Passengers=%{marker.size}<extra></extra>",
         "legendgroup": "Swissport USA",
         "marker": {
          "color": "#FECB52",
          "size": [
           1389,
           211
          ],
          "sizemode": "area",
          "sizeref": 36908.7625,
          "symbol": "circle"
         },
         "mode": "markers",
         "name": "Swissport USA",
         "orientation": "h",
         "showlegend": true,
         "type": "scatter",
         "x": [
          2013,
          2014
         ],
         "xaxis": "x",
         "y": [
          "Swissport USA",
          "Swissport USA"
         ],
         "yaxis": "y"
        },
        {
         "hovertemplate": "Operating Airline=%{y}<br>Year=%{x}<br>Total Passengers=%{marker.size}<extra></extra>",
         "legendgroup": "US Airways",
         "marker": {
          "color": "#636efa",
          "size": [
           865676,
           1680037,
           1708226,
           1704129,
           1633495,
           1363251,
           1573155,
           1543728,
           1618865,
           1723574,
           1402480
          ],
          "sizemode": "area",
          "sizeref": 36908.7625,
          "symbol": "circle"
         },
         "mode": "markers",
         "name": "US Airways",
         "orientation": "h",
         "showlegend": true,
         "type": "scatter",
         "x": [
          2005,
          2006,
          2007,
          2008,
          2009,
          2010,
          2011,
          2012,
          2013,
          2014,
          2015
         ],
         "xaxis": "x",
         "y": [
          "US Airways",
          "US Airways",
          "US Airways",
          "US Airways",
          "US Airways",
          "US Airways",
          "US Airways",
          "US Airways",
          "US Airways",
          "US Airways",
          "US Airways"
         ],
         "yaxis": "y"
        },
        {
         "hovertemplate": "Operating Airline=%{y}<br>Year=%{x}<br>Total Passengers=%{marker.size}<extra></extra>",
         "legendgroup": "United Airlines",
         "marker": {
          "color": "#EF553B",
          "size": [
           642315,
           1259048,
           1337727,
           1342133,
           1428919,
           1493794,
           1742295,
           3531293,
           10166169,
           14722047,
           14763505,
           3258720
          ],
          "sizemode": "area",
          "sizeref": 36908.7625,
          "symbol": "circle"
         },
         "mode": "markers",
         "name": "United Airlines",
         "orientation": "h",
         "showlegend": true,
         "type": "scatter",
         "x": [
          2005,
          2006,
          2007,
          2008,
          2009,
          2010,
          2011,
          2012,
          2013,
          2014,
          2015,
          2016
         ],
         "xaxis": "x",
         "y": [
          "United Airlines",
          "United Airlines",
          "United Airlines",
          "United Airlines",
          "United Airlines",
          "United Airlines",
          "United Airlines",
          "United Airlines",
          "United Airlines",
          "United Airlines",
          "United Airlines",
          "United Airlines"
         ],
         "yaxis": "y"
        },
        {
         "hovertemplate": "Operating Airline=%{y}<br>Year=%{x}<br>Total Passengers=%{marker.size}<extra></extra>",
         "legendgroup": "United Airlines - Pre 07/01/2013",
         "marker": {
          "color": "#00cc96",
          "size": [
           5589299,
           10959330,
           11011125,
           10281662,
           9696074,
           10082367,
           10195439,
           10084788,
           3857451
          ],
          "sizemode": "area",
          "sizeref": 36908.7625,
          "symbol": "circle"
         },
         "mode": "markers",
         "name": "United Airlines - Pre 07/01/2013",
         "orientation": "h",
         "showlegend": true,
         "type": "scatter",
         "x": [
          2005,
          2006,
          2007,
          2008,
          2009,
          2010,
          2011,
          2012,
          2013
         ],
         "xaxis": "x",
         "y": [
          "United Airlines - Pre 07/01/2013",
          "United Airlines - Pre 07/01/2013",
          "United Airlines - Pre 07/01/2013",
          "United Airlines - Pre 07/01/2013",
          "United Airlines - Pre 07/01/2013",
          "United Airlines - Pre 07/01/2013",
          "United Airlines - Pre 07/01/2013",
          "United Airlines - Pre 07/01/2013",
          "United Airlines - Pre 07/01/2013"
         ],
         "yaxis": "y"
        },
        {
         "hovertemplate": "Operating Airline=%{y}<br>Year=%{x}<br>Total Passengers=%{marker.size}<extra></extra>",
         "legendgroup": "Virgin America",
         "marker": {
          "color": "#ab63fa",
          "size": [
           292016,
           1804016,
           2363672,
           2408560,
           3006944,
           3778520,
           3720310,
           3884239,
           4069845,
           1022444
          ],
          "sizemode": "area",
          "sizeref": 36908.7625,
          "symbol": "circle"
         },
         "mode": "markers",
         "name": "Virgin America",
         "orientation": "h",
         "showlegend": true,
         "type": "scatter",
         "x": [
          2007,
          2008,
          2009,
          2010,
          2011,
          2012,
          2013,
          2014,
          2015,
          2016
         ],
         "xaxis": "x",
         "y": [
          "Virgin America",
          "Virgin America",
          "Virgin America",
          "Virgin America",
          "Virgin America",
          "Virgin America",
          "Virgin America",
          "Virgin America",
          "Virgin America",
          "Virgin America"
         ],
         "yaxis": "y"
        },
        {
         "hovertemplate": "Operating Airline=%{y}<br>Year=%{x}<br>Total Passengers=%{marker.size}<extra></extra>",
         "legendgroup": "World Airways",
         "marker": {
          "color": "#FFA15A",
          "size": [
           271
          ],
          "sizemode": "area",
          "sizeref": 36908.7625,
          "symbol": "circle"
         },
         "mode": "markers",
         "name": "World Airways",
         "orientation": "h",
         "showlegend": true,
         "type": "scatter",
         "x": [
          2012
         ],
         "xaxis": "x",
         "y": [
          "World Airways"
         ],
         "yaxis": "y"
        },
        {
         "hovertemplate": "Operating Airline=%{y}<br>Year=%{x}<br>Total Passengers=%{marker.size}<extra></extra>",
         "legendgroup": "Xtra Airways",
         "marker": {
          "color": "#19d3f3",
          "size": [
           146
          ],
          "sizemode": "area",
          "sizeref": 36908.7625,
          "symbol": "circle"
         },
         "mode": "markers",
         "name": "Xtra Airways",
         "orientation": "h",
         "showlegend": true,
         "type": "scatter",
         "x": [
          2006
         ],
         "xaxis": "x",
         "y": [
          "Xtra Airways"
         ],
         "yaxis": "y"
        }
       ],
       "layout": {
        "legend": {
         "itemsizing": "constant",
         "title": {
          "text": "Operating Airline"
         },
         "tracegroupgap": 0
        },
        "template": {
         "data": {
          "bar": [
           {
            "error_x": {
             "color": "#2a3f5f"
            },
            "error_y": {
             "color": "#2a3f5f"
            },
            "marker": {
             "line": {
              "color": "#E5ECF6",
              "width": 0.5
             },
             "pattern": {
              "fillmode": "overlay",
              "size": 10,
              "solidity": 0.2
             }
            },
            "type": "bar"
           }
          ],
          "barpolar": [
           {
            "marker": {
             "line": {
              "color": "#E5ECF6",
              "width": 0.5
             },
             "pattern": {
              "fillmode": "overlay",
              "size": 10,
              "solidity": 0.2
             }
            },
            "type": "barpolar"
           }
          ],
          "carpet": [
           {
            "aaxis": {
             "endlinecolor": "#2a3f5f",
             "gridcolor": "white",
             "linecolor": "white",
             "minorgridcolor": "white",
             "startlinecolor": "#2a3f5f"
            },
            "baxis": {
             "endlinecolor": "#2a3f5f",
             "gridcolor": "white",
             "linecolor": "white",
             "minorgridcolor": "white",
             "startlinecolor": "#2a3f5f"
            },
            "type": "carpet"
           }
          ],
          "choropleth": [
           {
            "colorbar": {
             "outlinewidth": 0,
             "ticks": ""
            },
            "type": "choropleth"
           }
          ],
          "contour": [
           {
            "colorbar": {
             "outlinewidth": 0,
             "ticks": ""
            },
            "colorscale": [
             [
              0,
              "#0d0887"
             ],
             [
              0.1111111111111111,
              "#46039f"
             ],
             [
              0.2222222222222222,
              "#7201a8"
             ],
             [
              0.3333333333333333,
              "#9c179e"
             ],
             [
              0.4444444444444444,
              "#bd3786"
             ],
             [
              0.5555555555555556,
              "#d8576b"
             ],
             [
              0.6666666666666666,
              "#ed7953"
             ],
             [
              0.7777777777777778,
              "#fb9f3a"
             ],
             [
              0.8888888888888888,
              "#fdca26"
             ],
             [
              1,
              "#f0f921"
             ]
            ],
            "type": "contour"
           }
          ],
          "contourcarpet": [
           {
            "colorbar": {
             "outlinewidth": 0,
             "ticks": ""
            },
            "type": "contourcarpet"
           }
          ],
          "heatmap": [
           {
            "colorbar": {
             "outlinewidth": 0,
             "ticks": ""
            },
            "colorscale": [
             [
              0,
              "#0d0887"
             ],
             [
              0.1111111111111111,
              "#46039f"
             ],
             [
              0.2222222222222222,
              "#7201a8"
             ],
             [
              0.3333333333333333,
              "#9c179e"
             ],
             [
              0.4444444444444444,
              "#bd3786"
             ],
             [
              0.5555555555555556,
              "#d8576b"
             ],
             [
              0.6666666666666666,
              "#ed7953"
             ],
             [
              0.7777777777777778,
              "#fb9f3a"
             ],
             [
              0.8888888888888888,
              "#fdca26"
             ],
             [
              1,
              "#f0f921"
             ]
            ],
            "type": "heatmap"
           }
          ],
          "heatmapgl": [
           {
            "colorbar": {
             "outlinewidth": 0,
             "ticks": ""
            },
            "colorscale": [
             [
              0,
              "#0d0887"
             ],
             [
              0.1111111111111111,
              "#46039f"
             ],
             [
              0.2222222222222222,
              "#7201a8"
             ],
             [
              0.3333333333333333,
              "#9c179e"
             ],
             [
              0.4444444444444444,
              "#bd3786"
             ],
             [
              0.5555555555555556,
              "#d8576b"
             ],
             [
              0.6666666666666666,
              "#ed7953"
             ],
             [
              0.7777777777777778,
              "#fb9f3a"
             ],
             [
              0.8888888888888888,
              "#fdca26"
             ],
             [
              1,
              "#f0f921"
             ]
            ],
            "type": "heatmapgl"
           }
          ],
          "histogram": [
           {
            "marker": {
             "pattern": {
              "fillmode": "overlay",
              "size": 10,
              "solidity": 0.2
             }
            },
            "type": "histogram"
           }
          ],
          "histogram2d": [
           {
            "colorbar": {
             "outlinewidth": 0,
             "ticks": ""
            },
            "colorscale": [
             [
              0,
              "#0d0887"
             ],
             [
              0.1111111111111111,
              "#46039f"
             ],
             [
              0.2222222222222222,
              "#7201a8"
             ],
             [
              0.3333333333333333,
              "#9c179e"
             ],
             [
              0.4444444444444444,
              "#bd3786"
             ],
             [
              0.5555555555555556,
              "#d8576b"
             ],
             [
              0.6666666666666666,
              "#ed7953"
             ],
             [
              0.7777777777777778,
              "#fb9f3a"
             ],
             [
              0.8888888888888888,
              "#fdca26"
             ],
             [
              1,
              "#f0f921"
             ]
            ],
            "type": "histogram2d"
           }
          ],
          "histogram2dcontour": [
           {
            "colorbar": {
             "outlinewidth": 0,
             "ticks": ""
            },
            "colorscale": [
             [
              0,
              "#0d0887"
             ],
             [
              0.1111111111111111,
              "#46039f"
             ],
             [
              0.2222222222222222,
              "#7201a8"
             ],
             [
              0.3333333333333333,
              "#9c179e"
             ],
             [
              0.4444444444444444,
              "#bd3786"
             ],
             [
              0.5555555555555556,
              "#d8576b"
             ],
             [
              0.6666666666666666,
              "#ed7953"
             ],
             [
              0.7777777777777778,
              "#fb9f3a"
             ],
             [
              0.8888888888888888,
              "#fdca26"
             ],
             [
              1,
              "#f0f921"
             ]
            ],
            "type": "histogram2dcontour"
           }
          ],
          "mesh3d": [
           {
            "colorbar": {
             "outlinewidth": 0,
             "ticks": ""
            },
            "type": "mesh3d"
           }
          ],
          "parcoords": [
           {
            "line": {
             "colorbar": {
              "outlinewidth": 0,
              "ticks": ""
             }
            },
            "type": "parcoords"
           }
          ],
          "pie": [
           {
            "automargin": true,
            "type": "pie"
           }
          ],
          "scatter": [
           {
            "fillpattern": {
             "fillmode": "overlay",
             "size": 10,
             "solidity": 0.2
            },
            "type": "scatter"
           }
          ],
          "scatter3d": [
           {
            "line": {
             "colorbar": {
              "outlinewidth": 0,
              "ticks": ""
             }
            },
            "marker": {
             "colorbar": {
              "outlinewidth": 0,
              "ticks": ""
             }
            },
            "type": "scatter3d"
           }
          ],
          "scattercarpet": [
           {
            "marker": {
             "colorbar": {
              "outlinewidth": 0,
              "ticks": ""
             }
            },
            "type": "scattercarpet"
           }
          ],
          "scattergeo": [
           {
            "marker": {
             "colorbar": {
              "outlinewidth": 0,
              "ticks": ""
             }
            },
            "type": "scattergeo"
           }
          ],
          "scattergl": [
           {
            "marker": {
             "colorbar": {
              "outlinewidth": 0,
              "ticks": ""
             }
            },
            "type": "scattergl"
           }
          ],
          "scattermapbox": [
           {
            "marker": {
             "colorbar": {
              "outlinewidth": 0,
              "ticks": ""
             }
            },
            "type": "scattermapbox"
           }
          ],
          "scatterpolar": [
           {
            "marker": {
             "colorbar": {
              "outlinewidth": 0,
              "ticks": ""
             }
            },
            "type": "scatterpolar"
           }
          ],
          "scatterpolargl": [
           {
            "marker": {
             "colorbar": {
              "outlinewidth": 0,
              "ticks": ""
             }
            },
            "type": "scatterpolargl"
           }
          ],
          "scatterternary": [
           {
            "marker": {
             "colorbar": {
              "outlinewidth": 0,
              "ticks": ""
             }
            },
            "type": "scatterternary"
           }
          ],
          "surface": [
           {
            "colorbar": {
             "outlinewidth": 0,
             "ticks": ""
            },
            "colorscale": [
             [
              0,
              "#0d0887"
             ],
             [
              0.1111111111111111,
              "#46039f"
             ],
             [
              0.2222222222222222,
              "#7201a8"
             ],
             [
              0.3333333333333333,
              "#9c179e"
             ],
             [
              0.4444444444444444,
              "#bd3786"
             ],
             [
              0.5555555555555556,
              "#d8576b"
             ],
             [
              0.6666666666666666,
              "#ed7953"
             ],
             [
              0.7777777777777778,
              "#fb9f3a"
             ],
             [
              0.8888888888888888,
              "#fdca26"
             ],
             [
              1,
              "#f0f921"
             ]
            ],
            "type": "surface"
           }
          ],
          "table": [
           {
            "cells": {
             "fill": {
              "color": "#EBF0F8"
             },
             "line": {
              "color": "white"
             }
            },
            "header": {
             "fill": {
              "color": "#C8D4E3"
             },
             "line": {
              "color": "white"
             }
            },
            "type": "table"
           }
          ]
         },
         "layout": {
          "annotationdefaults": {
           "arrowcolor": "#2a3f5f",
           "arrowhead": 0,
           "arrowwidth": 1
          },
          "autotypenumbers": "strict",
          "coloraxis": {
           "colorbar": {
            "outlinewidth": 0,
            "ticks": ""
           }
          },
          "colorscale": {
           "diverging": [
            [
             0,
             "#8e0152"
            ],
            [
             0.1,
             "#c51b7d"
            ],
            [
             0.2,
             "#de77ae"
            ],
            [
             0.3,
             "#f1b6da"
            ],
            [
             0.4,
             "#fde0ef"
            ],
            [
             0.5,
             "#f7f7f7"
            ],
            [
             0.6,
             "#e6f5d0"
            ],
            [
             0.7,
             "#b8e186"
            ],
            [
             0.8,
             "#7fbc41"
            ],
            [
             0.9,
             "#4d9221"
            ],
            [
             1,
             "#276419"
            ]
           ],
           "sequential": [
            [
             0,
             "#0d0887"
            ],
            [
             0.1111111111111111,
             "#46039f"
            ],
            [
             0.2222222222222222,
             "#7201a8"
            ],
            [
             0.3333333333333333,
             "#9c179e"
            ],
            [
             0.4444444444444444,
             "#bd3786"
            ],
            [
             0.5555555555555556,
             "#d8576b"
            ],
            [
             0.6666666666666666,
             "#ed7953"
            ],
            [
             0.7777777777777778,
             "#fb9f3a"
            ],
            [
             0.8888888888888888,
             "#fdca26"
            ],
            [
             1,
             "#f0f921"
            ]
           ],
           "sequentialminus": [
            [
             0,
             "#0d0887"
            ],
            [
             0.1111111111111111,
             "#46039f"
            ],
            [
             0.2222222222222222,
             "#7201a8"
            ],
            [
             0.3333333333333333,
             "#9c179e"
            ],
            [
             0.4444444444444444,
             "#bd3786"
            ],
            [
             0.5555555555555556,
             "#d8576b"
            ],
            [
             0.6666666666666666,
             "#ed7953"
            ],
            [
             0.7777777777777778,
             "#fb9f3a"
            ],
            [
             0.8888888888888888,
             "#fdca26"
            ],
            [
             1,
             "#f0f921"
            ]
           ]
          },
          "colorway": [
           "#636efa",
           "#EF553B",
           "#00cc96",
           "#ab63fa",
           "#FFA15A",
           "#19d3f3",
           "#FF6692",
           "#B6E880",
           "#FF97FF",
           "#FECB52"
          ],
          "font": {
           "color": "#2a3f5f"
          },
          "geo": {
           "bgcolor": "white",
           "lakecolor": "white",
           "landcolor": "#E5ECF6",
           "showlakes": true,
           "showland": true,
           "subunitcolor": "white"
          },
          "hoverlabel": {
           "align": "left"
          },
          "hovermode": "closest",
          "mapbox": {
           "style": "light"
          },
          "paper_bgcolor": "white",
          "plot_bgcolor": "#E5ECF6",
          "polar": {
           "angularaxis": {
            "gridcolor": "white",
            "linecolor": "white",
            "ticks": ""
           },
           "bgcolor": "#E5ECF6",
           "radialaxis": {
            "gridcolor": "white",
            "linecolor": "white",
            "ticks": ""
           }
          },
          "scene": {
           "xaxis": {
            "backgroundcolor": "#E5ECF6",
            "gridcolor": "white",
            "gridwidth": 2,
            "linecolor": "white",
            "showbackground": true,
            "ticks": "",
            "zerolinecolor": "white"
           },
           "yaxis": {
            "backgroundcolor": "#E5ECF6",
            "gridcolor": "white",
            "gridwidth": 2,
            "linecolor": "white",
            "showbackground": true,
            "ticks": "",
            "zerolinecolor": "white"
           },
           "zaxis": {
            "backgroundcolor": "#E5ECF6",
            "gridcolor": "white",
            "gridwidth": 2,
            "linecolor": "white",
            "showbackground": true,
            "ticks": "",
            "zerolinecolor": "white"
           }
          },
          "shapedefaults": {
           "line": {
            "color": "#2a3f5f"
           }
          },
          "ternary": {
           "aaxis": {
            "gridcolor": "white",
            "linecolor": "white",
            "ticks": ""
           },
           "baxis": {
            "gridcolor": "white",
            "linecolor": "white",
            "ticks": ""
           },
           "bgcolor": "#E5ECF6",
           "caxis": {
            "gridcolor": "white",
            "linecolor": "white",
            "ticks": ""
           }
          },
          "title": {
           "x": 0.05
          },
          "xaxis": {
           "automargin": true,
           "gridcolor": "white",
           "linecolor": "white",
           "ticks": "",
           "title": {
            "standoff": 15
           },
           "zerolinecolor": "white",
           "zerolinewidth": 2
          },
          "yaxis": {
           "automargin": true,
           "gridcolor": "white",
           "linecolor": "white",
           "ticks": "",
           "title": {
            "standoff": 15
           },
           "zerolinecolor": "white",
           "zerolinewidth": 2
          }
         }
        },
        "title": {
         "text": "Total Anual de Pasajeros por Aerolínea (Nacional)"
        },
        "xaxis": {
         "anchor": "y",
         "domain": [
          0,
          1
         ],
         "title": {
          "text": "Year"
         }
        },
        "yaxis": {
         "anchor": "x",
         "categoryarray": [
          "Xtra Airways",
          "World Airways",
          "Virgin America",
          "United Airlines - Pre 07/01/2013",
          "United Airlines",
          "US Airways",
          "Swissport USA",
          "Sun Country Airlines",
          "Spirit Airlines",
          "Southwest Airlines",
          "SkyWest Airlines",
          "Servisair",
          "Republic Airlines",
          "Northwest Airlines",
          "Midwest Airlines",
          "Miami Air International",
          "Mesaba Airlines",
          "Mesa Airlines",
          "JetBlue Airways ",
          "Independence Air",
          "Horizon Air ",
          "Hawaiian Airlines",
          "Frontier Airlines",
          "ExpressJet Airlines",
          "Delta Air Lines",
          "Compass Airlines",
          "Boeing Company",
          "Atlas Air, Inc",
          "Atlantic Southeast Airlines",
          "Ameriflight",
          "American Eagle Airlines",
          "American Airlines",
          "Allegiant Air",
          "Alaska Airlines",
          "AirTran Airways",
          "ATA Airlines"
         ],
         "categoryorder": "array",
         "domain": [
          0,
          1
         ],
         "title": {
          "text": "Operating Airline"
         }
        }
       }
      }
     },
     "metadata": {},
     "output_type": "display_data"
    }
   ],
   "source": [
    "# Pasajeros por aerolíneas en vuelos nacionales\n",
    "analyze_flights(df_1, \"Domestic\", \"Total Anual de Pasajeros por Aerolínea (Nacional)\")\n"
   ]
  },
  {
   "cell_type": "markdown",
   "metadata": {},
   "source": [
    "![](newplot8.png)"
   ]
  },
  {
   "cell_type": "markdown",
   "metadata": {},
   "source": [
    "<div style=\"letter-spacing: 0.5px; text-align: justify; font-size: 14px;\">\n",
    ". Total anual de pasajeros por aerolínea en vuelos internacionales\n",
    "</div>"
   ]
  },
  {
   "cell_type": "code",
   "execution_count": 45,
   "metadata": {},
   "outputs": [
    {
     "data": {
      "application/vnd.plotly.v1+json": {
       "config": {
        "plotlyServerURL": "https://plot.ly"
       },
       "data": [
        {
         "hovertemplate": "Operating Airline=%{y}<br>Year=%{x}<br>Total Passengers=%{marker.size}<extra></extra>",
         "legendgroup": "ATA Airlines",
         "marker": {
          "color": "#636efa",
          "size": [
           568,
           423
          ],
          "sizemode": "area",
          "sizeref": 8614.3175,
          "symbol": "circle"
         },
         "mode": "markers",
         "name": "ATA Airlines",
         "orientation": "h",
         "showlegend": true,
         "type": "scatter",
         "x": [
          2005,
          2007
         ],
         "xaxis": "x",
         "y": [
          "ATA Airlines",
          "ATA Airlines"
         ],
         "yaxis": "y"
        },
        {
         "hovertemplate": "Operating Airline=%{y}<br>Year=%{x}<br>Total Passengers=%{marker.size}<extra></extra>",
         "legendgroup": "Aer Lingus",
         "marker": {
          "color": "#EF553B",
          "size": [
           14709,
           104897,
           65033,
           86838,
           134582,
           25845
          ],
          "sizemode": "area",
          "sizeref": 8614.3175,
          "symbol": "circle"
         },
         "mode": "markers",
         "name": "Aer Lingus",
         "orientation": "h",
         "showlegend": true,
         "type": "scatter",
         "x": [
          2007,
          2008,
          2009,
          2014,
          2015,
          2016
         ],
         "xaxis": "x",
         "y": [
          "Aer Lingus",
          "Aer Lingus",
          "Aer Lingus",
          "Aer Lingus",
          "Aer Lingus",
          "Aer Lingus"
         ],
         "yaxis": "y"
        },
        {
         "hovertemplate": "Operating Airline=%{y}<br>Year=%{x}<br>Total Passengers=%{marker.size}<extra></extra>",
         "legendgroup": "Aeromexico",
         "marker": {
          "color": "#00cc96",
          "size": [
           524,
           60533,
           77648,
           80171,
           74552,
           118783,
           243923,
           263919,
           63435
          ],
          "sizemode": "area",
          "sizeref": 8614.3175,
          "symbol": "circle"
         },
         "mode": "markers",
         "name": "Aeromexico",
         "orientation": "h",
         "showlegend": true,
         "type": "scatter",
         "x": [
          2007,
          2009,
          2010,
          2011,
          2012,
          2013,
          2014,
          2015,
          2016
         ],
         "xaxis": "x",
         "y": [
          "Aeromexico",
          "Aeromexico",
          "Aeromexico",
          "Aeromexico",
          "Aeromexico",
          "Aeromexico",
          "Aeromexico",
          "Aeromexico",
          "Aeromexico"
         ],
         "yaxis": "y"
        },
        {
         "hovertemplate": "Operating Airline=%{y}<br>Year=%{x}<br>Total Passengers=%{marker.size}<extra></extra>",
         "legendgroup": "Air Berlin",
         "marker": {
          "color": "#ab63fa",
          "size": [
           24119,
           29205,
           30223
          ],
          "sizemode": "area",
          "sizeref": 8614.3175,
          "symbol": "circle"
         },
         "mode": "markers",
         "name": "Air Berlin",
         "orientation": "h",
         "showlegend": true,
         "type": "scatter",
         "x": [
          2010,
          2011,
          2012
         ],
         "xaxis": "x",
         "y": [
          "Air Berlin",
          "Air Berlin",
          "Air Berlin"
         ],
         "yaxis": "y"
        },
        {
         "hovertemplate": "Operating Airline=%{y}<br>Year=%{x}<br>Total Passengers=%{marker.size}<extra></extra>",
         "legendgroup": "Air Canada ",
         "marker": {
          "color": "#FFA15A",
          "size": [
           308746,
           603478,
           625235,
           559857,
           545460,
           561517,
           579553,
           561874,
           613528,
           731007,
           827660,
           162156
          ],
          "sizemode": "area",
          "sizeref": 8614.3175,
          "symbol": "circle"
         },
         "mode": "markers",
         "name": "Air Canada ",
         "orientation": "h",
         "showlegend": true,
         "type": "scatter",
         "x": [
          2005,
          2006,
          2007,
          2008,
          2009,
          2010,
          2011,
          2012,
          2013,
          2014,
          2015,
          2016
         ],
         "xaxis": "x",
         "y": [
          "Air Canada ",
          "Air Canada ",
          "Air Canada ",
          "Air Canada ",
          "Air Canada ",
          "Air Canada ",
          "Air Canada ",
          "Air Canada ",
          "Air Canada ",
          "Air Canada ",
          "Air Canada ",
          "Air Canada "
         ],
         "yaxis": "y"
        },
        {
         "hovertemplate": "Operating Airline=%{y}<br>Year=%{x}<br>Total Passengers=%{marker.size}<extra></extra>",
         "legendgroup": "Air Canada Jazz",
         "marker": {
          "color": "#19d3f3",
          "size": [
           1063,
           3056
          ],
          "sizemode": "area",
          "sizeref": 8614.3175,
          "symbol": "circle"
         },
         "mode": "markers",
         "name": "Air Canada Jazz",
         "orientation": "h",
         "showlegend": true,
         "type": "scatter",
         "x": [
          2005,
          2006
         ],
         "xaxis": "x",
         "y": [
          "Air Canada Jazz",
          "Air Canada Jazz"
         ],
         "yaxis": "y"
        },
        {
         "hovertemplate": "Operating Airline=%{y}<br>Year=%{x}<br>Total Passengers=%{marker.size}<extra></extra>",
         "legendgroup": "Air China",
         "marker": {
          "color": "#FF6692",
          "size": [
           54421,
           117464,
           156195,
           147013,
           122027,
           157161,
           169458,
           171633,
           189905,
           184737,
           196393,
           47742
          ],
          "sizemode": "area",
          "sizeref": 8614.3175,
          "symbol": "circle"
         },
         "mode": "markers",
         "name": "Air China",
         "orientation": "h",
         "showlegend": true,
         "type": "scatter",
         "x": [
          2005,
          2006,
          2007,
          2008,
          2009,
          2010,
          2011,
          2012,
          2013,
          2014,
          2015,
          2016
         ],
         "xaxis": "x",
         "y": [
          "Air China",
          "Air China",
          "Air China",
          "Air China",
          "Air China",
          "Air China",
          "Air China",
          "Air China",
          "Air China",
          "Air China",
          "Air China",
          "Air China"
         ],
         "yaxis": "y"
        },
        {
         "hovertemplate": "Operating Airline=%{y}<br>Year=%{x}<br>Total Passengers=%{marker.size}<extra></extra>",
         "legendgroup": "Air France",
         "marker": {
          "color": "#B6E880",
          "size": [
           119337,
           235893,
           231093,
           242174,
           245882,
           259807,
           297633,
           321072,
           320853,
           316303,
           345660,
           54275
          ],
          "sizemode": "area",
          "sizeref": 8614.3175,
          "symbol": "circle"
         },
         "mode": "markers",
         "name": "Air France",
         "orientation": "h",
         "showlegend": true,
         "type": "scatter",
         "x": [
          2005,
          2006,
          2007,
          2008,
          2009,
          2010,
          2011,
          2012,
          2013,
          2014,
          2015,
          2016
         ],
         "xaxis": "x",
         "y": [
          "Air France",
          "Air France",
          "Air France",
          "Air France",
          "Air France",
          "Air France",
          "Air France",
          "Air France",
          "Air France",
          "Air France",
          "Air France",
          "Air France"
         ],
         "yaxis": "y"
        },
        {
         "hovertemplate": "Operating Airline=%{y}<br>Year=%{x}<br>Total Passengers=%{marker.size}<extra></extra>",
         "legendgroup": "Air India Limited",
         "marker": {
          "color": "#FF97FF",
          "size": [
           5832,
           16844
          ],
          "sizemode": "area",
          "sizeref": 8614.3175,
          "symbol": "circle"
         },
         "mode": "markers",
         "name": "Air India Limited",
         "orientation": "h",
         "showlegend": true,
         "type": "scatter",
         "x": [
          2015,
          2016
         ],
         "xaxis": "x",
         "y": [
          "Air India Limited",
          "Air India Limited"
         ],
         "yaxis": "y"
        },
        {
         "hovertemplate": "Operating Airline=%{y}<br>Year=%{x}<br>Total Passengers=%{marker.size}<extra></extra>",
         "legendgroup": "Air New Zealand",
         "marker": {
          "color": "#FECB52",
          "size": [
           57989,
           157560,
           181811,
           177389,
           141420,
           140290,
           171816,
           184807,
           211493,
           220947,
           226865,
           57769
          ],
          "sizemode": "area",
          "sizeref": 8614.3175,
          "symbol": "circle"
         },
         "mode": "markers",
         "name": "Air New Zealand",
         "orientation": "h",
         "showlegend": true,
         "type": "scatter",
         "x": [
          2005,
          2006,
          2007,
          2008,
          2009,
          2010,
          2011,
          2012,
          2013,
          2014,
          2015,
          2016
         ],
         "xaxis": "x",
         "y": [
          "Air New Zealand",
          "Air New Zealand",
          "Air New Zealand",
          "Air New Zealand",
          "Air New Zealand",
          "Air New Zealand",
          "Air New Zealand",
          "Air New Zealand",
          "Air New Zealand",
          "Air New Zealand",
          "Air New Zealand",
          "Air New Zealand"
         ],
         "yaxis": "y"
        },
        {
         "hovertemplate": "Operating Airline=%{y}<br>Year=%{x}<br>Total Passengers=%{marker.size}<extra></extra>",
         "legendgroup": "Alaska Airlines",
         "marker": {
          "color": "#636efa",
          "size": [
           219432,
           436907,
           444089,
           362273,
           149536,
           183154,
           169262,
           143554,
           149474,
           151281,
           132699,
           35013
          ],
          "sizemode": "area",
          "sizeref": 8614.3175,
          "symbol": "circle"
         },
         "mode": "markers",
         "name": "Alaska Airlines",
         "orientation": "h",
         "showlegend": true,
         "type": "scatter",
         "x": [
          2005,
          2006,
          2007,
          2008,
          2009,
          2010,
          2011,
          2012,
          2013,
          2014,
          2015,
          2016
         ],
         "xaxis": "x",
         "y": [
          "Alaska Airlines",
          "Alaska Airlines",
          "Alaska Airlines",
          "Alaska Airlines",
          "Alaska Airlines",
          "Alaska Airlines",
          "Alaska Airlines",
          "Alaska Airlines",
          "Alaska Airlines",
          "Alaska Airlines",
          "Alaska Airlines",
          "Alaska Airlines"
         ],
         "yaxis": "y"
        },
        {
         "hovertemplate": "Operating Airline=%{y}<br>Year=%{x}<br>Total Passengers=%{marker.size}<extra></extra>",
         "legendgroup": "All Nippon Airways",
         "marker": {
          "color": "#EF553B",
          "size": [
           70884,
           144313,
           148832,
           142292,
           142199,
           154227,
           149015,
           170039,
           158918,
           160620,
           166356,
           39770
          ],
          "sizemode": "area",
          "sizeref": 8614.3175,
          "symbol": "circle"
         },
         "mode": "markers",
         "name": "All Nippon Airways",
         "orientation": "h",
         "showlegend": true,
         "type": "scatter",
         "x": [
          2005,
          2006,
          2007,
          2008,
          2009,
          2010,
          2011,
          2012,
          2013,
          2014,
          2015,
          2016
         ],
         "xaxis": "x",
         "y": [
          "All Nippon Airways",
          "All Nippon Airways",
          "All Nippon Airways",
          "All Nippon Airways",
          "All Nippon Airways",
          "All Nippon Airways",
          "All Nippon Airways",
          "All Nippon Airways",
          "All Nippon Airways",
          "All Nippon Airways",
          "All Nippon Airways",
          "All Nippon Airways"
         ],
         "yaxis": "y"
        },
        {
         "hovertemplate": "Operating Airline=%{y}<br>Year=%{x}<br>Total Passengers=%{marker.size}<extra></extra>",
         "legendgroup": "Asiana Airlines",
         "marker": {
          "color": "#00cc96",
          "size": [
           56446,
           106370,
           106507,
           108992,
           107841,
           110507,
           153285,
           184701,
           176396,
           183272,
           184275,
           44372
          ],
          "sizemode": "area",
          "sizeref": 8614.3175,
          "symbol": "circle"
         },
         "mode": "markers",
         "name": "Asiana Airlines",
         "orientation": "h",
         "showlegend": true,
         "type": "scatter",
         "x": [
          2005,
          2006,
          2007,
          2008,
          2009,
          2010,
          2011,
          2012,
          2013,
          2014,
          2015,
          2016
         ],
         "xaxis": "x",
         "y": [
          "Asiana Airlines",
          "Asiana Airlines",
          "Asiana Airlines",
          "Asiana Airlines",
          "Asiana Airlines",
          "Asiana Airlines",
          "Asiana Airlines",
          "Asiana Airlines",
          "Asiana Airlines",
          "Asiana Airlines",
          "Asiana Airlines",
          "Asiana Airlines"
         ],
         "yaxis": "y"
        },
        {
         "hovertemplate": "Operating Airline=%{y}<br>Year=%{x}<br>Total Passengers=%{marker.size}<extra></extra>",
         "legendgroup": "BelAir Airlines",
         "marker": {
          "color": "#ab63fa",
          "size": [
           2397,
           2883,
           4136
          ],
          "sizemode": "area",
          "sizeref": 8614.3175,
          "symbol": "circle"
         },
         "mode": "markers",
         "name": "BelAir Airlines",
         "orientation": "h",
         "showlegend": true,
         "type": "scatter",
         "x": [
          2005,
          2006,
          2008
         ],
         "xaxis": "x",
         "y": [
          "BelAir Airlines",
          "BelAir Airlines",
          "BelAir Airlines"
         ],
         "yaxis": "y"
        },
        {
         "hovertemplate": "Operating Airline=%{y}<br>Year=%{x}<br>Total Passengers=%{marker.size}<extra></extra>",
         "legendgroup": "British Airways",
         "marker": {
          "color": "#FFA15A",
          "size": [
           223392,
           433421,
           429430,
           414492,
           398566,
           377131,
           420219,
           419738,
           425354,
           423236,
           472375,
           109928
          ],
          "sizemode": "area",
          "sizeref": 8614.3175,
          "symbol": "circle"
         },
         "mode": "markers",
         "name": "British Airways",
         "orientation": "h",
         "showlegend": true,
         "type": "scatter",
         "x": [
          2005,
          2006,
          2007,
          2008,
          2009,
          2010,
          2011,
          2012,
          2013,
          2014,
          2015,
          2016
         ],
         "xaxis": "x",
         "y": [
          "British Airways",
          "British Airways",
          "British Airways",
          "British Airways",
          "British Airways",
          "British Airways",
          "British Airways",
          "British Airways",
          "British Airways",
          "British Airways",
          "British Airways",
          "British Airways"
         ],
         "yaxis": "y"
        },
        {
         "hovertemplate": "Operating Airline=%{y}<br>Year=%{x}<br>Total Passengers=%{marker.size}<extra></extra>",
         "legendgroup": "COPA Airlines, Inc.",
         "marker": {
          "color": "#19d3f3",
          "size": [
           24925,
           22928
          ],
          "sizemode": "area",
          "sizeref": 8614.3175,
          "symbol": "circle"
         },
         "mode": "markers",
         "name": "COPA Airlines, Inc.",
         "orientation": "h",
         "showlegend": true,
         "type": "scatter",
         "x": [
          2015,
          2016
         ],
         "xaxis": "x",
         "y": [
          "COPA Airlines, Inc.",
          "COPA Airlines, Inc."
         ],
         "yaxis": "y"
        },
        {
         "hovertemplate": "Operating Airline=%{y}<br>Year=%{x}<br>Total Passengers=%{marker.size}<extra></extra>",
         "legendgroup": "Cathay Pacific",
         "marker": {
          "color": "#FF6692",
          "size": [
           120704,
           251407,
           293401,
           462437,
           458512,
           491266,
           477709,
           455994,
           423061,
           416620,
           449950,
           116241
          ],
          "sizemode": "area",
          "sizeref": 8614.3175,
          "symbol": "circle"
         },
         "mode": "markers",
         "name": "Cathay Pacific",
         "orientation": "h",
         "showlegend": true,
         "type": "scatter",
         "x": [
          2005,
          2006,
          2007,
          2008,
          2009,
          2010,
          2011,
          2012,
          2013,
          2014,
          2015,
          2016
         ],
         "xaxis": "x",
         "y": [
          "Cathay Pacific",
          "Cathay Pacific",
          "Cathay Pacific",
          "Cathay Pacific",
          "Cathay Pacific",
          "Cathay Pacific",
          "Cathay Pacific",
          "Cathay Pacific",
          "Cathay Pacific",
          "Cathay Pacific",
          "Cathay Pacific",
          "Cathay Pacific"
         ],
         "yaxis": "y"
        },
        {
         "hovertemplate": "Operating Airline=%{y}<br>Year=%{x}<br>Total Passengers=%{marker.size}<extra></extra>",
         "legendgroup": "China Airlines",
         "marker": {
          "color": "#B6E880",
          "size": [
           128662,
           254284,
           251242,
           232495,
           239161,
           236176,
           222700,
           227343,
           229500,
           234860,
           229955,
           56861
          ],
          "sizemode": "area",
          "sizeref": 8614.3175,
          "symbol": "circle"
         },
         "mode": "markers",
         "name": "China Airlines",
         "orientation": "h",
         "showlegend": true,
         "type": "scatter",
         "x": [
          2005,
          2006,
          2007,
          2008,
          2009,
          2010,
          2011,
          2012,
          2013,
          2014,
          2015,
          2016
         ],
         "xaxis": "x",
         "y": [
          "China Airlines",
          "China Airlines",
          "China Airlines",
          "China Airlines",
          "China Airlines",
          "China Airlines",
          "China Airlines",
          "China Airlines",
          "China Airlines",
          "China Airlines",
          "China Airlines",
          "China Airlines"
         ],
         "yaxis": "y"
        },
        {
         "hovertemplate": "Operating Airline=%{y}<br>Year=%{x}<br>Total Passengers=%{marker.size}<extra></extra>",
         "legendgroup": "China Eastern",
         "marker": {
          "color": "#FF97FF",
          "size": [
           91357,
           131780,
           135224,
           37524
          ],
          "sizemode": "area",
          "sizeref": 8614.3175,
          "symbol": "circle"
         },
         "mode": "markers",
         "name": "China Eastern",
         "orientation": "h",
         "showlegend": true,
         "type": "scatter",
         "x": [
          2013,
          2014,
          2015,
          2016
         ],
         "xaxis": "x",
         "y": [
          "China Eastern",
          "China Eastern",
          "China Eastern",
          "China Eastern"
         ],
         "yaxis": "y"
        },
        {
         "hovertemplate": "Operating Airline=%{y}<br>Year=%{x}<br>Total Passengers=%{marker.size}<extra></extra>",
         "legendgroup": "China Southern",
         "marker": {
          "color": "#FECB52",
          "size": [
           2729,
           100178,
           35379
          ],
          "sizemode": "area",
          "sizeref": 8614.3175,
          "symbol": "circle"
         },
         "mode": "markers",
         "name": "China Southern",
         "orientation": "h",
         "showlegend": true,
         "type": "scatter",
         "x": [
          2014,
          2015,
          2016
         ],
         "xaxis": "x",
         "y": [
          "China Southern",
          "China Southern",
          "China Southern"
         ],
         "yaxis": "y"
        },
        {
         "hovertemplate": "Operating Airline=%{y}<br>Year=%{x}<br>Total Passengers=%{marker.size}<extra></extra>",
         "legendgroup": "Delta Air Lines",
         "marker": {
          "color": "#636efa",
          "size": [
           131290,
           113031,
           116636,
           114462,
           22822
          ],
          "sizemode": "area",
          "sizeref": 8614.3175,
          "symbol": "circle"
         },
         "mode": "markers",
         "name": "Delta Air Lines",
         "orientation": "h",
         "showlegend": true,
         "type": "scatter",
         "x": [
          2010,
          2011,
          2012,
          2013,
          2014
         ],
         "xaxis": "x",
         "y": [
          "Delta Air Lines",
          "Delta Air Lines",
          "Delta Air Lines",
          "Delta Air Lines",
          "Delta Air Lines"
         ],
         "yaxis": "y"
        },
        {
         "hovertemplate": "Operating Airline=%{y}<br>Year=%{x}<br>Total Passengers=%{marker.size}<extra></extra>",
         "legendgroup": "EVA Airways",
         "marker": {
          "color": "#EF553B",
          "size": [
           139737,
           297488,
           318927,
           297655,
           283408,
           290835,
           277275,
           300260,
           319702,
           360680,
           395624,
           102429
          ],
          "sizemode": "area",
          "sizeref": 8614.3175,
          "symbol": "circle"
         },
         "mode": "markers",
         "name": "EVA Airways",
         "orientation": "h",
         "showlegend": true,
         "type": "scatter",
         "x": [
          2005,
          2006,
          2007,
          2008,
          2009,
          2010,
          2011,
          2012,
          2013,
          2014,
          2015,
          2016
         ],
         "xaxis": "x",
         "y": [
          "EVA Airways",
          "EVA Airways",
          "EVA Airways",
          "EVA Airways",
          "EVA Airways",
          "EVA Airways",
          "EVA Airways",
          "EVA Airways",
          "EVA Airways",
          "EVA Airways",
          "EVA Airways",
          "EVA Airways"
         ],
         "yaxis": "y"
        },
        {
         "hovertemplate": "Operating Airline=%{y}<br>Year=%{x}<br>Total Passengers=%{marker.size}<extra></extra>",
         "legendgroup": "Emirates ",
         "marker": {
          "color": "#00cc96",
          "size": [
           2913,
           138534,
           211814,
           216358,
           226735,
           223274,
           240537,
           298613,
           73978
          ],
          "sizemode": "area",
          "sizeref": 8614.3175,
          "symbol": "circle"
         },
         "mode": "markers",
         "name": "Emirates ",
         "orientation": "h",
         "showlegend": true,
         "type": "scatter",
         "x": [
          2008,
          2009,
          2010,
          2011,
          2012,
          2013,
          2014,
          2015,
          2016
         ],
         "xaxis": "x",
         "y": [
          "Emirates ",
          "Emirates ",
          "Emirates ",
          "Emirates ",
          "Emirates ",
          "Emirates ",
          "Emirates ",
          "Emirates ",
          "Emirates "
         ],
         "yaxis": "y"
        },
        {
         "hovertemplate": "Operating Airline=%{y}<br>Year=%{x}<br>Total Passengers=%{marker.size}<extra></extra>",
         "legendgroup": "Etihad Airways",
         "marker": {
          "color": "#ab63fa",
          "size": [
           18915,
           162631,
           38641
          ],
          "sizemode": "area",
          "sizeref": 8614.3175,
          "symbol": "circle"
         },
         "mode": "markers",
         "name": "Etihad Airways",
         "orientation": "h",
         "showlegend": true,
         "type": "scatter",
         "x": [
          2014,
          2015,
          2016
         ],
         "xaxis": "x",
         "y": [
          "Etihad Airways",
          "Etihad Airways",
          "Etihad Airways"
         ],
         "yaxis": "y"
        },
        {
         "hovertemplate": "Operating Airline=%{y}<br>Year=%{x}<br>Total Passengers=%{marker.size}<extra></extra>",
         "legendgroup": "Evergreen International Airlines",
         "marker": {
          "color": "#FFA15A",
          "size": [
           4
          ],
          "sizemode": "area",
          "sizeref": 8614.3175,
          "symbol": "circle"
         },
         "mode": "markers",
         "name": "Evergreen International Airlines",
         "orientation": "h",
         "showlegend": true,
         "type": "scatter",
         "x": [
          2006
         ],
         "xaxis": "x",
         "y": [
          "Evergreen International Airlines"
         ],
         "yaxis": "y"
        },
        {
         "hovertemplate": "Operating Airline=%{y}<br>Year=%{x}<br>Total Passengers=%{marker.size}<extra></extra>",
         "legendgroup": "Icelandair",
         "marker": {
          "color": "#19d3f3",
          "size": [
           23384,
           32610
          ],
          "sizemode": "area",
          "sizeref": 8614.3175,
          "symbol": "circle"
         },
         "mode": "markers",
         "name": "Icelandair",
         "orientation": "h",
         "showlegend": true,
         "type": "scatter",
         "x": [
          2005,
          2006
         ],
         "xaxis": "x",
         "y": [
          "Icelandair",
          "Icelandair"
         ],
         "yaxis": "y"
        },
        {
         "hovertemplate": "Operating Airline=%{y}<br>Year=%{x}<br>Total Passengers=%{marker.size}<extra></extra>",
         "legendgroup": "Japan Airlines",
         "marker": {
          "color": "#FF6692",
          "size": [
           97226,
           195831,
           204424,
           175000,
           149974,
           150901,
           128488,
           141681,
           130802,
           115101,
           149462,
           37210
          ],
          "sizemode": "area",
          "sizeref": 8614.3175,
          "symbol": "circle"
         },
         "mode": "markers",
         "name": "Japan Airlines",
         "orientation": "h",
         "showlegend": true,
         "type": "scatter",
         "x": [
          2005,
          2006,
          2007,
          2008,
          2009,
          2010,
          2011,
          2012,
          2013,
          2014,
          2015,
          2016
         ],
         "xaxis": "x",
         "y": [
          "Japan Airlines",
          "Japan Airlines",
          "Japan Airlines",
          "Japan Airlines",
          "Japan Airlines",
          "Japan Airlines",
          "Japan Airlines",
          "Japan Airlines",
          "Japan Airlines",
          "Japan Airlines",
          "Japan Airlines",
          "Japan Airlines"
         ],
         "yaxis": "y"
        },
        {
         "hovertemplate": "Operating Airline=%{y}<br>Year=%{x}<br>Total Passengers=%{marker.size}<extra></extra>",
         "legendgroup": "Jet Airways",
         "marker": {
          "color": "#B6E880",
          "size": [
           64923,
           3562
          ],
          "sizemode": "area",
          "sizeref": 8614.3175,
          "symbol": "circle"
         },
         "mode": "markers",
         "name": "Jet Airways",
         "orientation": "h",
         "showlegend": true,
         "type": "scatter",
         "x": [
          2008,
          2009
         ],
         "xaxis": "x",
         "y": [
          "Jet Airways",
          "Jet Airways"
         ],
         "yaxis": "y"
        },
        {
         "hovertemplate": "Operating Airline=%{y}<br>Year=%{x}<br>Total Passengers=%{marker.size}<extra></extra>",
         "legendgroup": "KLM Royal Dutch Airlines",
         "marker": {
          "color": "#FF97FF",
          "size": [
           105889,
           187069,
           246588,
           248164,
           226978,
           213168,
           220211,
           221311,
           220187,
           223413,
           225307,
           40943
          ],
          "sizemode": "area",
          "sizeref": 8614.3175,
          "symbol": "circle"
         },
         "mode": "markers",
         "name": "KLM Royal Dutch Airlines",
         "orientation": "h",
         "showlegend": true,
         "type": "scatter",
         "x": [
          2005,
          2006,
          2007,
          2008,
          2009,
          2010,
          2011,
          2012,
          2013,
          2014,
          2015,
          2016
         ],
         "xaxis": "x",
         "y": [
          "KLM Royal Dutch Airlines",
          "KLM Royal Dutch Airlines",
          "KLM Royal Dutch Airlines",
          "KLM Royal Dutch Airlines",
          "KLM Royal Dutch Airlines",
          "KLM Royal Dutch Airlines",
          "KLM Royal Dutch Airlines",
          "KLM Royal Dutch Airlines",
          "KLM Royal Dutch Airlines",
          "KLM Royal Dutch Airlines",
          "KLM Royal Dutch Airlines",
          "KLM Royal Dutch Airlines"
         ],
         "yaxis": "y"
        },
        {
         "hovertemplate": "Operating Airline=%{y}<br>Year=%{x}<br>Total Passengers=%{marker.size}<extra></extra>",
         "legendgroup": "Korean Air Lines",
         "marker": {
          "color": "#FECB52",
          "size": [
           62036,
           124833,
           107452,
           109314,
           112157,
           126328,
           133469,
           159075,
           156889,
           155545,
           165784,
           52161
          ],
          "sizemode": "area",
          "sizeref": 8614.3175,
          "symbol": "circle"
         },
         "mode": "markers",
         "name": "Korean Air Lines",
         "orientation": "h",
         "showlegend": true,
         "type": "scatter",
         "x": [
          2005,
          2006,
          2007,
          2008,
          2009,
          2010,
          2011,
          2012,
          2013,
          2014,
          2015,
          2016
         ],
         "xaxis": "x",
         "y": [
          "Korean Air Lines",
          "Korean Air Lines",
          "Korean Air Lines",
          "Korean Air Lines",
          "Korean Air Lines",
          "Korean Air Lines",
          "Korean Air Lines",
          "Korean Air Lines",
          "Korean Air Lines",
          "Korean Air Lines",
          "Korean Air Lines",
          "Korean Air Lines"
         ],
         "yaxis": "y"
        },
        {
         "hovertemplate": "Operating Airline=%{y}<br>Year=%{x}<br>Total Passengers=%{marker.size}<extra></extra>",
         "legendgroup": "LAN Peru",
         "marker": {
          "color": "#636efa",
          "size": [
           36471,
           66758,
           66453,
           65412,
           15647
          ],
          "sizemode": "area",
          "sizeref": 8614.3175,
          "symbol": "circle"
         },
         "mode": "markers",
         "name": "LAN Peru",
         "orientation": "h",
         "showlegend": true,
         "type": "scatter",
         "x": [
          2010,
          2011,
          2012,
          2013,
          2014
         ],
         "xaxis": "x",
         "y": [
          "LAN Peru",
          "LAN Peru",
          "LAN Peru",
          "LAN Peru",
          "LAN Peru"
         ],
         "yaxis": "y"
        },
        {
         "hovertemplate": "Operating Airline=%{y}<br>Year=%{x}<br>Total Passengers=%{marker.size}<extra></extra>",
         "legendgroup": "Lufthansa German Airlines",
         "marker": {
          "color": "#EF553B",
          "size": [
           228700,
           454006,
           434126,
           417254,
           420712,
           407314,
           475088,
           502614,
           499850,
           504743,
           516122,
           119378
          ],
          "sizemode": "area",
          "sizeref": 8614.3175,
          "symbol": "circle"
         },
         "mode": "markers",
         "name": "Lufthansa German Airlines",
         "orientation": "h",
         "showlegend": true,
         "type": "scatter",
         "x": [
          2005,
          2006,
          2007,
          2008,
          2009,
          2010,
          2011,
          2012,
          2013,
          2014,
          2015,
          2016
         ],
         "xaxis": "x",
         "y": [
          "Lufthansa German Airlines",
          "Lufthansa German Airlines",
          "Lufthansa German Airlines",
          "Lufthansa German Airlines",
          "Lufthansa German Airlines",
          "Lufthansa German Airlines",
          "Lufthansa German Airlines",
          "Lufthansa German Airlines",
          "Lufthansa German Airlines",
          "Lufthansa German Airlines",
          "Lufthansa German Airlines",
          "Lufthansa German Airlines"
         ],
         "yaxis": "y"
        },
        {
         "hovertemplate": "Operating Airline=%{y}<br>Year=%{x}<br>Total Passengers=%{marker.size}<extra></extra>",
         "legendgroup": "Mexicana Airlines",
         "marker": {
          "color": "#00cc96",
          "size": [
           79574,
           171971,
           157078,
           187816,
           231659,
           163134
          ],
          "sizemode": "area",
          "sizeref": 8614.3175,
          "symbol": "circle"
         },
         "mode": "markers",
         "name": "Mexicana Airlines",
         "orientation": "h",
         "showlegend": true,
         "type": "scatter",
         "x": [
          2005,
          2006,
          2007,
          2008,
          2009,
          2010
         ],
         "xaxis": "x",
         "y": [
          "Mexicana Airlines",
          "Mexicana Airlines",
          "Mexicana Airlines",
          "Mexicana Airlines",
          "Mexicana Airlines",
          "Mexicana Airlines"
         ],
         "yaxis": "y"
        },
        {
         "hovertemplate": "Operating Airline=%{y}<br>Year=%{x}<br>Total Passengers=%{marker.size}<extra></extra>",
         "legendgroup": "Miami Air International",
         "marker": {
          "color": "#ab63fa",
          "size": [
           28
          ],
          "sizemode": "area",
          "sizeref": 8614.3175,
          "symbol": "circle"
         },
         "mode": "markers",
         "name": "Miami Air International",
         "orientation": "h",
         "showlegend": true,
         "type": "scatter",
         "x": [
          2005
         ],
         "xaxis": "x",
         "y": [
          "Miami Air International"
         ],
         "yaxis": "y"
        },
        {
         "hovertemplate": "Operating Airline=%{y}<br>Year=%{x}<br>Total Passengers=%{marker.size}<extra></extra>",
         "legendgroup": "Northwest Airlines",
         "marker": {
          "color": "#FFA15A",
          "size": [
           76687,
           157943,
           159803,
           160074,
           150403,
           12830
          ],
          "sizemode": "area",
          "sizeref": 8614.3175,
          "symbol": "circle"
         },
         "mode": "markers",
         "name": "Northwest Airlines",
         "orientation": "h",
         "showlegend": true,
         "type": "scatter",
         "x": [
          2005,
          2006,
          2007,
          2008,
          2009,
          2010
         ],
         "xaxis": "x",
         "y": [
          "Northwest Airlines",
          "Northwest Airlines",
          "Northwest Airlines",
          "Northwest Airlines",
          "Northwest Airlines",
          "Northwest Airlines"
         ],
         "yaxis": "y"
        },
        {
         "hovertemplate": "Operating Airline=%{y}<br>Year=%{x}<br>Total Passengers=%{marker.size}<extra></extra>",
         "legendgroup": "Pacific Aviation",
         "marker": {
          "color": "#19d3f3",
          "size": [
           320
          ],
          "sizemode": "area",
          "sizeref": 8614.3175,
          "symbol": "circle"
         },
         "mode": "markers",
         "name": "Pacific Aviation",
         "orientation": "h",
         "showlegend": true,
         "type": "scatter",
         "x": [
          2010
         ],
         "xaxis": "x",
         "y": [
          "Pacific Aviation"
         ],
         "yaxis": "y"
        },
        {
         "hovertemplate": "Operating Airline=%{y}<br>Year=%{x}<br>Total Passengers=%{marker.size}<extra></extra>",
         "legendgroup": "Philippine Airlines",
         "marker": {
          "color": "#FF6692",
          "size": [
           120284,
           252895,
           272138,
           262748,
           222871,
           256286,
           235437,
           221987,
           232191,
           251360,
           249995,
           65956
          ],
          "sizemode": "area",
          "sizeref": 8614.3175,
          "symbol": "circle"
         },
         "mode": "markers",
         "name": "Philippine Airlines",
         "orientation": "h",
         "showlegend": true,
         "type": "scatter",
         "x": [
          2005,
          2006,
          2007,
          2008,
          2009,
          2010,
          2011,
          2012,
          2013,
          2014,
          2015,
          2016
         ],
         "xaxis": "x",
         "y": [
          "Philippine Airlines",
          "Philippine Airlines",
          "Philippine Airlines",
          "Philippine Airlines",
          "Philippine Airlines",
          "Philippine Airlines",
          "Philippine Airlines",
          "Philippine Airlines",
          "Philippine Airlines",
          "Philippine Airlines",
          "Philippine Airlines",
          "Philippine Airlines"
         ],
         "yaxis": "y"
        },
        {
         "hovertemplate": "Operating Airline=%{y}<br>Year=%{x}<br>Total Passengers=%{marker.size}<extra></extra>",
         "legendgroup": "Qantas Airways",
         "marker": {
          "color": "#B6E880",
          "size": [
           86306,
           140886,
           139097,
           122096,
           102676,
           36839,
           4439,
           36484
          ],
          "sizemode": "area",
          "sizeref": 8614.3175,
          "symbol": "circle"
         },
         "mode": "markers",
         "name": "Qantas Airways",
         "orientation": "h",
         "showlegend": true,
         "type": "scatter",
         "x": [
          2006,
          2007,
          2008,
          2009,
          2010,
          2011,
          2015,
          2016
         ],
         "xaxis": "x",
         "y": [
          "Qantas Airways",
          "Qantas Airways",
          "Qantas Airways",
          "Qantas Airways",
          "Qantas Airways",
          "Qantas Airways",
          "Qantas Airways",
          "Qantas Airways"
         ],
         "yaxis": "y"
        },
        {
         "hovertemplate": "Operating Airline=%{y}<br>Year=%{x}<br>Total Passengers=%{marker.size}<extra></extra>",
         "legendgroup": "SAS Airlines",
         "marker": {
          "color": "#FF97FF",
          "size": [
           100918,
           140769,
           149283,
           31371
          ],
          "sizemode": "area",
          "sizeref": 8614.3175,
          "symbol": "circle"
         },
         "mode": "markers",
         "name": "SAS Airlines",
         "orientation": "h",
         "showlegend": true,
         "type": "scatter",
         "x": [
          2013,
          2014,
          2015,
          2016
         ],
         "xaxis": "x",
         "y": [
          "SAS Airlines",
          "SAS Airlines",
          "SAS Airlines",
          "SAS Airlines"
         ],
         "yaxis": "y"
        },
        {
         "hovertemplate": "Operating Airline=%{y}<br>Year=%{x}<br>Total Passengers=%{marker.size}<extra></extra>",
         "legendgroup": "Servisair",
         "marker": {
          "color": "#FECB52",
          "size": [
           32
          ],
          "sizemode": "area",
          "sizeref": 8614.3175,
          "symbol": "circle"
         },
         "mode": "markers",
         "name": "Servisair",
         "orientation": "h",
         "showlegend": true,
         "type": "scatter",
         "x": [
          2011
         ],
         "xaxis": "x",
         "y": [
          "Servisair"
         ],
         "yaxis": "y"
        },
        {
         "hovertemplate": "Operating Airline=%{y}<br>Year=%{x}<br>Total Passengers=%{marker.size}<extra></extra>",
         "legendgroup": "Singapore Airlines",
         "marker": {
          "color": "#636efa",
          "size": [
           200968,
           394150,
           389921,
           361343,
           311238,
           340758,
           326415,
           354417,
           377165,
           337689,
           331784,
           78787
          ],
          "sizemode": "area",
          "sizeref": 8614.3175,
          "symbol": "circle"
         },
         "mode": "markers",
         "name": "Singapore Airlines",
         "orientation": "h",
         "showlegend": true,
         "type": "scatter",
         "x": [
          2005,
          2006,
          2007,
          2008,
          2009,
          2010,
          2011,
          2012,
          2013,
          2014,
          2015,
          2016
         ],
         "xaxis": "x",
         "y": [
          "Singapore Airlines",
          "Singapore Airlines",
          "Singapore Airlines",
          "Singapore Airlines",
          "Singapore Airlines",
          "Singapore Airlines",
          "Singapore Airlines",
          "Singapore Airlines",
          "Singapore Airlines",
          "Singapore Airlines",
          "Singapore Airlines",
          "Singapore Airlines"
         ],
         "yaxis": "y"
        },
        {
         "hovertemplate": "Operating Airline=%{y}<br>Year=%{x}<br>Total Passengers=%{marker.size}<extra></extra>",
         "legendgroup": "SkyWest Airlines",
         "marker": {
          "color": "#EF553B",
          "size": [
           41384,
           130243,
           160139,
           240602,
           278499,
           269063,
           295885,
           276711,
           279009,
           316067,
           304002,
           51820
          ],
          "sizemode": "area",
          "sizeref": 8614.3175,
          "symbol": "circle"
         },
         "mode": "markers",
         "name": "SkyWest Airlines",
         "orientation": "h",
         "showlegend": true,
         "type": "scatter",
         "x": [
          2005,
          2006,
          2007,
          2008,
          2009,
          2010,
          2011,
          2012,
          2013,
          2014,
          2015,
          2016
         ],
         "xaxis": "x",
         "y": [
          "SkyWest Airlines",
          "SkyWest Airlines",
          "SkyWest Airlines",
          "SkyWest Airlines",
          "SkyWest Airlines",
          "SkyWest Airlines",
          "SkyWest Airlines",
          "SkyWest Airlines",
          "SkyWest Airlines",
          "SkyWest Airlines",
          "SkyWest Airlines",
          "SkyWest Airlines"
         ],
         "yaxis": "y"
        },
        {
         "hovertemplate": "Operating Airline=%{y}<br>Year=%{x}<br>Total Passengers=%{marker.size}<extra></extra>",
         "legendgroup": "Sun Country Airlines",
         "marker": {
          "color": "#00cc96",
          "size": [
           4321,
           4111
          ],
          "sizemode": "area",
          "sizeref": 8614.3175,
          "symbol": "circle"
         },
         "mode": "markers",
         "name": "Sun Country Airlines",
         "orientation": "h",
         "showlegend": true,
         "type": "scatter",
         "x": [
          2015,
          2016
         ],
         "xaxis": "x",
         "y": [
          "Sun Country Airlines",
          "Sun Country Airlines"
         ],
         "yaxis": "y"
        },
        {
         "hovertemplate": "Operating Airline=%{y}<br>Year=%{x}<br>Total Passengers=%{marker.size}<extra></extra>",
         "legendgroup": "Swiss International",
         "marker": {
          "color": "#ab63fa",
          "size": [
           75320,
           139713,
           142319,
           148910,
           141600,
           161769,
           32937
          ],
          "sizemode": "area",
          "sizeref": 8614.3175,
          "symbol": "circle"
         },
         "mode": "markers",
         "name": "Swiss International",
         "orientation": "h",
         "showlegend": true,
         "type": "scatter",
         "x": [
          2010,
          2011,
          2012,
          2013,
          2014,
          2015,
          2016
         ],
         "xaxis": "x",
         "y": [
          "Swiss International",
          "Swiss International",
          "Swiss International",
          "Swiss International",
          "Swiss International",
          "Swiss International",
          "Swiss International"
         ],
         "yaxis": "y"
        },
        {
         "hovertemplate": "Operating Airline=%{y}<br>Year=%{x}<br>Total Passengers=%{marker.size}<extra></extra>",
         "legendgroup": "Swissport USA",
         "marker": {
          "color": "#FFA15A",
          "size": [
           536,
           1152,
           684
          ],
          "sizemode": "area",
          "sizeref": 8614.3175,
          "symbol": "circle"
         },
         "mode": "markers",
         "name": "Swissport USA",
         "orientation": "h",
         "showlegend": true,
         "type": "scatter",
         "x": [
          2012,
          2013,
          2014
         ],
         "xaxis": "x",
         "y": [
          "Swissport USA",
          "Swissport USA",
          "Swissport USA"
         ],
         "yaxis": "y"
        },
        {
         "hovertemplate": "Operating Airline=%{y}<br>Year=%{x}<br>Total Passengers=%{marker.size}<extra></extra>",
         "legendgroup": "TACA",
         "marker": {
          "color": "#19d3f3",
          "size": [
           61994,
           111255,
           129652,
           100119,
           107171,
           114185,
           125184,
           130780,
           129110,
           127598,
           136492,
           33539
          ],
          "sizemode": "area",
          "sizeref": 8614.3175,
          "symbol": "circle"
         },
         "mode": "markers",
         "name": "TACA",
         "orientation": "h",
         "showlegend": true,
         "type": "scatter",
         "x": [
          2005,
          2006,
          2007,
          2008,
          2009,
          2010,
          2011,
          2012,
          2013,
          2014,
          2015,
          2016
         ],
         "xaxis": "x",
         "y": [
          "TACA",
          "TACA",
          "TACA",
          "TACA",
          "TACA",
          "TACA",
          "TACA",
          "TACA",
          "TACA",
          "TACA",
          "TACA",
          "TACA"
         ],
         "yaxis": "y"
        },
        {
         "hovertemplate": "Operating Airline=%{y}<br>Year=%{x}<br>Total Passengers=%{marker.size}<extra></extra>",
         "legendgroup": "Turkish Airlines",
         "marker": {
          "color": "#FF6692",
          "size": [
           145305,
           50593
          ],
          "sizemode": "area",
          "sizeref": 8614.3175,
          "symbol": "circle"
         },
         "mode": "markers",
         "name": "Turkish Airlines",
         "orientation": "h",
         "showlegend": true,
         "type": "scatter",
         "x": [
          2015,
          2016
         ],
         "xaxis": "x",
         "y": [
          "Turkish Airlines",
          "Turkish Airlines"
         ],
         "yaxis": "y"
        },
        {
         "hovertemplate": "Operating Airline=%{y}<br>Year=%{x}<br>Total Passengers=%{marker.size}<extra></extra>",
         "legendgroup": "United Airlines",
         "marker": {
          "color": "#B6E880",
          "size": [
           1691967,
           3373750,
           3445727,
           762471
          ],
          "sizemode": "area",
          "sizeref": 8614.3175,
          "symbol": "circle"
         },
         "mode": "markers",
         "name": "United Airlines",
         "orientation": "h",
         "showlegend": true,
         "type": "scatter",
         "x": [
          2013,
          2014,
          2015,
          2016
         ],
         "xaxis": "x",
         "y": [
          "United Airlines",
          "United Airlines",
          "United Airlines",
          "United Airlines"
         ],
         "yaxis": "y"
        },
        {
         "hovertemplate": "Operating Airline=%{y}<br>Year=%{x}<br>Total Passengers=%{marker.size}<extra></extra>",
         "legendgroup": "United Airlines - Pre 07/01/2013",
         "marker": {
          "color": "#FF97FF",
          "size": [
           1529312,
           3106812,
           3339898,
           3161294,
           2733943,
           2946537,
           2977088,
           3267947,
           1512957
          ],
          "sizemode": "area",
          "sizeref": 8614.3175,
          "symbol": "circle"
         },
         "mode": "markers",
         "name": "United Airlines - Pre 07/01/2013",
         "orientation": "h",
         "showlegend": true,
         "type": "scatter",
         "x": [
          2005,
          2006,
          2007,
          2008,
          2009,
          2010,
          2011,
          2012,
          2013
         ],
         "xaxis": "x",
         "y": [
          "United Airlines - Pre 07/01/2013",
          "United Airlines - Pre 07/01/2013",
          "United Airlines - Pre 07/01/2013",
          "United Airlines - Pre 07/01/2013",
          "United Airlines - Pre 07/01/2013",
          "United Airlines - Pre 07/01/2013",
          "United Airlines - Pre 07/01/2013",
          "United Airlines - Pre 07/01/2013",
          "United Airlines - Pre 07/01/2013"
         ],
         "yaxis": "y"
        },
        {
         "hovertemplate": "Operating Airline=%{y}<br>Year=%{x}<br>Total Passengers=%{marker.size}<extra></extra>",
         "legendgroup": "Virgin America",
         "marker": {
          "color": "#FECB52",
          "size": [
           29375,
           109304,
           140269,
           95138,
           91774,
           94168,
           24144
          ],
          "sizemode": "area",
          "sizeref": 8614.3175,
          "symbol": "circle"
         },
         "mode": "markers",
         "name": "Virgin America",
         "orientation": "h",
         "showlegend": true,
         "type": "scatter",
         "x": [
          2010,
          2011,
          2012,
          2013,
          2014,
          2015,
          2016
         ],
         "xaxis": "x",
         "y": [
          "Virgin America",
          "Virgin America",
          "Virgin America",
          "Virgin America",
          "Virgin America",
          "Virgin America",
          "Virgin America"
         ],
         "yaxis": "y"
        },
        {
         "hovertemplate": "Operating Airline=%{y}<br>Year=%{x}<br>Total Passengers=%{marker.size}<extra></extra>",
         "legendgroup": "Virgin Atlantic",
         "marker": {
          "color": "#636efa",
          "size": [
           119446,
           233835,
           234386,
           215665,
           212515,
           216356,
           215512,
           259141,
           235813,
           237533,
           300157,
           60194
          ],
          "sizemode": "area",
          "sizeref": 8614.3175,
          "symbol": "circle"
         },
         "mode": "markers",
         "name": "Virgin Atlantic",
         "orientation": "h",
         "showlegend": true,
         "type": "scatter",
         "x": [
          2005,
          2006,
          2007,
          2008,
          2009,
          2010,
          2011,
          2012,
          2013,
          2014,
          2015,
          2016
         ],
         "xaxis": "x",
         "y": [
          "Virgin Atlantic",
          "Virgin Atlantic",
          "Virgin Atlantic",
          "Virgin Atlantic",
          "Virgin Atlantic",
          "Virgin Atlantic",
          "Virgin Atlantic",
          "Virgin Atlantic",
          "Virgin Atlantic",
          "Virgin Atlantic",
          "Virgin Atlantic",
          "Virgin Atlantic"
         ],
         "yaxis": "y"
        },
        {
         "hovertemplate": "Operating Airline=%{y}<br>Year=%{x}<br>Total Passengers=%{marker.size}<extra></extra>",
         "legendgroup": "WestJet Airlines",
         "marker": {
          "color": "#EF553B",
          "size": [
           20989,
           1029,
           15412,
           77062,
           86150,
           90008,
           85851,
           87970,
           85359
          ],
          "sizemode": "area",
          "sizeref": 8614.3175,
          "symbol": "circle"
         },
         "mode": "markers",
         "name": "WestJet Airlines",
         "orientation": "h",
         "showlegend": true,
         "type": "scatter",
         "x": [
          2005,
          2006,
          2009,
          2010,
          2011,
          2012,
          2013,
          2014,
          2015
         ],
         "xaxis": "x",
         "y": [
          "WestJet Airlines",
          "WestJet Airlines",
          "WestJet Airlines",
          "WestJet Airlines",
          "WestJet Airlines",
          "WestJet Airlines",
          "WestJet Airlines",
          "WestJet Airlines",
          "WestJet Airlines"
         ],
         "yaxis": "y"
        },
        {
         "hovertemplate": "Operating Airline=%{y}<br>Year=%{x}<br>Total Passengers=%{marker.size}<extra></extra>",
         "legendgroup": "World Airways",
         "marker": {
          "color": "#00cc96",
          "size": [
           514
          ],
          "sizemode": "area",
          "sizeref": 8614.3175,
          "symbol": "circle"
         },
         "mode": "markers",
         "name": "World Airways",
         "orientation": "h",
         "showlegend": true,
         "type": "scatter",
         "x": [
          2009
         ],
         "xaxis": "x",
         "y": [
          "World Airways"
         ],
         "yaxis": "y"
        },
        {
         "hovertemplate": "Operating Airline=%{y}<br>Year=%{x}<br>Total Passengers=%{marker.size}<extra></extra>",
         "legendgroup": "XL Airways France",
         "marker": {
          "color": "#ab63fa",
          "size": [
           15581,
           15433,
           17529,
           20901
          ],
          "sizemode": "area",
          "sizeref": 8614.3175,
          "symbol": "circle"
         },
         "mode": "markers",
         "name": "XL Airways France",
         "orientation": "h",
         "showlegend": true,
         "type": "scatter",
         "x": [
          2012,
          2013,
          2014,
          2015
         ],
         "xaxis": "x",
         "y": [
          "XL Airways France",
          "XL Airways France",
          "XL Airways France",
          "XL Airways France"
         ],
         "yaxis": "y"
        }
       ],
       "layout": {
        "legend": {
         "itemsizing": "constant",
         "title": {
          "text": "Operating Airline"
         },
         "tracegroupgap": 0
        },
        "template": {
         "data": {
          "bar": [
           {
            "error_x": {
             "color": "#2a3f5f"
            },
            "error_y": {
             "color": "#2a3f5f"
            },
            "marker": {
             "line": {
              "color": "#E5ECF6",
              "width": 0.5
             },
             "pattern": {
              "fillmode": "overlay",
              "size": 10,
              "solidity": 0.2
             }
            },
            "type": "bar"
           }
          ],
          "barpolar": [
           {
            "marker": {
             "line": {
              "color": "#E5ECF6",
              "width": 0.5
             },
             "pattern": {
              "fillmode": "overlay",
              "size": 10,
              "solidity": 0.2
             }
            },
            "type": "barpolar"
           }
          ],
          "carpet": [
           {
            "aaxis": {
             "endlinecolor": "#2a3f5f",
             "gridcolor": "white",
             "linecolor": "white",
             "minorgridcolor": "white",
             "startlinecolor": "#2a3f5f"
            },
            "baxis": {
             "endlinecolor": "#2a3f5f",
             "gridcolor": "white",
             "linecolor": "white",
             "minorgridcolor": "white",
             "startlinecolor": "#2a3f5f"
            },
            "type": "carpet"
           }
          ],
          "choropleth": [
           {
            "colorbar": {
             "outlinewidth": 0,
             "ticks": ""
            },
            "type": "choropleth"
           }
          ],
          "contour": [
           {
            "colorbar": {
             "outlinewidth": 0,
             "ticks": ""
            },
            "colorscale": [
             [
              0,
              "#0d0887"
             ],
             [
              0.1111111111111111,
              "#46039f"
             ],
             [
              0.2222222222222222,
              "#7201a8"
             ],
             [
              0.3333333333333333,
              "#9c179e"
             ],
             [
              0.4444444444444444,
              "#bd3786"
             ],
             [
              0.5555555555555556,
              "#d8576b"
             ],
             [
              0.6666666666666666,
              "#ed7953"
             ],
             [
              0.7777777777777778,
              "#fb9f3a"
             ],
             [
              0.8888888888888888,
              "#fdca26"
             ],
             [
              1,
              "#f0f921"
             ]
            ],
            "type": "contour"
           }
          ],
          "contourcarpet": [
           {
            "colorbar": {
             "outlinewidth": 0,
             "ticks": ""
            },
            "type": "contourcarpet"
           }
          ],
          "heatmap": [
           {
            "colorbar": {
             "outlinewidth": 0,
             "ticks": ""
            },
            "colorscale": [
             [
              0,
              "#0d0887"
             ],
             [
              0.1111111111111111,
              "#46039f"
             ],
             [
              0.2222222222222222,
              "#7201a8"
             ],
             [
              0.3333333333333333,
              "#9c179e"
             ],
             [
              0.4444444444444444,
              "#bd3786"
             ],
             [
              0.5555555555555556,
              "#d8576b"
             ],
             [
              0.6666666666666666,
              "#ed7953"
             ],
             [
              0.7777777777777778,
              "#fb9f3a"
             ],
             [
              0.8888888888888888,
              "#fdca26"
             ],
             [
              1,
              "#f0f921"
             ]
            ],
            "type": "heatmap"
           }
          ],
          "heatmapgl": [
           {
            "colorbar": {
             "outlinewidth": 0,
             "ticks": ""
            },
            "colorscale": [
             [
              0,
              "#0d0887"
             ],
             [
              0.1111111111111111,
              "#46039f"
             ],
             [
              0.2222222222222222,
              "#7201a8"
             ],
             [
              0.3333333333333333,
              "#9c179e"
             ],
             [
              0.4444444444444444,
              "#bd3786"
             ],
             [
              0.5555555555555556,
              "#d8576b"
             ],
             [
              0.6666666666666666,
              "#ed7953"
             ],
             [
              0.7777777777777778,
              "#fb9f3a"
             ],
             [
              0.8888888888888888,
              "#fdca26"
             ],
             [
              1,
              "#f0f921"
             ]
            ],
            "type": "heatmapgl"
           }
          ],
          "histogram": [
           {
            "marker": {
             "pattern": {
              "fillmode": "overlay",
              "size": 10,
              "solidity": 0.2
             }
            },
            "type": "histogram"
           }
          ],
          "histogram2d": [
           {
            "colorbar": {
             "outlinewidth": 0,
             "ticks": ""
            },
            "colorscale": [
             [
              0,
              "#0d0887"
             ],
             [
              0.1111111111111111,
              "#46039f"
             ],
             [
              0.2222222222222222,
              "#7201a8"
             ],
             [
              0.3333333333333333,
              "#9c179e"
             ],
             [
              0.4444444444444444,
              "#bd3786"
             ],
             [
              0.5555555555555556,
              "#d8576b"
             ],
             [
              0.6666666666666666,
              "#ed7953"
             ],
             [
              0.7777777777777778,
              "#fb9f3a"
             ],
             [
              0.8888888888888888,
              "#fdca26"
             ],
             [
              1,
              "#f0f921"
             ]
            ],
            "type": "histogram2d"
           }
          ],
          "histogram2dcontour": [
           {
            "colorbar": {
             "outlinewidth": 0,
             "ticks": ""
            },
            "colorscale": [
             [
              0,
              "#0d0887"
             ],
             [
              0.1111111111111111,
              "#46039f"
             ],
             [
              0.2222222222222222,
              "#7201a8"
             ],
             [
              0.3333333333333333,
              "#9c179e"
             ],
             [
              0.4444444444444444,
              "#bd3786"
             ],
             [
              0.5555555555555556,
              "#d8576b"
             ],
             [
              0.6666666666666666,
              "#ed7953"
             ],
             [
              0.7777777777777778,
              "#fb9f3a"
             ],
             [
              0.8888888888888888,
              "#fdca26"
             ],
             [
              1,
              "#f0f921"
             ]
            ],
            "type": "histogram2dcontour"
           }
          ],
          "mesh3d": [
           {
            "colorbar": {
             "outlinewidth": 0,
             "ticks": ""
            },
            "type": "mesh3d"
           }
          ],
          "parcoords": [
           {
            "line": {
             "colorbar": {
              "outlinewidth": 0,
              "ticks": ""
             }
            },
            "type": "parcoords"
           }
          ],
          "pie": [
           {
            "automargin": true,
            "type": "pie"
           }
          ],
          "scatter": [
           {
            "fillpattern": {
             "fillmode": "overlay",
             "size": 10,
             "solidity": 0.2
            },
            "type": "scatter"
           }
          ],
          "scatter3d": [
           {
            "line": {
             "colorbar": {
              "outlinewidth": 0,
              "ticks": ""
             }
            },
            "marker": {
             "colorbar": {
              "outlinewidth": 0,
              "ticks": ""
             }
            },
            "type": "scatter3d"
           }
          ],
          "scattercarpet": [
           {
            "marker": {
             "colorbar": {
              "outlinewidth": 0,
              "ticks": ""
             }
            },
            "type": "scattercarpet"
           }
          ],
          "scattergeo": [
           {
            "marker": {
             "colorbar": {
              "outlinewidth": 0,
              "ticks": ""
             }
            },
            "type": "scattergeo"
           }
          ],
          "scattergl": [
           {
            "marker": {
             "colorbar": {
              "outlinewidth": 0,
              "ticks": ""
             }
            },
            "type": "scattergl"
           }
          ],
          "scattermapbox": [
           {
            "marker": {
             "colorbar": {
              "outlinewidth": 0,
              "ticks": ""
             }
            },
            "type": "scattermapbox"
           }
          ],
          "scatterpolar": [
           {
            "marker": {
             "colorbar": {
              "outlinewidth": 0,
              "ticks": ""
             }
            },
            "type": "scatterpolar"
           }
          ],
          "scatterpolargl": [
           {
            "marker": {
             "colorbar": {
              "outlinewidth": 0,
              "ticks": ""
             }
            },
            "type": "scatterpolargl"
           }
          ],
          "scatterternary": [
           {
            "marker": {
             "colorbar": {
              "outlinewidth": 0,
              "ticks": ""
             }
            },
            "type": "scatterternary"
           }
          ],
          "surface": [
           {
            "colorbar": {
             "outlinewidth": 0,
             "ticks": ""
            },
            "colorscale": [
             [
              0,
              "#0d0887"
             ],
             [
              0.1111111111111111,
              "#46039f"
             ],
             [
              0.2222222222222222,
              "#7201a8"
             ],
             [
              0.3333333333333333,
              "#9c179e"
             ],
             [
              0.4444444444444444,
              "#bd3786"
             ],
             [
              0.5555555555555556,
              "#d8576b"
             ],
             [
              0.6666666666666666,
              "#ed7953"
             ],
             [
              0.7777777777777778,
              "#fb9f3a"
             ],
             [
              0.8888888888888888,
              "#fdca26"
             ],
             [
              1,
              "#f0f921"
             ]
            ],
            "type": "surface"
           }
          ],
          "table": [
           {
            "cells": {
             "fill": {
              "color": "#EBF0F8"
             },
             "line": {
              "color": "white"
             }
            },
            "header": {
             "fill": {
              "color": "#C8D4E3"
             },
             "line": {
              "color": "white"
             }
            },
            "type": "table"
           }
          ]
         },
         "layout": {
          "annotationdefaults": {
           "arrowcolor": "#2a3f5f",
           "arrowhead": 0,
           "arrowwidth": 1
          },
          "autotypenumbers": "strict",
          "coloraxis": {
           "colorbar": {
            "outlinewidth": 0,
            "ticks": ""
           }
          },
          "colorscale": {
           "diverging": [
            [
             0,
             "#8e0152"
            ],
            [
             0.1,
             "#c51b7d"
            ],
            [
             0.2,
             "#de77ae"
            ],
            [
             0.3,
             "#f1b6da"
            ],
            [
             0.4,
             "#fde0ef"
            ],
            [
             0.5,
             "#f7f7f7"
            ],
            [
             0.6,
             "#e6f5d0"
            ],
            [
             0.7,
             "#b8e186"
            ],
            [
             0.8,
             "#7fbc41"
            ],
            [
             0.9,
             "#4d9221"
            ],
            [
             1,
             "#276419"
            ]
           ],
           "sequential": [
            [
             0,
             "#0d0887"
            ],
            [
             0.1111111111111111,
             "#46039f"
            ],
            [
             0.2222222222222222,
             "#7201a8"
            ],
            [
             0.3333333333333333,
             "#9c179e"
            ],
            [
             0.4444444444444444,
             "#bd3786"
            ],
            [
             0.5555555555555556,
             "#d8576b"
            ],
            [
             0.6666666666666666,
             "#ed7953"
            ],
            [
             0.7777777777777778,
             "#fb9f3a"
            ],
            [
             0.8888888888888888,
             "#fdca26"
            ],
            [
             1,
             "#f0f921"
            ]
           ],
           "sequentialminus": [
            [
             0,
             "#0d0887"
            ],
            [
             0.1111111111111111,
             "#46039f"
            ],
            [
             0.2222222222222222,
             "#7201a8"
            ],
            [
             0.3333333333333333,
             "#9c179e"
            ],
            [
             0.4444444444444444,
             "#bd3786"
            ],
            [
             0.5555555555555556,
             "#d8576b"
            ],
            [
             0.6666666666666666,
             "#ed7953"
            ],
            [
             0.7777777777777778,
             "#fb9f3a"
            ],
            [
             0.8888888888888888,
             "#fdca26"
            ],
            [
             1,
             "#f0f921"
            ]
           ]
          },
          "colorway": [
           "#636efa",
           "#EF553B",
           "#00cc96",
           "#ab63fa",
           "#FFA15A",
           "#19d3f3",
           "#FF6692",
           "#B6E880",
           "#FF97FF",
           "#FECB52"
          ],
          "font": {
           "color": "#2a3f5f"
          },
          "geo": {
           "bgcolor": "white",
           "lakecolor": "white",
           "landcolor": "#E5ECF6",
           "showlakes": true,
           "showland": true,
           "subunitcolor": "white"
          },
          "hoverlabel": {
           "align": "left"
          },
          "hovermode": "closest",
          "mapbox": {
           "style": "light"
          },
          "paper_bgcolor": "white",
          "plot_bgcolor": "#E5ECF6",
          "polar": {
           "angularaxis": {
            "gridcolor": "white",
            "linecolor": "white",
            "ticks": ""
           },
           "bgcolor": "#E5ECF6",
           "radialaxis": {
            "gridcolor": "white",
            "linecolor": "white",
            "ticks": ""
           }
          },
          "scene": {
           "xaxis": {
            "backgroundcolor": "#E5ECF6",
            "gridcolor": "white",
            "gridwidth": 2,
            "linecolor": "white",
            "showbackground": true,
            "ticks": "",
            "zerolinecolor": "white"
           },
           "yaxis": {
            "backgroundcolor": "#E5ECF6",
            "gridcolor": "white",
            "gridwidth": 2,
            "linecolor": "white",
            "showbackground": true,
            "ticks": "",
            "zerolinecolor": "white"
           },
           "zaxis": {
            "backgroundcolor": "#E5ECF6",
            "gridcolor": "white",
            "gridwidth": 2,
            "linecolor": "white",
            "showbackground": true,
            "ticks": "",
            "zerolinecolor": "white"
           }
          },
          "shapedefaults": {
           "line": {
            "color": "#2a3f5f"
           }
          },
          "ternary": {
           "aaxis": {
            "gridcolor": "white",
            "linecolor": "white",
            "ticks": ""
           },
           "baxis": {
            "gridcolor": "white",
            "linecolor": "white",
            "ticks": ""
           },
           "bgcolor": "#E5ECF6",
           "caxis": {
            "gridcolor": "white",
            "linecolor": "white",
            "ticks": ""
           }
          },
          "title": {
           "x": 0.05
          },
          "xaxis": {
           "automargin": true,
           "gridcolor": "white",
           "linecolor": "white",
           "ticks": "",
           "title": {
            "standoff": 15
           },
           "zerolinecolor": "white",
           "zerolinewidth": 2
          },
          "yaxis": {
           "automargin": true,
           "gridcolor": "white",
           "linecolor": "white",
           "ticks": "",
           "title": {
            "standoff": 15
           },
           "zerolinecolor": "white",
           "zerolinewidth": 2
          }
         }
        },
        "title": {
         "text": "Total Anual Pasajeros por Aerolínea (Internacional)"
        },
        "xaxis": {
         "anchor": "y",
         "domain": [
          0,
          1
         ],
         "title": {
          "text": "Year"
         }
        },
        "yaxis": {
         "anchor": "x",
         "categoryarray": [
          "XL Airways France",
          "World Airways",
          "WestJet Airlines",
          "Virgin Atlantic",
          "Virgin America",
          "United Airlines - Pre 07/01/2013",
          "United Airlines",
          "Turkish Airlines",
          "TACA",
          "Swissport USA",
          "Swiss International",
          "Sun Country Airlines",
          "SkyWest Airlines",
          "Singapore Airlines",
          "Servisair",
          "SAS Airlines",
          "Qantas Airways",
          "Philippine Airlines",
          "Pacific Aviation",
          "Northwest Airlines",
          "Miami Air International",
          "Mexicana Airlines",
          "Lufthansa German Airlines",
          "LAN Peru",
          "Korean Air Lines",
          "KLM Royal Dutch Airlines",
          "Jet Airways",
          "Japan Airlines",
          "Icelandair",
          "Evergreen International Airlines",
          "Etihad Airways",
          "Emirates ",
          "EVA Airways",
          "Delta Air Lines",
          "China Southern",
          "China Eastern",
          "China Airlines",
          "Cathay Pacific",
          "COPA Airlines, Inc.",
          "British Airways",
          "BelAir Airlines",
          "Asiana Airlines",
          "All Nippon Airways",
          "Alaska Airlines",
          "Air New Zealand",
          "Air India Limited",
          "Air France",
          "Air China",
          "Air Canada Jazz",
          "Air Canada ",
          "Air Berlin",
          "Aeromexico",
          "Aer Lingus",
          "ATA Airlines"
         ],
         "categoryorder": "array",
         "domain": [
          0,
          1
         ],
         "title": {
          "text": "Operating Airline"
         }
        }
       }
      }
     },
     "metadata": {},
     "output_type": "display_data"
    }
   ],
   "source": [
    "# Pasajeros por aerolíneas en vuelos internacionales \n",
    "analyze_flights(df_1, \"International\", \"Total Anual Pasajeros por Aerolínea (Internacional)\")"
   ]
  },
  {
   "cell_type": "markdown",
   "metadata": {},
   "source": [
    "![](newplot9.png)"
   ]
  },
  {
   "cell_type": "markdown",
   "metadata": {},
   "source": [
    "<div style=\"letter-spacing: 0.5px; text-align: justify; font-size: 14px;\">\n",
    ". Generación de gráfico para el análisis de vuelos con tarifas reducidas.\n",
    "</div>"
   ]
  },
  {
   "cell_type": "code",
   "execution_count": 46,
   "metadata": {},
   "outputs": [],
   "source": [
    "# Función que analiza los datos de los pasajeros por año y aerolínea en función del precio \n",
    "def analyze_fare_summary(df_1, geo_summary, price_category, title):\n",
    "    # Filtrar los datos\n",
    "    filtered_df_1 = df_1.filter(\n",
    "        (df_1[\"GEO Summary\"] == geo_summary) &\n",
    "        (df_1[\"Price Category Code\"] == price_category)\n",
    "    )\n",
    "    \n",
    "    # Calcular totales por aerolínea\n",
    "    summary = filtered_df_1.groupBy(\"Operating Airline\", \"Year\").agg(\n",
    "        F.sum(\"Adjusted Passenger Count\").alias(\"Total Passengers\")\n",
    "    )\n",
    "    \n",
    "    # Calcular totales anuales\n",
    "    yearly_totals = filtered_df_1.groupBy(\"Year\").agg(\n",
    "        F.sum(\"Adjusted Passenger Count\").alias(\"Total Yearly Passengers\")\n",
    "    )\n",
    "    \n",
    "    # Combinar y calcular porcentajes\n",
    "    result = summary.join(yearly_totals, on=\"Year\", how=\"left\").withColumn(\n",
    "        \"% Passenger\", F.format_number(\n",
    "            (F.col(\"Total Passengers\") / F.col(\"Total Yearly Passengers\")) * 100, 2\n",
    "        )\n",
    "    ).orderBy(\"Year\", \"Total Passengers\", ascending=False)\n",
    "    #result.show() # Mostrar el resultado\n",
    "    \n",
    "    # Convertir a Pandas para visualización\n",
    "    pandas_df = result.toPandas()\n",
    "    \n",
    "    # Crear gráfico\n",
    "    fig = px.bar(\n",
    "        pandas_df,\n",
    "        x=\"Year\",\n",
    "        y=\"Total Passengers\",\n",
    "        color=\"Operating Airline\",\n",
    "        text=\"% Passenger\",\n",
    "        title=title,\n",
    "        labels={\n",
    "            \"Total Passengers\": \"Total de Pasajeros\",\n",
    "            \"Operating Airline\": \"Aerolínea\",\n",
    "            \"Year\": \"Año\"\n",
    "        }\n",
    "    )\n",
    "    fig.show()\n"
   ]
  },
  {
   "cell_type": "markdown",
   "metadata": {},
   "source": [
    "<div style=\"letter-spacing: 0.5px; text-align: justify; font-size: 14px;\">\n",
    ". Distribución Anual de Pasajeros por Aerolíneas en vuelos nacionales con Tarifas Reducidas\n",
    "</div>"
   ]
  },
  {
   "cell_type": "markdown",
   "metadata": {},
   "source": [
    "<div style=\"letter-spacing: 0.5px; text-align: justify; font-size: 12px;\">\n",
    "A partir del 2008, se observa un crecimiento sostenido de la oferta de tarifas reducidas en las rutas domésticas de Virgin America, en competencia directa con Southwest Airlines. \n",
    "\n",
    "En los vuelos internacionales, a partir del 2010, parece que Virgin America introduce la tarifa reducida, pues antes de ese año no existen registros de otra aerolínea con tal oferta. Incluso, a partir del año siguiente otros operadores intentaron competir en ese segmento tarifario pero sin mayor éxito. La data no muestra registros sostenidos en el tiempo para otras aerolíneas distintas a Virgin America. Tal vez la compañía hizo de la tarifa reducida un distintivo de marca. Habría que profundizar en el tema para verificar lo que muestra la data.\n",
    "</div>"
   ]
  },
  {
   "cell_type": "code",
   "execution_count": 47,
   "metadata": {},
   "outputs": [
    {
     "data": {
      "application/vnd.plotly.v1+json": {
       "config": {
        "plotlyServerURL": "https://plot.ly"
       },
       "data": [
        {
         "alignmentgroup": "True",
         "hovertemplate": "Aerolínea=Virgin America<br>Año=%{x}<br>Total de Pasajeros=%{y}<br>% Passenger=%{text}<extra></extra>",
         "legendgroup": "Virgin America",
         "marker": {
          "color": "#636efa",
          "pattern": {
           "shape": ""
          }
         },
         "name": "Virgin America",
         "offsetgroup": "Virgin America",
         "orientation": "v",
         "showlegend": true,
         "text": [
          "43.51",
          "41.88",
          "43.96",
          "43.09",
          "43.29",
          "38.67",
          "34.62",
          "37.49",
          "29.51",
          "7.45"
         ],
         "textposition": "auto",
         "type": "bar",
         "x": [
          2016,
          2015,
          2014,
          2013,
          2012,
          2011,
          2010,
          2009,
          2008,
          2007
         ],
         "xaxis": "x",
         "y": [
          1022444,
          4069845,
          3884239,
          3720310,
          3778520,
          3006944,
          2408560,
          2363672,
          1804016,
          292016
         ],
         "yaxis": "y"
        },
        {
         "alignmentgroup": "True",
         "hovertemplate": "Aerolínea=Southwest Airlines<br>Año=%{x}<br>Total de Pasajeros=%{y}<br>% Passenger=%{text}<extra></extra>",
         "legendgroup": "Southwest Airlines",
         "marker": {
          "color": "#EF553B",
          "pattern": {
           "shape": ""
          }
         },
         "name": "Southwest Airlines",
         "offsetgroup": "Southwest Airlines",
         "orientation": "v",
         "showlegend": true,
         "text": [
          "33.20",
          "35.71",
          "36.99",
          "36.46",
          "34.72",
          "38.31",
          "42.45",
          "45.18",
          "34.64",
          "12.78"
         ],
         "textposition": "auto",
         "type": "bar",
         "x": [
          2016,
          2015,
          2014,
          2013,
          2012,
          2011,
          2010,
          2009,
          2008,
          2007
         ],
         "xaxis": "x",
         "y": [
          780285,
          3470071,
          3268798,
          3148029,
          3030658,
          2979640,
          2953784,
          2848359,
          2117457,
          500934
         ],
         "yaxis": "y"
        },
        {
         "alignmentgroup": "True",
         "hovertemplate": "Aerolínea=JetBlue Airways <br>Año=%{x}<br>Total de Pasajeros=%{y}<br>% Passenger=%{text}<extra></extra>",
         "legendgroup": "JetBlue Airways ",
         "marker": {
          "color": "#00cc96",
          "pattern": {
           "shape": ""
          }
         },
         "name": "JetBlue Airways ",
         "offsetgroup": "JetBlue Airways ",
         "orientation": "v",
         "showlegend": true,
         "text": [
          "15.74",
          "14.67",
          "11.86",
          "12.57",
          "11.92",
          "10.93",
          "11.70",
          "7.16",
          "6.99",
          "8.07"
         ],
         "textposition": "auto",
         "type": "bar",
         "x": [
          2016,
          2015,
          2014,
          2013,
          2012,
          2011,
          2010,
          2009,
          2008,
          2007
         ],
         "xaxis": "x",
         "y": [
          369887,
          1425228,
          1047908,
          1085413,
          1040335,
          850308,
          814132,
          451540,
          427014,
          316208
         ],
         "yaxis": "y"
        },
        {
         "alignmentgroup": "True",
         "hovertemplate": "Aerolínea=Frontier Airlines<br>Año=%{x}<br>Total de Pasajeros=%{y}<br>% Passenger=%{text}<extra></extra>",
         "legendgroup": "Frontier Airlines",
         "marker": {
          "color": "#ab63fa",
          "pattern": {
           "shape": ""
          }
         },
         "name": "Frontier Airlines",
         "offsetgroup": "Frontier Airlines",
         "orientation": "v",
         "showlegend": true,
         "text": [
          "6.73",
          "6.01",
          "4.77",
          "4.37",
          "4.97",
          "5.84",
          "5.44",
          "5.09",
          "5.96",
          "13.40",
          "13.31",
          "9.01"
         ],
         "textposition": "auto",
         "type": "bar",
         "x": [
          2016,
          2015,
          2014,
          2013,
          2012,
          2011,
          2010,
          2009,
          2008,
          2007,
          2006,
          2005
         ],
         "xaxis": "x",
         "y": [
          158278,
          583777,
          421428,
          377488,
          433890,
          453879,
          378570,
          320604,
          364592,
          525366,
          431631,
          175293
         ],
         "yaxis": "y"
        },
        {
         "alignmentgroup": "True",
         "hovertemplate": "Aerolínea=Sun Country Airlines<br>Año=%{x}<br>Total de Pasajeros=%{y}<br>% Passenger=%{text}<extra></extra>",
         "legendgroup": "Sun Country Airlines",
         "marker": {
          "color": "#FFA15A",
          "pattern": {
           "shape": ""
          }
         },
         "name": "Sun Country Airlines",
         "offsetgroup": "Sun Country Airlines",
         "orientation": "v",
         "showlegend": true,
         "text": [
          "0.82",
          "1.74",
          "1.56",
          "1.38",
          "1.04",
          "0.84",
          "0.73",
          "0.65",
          "0.98",
          "2.60",
          "2.64",
          "2.54"
         ],
         "textposition": "auto",
         "type": "bar",
         "x": [
          2016,
          2015,
          2014,
          2013,
          2012,
          2011,
          2010,
          2009,
          2008,
          2007,
          2006,
          2005
         ],
         "xaxis": "x",
         "y": [
          19280,
          168628,
          138169,
          119017,
          90766,
          65383,
          50604,
          41164,
          59769,
          101925,
          85601,
          49425
         ],
         "yaxis": "y"
        },
        {
         "alignmentgroup": "True",
         "hovertemplate": "Aerolínea=AirTran Airways<br>Año=%{x}<br>Total de Pasajeros=%{y}<br>% Passenger=%{text}<extra></extra>",
         "legendgroup": "AirTran Airways",
         "marker": {
          "color": "#19d3f3",
          "pattern": {
           "shape": ""
          }
         },
         "name": "AirTran Airways",
         "offsetgroup": "AirTran Airways",
         "orientation": "v",
         "showlegend": true,
         "text": [
          "0.86",
          "2.11",
          "4.04",
          "5.39",
          "5.06",
          "4.39",
          "3.76",
          "5.80",
          "5.87",
          "4.25"
         ],
         "textposition": "auto",
         "type": "bar",
         "x": [
          2014,
          2013,
          2012,
          2011,
          2010,
          2009,
          2008,
          2007,
          2006,
          2005
         ],
         "xaxis": "x",
         "y": [
          75870,
          182379,
          352488,
          419372,
          351976,
          276491,
          229969,
          227201,
          190276,
          82626
         ],
         "yaxis": "y"
        },
        {
         "alignmentgroup": "True",
         "hovertemplate": "Aerolínea=Servisair<br>Año=%{x}<br>Total de Pasajeros=%{y}<br>% Passenger=%{text}<extra></extra>",
         "legendgroup": "Servisair",
         "marker": {
          "color": "#FF6692",
          "pattern": {
           "shape": ""
          }
         },
         "name": "Servisair",
         "offsetgroup": "Servisair",
         "orientation": "v",
         "showlegend": true,
         "text": [
          "0.01",
          "0.01",
          "0.02",
          "0.01"
         ],
         "textposition": "auto",
         "type": "bar",
         "x": [
          2013,
          2012,
          2011,
          2010
         ],
         "xaxis": "x",
         "y": [
          485,
          965,
          1378,
          382
         ],
         "yaxis": "y"
        },
        {
         "alignmentgroup": "True",
         "hovertemplate": "Aerolínea=Allegiant Air<br>Año=%{x}<br>Total de Pasajeros=%{y}<br>% Passenger=%{text}<extra></extra>",
         "legendgroup": "Allegiant Air",
         "marker": {
          "color": "#B6E880",
          "pattern": {
           "shape": ""
          }
         },
         "name": "Allegiant Air",
         "offsetgroup": "Allegiant Air",
         "orientation": "v",
         "showlegend": true,
         "text": [
          "0.04",
          "0.36"
         ],
         "textposition": "auto",
         "type": "bar",
         "x": [
          2009,
          2008
         ],
         "xaxis": "x",
         "y": [
          2377,
          21892
         ],
         "yaxis": "y"
        },
        {
         "alignmentgroup": "True",
         "hovertemplate": "Aerolínea=United Airlines - Pre 07/01/2013<br>Año=%{x}<br>Total de Pasajeros=%{y}<br>% Passenger=%{text}<extra></extra>",
         "legendgroup": "United Airlines - Pre 07/01/2013",
         "marker": {
          "color": "#FF97FF",
          "pattern": {
           "shape": ""
          }
         },
         "name": "United Airlines - Pre 07/01/2013",
         "offsetgroup": "United Airlines - Pre 07/01/2013",
         "orientation": "v",
         "showlegend": true,
         "text": [
          "17.80",
          "30.28",
          "42.75",
          "34.95"
         ],
         "textposition": "auto",
         "type": "bar",
         "x": [
          2008,
          2007,
          2006,
          2005
         ],
         "xaxis": "x",
         "y": [
          1087762,
          1186985,
          1386741,
          680168
         ],
         "yaxis": "y"
        },
        {
         "alignmentgroup": "True",
         "hovertemplate": "Aerolínea=ATA Airlines<br>Año=%{x}<br>Total de Pasajeros=%{y}<br>% Passenger=%{text}<extra></extra>",
         "legendgroup": "ATA Airlines",
         "marker": {
          "color": "#FECB52",
          "pattern": {
           "shape": ""
          }
         },
         "name": "ATA Airlines",
         "offsetgroup": "ATA Airlines",
         "orientation": "v",
         "showlegend": true,
         "text": [
          "0.00",
          "0.02",
          "3.68",
          "15.60"
         ],
         "textposition": "auto",
         "type": "bar",
         "x": [
          2008,
          2007,
          2006,
          2005
         ],
         "xaxis": "x",
         "y": [
          66,
          939,
          119539,
          303578
         ],
         "yaxis": "y"
        },
        {
         "alignmentgroup": "True",
         "hovertemplate": "Aerolínea=US Airways<br>Año=%{x}<br>Total de Pasajeros=%{y}<br>% Passenger=%{text}<extra></extra>",
         "legendgroup": "US Airways",
         "marker": {
          "color": "#636efa",
          "pattern": {
           "shape": ""
          }
         },
         "name": "US Airways",
         "offsetgroup": "US Airways",
         "orientation": "v",
         "showlegend": true,
         "text": [
          "18.88",
          "26.23",
          "22.01"
         ],
         "textposition": "auto",
         "type": "bar",
         "x": [
          2007,
          2006,
          2005
         ],
         "xaxis": "x",
         "y": [
          740236,
          850932,
          428386
         ],
         "yaxis": "y"
        },
        {
         "alignmentgroup": "True",
         "hovertemplate": "Aerolínea=Spirit Airlines<br>Año=%{x}<br>Total de Pasajeros=%{y}<br>% Passenger=%{text}<extra></extra>",
         "legendgroup": "Spirit Airlines",
         "marker": {
          "color": "#EF553B",
          "pattern": {
           "shape": ""
          }
         },
         "name": "Spirit Airlines",
         "offsetgroup": "Spirit Airlines",
         "orientation": "v",
         "showlegend": true,
         "text": [
          "0.73",
          "1.27"
         ],
         "textposition": "auto",
         "type": "bar",
         "x": [
          2007,
          2006
         ],
         "xaxis": "x",
         "y": [
          28777,
          41328
         ],
         "yaxis": "y"
        },
        {
         "alignmentgroup": "True",
         "hovertemplate": "Aerolínea=Delta Air Lines<br>Año=%{x}<br>Total de Pasajeros=%{y}<br>% Passenger=%{text}<extra></extra>",
         "legendgroup": "Delta Air Lines",
         "marker": {
          "color": "#00cc96",
          "pattern": {
           "shape": ""
          }
         },
         "name": "Delta Air Lines",
         "offsetgroup": "Delta Air Lines",
         "orientation": "v",
         "showlegend": true,
         "text": [
          "4.25",
          "8.36"
         ],
         "textposition": "auto",
         "type": "bar",
         "x": [
          2006,
          2005
         ],
         "xaxis": "x",
         "y": [
          137972,
          162762
         ],
         "yaxis": "y"
        },
        {
         "alignmentgroup": "True",
         "hovertemplate": "Aerolínea=Independence Air<br>Año=%{x}<br>Total de Pasajeros=%{y}<br>% Passenger=%{text}<extra></extra>",
         "legendgroup": "Independence Air",
         "marker": {
          "color": "#ab63fa",
          "pattern": {
           "shape": ""
          }
         },
         "name": "Independence Air",
         "offsetgroup": "Independence Air",
         "orientation": "v",
         "showlegend": true,
         "text": [
          "3.28"
         ],
         "textposition": "auto",
         "type": "bar",
         "x": [
          2005
         ],
         "xaxis": "x",
         "y": [
          63913
         ],
         "yaxis": "y"
        }
       ],
       "layout": {
        "barmode": "relative",
        "legend": {
         "title": {
          "text": "Aerolínea"
         },
         "tracegroupgap": 0
        },
        "template": {
         "data": {
          "bar": [
           {
            "error_x": {
             "color": "#2a3f5f"
            },
            "error_y": {
             "color": "#2a3f5f"
            },
            "marker": {
             "line": {
              "color": "#E5ECF6",
              "width": 0.5
             },
             "pattern": {
              "fillmode": "overlay",
              "size": 10,
              "solidity": 0.2
             }
            },
            "type": "bar"
           }
          ],
          "barpolar": [
           {
            "marker": {
             "line": {
              "color": "#E5ECF6",
              "width": 0.5
             },
             "pattern": {
              "fillmode": "overlay",
              "size": 10,
              "solidity": 0.2
             }
            },
            "type": "barpolar"
           }
          ],
          "carpet": [
           {
            "aaxis": {
             "endlinecolor": "#2a3f5f",
             "gridcolor": "white",
             "linecolor": "white",
             "minorgridcolor": "white",
             "startlinecolor": "#2a3f5f"
            },
            "baxis": {
             "endlinecolor": "#2a3f5f",
             "gridcolor": "white",
             "linecolor": "white",
             "minorgridcolor": "white",
             "startlinecolor": "#2a3f5f"
            },
            "type": "carpet"
           }
          ],
          "choropleth": [
           {
            "colorbar": {
             "outlinewidth": 0,
             "ticks": ""
            },
            "type": "choropleth"
           }
          ],
          "contour": [
           {
            "colorbar": {
             "outlinewidth": 0,
             "ticks": ""
            },
            "colorscale": [
             [
              0,
              "#0d0887"
             ],
             [
              0.1111111111111111,
              "#46039f"
             ],
             [
              0.2222222222222222,
              "#7201a8"
             ],
             [
              0.3333333333333333,
              "#9c179e"
             ],
             [
              0.4444444444444444,
              "#bd3786"
             ],
             [
              0.5555555555555556,
              "#d8576b"
             ],
             [
              0.6666666666666666,
              "#ed7953"
             ],
             [
              0.7777777777777778,
              "#fb9f3a"
             ],
             [
              0.8888888888888888,
              "#fdca26"
             ],
             [
              1,
              "#f0f921"
             ]
            ],
            "type": "contour"
           }
          ],
          "contourcarpet": [
           {
            "colorbar": {
             "outlinewidth": 0,
             "ticks": ""
            },
            "type": "contourcarpet"
           }
          ],
          "heatmap": [
           {
            "colorbar": {
             "outlinewidth": 0,
             "ticks": ""
            },
            "colorscale": [
             [
              0,
              "#0d0887"
             ],
             [
              0.1111111111111111,
              "#46039f"
             ],
             [
              0.2222222222222222,
              "#7201a8"
             ],
             [
              0.3333333333333333,
              "#9c179e"
             ],
             [
              0.4444444444444444,
              "#bd3786"
             ],
             [
              0.5555555555555556,
              "#d8576b"
             ],
             [
              0.6666666666666666,
              "#ed7953"
             ],
             [
              0.7777777777777778,
              "#fb9f3a"
             ],
             [
              0.8888888888888888,
              "#fdca26"
             ],
             [
              1,
              "#f0f921"
             ]
            ],
            "type": "heatmap"
           }
          ],
          "heatmapgl": [
           {
            "colorbar": {
             "outlinewidth": 0,
             "ticks": ""
            },
            "colorscale": [
             [
              0,
              "#0d0887"
             ],
             [
              0.1111111111111111,
              "#46039f"
             ],
             [
              0.2222222222222222,
              "#7201a8"
             ],
             [
              0.3333333333333333,
              "#9c179e"
             ],
             [
              0.4444444444444444,
              "#bd3786"
             ],
             [
              0.5555555555555556,
              "#d8576b"
             ],
             [
              0.6666666666666666,
              "#ed7953"
             ],
             [
              0.7777777777777778,
              "#fb9f3a"
             ],
             [
              0.8888888888888888,
              "#fdca26"
             ],
             [
              1,
              "#f0f921"
             ]
            ],
            "type": "heatmapgl"
           }
          ],
          "histogram": [
           {
            "marker": {
             "pattern": {
              "fillmode": "overlay",
              "size": 10,
              "solidity": 0.2
             }
            },
            "type": "histogram"
           }
          ],
          "histogram2d": [
           {
            "colorbar": {
             "outlinewidth": 0,
             "ticks": ""
            },
            "colorscale": [
             [
              0,
              "#0d0887"
             ],
             [
              0.1111111111111111,
              "#46039f"
             ],
             [
              0.2222222222222222,
              "#7201a8"
             ],
             [
              0.3333333333333333,
              "#9c179e"
             ],
             [
              0.4444444444444444,
              "#bd3786"
             ],
             [
              0.5555555555555556,
              "#d8576b"
             ],
             [
              0.6666666666666666,
              "#ed7953"
             ],
             [
              0.7777777777777778,
              "#fb9f3a"
             ],
             [
              0.8888888888888888,
              "#fdca26"
             ],
             [
              1,
              "#f0f921"
             ]
            ],
            "type": "histogram2d"
           }
          ],
          "histogram2dcontour": [
           {
            "colorbar": {
             "outlinewidth": 0,
             "ticks": ""
            },
            "colorscale": [
             [
              0,
              "#0d0887"
             ],
             [
              0.1111111111111111,
              "#46039f"
             ],
             [
              0.2222222222222222,
              "#7201a8"
             ],
             [
              0.3333333333333333,
              "#9c179e"
             ],
             [
              0.4444444444444444,
              "#bd3786"
             ],
             [
              0.5555555555555556,
              "#d8576b"
             ],
             [
              0.6666666666666666,
              "#ed7953"
             ],
             [
              0.7777777777777778,
              "#fb9f3a"
             ],
             [
              0.8888888888888888,
              "#fdca26"
             ],
             [
              1,
              "#f0f921"
             ]
            ],
            "type": "histogram2dcontour"
           }
          ],
          "mesh3d": [
           {
            "colorbar": {
             "outlinewidth": 0,
             "ticks": ""
            },
            "type": "mesh3d"
           }
          ],
          "parcoords": [
           {
            "line": {
             "colorbar": {
              "outlinewidth": 0,
              "ticks": ""
             }
            },
            "type": "parcoords"
           }
          ],
          "pie": [
           {
            "automargin": true,
            "type": "pie"
           }
          ],
          "scatter": [
           {
            "fillpattern": {
             "fillmode": "overlay",
             "size": 10,
             "solidity": 0.2
            },
            "type": "scatter"
           }
          ],
          "scatter3d": [
           {
            "line": {
             "colorbar": {
              "outlinewidth": 0,
              "ticks": ""
             }
            },
            "marker": {
             "colorbar": {
              "outlinewidth": 0,
              "ticks": ""
             }
            },
            "type": "scatter3d"
           }
          ],
          "scattercarpet": [
           {
            "marker": {
             "colorbar": {
              "outlinewidth": 0,
              "ticks": ""
             }
            },
            "type": "scattercarpet"
           }
          ],
          "scattergeo": [
           {
            "marker": {
             "colorbar": {
              "outlinewidth": 0,
              "ticks": ""
             }
            },
            "type": "scattergeo"
           }
          ],
          "scattergl": [
           {
            "marker": {
             "colorbar": {
              "outlinewidth": 0,
              "ticks": ""
             }
            },
            "type": "scattergl"
           }
          ],
          "scattermapbox": [
           {
            "marker": {
             "colorbar": {
              "outlinewidth": 0,
              "ticks": ""
             }
            },
            "type": "scattermapbox"
           }
          ],
          "scatterpolar": [
           {
            "marker": {
             "colorbar": {
              "outlinewidth": 0,
              "ticks": ""
             }
            },
            "type": "scatterpolar"
           }
          ],
          "scatterpolargl": [
           {
            "marker": {
             "colorbar": {
              "outlinewidth": 0,
              "ticks": ""
             }
            },
            "type": "scatterpolargl"
           }
          ],
          "scatterternary": [
           {
            "marker": {
             "colorbar": {
              "outlinewidth": 0,
              "ticks": ""
             }
            },
            "type": "scatterternary"
           }
          ],
          "surface": [
           {
            "colorbar": {
             "outlinewidth": 0,
             "ticks": ""
            },
            "colorscale": [
             [
              0,
              "#0d0887"
             ],
             [
              0.1111111111111111,
              "#46039f"
             ],
             [
              0.2222222222222222,
              "#7201a8"
             ],
             [
              0.3333333333333333,
              "#9c179e"
             ],
             [
              0.4444444444444444,
              "#bd3786"
             ],
             [
              0.5555555555555556,
              "#d8576b"
             ],
             [
              0.6666666666666666,
              "#ed7953"
             ],
             [
              0.7777777777777778,
              "#fb9f3a"
             ],
             [
              0.8888888888888888,
              "#fdca26"
             ],
             [
              1,
              "#f0f921"
             ]
            ],
            "type": "surface"
           }
          ],
          "table": [
           {
            "cells": {
             "fill": {
              "color": "#EBF0F8"
             },
             "line": {
              "color": "white"
             }
            },
            "header": {
             "fill": {
              "color": "#C8D4E3"
             },
             "line": {
              "color": "white"
             }
            },
            "type": "table"
           }
          ]
         },
         "layout": {
          "annotationdefaults": {
           "arrowcolor": "#2a3f5f",
           "arrowhead": 0,
           "arrowwidth": 1
          },
          "autotypenumbers": "strict",
          "coloraxis": {
           "colorbar": {
            "outlinewidth": 0,
            "ticks": ""
           }
          },
          "colorscale": {
           "diverging": [
            [
             0,
             "#8e0152"
            ],
            [
             0.1,
             "#c51b7d"
            ],
            [
             0.2,
             "#de77ae"
            ],
            [
             0.3,
             "#f1b6da"
            ],
            [
             0.4,
             "#fde0ef"
            ],
            [
             0.5,
             "#f7f7f7"
            ],
            [
             0.6,
             "#e6f5d0"
            ],
            [
             0.7,
             "#b8e186"
            ],
            [
             0.8,
             "#7fbc41"
            ],
            [
             0.9,
             "#4d9221"
            ],
            [
             1,
             "#276419"
            ]
           ],
           "sequential": [
            [
             0,
             "#0d0887"
            ],
            [
             0.1111111111111111,
             "#46039f"
            ],
            [
             0.2222222222222222,
             "#7201a8"
            ],
            [
             0.3333333333333333,
             "#9c179e"
            ],
            [
             0.4444444444444444,
             "#bd3786"
            ],
            [
             0.5555555555555556,
             "#d8576b"
            ],
            [
             0.6666666666666666,
             "#ed7953"
            ],
            [
             0.7777777777777778,
             "#fb9f3a"
            ],
            [
             0.8888888888888888,
             "#fdca26"
            ],
            [
             1,
             "#f0f921"
            ]
           ],
           "sequentialminus": [
            [
             0,
             "#0d0887"
            ],
            [
             0.1111111111111111,
             "#46039f"
            ],
            [
             0.2222222222222222,
             "#7201a8"
            ],
            [
             0.3333333333333333,
             "#9c179e"
            ],
            [
             0.4444444444444444,
             "#bd3786"
            ],
            [
             0.5555555555555556,
             "#d8576b"
            ],
            [
             0.6666666666666666,
             "#ed7953"
            ],
            [
             0.7777777777777778,
             "#fb9f3a"
            ],
            [
             0.8888888888888888,
             "#fdca26"
            ],
            [
             1,
             "#f0f921"
            ]
           ]
          },
          "colorway": [
           "#636efa",
           "#EF553B",
           "#00cc96",
           "#ab63fa",
           "#FFA15A",
           "#19d3f3",
           "#FF6692",
           "#B6E880",
           "#FF97FF",
           "#FECB52"
          ],
          "font": {
           "color": "#2a3f5f"
          },
          "geo": {
           "bgcolor": "white",
           "lakecolor": "white",
           "landcolor": "#E5ECF6",
           "showlakes": true,
           "showland": true,
           "subunitcolor": "white"
          },
          "hoverlabel": {
           "align": "left"
          },
          "hovermode": "closest",
          "mapbox": {
           "style": "light"
          },
          "paper_bgcolor": "white",
          "plot_bgcolor": "#E5ECF6",
          "polar": {
           "angularaxis": {
            "gridcolor": "white",
            "linecolor": "white",
            "ticks": ""
           },
           "bgcolor": "#E5ECF6",
           "radialaxis": {
            "gridcolor": "white",
            "linecolor": "white",
            "ticks": ""
           }
          },
          "scene": {
           "xaxis": {
            "backgroundcolor": "#E5ECF6",
            "gridcolor": "white",
            "gridwidth": 2,
            "linecolor": "white",
            "showbackground": true,
            "ticks": "",
            "zerolinecolor": "white"
           },
           "yaxis": {
            "backgroundcolor": "#E5ECF6",
            "gridcolor": "white",
            "gridwidth": 2,
            "linecolor": "white",
            "showbackground": true,
            "ticks": "",
            "zerolinecolor": "white"
           },
           "zaxis": {
            "backgroundcolor": "#E5ECF6",
            "gridcolor": "white",
            "gridwidth": 2,
            "linecolor": "white",
            "showbackground": true,
            "ticks": "",
            "zerolinecolor": "white"
           }
          },
          "shapedefaults": {
           "line": {
            "color": "#2a3f5f"
           }
          },
          "ternary": {
           "aaxis": {
            "gridcolor": "white",
            "linecolor": "white",
            "ticks": ""
           },
           "baxis": {
            "gridcolor": "white",
            "linecolor": "white",
            "ticks": ""
           },
           "bgcolor": "#E5ECF6",
           "caxis": {
            "gridcolor": "white",
            "linecolor": "white",
            "ticks": ""
           }
          },
          "title": {
           "x": 0.05
          },
          "xaxis": {
           "automargin": true,
           "gridcolor": "white",
           "linecolor": "white",
           "ticks": "",
           "title": {
            "standoff": 15
           },
           "zerolinecolor": "white",
           "zerolinewidth": 2
          },
          "yaxis": {
           "automargin": true,
           "gridcolor": "white",
           "linecolor": "white",
           "ticks": "",
           "title": {
            "standoff": 15
           },
           "zerolinecolor": "white",
           "zerolinewidth": 2
          }
         }
        },
        "title": {
         "text": "Distribución Anual de Pasajeros por Aerolíneas Nacionales con Tarifas Reducidas"
        },
        "xaxis": {
         "anchor": "y",
         "domain": [
          0,
          1
         ],
         "title": {
          "text": "Año"
         }
        },
        "yaxis": {
         "anchor": "x",
         "domain": [
          0,
          1
         ],
         "title": {
          "text": "Total de Pasajeros"
         }
        }
       }
      }
     },
     "metadata": {},
     "output_type": "display_data"
    }
   ],
   "source": [
    "# Análisis para vuelos domésticos\n",
    "analyze_fare_summary(df_1, \"Domestic\", \"Low Fare\", \n",
    "    \"Distribución Anual de Pasajeros por Aerolíneas Nacionales con Tarifas Reducidas\")\n"
   ]
  },
  {
   "cell_type": "markdown",
   "metadata": {},
   "source": [
    "![](newplot10.png)"
   ]
  },
  {
   "cell_type": "markdown",
   "metadata": {},
   "source": [
    "<div style=\"letter-spacing: 0.5px; text-align: justify; font-size: 14px;\">\n",
    ". Distribución Anual de Pasajeros por Aerolíneas en vuelos internacionales con Tarifas Reducidas\n",
    "</div>"
   ]
  },
  {
   "cell_type": "code",
   "execution_count": 48,
   "metadata": {},
   "outputs": [
    {
     "data": {
      "application/vnd.plotly.v1+json": {
       "config": {
        "plotlyServerURL": "https://plot.ly"
       },
       "data": [
        {
         "alignmentgroup": "True",
         "hovertemplate": "Aerolínea=Virgin America<br>Año=%{x}<br>Total de Pasajeros=%{y}<br>% Passenger=%{text}<extra></extra>",
         "legendgroup": "Virgin America",
         "marker": {
          "color": "#636efa",
          "pattern": {
           "shape": ""
          }
         },
         "name": "Virgin America",
         "offsetgroup": "Virgin America",
         "orientation": "v",
         "showlegend": true,
         "text": [
          "85.45",
          "95.61",
          "100.00",
          "84.15",
          "95.13",
          "63.50",
          "100.00"
         ],
         "textposition": "auto",
         "type": "bar",
         "x": [
          2016,
          2015,
          2014,
          2013,
          2012,
          2011,
          2010
         ],
         "xaxis": "x",
         "y": [
          24144,
          94168,
          91774,
          95138,
          140269,
          109304,
          28648
         ],
         "yaxis": "y"
        },
        {
         "alignmentgroup": "True",
         "hovertemplate": "Aerolínea=Sun Country Airlines<br>Año=%{x}<br>Total de Pasajeros=%{y}<br>% Passenger=%{text}<extra></extra>",
         "legendgroup": "Sun Country Airlines",
         "marker": {
          "color": "#EF553B",
          "pattern": {
           "shape": ""
          }
         },
         "name": "Sun Country Airlines",
         "offsetgroup": "Sun Country Airlines",
         "orientation": "v",
         "showlegend": true,
         "text": [
          "14.55",
          "4.39"
         ],
         "textposition": "auto",
         "type": "bar",
         "x": [
          2016,
          2015
         ],
         "xaxis": "x",
         "y": [
          4111,
          4321
         ],
         "yaxis": "y"
        },
        {
         "alignmentgroup": "True",
         "hovertemplate": "Aerolínea=Emirates <br>Año=%{x}<br>Total de Pasajeros=%{y}<br>% Passenger=%{text}<extra></extra>",
         "legendgroup": "Emirates ",
         "marker": {
          "color": "#00cc96",
          "pattern": {
           "shape": ""
          }
         },
         "name": "Emirates ",
         "offsetgroup": "Emirates ",
         "orientation": "v",
         "showlegend": true,
         "text": [
          "8.05"
         ],
         "textposition": "auto",
         "type": "bar",
         "x": [
          2013
         ],
         "xaxis": "x",
         "y": [
          9107
         ],
         "yaxis": "y"
        },
        {
         "alignmentgroup": "True",
         "hovertemplate": "Aerolínea=Air China<br>Año=%{x}<br>Total de Pasajeros=%{y}<br>% Passenger=%{text}<extra></extra>",
         "legendgroup": "Air China",
         "marker": {
          "color": "#ab63fa",
          "pattern": {
           "shape": ""
          }
         },
         "name": "Air China",
         "offsetgroup": "Air China",
         "orientation": "v",
         "showlegend": true,
         "text": [
          "6.79"
         ],
         "textposition": "auto",
         "type": "bar",
         "x": [
          2013
         ],
         "xaxis": "x",
         "y": [
          7678
         ],
         "yaxis": "y"
        },
        {
         "alignmentgroup": "True",
         "hovertemplate": "Aerolínea=SkyWest Airlines<br>Año=%{x}<br>Total de Pasajeros=%{y}<br>% Passenger=%{text}<extra></extra>",
         "legendgroup": "SkyWest Airlines",
         "marker": {
          "color": "#FFA15A",
          "pattern": {
           "shape": ""
          }
         },
         "name": "SkyWest Airlines",
         "offsetgroup": "SkyWest Airlines",
         "orientation": "v",
         "showlegend": true,
         "text": [
          "1.01"
         ],
         "textposition": "auto",
         "type": "bar",
         "x": [
          2013
         ],
         "xaxis": "x",
         "y": [
          1138
         ],
         "yaxis": "y"
        },
        {
         "alignmentgroup": "True",
         "hovertemplate": "Aerolínea=Air New Zealand<br>Año=%{x}<br>Total de Pasajeros=%{y}<br>% Passenger=%{text}<extra></extra>",
         "legendgroup": "Air New Zealand",
         "marker": {
          "color": "#19d3f3",
          "pattern": {
           "shape": ""
          }
         },
         "name": "Air New Zealand",
         "offsetgroup": "Air New Zealand",
         "orientation": "v",
         "showlegend": true,
         "text": [
          "4.87"
         ],
         "textposition": "auto",
         "type": "bar",
         "x": [
          2012
         ],
         "xaxis": "x",
         "y": [
          7188
         ],
         "yaxis": "y"
        },
        {
         "alignmentgroup": "True",
         "hovertemplate": "Aerolínea=United Airlines - Pre 07/01/2013<br>Año=%{x}<br>Total de Pasajeros=%{y}<br>% Passenger=%{text}<extra></extra>",
         "legendgroup": "United Airlines - Pre 07/01/2013",
         "marker": {
          "color": "#FF6692",
          "pattern": {
           "shape": ""
          }
         },
         "name": "United Airlines - Pre 07/01/2013",
         "offsetgroup": "United Airlines - Pre 07/01/2013",
         "orientation": "v",
         "showlegend": true,
         "text": [
          "36.48"
         ],
         "textposition": "auto",
         "type": "bar",
         "x": [
          2011
         ],
         "xaxis": "x",
         "y": [
          62804
         ],
         "yaxis": "y"
        },
        {
         "alignmentgroup": "True",
         "hovertemplate": "Aerolínea=Servisair<br>Año=%{x}<br>Total de Pasajeros=%{y}<br>% Passenger=%{text}<extra></extra>",
         "legendgroup": "Servisair",
         "marker": {
          "color": "#B6E880",
          "pattern": {
           "shape": ""
          }
         },
         "name": "Servisair",
         "offsetgroup": "Servisair",
         "orientation": "v",
         "showlegend": true,
         "text": [
          "0.02"
         ],
         "textposition": "auto",
         "type": "bar",
         "x": [
          2011
         ],
         "xaxis": "x",
         "y": [
          32
         ],
         "yaxis": "y"
        },
        {
         "alignmentgroup": "True",
         "hovertemplate": "Aerolínea=ATA Airlines<br>Año=%{x}<br>Total de Pasajeros=%{y}<br>% Passenger=%{text}<extra></extra>",
         "legendgroup": "ATA Airlines",
         "marker": {
          "color": "#FF97FF",
          "pattern": {
           "shape": ""
          }
         },
         "name": "ATA Airlines",
         "offsetgroup": "ATA Airlines",
         "orientation": "v",
         "showlegend": true,
         "text": [
          "100.00",
          "100.00"
         ],
         "textposition": "auto",
         "type": "bar",
         "x": [
          2007,
          2005
         ],
         "xaxis": "x",
         "y": [
          423,
          568
         ],
         "yaxis": "y"
        }
       ],
       "layout": {
        "barmode": "relative",
        "legend": {
         "title": {
          "text": "Aerolínea"
         },
         "tracegroupgap": 0
        },
        "template": {
         "data": {
          "bar": [
           {
            "error_x": {
             "color": "#2a3f5f"
            },
            "error_y": {
             "color": "#2a3f5f"
            },
            "marker": {
             "line": {
              "color": "#E5ECF6",
              "width": 0.5
             },
             "pattern": {
              "fillmode": "overlay",
              "size": 10,
              "solidity": 0.2
             }
            },
            "type": "bar"
           }
          ],
          "barpolar": [
           {
            "marker": {
             "line": {
              "color": "#E5ECF6",
              "width": 0.5
             },
             "pattern": {
              "fillmode": "overlay",
              "size": 10,
              "solidity": 0.2
             }
            },
            "type": "barpolar"
           }
          ],
          "carpet": [
           {
            "aaxis": {
             "endlinecolor": "#2a3f5f",
             "gridcolor": "white",
             "linecolor": "white",
             "minorgridcolor": "white",
             "startlinecolor": "#2a3f5f"
            },
            "baxis": {
             "endlinecolor": "#2a3f5f",
             "gridcolor": "white",
             "linecolor": "white",
             "minorgridcolor": "white",
             "startlinecolor": "#2a3f5f"
            },
            "type": "carpet"
           }
          ],
          "choropleth": [
           {
            "colorbar": {
             "outlinewidth": 0,
             "ticks": ""
            },
            "type": "choropleth"
           }
          ],
          "contour": [
           {
            "colorbar": {
             "outlinewidth": 0,
             "ticks": ""
            },
            "colorscale": [
             [
              0,
              "#0d0887"
             ],
             [
              0.1111111111111111,
              "#46039f"
             ],
             [
              0.2222222222222222,
              "#7201a8"
             ],
             [
              0.3333333333333333,
              "#9c179e"
             ],
             [
              0.4444444444444444,
              "#bd3786"
             ],
             [
              0.5555555555555556,
              "#d8576b"
             ],
             [
              0.6666666666666666,
              "#ed7953"
             ],
             [
              0.7777777777777778,
              "#fb9f3a"
             ],
             [
              0.8888888888888888,
              "#fdca26"
             ],
             [
              1,
              "#f0f921"
             ]
            ],
            "type": "contour"
           }
          ],
          "contourcarpet": [
           {
            "colorbar": {
             "outlinewidth": 0,
             "ticks": ""
            },
            "type": "contourcarpet"
           }
          ],
          "heatmap": [
           {
            "colorbar": {
             "outlinewidth": 0,
             "ticks": ""
            },
            "colorscale": [
             [
              0,
              "#0d0887"
             ],
             [
              0.1111111111111111,
              "#46039f"
             ],
             [
              0.2222222222222222,
              "#7201a8"
             ],
             [
              0.3333333333333333,
              "#9c179e"
             ],
             [
              0.4444444444444444,
              "#bd3786"
             ],
             [
              0.5555555555555556,
              "#d8576b"
             ],
             [
              0.6666666666666666,
              "#ed7953"
             ],
             [
              0.7777777777777778,
              "#fb9f3a"
             ],
             [
              0.8888888888888888,
              "#fdca26"
             ],
             [
              1,
              "#f0f921"
             ]
            ],
            "type": "heatmap"
           }
          ],
          "heatmapgl": [
           {
            "colorbar": {
             "outlinewidth": 0,
             "ticks": ""
            },
            "colorscale": [
             [
              0,
              "#0d0887"
             ],
             [
              0.1111111111111111,
              "#46039f"
             ],
             [
              0.2222222222222222,
              "#7201a8"
             ],
             [
              0.3333333333333333,
              "#9c179e"
             ],
             [
              0.4444444444444444,
              "#bd3786"
             ],
             [
              0.5555555555555556,
              "#d8576b"
             ],
             [
              0.6666666666666666,
              "#ed7953"
             ],
             [
              0.7777777777777778,
              "#fb9f3a"
             ],
             [
              0.8888888888888888,
              "#fdca26"
             ],
             [
              1,
              "#f0f921"
             ]
            ],
            "type": "heatmapgl"
           }
          ],
          "histogram": [
           {
            "marker": {
             "pattern": {
              "fillmode": "overlay",
              "size": 10,
              "solidity": 0.2
             }
            },
            "type": "histogram"
           }
          ],
          "histogram2d": [
           {
            "colorbar": {
             "outlinewidth": 0,
             "ticks": ""
            },
            "colorscale": [
             [
              0,
              "#0d0887"
             ],
             [
              0.1111111111111111,
              "#46039f"
             ],
             [
              0.2222222222222222,
              "#7201a8"
             ],
             [
              0.3333333333333333,
              "#9c179e"
             ],
             [
              0.4444444444444444,
              "#bd3786"
             ],
             [
              0.5555555555555556,
              "#d8576b"
             ],
             [
              0.6666666666666666,
              "#ed7953"
             ],
             [
              0.7777777777777778,
              "#fb9f3a"
             ],
             [
              0.8888888888888888,
              "#fdca26"
             ],
             [
              1,
              "#f0f921"
             ]
            ],
            "type": "histogram2d"
           }
          ],
          "histogram2dcontour": [
           {
            "colorbar": {
             "outlinewidth": 0,
             "ticks": ""
            },
            "colorscale": [
             [
              0,
              "#0d0887"
             ],
             [
              0.1111111111111111,
              "#46039f"
             ],
             [
              0.2222222222222222,
              "#7201a8"
             ],
             [
              0.3333333333333333,
              "#9c179e"
             ],
             [
              0.4444444444444444,
              "#bd3786"
             ],
             [
              0.5555555555555556,
              "#d8576b"
             ],
             [
              0.6666666666666666,
              "#ed7953"
             ],
             [
              0.7777777777777778,
              "#fb9f3a"
             ],
             [
              0.8888888888888888,
              "#fdca26"
             ],
             [
              1,
              "#f0f921"
             ]
            ],
            "type": "histogram2dcontour"
           }
          ],
          "mesh3d": [
           {
            "colorbar": {
             "outlinewidth": 0,
             "ticks": ""
            },
            "type": "mesh3d"
           }
          ],
          "parcoords": [
           {
            "line": {
             "colorbar": {
              "outlinewidth": 0,
              "ticks": ""
             }
            },
            "type": "parcoords"
           }
          ],
          "pie": [
           {
            "automargin": true,
            "type": "pie"
           }
          ],
          "scatter": [
           {
            "fillpattern": {
             "fillmode": "overlay",
             "size": 10,
             "solidity": 0.2
            },
            "type": "scatter"
           }
          ],
          "scatter3d": [
           {
            "line": {
             "colorbar": {
              "outlinewidth": 0,
              "ticks": ""
             }
            },
            "marker": {
             "colorbar": {
              "outlinewidth": 0,
              "ticks": ""
             }
            },
            "type": "scatter3d"
           }
          ],
          "scattercarpet": [
           {
            "marker": {
             "colorbar": {
              "outlinewidth": 0,
              "ticks": ""
             }
            },
            "type": "scattercarpet"
           }
          ],
          "scattergeo": [
           {
            "marker": {
             "colorbar": {
              "outlinewidth": 0,
              "ticks": ""
             }
            },
            "type": "scattergeo"
           }
          ],
          "scattergl": [
           {
            "marker": {
             "colorbar": {
              "outlinewidth": 0,
              "ticks": ""
             }
            },
            "type": "scattergl"
           }
          ],
          "scattermapbox": [
           {
            "marker": {
             "colorbar": {
              "outlinewidth": 0,
              "ticks": ""
             }
            },
            "type": "scattermapbox"
           }
          ],
          "scatterpolar": [
           {
            "marker": {
             "colorbar": {
              "outlinewidth": 0,
              "ticks": ""
             }
            },
            "type": "scatterpolar"
           }
          ],
          "scatterpolargl": [
           {
            "marker": {
             "colorbar": {
              "outlinewidth": 0,
              "ticks": ""
             }
            },
            "type": "scatterpolargl"
           }
          ],
          "scatterternary": [
           {
            "marker": {
             "colorbar": {
              "outlinewidth": 0,
              "ticks": ""
             }
            },
            "type": "scatterternary"
           }
          ],
          "surface": [
           {
            "colorbar": {
             "outlinewidth": 0,
             "ticks": ""
            },
            "colorscale": [
             [
              0,
              "#0d0887"
             ],
             [
              0.1111111111111111,
              "#46039f"
             ],
             [
              0.2222222222222222,
              "#7201a8"
             ],
             [
              0.3333333333333333,
              "#9c179e"
             ],
             [
              0.4444444444444444,
              "#bd3786"
             ],
             [
              0.5555555555555556,
              "#d8576b"
             ],
             [
              0.6666666666666666,
              "#ed7953"
             ],
             [
              0.7777777777777778,
              "#fb9f3a"
             ],
             [
              0.8888888888888888,
              "#fdca26"
             ],
             [
              1,
              "#f0f921"
             ]
            ],
            "type": "surface"
           }
          ],
          "table": [
           {
            "cells": {
             "fill": {
              "color": "#EBF0F8"
             },
             "line": {
              "color": "white"
             }
            },
            "header": {
             "fill": {
              "color": "#C8D4E3"
             },
             "line": {
              "color": "white"
             }
            },
            "type": "table"
           }
          ]
         },
         "layout": {
          "annotationdefaults": {
           "arrowcolor": "#2a3f5f",
           "arrowhead": 0,
           "arrowwidth": 1
          },
          "autotypenumbers": "strict",
          "coloraxis": {
           "colorbar": {
            "outlinewidth": 0,
            "ticks": ""
           }
          },
          "colorscale": {
           "diverging": [
            [
             0,
             "#8e0152"
            ],
            [
             0.1,
             "#c51b7d"
            ],
            [
             0.2,
             "#de77ae"
            ],
            [
             0.3,
             "#f1b6da"
            ],
            [
             0.4,
             "#fde0ef"
            ],
            [
             0.5,
             "#f7f7f7"
            ],
            [
             0.6,
             "#e6f5d0"
            ],
            [
             0.7,
             "#b8e186"
            ],
            [
             0.8,
             "#7fbc41"
            ],
            [
             0.9,
             "#4d9221"
            ],
            [
             1,
             "#276419"
            ]
           ],
           "sequential": [
            [
             0,
             "#0d0887"
            ],
            [
             0.1111111111111111,
             "#46039f"
            ],
            [
             0.2222222222222222,
             "#7201a8"
            ],
            [
             0.3333333333333333,
             "#9c179e"
            ],
            [
             0.4444444444444444,
             "#bd3786"
            ],
            [
             0.5555555555555556,
             "#d8576b"
            ],
            [
             0.6666666666666666,
             "#ed7953"
            ],
            [
             0.7777777777777778,
             "#fb9f3a"
            ],
            [
             0.8888888888888888,
             "#fdca26"
            ],
            [
             1,
             "#f0f921"
            ]
           ],
           "sequentialminus": [
            [
             0,
             "#0d0887"
            ],
            [
             0.1111111111111111,
             "#46039f"
            ],
            [
             0.2222222222222222,
             "#7201a8"
            ],
            [
             0.3333333333333333,
             "#9c179e"
            ],
            [
             0.4444444444444444,
             "#bd3786"
            ],
            [
             0.5555555555555556,
             "#d8576b"
            ],
            [
             0.6666666666666666,
             "#ed7953"
            ],
            [
             0.7777777777777778,
             "#fb9f3a"
            ],
            [
             0.8888888888888888,
             "#fdca26"
            ],
            [
             1,
             "#f0f921"
            ]
           ]
          },
          "colorway": [
           "#636efa",
           "#EF553B",
           "#00cc96",
           "#ab63fa",
           "#FFA15A",
           "#19d3f3",
           "#FF6692",
           "#B6E880",
           "#FF97FF",
           "#FECB52"
          ],
          "font": {
           "color": "#2a3f5f"
          },
          "geo": {
           "bgcolor": "white",
           "lakecolor": "white",
           "landcolor": "#E5ECF6",
           "showlakes": true,
           "showland": true,
           "subunitcolor": "white"
          },
          "hoverlabel": {
           "align": "left"
          },
          "hovermode": "closest",
          "mapbox": {
           "style": "light"
          },
          "paper_bgcolor": "white",
          "plot_bgcolor": "#E5ECF6",
          "polar": {
           "angularaxis": {
            "gridcolor": "white",
            "linecolor": "white",
            "ticks": ""
           },
           "bgcolor": "#E5ECF6",
           "radialaxis": {
            "gridcolor": "white",
            "linecolor": "white",
            "ticks": ""
           }
          },
          "scene": {
           "xaxis": {
            "backgroundcolor": "#E5ECF6",
            "gridcolor": "white",
            "gridwidth": 2,
            "linecolor": "white",
            "showbackground": true,
            "ticks": "",
            "zerolinecolor": "white"
           },
           "yaxis": {
            "backgroundcolor": "#E5ECF6",
            "gridcolor": "white",
            "gridwidth": 2,
            "linecolor": "white",
            "showbackground": true,
            "ticks": "",
            "zerolinecolor": "white"
           },
           "zaxis": {
            "backgroundcolor": "#E5ECF6",
            "gridcolor": "white",
            "gridwidth": 2,
            "linecolor": "white",
            "showbackground": true,
            "ticks": "",
            "zerolinecolor": "white"
           }
          },
          "shapedefaults": {
           "line": {
            "color": "#2a3f5f"
           }
          },
          "ternary": {
           "aaxis": {
            "gridcolor": "white",
            "linecolor": "white",
            "ticks": ""
           },
           "baxis": {
            "gridcolor": "white",
            "linecolor": "white",
            "ticks": ""
           },
           "bgcolor": "#E5ECF6",
           "caxis": {
            "gridcolor": "white",
            "linecolor": "white",
            "ticks": ""
           }
          },
          "title": {
           "x": 0.05
          },
          "xaxis": {
           "automargin": true,
           "gridcolor": "white",
           "linecolor": "white",
           "ticks": "",
           "title": {
            "standoff": 15
           },
           "zerolinecolor": "white",
           "zerolinewidth": 2
          },
          "yaxis": {
           "automargin": true,
           "gridcolor": "white",
           "linecolor": "white",
           "ticks": "",
           "title": {
            "standoff": 15
           },
           "zerolinecolor": "white",
           "zerolinewidth": 2
          }
         }
        },
        "title": {
         "text": "Distribución Anual de Pasajeros por Aerolíneas Internacionales con Tarifas Reducidas"
        },
        "xaxis": {
         "anchor": "y",
         "domain": [
          0,
          1
         ],
         "title": {
          "text": "Año"
         }
        },
        "yaxis": {
         "anchor": "x",
         "domain": [
          0,
          1
         ],
         "title": {
          "text": "Total de Pasajeros"
         }
        }
       }
      }
     },
     "metadata": {},
     "output_type": "display_data"
    }
   ],
   "source": [
    "# Análisis para vuelos internacionales\n",
    "analyze_fare_summary(df_1, \"International\", \"Low Fare\", \n",
    "    \"Distribución Anual de Pasajeros por Aerolíneas Internacionales con Tarifas Reducidas\")\n"
   ]
  },
  {
   "cell_type": "markdown",
   "metadata": {},
   "source": [
    "![](newplot11.png)"
   ]
  },
  {
   "cell_type": "markdown",
   "metadata": {},
   "source": [
    "<div style=\"letter-spacing: 0.5px; text-align: justify; font-size: 14px;\">\n",
    ". Total mensual de pasajeros y su distribución por destino\n",
    "</div>"
   ]
  },
  {
   "cell_type": "code",
   "execution_count": 49,
   "metadata": {},
   "outputs": [],
   "source": [
    "# Calcular el total de pasajeros por mes en Domestic e International vuelos\n",
    "monthly_summary = df_1.groupBy(\"Month\").agg(\n",
    "    F.sum(\"Adjusted Passenger Count\").alias(\"Total Passengers\"),\n",
    "    F.sum(F.when(df_1[\"GEO Summary\"] == \"Domestic\", df_1[\"Adjusted Passenger Count\"]).otherwise(0)).alias(\"Domestic Passengers\"),\n",
    "    F.sum(F.when(df_1[\"GEO Summary\"] == \"International\", df_1[\"Adjusted Passenger Count\"]).otherwise(0)).alias(\"International Passengers\")\n",
    ")\n",
    "\n",
    "# Añadir un índice de mes para ordenar correctamente\n",
    "monthly_summary = monthly_summary.withColumn(\n",
    "    \"Month_Index\", \n",
    "    F.when(F.col(\"Month\") == \"January\", 1)\n",
    "     .when(F.col(\"Month\") == \"February\", 2)\n",
    "     .when(F.col(\"Month\") == \"March\", 3)\n",
    "     .when(F.col(\"Month\") == \"April\", 4)\n",
    "     .when(F.col(\"Month\") == \"May\", 5)\n",
    "     .when(F.col(\"Month\") == \"June\", 6)\n",
    "     .when(F.col(\"Month\") == \"July\", 7)\n",
    "     .when(F.col(\"Month\") == \"August\", 8)\n",
    "     .when(F.col(\"Month\") == \"September\", 9)\n",
    "     .when(F.col(\"Month\") == \"October\", 10)\n",
    "     .when(F.col(\"Month\") == \"November\", 11)\n",
    "     .when(F.col(\"Month\") == \"December\", 12)\n",
    ")\n",
    "\n",
    "# Ordenar por el índice de mes y seleccionar las columnas necesarias\n",
    "monthly_summary = monthly_summary.orderBy(\"Month_Index\").select(\n",
    "    \"Month\", \"Total Passengers\", \"Domestic Passengers\", \"International Passengers\"\n",
    ")\n",
    "\n",
    "# Mostrar el resultado\n",
    "#monthly_summary.show(12, truncate=False)\n"
   ]
  },
  {
   "cell_type": "markdown",
   "metadata": {},
   "source": [
    "<div style=\"letter-spacing: 0.5px; text-align: justify; font-size: 12px;\">\n",
    "Los meses con mayor afluencia de pasajeros son julio y agosto, coincidiendo probablemente con el período de vacaciones escolares. La misma tendencia se observa tanto en rutas domésticas como internacionales.\n",
    "</div>"
   ]
  },
  {
   "cell_type": "code",
   "execution_count": 50,
   "metadata": {},
   "outputs": [
    {
     "data": {
      "application/vnd.plotly.v1+json": {
       "config": {
        "plotlyServerURL": "https://plot.ly"
       },
       "data": [
        {
         "alignmentgroup": "True",
         "hovertemplate": "Categoría=Total Passengers<br>Mes=%{x}<br>Total de Pasajeros=%{y}<extra></extra>",
         "legendgroup": "Total Passengers",
         "marker": {
          "color": "#636efa",
          "pattern": {
           "shape": ""
          }
         },
         "name": "Total Passengers",
         "offsetgroup": "Total Passengers",
         "orientation": "v",
         "showlegend": true,
         "textposition": "auto",
         "texttemplate": "%{y}",
         "type": "bar",
         "x": [
          "January",
          "February",
          "March",
          "April",
          "May",
          "June",
          "July",
          "August",
          "September",
          "October",
          "November",
          "December"
         ],
         "xaxis": "x",
         "y": [
          33196102,
          30546207,
          36916971,
          33216859,
          35656450,
          37835221,
          42695678,
          42891174,
          37367581,
          38514427,
          35079712,
          36267698
         ],
         "yaxis": "y"
        },
        {
         "alignmentgroup": "True",
         "hovertemplate": "Categoría=Domestic Passengers<br>Mes=%{x}<br>Total de Pasajeros=%{y}<extra></extra>",
         "legendgroup": "Domestic Passengers",
         "marker": {
          "color": "#EF553B",
          "pattern": {
           "shape": ""
          }
         },
         "name": "Domestic Passengers",
         "offsetgroup": "Domestic Passengers",
         "orientation": "v",
         "showlegend": true,
         "textposition": "auto",
         "texttemplate": "%{y}",
         "type": "bar",
         "x": [
          "January",
          "February",
          "March",
          "April",
          "May",
          "June",
          "July",
          "August",
          "September",
          "October",
          "November",
          "December"
         ],
         "xaxis": "x",
         "y": [
          25080924,
          23570283,
          28683489,
          25729432,
          27361332,
          28995058,
          32568498,
          32792485,
          28702496,
          29930417,
          27556297,
          28071926
         ],
         "yaxis": "y"
        },
        {
         "alignmentgroup": "True",
         "hovertemplate": "Categoría=International Passengers<br>Mes=%{x}<br>Total de Pasajeros=%{y}<extra></extra>",
         "legendgroup": "International Passengers",
         "marker": {
          "color": "#00cc96",
          "pattern": {
           "shape": ""
          }
         },
         "name": "International Passengers",
         "offsetgroup": "International Passengers",
         "orientation": "v",
         "showlegend": true,
         "textposition": "auto",
         "texttemplate": "%{y}",
         "type": "bar",
         "x": [
          "January",
          "February",
          "March",
          "April",
          "May",
          "June",
          "July",
          "August",
          "September",
          "October",
          "November",
          "December"
         ],
         "xaxis": "x",
         "y": [
          8115178,
          6975924,
          8233482,
          7487427,
          8295118,
          8840163,
          10127180,
          10098689,
          8665085,
          8584010,
          7523415,
          8195772
         ],
         "yaxis": "y"
        }
       ],
       "layout": {
        "barmode": "group",
        "legend": {
         "title": {
          "text": "Categoría"
         },
         "tracegroupgap": 0
        },
        "template": {
         "data": {
          "bar": [
           {
            "error_x": {
             "color": "#2a3f5f"
            },
            "error_y": {
             "color": "#2a3f5f"
            },
            "marker": {
             "line": {
              "color": "white",
              "width": 0.5
             },
             "pattern": {
              "fillmode": "overlay",
              "size": 10,
              "solidity": 0.2
             }
            },
            "type": "bar"
           }
          ],
          "barpolar": [
           {
            "marker": {
             "line": {
              "color": "white",
              "width": 0.5
             },
             "pattern": {
              "fillmode": "overlay",
              "size": 10,
              "solidity": 0.2
             }
            },
            "type": "barpolar"
           }
          ],
          "carpet": [
           {
            "aaxis": {
             "endlinecolor": "#2a3f5f",
             "gridcolor": "#C8D4E3",
             "linecolor": "#C8D4E3",
             "minorgridcolor": "#C8D4E3",
             "startlinecolor": "#2a3f5f"
            },
            "baxis": {
             "endlinecolor": "#2a3f5f",
             "gridcolor": "#C8D4E3",
             "linecolor": "#C8D4E3",
             "minorgridcolor": "#C8D4E3",
             "startlinecolor": "#2a3f5f"
            },
            "type": "carpet"
           }
          ],
          "choropleth": [
           {
            "colorbar": {
             "outlinewidth": 0,
             "ticks": ""
            },
            "type": "choropleth"
           }
          ],
          "contour": [
           {
            "colorbar": {
             "outlinewidth": 0,
             "ticks": ""
            },
            "colorscale": [
             [
              0,
              "#0d0887"
             ],
             [
              0.1111111111111111,
              "#46039f"
             ],
             [
              0.2222222222222222,
              "#7201a8"
             ],
             [
              0.3333333333333333,
              "#9c179e"
             ],
             [
              0.4444444444444444,
              "#bd3786"
             ],
             [
              0.5555555555555556,
              "#d8576b"
             ],
             [
              0.6666666666666666,
              "#ed7953"
             ],
             [
              0.7777777777777778,
              "#fb9f3a"
             ],
             [
              0.8888888888888888,
              "#fdca26"
             ],
             [
              1,
              "#f0f921"
             ]
            ],
            "type": "contour"
           }
          ],
          "contourcarpet": [
           {
            "colorbar": {
             "outlinewidth": 0,
             "ticks": ""
            },
            "type": "contourcarpet"
           }
          ],
          "heatmap": [
           {
            "colorbar": {
             "outlinewidth": 0,
             "ticks": ""
            },
            "colorscale": [
             [
              0,
              "#0d0887"
             ],
             [
              0.1111111111111111,
              "#46039f"
             ],
             [
              0.2222222222222222,
              "#7201a8"
             ],
             [
              0.3333333333333333,
              "#9c179e"
             ],
             [
              0.4444444444444444,
              "#bd3786"
             ],
             [
              0.5555555555555556,
              "#d8576b"
             ],
             [
              0.6666666666666666,
              "#ed7953"
             ],
             [
              0.7777777777777778,
              "#fb9f3a"
             ],
             [
              0.8888888888888888,
              "#fdca26"
             ],
             [
              1,
              "#f0f921"
             ]
            ],
            "type": "heatmap"
           }
          ],
          "heatmapgl": [
           {
            "colorbar": {
             "outlinewidth": 0,
             "ticks": ""
            },
            "colorscale": [
             [
              0,
              "#0d0887"
             ],
             [
              0.1111111111111111,
              "#46039f"
             ],
             [
              0.2222222222222222,
              "#7201a8"
             ],
             [
              0.3333333333333333,
              "#9c179e"
             ],
             [
              0.4444444444444444,
              "#bd3786"
             ],
             [
              0.5555555555555556,
              "#d8576b"
             ],
             [
              0.6666666666666666,
              "#ed7953"
             ],
             [
              0.7777777777777778,
              "#fb9f3a"
             ],
             [
              0.8888888888888888,
              "#fdca26"
             ],
             [
              1,
              "#f0f921"
             ]
            ],
            "type": "heatmapgl"
           }
          ],
          "histogram": [
           {
            "marker": {
             "pattern": {
              "fillmode": "overlay",
              "size": 10,
              "solidity": 0.2
             }
            },
            "type": "histogram"
           }
          ],
          "histogram2d": [
           {
            "colorbar": {
             "outlinewidth": 0,
             "ticks": ""
            },
            "colorscale": [
             [
              0,
              "#0d0887"
             ],
             [
              0.1111111111111111,
              "#46039f"
             ],
             [
              0.2222222222222222,
              "#7201a8"
             ],
             [
              0.3333333333333333,
              "#9c179e"
             ],
             [
              0.4444444444444444,
              "#bd3786"
             ],
             [
              0.5555555555555556,
              "#d8576b"
             ],
             [
              0.6666666666666666,
              "#ed7953"
             ],
             [
              0.7777777777777778,
              "#fb9f3a"
             ],
             [
              0.8888888888888888,
              "#fdca26"
             ],
             [
              1,
              "#f0f921"
             ]
            ],
            "type": "histogram2d"
           }
          ],
          "histogram2dcontour": [
           {
            "colorbar": {
             "outlinewidth": 0,
             "ticks": ""
            },
            "colorscale": [
             [
              0,
              "#0d0887"
             ],
             [
              0.1111111111111111,
              "#46039f"
             ],
             [
              0.2222222222222222,
              "#7201a8"
             ],
             [
              0.3333333333333333,
              "#9c179e"
             ],
             [
              0.4444444444444444,
              "#bd3786"
             ],
             [
              0.5555555555555556,
              "#d8576b"
             ],
             [
              0.6666666666666666,
              "#ed7953"
             ],
             [
              0.7777777777777778,
              "#fb9f3a"
             ],
             [
              0.8888888888888888,
              "#fdca26"
             ],
             [
              1,
              "#f0f921"
             ]
            ],
            "type": "histogram2dcontour"
           }
          ],
          "mesh3d": [
           {
            "colorbar": {
             "outlinewidth": 0,
             "ticks": ""
            },
            "type": "mesh3d"
           }
          ],
          "parcoords": [
           {
            "line": {
             "colorbar": {
              "outlinewidth": 0,
              "ticks": ""
             }
            },
            "type": "parcoords"
           }
          ],
          "pie": [
           {
            "automargin": true,
            "type": "pie"
           }
          ],
          "scatter": [
           {
            "fillpattern": {
             "fillmode": "overlay",
             "size": 10,
             "solidity": 0.2
            },
            "type": "scatter"
           }
          ],
          "scatter3d": [
           {
            "line": {
             "colorbar": {
              "outlinewidth": 0,
              "ticks": ""
             }
            },
            "marker": {
             "colorbar": {
              "outlinewidth": 0,
              "ticks": ""
             }
            },
            "type": "scatter3d"
           }
          ],
          "scattercarpet": [
           {
            "marker": {
             "colorbar": {
              "outlinewidth": 0,
              "ticks": ""
             }
            },
            "type": "scattercarpet"
           }
          ],
          "scattergeo": [
           {
            "marker": {
             "colorbar": {
              "outlinewidth": 0,
              "ticks": ""
             }
            },
            "type": "scattergeo"
           }
          ],
          "scattergl": [
           {
            "marker": {
             "colorbar": {
              "outlinewidth": 0,
              "ticks": ""
             }
            },
            "type": "scattergl"
           }
          ],
          "scattermapbox": [
           {
            "marker": {
             "colorbar": {
              "outlinewidth": 0,
              "ticks": ""
             }
            },
            "type": "scattermapbox"
           }
          ],
          "scatterpolar": [
           {
            "marker": {
             "colorbar": {
              "outlinewidth": 0,
              "ticks": ""
             }
            },
            "type": "scatterpolar"
           }
          ],
          "scatterpolargl": [
           {
            "marker": {
             "colorbar": {
              "outlinewidth": 0,
              "ticks": ""
             }
            },
            "type": "scatterpolargl"
           }
          ],
          "scatterternary": [
           {
            "marker": {
             "colorbar": {
              "outlinewidth": 0,
              "ticks": ""
             }
            },
            "type": "scatterternary"
           }
          ],
          "surface": [
           {
            "colorbar": {
             "outlinewidth": 0,
             "ticks": ""
            },
            "colorscale": [
             [
              0,
              "#0d0887"
             ],
             [
              0.1111111111111111,
              "#46039f"
             ],
             [
              0.2222222222222222,
              "#7201a8"
             ],
             [
              0.3333333333333333,
              "#9c179e"
             ],
             [
              0.4444444444444444,
              "#bd3786"
             ],
             [
              0.5555555555555556,
              "#d8576b"
             ],
             [
              0.6666666666666666,
              "#ed7953"
             ],
             [
              0.7777777777777778,
              "#fb9f3a"
             ],
             [
              0.8888888888888888,
              "#fdca26"
             ],
             [
              1,
              "#f0f921"
             ]
            ],
            "type": "surface"
           }
          ],
          "table": [
           {
            "cells": {
             "fill": {
              "color": "#EBF0F8"
             },
             "line": {
              "color": "white"
             }
            },
            "header": {
             "fill": {
              "color": "#C8D4E3"
             },
             "line": {
              "color": "white"
             }
            },
            "type": "table"
           }
          ]
         },
         "layout": {
          "annotationdefaults": {
           "arrowcolor": "#2a3f5f",
           "arrowhead": 0,
           "arrowwidth": 1
          },
          "autotypenumbers": "strict",
          "coloraxis": {
           "colorbar": {
            "outlinewidth": 0,
            "ticks": ""
           }
          },
          "colorscale": {
           "diverging": [
            [
             0,
             "#8e0152"
            ],
            [
             0.1,
             "#c51b7d"
            ],
            [
             0.2,
             "#de77ae"
            ],
            [
             0.3,
             "#f1b6da"
            ],
            [
             0.4,
             "#fde0ef"
            ],
            [
             0.5,
             "#f7f7f7"
            ],
            [
             0.6,
             "#e6f5d0"
            ],
            [
             0.7,
             "#b8e186"
            ],
            [
             0.8,
             "#7fbc41"
            ],
            [
             0.9,
             "#4d9221"
            ],
            [
             1,
             "#276419"
            ]
           ],
           "sequential": [
            [
             0,
             "#0d0887"
            ],
            [
             0.1111111111111111,
             "#46039f"
            ],
            [
             0.2222222222222222,
             "#7201a8"
            ],
            [
             0.3333333333333333,
             "#9c179e"
            ],
            [
             0.4444444444444444,
             "#bd3786"
            ],
            [
             0.5555555555555556,
             "#d8576b"
            ],
            [
             0.6666666666666666,
             "#ed7953"
            ],
            [
             0.7777777777777778,
             "#fb9f3a"
            ],
            [
             0.8888888888888888,
             "#fdca26"
            ],
            [
             1,
             "#f0f921"
            ]
           ],
           "sequentialminus": [
            [
             0,
             "#0d0887"
            ],
            [
             0.1111111111111111,
             "#46039f"
            ],
            [
             0.2222222222222222,
             "#7201a8"
            ],
            [
             0.3333333333333333,
             "#9c179e"
            ],
            [
             0.4444444444444444,
             "#bd3786"
            ],
            [
             0.5555555555555556,
             "#d8576b"
            ],
            [
             0.6666666666666666,
             "#ed7953"
            ],
            [
             0.7777777777777778,
             "#fb9f3a"
            ],
            [
             0.8888888888888888,
             "#fdca26"
            ],
            [
             1,
             "#f0f921"
            ]
           ]
          },
          "colorway": [
           "#636efa",
           "#EF553B",
           "#00cc96",
           "#ab63fa",
           "#FFA15A",
           "#19d3f3",
           "#FF6692",
           "#B6E880",
           "#FF97FF",
           "#FECB52"
          ],
          "font": {
           "color": "#2a3f5f"
          },
          "geo": {
           "bgcolor": "white",
           "lakecolor": "white",
           "landcolor": "white",
           "showlakes": true,
           "showland": true,
           "subunitcolor": "#C8D4E3"
          },
          "hoverlabel": {
           "align": "left"
          },
          "hovermode": "closest",
          "mapbox": {
           "style": "light"
          },
          "paper_bgcolor": "white",
          "plot_bgcolor": "white",
          "polar": {
           "angularaxis": {
            "gridcolor": "#EBF0F8",
            "linecolor": "#EBF0F8",
            "ticks": ""
           },
           "bgcolor": "white",
           "radialaxis": {
            "gridcolor": "#EBF0F8",
            "linecolor": "#EBF0F8",
            "ticks": ""
           }
          },
          "scene": {
           "xaxis": {
            "backgroundcolor": "white",
            "gridcolor": "#DFE8F3",
            "gridwidth": 2,
            "linecolor": "#EBF0F8",
            "showbackground": true,
            "ticks": "",
            "zerolinecolor": "#EBF0F8"
           },
           "yaxis": {
            "backgroundcolor": "white",
            "gridcolor": "#DFE8F3",
            "gridwidth": 2,
            "linecolor": "#EBF0F8",
            "showbackground": true,
            "ticks": "",
            "zerolinecolor": "#EBF0F8"
           },
           "zaxis": {
            "backgroundcolor": "white",
            "gridcolor": "#DFE8F3",
            "gridwidth": 2,
            "linecolor": "#EBF0F8",
            "showbackground": true,
            "ticks": "",
            "zerolinecolor": "#EBF0F8"
           }
          },
          "shapedefaults": {
           "line": {
            "color": "#2a3f5f"
           }
          },
          "ternary": {
           "aaxis": {
            "gridcolor": "#DFE8F3",
            "linecolor": "#A2B1C6",
            "ticks": ""
           },
           "baxis": {
            "gridcolor": "#DFE8F3",
            "linecolor": "#A2B1C6",
            "ticks": ""
           },
           "bgcolor": "white",
           "caxis": {
            "gridcolor": "#DFE8F3",
            "linecolor": "#A2B1C6",
            "ticks": ""
           }
          },
          "title": {
           "x": 0.05
          },
          "xaxis": {
           "automargin": true,
           "gridcolor": "#EBF0F8",
           "linecolor": "#EBF0F8",
           "ticks": "",
           "title": {
            "standoff": 15
           },
           "zerolinecolor": "#EBF0F8",
           "zerolinewidth": 2
          },
          "yaxis": {
           "automargin": true,
           "gridcolor": "#EBF0F8",
           "linecolor": "#EBF0F8",
           "ticks": "",
           "title": {
            "standoff": 15
           },
           "zerolinecolor": "#EBF0F8",
           "zerolinewidth": 2
          }
         }
        },
        "title": {
         "text": "Distribución Mensual de Pasajeros (2005-2016)"
        },
        "xaxis": {
         "anchor": "y",
         "categoryarray": [
          "January",
          "February",
          "March",
          "April",
          "May",
          "June",
          "July",
          "August",
          "September",
          "October",
          "November",
          "December"
         ],
         "categoryorder": "array",
         "domain": [
          0,
          1
         ],
         "title": {
          "text": "Mes"
         }
        },
        "yaxis": {
         "anchor": "x",
         "domain": [
          0,
          1
         ],
         "title": {
          "text": "Total de Pasajeros"
         }
        }
       }
      }
     },
     "metadata": {},
     "output_type": "display_data"
    }
   ],
   "source": [
    "# Convertir el resultado a un DataFrame de Pandas y crear el gráfico de barras agrupadas\n",
    "fig = px.bar(\n",
    "    monthly_summary.toPandas(),  # Convertir directamente a Pandas dentro de la llamada\n",
    "    x=\"Month\",\n",
    "    y=[\"Total Passengers\", \"Domestic Passengers\", \"International Passengers\"],\n",
    "    title=\"Distribución Mensual de Pasajeros (2005-2016)\",\n",
    "    labels={\"value\": \"Total de Pasajeros\", \"variable\": \"Categoría\", \"Month\": \"Mes\"},\n",
    "    category_orders={\"Month\": [\"January\", \"February\", \"March\", \"April\", \"May\", \"June\", \"July\", \"August\", \"September\", \"October\", \"November\", \"December\"]},\n",
    "    text_auto=True\n",
    ")\n",
    "\n",
    "# Personalizar el diseño y mostrar el gráfico\n",
    "fig.update_layout(\n",
    "    barmode='group',\n",
    "    xaxis_title=\"Mes\",\n",
    "    yaxis_title=\"Total de Pasajeros\",\n",
    "    template=\"plotly_white\",\n",
    "    legend_title=\"Categoría\"\n",
    ").show()\n"
   ]
  },
  {
   "cell_type": "markdown",
   "metadata": {},
   "source": [
    "![](newplot12.png)"
   ]
  },
  {
   "cell_type": "markdown",
   "metadata": {},
   "source": [
    "<div style=\"letter-spacing: 0.5px; text-align: justify; font-size: 14px;\">\n",
    ". Total de actividad.\n",
    "</div>"
   ]
  },
  {
   "cell_type": "markdown",
   "metadata": {},
   "source": [
    "<div style=\"letter-spacing: 0.5px; text-align: justify; font-size: 12px;\">\n",
    "Hay que extender la investigación más allá de la data actual para comprender a que se refieren estos datos, pues su definición ayuda poco a su comprensión. Es claro que no se refiere al total de vuelos, pues al hacer una división entre el total de pasajeros y esta columna los resultados son irreales. Mas de 400 mill de pasajeros no pueden ser transportados en 15007 vuelos.\n",
    "</div>"
   ]
  },
  {
   "cell_type": "code",
   "execution_count": 51,
   "metadata": {},
   "outputs": [],
   "source": [
    "# Contar el total de vuelos por 'Adjusted Activity Type Code'\n",
    "activity_type_counts = df_1.groupBy(\"Adjusted Activity Type Code\").count()\n",
    "\n",
    "# Calcular el total de vuelos y crear una fila adicional\n",
    "total_count = activity_type_counts.agg(F.sum(\"count\").alias(\"count\")).withColumn(\"Adjusted Activity Type Code\", F.lit(\"Total\"))\n",
    "\n",
    "# Unir la tabla original con la fila del total\n",
    "final_result = activity_type_counts.unionByName(total_count)\n",
    "\n",
    "# Mostrar el resultado ordenado por 'count' excepto para \"Total\"\n",
    "#final_result.orderBy(F.when(F.col(\"Adjusted Activity Type Code\") == \"Total\", 1).otherwise(0), F.col(\"count\").desc()).show()\n"
   ]
  },
  {
   "cell_type": "code",
   "execution_count": 52,
   "metadata": {},
   "outputs": [
    {
     "data": {
      "application/vnd.plotly.v1+json": {
       "config": {
        "plotlyServerURL": "https://plot.ly"
       },
       "data": [
        {
         "alignmentgroup": "True",
         "hovertemplate": "Tipo de Actividad=%{x}<br>Total de Vuelos=%{y}<extra></extra>",
         "legendgroup": "Deplaned",
         "marker": {
          "color": "#636efa",
          "pattern": {
           "shape": ""
          }
         },
         "name": "Deplaned",
         "offsetgroup": "Deplaned",
         "orientation": "v",
         "showlegend": true,
         "textposition": "auto",
         "texttemplate": "%{y}",
         "type": "bar",
         "x": [
          "Deplaned"
         ],
         "xaxis": "x",
         "y": [
          7071
         ],
         "yaxis": "y"
        },
        {
         "alignmentgroup": "True",
         "hovertemplate": "Tipo de Actividad=%{x}<br>Total de Vuelos=%{y}<extra></extra>",
         "legendgroup": "Enplaned",
         "marker": {
          "color": "#EF553B",
          "pattern": {
           "shape": ""
          }
         },
         "name": "Enplaned",
         "offsetgroup": "Enplaned",
         "orientation": "v",
         "showlegend": true,
         "textposition": "auto",
         "texttemplate": "%{y}",
         "type": "bar",
         "x": [
          "Enplaned"
         ],
         "xaxis": "x",
         "y": [
          7016
         ],
         "yaxis": "y"
        },
        {
         "alignmentgroup": "True",
         "hovertemplate": "Tipo de Actividad=%{x}<br>Total de Vuelos=%{y}<extra></extra>",
         "legendgroup": "Thru / Transit * 2",
         "marker": {
          "color": "#00cc96",
          "pattern": {
           "shape": ""
          }
         },
         "name": "Thru / Transit * 2",
         "offsetgroup": "Thru / Transit * 2",
         "orientation": "v",
         "showlegend": true,
         "textposition": "auto",
         "texttemplate": "%{y}",
         "type": "bar",
         "x": [
          "Thru / Transit * 2"
         ],
         "xaxis": "x",
         "y": [
          920
         ],
         "yaxis": "y"
        }
       ],
       "layout": {
        "barmode": "relative",
        "height": 400,
        "legend": {
         "title": {
          "text": "Tipo de Actividad"
         },
         "tracegroupgap": 0
        },
        "showlegend": false,
        "template": {
         "data": {
          "bar": [
           {
            "error_x": {
             "color": "#2a3f5f"
            },
            "error_y": {
             "color": "#2a3f5f"
            },
            "marker": {
             "line": {
              "color": "white",
              "width": 0.5
             },
             "pattern": {
              "fillmode": "overlay",
              "size": 10,
              "solidity": 0.2
             }
            },
            "type": "bar"
           }
          ],
          "barpolar": [
           {
            "marker": {
             "line": {
              "color": "white",
              "width": 0.5
             },
             "pattern": {
              "fillmode": "overlay",
              "size": 10,
              "solidity": 0.2
             }
            },
            "type": "barpolar"
           }
          ],
          "carpet": [
           {
            "aaxis": {
             "endlinecolor": "#2a3f5f",
             "gridcolor": "#C8D4E3",
             "linecolor": "#C8D4E3",
             "minorgridcolor": "#C8D4E3",
             "startlinecolor": "#2a3f5f"
            },
            "baxis": {
             "endlinecolor": "#2a3f5f",
             "gridcolor": "#C8D4E3",
             "linecolor": "#C8D4E3",
             "minorgridcolor": "#C8D4E3",
             "startlinecolor": "#2a3f5f"
            },
            "type": "carpet"
           }
          ],
          "choropleth": [
           {
            "colorbar": {
             "outlinewidth": 0,
             "ticks": ""
            },
            "type": "choropleth"
           }
          ],
          "contour": [
           {
            "colorbar": {
             "outlinewidth": 0,
             "ticks": ""
            },
            "colorscale": [
             [
              0,
              "#0d0887"
             ],
             [
              0.1111111111111111,
              "#46039f"
             ],
             [
              0.2222222222222222,
              "#7201a8"
             ],
             [
              0.3333333333333333,
              "#9c179e"
             ],
             [
              0.4444444444444444,
              "#bd3786"
             ],
             [
              0.5555555555555556,
              "#d8576b"
             ],
             [
              0.6666666666666666,
              "#ed7953"
             ],
             [
              0.7777777777777778,
              "#fb9f3a"
             ],
             [
              0.8888888888888888,
              "#fdca26"
             ],
             [
              1,
              "#f0f921"
             ]
            ],
            "type": "contour"
           }
          ],
          "contourcarpet": [
           {
            "colorbar": {
             "outlinewidth": 0,
             "ticks": ""
            },
            "type": "contourcarpet"
           }
          ],
          "heatmap": [
           {
            "colorbar": {
             "outlinewidth": 0,
             "ticks": ""
            },
            "colorscale": [
             [
              0,
              "#0d0887"
             ],
             [
              0.1111111111111111,
              "#46039f"
             ],
             [
              0.2222222222222222,
              "#7201a8"
             ],
             [
              0.3333333333333333,
              "#9c179e"
             ],
             [
              0.4444444444444444,
              "#bd3786"
             ],
             [
              0.5555555555555556,
              "#d8576b"
             ],
             [
              0.6666666666666666,
              "#ed7953"
             ],
             [
              0.7777777777777778,
              "#fb9f3a"
             ],
             [
              0.8888888888888888,
              "#fdca26"
             ],
             [
              1,
              "#f0f921"
             ]
            ],
            "type": "heatmap"
           }
          ],
          "heatmapgl": [
           {
            "colorbar": {
             "outlinewidth": 0,
             "ticks": ""
            },
            "colorscale": [
             [
              0,
              "#0d0887"
             ],
             [
              0.1111111111111111,
              "#46039f"
             ],
             [
              0.2222222222222222,
              "#7201a8"
             ],
             [
              0.3333333333333333,
              "#9c179e"
             ],
             [
              0.4444444444444444,
              "#bd3786"
             ],
             [
              0.5555555555555556,
              "#d8576b"
             ],
             [
              0.6666666666666666,
              "#ed7953"
             ],
             [
              0.7777777777777778,
              "#fb9f3a"
             ],
             [
              0.8888888888888888,
              "#fdca26"
             ],
             [
              1,
              "#f0f921"
             ]
            ],
            "type": "heatmapgl"
           }
          ],
          "histogram": [
           {
            "marker": {
             "pattern": {
              "fillmode": "overlay",
              "size": 10,
              "solidity": 0.2
             }
            },
            "type": "histogram"
           }
          ],
          "histogram2d": [
           {
            "colorbar": {
             "outlinewidth": 0,
             "ticks": ""
            },
            "colorscale": [
             [
              0,
              "#0d0887"
             ],
             [
              0.1111111111111111,
              "#46039f"
             ],
             [
              0.2222222222222222,
              "#7201a8"
             ],
             [
              0.3333333333333333,
              "#9c179e"
             ],
             [
              0.4444444444444444,
              "#bd3786"
             ],
             [
              0.5555555555555556,
              "#d8576b"
             ],
             [
              0.6666666666666666,
              "#ed7953"
             ],
             [
              0.7777777777777778,
              "#fb9f3a"
             ],
             [
              0.8888888888888888,
              "#fdca26"
             ],
             [
              1,
              "#f0f921"
             ]
            ],
            "type": "histogram2d"
           }
          ],
          "histogram2dcontour": [
           {
            "colorbar": {
             "outlinewidth": 0,
             "ticks": ""
            },
            "colorscale": [
             [
              0,
              "#0d0887"
             ],
             [
              0.1111111111111111,
              "#46039f"
             ],
             [
              0.2222222222222222,
              "#7201a8"
             ],
             [
              0.3333333333333333,
              "#9c179e"
             ],
             [
              0.4444444444444444,
              "#bd3786"
             ],
             [
              0.5555555555555556,
              "#d8576b"
             ],
             [
              0.6666666666666666,
              "#ed7953"
             ],
             [
              0.7777777777777778,
              "#fb9f3a"
             ],
             [
              0.8888888888888888,
              "#fdca26"
             ],
             [
              1,
              "#f0f921"
             ]
            ],
            "type": "histogram2dcontour"
           }
          ],
          "mesh3d": [
           {
            "colorbar": {
             "outlinewidth": 0,
             "ticks": ""
            },
            "type": "mesh3d"
           }
          ],
          "parcoords": [
           {
            "line": {
             "colorbar": {
              "outlinewidth": 0,
              "ticks": ""
             }
            },
            "type": "parcoords"
           }
          ],
          "pie": [
           {
            "automargin": true,
            "type": "pie"
           }
          ],
          "scatter": [
           {
            "fillpattern": {
             "fillmode": "overlay",
             "size": 10,
             "solidity": 0.2
            },
            "type": "scatter"
           }
          ],
          "scatter3d": [
           {
            "line": {
             "colorbar": {
              "outlinewidth": 0,
              "ticks": ""
             }
            },
            "marker": {
             "colorbar": {
              "outlinewidth": 0,
              "ticks": ""
             }
            },
            "type": "scatter3d"
           }
          ],
          "scattercarpet": [
           {
            "marker": {
             "colorbar": {
              "outlinewidth": 0,
              "ticks": ""
             }
            },
            "type": "scattercarpet"
           }
          ],
          "scattergeo": [
           {
            "marker": {
             "colorbar": {
              "outlinewidth": 0,
              "ticks": ""
             }
            },
            "type": "scattergeo"
           }
          ],
          "scattergl": [
           {
            "marker": {
             "colorbar": {
              "outlinewidth": 0,
              "ticks": ""
             }
            },
            "type": "scattergl"
           }
          ],
          "scattermapbox": [
           {
            "marker": {
             "colorbar": {
              "outlinewidth": 0,
              "ticks": ""
             }
            },
            "type": "scattermapbox"
           }
          ],
          "scatterpolar": [
           {
            "marker": {
             "colorbar": {
              "outlinewidth": 0,
              "ticks": ""
             }
            },
            "type": "scatterpolar"
           }
          ],
          "scatterpolargl": [
           {
            "marker": {
             "colorbar": {
              "outlinewidth": 0,
              "ticks": ""
             }
            },
            "type": "scatterpolargl"
           }
          ],
          "scatterternary": [
           {
            "marker": {
             "colorbar": {
              "outlinewidth": 0,
              "ticks": ""
             }
            },
            "type": "scatterternary"
           }
          ],
          "surface": [
           {
            "colorbar": {
             "outlinewidth": 0,
             "ticks": ""
            },
            "colorscale": [
             [
              0,
              "#0d0887"
             ],
             [
              0.1111111111111111,
              "#46039f"
             ],
             [
              0.2222222222222222,
              "#7201a8"
             ],
             [
              0.3333333333333333,
              "#9c179e"
             ],
             [
              0.4444444444444444,
              "#bd3786"
             ],
             [
              0.5555555555555556,
              "#d8576b"
             ],
             [
              0.6666666666666666,
              "#ed7953"
             ],
             [
              0.7777777777777778,
              "#fb9f3a"
             ],
             [
              0.8888888888888888,
              "#fdca26"
             ],
             [
              1,
              "#f0f921"
             ]
            ],
            "type": "surface"
           }
          ],
          "table": [
           {
            "cells": {
             "fill": {
              "color": "#EBF0F8"
             },
             "line": {
              "color": "white"
             }
            },
            "header": {
             "fill": {
              "color": "#C8D4E3"
             },
             "line": {
              "color": "white"
             }
            },
            "type": "table"
           }
          ]
         },
         "layout": {
          "annotationdefaults": {
           "arrowcolor": "#2a3f5f",
           "arrowhead": 0,
           "arrowwidth": 1
          },
          "autotypenumbers": "strict",
          "coloraxis": {
           "colorbar": {
            "outlinewidth": 0,
            "ticks": ""
           }
          },
          "colorscale": {
           "diverging": [
            [
             0,
             "#8e0152"
            ],
            [
             0.1,
             "#c51b7d"
            ],
            [
             0.2,
             "#de77ae"
            ],
            [
             0.3,
             "#f1b6da"
            ],
            [
             0.4,
             "#fde0ef"
            ],
            [
             0.5,
             "#f7f7f7"
            ],
            [
             0.6,
             "#e6f5d0"
            ],
            [
             0.7,
             "#b8e186"
            ],
            [
             0.8,
             "#7fbc41"
            ],
            [
             0.9,
             "#4d9221"
            ],
            [
             1,
             "#276419"
            ]
           ],
           "sequential": [
            [
             0,
             "#0d0887"
            ],
            [
             0.1111111111111111,
             "#46039f"
            ],
            [
             0.2222222222222222,
             "#7201a8"
            ],
            [
             0.3333333333333333,
             "#9c179e"
            ],
            [
             0.4444444444444444,
             "#bd3786"
            ],
            [
             0.5555555555555556,
             "#d8576b"
            ],
            [
             0.6666666666666666,
             "#ed7953"
            ],
            [
             0.7777777777777778,
             "#fb9f3a"
            ],
            [
             0.8888888888888888,
             "#fdca26"
            ],
            [
             1,
             "#f0f921"
            ]
           ],
           "sequentialminus": [
            [
             0,
             "#0d0887"
            ],
            [
             0.1111111111111111,
             "#46039f"
            ],
            [
             0.2222222222222222,
             "#7201a8"
            ],
            [
             0.3333333333333333,
             "#9c179e"
            ],
            [
             0.4444444444444444,
             "#bd3786"
            ],
            [
             0.5555555555555556,
             "#d8576b"
            ],
            [
             0.6666666666666666,
             "#ed7953"
            ],
            [
             0.7777777777777778,
             "#fb9f3a"
            ],
            [
             0.8888888888888888,
             "#fdca26"
            ],
            [
             1,
             "#f0f921"
            ]
           ]
          },
          "colorway": [
           "#636efa",
           "#EF553B",
           "#00cc96",
           "#ab63fa",
           "#FFA15A",
           "#19d3f3",
           "#FF6692",
           "#B6E880",
           "#FF97FF",
           "#FECB52"
          ],
          "font": {
           "color": "#2a3f5f"
          },
          "geo": {
           "bgcolor": "white",
           "lakecolor": "white",
           "landcolor": "white",
           "showlakes": true,
           "showland": true,
           "subunitcolor": "#C8D4E3"
          },
          "hoverlabel": {
           "align": "left"
          },
          "hovermode": "closest",
          "mapbox": {
           "style": "light"
          },
          "paper_bgcolor": "white",
          "plot_bgcolor": "white",
          "polar": {
           "angularaxis": {
            "gridcolor": "#EBF0F8",
            "linecolor": "#EBF0F8",
            "ticks": ""
           },
           "bgcolor": "white",
           "radialaxis": {
            "gridcolor": "#EBF0F8",
            "linecolor": "#EBF0F8",
            "ticks": ""
           }
          },
          "scene": {
           "xaxis": {
            "backgroundcolor": "white",
            "gridcolor": "#DFE8F3",
            "gridwidth": 2,
            "linecolor": "#EBF0F8",
            "showbackground": true,
            "ticks": "",
            "zerolinecolor": "#EBF0F8"
           },
           "yaxis": {
            "backgroundcolor": "white",
            "gridcolor": "#DFE8F3",
            "gridwidth": 2,
            "linecolor": "#EBF0F8",
            "showbackground": true,
            "ticks": "",
            "zerolinecolor": "#EBF0F8"
           },
           "zaxis": {
            "backgroundcolor": "white",
            "gridcolor": "#DFE8F3",
            "gridwidth": 2,
            "linecolor": "#EBF0F8",
            "showbackground": true,
            "ticks": "",
            "zerolinecolor": "#EBF0F8"
           }
          },
          "shapedefaults": {
           "line": {
            "color": "#2a3f5f"
           }
          },
          "ternary": {
           "aaxis": {
            "gridcolor": "#DFE8F3",
            "linecolor": "#A2B1C6",
            "ticks": ""
           },
           "baxis": {
            "gridcolor": "#DFE8F3",
            "linecolor": "#A2B1C6",
            "ticks": ""
           },
           "bgcolor": "white",
           "caxis": {
            "gridcolor": "#DFE8F3",
            "linecolor": "#A2B1C6",
            "ticks": ""
           }
          },
          "title": {
           "x": 0.05
          },
          "xaxis": {
           "automargin": true,
           "gridcolor": "#EBF0F8",
           "linecolor": "#EBF0F8",
           "ticks": "",
           "title": {
            "standoff": 15
           },
           "zerolinecolor": "#EBF0F8",
           "zerolinewidth": 2
          },
          "yaxis": {
           "automargin": true,
           "gridcolor": "#EBF0F8",
           "linecolor": "#EBF0F8",
           "ticks": "",
           "title": {
            "standoff": 15
           },
           "zerolinecolor": "#EBF0F8",
           "zerolinewidth": 2
          }
         }
        },
        "title": {
         "text": "Total del Tipo de Actividad"
        },
        "width": 600,
        "xaxis": {
         "anchor": "y",
         "categoryarray": [
          "Deplaned",
          "Enplaned",
          "Thru / Transit * 2"
         ],
         "categoryorder": "array",
         "domain": [
          0,
          1
         ],
         "tickangle": -45,
         "title": {
          "text": "Tipo de Actividad"
         }
        },
        "yaxis": {
         "anchor": "x",
         "domain": [
          0,
          1
         ],
         "title": {
          "text": "Total de Actividad"
         }
        }
       }
      }
     },
     "metadata": {},
     "output_type": "display_data"
    }
   ],
   "source": [
    "# Convertir el resultado a pandas, ordenar y excluir la fila \"Total\"\n",
    "final_result_pd = final_result.toPandas().sort_values(by=[\"Adjusted Activity Type Code\", \"count\"], ascending=[True, False])\n",
    "final_result_pd = final_result_pd[final_result_pd[\"Adjusted Activity Type Code\"] != \"Total\"]\n",
    "\n",
    "# Crear el gráfico con Plotly\n",
    "fig = px.bar(\n",
    "    final_result_pd,\n",
    "    x=\"Adjusted Activity Type Code\",\n",
    "    y=\"count\",\n",
    "    title=\"Total del Tipo de Actividad\",\n",
    "    labels={\"Adjusted Activity Type Code\": \"Tipo de Actividad\", \"count\": \"Total de Vuelos\"},\n",
    "    color=\"Adjusted Activity Type Code\",  # Colorear las barras por tipo de actividad\n",
    "    text_auto=True  # Mostrar los valores sobre las barras\n",
    ")\n",
    "\n",
    "# Ajustar el diseño y tamaño del gráfico\n",
    "fig.update_layout(\n",
    "    xaxis_title=\"Tipo de Actividad\",\n",
    "    yaxis_title=\"Total de Actividad\",\n",
    "    template=\"plotly_white\",  # Estilo blanco\n",
    "    xaxis_tickangle=-45,  # Rotar las etiquetas del eje X\n",
    "    showlegend=False,  # No mostrar la leyenda\n",
    "    width=600, height=400  # Ajustar el tamaño\n",
    ")\n",
    "\n",
    "# Mostrar el gráfico\n",
    "fig.show()\n"
   ]
  },
  {
   "cell_type": "markdown",
   "metadata": {},
   "source": [
    "![](newplot13.png)"
   ]
  },
  {
   "cell_type": "markdown",
   "metadata": {},
   "source": [
    "<div style=\"letter-spacing: 0.5px; text-align: justify; font-size: 14px;\">\n",
    ". Análisis correlativo\n",
    "</div>"
   ]
  },
  {
   "cell_type": "code",
   "execution_count": 53,
   "metadata": {},
   "outputs": [],
   "source": [
    "# Convertir las columnas categóricas a índices numéricos\n",
    "categorical_columns = [\n",
    "    'Operating Airline', 'Published Airline', 'GEO Summary', 'GEO Region', \n",
    "    'Price Category Code', 'Terminal', 'Boarding Area', \n",
    "    'Adjusted Activity Type Code', 'Month'\n",
    "]"
   ]
  },
  {
   "cell_type": "code",
   "execution_count": 54,
   "metadata": {},
   "outputs": [],
   "source": [
    "# Crear los indexadores para las columnas categóricas\n",
    "indexers = [StringIndexer(inputCol=col, outputCol=col + \"_Index\") for col in categorical_columns]\n"
   ]
  },
  {
   "cell_type": "code",
   "execution_count": 55,
   "metadata": {},
   "outputs": [],
   "source": [
    "# Aplicar el StringIndexer para cada columna categórica\n",
    "df_transformed = df_1\n",
    "for indexer in indexers:\n",
    "    df_transformed = indexer.fit(df_transformed).transform(df_transformed)\n"
   ]
  },
  {
   "cell_type": "code",
   "execution_count": 56,
   "metadata": {},
   "outputs": [],
   "source": [
    "# Seleccionar las columnas numéricas para la correlación\n",
    "numerical_columns = [\n",
    "    'Activity Period', 'Operating Airline_Index', 'Published Airline_Index',\n",
    "    'GEO Summary_Index', 'GEO Region_Index','Adjusted Passenger Count', \n",
    "    'Price Category Code_Index', 'Terminal_Index', 'Boarding Area_Index',\n",
    "    'Passenger Count', 'Adjusted Activity Type Code_Index', 'Year', 'Month_Index'\n",
    "]"
   ]
  },
  {
   "cell_type": "code",
   "execution_count": 57,
   "metadata": {},
   "outputs": [],
   "source": [
    "# Crear un ensamblador de características para combinar las columnas numéricas seleccionadas en una sola columna de características\n",
    "assembler = VectorAssembler(inputCols=numerical_columns, outputCol=\"features\")\n",
    "df_transformed = assembler.transform(df_transformed)\n"
   ]
  },
  {
   "cell_type": "markdown",
   "metadata": {},
   "source": [
    "<div style=\"letter-spacing: 0.5px; text-align: justify; font-size: 12px;\">\n",
    "\n",
    "\n",
    "\n",
    "**Correlación positiva**. \n",
    "\n",
    "Se observa una fuerte correlación positiva entre Activity Period y Year, Operating Airline y Published Airline, Terminal y Boarding Area, Passenger Count y Adjusted Passenger Count. Ello corrobora lo observado en el análisis inicial del dataframe, en la que algunas columnas muestran los datos ajustados de columnas similares.\n",
    "Geo Summary tiene una relación positiva media con Adjusted Passenger Count, Price Category Code, Terminal, Boarding Area Passenger Count.\n",
    "Ajusted Passenger Count tiene relación positiva media con Geo Summary y Terminal, Boarding Area. \n",
    "Terminal y Boarding Area tienen una relación positiva media con Geo Summary, Adjusted Passenger Count, Passenger Count y muy débil con Price Category Code. \n",
    "\n",
    "**Correlación negativa**. \n",
    "\n",
    "Geo Summary y Geo Region muestran una relación negativa media entre ellas.\n",
    "Geo Region muestra una débil relación negativa con Adjusted Passenger Count, Price Category Code, Terminal, Boarding Area y Boarding Area. Esto puede deverse a distintas razones, incluida la organización de los datos (agrupación por regiones y no por destinos específicos de cada aerolínea) y al uso del Terminal de San Francisco. Algunas aerolíneas con vuelos internacionales (Mexico, Canada) usan terminales y boarding area de vuelos nacionales.\n",
    "Adjusted Passenger tiene una débil relación con Operating Airline, Published Airline y Geo Region.\n",
    "Operating Airline y Published Airline tienen una relación negatova débil con Geo Summary, Adjusted Passenger Count, Terminal,Boarding Area, Passenger Count y Adjusted Activity Code.\n",
    "\n",
    "**Correlación cero o cercana a cero**. \n",
    "\n",
    "La columna Month muestra 0 relación con Geo Summary, Geo Region, Terminal, Boarding Area, Adjusted Type Code y cercana a 0 con el resto de variables.\n",
    "</div>"
   ]
  },
  {
   "cell_type": "code",
   "execution_count": 58,
   "metadata": {},
   "outputs": [
    {
     "data": {
      "application/vnd.plotly.v1+json": {
       "config": {
        "plotlyServerURL": "https://plot.ly"
       },
       "data": [
        {
         "coloraxis": "coloraxis",
         "hovertemplate": "Características: %{x}<br>Características: %{y}<br>Correlación: %{z}<extra></extra>",
         "name": "0",
         "texttemplate": "%{z}",
         "type": "heatmap",
         "x": [
          "Activity Period",
          "Operating Airline_Index",
          "Published Airline_Index",
          "GEO Summary_Index",
          "GEO Region_Index",
          "Adjusted Passenger Count",
          "Price Category Code_Index",
          "Terminal_Index",
          "Boarding Area_Index",
          "Passenger Count",
          "Adjusted Activity Type Code_Index",
          "Year",
          "Month_Index"
         ],
         "xaxis": "x",
         "y": [
          "Activity Period",
          "Operating Airline_Index",
          "Published Airline_Index",
          "GEO Summary_Index",
          "GEO Region_Index",
          "Adjusted Passenger Count",
          "Price Category Code_Index",
          "Terminal_Index",
          "Boarding Area_Index",
          "Passenger Count",
          "Adjusted Activity Type Code_Index",
          "Year",
          "Month_Index"
         ],
         "yaxis": "y",
         "z": [
          [
           "1.00",
           "0.01",
           "0.04",
           "-0.07",
           "0.07",
           "0.06",
           "0.01",
           "-0.05",
           "-0.06",
           "0.06",
           "-0.05",
           "1.00",
           "0.08"
          ],
          [
           "0.01",
           "1.00",
           "0.87",
           "-0.07",
           "0.06",
           "-0.29",
           "0.06",
           "-0.26",
           "-0.26",
           "-0.29",
           "-0.13",
           "0.01",
           "-0.02"
          ],
          [
           "0.04",
           "0.87",
           "1.00",
           "-0.21",
           "0.15",
           "-0.28",
           "0.13",
           "-0.39",
           "-0.40",
           "-0.28",
           "-0.12",
           "0.04",
           "-0.02"
          ],
          [
           "-0.07",
           "-0.07",
           "-0.21",
           "1.00",
           "-0.69",
           "0.40",
           "0.41",
           "0.56",
           "0.58",
           "0.40",
           "0.03",
           "-0.07",
           "-0.00"
          ],
          [
           "0.07",
           "0.06",
           "0.15",
           "-0.69",
           "1.00",
           "-0.30",
           "-0.26",
           "-0.34",
           "-0.36",
           "-0.30",
           "0.00",
           "0.07",
           "0.00"
          ],
          [
           "0.06",
           "-0.29",
           "-0.28",
           "0.40",
           "-0.30",
           "1.00",
           "0.06",
           "0.43",
           "0.35",
           "1.00",
           "-0.07",
           "0.06",
           "-0.01"
          ],
          [
           "0.01",
           "0.06",
           "0.13",
           "0.41",
           "-0.26",
           "0.06",
           "1.00",
           "0.14",
           "0.10",
           "0.07",
           "-0.00",
           "0.01",
           "-0.01"
          ],
          [
           "-0.05",
           "-0.26",
           "-0.39",
           "0.56",
           "-0.34",
           "0.43",
           "0.14",
           "1.00",
           "0.89",
           "0.43",
           "0.08",
           "-0.05",
           "0.00"
          ],
          [
           "-0.06",
           "-0.26",
           "-0.40",
           "0.58",
           "-0.36",
           "0.35",
           "0.10",
           "0.89",
           "1.00",
           "0.34",
           "0.07",
           "-0.06",
           "0.00"
          ],
          [
           "0.06",
           "-0.29",
           "-0.28",
           "0.40",
           "-0.30",
           "1.00",
           "0.07",
           "0.43",
           "0.34",
           "1.00",
           "-0.07",
           "0.06",
           "-0.01"
          ],
          [
           "-0.05",
           "-0.13",
           "-0.12",
           "0.03",
           "0.00",
           "-0.07",
           "-0.00",
           "0.08",
           "0.07",
           "-0.07",
           "1.00",
           "-0.05",
           "-0.00"
          ],
          [
           "1.00",
           "0.01",
           "0.04",
           "-0.07",
           "0.07",
           "0.06",
           "0.01",
           "-0.05",
           "-0.06",
           "0.06",
           "-0.05",
           "1.00",
           "0.08"
          ],
          [
           "0.08",
           "-0.02",
           "-0.02",
           "-0.00",
           "0.00",
           "-0.01",
           "-0.01",
           "0.00",
           "0.00",
           "-0.01",
           "-0.00",
           "0.08",
           "1.00"
          ]
         ]
        }
       ],
       "layout": {
        "coloraxis": {
         "cmax": 1,
         "cmin": -1,
         "colorbar": {
          "title": {
           "text": "Correlación"
          }
         },
         "colorscale": [
          [
           0,
           "rgb(103,0,31)"
          ],
          [
           0.1,
           "rgb(178,24,43)"
          ],
          [
           0.2,
           "rgb(214,96,77)"
          ],
          [
           0.3,
           "rgb(244,165,130)"
          ],
          [
           0.4,
           "rgb(253,219,199)"
          ],
          [
           0.5,
           "rgb(247,247,247)"
          ],
          [
           0.6,
           "rgb(209,229,240)"
          ],
          [
           0.7,
           "rgb(146,197,222)"
          ],
          [
           0.8,
           "rgb(67,147,195)"
          ],
          [
           0.9,
           "rgb(33,102,172)"
          ],
          [
           1,
           "rgb(5,48,97)"
          ]
         ]
        },
        "height": 800,
        "template": {
         "data": {
          "bar": [
           {
            "error_x": {
             "color": "#2a3f5f"
            },
            "error_y": {
             "color": "#2a3f5f"
            },
            "marker": {
             "line": {
              "color": "#E5ECF6",
              "width": 0.5
             },
             "pattern": {
              "fillmode": "overlay",
              "size": 10,
              "solidity": 0.2
             }
            },
            "type": "bar"
           }
          ],
          "barpolar": [
           {
            "marker": {
             "line": {
              "color": "#E5ECF6",
              "width": 0.5
             },
             "pattern": {
              "fillmode": "overlay",
              "size": 10,
              "solidity": 0.2
             }
            },
            "type": "barpolar"
           }
          ],
          "carpet": [
           {
            "aaxis": {
             "endlinecolor": "#2a3f5f",
             "gridcolor": "white",
             "linecolor": "white",
             "minorgridcolor": "white",
             "startlinecolor": "#2a3f5f"
            },
            "baxis": {
             "endlinecolor": "#2a3f5f",
             "gridcolor": "white",
             "linecolor": "white",
             "minorgridcolor": "white",
             "startlinecolor": "#2a3f5f"
            },
            "type": "carpet"
           }
          ],
          "choropleth": [
           {
            "colorbar": {
             "outlinewidth": 0,
             "ticks": ""
            },
            "type": "choropleth"
           }
          ],
          "contour": [
           {
            "colorbar": {
             "outlinewidth": 0,
             "ticks": ""
            },
            "colorscale": [
             [
              0,
              "#0d0887"
             ],
             [
              0.1111111111111111,
              "#46039f"
             ],
             [
              0.2222222222222222,
              "#7201a8"
             ],
             [
              0.3333333333333333,
              "#9c179e"
             ],
             [
              0.4444444444444444,
              "#bd3786"
             ],
             [
              0.5555555555555556,
              "#d8576b"
             ],
             [
              0.6666666666666666,
              "#ed7953"
             ],
             [
              0.7777777777777778,
              "#fb9f3a"
             ],
             [
              0.8888888888888888,
              "#fdca26"
             ],
             [
              1,
              "#f0f921"
             ]
            ],
            "type": "contour"
           }
          ],
          "contourcarpet": [
           {
            "colorbar": {
             "outlinewidth": 0,
             "ticks": ""
            },
            "type": "contourcarpet"
           }
          ],
          "heatmap": [
           {
            "colorbar": {
             "outlinewidth": 0,
             "ticks": ""
            },
            "colorscale": [
             [
              0,
              "#0d0887"
             ],
             [
              0.1111111111111111,
              "#46039f"
             ],
             [
              0.2222222222222222,
              "#7201a8"
             ],
             [
              0.3333333333333333,
              "#9c179e"
             ],
             [
              0.4444444444444444,
              "#bd3786"
             ],
             [
              0.5555555555555556,
              "#d8576b"
             ],
             [
              0.6666666666666666,
              "#ed7953"
             ],
             [
              0.7777777777777778,
              "#fb9f3a"
             ],
             [
              0.8888888888888888,
              "#fdca26"
             ],
             [
              1,
              "#f0f921"
             ]
            ],
            "type": "heatmap"
           }
          ],
          "heatmapgl": [
           {
            "colorbar": {
             "outlinewidth": 0,
             "ticks": ""
            },
            "colorscale": [
             [
              0,
              "#0d0887"
             ],
             [
              0.1111111111111111,
              "#46039f"
             ],
             [
              0.2222222222222222,
              "#7201a8"
             ],
             [
              0.3333333333333333,
              "#9c179e"
             ],
             [
              0.4444444444444444,
              "#bd3786"
             ],
             [
              0.5555555555555556,
              "#d8576b"
             ],
             [
              0.6666666666666666,
              "#ed7953"
             ],
             [
              0.7777777777777778,
              "#fb9f3a"
             ],
             [
              0.8888888888888888,
              "#fdca26"
             ],
             [
              1,
              "#f0f921"
             ]
            ],
            "type": "heatmapgl"
           }
          ],
          "histogram": [
           {
            "marker": {
             "pattern": {
              "fillmode": "overlay",
              "size": 10,
              "solidity": 0.2
             }
            },
            "type": "histogram"
           }
          ],
          "histogram2d": [
           {
            "colorbar": {
             "outlinewidth": 0,
             "ticks": ""
            },
            "colorscale": [
             [
              0,
              "#0d0887"
             ],
             [
              0.1111111111111111,
              "#46039f"
             ],
             [
              0.2222222222222222,
              "#7201a8"
             ],
             [
              0.3333333333333333,
              "#9c179e"
             ],
             [
              0.4444444444444444,
              "#bd3786"
             ],
             [
              0.5555555555555556,
              "#d8576b"
             ],
             [
              0.6666666666666666,
              "#ed7953"
             ],
             [
              0.7777777777777778,
              "#fb9f3a"
             ],
             [
              0.8888888888888888,
              "#fdca26"
             ],
             [
              1,
              "#f0f921"
             ]
            ],
            "type": "histogram2d"
           }
          ],
          "histogram2dcontour": [
           {
            "colorbar": {
             "outlinewidth": 0,
             "ticks": ""
            },
            "colorscale": [
             [
              0,
              "#0d0887"
             ],
             [
              0.1111111111111111,
              "#46039f"
             ],
             [
              0.2222222222222222,
              "#7201a8"
             ],
             [
              0.3333333333333333,
              "#9c179e"
             ],
             [
              0.4444444444444444,
              "#bd3786"
             ],
             [
              0.5555555555555556,
              "#d8576b"
             ],
             [
              0.6666666666666666,
              "#ed7953"
             ],
             [
              0.7777777777777778,
              "#fb9f3a"
             ],
             [
              0.8888888888888888,
              "#fdca26"
             ],
             [
              1,
              "#f0f921"
             ]
            ],
            "type": "histogram2dcontour"
           }
          ],
          "mesh3d": [
           {
            "colorbar": {
             "outlinewidth": 0,
             "ticks": ""
            },
            "type": "mesh3d"
           }
          ],
          "parcoords": [
           {
            "line": {
             "colorbar": {
              "outlinewidth": 0,
              "ticks": ""
             }
            },
            "type": "parcoords"
           }
          ],
          "pie": [
           {
            "automargin": true,
            "type": "pie"
           }
          ],
          "scatter": [
           {
            "fillpattern": {
             "fillmode": "overlay",
             "size": 10,
             "solidity": 0.2
            },
            "type": "scatter"
           }
          ],
          "scatter3d": [
           {
            "line": {
             "colorbar": {
              "outlinewidth": 0,
              "ticks": ""
             }
            },
            "marker": {
             "colorbar": {
              "outlinewidth": 0,
              "ticks": ""
             }
            },
            "type": "scatter3d"
           }
          ],
          "scattercarpet": [
           {
            "marker": {
             "colorbar": {
              "outlinewidth": 0,
              "ticks": ""
             }
            },
            "type": "scattercarpet"
           }
          ],
          "scattergeo": [
           {
            "marker": {
             "colorbar": {
              "outlinewidth": 0,
              "ticks": ""
             }
            },
            "type": "scattergeo"
           }
          ],
          "scattergl": [
           {
            "marker": {
             "colorbar": {
              "outlinewidth": 0,
              "ticks": ""
             }
            },
            "type": "scattergl"
           }
          ],
          "scattermapbox": [
           {
            "marker": {
             "colorbar": {
              "outlinewidth": 0,
              "ticks": ""
             }
            },
            "type": "scattermapbox"
           }
          ],
          "scatterpolar": [
           {
            "marker": {
             "colorbar": {
              "outlinewidth": 0,
              "ticks": ""
             }
            },
            "type": "scatterpolar"
           }
          ],
          "scatterpolargl": [
           {
            "marker": {
             "colorbar": {
              "outlinewidth": 0,
              "ticks": ""
             }
            },
            "type": "scatterpolargl"
           }
          ],
          "scatterternary": [
           {
            "marker": {
             "colorbar": {
              "outlinewidth": 0,
              "ticks": ""
             }
            },
            "type": "scatterternary"
           }
          ],
          "surface": [
           {
            "colorbar": {
             "outlinewidth": 0,
             "ticks": ""
            },
            "colorscale": [
             [
              0,
              "#0d0887"
             ],
             [
              0.1111111111111111,
              "#46039f"
             ],
             [
              0.2222222222222222,
              "#7201a8"
             ],
             [
              0.3333333333333333,
              "#9c179e"
             ],
             [
              0.4444444444444444,
              "#bd3786"
             ],
             [
              0.5555555555555556,
              "#d8576b"
             ],
             [
              0.6666666666666666,
              "#ed7953"
             ],
             [
              0.7777777777777778,
              "#fb9f3a"
             ],
             [
              0.8888888888888888,
              "#fdca26"
             ],
             [
              1,
              "#f0f921"
             ]
            ],
            "type": "surface"
           }
          ],
          "table": [
           {
            "cells": {
             "fill": {
              "color": "#EBF0F8"
             },
             "line": {
              "color": "white"
             }
            },
            "header": {
             "fill": {
              "color": "#C8D4E3"
             },
             "line": {
              "color": "white"
             }
            },
            "type": "table"
           }
          ]
         },
         "layout": {
          "annotationdefaults": {
           "arrowcolor": "#2a3f5f",
           "arrowhead": 0,
           "arrowwidth": 1
          },
          "autotypenumbers": "strict",
          "coloraxis": {
           "colorbar": {
            "outlinewidth": 0,
            "ticks": ""
           }
          },
          "colorscale": {
           "diverging": [
            [
             0,
             "#8e0152"
            ],
            [
             0.1,
             "#c51b7d"
            ],
            [
             0.2,
             "#de77ae"
            ],
            [
             0.3,
             "#f1b6da"
            ],
            [
             0.4,
             "#fde0ef"
            ],
            [
             0.5,
             "#f7f7f7"
            ],
            [
             0.6,
             "#e6f5d0"
            ],
            [
             0.7,
             "#b8e186"
            ],
            [
             0.8,
             "#7fbc41"
            ],
            [
             0.9,
             "#4d9221"
            ],
            [
             1,
             "#276419"
            ]
           ],
           "sequential": [
            [
             0,
             "#0d0887"
            ],
            [
             0.1111111111111111,
             "#46039f"
            ],
            [
             0.2222222222222222,
             "#7201a8"
            ],
            [
             0.3333333333333333,
             "#9c179e"
            ],
            [
             0.4444444444444444,
             "#bd3786"
            ],
            [
             0.5555555555555556,
             "#d8576b"
            ],
            [
             0.6666666666666666,
             "#ed7953"
            ],
            [
             0.7777777777777778,
             "#fb9f3a"
            ],
            [
             0.8888888888888888,
             "#fdca26"
            ],
            [
             1,
             "#f0f921"
            ]
           ],
           "sequentialminus": [
            [
             0,
             "#0d0887"
            ],
            [
             0.1111111111111111,
             "#46039f"
            ],
            [
             0.2222222222222222,
             "#7201a8"
            ],
            [
             0.3333333333333333,
             "#9c179e"
            ],
            [
             0.4444444444444444,
             "#bd3786"
            ],
            [
             0.5555555555555556,
             "#d8576b"
            ],
            [
             0.6666666666666666,
             "#ed7953"
            ],
            [
             0.7777777777777778,
             "#fb9f3a"
            ],
            [
             0.8888888888888888,
             "#fdca26"
            ],
            [
             1,
             "#f0f921"
            ]
           ]
          },
          "colorway": [
           "#636efa",
           "#EF553B",
           "#00cc96",
           "#ab63fa",
           "#FFA15A",
           "#19d3f3",
           "#FF6692",
           "#B6E880",
           "#FF97FF",
           "#FECB52"
          ],
          "font": {
           "color": "#2a3f5f"
          },
          "geo": {
           "bgcolor": "white",
           "lakecolor": "white",
           "landcolor": "#E5ECF6",
           "showlakes": true,
           "showland": true,
           "subunitcolor": "white"
          },
          "hoverlabel": {
           "align": "left"
          },
          "hovermode": "closest",
          "mapbox": {
           "style": "light"
          },
          "paper_bgcolor": "white",
          "plot_bgcolor": "#E5ECF6",
          "polar": {
           "angularaxis": {
            "gridcolor": "white",
            "linecolor": "white",
            "ticks": ""
           },
           "bgcolor": "#E5ECF6",
           "radialaxis": {
            "gridcolor": "white",
            "linecolor": "white",
            "ticks": ""
           }
          },
          "scene": {
           "xaxis": {
            "backgroundcolor": "#E5ECF6",
            "gridcolor": "white",
            "gridwidth": 2,
            "linecolor": "white",
            "showbackground": true,
            "ticks": "",
            "zerolinecolor": "white"
           },
           "yaxis": {
            "backgroundcolor": "#E5ECF6",
            "gridcolor": "white",
            "gridwidth": 2,
            "linecolor": "white",
            "showbackground": true,
            "ticks": "",
            "zerolinecolor": "white"
           },
           "zaxis": {
            "backgroundcolor": "#E5ECF6",
            "gridcolor": "white",
            "gridwidth": 2,
            "linecolor": "white",
            "showbackground": true,
            "ticks": "",
            "zerolinecolor": "white"
           }
          },
          "shapedefaults": {
           "line": {
            "color": "#2a3f5f"
           }
          },
          "ternary": {
           "aaxis": {
            "gridcolor": "white",
            "linecolor": "white",
            "ticks": ""
           },
           "baxis": {
            "gridcolor": "white",
            "linecolor": "white",
            "ticks": ""
           },
           "bgcolor": "#E5ECF6",
           "caxis": {
            "gridcolor": "white",
            "linecolor": "white",
            "ticks": ""
           }
          },
          "title": {
           "x": 0.05
          },
          "xaxis": {
           "automargin": true,
           "gridcolor": "white",
           "linecolor": "white",
           "ticks": "",
           "title": {
            "standoff": 15
           },
           "zerolinecolor": "white",
           "zerolinewidth": 2
          },
          "yaxis": {
           "automargin": true,
           "gridcolor": "white",
           "linecolor": "white",
           "ticks": "",
           "title": {
            "standoff": 15
           },
           "zerolinecolor": "white",
           "zerolinewidth": 2
          }
         }
        },
        "title": {
         "text": "Matriz de Correlación"
        },
        "width": 900,
        "xaxis": {
         "anchor": "y",
         "constrain": "domain",
         "domain": [
          0,
          1
         ],
         "scaleanchor": "y",
         "tickangle": -45,
         "title": {
          "text": "Características"
         }
        },
        "yaxis": {
         "anchor": "x",
         "autorange": "reversed",
         "constrain": "domain",
         "domain": [
          0,
          1
         ],
         "tickangle": 0,
         "title": {
          "text": "Características"
         }
        }
       }
      }
     },
     "metadata": {},
     "output_type": "display_data"
    }
   ],
   "source": [
    "# Calcular la matriz de correlación y convertirla a DataFrame\n",
    "correlation_matrix = Correlation.corr(df_transformed, \"features\").head()[0].toArray()\n",
    "correlation_df = pd.DataFrame(correlation_matrix, columns=numerical_columns, index=numerical_columns)\n",
    "\n",
    "# Formatear los valores de correlación a 2 decimales\n",
    "correlation_df = correlation_df.applymap(lambda x: f\"{x:.2f}\")\n",
    "\n",
    "# Crear el mapa de calor usando plotly.express\n",
    "fig = px.imshow(\n",
    "    correlation_df, \n",
    "    labels={'x': 'Características', 'y': 'Características', 'color': 'Correlación'},\n",
    "    color_continuous_scale='RdBu', \n",
    "    zmin=-1, zmax=1,  # Ajustar el rango de colores entre -1 y 1\n",
    "    title=\"Matriz de Correlación\",\n",
    "    text_auto=True  # Añadir los valores de correlación dentro de cada celda\n",
    ")\n",
    "\n",
    "# Ajustar el tamaño de la figura y rotar las etiquetas para mejorar la visualización\n",
    "fig.update_layout(\n",
    "    width=900,  # Ajusta el ancho de la figura\n",
    "    height=800,  # Ajusta la altura de la figura\n",
    "    xaxis_tickangle=-45,  # Rota las etiquetas del eje X\n",
    "    yaxis_tickangle=0  # Rota las etiquetas del eje Y\n",
    ")\n",
    "\n",
    "# Mostrar el gráfico\n",
    "fig.show()\n"
   ]
  },
  {
   "cell_type": "markdown",
   "metadata": {},
   "source": [
    "![](newplot14.png)"
   ]
  },
  {
   "cell_type": "markdown",
   "metadata": {},
   "source": [
    "<div style=\"letter-spacing: 0.5px; text-align: justify; font-size: 14px;\">\n",
    ". Transformación y agregación de datos para el análisis\n",
    "</div>\n"
   ]
  },
  {
   "cell_type": "code",
   "execution_count": 59,
   "metadata": {},
   "outputs": [],
   "source": [
    "# Convertir \"Activity Period\" a formato de fecha\n",
    "df_1 = df_1.withColumn(\"Activity Period\", F.to_date(F.col(\"Activity Period\").cast(\"string\"), \"yyyyMM\"))\n",
    "\n",
    "# Convertir \"Year\" a formato de fecha\n",
    "df_1 = df_1.withColumn(\"Year\", F.to_date(F.col(\"Year\").cast(\"string\"), \"yyyy\"))\n",
    "\n",
    "# Renombrar las columnas\n",
    "df_1 = df_1.withColumnRenamed(\"Activity Period\", \"Date\").withColumnRenamed(\"Adjusted Passenger Count\", \"passengers\")\n",
    "\n",
    "#df_1.dtypes\n"
   ]
  },
  {
   "cell_type": "code",
   "execution_count": 60,
   "metadata": {},
   "outputs": [],
   "source": [
    "# Obtener la lista de columnas actuales\n",
    "columnas = df_1.columns\n",
    "\n",
    "# Eliminar las columnas 'Adjusted Activity Type Code' y 'passengers'\n",
    "columnas = [col for col in columnas if col not in ['Adjusted Activity Type Code', 'passengers']]\n",
    "\n",
    "# Agrupar por las columnas restantes y sumar los valores\n",
    "df_1 = df_1.groupBy(columnas).agg(F.sum(\"passengers\").alias(\"passengers\"))\n",
    "\n",
    "#df_1.dtypes\n"
   ]
  },
  {
   "cell_type": "code",
   "execution_count": 61,
   "metadata": {},
   "outputs": [],
   "source": [
    "# Crear una nueva columna 'month' extrayendo el mes de la columna 'Date'\n",
    "df_1 = df_1.withColumn(\"month\", F.month(\"Date\"))\n",
    "\n",
    "# Obtener los años únicos de la columna 'Date'\n",
    "year_ = df_1.select(F.year(\"Date\").alias(\"year\")).distinct().orderBy(\"year\").rdd.map(lambda row: row[\"year\"]).collect()\n",
    "\n",
    "# Obtener los meses únicos de la columna 'month'\n",
    "month_ = df_1.select(\"month\").distinct().orderBy(\"month\").rdd.map(lambda row: row[\"month\"]).collect()\n",
    "\n",
    "# Obtener las aerolíneas únicas de la columna 'Operating Airline'\n",
    "airline = df_1.select(\"Operating Airline\").distinct().orderBy(\"Operating Airline\").rdd.map(lambda row: row[\"Operating Airline\"]).collect()\n",
    "\n",
    "# Obtener las regiones únicas de la columna 'GEO Region'\n",
    "region = df_1.select(\"GEO Region\").distinct().orderBy(\"GEO Region\").rdd.map(lambda row: row[\"GEO Region\"]).collect()\n",
    "\n",
    "#df_1.dtypes"
   ]
  },
  {
   "cell_type": "markdown",
   "metadata": {},
   "source": [
    "<div style=\"letter-spacing: 0.5px; text-align: justify; font-size: 14px;\">\n",
    ". Pasajeros por Mes con Opciones de Filtrado.\n",
    "</div>"
   ]
  },
  {
   "cell_type": "code",
   "execution_count": 62,
   "metadata": {},
   "outputs": [],
   "source": [
    "# Función para procesar los datos\n",
    "def process_passengers_month(df_1, columna, seleccion=['todo'], columna_data='passengers'):\n",
    "    \"\"\"\n",
    "    Procesa los datos de pasajeros por mes utilizando PySpark.\n",
    "\n",
    "    Parámetros:\n",
    "    - df_1: DataFrame de PySpark.\n",
    "    - columna: Columna para filtrar los datos (ejemplo: 'Operating Airline' o 'GEO Region').\n",
    "    - seleccion: Lista de valores para filtrar en la columna. Por defecto, incluye todos los valores.\n",
    "    - columna_data: Nombre de la columna que contiene los datos de pasajeros. Por defecto, 'passengers'.\n",
    "\n",
    "    Retorna:\n",
    "    - df_3: DataFrame de PySpark con los datos agregados y ordenados.\n",
    "    \"\"\"\n",
    "    # Filtrar los datos\n",
    "    df_2 = df_1 if seleccion == ['todo'] else df_1.filter(F.col(columna).isin(seleccion))\n",
    "\n",
    "    # Agregar datos por fecha y calcular totales\n",
    "    group_columns = ['Date'] if seleccion == ['todo'] else ['Date', columna]\n",
    "    df_3 = df_2.groupBy(*group_columns).agg(F.sum(columna_data).alias(columna_data)).orderBy('Date')\n",
    "\n",
    "    # DataFrame con los datos agregados y ordenados por fecha.\n",
    "    return df_3"
   ]
  },
  {
   "cell_type": "markdown",
   "metadata": {},
   "source": [
    "<div style=\"letter-spacing: 0.5px; text-align: justify; font-size: 14px;\">\n",
    "Calculamos la media movil para suavizar las fluctuaciones de datos y permitir una visualización más clara de las tendencias a largo plazo. Al calcular un promedio de los valores de pasajeros durante un período de tiempo específico (en este caso, con un rolling_period de 12 meses), la media móvil ayuda a reducir el ruido de datos mensuales y hace más evidente la dirección general del flujo de pasajeros. Esto es útil para identificar patrones estacionales o cambios significativos en los datos sin que las variaciones mensuales afecten la interpretación.\n",
    "\n",
    "El uso de la media móvil también facilita la comparación de tendencias a través de diferentes categorías, como aerolíneas o regiones, haciendo que el análisis visual sea más accesible y efectivo. En términos de visualización, el gráfico resultante no solo muestra los datos reales, sino también una \"línea suave\" que refleja mejor la tendencia general.\n",
    "</div>"
   ]
  },
  {
   "cell_type": "code",
   "execution_count": 63,
   "metadata": {},
   "outputs": [],
   "source": [
    "# Función para graficar con opciones de agrupación, filtrado y media móvil\n",
    "def plot_passengers_month(df_3, columna, seleccion=['todo'], columna_data='passengers', ancho=25, alto=15, \n",
    "                          roll_mean='N', rolling_period=12):\n",
    "    # Identificar las columnas relacionadas para construir el título\n",
    "    columna1, columna2 = 'Operating Airline', 'GEO Region'\n",
    "    otra_columna = columna2 if columna == columna1 else columna1\n",
    "\n",
    "    # Convertir los datos a Pandas para graficar\n",
    "    datos_grafico = []\n",
    "    for elemento_in_seleccion in (seleccion if seleccion != ['todo'] else ['todo']):\n",
    "        # Filtrar los datos específicos para cada selección\n",
    "        df_4 = df_3 if elemento_in_seleccion == 'todo' else df_3.filter(F.col(columna) == elemento_in_seleccion)\n",
    "        df_4_pandas = df_4.toPandas()\n",
    "\n",
    "        # Agregar los datos base al gráfico\n",
    "        datos_grafico.append(\n",
    "            pd.DataFrame({\n",
    "                'Date': df_4_pandas['Date'],\n",
    "                'Value': df_4_pandas[columna_data],\n",
    "                'Group': elemento_in_seleccion\n",
    "            })\n",
    "        )\n",
    "\n",
    "        # Calcular y agregar la media móvil si es necesario\n",
    "        if roll_mean == 'Y':\n",
    "            rolling_mean = df_4_pandas[columna_data].rolling(window=rolling_period, center=True).mean()\n",
    "            datos_grafico.append(\n",
    "                pd.DataFrame({\n",
    "                    'Date': df_4_pandas['Date'],\n",
    "                    'Value': rolling_mean,\n",
    "                    'Group': f\"{elemento_in_seleccion} rolling {rolling_period}\"\n",
    "                })\n",
    "            )\n",
    "\n",
    "    # Combinar todos los datos en un solo DataFrame de Pandas\n",
    "    df_final = pd.concat(datos_grafico)\n",
    "\n",
    "    # Generar el título del gráfico\n",
    "    titulo = f\"Pasajeros por mes, {', '.join(map(str, seleccion))} {columna}(s) y todas las {otra_columna}(s)\"\n",
    "    if len(titulo) > 78:\n",
    "        titulo = titulo[:78] + '<br>' + titulo[78:]\n",
    "\n",
    "    # Crear el gráfico utilizando Plotly Express\n",
    "    fig = px.line(\n",
    "        df_final,\n",
    "        x='Date',\n",
    "        y='Value',\n",
    "        color='Group',\n",
    "        title=titulo,\n",
    "        labels={'Value': 'Pasajeros', 'Date': 'Mes'},\n",
    "        width=ancho * 50,\n",
    "        height=alto * 50\n",
    "    )\n",
    "\n",
    "    # Ajustar el diseño del gráfico\n",
    "    fig.update_layout(\n",
    "        plot_bgcolor='#F9FAFF',\n",
    "        title_font_size=20,\n",
    "        xaxis_title_font_size=15,\n",
    "        yaxis_title_font_size=15,\n",
    "        title_x=0.5\n",
    "    )\n",
    "\n",
    "    # Mostrar el gráfico\n",
    "    fig.show()\n"
   ]
  },
  {
   "cell_type": "markdown",
   "metadata": {},
   "source": [
    "<div style=\"letter-spacing: 0.5px; text-align: justify; font-size: 14px;\">\n",
    ". Pasajeros por mes, todas las regiones y aerolíneas.\n",
    "</div>"
   ]
  },
  {
   "cell_type": "markdown",
   "metadata": {},
   "source": [
    "<div style=\"letter-spacing: 0.5px; text-align: justify; font-size: 12px;\">\n",
    "El gráfico muestra una clara tendencia de crecimiento y estacionalidad.\n",
    "</div>"
   ]
  },
  {
   "cell_type": "code",
   "execution_count": 64,
   "metadata": {},
   "outputs": [
    {
     "data": {
      "application/vnd.plotly.v1+json": {
       "config": {
        "plotlyServerURL": "https://plot.ly"
       },
       "data": [
        {
         "hovertemplate": "Group=todo<br>Mes=%{x}<br>Pasajeros=%{y}<extra></extra>",
         "legendgroup": "todo",
         "line": {
          "color": "#636efa",
          "dash": "solid"
         },
         "marker": {
          "symbol": "circle"
         },
         "mode": "lines",
         "name": "todo",
         "orientation": "v",
         "showlegend": true,
         "type": "scatter",
         "x": [
          "2005-07-01",
          "2005-08-01",
          "2005-09-01",
          "2005-10-01",
          "2005-11-01",
          "2005-12-01",
          "2006-01-01",
          "2006-02-01",
          "2006-03-01",
          "2006-04-01",
          "2006-05-01",
          "2006-06-01",
          "2006-07-01",
          "2006-08-01",
          "2006-09-01",
          "2006-10-01",
          "2006-11-01",
          "2006-12-01",
          "2007-01-01",
          "2007-02-01",
          "2007-03-01",
          "2007-04-01",
          "2007-05-01",
          "2007-06-01",
          "2007-07-01",
          "2007-08-01",
          "2007-09-01",
          "2007-10-01",
          "2007-11-01",
          "2007-12-01",
          "2008-01-01",
          "2008-02-01",
          "2008-03-01",
          "2008-04-01",
          "2008-05-01",
          "2008-06-01",
          "2008-07-01",
          "2008-08-01",
          "2008-09-01",
          "2008-10-01",
          "2008-11-01",
          "2008-12-01",
          "2009-01-01",
          "2009-02-01",
          "2009-03-01",
          "2009-04-01",
          "2009-05-01",
          "2009-06-01",
          "2009-07-01",
          "2009-08-01",
          "2009-09-01",
          "2009-10-01",
          "2009-11-01",
          "2009-12-01",
          "2010-01-01",
          "2010-02-01",
          "2010-03-01",
          "2010-04-01",
          "2010-05-01",
          "2010-06-01",
          "2010-07-01",
          "2010-08-01",
          "2010-09-01",
          "2010-10-01",
          "2010-11-01",
          "2010-12-01",
          "2011-01-01",
          "2011-02-01",
          "2011-03-01",
          "2011-04-01",
          "2011-05-01",
          "2011-06-01",
          "2011-07-01",
          "2011-08-01",
          "2011-09-01",
          "2011-10-01",
          "2011-11-01",
          "2011-12-01",
          "2012-01-01",
          "2012-02-01",
          "2012-03-01",
          "2012-04-01",
          "2012-05-01",
          "2012-06-01",
          "2012-07-01",
          "2012-08-01",
          "2012-09-01",
          "2012-10-01",
          "2012-11-01",
          "2012-12-01",
          "2013-01-01",
          "2013-02-01",
          "2013-03-01",
          "2013-04-01",
          "2013-05-01",
          "2013-06-01",
          "2013-07-01",
          "2013-08-01",
          "2013-09-01",
          "2013-10-01",
          "2013-11-01",
          "2013-12-01",
          "2014-01-01",
          "2014-02-01",
          "2014-03-01",
          "2014-04-01",
          "2014-05-01",
          "2014-06-01",
          "2014-07-01",
          "2014-08-01",
          "2014-09-01",
          "2014-10-01",
          "2014-11-01",
          "2014-12-01",
          "2015-01-01",
          "2015-02-01",
          "2015-03-01",
          "2015-04-01",
          "2015-05-01",
          "2015-06-01",
          "2015-07-01",
          "2015-08-01",
          "2015-09-01",
          "2015-10-01",
          "2015-11-01",
          "2015-12-01",
          "2016-01-01",
          "2016-02-01",
          "2016-03-01"
         ],
         "xaxis": "x",
         "y": [
          3254797,
          3224118,
          2764519,
          2798480,
          2638631,
          2696084,
          2471712,
          2247255,
          2738730,
          2792413,
          2846400,
          3091837,
          3248908,
          3165026,
          2738319,
          2851945,
          2671437,
          2717430,
          2527036,
          2323522,
          2844144,
          2891446,
          3080467,
          3286732,
          3404925,
          3459915,
          2973709,
          3146765,
          2934915,
          2917258,
          2685375,
          2613849,
          3146970,
          3048005,
          3321383,
          3466528,
          3621751,
          3629829,
          3012836,
          3133206,
          2751947,
          2970862,
          2654860,
          2368782,
          2936292,
          3035226,
          3186209,
          3432110,
          3659471,
          3659379,
          3199046,
          3259010,
          2979513,
          3083736,
          2796566,
          2524760,
          3118364,
          3151412,
          3390714,
          3626272,
          3778957,
          3785346,
          3367415,
          3502275,
          3172057,
          3177096,
          2893972,
          2619193,
          3139089,
          3209189,
          3558021,
          3777419,
          3947019,
          3930681,
          3573533,
          3611694,
          3334801,
          3450820,
          3218600,
          3005764,
          3481078,
          3569473,
          3825332,
          4112311,
          4290086,
          4362369,
          3831358,
          3849650,
          3482422,
          3448766,
          3209356,
          2968951,
          3599968,
          3609543,
          3934899,
          4155153,
          4181115,
          4351101,
          3785479,
          3926441,
          3470482,
          3819276,
          3438136,
          3081846,
          3771574,
          3887382,
          4151403,
          4327219,
          4506218,
          4525926,
          3919485,
          4059884,
          3629119,
          3856908,
          3551072,
          3248534,
          4002732,
          4022770,
          4361622,
          4559640,
          4802431,
          4797484,
          4201882,
          4375077,
          4014388,
          4129462,
          3749417,
          3543751,
          4138030
         ],
         "yaxis": "y"
        }
       ],
       "layout": {
        "height": 750,
        "legend": {
         "title": {
          "text": "Group"
         },
         "tracegroupgap": 0
        },
        "plot_bgcolor": "#F9FAFF",
        "template": {
         "data": {
          "bar": [
           {
            "error_x": {
             "color": "#2a3f5f"
            },
            "error_y": {
             "color": "#2a3f5f"
            },
            "marker": {
             "line": {
              "color": "#E5ECF6",
              "width": 0.5
             },
             "pattern": {
              "fillmode": "overlay",
              "size": 10,
              "solidity": 0.2
             }
            },
            "type": "bar"
           }
          ],
          "barpolar": [
           {
            "marker": {
             "line": {
              "color": "#E5ECF6",
              "width": 0.5
             },
             "pattern": {
              "fillmode": "overlay",
              "size": 10,
              "solidity": 0.2
             }
            },
            "type": "barpolar"
           }
          ],
          "carpet": [
           {
            "aaxis": {
             "endlinecolor": "#2a3f5f",
             "gridcolor": "white",
             "linecolor": "white",
             "minorgridcolor": "white",
             "startlinecolor": "#2a3f5f"
            },
            "baxis": {
             "endlinecolor": "#2a3f5f",
             "gridcolor": "white",
             "linecolor": "white",
             "minorgridcolor": "white",
             "startlinecolor": "#2a3f5f"
            },
            "type": "carpet"
           }
          ],
          "choropleth": [
           {
            "colorbar": {
             "outlinewidth": 0,
             "ticks": ""
            },
            "type": "choropleth"
           }
          ],
          "contour": [
           {
            "colorbar": {
             "outlinewidth": 0,
             "ticks": ""
            },
            "colorscale": [
             [
              0,
              "#0d0887"
             ],
             [
              0.1111111111111111,
              "#46039f"
             ],
             [
              0.2222222222222222,
              "#7201a8"
             ],
             [
              0.3333333333333333,
              "#9c179e"
             ],
             [
              0.4444444444444444,
              "#bd3786"
             ],
             [
              0.5555555555555556,
              "#d8576b"
             ],
             [
              0.6666666666666666,
              "#ed7953"
             ],
             [
              0.7777777777777778,
              "#fb9f3a"
             ],
             [
              0.8888888888888888,
              "#fdca26"
             ],
             [
              1,
              "#f0f921"
             ]
            ],
            "type": "contour"
           }
          ],
          "contourcarpet": [
           {
            "colorbar": {
             "outlinewidth": 0,
             "ticks": ""
            },
            "type": "contourcarpet"
           }
          ],
          "heatmap": [
           {
            "colorbar": {
             "outlinewidth": 0,
             "ticks": ""
            },
            "colorscale": [
             [
              0,
              "#0d0887"
             ],
             [
              0.1111111111111111,
              "#46039f"
             ],
             [
              0.2222222222222222,
              "#7201a8"
             ],
             [
              0.3333333333333333,
              "#9c179e"
             ],
             [
              0.4444444444444444,
              "#bd3786"
             ],
             [
              0.5555555555555556,
              "#d8576b"
             ],
             [
              0.6666666666666666,
              "#ed7953"
             ],
             [
              0.7777777777777778,
              "#fb9f3a"
             ],
             [
              0.8888888888888888,
              "#fdca26"
             ],
             [
              1,
              "#f0f921"
             ]
            ],
            "type": "heatmap"
           }
          ],
          "heatmapgl": [
           {
            "colorbar": {
             "outlinewidth": 0,
             "ticks": ""
            },
            "colorscale": [
             [
              0,
              "#0d0887"
             ],
             [
              0.1111111111111111,
              "#46039f"
             ],
             [
              0.2222222222222222,
              "#7201a8"
             ],
             [
              0.3333333333333333,
              "#9c179e"
             ],
             [
              0.4444444444444444,
              "#bd3786"
             ],
             [
              0.5555555555555556,
              "#d8576b"
             ],
             [
              0.6666666666666666,
              "#ed7953"
             ],
             [
              0.7777777777777778,
              "#fb9f3a"
             ],
             [
              0.8888888888888888,
              "#fdca26"
             ],
             [
              1,
              "#f0f921"
             ]
            ],
            "type": "heatmapgl"
           }
          ],
          "histogram": [
           {
            "marker": {
             "pattern": {
              "fillmode": "overlay",
              "size": 10,
              "solidity": 0.2
             }
            },
            "type": "histogram"
           }
          ],
          "histogram2d": [
           {
            "colorbar": {
             "outlinewidth": 0,
             "ticks": ""
            },
            "colorscale": [
             [
              0,
              "#0d0887"
             ],
             [
              0.1111111111111111,
              "#46039f"
             ],
             [
              0.2222222222222222,
              "#7201a8"
             ],
             [
              0.3333333333333333,
              "#9c179e"
             ],
             [
              0.4444444444444444,
              "#bd3786"
             ],
             [
              0.5555555555555556,
              "#d8576b"
             ],
             [
              0.6666666666666666,
              "#ed7953"
             ],
             [
              0.7777777777777778,
              "#fb9f3a"
             ],
             [
              0.8888888888888888,
              "#fdca26"
             ],
             [
              1,
              "#f0f921"
             ]
            ],
            "type": "histogram2d"
           }
          ],
          "histogram2dcontour": [
           {
            "colorbar": {
             "outlinewidth": 0,
             "ticks": ""
            },
            "colorscale": [
             [
              0,
              "#0d0887"
             ],
             [
              0.1111111111111111,
              "#46039f"
             ],
             [
              0.2222222222222222,
              "#7201a8"
             ],
             [
              0.3333333333333333,
              "#9c179e"
             ],
             [
              0.4444444444444444,
              "#bd3786"
             ],
             [
              0.5555555555555556,
              "#d8576b"
             ],
             [
              0.6666666666666666,
              "#ed7953"
             ],
             [
              0.7777777777777778,
              "#fb9f3a"
             ],
             [
              0.8888888888888888,
              "#fdca26"
             ],
             [
              1,
              "#f0f921"
             ]
            ],
            "type": "histogram2dcontour"
           }
          ],
          "mesh3d": [
           {
            "colorbar": {
             "outlinewidth": 0,
             "ticks": ""
            },
            "type": "mesh3d"
           }
          ],
          "parcoords": [
           {
            "line": {
             "colorbar": {
              "outlinewidth": 0,
              "ticks": ""
             }
            },
            "type": "parcoords"
           }
          ],
          "pie": [
           {
            "automargin": true,
            "type": "pie"
           }
          ],
          "scatter": [
           {
            "fillpattern": {
             "fillmode": "overlay",
             "size": 10,
             "solidity": 0.2
            },
            "type": "scatter"
           }
          ],
          "scatter3d": [
           {
            "line": {
             "colorbar": {
              "outlinewidth": 0,
              "ticks": ""
             }
            },
            "marker": {
             "colorbar": {
              "outlinewidth": 0,
              "ticks": ""
             }
            },
            "type": "scatter3d"
           }
          ],
          "scattercarpet": [
           {
            "marker": {
             "colorbar": {
              "outlinewidth": 0,
              "ticks": ""
             }
            },
            "type": "scattercarpet"
           }
          ],
          "scattergeo": [
           {
            "marker": {
             "colorbar": {
              "outlinewidth": 0,
              "ticks": ""
             }
            },
            "type": "scattergeo"
           }
          ],
          "scattergl": [
           {
            "marker": {
             "colorbar": {
              "outlinewidth": 0,
              "ticks": ""
             }
            },
            "type": "scattergl"
           }
          ],
          "scattermapbox": [
           {
            "marker": {
             "colorbar": {
              "outlinewidth": 0,
              "ticks": ""
             }
            },
            "type": "scattermapbox"
           }
          ],
          "scatterpolar": [
           {
            "marker": {
             "colorbar": {
              "outlinewidth": 0,
              "ticks": ""
             }
            },
            "type": "scatterpolar"
           }
          ],
          "scatterpolargl": [
           {
            "marker": {
             "colorbar": {
              "outlinewidth": 0,
              "ticks": ""
             }
            },
            "type": "scatterpolargl"
           }
          ],
          "scatterternary": [
           {
            "marker": {
             "colorbar": {
              "outlinewidth": 0,
              "ticks": ""
             }
            },
            "type": "scatterternary"
           }
          ],
          "surface": [
           {
            "colorbar": {
             "outlinewidth": 0,
             "ticks": ""
            },
            "colorscale": [
             [
              0,
              "#0d0887"
             ],
             [
              0.1111111111111111,
              "#46039f"
             ],
             [
              0.2222222222222222,
              "#7201a8"
             ],
             [
              0.3333333333333333,
              "#9c179e"
             ],
             [
              0.4444444444444444,
              "#bd3786"
             ],
             [
              0.5555555555555556,
              "#d8576b"
             ],
             [
              0.6666666666666666,
              "#ed7953"
             ],
             [
              0.7777777777777778,
              "#fb9f3a"
             ],
             [
              0.8888888888888888,
              "#fdca26"
             ],
             [
              1,
              "#f0f921"
             ]
            ],
            "type": "surface"
           }
          ],
          "table": [
           {
            "cells": {
             "fill": {
              "color": "#EBF0F8"
             },
             "line": {
              "color": "white"
             }
            },
            "header": {
             "fill": {
              "color": "#C8D4E3"
             },
             "line": {
              "color": "white"
             }
            },
            "type": "table"
           }
          ]
         },
         "layout": {
          "annotationdefaults": {
           "arrowcolor": "#2a3f5f",
           "arrowhead": 0,
           "arrowwidth": 1
          },
          "autotypenumbers": "strict",
          "coloraxis": {
           "colorbar": {
            "outlinewidth": 0,
            "ticks": ""
           }
          },
          "colorscale": {
           "diverging": [
            [
             0,
             "#8e0152"
            ],
            [
             0.1,
             "#c51b7d"
            ],
            [
             0.2,
             "#de77ae"
            ],
            [
             0.3,
             "#f1b6da"
            ],
            [
             0.4,
             "#fde0ef"
            ],
            [
             0.5,
             "#f7f7f7"
            ],
            [
             0.6,
             "#e6f5d0"
            ],
            [
             0.7,
             "#b8e186"
            ],
            [
             0.8,
             "#7fbc41"
            ],
            [
             0.9,
             "#4d9221"
            ],
            [
             1,
             "#276419"
            ]
           ],
           "sequential": [
            [
             0,
             "#0d0887"
            ],
            [
             0.1111111111111111,
             "#46039f"
            ],
            [
             0.2222222222222222,
             "#7201a8"
            ],
            [
             0.3333333333333333,
             "#9c179e"
            ],
            [
             0.4444444444444444,
             "#bd3786"
            ],
            [
             0.5555555555555556,
             "#d8576b"
            ],
            [
             0.6666666666666666,
             "#ed7953"
            ],
            [
             0.7777777777777778,
             "#fb9f3a"
            ],
            [
             0.8888888888888888,
             "#fdca26"
            ],
            [
             1,
             "#f0f921"
            ]
           ],
           "sequentialminus": [
            [
             0,
             "#0d0887"
            ],
            [
             0.1111111111111111,
             "#46039f"
            ],
            [
             0.2222222222222222,
             "#7201a8"
            ],
            [
             0.3333333333333333,
             "#9c179e"
            ],
            [
             0.4444444444444444,
             "#bd3786"
            ],
            [
             0.5555555555555556,
             "#d8576b"
            ],
            [
             0.6666666666666666,
             "#ed7953"
            ],
            [
             0.7777777777777778,
             "#fb9f3a"
            ],
            [
             0.8888888888888888,
             "#fdca26"
            ],
            [
             1,
             "#f0f921"
            ]
           ]
          },
          "colorway": [
           "#636efa",
           "#EF553B",
           "#00cc96",
           "#ab63fa",
           "#FFA15A",
           "#19d3f3",
           "#FF6692",
           "#B6E880",
           "#FF97FF",
           "#FECB52"
          ],
          "font": {
           "color": "#2a3f5f"
          },
          "geo": {
           "bgcolor": "white",
           "lakecolor": "white",
           "landcolor": "#E5ECF6",
           "showlakes": true,
           "showland": true,
           "subunitcolor": "white"
          },
          "hoverlabel": {
           "align": "left"
          },
          "hovermode": "closest",
          "mapbox": {
           "style": "light"
          },
          "paper_bgcolor": "white",
          "plot_bgcolor": "#E5ECF6",
          "polar": {
           "angularaxis": {
            "gridcolor": "white",
            "linecolor": "white",
            "ticks": ""
           },
           "bgcolor": "#E5ECF6",
           "radialaxis": {
            "gridcolor": "white",
            "linecolor": "white",
            "ticks": ""
           }
          },
          "scene": {
           "xaxis": {
            "backgroundcolor": "#E5ECF6",
            "gridcolor": "white",
            "gridwidth": 2,
            "linecolor": "white",
            "showbackground": true,
            "ticks": "",
            "zerolinecolor": "white"
           },
           "yaxis": {
            "backgroundcolor": "#E5ECF6",
            "gridcolor": "white",
            "gridwidth": 2,
            "linecolor": "white",
            "showbackground": true,
            "ticks": "",
            "zerolinecolor": "white"
           },
           "zaxis": {
            "backgroundcolor": "#E5ECF6",
            "gridcolor": "white",
            "gridwidth": 2,
            "linecolor": "white",
            "showbackground": true,
            "ticks": "",
            "zerolinecolor": "white"
           }
          },
          "shapedefaults": {
           "line": {
            "color": "#2a3f5f"
           }
          },
          "ternary": {
           "aaxis": {
            "gridcolor": "white",
            "linecolor": "white",
            "ticks": ""
           },
           "baxis": {
            "gridcolor": "white",
            "linecolor": "white",
            "ticks": ""
           },
           "bgcolor": "#E5ECF6",
           "caxis": {
            "gridcolor": "white",
            "linecolor": "white",
            "ticks": ""
           }
          },
          "title": {
           "x": 0.05
          },
          "xaxis": {
           "automargin": true,
           "gridcolor": "white",
           "linecolor": "white",
           "ticks": "",
           "title": {
            "standoff": 15
           },
           "zerolinecolor": "white",
           "zerolinewidth": 2
          },
          "yaxis": {
           "automargin": true,
           "gridcolor": "white",
           "linecolor": "white",
           "ticks": "",
           "title": {
            "standoff": 15
           },
           "zerolinecolor": "white",
           "zerolinewidth": 2
          }
         }
        },
        "title": {
         "font": {
          "size": 20
         },
         "text": "Pasajeros por mes, todo GEO Region(s) y todas las Operating Airline(s)",
         "x": 0.5
        },
        "width": 1250,
        "xaxis": {
         "anchor": "y",
         "domain": [
          0,
          1
         ],
         "title": {
          "font": {
           "size": 15
          },
          "text": "Mes"
         }
        },
        "yaxis": {
         "anchor": "x",
         "domain": [
          0,
          1
         ],
         "title": {
          "font": {
           "size": 15
          },
          "text": "Pasajeros"
         }
        }
       }
      }
     },
     "metadata": {},
     "output_type": "display_data"
    }
   ],
   "source": [
    "# Comportamiento del flujo de pasajeros por año durante 2005-2016\n",
    "df_3_all = process_passengers_month(df_1, \"GEO Region\")\n",
    "plot_passengers_month(df_3_all, \"GEO Region\")\n"
   ]
  },
  {
   "cell_type": "markdown",
   "metadata": {},
   "source": [
    "![](newplot15.png)"
   ]
  },
  {
   "cell_type": "markdown",
   "metadata": {},
   "source": [
    "<div style=\"letter-spacing: 0.5px; text-align: justify; font-size: 14px;\">\n",
    ". Tendencia mensual por regiones.\n",
    "</div>"
   ]
  },
  {
   "cell_type": "code",
   "execution_count": 65,
   "metadata": {},
   "outputs": [
    {
     "data": {
      "application/vnd.plotly.v1+json": {
       "config": {
        "plotlyServerURL": "https://plot.ly"
       },
       "data": [
        {
         "hovertemplate": "Group=Asia<br>Mes=%{x}<br>Pasajeros=%{y}<extra></extra>",
         "legendgroup": "Asia",
         "line": {
          "color": "#636efa",
          "dash": "solid"
         },
         "marker": {
          "symbol": "circle"
         },
         "mode": "lines",
         "name": "Asia",
         "showlegend": true,
         "type": "scattergl",
         "x": [
          "2005-07-01",
          "2005-08-01",
          "2005-09-01",
          "2005-10-01",
          "2005-11-01",
          "2005-12-01",
          "2006-01-01",
          "2006-02-01",
          "2006-03-01",
          "2006-04-01",
          "2006-05-01",
          "2006-06-01",
          "2006-07-01",
          "2006-08-01",
          "2006-09-01",
          "2006-10-01",
          "2006-11-01",
          "2006-12-01",
          "2007-01-01",
          "2007-02-01",
          "2007-03-01",
          "2007-04-01",
          "2007-05-01",
          "2007-06-01",
          "2007-07-01",
          "2007-08-01",
          "2007-09-01",
          "2007-10-01",
          "2007-11-01",
          "2007-12-01",
          "2008-01-01",
          "2008-02-01",
          "2008-03-01",
          "2008-04-01",
          "2008-05-01",
          "2008-06-01",
          "2008-07-01",
          "2008-08-01",
          "2008-09-01",
          "2008-10-01",
          "2008-11-01",
          "2008-12-01",
          "2009-01-01",
          "2009-02-01",
          "2009-03-01",
          "2009-04-01",
          "2009-05-01",
          "2009-06-01",
          "2009-07-01",
          "2009-08-01",
          "2009-09-01",
          "2009-10-01",
          "2009-11-01",
          "2009-12-01",
          "2010-01-01",
          "2010-02-01",
          "2010-03-01",
          "2010-04-01",
          "2010-05-01",
          "2010-06-01",
          "2010-07-01",
          "2010-08-01",
          "2010-09-01",
          "2010-10-01",
          "2010-11-01",
          "2010-12-01",
          "2011-01-01",
          "2011-02-01",
          "2011-03-01",
          "2011-04-01",
          "2011-05-01",
          "2011-06-01",
          "2011-07-01",
          "2011-08-01",
          "2011-09-01",
          "2011-10-01",
          "2011-11-01",
          "2011-12-01",
          "2012-01-01",
          "2012-02-01",
          "2012-03-01",
          "2012-04-01",
          "2012-05-01",
          "2012-06-01",
          "2012-07-01",
          "2012-08-01",
          "2012-09-01",
          "2012-10-01",
          "2012-11-01",
          "2012-12-01",
          "2013-01-01",
          "2013-02-01",
          "2013-03-01",
          "2013-04-01",
          "2013-05-01",
          "2013-06-01",
          "2013-07-01",
          "2013-08-01",
          "2013-09-01",
          "2013-10-01",
          "2013-11-01",
          "2013-12-01",
          "2014-01-01",
          "2014-02-01",
          "2014-03-01",
          "2014-04-01",
          "2014-05-01",
          "2014-06-01",
          "2014-07-01",
          "2014-08-01",
          "2014-09-01",
          "2014-10-01",
          "2014-11-01",
          "2014-12-01",
          "2015-01-01",
          "2015-02-01",
          "2015-03-01",
          "2015-04-01",
          "2015-05-01",
          "2015-06-01",
          "2015-07-01",
          "2015-08-01",
          "2015-09-01",
          "2015-10-01",
          "2015-11-01",
          "2015-12-01",
          "2016-01-01",
          "2016-02-01",
          "2016-03-01"
         ],
         "xaxis": "x",
         "y": [
          363467,
          361018,
          300397,
          319816,
          307228,
          325298,
          337328,
          279825,
          329656,
          326775,
          347529,
          363732,
          366890,
          359767,
          310117,
          336711,
          326283,
          335538,
          348352,
          300871,
          359749,
          337435,
          360350,
          379696,
          389657,
          382588,
          337826,
          352981,
          344486,
          360381,
          378295,
          321373,
          379110,
          340038,
          370090,
          386119,
          392930,
          393995,
          310644,
          328000,
          304095,
          330399,
          334914,
          250323,
          293548,
          302984,
          295705,
          324794,
          342411,
          349536,
          299471,
          303930,
          295506,
          322350,
          330027,
          270593,
          319274,
          321783,
          357527,
          372806,
          374474,
          375191,
          335665,
          346513,
          317583,
          328204,
          340501,
          272426,
          310773,
          305320,
          360387,
          359692,
          366783,
          369794,
          320089,
          329130,
          305836,
          333290,
          344470,
          287709,
          319213,
          334370,
          369744,
          380184,
          374297,
          383341,
          331381,
          341710,
          320071,
          341081,
          329796,
          286422,
          333053,
          322439,
          355814,
          375051,
          365287,
          375635,
          317920,
          328172,
          317107,
          348288,
          358787,
          300030,
          338404,
          338007,
          372286,
          378822,
          381099,
          391380,
          338003,
          335915,
          321116,
          357022,
          361057,
          323674,
          365079,
          347335,
          388857,
          394980,
          398966,
          410205,
          344843,
          372453,
          359848,
          393220,
          404603,
          348953,
          380026
         ],
         "yaxis": "y"
        },
        {
         "hovertemplate": "Group=Australia / Oceania<br>Mes=%{x}<br>Pasajeros=%{y}<extra></extra>",
         "legendgroup": "Australia / Oceania",
         "line": {
          "color": "#EF553B",
          "dash": "solid"
         },
         "marker": {
          "symbol": "circle"
         },
         "mode": "lines",
         "name": "Australia / Oceania",
         "showlegend": true,
         "type": "scattergl",
         "x": [
          "2005-07-01",
          "2005-08-01",
          "2005-09-01",
          "2005-10-01",
          "2005-11-01",
          "2005-12-01",
          "2006-01-01",
          "2006-02-01",
          "2006-03-01",
          "2006-04-01",
          "2006-05-01",
          "2006-06-01",
          "2006-07-01",
          "2006-08-01",
          "2006-09-01",
          "2006-10-01",
          "2006-11-01",
          "2006-12-01",
          "2007-01-01",
          "2007-02-01",
          "2007-03-01",
          "2007-04-01",
          "2007-05-01",
          "2007-06-01",
          "2007-07-01",
          "2007-08-01",
          "2007-09-01",
          "2007-10-01",
          "2007-11-01",
          "2007-12-01",
          "2008-01-01",
          "2008-02-01",
          "2008-03-01",
          "2008-04-01",
          "2008-05-01",
          "2008-06-01",
          "2008-07-01",
          "2008-08-01",
          "2008-09-01",
          "2008-10-01",
          "2008-11-01",
          "2008-12-01",
          "2009-01-01",
          "2009-02-01",
          "2009-03-01",
          "2009-04-01",
          "2009-05-01",
          "2009-06-01",
          "2009-07-01",
          "2009-08-01",
          "2009-09-01",
          "2009-10-01",
          "2009-11-01",
          "2009-12-01",
          "2010-01-01",
          "2010-02-01",
          "2010-03-01",
          "2010-04-01",
          "2010-05-01",
          "2010-06-01",
          "2010-07-01",
          "2010-08-01",
          "2010-09-01",
          "2010-10-01",
          "2010-11-01",
          "2010-12-01",
          "2011-01-01",
          "2011-02-01",
          "2011-03-01",
          "2011-04-01",
          "2011-05-01",
          "2011-06-01",
          "2011-07-01",
          "2011-08-01",
          "2011-09-01",
          "2011-10-01",
          "2011-11-01",
          "2011-12-01",
          "2012-01-01",
          "2012-02-01",
          "2012-03-01",
          "2012-04-01",
          "2012-05-01",
          "2012-06-01",
          "2012-07-01",
          "2012-08-01",
          "2012-09-01",
          "2012-10-01",
          "2012-11-01",
          "2012-12-01",
          "2013-01-01",
          "2013-02-01",
          "2013-03-01",
          "2013-04-01",
          "2013-05-01",
          "2013-06-01",
          "2013-07-01",
          "2013-08-01",
          "2013-09-01",
          "2013-10-01",
          "2013-11-01",
          "2013-12-01",
          "2014-01-01",
          "2014-02-01",
          "2014-03-01",
          "2014-04-01",
          "2014-05-01",
          "2014-06-01",
          "2014-07-01",
          "2014-08-01",
          "2014-09-01",
          "2014-10-01",
          "2014-11-01",
          "2014-12-01",
          "2015-01-01",
          "2015-02-01",
          "2015-03-01",
          "2015-04-01",
          "2015-05-01",
          "2015-06-01",
          "2015-07-01",
          "2015-08-01",
          "2015-09-01",
          "2015-10-01",
          "2015-11-01",
          "2015-12-01",
          "2016-01-01",
          "2016-02-01",
          "2016-03-01"
         ],
         "xaxis": "x",
         "y": [
          29567,
          28405,
          27186,
          25372,
          26931,
          35135,
          36438,
          29059,
          32297,
          34982,
          31516,
          43293,
          51426,
          43707,
          37491,
          38135,
          37604,
          50131,
          52567,
          37745,
          40712,
          41399,
          37227,
          45749,
          49187,
          45548,
          40719,
          42677,
          39979,
          50322,
          53442,
          42242,
          42932,
          37102,
          36545,
          40341,
          43726,
          40485,
          38990,
          38462,
          36994,
          45526,
          47400,
          35011,
          37164,
          36814,
          36435,
          39984,
          47397,
          40989,
          39426,
          41347,
          38470,
          42144,
          43285,
          33335,
          35839,
          34316,
          32826,
          37559,
          42524,
          38372,
          39918,
          39961,
          38222,
          45297,
          47519,
          38131,
          37812,
          41034,
          31814,
          31686,
          34401,
          28027,
          32845,
          33195,
          28513,
          37885,
          40232,
          30828,
          31691,
          30385,
          29509,
          31670,
          35396,
          32720,
          34955,
          32547,
          31450,
          39139,
          41443,
          32693,
          32805,
          31584,
          32605,
          35869,
          38422,
          37433,
          38482,
          35271,
          34645,
          39967,
          40257,
          33490,
          36423,
          30452,
          32950,
          32537,
          34216,
          31090,
          30671,
          31382,
          29894,
          36877,
          39539,
          34391,
          32929,
          28856,
          29417,
          30415,
          33700,
          29559,
          31280,
          29991,
          29870,
          42494,
          50659,
          41301,
          44321
         ],
         "yaxis": "y"
        },
        {
         "hovertemplate": "Group=Canada<br>Mes=%{x}<br>Pasajeros=%{y}<extra></extra>",
         "legendgroup": "Canada",
         "line": {
          "color": "#00cc96",
          "dash": "solid"
         },
         "marker": {
          "symbol": "circle"
         },
         "mode": "lines",
         "name": "Canada",
         "showlegend": true,
         "type": "scattergl",
         "x": [
          "2005-07-01",
          "2005-08-01",
          "2005-09-01",
          "2005-10-01",
          "2005-11-01",
          "2005-12-01",
          "2006-01-01",
          "2006-02-01",
          "2006-03-01",
          "2006-04-01",
          "2006-05-01",
          "2006-06-01",
          "2006-07-01",
          "2006-08-01",
          "2006-09-01",
          "2006-10-01",
          "2006-11-01",
          "2006-12-01",
          "2007-01-01",
          "2007-02-01",
          "2007-03-01",
          "2007-04-01",
          "2007-05-01",
          "2007-06-01",
          "2007-07-01",
          "2007-08-01",
          "2007-09-01",
          "2007-10-01",
          "2007-11-01",
          "2007-12-01",
          "2008-01-01",
          "2008-02-01",
          "2008-03-01",
          "2008-04-01",
          "2008-05-01",
          "2008-06-01",
          "2008-07-01",
          "2008-08-01",
          "2008-09-01",
          "2008-10-01",
          "2008-11-01",
          "2008-12-01",
          "2009-01-01",
          "2009-02-01",
          "2009-03-01",
          "2009-04-01",
          "2009-05-01",
          "2009-06-01",
          "2009-07-01",
          "2009-08-01",
          "2009-09-01",
          "2009-10-01",
          "2009-11-01",
          "2009-12-01",
          "2010-01-01",
          "2010-02-01",
          "2010-03-01",
          "2010-04-01",
          "2010-05-01",
          "2010-06-01",
          "2010-07-01",
          "2010-08-01",
          "2010-09-01",
          "2010-10-01",
          "2010-11-01",
          "2010-12-01",
          "2011-01-01",
          "2011-02-01",
          "2011-03-01",
          "2011-04-01",
          "2011-05-01",
          "2011-06-01",
          "2011-07-01",
          "2011-08-01",
          "2011-09-01",
          "2011-10-01",
          "2011-11-01",
          "2011-12-01",
          "2012-01-01",
          "2012-02-01",
          "2012-03-01",
          "2012-04-01",
          "2012-05-01",
          "2012-06-01",
          "2012-07-01",
          "2012-08-01",
          "2012-09-01",
          "2012-10-01",
          "2012-11-01",
          "2012-12-01",
          "2013-01-01",
          "2013-02-01",
          "2013-03-01",
          "2013-04-01",
          "2013-05-01",
          "2013-06-01",
          "2013-07-01",
          "2013-08-01",
          "2013-09-01",
          "2013-10-01",
          "2013-11-01",
          "2013-12-01",
          "2014-01-01",
          "2014-02-01",
          "2014-03-01",
          "2014-04-01",
          "2014-05-01",
          "2014-06-01",
          "2014-07-01",
          "2014-08-01",
          "2014-09-01",
          "2014-10-01",
          "2014-11-01",
          "2014-12-01",
          "2015-01-01",
          "2015-02-01",
          "2015-03-01",
          "2015-04-01",
          "2015-05-01",
          "2015-06-01",
          "2015-07-01",
          "2015-08-01",
          "2015-09-01",
          "2015-10-01",
          "2015-11-01",
          "2015-12-01",
          "2016-01-01",
          "2016-02-01",
          "2016-03-01"
         ],
         "xaxis": "x",
         "y": [
          123051,
          124737,
          98753,
          86047,
          73309,
          85064,
          75681,
          75953,
          91996,
          90916,
          98411,
          110620,
          134692,
          138413,
          105686,
          96181,
          84196,
          97078,
          91428,
          88899,
          101439,
          101235,
          114249,
          115000,
          139887,
          145975,
          114939,
          104472,
          87483,
          98135,
          90660,
          93411,
          104802,
          96055,
          110530,
          116339,
          134388,
          142069,
          102260,
          95849,
          71958,
          88543,
          75566,
          73692,
          85111,
          83672,
          100993,
          110719,
          131686,
          139820,
          116526,
          93641,
          66870,
          80570,
          70494,
          76072,
          91622,
          88906,
          111497,
          129530,
          158876,
          154907,
          127039,
          116722,
          84033,
          94658,
          83178,
          81563,
          97283,
          89638,
          115878,
          126548,
          146096,
          149448,
          123529,
          116206,
          75339,
          82478,
          75272,
          75481,
          83717,
          83814,
          116683,
          128422,
          146632,
          153000,
          129594,
          110839,
          74420,
          82075,
          74165,
          74738,
          84485,
          85225,
          120107,
          126191,
          144979,
          157375,
          131667,
          118638,
          80822,
          88161,
          83299,
          84713,
          96420,
          96091,
          137342,
          143299,
          162228,
          167764,
          141555,
          122854,
          85102,
          96989,
          87290,
          85886,
          107545,
          106990,
          150263,
          166205,
          186516,
          187971,
          154369,
          131040,
          91815,
          104378,
          92099,
          93321,
          100735
         ],
         "yaxis": "y"
        },
        {
         "hovertemplate": "Group=Central America<br>Mes=%{x}<br>Pasajeros=%{y}<extra></extra>",
         "legendgroup": "Central America",
         "line": {
          "color": "#ab63fa",
          "dash": "solid"
         },
         "marker": {
          "symbol": "circle"
         },
         "mode": "lines",
         "name": "Central America",
         "showlegend": true,
         "type": "scattergl",
         "x": [
          "2005-07-01",
          "2005-08-01",
          "2005-09-01",
          "2005-10-01",
          "2005-11-01",
          "2005-12-01",
          "2006-01-01",
          "2006-02-01",
          "2006-03-01",
          "2006-04-01",
          "2006-05-01",
          "2006-06-01",
          "2006-07-01",
          "2006-08-01",
          "2006-09-01",
          "2006-10-01",
          "2006-11-01",
          "2006-12-01",
          "2007-01-01",
          "2007-02-01",
          "2007-03-01",
          "2007-04-01",
          "2007-05-01",
          "2007-06-01",
          "2007-07-01",
          "2007-08-01",
          "2007-09-01",
          "2007-10-01",
          "2007-11-01",
          "2007-12-01",
          "2008-01-01",
          "2008-02-01",
          "2008-03-01",
          "2008-04-01",
          "2008-05-01",
          "2008-06-01",
          "2008-07-01",
          "2008-08-01",
          "2008-09-01",
          "2008-10-01",
          "2008-11-01",
          "2008-12-01",
          "2009-01-01",
          "2009-02-01",
          "2009-03-01",
          "2009-04-01",
          "2009-05-01",
          "2009-06-01",
          "2009-07-01",
          "2009-08-01",
          "2009-09-01",
          "2009-10-01",
          "2009-11-01",
          "2009-12-01",
          "2010-01-01",
          "2010-02-01",
          "2010-03-01",
          "2010-04-01",
          "2010-05-01",
          "2010-06-01",
          "2010-07-01",
          "2010-08-01",
          "2010-09-01",
          "2010-10-01",
          "2010-11-01",
          "2010-12-01",
          "2011-01-01",
          "2011-02-01",
          "2011-03-01",
          "2011-04-01",
          "2011-05-01",
          "2011-06-01",
          "2011-07-01",
          "2011-08-01",
          "2011-09-01",
          "2011-10-01",
          "2011-11-01",
          "2011-12-01",
          "2012-01-01",
          "2012-02-01",
          "2012-03-01",
          "2012-04-01",
          "2012-05-01",
          "2012-06-01",
          "2012-07-01",
          "2012-08-01",
          "2012-09-01",
          "2012-10-01",
          "2012-11-01",
          "2012-12-01",
          "2013-01-01",
          "2013-02-01",
          "2013-03-01",
          "2013-04-01",
          "2013-05-01",
          "2013-06-01",
          "2013-07-01",
          "2013-08-01",
          "2013-09-01",
          "2013-10-01",
          "2013-11-01",
          "2013-12-01",
          "2014-01-01",
          "2014-02-01",
          "2014-03-01",
          "2014-04-01",
          "2014-05-01",
          "2014-06-01",
          "2014-07-01",
          "2014-08-01",
          "2014-09-01",
          "2014-10-01",
          "2014-11-01",
          "2014-12-01",
          "2015-01-01",
          "2015-02-01",
          "2015-03-01",
          "2015-04-01",
          "2015-05-01",
          "2015-06-01",
          "2015-07-01",
          "2015-08-01",
          "2015-09-01",
          "2015-10-01",
          "2015-11-01",
          "2015-12-01",
          "2016-01-01",
          "2016-02-01",
          "2016-03-01"
         ],
         "xaxis": "x",
         "y": [
          13355,
          12485,
          7319,
          7564,
          8364,
          12907,
          11558,
          8114,
          8831,
          8936,
          8854,
          9776,
          12459,
          11185,
          6236,
          6479,
          8051,
          10776,
          10213,
          8060,
          9346,
          8740,
          8809,
          12587,
          16484,
          14979,
          9044,
          9064,
          9277,
          13049,
          11168,
          7264,
          8227,
          7399,
          5162,
          7494,
          10288,
          8899,
          7620,
          7986,
          7663,
          10949,
          10206,
          7516,
          8428,
          7701,
          8050,
          10193,
          11470,
          10079,
          7346,
          7009,
          7619,
          11554,
          10245,
          7168,
          8263,
          7702,
          7947,
          10206,
          13027,
          12654,
          8580,
          8353,
          8259,
          11781,
          11126,
          8553,
          10781,
          9829,
          9459,
          11169,
          13231,
          12219,
          8473,
          8861,
          10156,
          11327,
          11269,
          9819,
          10723,
          9463,
          10047,
          12053,
          13319,
          13086,
          9191,
          8963,
          10087,
          12760,
          12554,
          10054,
          11130,
          10060,
          10351,
          10855,
          13118,
          12805,
          9063,
          8694,
          9951,
          10475,
          11308,
          9711,
          10627,
          9755,
          9758,
          10366,
          11080,
          10802,
          9113,
          13487,
          10587,
          11472,
          12112,
          10010,
          10734,
          9865,
          10275,
          11424,
          15414,
          14732,
          11725,
          15779,
          17091,
          22256,
          21002,
          16978,
          18487
         ],
         "yaxis": "y"
        },
        {
         "hovertemplate": "Group=Europe<br>Mes=%{x}<br>Pasajeros=%{y}<extra></extra>",
         "legendgroup": "Europe",
         "line": {
          "color": "#FFA15A",
          "dash": "solid"
         },
         "marker": {
          "symbol": "circle"
         },
         "mode": "lines",
         "name": "Europe",
         "showlegend": true,
         "type": "scattergl",
         "x": [
          "2005-07-01",
          "2005-08-01",
          "2005-09-01",
          "2005-10-01",
          "2005-11-01",
          "2005-12-01",
          "2006-01-01",
          "2006-02-01",
          "2006-03-01",
          "2006-04-01",
          "2006-05-01",
          "2006-06-01",
          "2006-07-01",
          "2006-08-01",
          "2006-09-01",
          "2006-10-01",
          "2006-11-01",
          "2006-12-01",
          "2007-01-01",
          "2007-02-01",
          "2007-03-01",
          "2007-04-01",
          "2007-05-01",
          "2007-06-01",
          "2007-07-01",
          "2007-08-01",
          "2007-09-01",
          "2007-10-01",
          "2007-11-01",
          "2007-12-01",
          "2008-01-01",
          "2008-02-01",
          "2008-03-01",
          "2008-04-01",
          "2008-05-01",
          "2008-06-01",
          "2008-07-01",
          "2008-08-01",
          "2008-09-01",
          "2008-10-01",
          "2008-11-01",
          "2008-12-01",
          "2009-01-01",
          "2009-02-01",
          "2009-03-01",
          "2009-04-01",
          "2009-05-01",
          "2009-06-01",
          "2009-07-01",
          "2009-08-01",
          "2009-09-01",
          "2009-10-01",
          "2009-11-01",
          "2009-12-01",
          "2010-01-01",
          "2010-02-01",
          "2010-03-01",
          "2010-04-01",
          "2010-05-01",
          "2010-06-01",
          "2010-07-01",
          "2010-08-01",
          "2010-09-01",
          "2010-10-01",
          "2010-11-01",
          "2010-12-01",
          "2011-01-01",
          "2011-02-01",
          "2011-03-01",
          "2011-04-01",
          "2011-05-01",
          "2011-06-01",
          "2011-07-01",
          "2011-08-01",
          "2011-09-01",
          "2011-10-01",
          "2011-11-01",
          "2011-12-01",
          "2012-01-01",
          "2012-02-01",
          "2012-03-01",
          "2012-04-01",
          "2012-05-01",
          "2012-06-01",
          "2012-07-01",
          "2012-08-01",
          "2012-09-01",
          "2012-10-01",
          "2012-11-01",
          "2012-12-01",
          "2013-01-01",
          "2013-02-01",
          "2013-03-01",
          "2013-04-01",
          "2013-05-01",
          "2013-06-01",
          "2013-07-01",
          "2013-08-01",
          "2013-09-01",
          "2013-10-01",
          "2013-11-01",
          "2013-12-01",
          "2014-01-01",
          "2014-02-01",
          "2014-03-01",
          "2014-04-01",
          "2014-05-01",
          "2014-06-01",
          "2014-07-01",
          "2014-08-01",
          "2014-09-01",
          "2014-10-01",
          "2014-11-01",
          "2014-12-01",
          "2015-01-01",
          "2015-02-01",
          "2015-03-01",
          "2015-04-01",
          "2015-05-01",
          "2015-06-01",
          "2015-07-01",
          "2015-08-01",
          "2015-09-01",
          "2015-10-01",
          "2015-11-01",
          "2015-12-01",
          "2016-01-01",
          "2016-02-01",
          "2016-03-01"
         ],
         "xaxis": "x",
         "y": [
          222532,
          219086,
          210489,
          196001,
          151668,
          151876,
          152097,
          125598,
          167914,
          188428,
          197401,
          206720,
          215727,
          209005,
          199915,
          190765,
          154520,
          162866,
          160052,
          136934,
          177862,
          195461,
          209613,
          212568,
          220747,
          218578,
          211534,
          208521,
          175099,
          179039,
          167343,
          149247,
          194506,
          199628,
          216169,
          223599,
          234283,
          232390,
          221841,
          210198,
          150027,
          166157,
          153310,
          119983,
          160812,
          197780,
          204936,
          215168,
          228567,
          229553,
          216501,
          194743,
          136075,
          136801,
          131245,
          114061,
          148028,
          153201,
          196835,
          220261,
          237451,
          235070,
          225171,
          217153,
          149442,
          141209,
          149762,
          125445,
          160234,
          202225,
          231205,
          251750,
          255539,
          259056,
          246690,
          228999,
          152502,
          157290,
          151769,
          127841,
          171675,
          211611,
          241977,
          265402,
          270723,
          273455,
          261029,
          228861,
          159121,
          154052,
          154520,
          127641,
          174402,
          214926,
          274498,
          291991,
          292200,
          302425,
          285642,
          258623,
          167612,
          175733,
          166310,
          147528,
          184265,
          227225,
          279042,
          300987,
          306423,
          312366,
          285629,
          262656,
          184332,
          185574,
          184133,
          159371,
          203643,
          248319,
          301502,
          338592,
          361251,
          363172,
          325720,
          299415,
          210406,
          210189,
          214782,
          182178,
          234650
         ],
         "yaxis": "y"
        },
        {
         "hovertemplate": "Group=Mexico<br>Mes=%{x}<br>Pasajeros=%{y}<extra></extra>",
         "legendgroup": "Mexico",
         "line": {
          "color": "#19d3f3",
          "dash": "solid"
         },
         "marker": {
          "symbol": "circle"
         },
         "mode": "lines",
         "name": "Mexico",
         "showlegend": true,
         "type": "scattergl",
         "x": [
          "2005-07-01",
          "2005-08-01",
          "2005-09-01",
          "2005-10-01",
          "2005-11-01",
          "2005-12-01",
          "2006-01-01",
          "2006-02-01",
          "2006-03-01",
          "2006-04-01",
          "2006-05-01",
          "2006-06-01",
          "2006-07-01",
          "2006-08-01",
          "2006-09-01",
          "2006-10-01",
          "2006-11-01",
          "2006-12-01",
          "2007-01-01",
          "2007-02-01",
          "2007-03-01",
          "2007-04-01",
          "2007-05-01",
          "2007-06-01",
          "2007-07-01",
          "2007-08-01",
          "2007-09-01",
          "2007-10-01",
          "2007-11-01",
          "2007-12-01",
          "2008-01-01",
          "2008-02-01",
          "2008-03-01",
          "2008-04-01",
          "2008-05-01",
          "2008-06-01",
          "2008-07-01",
          "2008-08-01",
          "2008-09-01",
          "2008-10-01",
          "2008-11-01",
          "2008-12-01",
          "2009-01-01",
          "2009-02-01",
          "2009-03-01",
          "2009-04-01",
          "2009-05-01",
          "2009-06-01",
          "2009-07-01",
          "2009-08-01",
          "2009-09-01",
          "2009-10-01",
          "2009-11-01",
          "2009-12-01",
          "2010-01-01",
          "2010-02-01",
          "2010-03-01",
          "2010-04-01",
          "2010-05-01",
          "2010-06-01",
          "2010-07-01",
          "2010-08-01",
          "2010-09-01",
          "2010-10-01",
          "2010-11-01",
          "2010-12-01",
          "2011-01-01",
          "2011-02-01",
          "2011-03-01",
          "2011-04-01",
          "2011-05-01",
          "2011-06-01",
          "2011-07-01",
          "2011-08-01",
          "2011-09-01",
          "2011-10-01",
          "2011-11-01",
          "2011-12-01",
          "2012-01-01",
          "2012-02-01",
          "2012-03-01",
          "2012-04-01",
          "2012-05-01",
          "2012-06-01",
          "2012-07-01",
          "2012-08-01",
          "2012-09-01",
          "2012-10-01",
          "2012-11-01",
          "2012-12-01",
          "2013-01-01",
          "2013-02-01",
          "2013-03-01",
          "2013-04-01",
          "2013-05-01",
          "2013-06-01",
          "2013-07-01",
          "2013-08-01",
          "2013-09-01",
          "2013-10-01",
          "2013-11-01",
          "2013-12-01",
          "2014-01-01",
          "2014-02-01",
          "2014-03-01",
          "2014-04-01",
          "2014-05-01",
          "2014-06-01",
          "2014-07-01",
          "2014-08-01",
          "2014-09-01",
          "2014-10-01",
          "2014-11-01",
          "2014-12-01",
          "2015-01-01",
          "2015-02-01",
          "2015-03-01",
          "2015-04-01",
          "2015-05-01",
          "2015-06-01",
          "2015-07-01",
          "2015-08-01",
          "2015-09-01",
          "2015-10-01",
          "2015-11-01",
          "2015-12-01",
          "2016-01-01",
          "2016-02-01",
          "2016-03-01"
         ],
         "xaxis": "x",
         "y": [
          56442,
          52608,
          35443,
          49894,
          58119,
          64746,
          65369,
          58797,
          66895,
          70912,
          54840,
          60041,
          65494,
          60547,
          36209,
          49559,
          62252,
          66137,
          57581,
          48449,
          56891,
          59705,
          51609,
          56542,
          62011,
          58960,
          36456,
          50229,
          58305,
          65167,
          58779,
          53843,
          63045,
          58816,
          57070,
          62011,
          60962,
          62349,
          33846,
          37557,
          48528,
          58463,
          51445,
          47760,
          57890,
          59554,
          35689,
          56249,
          54674,
          52491,
          32942,
          38567,
          53508,
          60194,
          55902,
          49450,
          56175,
          57233,
          54612,
          61117,
          63685,
          53334,
          27395,
          29995,
          40671,
          48410,
          42271,
          39423,
          46908,
          47251,
          45099,
          48707,
          59313,
          50681,
          35346,
          39252,
          57714,
          73234,
          72586,
          63376,
          71493,
          72765,
          73243,
          77765,
          83273,
          74396,
          49906,
          64329,
          69956,
          77377,
          70522,
          57924,
          71385,
          66317,
          65223,
          71181,
          78275,
          73410,
          53087,
          64585,
          72541,
          89599,
          81338,
          72106,
          91103,
          86859,
          84133,
          98399,
          110670,
          96580,
          51736,
          58346,
          77886,
          86455,
          82033,
          72454,
          86545,
          88802,
          80932,
          86677,
          100414,
          88679,
          54562,
          70776,
          90074,
          100545,
          91366,
          80939,
          94210
         ],
         "yaxis": "y"
        },
        {
         "hovertemplate": "Group=Middle East<br>Mes=%{x}<br>Pasajeros=%{y}<extra></extra>",
         "legendgroup": "Middle East",
         "line": {
          "color": "#FF6692",
          "dash": "solid"
         },
         "marker": {
          "symbol": "circle"
         },
         "mode": "lines",
         "name": "Middle East",
         "showlegend": true,
         "type": "scattergl",
         "x": [
          "2008-12-01",
          "2009-01-01",
          "2009-02-01",
          "2009-03-01",
          "2009-04-01",
          "2009-05-01",
          "2009-06-01",
          "2009-07-01",
          "2009-08-01",
          "2009-09-01",
          "2009-10-01",
          "2009-11-01",
          "2009-12-01",
          "2010-01-01",
          "2010-02-01",
          "2010-03-01",
          "2010-04-01",
          "2010-05-01",
          "2010-06-01",
          "2010-07-01",
          "2010-08-01",
          "2010-09-01",
          "2010-10-01",
          "2010-11-01",
          "2010-12-01",
          "2011-01-01",
          "2011-02-01",
          "2011-03-01",
          "2011-04-01",
          "2011-05-01",
          "2011-06-01",
          "2011-07-01",
          "2011-08-01",
          "2011-09-01",
          "2011-10-01",
          "2011-11-01",
          "2011-12-01",
          "2012-01-01",
          "2012-02-01",
          "2012-03-01",
          "2012-04-01",
          "2012-05-01",
          "2012-06-01",
          "2012-07-01",
          "2012-08-01",
          "2012-09-01",
          "2012-10-01",
          "2012-11-01",
          "2012-12-01",
          "2013-01-01",
          "2013-02-01",
          "2013-03-01",
          "2013-04-01",
          "2013-05-01",
          "2013-06-01",
          "2013-07-01",
          "2013-08-01",
          "2013-09-01",
          "2013-10-01",
          "2013-11-01",
          "2013-12-01",
          "2014-01-01",
          "2014-02-01",
          "2014-03-01",
          "2014-04-01",
          "2014-05-01",
          "2014-06-01",
          "2014-07-01",
          "2014-08-01",
          "2014-09-01",
          "2014-10-01",
          "2014-11-01",
          "2014-12-01",
          "2015-01-01",
          "2015-02-01",
          "2015-03-01",
          "2015-04-01",
          "2015-05-01",
          "2015-06-01",
          "2015-07-01",
          "2015-08-01",
          "2015-09-01",
          "2015-10-01",
          "2015-11-01",
          "2015-12-01",
          "2016-01-01",
          "2016-02-01",
          "2016-03-01"
         ],
         "xaxis": "x",
         "y": [
          2913,
          5863,
          4780,
          6057,
          6390,
          12118,
          14407,
          15083,
          14237,
          11660,
          13771,
          15965,
          18203,
          17514,
          14068,
          17879,
          17586,
          18866,
          19317,
          19502,
          18132,
          16002,
          16145,
          16848,
          19955,
          18760,
          15353,
          17558,
          17011,
          18873,
          19097,
          19292,
          18211,
          16023,
          17180,
          18680,
          20320,
          20063,
          18705,
          18985,
          17357,
          18993,
          19747,
          20248,
          19786,
          16965,
          17022,
          18348,
          20516,
          19958,
          17499,
          18996,
          15632,
          17270,
          18712,
          18728,
          19995,
          18619,
          18555,
          18885,
          20425,
          20431,
          18459,
          19898,
          19450,
          20163,
          20248,
          18670,
          20871,
          19380,
          18601,
          22913,
          40368,
          41482,
          33802,
          37351,
          35937,
          42307,
          42440,
          43092,
          42853,
          31315,
          33050,
          35920,
          41695,
          41404,
          33846,
          37369
         ],
         "yaxis": "y"
        },
        {
         "hovertemplate": "Group=South America<br>Mes=%{x}<br>Pasajeros=%{y}<extra></extra>",
         "legendgroup": "South America",
         "line": {
          "color": "#B6E880",
          "dash": "solid"
         },
         "marker": {
          "symbol": "circle"
         },
         "mode": "lines",
         "name": "South America",
         "showlegend": true,
         "type": "scattergl",
         "x": [
          "2010-07-01",
          "2010-08-01",
          "2010-09-01",
          "2010-10-01",
          "2010-11-01",
          "2010-12-01",
          "2011-01-01",
          "2011-02-01",
          "2011-03-01",
          "2011-04-01",
          "2011-05-01",
          "2011-06-01",
          "2011-07-01",
          "2011-08-01",
          "2011-09-01",
          "2011-10-01",
          "2011-11-01",
          "2011-12-01",
          "2012-01-01",
          "2012-02-01",
          "2012-03-01",
          "2012-04-01",
          "2012-05-01",
          "2012-06-01",
          "2012-07-01",
          "2012-08-01",
          "2012-09-01",
          "2012-10-01",
          "2012-11-01",
          "2012-12-01",
          "2013-01-01",
          "2013-02-01",
          "2013-03-01",
          "2013-04-01",
          "2013-05-01",
          "2013-06-01",
          "2013-07-01",
          "2013-08-01",
          "2013-09-01",
          "2013-10-01",
          "2013-11-01",
          "2013-12-01",
          "2014-01-01",
          "2014-02-01",
          "2014-03-01"
         ],
         "xaxis": "x",
         "y": [
          6430,
          6064,
          5411,
          6253,
          6079,
          6234,
          6567,
          5894,
          6703,
          5658,
          5784,
          5331,
          6118,
          5157,
          4323,
          4184,
          4243,
          6796,
          6478,
          4926,
          6068,
          4879,
          5770,
          5675,
          5176,
          5126,
          5016,
          6525,
          6005,
          4809,
          3920,
          6079,
          7081,
          5107,
          5548,
          5487,
          5686,
          5877,
          5336,
          5301,
          4988,
          5002,
          5419,
          4764,
          5464
         ],
         "yaxis": "y"
        },
        {
         "hovertemplate": "Group=US<br>Mes=%{x}<br>Pasajeros=%{y}<extra></extra>",
         "legendgroup": "US",
         "line": {
          "color": "#FF97FF",
          "dash": "solid"
         },
         "marker": {
          "symbol": "circle"
         },
         "mode": "lines",
         "name": "US",
         "showlegend": true,
         "type": "scattergl",
         "x": [
          "2005-07-01",
          "2005-08-01",
          "2005-09-01",
          "2005-10-01",
          "2005-11-01",
          "2005-12-01",
          "2006-01-01",
          "2006-02-01",
          "2006-03-01",
          "2006-04-01",
          "2006-05-01",
          "2006-06-01",
          "2006-07-01",
          "2006-08-01",
          "2006-09-01",
          "2006-10-01",
          "2006-11-01",
          "2006-12-01",
          "2007-01-01",
          "2007-02-01",
          "2007-03-01",
          "2007-04-01",
          "2007-05-01",
          "2007-06-01",
          "2007-07-01",
          "2007-08-01",
          "2007-09-01",
          "2007-10-01",
          "2007-11-01",
          "2007-12-01",
          "2008-01-01",
          "2008-02-01",
          "2008-03-01",
          "2008-04-01",
          "2008-05-01",
          "2008-06-01",
          "2008-07-01",
          "2008-08-01",
          "2008-09-01",
          "2008-10-01",
          "2008-11-01",
          "2008-12-01",
          "2009-01-01",
          "2009-02-01",
          "2009-03-01",
          "2009-04-01",
          "2009-05-01",
          "2009-06-01",
          "2009-07-01",
          "2009-08-01",
          "2009-09-01",
          "2009-10-01",
          "2009-11-01",
          "2009-12-01",
          "2010-01-01",
          "2010-02-01",
          "2010-03-01",
          "2010-04-01",
          "2010-05-01",
          "2010-06-01",
          "2010-07-01",
          "2010-08-01",
          "2010-09-01",
          "2010-10-01",
          "2010-11-01",
          "2010-12-01",
          "2011-01-01",
          "2011-02-01",
          "2011-03-01",
          "2011-04-01",
          "2011-05-01",
          "2011-06-01",
          "2011-07-01",
          "2011-08-01",
          "2011-09-01",
          "2011-10-01",
          "2011-11-01",
          "2011-12-01",
          "2012-01-01",
          "2012-02-01",
          "2012-03-01",
          "2012-04-01",
          "2012-05-01",
          "2012-06-01",
          "2012-07-01",
          "2012-08-01",
          "2012-09-01",
          "2012-10-01",
          "2012-11-01",
          "2012-12-01",
          "2013-01-01",
          "2013-02-01",
          "2013-03-01",
          "2013-04-01",
          "2013-05-01",
          "2013-06-01",
          "2013-07-01",
          "2013-08-01",
          "2013-09-01",
          "2013-10-01",
          "2013-11-01",
          "2013-12-01",
          "2014-01-01",
          "2014-02-01",
          "2014-03-01",
          "2014-04-01",
          "2014-05-01",
          "2014-06-01",
          "2014-07-01",
          "2014-08-01",
          "2014-09-01",
          "2014-10-01",
          "2014-11-01",
          "2014-12-01",
          "2015-01-01",
          "2015-02-01",
          "2015-03-01",
          "2015-04-01",
          "2015-05-01",
          "2015-06-01",
          "2015-07-01",
          "2015-08-01",
          "2015-09-01",
          "2015-10-01",
          "2015-11-01",
          "2015-12-01",
          "2016-01-01",
          "2016-02-01",
          "2016-03-01"
         ],
         "xaxis": "x",
         "y": [
          2446383,
          2425779,
          2084932,
          2113786,
          2013012,
          2021058,
          1793241,
          1669909,
          2041141,
          2071464,
          2107849,
          2297655,
          2402220,
          2342402,
          2042665,
          2134115,
          1998531,
          1994904,
          1806843,
          1702564,
          2098145,
          2147471,
          2298610,
          2464590,
          2526952,
          2593287,
          2223191,
          2378821,
          2220286,
          2151165,
          1925688,
          1946469,
          2354348,
          2308967,
          2525817,
          2630625,
          2745174,
          2749642,
          2297635,
          2415154,
          2132682,
          2267912,
          1976156,
          1829717,
          2287282,
          2340331,
          2492283,
          2660596,
          2828183,
          2822674,
          2475174,
          2566002,
          2365500,
          2411920,
          2137854,
          1960013,
          2441284,
          2470685,
          2610604,
          2775476,
          2862988,
          2891622,
          2582234,
          2721180,
          2510920,
          2481348,
          2194288,
          2032405,
          2451037,
          2491223,
          2739522,
          2923439,
          3046246,
          3038088,
          2786215,
          2834687,
          2681818,
          2728200,
          2496461,
          2387079,
          2767513,
          2804829,
          2959366,
          3191393,
          3341022,
          3407459,
          2993321,
          3038854,
          2792964,
          2716957,
          2502478,
          2355901,
          2866631,
          2858253,
          3053483,
          3219816,
          3224420,
          3366146,
          2925663,
          3088602,
          2763931,
          3041626,
          2670987,
          2411045,
          2988970,
          3079543,
          3215729,
          3342561,
          3481832,
          3495073,
          3043398,
          3216643,
          2897289,
          3042151,
          2743426,
          2528946,
          3158906,
          3156666,
          3358069,
          3488907,
          3663078,
          3660313,
          3248068,
          3422573,
          3179364,
          3214685,
          2833502,
          2746235,
          3228232
         ],
         "yaxis": "y"
        }
       ],
       "layout": {
        "height": 750,
        "legend": {
         "title": {
          "text": "Group"
         },
         "tracegroupgap": 0
        },
        "plot_bgcolor": "#F9FAFF",
        "template": {
         "data": {
          "bar": [
           {
            "error_x": {
             "color": "#2a3f5f"
            },
            "error_y": {
             "color": "#2a3f5f"
            },
            "marker": {
             "line": {
              "color": "#E5ECF6",
              "width": 0.5
             },
             "pattern": {
              "fillmode": "overlay",
              "size": 10,
              "solidity": 0.2
             }
            },
            "type": "bar"
           }
          ],
          "barpolar": [
           {
            "marker": {
             "line": {
              "color": "#E5ECF6",
              "width": 0.5
             },
             "pattern": {
              "fillmode": "overlay",
              "size": 10,
              "solidity": 0.2
             }
            },
            "type": "barpolar"
           }
          ],
          "carpet": [
           {
            "aaxis": {
             "endlinecolor": "#2a3f5f",
             "gridcolor": "white",
             "linecolor": "white",
             "minorgridcolor": "white",
             "startlinecolor": "#2a3f5f"
            },
            "baxis": {
             "endlinecolor": "#2a3f5f",
             "gridcolor": "white",
             "linecolor": "white",
             "minorgridcolor": "white",
             "startlinecolor": "#2a3f5f"
            },
            "type": "carpet"
           }
          ],
          "choropleth": [
           {
            "colorbar": {
             "outlinewidth": 0,
             "ticks": ""
            },
            "type": "choropleth"
           }
          ],
          "contour": [
           {
            "colorbar": {
             "outlinewidth": 0,
             "ticks": ""
            },
            "colorscale": [
             [
              0,
              "#0d0887"
             ],
             [
              0.1111111111111111,
              "#46039f"
             ],
             [
              0.2222222222222222,
              "#7201a8"
             ],
             [
              0.3333333333333333,
              "#9c179e"
             ],
             [
              0.4444444444444444,
              "#bd3786"
             ],
             [
              0.5555555555555556,
              "#d8576b"
             ],
             [
              0.6666666666666666,
              "#ed7953"
             ],
             [
              0.7777777777777778,
              "#fb9f3a"
             ],
             [
              0.8888888888888888,
              "#fdca26"
             ],
             [
              1,
              "#f0f921"
             ]
            ],
            "type": "contour"
           }
          ],
          "contourcarpet": [
           {
            "colorbar": {
             "outlinewidth": 0,
             "ticks": ""
            },
            "type": "contourcarpet"
           }
          ],
          "heatmap": [
           {
            "colorbar": {
             "outlinewidth": 0,
             "ticks": ""
            },
            "colorscale": [
             [
              0,
              "#0d0887"
             ],
             [
              0.1111111111111111,
              "#46039f"
             ],
             [
              0.2222222222222222,
              "#7201a8"
             ],
             [
              0.3333333333333333,
              "#9c179e"
             ],
             [
              0.4444444444444444,
              "#bd3786"
             ],
             [
              0.5555555555555556,
              "#d8576b"
             ],
             [
              0.6666666666666666,
              "#ed7953"
             ],
             [
              0.7777777777777778,
              "#fb9f3a"
             ],
             [
              0.8888888888888888,
              "#fdca26"
             ],
             [
              1,
              "#f0f921"
             ]
            ],
            "type": "heatmap"
           }
          ],
          "heatmapgl": [
           {
            "colorbar": {
             "outlinewidth": 0,
             "ticks": ""
            },
            "colorscale": [
             [
              0,
              "#0d0887"
             ],
             [
              0.1111111111111111,
              "#46039f"
             ],
             [
              0.2222222222222222,
              "#7201a8"
             ],
             [
              0.3333333333333333,
              "#9c179e"
             ],
             [
              0.4444444444444444,
              "#bd3786"
             ],
             [
              0.5555555555555556,
              "#d8576b"
             ],
             [
              0.6666666666666666,
              "#ed7953"
             ],
             [
              0.7777777777777778,
              "#fb9f3a"
             ],
             [
              0.8888888888888888,
              "#fdca26"
             ],
             [
              1,
              "#f0f921"
             ]
            ],
            "type": "heatmapgl"
           }
          ],
          "histogram": [
           {
            "marker": {
             "pattern": {
              "fillmode": "overlay",
              "size": 10,
              "solidity": 0.2
             }
            },
            "type": "histogram"
           }
          ],
          "histogram2d": [
           {
            "colorbar": {
             "outlinewidth": 0,
             "ticks": ""
            },
            "colorscale": [
             [
              0,
              "#0d0887"
             ],
             [
              0.1111111111111111,
              "#46039f"
             ],
             [
              0.2222222222222222,
              "#7201a8"
             ],
             [
              0.3333333333333333,
              "#9c179e"
             ],
             [
              0.4444444444444444,
              "#bd3786"
             ],
             [
              0.5555555555555556,
              "#d8576b"
             ],
             [
              0.6666666666666666,
              "#ed7953"
             ],
             [
              0.7777777777777778,
              "#fb9f3a"
             ],
             [
              0.8888888888888888,
              "#fdca26"
             ],
             [
              1,
              "#f0f921"
             ]
            ],
            "type": "histogram2d"
           }
          ],
          "histogram2dcontour": [
           {
            "colorbar": {
             "outlinewidth": 0,
             "ticks": ""
            },
            "colorscale": [
             [
              0,
              "#0d0887"
             ],
             [
              0.1111111111111111,
              "#46039f"
             ],
             [
              0.2222222222222222,
              "#7201a8"
             ],
             [
              0.3333333333333333,
              "#9c179e"
             ],
             [
              0.4444444444444444,
              "#bd3786"
             ],
             [
              0.5555555555555556,
              "#d8576b"
             ],
             [
              0.6666666666666666,
              "#ed7953"
             ],
             [
              0.7777777777777778,
              "#fb9f3a"
             ],
             [
              0.8888888888888888,
              "#fdca26"
             ],
             [
              1,
              "#f0f921"
             ]
            ],
            "type": "histogram2dcontour"
           }
          ],
          "mesh3d": [
           {
            "colorbar": {
             "outlinewidth": 0,
             "ticks": ""
            },
            "type": "mesh3d"
           }
          ],
          "parcoords": [
           {
            "line": {
             "colorbar": {
              "outlinewidth": 0,
              "ticks": ""
             }
            },
            "type": "parcoords"
           }
          ],
          "pie": [
           {
            "automargin": true,
            "type": "pie"
           }
          ],
          "scatter": [
           {
            "fillpattern": {
             "fillmode": "overlay",
             "size": 10,
             "solidity": 0.2
            },
            "type": "scatter"
           }
          ],
          "scatter3d": [
           {
            "line": {
             "colorbar": {
              "outlinewidth": 0,
              "ticks": ""
             }
            },
            "marker": {
             "colorbar": {
              "outlinewidth": 0,
              "ticks": ""
             }
            },
            "type": "scatter3d"
           }
          ],
          "scattercarpet": [
           {
            "marker": {
             "colorbar": {
              "outlinewidth": 0,
              "ticks": ""
             }
            },
            "type": "scattercarpet"
           }
          ],
          "scattergeo": [
           {
            "marker": {
             "colorbar": {
              "outlinewidth": 0,
              "ticks": ""
             }
            },
            "type": "scattergeo"
           }
          ],
          "scattergl": [
           {
            "marker": {
             "colorbar": {
              "outlinewidth": 0,
              "ticks": ""
             }
            },
            "type": "scattergl"
           }
          ],
          "scattermapbox": [
           {
            "marker": {
             "colorbar": {
              "outlinewidth": 0,
              "ticks": ""
             }
            },
            "type": "scattermapbox"
           }
          ],
          "scatterpolar": [
           {
            "marker": {
             "colorbar": {
              "outlinewidth": 0,
              "ticks": ""
             }
            },
            "type": "scatterpolar"
           }
          ],
          "scatterpolargl": [
           {
            "marker": {
             "colorbar": {
              "outlinewidth": 0,
              "ticks": ""
             }
            },
            "type": "scatterpolargl"
           }
          ],
          "scatterternary": [
           {
            "marker": {
             "colorbar": {
              "outlinewidth": 0,
              "ticks": ""
             }
            },
            "type": "scatterternary"
           }
          ],
          "surface": [
           {
            "colorbar": {
             "outlinewidth": 0,
             "ticks": ""
            },
            "colorscale": [
             [
              0,
              "#0d0887"
             ],
             [
              0.1111111111111111,
              "#46039f"
             ],
             [
              0.2222222222222222,
              "#7201a8"
             ],
             [
              0.3333333333333333,
              "#9c179e"
             ],
             [
              0.4444444444444444,
              "#bd3786"
             ],
             [
              0.5555555555555556,
              "#d8576b"
             ],
             [
              0.6666666666666666,
              "#ed7953"
             ],
             [
              0.7777777777777778,
              "#fb9f3a"
             ],
             [
              0.8888888888888888,
              "#fdca26"
             ],
             [
              1,
              "#f0f921"
             ]
            ],
            "type": "surface"
           }
          ],
          "table": [
           {
            "cells": {
             "fill": {
              "color": "#EBF0F8"
             },
             "line": {
              "color": "white"
             }
            },
            "header": {
             "fill": {
              "color": "#C8D4E3"
             },
             "line": {
              "color": "white"
             }
            },
            "type": "table"
           }
          ]
         },
         "layout": {
          "annotationdefaults": {
           "arrowcolor": "#2a3f5f",
           "arrowhead": 0,
           "arrowwidth": 1
          },
          "autotypenumbers": "strict",
          "coloraxis": {
           "colorbar": {
            "outlinewidth": 0,
            "ticks": ""
           }
          },
          "colorscale": {
           "diverging": [
            [
             0,
             "#8e0152"
            ],
            [
             0.1,
             "#c51b7d"
            ],
            [
             0.2,
             "#de77ae"
            ],
            [
             0.3,
             "#f1b6da"
            ],
            [
             0.4,
             "#fde0ef"
            ],
            [
             0.5,
             "#f7f7f7"
            ],
            [
             0.6,
             "#e6f5d0"
            ],
            [
             0.7,
             "#b8e186"
            ],
            [
             0.8,
             "#7fbc41"
            ],
            [
             0.9,
             "#4d9221"
            ],
            [
             1,
             "#276419"
            ]
           ],
           "sequential": [
            [
             0,
             "#0d0887"
            ],
            [
             0.1111111111111111,
             "#46039f"
            ],
            [
             0.2222222222222222,
             "#7201a8"
            ],
            [
             0.3333333333333333,
             "#9c179e"
            ],
            [
             0.4444444444444444,
             "#bd3786"
            ],
            [
             0.5555555555555556,
             "#d8576b"
            ],
            [
             0.6666666666666666,
             "#ed7953"
            ],
            [
             0.7777777777777778,
             "#fb9f3a"
            ],
            [
             0.8888888888888888,
             "#fdca26"
            ],
            [
             1,
             "#f0f921"
            ]
           ],
           "sequentialminus": [
            [
             0,
             "#0d0887"
            ],
            [
             0.1111111111111111,
             "#46039f"
            ],
            [
             0.2222222222222222,
             "#7201a8"
            ],
            [
             0.3333333333333333,
             "#9c179e"
            ],
            [
             0.4444444444444444,
             "#bd3786"
            ],
            [
             0.5555555555555556,
             "#d8576b"
            ],
            [
             0.6666666666666666,
             "#ed7953"
            ],
            [
             0.7777777777777778,
             "#fb9f3a"
            ],
            [
             0.8888888888888888,
             "#fdca26"
            ],
            [
             1,
             "#f0f921"
            ]
           ]
          },
          "colorway": [
           "#636efa",
           "#EF553B",
           "#00cc96",
           "#ab63fa",
           "#FFA15A",
           "#19d3f3",
           "#FF6692",
           "#B6E880",
           "#FF97FF",
           "#FECB52"
          ],
          "font": {
           "color": "#2a3f5f"
          },
          "geo": {
           "bgcolor": "white",
           "lakecolor": "white",
           "landcolor": "#E5ECF6",
           "showlakes": true,
           "showland": true,
           "subunitcolor": "white"
          },
          "hoverlabel": {
           "align": "left"
          },
          "hovermode": "closest",
          "mapbox": {
           "style": "light"
          },
          "paper_bgcolor": "white",
          "plot_bgcolor": "#E5ECF6",
          "polar": {
           "angularaxis": {
            "gridcolor": "white",
            "linecolor": "white",
            "ticks": ""
           },
           "bgcolor": "#E5ECF6",
           "radialaxis": {
            "gridcolor": "white",
            "linecolor": "white",
            "ticks": ""
           }
          },
          "scene": {
           "xaxis": {
            "backgroundcolor": "#E5ECF6",
            "gridcolor": "white",
            "gridwidth": 2,
            "linecolor": "white",
            "showbackground": true,
            "ticks": "",
            "zerolinecolor": "white"
           },
           "yaxis": {
            "backgroundcolor": "#E5ECF6",
            "gridcolor": "white",
            "gridwidth": 2,
            "linecolor": "white",
            "showbackground": true,
            "ticks": "",
            "zerolinecolor": "white"
           },
           "zaxis": {
            "backgroundcolor": "#E5ECF6",
            "gridcolor": "white",
            "gridwidth": 2,
            "linecolor": "white",
            "showbackground": true,
            "ticks": "",
            "zerolinecolor": "white"
           }
          },
          "shapedefaults": {
           "line": {
            "color": "#2a3f5f"
           }
          },
          "ternary": {
           "aaxis": {
            "gridcolor": "white",
            "linecolor": "white",
            "ticks": ""
           },
           "baxis": {
            "gridcolor": "white",
            "linecolor": "white",
            "ticks": ""
           },
           "bgcolor": "#E5ECF6",
           "caxis": {
            "gridcolor": "white",
            "linecolor": "white",
            "ticks": ""
           }
          },
          "title": {
           "x": 0.05
          },
          "xaxis": {
           "automargin": true,
           "gridcolor": "white",
           "linecolor": "white",
           "ticks": "",
           "title": {
            "standoff": 15
           },
           "zerolinecolor": "white",
           "zerolinewidth": 2
          },
          "yaxis": {
           "automargin": true,
           "gridcolor": "white",
           "linecolor": "white",
           "ticks": "",
           "title": {
            "standoff": 15
           },
           "zerolinecolor": "white",
           "zerolinewidth": 2
          }
         }
        },
        "title": {
         "font": {
          "size": 20
         },
         "text": "Pasajeros por mes, Asia, Australia / Oceania, Canada, Central America, Europe,<br> Mexico, Middle East, South America, US GEO Region(s) y todas las Operating Airline(s)",
         "x": 0.5
        },
        "width": 1250,
        "xaxis": {
         "anchor": "y",
         "domain": [
          0,
          1
         ],
         "title": {
          "font": {
           "size": 15
          },
          "text": "Mes"
         }
        },
        "yaxis": {
         "anchor": "x",
         "domain": [
          0,
          1
         ],
         "title": {
          "font": {
           "size": 15
          },
          "text": "Pasajeros"
         }
        }
       }
      }
     },
     "metadata": {},
     "output_type": "display_data"
    }
   ],
   "source": [
    "# Comportamiento anual del flujo de pasajeros por regiones y mes\n",
    "df_3_region = process_passengers_month(df_1, \"GEO Region\", region)\n",
    "plot_passengers_month(df_3_region, \"GEO Region\", region)\n"
   ]
  },
  {
   "cell_type": "markdown",
   "metadata": {},
   "source": [
    "![](newplot16.png)"
   ]
  },
  {
   "cell_type": "markdown",
   "metadata": {},
   "source": [
    "<div style=\"letter-spacing: 0.5px; text-align: justify; font-size: 14px;\">\n",
    ". Total de pasajeros por mes en US en todas las aerolíneas.\n",
    "</div>"
   ]
  },
  {
   "cell_type": "markdown",
   "metadata": {},
   "source": [
    "<div style=\"letter-spacing: 0.5px; text-align: justify; font-size: 12px;\">\n",
    "El flujo de pasajeros es muy irregular a lo largo de todo el período, lo cual indica una gran fluctuación mensual a lo largo del período. \n",
    "\n",
    "Se aprecia un crecimiento continuo hasta alcanzar el pico a mediados de año. Luego inicia el descenso con otros saltos en octubre y diciembre.\n",
    "\n",
    "La media móvil refleja la tendencia del flujo ascendente de pasajeros.\n",
    "</div>"
   ]
  },
  {
   "cell_type": "code",
   "execution_count": 66,
   "metadata": {},
   "outputs": [
    {
     "data": {
      "application/vnd.plotly.v1+json": {
       "config": {
        "plotlyServerURL": "https://plot.ly"
       },
       "data": [
        {
         "hovertemplate": "Group=US<br>Mes=%{x}<br>Pasajeros=%{y}<extra></extra>",
         "legendgroup": "US",
         "line": {
          "color": "#636efa",
          "dash": "solid"
         },
         "marker": {
          "symbol": "circle"
         },
         "mode": "lines",
         "name": "US",
         "orientation": "v",
         "showlegend": true,
         "type": "scatter",
         "x": [
          "2005-07-01",
          "2005-08-01",
          "2005-09-01",
          "2005-10-01",
          "2005-11-01",
          "2005-12-01",
          "2006-01-01",
          "2006-02-01",
          "2006-03-01",
          "2006-04-01",
          "2006-05-01",
          "2006-06-01",
          "2006-07-01",
          "2006-08-01",
          "2006-09-01",
          "2006-10-01",
          "2006-11-01",
          "2006-12-01",
          "2007-01-01",
          "2007-02-01",
          "2007-03-01",
          "2007-04-01",
          "2007-05-01",
          "2007-06-01",
          "2007-07-01",
          "2007-08-01",
          "2007-09-01",
          "2007-10-01",
          "2007-11-01",
          "2007-12-01",
          "2008-01-01",
          "2008-02-01",
          "2008-03-01",
          "2008-04-01",
          "2008-05-01",
          "2008-06-01",
          "2008-07-01",
          "2008-08-01",
          "2008-09-01",
          "2008-10-01",
          "2008-11-01",
          "2008-12-01",
          "2009-01-01",
          "2009-02-01",
          "2009-03-01",
          "2009-04-01",
          "2009-05-01",
          "2009-06-01",
          "2009-07-01",
          "2009-08-01",
          "2009-09-01",
          "2009-10-01",
          "2009-11-01",
          "2009-12-01",
          "2010-01-01",
          "2010-02-01",
          "2010-03-01",
          "2010-04-01",
          "2010-05-01",
          "2010-06-01",
          "2010-07-01",
          "2010-08-01",
          "2010-09-01",
          "2010-10-01",
          "2010-11-01",
          "2010-12-01",
          "2011-01-01",
          "2011-02-01",
          "2011-03-01",
          "2011-04-01",
          "2011-05-01",
          "2011-06-01",
          "2011-07-01",
          "2011-08-01",
          "2011-09-01",
          "2011-10-01",
          "2011-11-01",
          "2011-12-01",
          "2012-01-01",
          "2012-02-01",
          "2012-03-01",
          "2012-04-01",
          "2012-05-01",
          "2012-06-01",
          "2012-07-01",
          "2012-08-01",
          "2012-09-01",
          "2012-10-01",
          "2012-11-01",
          "2012-12-01",
          "2013-01-01",
          "2013-02-01",
          "2013-03-01",
          "2013-04-01",
          "2013-05-01",
          "2013-06-01",
          "2013-07-01",
          "2013-08-01",
          "2013-09-01",
          "2013-10-01",
          "2013-11-01",
          "2013-12-01",
          "2014-01-01",
          "2014-02-01",
          "2014-03-01",
          "2014-04-01",
          "2014-05-01",
          "2014-06-01",
          "2014-07-01",
          "2014-08-01",
          "2014-09-01",
          "2014-10-01",
          "2014-11-01",
          "2014-12-01",
          "2015-01-01",
          "2015-02-01",
          "2015-03-01",
          "2015-04-01",
          "2015-05-01",
          "2015-06-01",
          "2015-07-01",
          "2015-08-01",
          "2015-09-01",
          "2015-10-01",
          "2015-11-01",
          "2015-12-01",
          "2016-01-01",
          "2016-02-01",
          "2016-03-01"
         ],
         "xaxis": "x",
         "y": [
          2446383,
          2425779,
          2084932,
          2113786,
          2013012,
          2021058,
          1793241,
          1669909,
          2041141,
          2071464,
          2107849,
          2297655,
          2402220,
          2342402,
          2042665,
          2134115,
          1998531,
          1994904,
          1806843,
          1702564,
          2098145,
          2147471,
          2298610,
          2464590,
          2526952,
          2593287,
          2223191,
          2378821,
          2220286,
          2151165,
          1925688,
          1946469,
          2354348,
          2308967,
          2525817,
          2630625,
          2745174,
          2749642,
          2297635,
          2415154,
          2132682,
          2267912,
          1976156,
          1829717,
          2287282,
          2340331,
          2492283,
          2660596,
          2828183,
          2822674,
          2475174,
          2566002,
          2365500,
          2411920,
          2137854,
          1960013,
          2441284,
          2470685,
          2610604,
          2775476,
          2862988,
          2891622,
          2582234,
          2721180,
          2510920,
          2481348,
          2194288,
          2032405,
          2451037,
          2491223,
          2739522,
          2923439,
          3046246,
          3038088,
          2786215,
          2834687,
          2681818,
          2728200,
          2496461,
          2387079,
          2767513,
          2804829,
          2959366,
          3191393,
          3341022,
          3407459,
          2993321,
          3038854,
          2792964,
          2716957,
          2502478,
          2355901,
          2866631,
          2858253,
          3053483,
          3219816,
          3224420,
          3366146,
          2925663,
          3088602,
          2763931,
          3041626,
          2670987,
          2411045,
          2988970,
          3079543,
          3215729,
          3342561,
          3481832,
          3495073,
          3043398,
          3216643,
          2897289,
          3042151,
          2743426,
          2528946,
          3158906,
          3156666,
          3358069,
          3488907,
          3663078,
          3660313,
          3248068,
          3422573,
          3179364,
          3214685,
          2833502,
          2746235,
          3228232
         ],
         "yaxis": "y"
        },
        {
         "hovertemplate": "Group=US rolling 12<br>Mes=%{x}<br>Pasajeros=%{y}<extra></extra>",
         "legendgroup": "US rolling 12",
         "line": {
          "color": "#EF553B",
          "dash": "solid"
         },
         "marker": {
          "symbol": "circle"
         },
         "mode": "lines",
         "name": "US rolling 12",
         "orientation": "v",
         "showlegend": true,
         "type": "scatter",
         "x": [
          "2005-07-01",
          "2005-08-01",
          "2005-09-01",
          "2005-10-01",
          "2005-11-01",
          "2005-12-01",
          "2006-01-01",
          "2006-02-01",
          "2006-03-01",
          "2006-04-01",
          "2006-05-01",
          "2006-06-01",
          "2006-07-01",
          "2006-08-01",
          "2006-09-01",
          "2006-10-01",
          "2006-11-01",
          "2006-12-01",
          "2007-01-01",
          "2007-02-01",
          "2007-03-01",
          "2007-04-01",
          "2007-05-01",
          "2007-06-01",
          "2007-07-01",
          "2007-08-01",
          "2007-09-01",
          "2007-10-01",
          "2007-11-01",
          "2007-12-01",
          "2008-01-01",
          "2008-02-01",
          "2008-03-01",
          "2008-04-01",
          "2008-05-01",
          "2008-06-01",
          "2008-07-01",
          "2008-08-01",
          "2008-09-01",
          "2008-10-01",
          "2008-11-01",
          "2008-12-01",
          "2009-01-01",
          "2009-02-01",
          "2009-03-01",
          "2009-04-01",
          "2009-05-01",
          "2009-06-01",
          "2009-07-01",
          "2009-08-01",
          "2009-09-01",
          "2009-10-01",
          "2009-11-01",
          "2009-12-01",
          "2010-01-01",
          "2010-02-01",
          "2010-03-01",
          "2010-04-01",
          "2010-05-01",
          "2010-06-01",
          "2010-07-01",
          "2010-08-01",
          "2010-09-01",
          "2010-10-01",
          "2010-11-01",
          "2010-12-01",
          "2011-01-01",
          "2011-02-01",
          "2011-03-01",
          "2011-04-01",
          "2011-05-01",
          "2011-06-01",
          "2011-07-01",
          "2011-08-01",
          "2011-09-01",
          "2011-10-01",
          "2011-11-01",
          "2011-12-01",
          "2012-01-01",
          "2012-02-01",
          "2012-03-01",
          "2012-04-01",
          "2012-05-01",
          "2012-06-01",
          "2012-07-01",
          "2012-08-01",
          "2012-09-01",
          "2012-10-01",
          "2012-11-01",
          "2012-12-01",
          "2013-01-01",
          "2013-02-01",
          "2013-03-01",
          "2013-04-01",
          "2013-05-01",
          "2013-06-01",
          "2013-07-01",
          "2013-08-01",
          "2013-09-01",
          "2013-10-01",
          "2013-11-01",
          "2013-12-01",
          "2014-01-01",
          "2014-02-01",
          "2014-03-01",
          "2014-04-01",
          "2014-05-01",
          "2014-06-01",
          "2014-07-01",
          "2014-08-01",
          "2014-09-01",
          "2014-10-01",
          "2014-11-01",
          "2014-12-01",
          "2015-01-01",
          "2015-02-01",
          "2015-03-01",
          "2015-04-01",
          "2015-05-01",
          "2015-06-01",
          "2015-07-01",
          "2015-08-01",
          "2015-09-01",
          "2015-10-01",
          "2015-11-01",
          "2015-12-01",
          "2016-01-01",
          "2016-02-01",
          "2016-03-01"
         ],
         "xaxis": "x",
         "y": [
          null,
          null,
          null,
          null,
          null,
          null,
          2090517.4166666667,
          2086837.1666666667,
          2079889.0833333333,
          2076366.8333333333,
          2078060.9166666667,
          2076854.1666666667,
          2074674.6666666667,
          2075808.1666666667,
          2078529.4166666667,
          2083279.75,
          2089613.6666666667,
          2105510.4166666665,
          2119421.6666666665,
          2129816,
          2150723.0833333335,
          2165766.9166666665,
          2186159.0833333335,
          2204638.6666666665,
          2217660.4166666665,
          2227564.1666666665,
          2247889.5833333335,
          2269239.8333333335,
          2282697.8333333335,
          2301631.75,
          2315468,
          2333653.1666666665,
          2346682.75,
          2352886.4166666665,
          2355914.1666666665,
          2348613.8333333335,
          2358342.75,
          2362548.4166666665,
          2352819.0833333335,
          2347230.25,
          2349843.9166666665,
          2347049.4166666665,
          2349547,
          2356464.4166666665,
          2362550.4166666665,
          2377345.3333333335,
          2389916,
          2409317.5,
          2421318.1666666665,
          2434793,
          2445651,
          2458484.5,
          2469347.3333333335,
          2479207.4166666665,
          2488780.75,
          2491681.1666666665,
          2497426.8333333335,
          2506348.5,
          2519280,
          2531398.3333333335,
          2537184,
          2541886.8333333335,
          2547919.5,
          2548732.25,
          2550443.75,
          2561186.9166666665,
          2573517.1666666665,
          2588788.6666666665,
          2600994.1666666665,
          2617992.5833333335,
          2627451.5,
          2641693,
          2662264,
          2687445.0833333335,
          2717001.25,
          2743374.25,
          2769508.0833333335,
          2787828.4166666665,
          2810157.9166666665,
          2834722.5833333335,
          2865503.5,
          2882762.3333333335,
          2899776.25,
          2909038.4166666665,
          2908101.5,
          2908602.9166666665,
          2906004.75,
          2914264.5833333335,
          2918716.5833333335,
          2926559.6666666665,
          2928928.25,
          2919211.4166666665,
          2915768.6666666665,
          2910130.5,
          2914276.1666666665,
          2911856.75,
          2938912.5,
          2952954.9166666665,
          2957550.25,
          2967745.1666666665,
          2986186,
          2999706.5,
          3009935.25,
          3031386.25,
          3042130.1666666665,
          3051941.4166666665,
          3062611.5,
          3073724.6666666665,
          3073768.4166666665,
          3079805,
          3089630.0833333335,
          3103791.4166666665,
          3110218.3333333335,
          3122080,
          3134275.5,
          3149379.3333333335,
          3163149.3333333335,
          3180205.1666666665,
          3197366,
          3220872.25,
          3235250.0833333335,
          3242756.4166666665,
          3260863.8333333335,
          3266641,
          null,
          null,
          null,
          null,
          null
         ],
         "yaxis": "y"
        }
       ],
       "layout": {
        "height": 750,
        "legend": {
         "title": {
          "text": "Group"
         },
         "tracegroupgap": 0
        },
        "plot_bgcolor": "#F9FAFF",
        "template": {
         "data": {
          "bar": [
           {
            "error_x": {
             "color": "#2a3f5f"
            },
            "error_y": {
             "color": "#2a3f5f"
            },
            "marker": {
             "line": {
              "color": "#E5ECF6",
              "width": 0.5
             },
             "pattern": {
              "fillmode": "overlay",
              "size": 10,
              "solidity": 0.2
             }
            },
            "type": "bar"
           }
          ],
          "barpolar": [
           {
            "marker": {
             "line": {
              "color": "#E5ECF6",
              "width": 0.5
             },
             "pattern": {
              "fillmode": "overlay",
              "size": 10,
              "solidity": 0.2
             }
            },
            "type": "barpolar"
           }
          ],
          "carpet": [
           {
            "aaxis": {
             "endlinecolor": "#2a3f5f",
             "gridcolor": "white",
             "linecolor": "white",
             "minorgridcolor": "white",
             "startlinecolor": "#2a3f5f"
            },
            "baxis": {
             "endlinecolor": "#2a3f5f",
             "gridcolor": "white",
             "linecolor": "white",
             "minorgridcolor": "white",
             "startlinecolor": "#2a3f5f"
            },
            "type": "carpet"
           }
          ],
          "choropleth": [
           {
            "colorbar": {
             "outlinewidth": 0,
             "ticks": ""
            },
            "type": "choropleth"
           }
          ],
          "contour": [
           {
            "colorbar": {
             "outlinewidth": 0,
             "ticks": ""
            },
            "colorscale": [
             [
              0,
              "#0d0887"
             ],
             [
              0.1111111111111111,
              "#46039f"
             ],
             [
              0.2222222222222222,
              "#7201a8"
             ],
             [
              0.3333333333333333,
              "#9c179e"
             ],
             [
              0.4444444444444444,
              "#bd3786"
             ],
             [
              0.5555555555555556,
              "#d8576b"
             ],
             [
              0.6666666666666666,
              "#ed7953"
             ],
             [
              0.7777777777777778,
              "#fb9f3a"
             ],
             [
              0.8888888888888888,
              "#fdca26"
             ],
             [
              1,
              "#f0f921"
             ]
            ],
            "type": "contour"
           }
          ],
          "contourcarpet": [
           {
            "colorbar": {
             "outlinewidth": 0,
             "ticks": ""
            },
            "type": "contourcarpet"
           }
          ],
          "heatmap": [
           {
            "colorbar": {
             "outlinewidth": 0,
             "ticks": ""
            },
            "colorscale": [
             [
              0,
              "#0d0887"
             ],
             [
              0.1111111111111111,
              "#46039f"
             ],
             [
              0.2222222222222222,
              "#7201a8"
             ],
             [
              0.3333333333333333,
              "#9c179e"
             ],
             [
              0.4444444444444444,
              "#bd3786"
             ],
             [
              0.5555555555555556,
              "#d8576b"
             ],
             [
              0.6666666666666666,
              "#ed7953"
             ],
             [
              0.7777777777777778,
              "#fb9f3a"
             ],
             [
              0.8888888888888888,
              "#fdca26"
             ],
             [
              1,
              "#f0f921"
             ]
            ],
            "type": "heatmap"
           }
          ],
          "heatmapgl": [
           {
            "colorbar": {
             "outlinewidth": 0,
             "ticks": ""
            },
            "colorscale": [
             [
              0,
              "#0d0887"
             ],
             [
              0.1111111111111111,
              "#46039f"
             ],
             [
              0.2222222222222222,
              "#7201a8"
             ],
             [
              0.3333333333333333,
              "#9c179e"
             ],
             [
              0.4444444444444444,
              "#bd3786"
             ],
             [
              0.5555555555555556,
              "#d8576b"
             ],
             [
              0.6666666666666666,
              "#ed7953"
             ],
             [
              0.7777777777777778,
              "#fb9f3a"
             ],
             [
              0.8888888888888888,
              "#fdca26"
             ],
             [
              1,
              "#f0f921"
             ]
            ],
            "type": "heatmapgl"
           }
          ],
          "histogram": [
           {
            "marker": {
             "pattern": {
              "fillmode": "overlay",
              "size": 10,
              "solidity": 0.2
             }
            },
            "type": "histogram"
           }
          ],
          "histogram2d": [
           {
            "colorbar": {
             "outlinewidth": 0,
             "ticks": ""
            },
            "colorscale": [
             [
              0,
              "#0d0887"
             ],
             [
              0.1111111111111111,
              "#46039f"
             ],
             [
              0.2222222222222222,
              "#7201a8"
             ],
             [
              0.3333333333333333,
              "#9c179e"
             ],
             [
              0.4444444444444444,
              "#bd3786"
             ],
             [
              0.5555555555555556,
              "#d8576b"
             ],
             [
              0.6666666666666666,
              "#ed7953"
             ],
             [
              0.7777777777777778,
              "#fb9f3a"
             ],
             [
              0.8888888888888888,
              "#fdca26"
             ],
             [
              1,
              "#f0f921"
             ]
            ],
            "type": "histogram2d"
           }
          ],
          "histogram2dcontour": [
           {
            "colorbar": {
             "outlinewidth": 0,
             "ticks": ""
            },
            "colorscale": [
             [
              0,
              "#0d0887"
             ],
             [
              0.1111111111111111,
              "#46039f"
             ],
             [
              0.2222222222222222,
              "#7201a8"
             ],
             [
              0.3333333333333333,
              "#9c179e"
             ],
             [
              0.4444444444444444,
              "#bd3786"
             ],
             [
              0.5555555555555556,
              "#d8576b"
             ],
             [
              0.6666666666666666,
              "#ed7953"
             ],
             [
              0.7777777777777778,
              "#fb9f3a"
             ],
             [
              0.8888888888888888,
              "#fdca26"
             ],
             [
              1,
              "#f0f921"
             ]
            ],
            "type": "histogram2dcontour"
           }
          ],
          "mesh3d": [
           {
            "colorbar": {
             "outlinewidth": 0,
             "ticks": ""
            },
            "type": "mesh3d"
           }
          ],
          "parcoords": [
           {
            "line": {
             "colorbar": {
              "outlinewidth": 0,
              "ticks": ""
             }
            },
            "type": "parcoords"
           }
          ],
          "pie": [
           {
            "automargin": true,
            "type": "pie"
           }
          ],
          "scatter": [
           {
            "fillpattern": {
             "fillmode": "overlay",
             "size": 10,
             "solidity": 0.2
            },
            "type": "scatter"
           }
          ],
          "scatter3d": [
           {
            "line": {
             "colorbar": {
              "outlinewidth": 0,
              "ticks": ""
             }
            },
            "marker": {
             "colorbar": {
              "outlinewidth": 0,
              "ticks": ""
             }
            },
            "type": "scatter3d"
           }
          ],
          "scattercarpet": [
           {
            "marker": {
             "colorbar": {
              "outlinewidth": 0,
              "ticks": ""
             }
            },
            "type": "scattercarpet"
           }
          ],
          "scattergeo": [
           {
            "marker": {
             "colorbar": {
              "outlinewidth": 0,
              "ticks": ""
             }
            },
            "type": "scattergeo"
           }
          ],
          "scattergl": [
           {
            "marker": {
             "colorbar": {
              "outlinewidth": 0,
              "ticks": ""
             }
            },
            "type": "scattergl"
           }
          ],
          "scattermapbox": [
           {
            "marker": {
             "colorbar": {
              "outlinewidth": 0,
              "ticks": ""
             }
            },
            "type": "scattermapbox"
           }
          ],
          "scatterpolar": [
           {
            "marker": {
             "colorbar": {
              "outlinewidth": 0,
              "ticks": ""
             }
            },
            "type": "scatterpolar"
           }
          ],
          "scatterpolargl": [
           {
            "marker": {
             "colorbar": {
              "outlinewidth": 0,
              "ticks": ""
             }
            },
            "type": "scatterpolargl"
           }
          ],
          "scatterternary": [
           {
            "marker": {
             "colorbar": {
              "outlinewidth": 0,
              "ticks": ""
             }
            },
            "type": "scatterternary"
           }
          ],
          "surface": [
           {
            "colorbar": {
             "outlinewidth": 0,
             "ticks": ""
            },
            "colorscale": [
             [
              0,
              "#0d0887"
             ],
             [
              0.1111111111111111,
              "#46039f"
             ],
             [
              0.2222222222222222,
              "#7201a8"
             ],
             [
              0.3333333333333333,
              "#9c179e"
             ],
             [
              0.4444444444444444,
              "#bd3786"
             ],
             [
              0.5555555555555556,
              "#d8576b"
             ],
             [
              0.6666666666666666,
              "#ed7953"
             ],
             [
              0.7777777777777778,
              "#fb9f3a"
             ],
             [
              0.8888888888888888,
              "#fdca26"
             ],
             [
              1,
              "#f0f921"
             ]
            ],
            "type": "surface"
           }
          ],
          "table": [
           {
            "cells": {
             "fill": {
              "color": "#EBF0F8"
             },
             "line": {
              "color": "white"
             }
            },
            "header": {
             "fill": {
              "color": "#C8D4E3"
             },
             "line": {
              "color": "white"
             }
            },
            "type": "table"
           }
          ]
         },
         "layout": {
          "annotationdefaults": {
           "arrowcolor": "#2a3f5f",
           "arrowhead": 0,
           "arrowwidth": 1
          },
          "autotypenumbers": "strict",
          "coloraxis": {
           "colorbar": {
            "outlinewidth": 0,
            "ticks": ""
           }
          },
          "colorscale": {
           "diverging": [
            [
             0,
             "#8e0152"
            ],
            [
             0.1,
             "#c51b7d"
            ],
            [
             0.2,
             "#de77ae"
            ],
            [
             0.3,
             "#f1b6da"
            ],
            [
             0.4,
             "#fde0ef"
            ],
            [
             0.5,
             "#f7f7f7"
            ],
            [
             0.6,
             "#e6f5d0"
            ],
            [
             0.7,
             "#b8e186"
            ],
            [
             0.8,
             "#7fbc41"
            ],
            [
             0.9,
             "#4d9221"
            ],
            [
             1,
             "#276419"
            ]
           ],
           "sequential": [
            [
             0,
             "#0d0887"
            ],
            [
             0.1111111111111111,
             "#46039f"
            ],
            [
             0.2222222222222222,
             "#7201a8"
            ],
            [
             0.3333333333333333,
             "#9c179e"
            ],
            [
             0.4444444444444444,
             "#bd3786"
            ],
            [
             0.5555555555555556,
             "#d8576b"
            ],
            [
             0.6666666666666666,
             "#ed7953"
            ],
            [
             0.7777777777777778,
             "#fb9f3a"
            ],
            [
             0.8888888888888888,
             "#fdca26"
            ],
            [
             1,
             "#f0f921"
            ]
           ],
           "sequentialminus": [
            [
             0,
             "#0d0887"
            ],
            [
             0.1111111111111111,
             "#46039f"
            ],
            [
             0.2222222222222222,
             "#7201a8"
            ],
            [
             0.3333333333333333,
             "#9c179e"
            ],
            [
             0.4444444444444444,
             "#bd3786"
            ],
            [
             0.5555555555555556,
             "#d8576b"
            ],
            [
             0.6666666666666666,
             "#ed7953"
            ],
            [
             0.7777777777777778,
             "#fb9f3a"
            ],
            [
             0.8888888888888888,
             "#fdca26"
            ],
            [
             1,
             "#f0f921"
            ]
           ]
          },
          "colorway": [
           "#636efa",
           "#EF553B",
           "#00cc96",
           "#ab63fa",
           "#FFA15A",
           "#19d3f3",
           "#FF6692",
           "#B6E880",
           "#FF97FF",
           "#FECB52"
          ],
          "font": {
           "color": "#2a3f5f"
          },
          "geo": {
           "bgcolor": "white",
           "lakecolor": "white",
           "landcolor": "#E5ECF6",
           "showlakes": true,
           "showland": true,
           "subunitcolor": "white"
          },
          "hoverlabel": {
           "align": "left"
          },
          "hovermode": "closest",
          "mapbox": {
           "style": "light"
          },
          "paper_bgcolor": "white",
          "plot_bgcolor": "#E5ECF6",
          "polar": {
           "angularaxis": {
            "gridcolor": "white",
            "linecolor": "white",
            "ticks": ""
           },
           "bgcolor": "#E5ECF6",
           "radialaxis": {
            "gridcolor": "white",
            "linecolor": "white",
            "ticks": ""
           }
          },
          "scene": {
           "xaxis": {
            "backgroundcolor": "#E5ECF6",
            "gridcolor": "white",
            "gridwidth": 2,
            "linecolor": "white",
            "showbackground": true,
            "ticks": "",
            "zerolinecolor": "white"
           },
           "yaxis": {
            "backgroundcolor": "#E5ECF6",
            "gridcolor": "white",
            "gridwidth": 2,
            "linecolor": "white",
            "showbackground": true,
            "ticks": "",
            "zerolinecolor": "white"
           },
           "zaxis": {
            "backgroundcolor": "#E5ECF6",
            "gridcolor": "white",
            "gridwidth": 2,
            "linecolor": "white",
            "showbackground": true,
            "ticks": "",
            "zerolinecolor": "white"
           }
          },
          "shapedefaults": {
           "line": {
            "color": "#2a3f5f"
           }
          },
          "ternary": {
           "aaxis": {
            "gridcolor": "white",
            "linecolor": "white",
            "ticks": ""
           },
           "baxis": {
            "gridcolor": "white",
            "linecolor": "white",
            "ticks": ""
           },
           "bgcolor": "#E5ECF6",
           "caxis": {
            "gridcolor": "white",
            "linecolor": "white",
            "ticks": ""
           }
          },
          "title": {
           "x": 0.05
          },
          "xaxis": {
           "automargin": true,
           "gridcolor": "white",
           "linecolor": "white",
           "ticks": "",
           "title": {
            "standoff": 15
           },
           "zerolinecolor": "white",
           "zerolinewidth": 2
          },
          "yaxis": {
           "automargin": true,
           "gridcolor": "white",
           "linecolor": "white",
           "ticks": "",
           "title": {
            "standoff": 15
           },
           "zerolinecolor": "white",
           "zerolinewidth": 2
          }
         }
        },
        "title": {
         "font": {
          "size": 20
         },
         "text": "Pasajeros por mes, US GEO Region(s) y todas las Operating Airline(s)",
         "x": 0.5
        },
        "width": 1250,
        "xaxis": {
         "anchor": "y",
         "domain": [
          0,
          1
         ],
         "title": {
          "font": {
           "size": 15
          },
          "text": "Mes"
         }
        },
        "yaxis": {
         "anchor": "x",
         "domain": [
          0,
          1
         ],
         "title": {
          "font": {
           "size": 15
          },
          "text": "Pasajeros"
         }
        }
       }
      }
     },
     "metadata": {},
     "output_type": "display_data"
    }
   ],
   "source": [
    "# Comportamiento del flujo de pasajeros en US y el promedio movil\n",
    "df_3_us = process_passengers_month(df_1, \"GEO Region\", ['US',])\n",
    "plot_passengers_month(df_3_us, \"GEO Region\", ['US',], roll_mean='Y')\n"
   ]
  },
  {
   "cell_type": "markdown",
   "metadata": {},
   "source": [
    "![](newplot17.png)"
   ]
  },
  {
   "cell_type": "markdown",
   "metadata": {},
   "source": [
    "<div style=\"letter-spacing: 0.5px; text-align: justify; font-size: 14px;\">\n",
    ". Total de pasajeros por mes en todas las regiones y aerolíneas, excepto US. \n",
    "</div>"
   ]
  },
  {
   "cell_type": "markdown",
   "metadata": {},
   "source": [
    "<div style=\"letter-spacing: 0.5px; text-align: justify; font-size: 12px;\">\n",
    "El flujo de pasajeros por región es bastante dispar. Asia, Europa y Canadá concentran la mayor cantidad de pasajeros sin incluir Estados Unidos. En el resto de regiones las cifras resultan mínimas en comparación con las anteriores, aunque Mexico alcanza unos picos de mas de 100 mil pasajeros en julio del 2014 y julio y diciembre del 2015. \n",
    "En Australia/Oceania, Middle East, Central America y South America, la media móvil casi coincide con el total pasajeros, lo cual indica que existe poca variación en el flujo de pasajeros en esas rutas.\n",
    "</div>"
   ]
  },
  {
   "cell_type": "code",
   "execution_count": 67,
   "metadata": {},
   "outputs": [
    {
     "data": {
      "application/vnd.plotly.v1+json": {
       "config": {
        "plotlyServerURL": "https://plot.ly"
       },
       "data": [
        {
         "hovertemplate": "Group=Asia<br>Mes=%{x}<br>Pasajeros=%{y}<extra></extra>",
         "legendgroup": "Asia",
         "line": {
          "color": "#636efa",
          "dash": "solid"
         },
         "marker": {
          "symbol": "circle"
         },
         "mode": "lines",
         "name": "Asia",
         "showlegend": true,
         "type": "scattergl",
         "x": [
          "2005-07-01",
          "2005-08-01",
          "2005-09-01",
          "2005-10-01",
          "2005-11-01",
          "2005-12-01",
          "2006-01-01",
          "2006-02-01",
          "2006-03-01",
          "2006-04-01",
          "2006-05-01",
          "2006-06-01",
          "2006-07-01",
          "2006-08-01",
          "2006-09-01",
          "2006-10-01",
          "2006-11-01",
          "2006-12-01",
          "2007-01-01",
          "2007-02-01",
          "2007-03-01",
          "2007-04-01",
          "2007-05-01",
          "2007-06-01",
          "2007-07-01",
          "2007-08-01",
          "2007-09-01",
          "2007-10-01",
          "2007-11-01",
          "2007-12-01",
          "2008-01-01",
          "2008-02-01",
          "2008-03-01",
          "2008-04-01",
          "2008-05-01",
          "2008-06-01",
          "2008-07-01",
          "2008-08-01",
          "2008-09-01",
          "2008-10-01",
          "2008-11-01",
          "2008-12-01",
          "2009-01-01",
          "2009-02-01",
          "2009-03-01",
          "2009-04-01",
          "2009-05-01",
          "2009-06-01",
          "2009-07-01",
          "2009-08-01",
          "2009-09-01",
          "2009-10-01",
          "2009-11-01",
          "2009-12-01",
          "2010-01-01",
          "2010-02-01",
          "2010-03-01",
          "2010-04-01",
          "2010-05-01",
          "2010-06-01",
          "2010-07-01",
          "2010-08-01",
          "2010-09-01",
          "2010-10-01",
          "2010-11-01",
          "2010-12-01",
          "2011-01-01",
          "2011-02-01",
          "2011-03-01",
          "2011-04-01",
          "2011-05-01",
          "2011-06-01",
          "2011-07-01",
          "2011-08-01",
          "2011-09-01",
          "2011-10-01",
          "2011-11-01",
          "2011-12-01",
          "2012-01-01",
          "2012-02-01",
          "2012-03-01",
          "2012-04-01",
          "2012-05-01",
          "2012-06-01",
          "2012-07-01",
          "2012-08-01",
          "2012-09-01",
          "2012-10-01",
          "2012-11-01",
          "2012-12-01",
          "2013-01-01",
          "2013-02-01",
          "2013-03-01",
          "2013-04-01",
          "2013-05-01",
          "2013-06-01",
          "2013-07-01",
          "2013-08-01",
          "2013-09-01",
          "2013-10-01",
          "2013-11-01",
          "2013-12-01",
          "2014-01-01",
          "2014-02-01",
          "2014-03-01",
          "2014-04-01",
          "2014-05-01",
          "2014-06-01",
          "2014-07-01",
          "2014-08-01",
          "2014-09-01",
          "2014-10-01",
          "2014-11-01",
          "2014-12-01",
          "2015-01-01",
          "2015-02-01",
          "2015-03-01",
          "2015-04-01",
          "2015-05-01",
          "2015-06-01",
          "2015-07-01",
          "2015-08-01",
          "2015-09-01",
          "2015-10-01",
          "2015-11-01",
          "2015-12-01",
          "2016-01-01",
          "2016-02-01",
          "2016-03-01"
         ],
         "xaxis": "x",
         "y": [
          363467,
          361018,
          300397,
          319816,
          307228,
          325298,
          337328,
          279825,
          329656,
          326775,
          347529,
          363732,
          366890,
          359767,
          310117,
          336711,
          326283,
          335538,
          348352,
          300871,
          359749,
          337435,
          360350,
          379696,
          389657,
          382588,
          337826,
          352981,
          344486,
          360381,
          378295,
          321373,
          379110,
          340038,
          370090,
          386119,
          392930,
          393995,
          310644,
          328000,
          304095,
          330399,
          334914,
          250323,
          293548,
          302984,
          295705,
          324794,
          342411,
          349536,
          299471,
          303930,
          295506,
          322350,
          330027,
          270593,
          319274,
          321783,
          357527,
          372806,
          374474,
          375191,
          335665,
          346513,
          317583,
          328204,
          340501,
          272426,
          310773,
          305320,
          360387,
          359692,
          366783,
          369794,
          320089,
          329130,
          305836,
          333290,
          344470,
          287709,
          319213,
          334370,
          369744,
          380184,
          374297,
          383341,
          331381,
          341710,
          320071,
          341081,
          329796,
          286422,
          333053,
          322439,
          355814,
          375051,
          365287,
          375635,
          317920,
          328172,
          317107,
          348288,
          358787,
          300030,
          338404,
          338007,
          372286,
          378822,
          381099,
          391380,
          338003,
          335915,
          321116,
          357022,
          361057,
          323674,
          365079,
          347335,
          388857,
          394980,
          398966,
          410205,
          344843,
          372453,
          359848,
          393220,
          404603,
          348953,
          380026
         ],
         "yaxis": "y"
        },
        {
         "hovertemplate": "Group=Asia rolling 12<br>Mes=%{x}<br>Pasajeros=%{y}<extra></extra>",
         "legendgroup": "Asia rolling 12",
         "line": {
          "color": "#EF553B",
          "dash": "solid"
         },
         "marker": {
          "symbol": "circle"
         },
         "mode": "lines",
         "name": "Asia rolling 12",
         "showlegend": true,
         "type": "scattergl",
         "x": [
          "2005-07-01",
          "2005-08-01",
          "2005-09-01",
          "2005-10-01",
          "2005-11-01",
          "2005-12-01",
          "2006-01-01",
          "2006-02-01",
          "2006-03-01",
          "2006-04-01",
          "2006-05-01",
          "2006-06-01",
          "2006-07-01",
          "2006-08-01",
          "2006-09-01",
          "2006-10-01",
          "2006-11-01",
          "2006-12-01",
          "2007-01-01",
          "2007-02-01",
          "2007-03-01",
          "2007-04-01",
          "2007-05-01",
          "2007-06-01",
          "2007-07-01",
          "2007-08-01",
          "2007-09-01",
          "2007-10-01",
          "2007-11-01",
          "2007-12-01",
          "2008-01-01",
          "2008-02-01",
          "2008-03-01",
          "2008-04-01",
          "2008-05-01",
          "2008-06-01",
          "2008-07-01",
          "2008-08-01",
          "2008-09-01",
          "2008-10-01",
          "2008-11-01",
          "2008-12-01",
          "2009-01-01",
          "2009-02-01",
          "2009-03-01",
          "2009-04-01",
          "2009-05-01",
          "2009-06-01",
          "2009-07-01",
          "2009-08-01",
          "2009-09-01",
          "2009-10-01",
          "2009-11-01",
          "2009-12-01",
          "2010-01-01",
          "2010-02-01",
          "2010-03-01",
          "2010-04-01",
          "2010-05-01",
          "2010-06-01",
          "2010-07-01",
          "2010-08-01",
          "2010-09-01",
          "2010-10-01",
          "2010-11-01",
          "2010-12-01",
          "2011-01-01",
          "2011-02-01",
          "2011-03-01",
          "2011-04-01",
          "2011-05-01",
          "2011-06-01",
          "2011-07-01",
          "2011-08-01",
          "2011-09-01",
          "2011-10-01",
          "2011-11-01",
          "2011-12-01",
          "2012-01-01",
          "2012-02-01",
          "2012-03-01",
          "2012-04-01",
          "2012-05-01",
          "2012-06-01",
          "2012-07-01",
          "2012-08-01",
          "2012-09-01",
          "2012-10-01",
          "2012-11-01",
          "2012-12-01",
          "2013-01-01",
          "2013-02-01",
          "2013-03-01",
          "2013-04-01",
          "2013-05-01",
          "2013-06-01",
          "2013-07-01",
          "2013-08-01",
          "2013-09-01",
          "2013-10-01",
          "2013-11-01",
          "2013-12-01",
          "2014-01-01",
          "2014-02-01",
          "2014-03-01",
          "2014-04-01",
          "2014-05-01",
          "2014-06-01",
          "2014-07-01",
          "2014-08-01",
          "2014-09-01",
          "2014-10-01",
          "2014-11-01",
          "2014-12-01",
          "2015-01-01",
          "2015-02-01",
          "2015-03-01",
          "2015-04-01",
          "2015-05-01",
          "2015-06-01",
          "2015-07-01",
          "2015-08-01",
          "2015-09-01",
          "2015-10-01",
          "2015-11-01",
          "2015-12-01",
          "2016-01-01",
          "2016-02-01",
          "2016-03-01"
         ],
         "xaxis": "x",
         "y": [
          null,
          null,
          null,
          null,
          null,
          null,
          330172.4166666667,
          330457.6666666667,
          330353.4166666667,
          331163.4166666667,
          332571.3333333333,
          334159.25,
          335012.5833333333,
          335931.25,
          337685.0833333333,
          340192.8333333333,
          341081.1666666667,
          342149.5833333333,
          343479.9166666667,
          345377.1666666667,
          347278.9166666667,
          349588,
          350943.8333333333,
          352460.75,
          354531,
          357026.25,
          358734.75,
          360348.1666666667,
          360565.0833333333,
          361376.75,
          361912,
          362184.75,
          363135.3333333333,
          360870.1666666667,
          358788.4166666667,
          355422.5,
          352924,
          349308.9166666667,
          343388.0833333333,
          336257.9166666667,
          333170.0833333333,
          326971.3333333333,
          321860.9166666667,
          317651,
          313946.0833333333,
          313015,
          311009.1666666667,
          310293.4166666667,
          309622.6666666667,
          309215.4166666667,
          310904.5833333333,
          313048.4166666667,
          314615,
          319766.8333333333,
          323767.8333333333,
          326439.75,
          328577.6666666667,
          331593.8333333333,
          335142.4166666667,
          336982.1666666667,
          337470,
          338342.8333333333,
          338495.5833333333,
          337787.1666666667,
          336415.25,
          336653.5833333333,
          335560.75,
          334919.8333333333,
          334470.0833333333,
          333172.0833333333,
          331723.5,
          330744.5833333333,
          331168.4166666667,
          331499.1666666667,
          332772.75,
          333476.0833333333,
          335896.9166666667,
          336676.6666666667,
          338384.3333333333,
          339010.5,
          340139.4166666667,
          341080.4166666667,
          342128.75,
          343315,
          343964.25,
          342741.4166666667,
          342634.1666666667,
          343787.5,
          342793.25,
          341632.4166666667,
          341204.6666666667,
          340453.8333333333,
          339811.6666666667,
          338689.9166666667,
          337561.75,
          337314.75,
          337915.3333333333,
          340331.25,
          341465.25,
          341911.1666666667,
          343208.5,
          344581.1666666667,
          344895.4166666667,
          346213.0833333333,
          347525.1666666667,
          349198.75,
          349844,
          350178.0833333333,
          350905.9166666667,
          351095.0833333333,
          353065.4166666667,
          355288.3333333333,
          356065.6666666667,
          357446.5833333333,
          358793.0833333333,
          360282,
          361850.75,
          362420.75,
          365465.5833333333,
          368693.25,
          371709.75,
          375338.5833333333,
          377445.1666666667,
          378690.75,
          null,
          null,
          null,
          null,
          null
         ],
         "yaxis": "y"
        },
        {
         "hovertemplate": "Group=Australia / Oceania<br>Mes=%{x}<br>Pasajeros=%{y}<extra></extra>",
         "legendgroup": "Australia / Oceania",
         "line": {
          "color": "#00cc96",
          "dash": "solid"
         },
         "marker": {
          "symbol": "circle"
         },
         "mode": "lines",
         "name": "Australia / Oceania",
         "showlegend": true,
         "type": "scattergl",
         "x": [
          "2005-07-01",
          "2005-08-01",
          "2005-09-01",
          "2005-10-01",
          "2005-11-01",
          "2005-12-01",
          "2006-01-01",
          "2006-02-01",
          "2006-03-01",
          "2006-04-01",
          "2006-05-01",
          "2006-06-01",
          "2006-07-01",
          "2006-08-01",
          "2006-09-01",
          "2006-10-01",
          "2006-11-01",
          "2006-12-01",
          "2007-01-01",
          "2007-02-01",
          "2007-03-01",
          "2007-04-01",
          "2007-05-01",
          "2007-06-01",
          "2007-07-01",
          "2007-08-01",
          "2007-09-01",
          "2007-10-01",
          "2007-11-01",
          "2007-12-01",
          "2008-01-01",
          "2008-02-01",
          "2008-03-01",
          "2008-04-01",
          "2008-05-01",
          "2008-06-01",
          "2008-07-01",
          "2008-08-01",
          "2008-09-01",
          "2008-10-01",
          "2008-11-01",
          "2008-12-01",
          "2009-01-01",
          "2009-02-01",
          "2009-03-01",
          "2009-04-01",
          "2009-05-01",
          "2009-06-01",
          "2009-07-01",
          "2009-08-01",
          "2009-09-01",
          "2009-10-01",
          "2009-11-01",
          "2009-12-01",
          "2010-01-01",
          "2010-02-01",
          "2010-03-01",
          "2010-04-01",
          "2010-05-01",
          "2010-06-01",
          "2010-07-01",
          "2010-08-01",
          "2010-09-01",
          "2010-10-01",
          "2010-11-01",
          "2010-12-01",
          "2011-01-01",
          "2011-02-01",
          "2011-03-01",
          "2011-04-01",
          "2011-05-01",
          "2011-06-01",
          "2011-07-01",
          "2011-08-01",
          "2011-09-01",
          "2011-10-01",
          "2011-11-01",
          "2011-12-01",
          "2012-01-01",
          "2012-02-01",
          "2012-03-01",
          "2012-04-01",
          "2012-05-01",
          "2012-06-01",
          "2012-07-01",
          "2012-08-01",
          "2012-09-01",
          "2012-10-01",
          "2012-11-01",
          "2012-12-01",
          "2013-01-01",
          "2013-02-01",
          "2013-03-01",
          "2013-04-01",
          "2013-05-01",
          "2013-06-01",
          "2013-07-01",
          "2013-08-01",
          "2013-09-01",
          "2013-10-01",
          "2013-11-01",
          "2013-12-01",
          "2014-01-01",
          "2014-02-01",
          "2014-03-01",
          "2014-04-01",
          "2014-05-01",
          "2014-06-01",
          "2014-07-01",
          "2014-08-01",
          "2014-09-01",
          "2014-10-01",
          "2014-11-01",
          "2014-12-01",
          "2015-01-01",
          "2015-02-01",
          "2015-03-01",
          "2015-04-01",
          "2015-05-01",
          "2015-06-01",
          "2015-07-01",
          "2015-08-01",
          "2015-09-01",
          "2015-10-01",
          "2015-11-01",
          "2015-12-01",
          "2016-01-01",
          "2016-02-01",
          "2016-03-01"
         ],
         "xaxis": "x",
         "y": [
          29567,
          28405,
          27186,
          25372,
          26931,
          35135,
          36438,
          29059,
          32297,
          34982,
          31516,
          43293,
          51426,
          43707,
          37491,
          38135,
          37604,
          50131,
          52567,
          37745,
          40712,
          41399,
          37227,
          45749,
          49187,
          45548,
          40719,
          42677,
          39979,
          50322,
          53442,
          42242,
          42932,
          37102,
          36545,
          40341,
          43726,
          40485,
          38990,
          38462,
          36994,
          45526,
          47400,
          35011,
          37164,
          36814,
          36435,
          39984,
          47397,
          40989,
          39426,
          41347,
          38470,
          42144,
          43285,
          33335,
          35839,
          34316,
          32826,
          37559,
          42524,
          38372,
          39918,
          39961,
          38222,
          45297,
          47519,
          38131,
          37812,
          41034,
          31814,
          31686,
          34401,
          28027,
          32845,
          33195,
          28513,
          37885,
          40232,
          30828,
          31691,
          30385,
          29509,
          31670,
          35396,
          32720,
          34955,
          32547,
          31450,
          39139,
          41443,
          32693,
          32805,
          31584,
          32605,
          35869,
          38422,
          37433,
          38482,
          35271,
          34645,
          39967,
          40257,
          33490,
          36423,
          30452,
          32950,
          32537,
          34216,
          31090,
          30671,
          31382,
          29894,
          36877,
          39539,
          34391,
          32929,
          28856,
          29417,
          30415,
          33700,
          29559,
          31280,
          29991,
          29870,
          42494,
          50659,
          41301,
          44321
         ],
         "yaxis": "y"
        },
        {
         "hovertemplate": "Group=Australia / Oceania rolling 12<br>Mes=%{x}<br>Pasajeros=%{y}<extra></extra>",
         "legendgroup": "Australia / Oceania rolling 12",
         "line": {
          "color": "#ab63fa",
          "dash": "solid"
         },
         "marker": {
          "symbol": "circle"
         },
         "mode": "lines",
         "name": "Australia / Oceania rolling 12",
         "showlegend": true,
         "type": "scattergl",
         "x": [
          "2005-07-01",
          "2005-08-01",
          "2005-09-01",
          "2005-10-01",
          "2005-11-01",
          "2005-12-01",
          "2006-01-01",
          "2006-02-01",
          "2006-03-01",
          "2006-04-01",
          "2006-05-01",
          "2006-06-01",
          "2006-07-01",
          "2006-08-01",
          "2006-09-01",
          "2006-10-01",
          "2006-11-01",
          "2006-12-01",
          "2007-01-01",
          "2007-02-01",
          "2007-03-01",
          "2007-04-01",
          "2007-05-01",
          "2007-06-01",
          "2007-07-01",
          "2007-08-01",
          "2007-09-01",
          "2007-10-01",
          "2007-11-01",
          "2007-12-01",
          "2008-01-01",
          "2008-02-01",
          "2008-03-01",
          "2008-04-01",
          "2008-05-01",
          "2008-06-01",
          "2008-07-01",
          "2008-08-01",
          "2008-09-01",
          "2008-10-01",
          "2008-11-01",
          "2008-12-01",
          "2009-01-01",
          "2009-02-01",
          "2009-03-01",
          "2009-04-01",
          "2009-05-01",
          "2009-06-01",
          "2009-07-01",
          "2009-08-01",
          "2009-09-01",
          "2009-10-01",
          "2009-11-01",
          "2009-12-01",
          "2010-01-01",
          "2010-02-01",
          "2010-03-01",
          "2010-04-01",
          "2010-05-01",
          "2010-06-01",
          "2010-07-01",
          "2010-08-01",
          "2010-09-01",
          "2010-10-01",
          "2010-11-01",
          "2010-12-01",
          "2011-01-01",
          "2011-02-01",
          "2011-03-01",
          "2011-04-01",
          "2011-05-01",
          "2011-06-01",
          "2011-07-01",
          "2011-08-01",
          "2011-09-01",
          "2011-10-01",
          "2011-11-01",
          "2011-12-01",
          "2012-01-01",
          "2012-02-01",
          "2012-03-01",
          "2012-04-01",
          "2012-05-01",
          "2012-06-01",
          "2012-07-01",
          "2012-08-01",
          "2012-09-01",
          "2012-10-01",
          "2012-11-01",
          "2012-12-01",
          "2013-01-01",
          "2013-02-01",
          "2013-03-01",
          "2013-04-01",
          "2013-05-01",
          "2013-06-01",
          "2013-07-01",
          "2013-08-01",
          "2013-09-01",
          "2013-10-01",
          "2013-11-01",
          "2013-12-01",
          "2014-01-01",
          "2014-02-01",
          "2014-03-01",
          "2014-04-01",
          "2014-05-01",
          "2014-06-01",
          "2014-07-01",
          "2014-08-01",
          "2014-09-01",
          "2014-10-01",
          "2014-11-01",
          "2014-12-01",
          "2015-01-01",
          "2015-02-01",
          "2015-03-01",
          "2015-04-01",
          "2015-05-01",
          "2015-06-01",
          "2015-07-01",
          "2015-08-01",
          "2015-09-01",
          "2015-10-01",
          "2015-11-01",
          "2015-12-01",
          "2016-01-01",
          "2016-02-01",
          "2016-03-01"
         ],
         "xaxis": "x",
         "y": [
          null,
          null,
          null,
          null,
          null,
          null,
          31681.75,
          33503.333333333336,
          34778.5,
          35637.25,
          36700.833333333336,
          37590.25,
          38839.916666666664,
          40184,
          40907.833333333336,
          41609.083333333336,
          42143.833333333336,
          42619.75,
          42824.416666666664,
          42637.833333333336,
          42791.25,
          43060.25,
          43438.75,
          43636.666666666664,
          43652.583333333336,
          43725.5,
          44100.25,
          44285.25,
          43927.166666666664,
          43870.333333333336,
          43419.666666666664,
          42964.583333333336,
          42542.666666666664,
          42398.583333333336,
          42047.333333333336,
          41798.583333333336,
          41398.916666666664,
          40895.416666666664,
          40292.833333333336,
          39812.166666666664,
          39788.166666666664,
          39779,
          39749.25,
          40055.166666666664,
          40097.166666666664,
          40133.5,
          40373.916666666664,
          40496.916666666664,
          40215.083333333336,
          39872.166666666664,
          39732.5,
          39622.083333333336,
          39413.916666666664,
          39113.166666666664,
          38911.083333333336,
          38505,
          38286.916666666664,
          38327.916666666664,
          38212.416666666664,
          38191.75,
          38454.5,
          38807.333333333336,
          39207,
          39371.416666666664,
          39931.25,
          39846.916666666664,
          39357.5,
          38680.583333333336,
          37818.5,
          37229.083333333336,
          36665.25,
          35856.166666666664,
          35238.5,
          34631.25,
          34022.666666666664,
          33512.583333333336,
          32625.166666666668,
          32433.083333333332,
          32431.75,
          32514.666666666668,
          32905.75,
          33081.583333333336,
          33027.583333333336,
          33272.333333333336,
          33376.833333333336,
          33477.75,
          33633.166666666664,
          33726,
          33825.916666666664,
          34083.916666666664,
          34433.833333333336,
          34686,
          35078.75,
          35372.666666666664,
          35599.666666666664,
          35865.916666666664,
          35934.916666666664,
          35836.083333333336,
          35902.5,
          36204,
          36109.666666666664,
          36138.416666666664,
          35860.75,
          35510.25,
          34981.666666666664,
          34330.75,
          34006.666666666664,
          33610.75,
          33353.25,
          33293.416666666664,
          33368.5,
          33077.333333333336,
          32944.333333333336,
          32649.916666666668,
          32473.083333333332,
          32430.083333333332,
          32302.5,
          32353.25,
          32237.333333333332,
          32235.333333333332,
          32703.416666666668,
          33630.083333333336,
          34205.916666666664,
          35155.25,
          null,
          null,
          null,
          null,
          null
         ],
         "yaxis": "y"
        },
        {
         "hovertemplate": "Group=Canada<br>Mes=%{x}<br>Pasajeros=%{y}<extra></extra>",
         "legendgroup": "Canada",
         "line": {
          "color": "#FFA15A",
          "dash": "solid"
         },
         "marker": {
          "symbol": "circle"
         },
         "mode": "lines",
         "name": "Canada",
         "showlegend": true,
         "type": "scattergl",
         "x": [
          "2005-07-01",
          "2005-08-01",
          "2005-09-01",
          "2005-10-01",
          "2005-11-01",
          "2005-12-01",
          "2006-01-01",
          "2006-02-01",
          "2006-03-01",
          "2006-04-01",
          "2006-05-01",
          "2006-06-01",
          "2006-07-01",
          "2006-08-01",
          "2006-09-01",
          "2006-10-01",
          "2006-11-01",
          "2006-12-01",
          "2007-01-01",
          "2007-02-01",
          "2007-03-01",
          "2007-04-01",
          "2007-05-01",
          "2007-06-01",
          "2007-07-01",
          "2007-08-01",
          "2007-09-01",
          "2007-10-01",
          "2007-11-01",
          "2007-12-01",
          "2008-01-01",
          "2008-02-01",
          "2008-03-01",
          "2008-04-01",
          "2008-05-01",
          "2008-06-01",
          "2008-07-01",
          "2008-08-01",
          "2008-09-01",
          "2008-10-01",
          "2008-11-01",
          "2008-12-01",
          "2009-01-01",
          "2009-02-01",
          "2009-03-01",
          "2009-04-01",
          "2009-05-01",
          "2009-06-01",
          "2009-07-01",
          "2009-08-01",
          "2009-09-01",
          "2009-10-01",
          "2009-11-01",
          "2009-12-01",
          "2010-01-01",
          "2010-02-01",
          "2010-03-01",
          "2010-04-01",
          "2010-05-01",
          "2010-06-01",
          "2010-07-01",
          "2010-08-01",
          "2010-09-01",
          "2010-10-01",
          "2010-11-01",
          "2010-12-01",
          "2011-01-01",
          "2011-02-01",
          "2011-03-01",
          "2011-04-01",
          "2011-05-01",
          "2011-06-01",
          "2011-07-01",
          "2011-08-01",
          "2011-09-01",
          "2011-10-01",
          "2011-11-01",
          "2011-12-01",
          "2012-01-01",
          "2012-02-01",
          "2012-03-01",
          "2012-04-01",
          "2012-05-01",
          "2012-06-01",
          "2012-07-01",
          "2012-08-01",
          "2012-09-01",
          "2012-10-01",
          "2012-11-01",
          "2012-12-01",
          "2013-01-01",
          "2013-02-01",
          "2013-03-01",
          "2013-04-01",
          "2013-05-01",
          "2013-06-01",
          "2013-07-01",
          "2013-08-01",
          "2013-09-01",
          "2013-10-01",
          "2013-11-01",
          "2013-12-01",
          "2014-01-01",
          "2014-02-01",
          "2014-03-01",
          "2014-04-01",
          "2014-05-01",
          "2014-06-01",
          "2014-07-01",
          "2014-08-01",
          "2014-09-01",
          "2014-10-01",
          "2014-11-01",
          "2014-12-01",
          "2015-01-01",
          "2015-02-01",
          "2015-03-01",
          "2015-04-01",
          "2015-05-01",
          "2015-06-01",
          "2015-07-01",
          "2015-08-01",
          "2015-09-01",
          "2015-10-01",
          "2015-11-01",
          "2015-12-01",
          "2016-01-01",
          "2016-02-01",
          "2016-03-01"
         ],
         "xaxis": "x",
         "y": [
          123051,
          124737,
          98753,
          86047,
          73309,
          85064,
          75681,
          75953,
          91996,
          90916,
          98411,
          110620,
          134692,
          138413,
          105686,
          96181,
          84196,
          97078,
          91428,
          88899,
          101439,
          101235,
          114249,
          115000,
          139887,
          145975,
          114939,
          104472,
          87483,
          98135,
          90660,
          93411,
          104802,
          96055,
          110530,
          116339,
          134388,
          142069,
          102260,
          95849,
          71958,
          88543,
          75566,
          73692,
          85111,
          83672,
          100993,
          110719,
          131686,
          139820,
          116526,
          93641,
          66870,
          80570,
          70494,
          76072,
          91622,
          88906,
          111497,
          129530,
          158876,
          154907,
          127039,
          116722,
          84033,
          94658,
          83178,
          81563,
          97283,
          89638,
          115878,
          126548,
          146096,
          149448,
          123529,
          116206,
          75339,
          82478,
          75272,
          75481,
          83717,
          83814,
          116683,
          128422,
          146632,
          153000,
          129594,
          110839,
          74420,
          82075,
          74165,
          74738,
          84485,
          85225,
          120107,
          126191,
          144979,
          157375,
          131667,
          118638,
          80822,
          88161,
          83299,
          84713,
          96420,
          96091,
          137342,
          143299,
          162228,
          167764,
          141555,
          122854,
          85102,
          96989,
          87290,
          85886,
          107545,
          106990,
          150263,
          166205,
          186516,
          187971,
          154369,
          131040,
          91815,
          104378,
          92099,
          93321,
          100735
         ],
         "yaxis": "y"
        },
        {
         "hovertemplate": "Group=Canada rolling 12<br>Mes=%{x}<br>Pasajeros=%{y}<extra></extra>",
         "legendgroup": "Canada rolling 12",
         "line": {
          "color": "#19d3f3",
          "dash": "solid"
         },
         "marker": {
          "symbol": "circle"
         },
         "mode": "lines",
         "name": "Canada rolling 12",
         "showlegend": true,
         "type": "scattergl",
         "x": [
          "2005-07-01",
          "2005-08-01",
          "2005-09-01",
          "2005-10-01",
          "2005-11-01",
          "2005-12-01",
          "2006-01-01",
          "2006-02-01",
          "2006-03-01",
          "2006-04-01",
          "2006-05-01",
          "2006-06-01",
          "2006-07-01",
          "2006-08-01",
          "2006-09-01",
          "2006-10-01",
          "2006-11-01",
          "2006-12-01",
          "2007-01-01",
          "2007-02-01",
          "2007-03-01",
          "2007-04-01",
          "2007-05-01",
          "2007-06-01",
          "2007-07-01",
          "2007-08-01",
          "2007-09-01",
          "2007-10-01",
          "2007-11-01",
          "2007-12-01",
          "2008-01-01",
          "2008-02-01",
          "2008-03-01",
          "2008-04-01",
          "2008-05-01",
          "2008-06-01",
          "2008-07-01",
          "2008-08-01",
          "2008-09-01",
          "2008-10-01",
          "2008-11-01",
          "2008-12-01",
          "2009-01-01",
          "2009-02-01",
          "2009-03-01",
          "2009-04-01",
          "2009-05-01",
          "2009-06-01",
          "2009-07-01",
          "2009-08-01",
          "2009-09-01",
          "2009-10-01",
          "2009-11-01",
          "2009-12-01",
          "2010-01-01",
          "2010-02-01",
          "2010-03-01",
          "2010-04-01",
          "2010-05-01",
          "2010-06-01",
          "2010-07-01",
          "2010-08-01",
          "2010-09-01",
          "2010-10-01",
          "2010-11-01",
          "2010-12-01",
          "2011-01-01",
          "2011-02-01",
          "2011-03-01",
          "2011-04-01",
          "2011-05-01",
          "2011-06-01",
          "2011-07-01",
          "2011-08-01",
          "2011-09-01",
          "2011-10-01",
          "2011-11-01",
          "2011-12-01",
          "2012-01-01",
          "2012-02-01",
          "2012-03-01",
          "2012-04-01",
          "2012-05-01",
          "2012-06-01",
          "2012-07-01",
          "2012-08-01",
          "2012-09-01",
          "2012-10-01",
          "2012-11-01",
          "2012-12-01",
          "2013-01-01",
          "2013-02-01",
          "2013-03-01",
          "2013-04-01",
          "2013-05-01",
          "2013-06-01",
          "2013-07-01",
          "2013-08-01",
          "2013-09-01",
          "2013-10-01",
          "2013-11-01",
          "2013-12-01",
          "2014-01-01",
          "2014-02-01",
          "2014-03-01",
          "2014-04-01",
          "2014-05-01",
          "2014-06-01",
          "2014-07-01",
          "2014-08-01",
          "2014-09-01",
          "2014-10-01",
          "2014-11-01",
          "2014-12-01",
          "2015-01-01",
          "2015-02-01",
          "2015-03-01",
          "2015-04-01",
          "2015-05-01",
          "2015-06-01",
          "2015-07-01",
          "2015-08-01",
          "2015-09-01",
          "2015-10-01",
          "2015-11-01",
          "2015-12-01",
          "2016-01-01",
          "2016-02-01",
          "2016-03-01"
         ],
         "xaxis": "x",
         "y": [
          null,
          null,
          null,
          null,
          null,
          null,
          94544.83333333333,
          95514.91666666667,
          96654.58333333333,
          97232.33333333333,
          98076.83333333333,
          98984.08333333333,
          99985.25,
          101297.5,
          102376.33333333333,
          103163.25,
          104023.16666666667,
          105343,
          105708,
          106140.91666666667,
          106771.08333333333,
          107542.16666666667,
          108233.08333333333,
          108507,
          108595.08333333333,
          108531.08333333333,
          108907.08333333333,
          109187.33333333333,
          108755.66666666667,
          108445.75,
          108557.33333333333,
          108099.08333333333,
          107773.58333333333,
          106717,
          105998.41666666667,
          104704.66666666667,
          103905.33333333333,
          102647.5,
          101004.25,
          99363.33333333333,
          98331.41666666667,
          97536.66666666667,
          97068.33333333333,
          96843.16666666667,
          96655.75,
          97844.58333333333,
          97660.58333333333,
          97236.58333333333,
          96572.16666666667,
          96149.5,
          96347.83333333333,
          96890.41666666667,
          97326.58333333333,
          98201.91666666667,
          99769.5,
          102035.33333333333,
          103292.58333333333,
          104168.66666666667,
          106092.08333333333,
          107522.33333333333,
          108696.33333333333,
          109753.33333333333,
          110210.91666666667,
          110682.66666666667,
          110743.66666666667,
          111108.75,
          110860.25,
          109795.25,
          109340.33333333333,
          109047.83333333333,
          109004.83333333333,
          108280.33333333333,
          107265.33333333333,
          106606.5,
          106099.66666666667,
          104969.16666666667,
          104483.83333333333,
          104550.91666666667,
          104707.08333333333,
          104751.75,
          105047.75,
          105553.16666666667,
          105105.91666666667,
          105029.33333333333,
          104995.75,
          104903.5,
          104841.58333333333,
          104905.58333333333,
          105023.16666666667,
          105308.5,
          105122.58333333333,
          104984.83333333333,
          105349.41666666667,
          105522.16666666667,
          106172.08333333333,
          106705.58333333333,
          107212.75,
          107973.91666666667,
          108805.16666666667,
          109799.75,
          110705.25,
          112141.5,
          113567.16666666667,
          115004.58333333333,
          115870.33333333333,
          116694.33333333333,
          117045.66666666667,
          117402.33333333333,
          118138,
          118470.58333333333,
          118568.33333333333,
          119495.41666666667,
          120403.66666666667,
          121480.41666666667,
          123389.25,
          125413.25,
          127097.16666666667,
          128165,
          128847.16666666667,
          129406.58333333333,
          130022.33333333333,
          130423.08333333333,
          131042.66666666667,
          130475.16666666667,
          null,
          null,
          null,
          null,
          null
         ],
         "yaxis": "y"
        },
        {
         "hovertemplate": "Group=Central America<br>Mes=%{x}<br>Pasajeros=%{y}<extra></extra>",
         "legendgroup": "Central America",
         "line": {
          "color": "#FF6692",
          "dash": "solid"
         },
         "marker": {
          "symbol": "circle"
         },
         "mode": "lines",
         "name": "Central America",
         "showlegend": true,
         "type": "scattergl",
         "x": [
          "2005-07-01",
          "2005-08-01",
          "2005-09-01",
          "2005-10-01",
          "2005-11-01",
          "2005-12-01",
          "2006-01-01",
          "2006-02-01",
          "2006-03-01",
          "2006-04-01",
          "2006-05-01",
          "2006-06-01",
          "2006-07-01",
          "2006-08-01",
          "2006-09-01",
          "2006-10-01",
          "2006-11-01",
          "2006-12-01",
          "2007-01-01",
          "2007-02-01",
          "2007-03-01",
          "2007-04-01",
          "2007-05-01",
          "2007-06-01",
          "2007-07-01",
          "2007-08-01",
          "2007-09-01",
          "2007-10-01",
          "2007-11-01",
          "2007-12-01",
          "2008-01-01",
          "2008-02-01",
          "2008-03-01",
          "2008-04-01",
          "2008-05-01",
          "2008-06-01",
          "2008-07-01",
          "2008-08-01",
          "2008-09-01",
          "2008-10-01",
          "2008-11-01",
          "2008-12-01",
          "2009-01-01",
          "2009-02-01",
          "2009-03-01",
          "2009-04-01",
          "2009-05-01",
          "2009-06-01",
          "2009-07-01",
          "2009-08-01",
          "2009-09-01",
          "2009-10-01",
          "2009-11-01",
          "2009-12-01",
          "2010-01-01",
          "2010-02-01",
          "2010-03-01",
          "2010-04-01",
          "2010-05-01",
          "2010-06-01",
          "2010-07-01",
          "2010-08-01",
          "2010-09-01",
          "2010-10-01",
          "2010-11-01",
          "2010-12-01",
          "2011-01-01",
          "2011-02-01",
          "2011-03-01",
          "2011-04-01",
          "2011-05-01",
          "2011-06-01",
          "2011-07-01",
          "2011-08-01",
          "2011-09-01",
          "2011-10-01",
          "2011-11-01",
          "2011-12-01",
          "2012-01-01",
          "2012-02-01",
          "2012-03-01",
          "2012-04-01",
          "2012-05-01",
          "2012-06-01",
          "2012-07-01",
          "2012-08-01",
          "2012-09-01",
          "2012-10-01",
          "2012-11-01",
          "2012-12-01",
          "2013-01-01",
          "2013-02-01",
          "2013-03-01",
          "2013-04-01",
          "2013-05-01",
          "2013-06-01",
          "2013-07-01",
          "2013-08-01",
          "2013-09-01",
          "2013-10-01",
          "2013-11-01",
          "2013-12-01",
          "2014-01-01",
          "2014-02-01",
          "2014-03-01",
          "2014-04-01",
          "2014-05-01",
          "2014-06-01",
          "2014-07-01",
          "2014-08-01",
          "2014-09-01",
          "2014-10-01",
          "2014-11-01",
          "2014-12-01",
          "2015-01-01",
          "2015-02-01",
          "2015-03-01",
          "2015-04-01",
          "2015-05-01",
          "2015-06-01",
          "2015-07-01",
          "2015-08-01",
          "2015-09-01",
          "2015-10-01",
          "2015-11-01",
          "2015-12-01",
          "2016-01-01",
          "2016-02-01",
          "2016-03-01"
         ],
         "xaxis": "x",
         "y": [
          13355,
          12485,
          7319,
          7564,
          8364,
          12907,
          11558,
          8114,
          8831,
          8936,
          8854,
          9776,
          12459,
          11185,
          6236,
          6479,
          8051,
          10776,
          10213,
          8060,
          9346,
          8740,
          8809,
          12587,
          16484,
          14979,
          9044,
          9064,
          9277,
          13049,
          11168,
          7264,
          8227,
          7399,
          5162,
          7494,
          10288,
          8899,
          7620,
          7986,
          7663,
          10949,
          10206,
          7516,
          8428,
          7701,
          8050,
          10193,
          11470,
          10079,
          7346,
          7009,
          7619,
          11554,
          10245,
          7168,
          8263,
          7702,
          7947,
          10206,
          13027,
          12654,
          8580,
          8353,
          8259,
          11781,
          11126,
          8553,
          10781,
          9829,
          9459,
          11169,
          13231,
          12219,
          8473,
          8861,
          10156,
          11327,
          11269,
          9819,
          10723,
          9463,
          10047,
          12053,
          13319,
          13086,
          9191,
          8963,
          10087,
          12760,
          12554,
          10054,
          11130,
          10060,
          10351,
          10855,
          13118,
          12805,
          9063,
          8694,
          9951,
          10475,
          11308,
          9711,
          10627,
          9755,
          9758,
          10366,
          11080,
          10802,
          9113,
          13487,
          10587,
          11472,
          12112,
          10010,
          10734,
          9865,
          10275,
          11424,
          15414,
          14732,
          11725,
          15779,
          17091,
          22256,
          21002,
          16978,
          18487
         ],
         "yaxis": "y"
        },
        {
         "hovertemplate": "Group=Central America rolling 12<br>Mes=%{x}<br>Pasajeros=%{y}<extra></extra>",
         "legendgroup": "Central America rolling 12",
         "line": {
          "color": "#B6E880",
          "dash": "solid"
         },
         "marker": {
          "symbol": "circle"
         },
         "mode": "lines",
         "name": "Central America rolling 12",
         "showlegend": true,
         "type": "scattergl",
         "x": [
          "2005-07-01",
          "2005-08-01",
          "2005-09-01",
          "2005-10-01",
          "2005-11-01",
          "2005-12-01",
          "2006-01-01",
          "2006-02-01",
          "2006-03-01",
          "2006-04-01",
          "2006-05-01",
          "2006-06-01",
          "2006-07-01",
          "2006-08-01",
          "2006-09-01",
          "2006-10-01",
          "2006-11-01",
          "2006-12-01",
          "2007-01-01",
          "2007-02-01",
          "2007-03-01",
          "2007-04-01",
          "2007-05-01",
          "2007-06-01",
          "2007-07-01",
          "2007-08-01",
          "2007-09-01",
          "2007-10-01",
          "2007-11-01",
          "2007-12-01",
          "2008-01-01",
          "2008-02-01",
          "2008-03-01",
          "2008-04-01",
          "2008-05-01",
          "2008-06-01",
          "2008-07-01",
          "2008-08-01",
          "2008-09-01",
          "2008-10-01",
          "2008-11-01",
          "2008-12-01",
          "2009-01-01",
          "2009-02-01",
          "2009-03-01",
          "2009-04-01",
          "2009-05-01",
          "2009-06-01",
          "2009-07-01",
          "2009-08-01",
          "2009-09-01",
          "2009-10-01",
          "2009-11-01",
          "2009-12-01",
          "2010-01-01",
          "2010-02-01",
          "2010-03-01",
          "2010-04-01",
          "2010-05-01",
          "2010-06-01",
          "2010-07-01",
          "2010-08-01",
          "2010-09-01",
          "2010-10-01",
          "2010-11-01",
          "2010-12-01",
          "2011-01-01",
          "2011-02-01",
          "2011-03-01",
          "2011-04-01",
          "2011-05-01",
          "2011-06-01",
          "2011-07-01",
          "2011-08-01",
          "2011-09-01",
          "2011-10-01",
          "2011-11-01",
          "2011-12-01",
          "2012-01-01",
          "2012-02-01",
          "2012-03-01",
          "2012-04-01",
          "2012-05-01",
          "2012-06-01",
          "2012-07-01",
          "2012-08-01",
          "2012-09-01",
          "2012-10-01",
          "2012-11-01",
          "2012-12-01",
          "2013-01-01",
          "2013-02-01",
          "2013-03-01",
          "2013-04-01",
          "2013-05-01",
          "2013-06-01",
          "2013-07-01",
          "2013-08-01",
          "2013-09-01",
          "2013-10-01",
          "2013-11-01",
          "2013-12-01",
          "2014-01-01",
          "2014-02-01",
          "2014-03-01",
          "2014-04-01",
          "2014-05-01",
          "2014-06-01",
          "2014-07-01",
          "2014-08-01",
          "2014-09-01",
          "2014-10-01",
          "2014-11-01",
          "2014-12-01",
          "2015-01-01",
          "2015-02-01",
          "2015-03-01",
          "2015-04-01",
          "2015-05-01",
          "2015-06-01",
          "2015-07-01",
          "2015-08-01",
          "2015-09-01",
          "2015-10-01",
          "2015-11-01",
          "2015-12-01",
          "2016-01-01",
          "2016-02-01",
          "2016-03-01"
         ],
         "xaxis": "x",
         "y": [
          null,
          null,
          null,
          null,
          null,
          null,
          9838.583333333334,
          9763.916666666666,
          9655.583333333334,
          9565.333333333334,
          9474.916666666666,
          9448.833333333334,
          9271.25,
          9159.166666666666,
          9154.666666666666,
          9197.583333333334,
          9181.25,
          9177.5,
          9411.75,
          9747.166666666666,
          10063.333333333334,
          10297.333333333334,
          10512.75,
          10614.916666666666,
          10804.333333333334,
          10883.916666666666,
          10817.583333333334,
          10724.333333333334,
          10612.583333333334,
          10308.666666666666,
          9884.25,
          9367.916666666666,
          8861.25,
          8742.583333333334,
          8652.75,
          8518.25,
          8343.25,
          8263.083333333334,
          8284.083333333334,
          8300.833333333334,
          8326,
          8566.666666666666,
          8791.583333333334,
          8890.083333333334,
          8988.416666666666,
          8965.583333333334,
          8884.166666666666,
          8880.5,
          8930.916666666666,
          8934.166666666666,
          8905.166666666666,
          8891.416666666666,
          8891.5,
          8882.916666666666,
          8884,
          9013.75,
          9228.333333333334,
          9331.166666666666,
          9443.166666666666,
          9496.5,
          9515.416666666666,
          9588.833333333334,
          9704.25,
          9914.083333333334,
          10091.333333333334,
          10217.333333333334,
          10297.583333333334,
          10314.583333333334,
          10278.333333333334,
          10269.416666666666,
          10311.75,
          10469.833333333334,
          10432,
          10443.916666666666,
          10549.416666666666,
          10544.583333333334,
          10514.083333333334,
          10563.083333333334,
          10636.75,
          10644.083333333334,
          10716.333333333334,
          10776.166666666666,
          10784.666666666666,
          10778.916666666666,
          10898.333333333334,
          11005.416666666666,
          11025,
          11058.916666666666,
          11108.666666666666,
          11134,
          11034.166666666666,
          11017.416666666666,
          10994,
          10983.333333333334,
          10960.916666666666,
          10949.583333333334,
          10759.166666666666,
          10655.333333333334,
          10626.75,
          10584.833333333334,
          10559.416666666666,
          10510,
          10469.25,
          10299.416666666666,
          10132.5,
          10136.666666666666,
          10536.083333333334,
          10589.083333333334,
          10672.166666666666,
          10739.166666666666,
          10764.083333333334,
          10773,
          10782.166666666666,
          10825.25,
          10913.416666666666,
          11274.583333333334,
          11602.083333333334,
          11819.75,
          12010.75,
          12552.75,
          13451.416666666666,
          14192.25,
          14772.916666666666,
          15419,
          null,
          null,
          null,
          null,
          null
         ],
         "yaxis": "y"
        },
        {
         "hovertemplate": "Group=Europe<br>Mes=%{x}<br>Pasajeros=%{y}<extra></extra>",
         "legendgroup": "Europe",
         "line": {
          "color": "#FF97FF",
          "dash": "solid"
         },
         "marker": {
          "symbol": "circle"
         },
         "mode": "lines",
         "name": "Europe",
         "showlegend": true,
         "type": "scattergl",
         "x": [
          "2005-07-01",
          "2005-08-01",
          "2005-09-01",
          "2005-10-01",
          "2005-11-01",
          "2005-12-01",
          "2006-01-01",
          "2006-02-01",
          "2006-03-01",
          "2006-04-01",
          "2006-05-01",
          "2006-06-01",
          "2006-07-01",
          "2006-08-01",
          "2006-09-01",
          "2006-10-01",
          "2006-11-01",
          "2006-12-01",
          "2007-01-01",
          "2007-02-01",
          "2007-03-01",
          "2007-04-01",
          "2007-05-01",
          "2007-06-01",
          "2007-07-01",
          "2007-08-01",
          "2007-09-01",
          "2007-10-01",
          "2007-11-01",
          "2007-12-01",
          "2008-01-01",
          "2008-02-01",
          "2008-03-01",
          "2008-04-01",
          "2008-05-01",
          "2008-06-01",
          "2008-07-01",
          "2008-08-01",
          "2008-09-01",
          "2008-10-01",
          "2008-11-01",
          "2008-12-01",
          "2009-01-01",
          "2009-02-01",
          "2009-03-01",
          "2009-04-01",
          "2009-05-01",
          "2009-06-01",
          "2009-07-01",
          "2009-08-01",
          "2009-09-01",
          "2009-10-01",
          "2009-11-01",
          "2009-12-01",
          "2010-01-01",
          "2010-02-01",
          "2010-03-01",
          "2010-04-01",
          "2010-05-01",
          "2010-06-01",
          "2010-07-01",
          "2010-08-01",
          "2010-09-01",
          "2010-10-01",
          "2010-11-01",
          "2010-12-01",
          "2011-01-01",
          "2011-02-01",
          "2011-03-01",
          "2011-04-01",
          "2011-05-01",
          "2011-06-01",
          "2011-07-01",
          "2011-08-01",
          "2011-09-01",
          "2011-10-01",
          "2011-11-01",
          "2011-12-01",
          "2012-01-01",
          "2012-02-01",
          "2012-03-01",
          "2012-04-01",
          "2012-05-01",
          "2012-06-01",
          "2012-07-01",
          "2012-08-01",
          "2012-09-01",
          "2012-10-01",
          "2012-11-01",
          "2012-12-01",
          "2013-01-01",
          "2013-02-01",
          "2013-03-01",
          "2013-04-01",
          "2013-05-01",
          "2013-06-01",
          "2013-07-01",
          "2013-08-01",
          "2013-09-01",
          "2013-10-01",
          "2013-11-01",
          "2013-12-01",
          "2014-01-01",
          "2014-02-01",
          "2014-03-01",
          "2014-04-01",
          "2014-05-01",
          "2014-06-01",
          "2014-07-01",
          "2014-08-01",
          "2014-09-01",
          "2014-10-01",
          "2014-11-01",
          "2014-12-01",
          "2015-01-01",
          "2015-02-01",
          "2015-03-01",
          "2015-04-01",
          "2015-05-01",
          "2015-06-01",
          "2015-07-01",
          "2015-08-01",
          "2015-09-01",
          "2015-10-01",
          "2015-11-01",
          "2015-12-01",
          "2016-01-01",
          "2016-02-01",
          "2016-03-01"
         ],
         "xaxis": "x",
         "y": [
          222532,
          219086,
          210489,
          196001,
          151668,
          151876,
          152097,
          125598,
          167914,
          188428,
          197401,
          206720,
          215727,
          209005,
          199915,
          190765,
          154520,
          162866,
          160052,
          136934,
          177862,
          195461,
          209613,
          212568,
          220747,
          218578,
          211534,
          208521,
          175099,
          179039,
          167343,
          149247,
          194506,
          199628,
          216169,
          223599,
          234283,
          232390,
          221841,
          210198,
          150027,
          166157,
          153310,
          119983,
          160812,
          197780,
          204936,
          215168,
          228567,
          229553,
          216501,
          194743,
          136075,
          136801,
          131245,
          114061,
          148028,
          153201,
          196835,
          220261,
          237451,
          235070,
          225171,
          217153,
          149442,
          141209,
          149762,
          125445,
          160234,
          202225,
          231205,
          251750,
          255539,
          259056,
          246690,
          228999,
          152502,
          157290,
          151769,
          127841,
          171675,
          211611,
          241977,
          265402,
          270723,
          273455,
          261029,
          228861,
          159121,
          154052,
          154520,
          127641,
          174402,
          214926,
          274498,
          291991,
          292200,
          302425,
          285642,
          258623,
          167612,
          175733,
          166310,
          147528,
          184265,
          227225,
          279042,
          300987,
          306423,
          312366,
          285629,
          262656,
          184332,
          185574,
          184133,
          159371,
          203643,
          248319,
          301502,
          338592,
          361251,
          363172,
          325720,
          299415,
          210406,
          210189,
          214782,
          182178,
          234650
         ],
         "yaxis": "y"
        },
        {
         "hovertemplate": "Group=Europe rolling 12<br>Mes=%{x}<br>Pasajeros=%{y}<extra></extra>",
         "legendgroup": "Europe rolling 12",
         "line": {
          "color": "#FECB52",
          "dash": "solid"
         },
         "marker": {
          "symbol": "circle"
         },
         "mode": "lines",
         "name": "Europe rolling 12",
         "showlegend": true,
         "type": "scattergl",
         "x": [
          "2005-07-01",
          "2005-08-01",
          "2005-09-01",
          "2005-10-01",
          "2005-11-01",
          "2005-12-01",
          "2006-01-01",
          "2006-02-01",
          "2006-03-01",
          "2006-04-01",
          "2006-05-01",
          "2006-06-01",
          "2006-07-01",
          "2006-08-01",
          "2006-09-01",
          "2006-10-01",
          "2006-11-01",
          "2006-12-01",
          "2007-01-01",
          "2007-02-01",
          "2007-03-01",
          "2007-04-01",
          "2007-05-01",
          "2007-06-01",
          "2007-07-01",
          "2007-08-01",
          "2007-09-01",
          "2007-10-01",
          "2007-11-01",
          "2007-12-01",
          "2008-01-01",
          "2008-02-01",
          "2008-03-01",
          "2008-04-01",
          "2008-05-01",
          "2008-06-01",
          "2008-07-01",
          "2008-08-01",
          "2008-09-01",
          "2008-10-01",
          "2008-11-01",
          "2008-12-01",
          "2009-01-01",
          "2009-02-01",
          "2009-03-01",
          "2009-04-01",
          "2009-05-01",
          "2009-06-01",
          "2009-07-01",
          "2009-08-01",
          "2009-09-01",
          "2009-10-01",
          "2009-11-01",
          "2009-12-01",
          "2010-01-01",
          "2010-02-01",
          "2010-03-01",
          "2010-04-01",
          "2010-05-01",
          "2010-06-01",
          "2010-07-01",
          "2010-08-01",
          "2010-09-01",
          "2010-10-01",
          "2010-11-01",
          "2010-12-01",
          "2011-01-01",
          "2011-02-01",
          "2011-03-01",
          "2011-04-01",
          "2011-05-01",
          "2011-06-01",
          "2011-07-01",
          "2011-08-01",
          "2011-09-01",
          "2011-10-01",
          "2011-11-01",
          "2011-12-01",
          "2012-01-01",
          "2012-02-01",
          "2012-03-01",
          "2012-04-01",
          "2012-05-01",
          "2012-06-01",
          "2012-07-01",
          "2012-08-01",
          "2012-09-01",
          "2012-10-01",
          "2012-11-01",
          "2012-12-01",
          "2013-01-01",
          "2013-02-01",
          "2013-03-01",
          "2013-04-01",
          "2013-05-01",
          "2013-06-01",
          "2013-07-01",
          "2013-08-01",
          "2013-09-01",
          "2013-10-01",
          "2013-11-01",
          "2013-12-01",
          "2014-01-01",
          "2014-02-01",
          "2014-03-01",
          "2014-04-01",
          "2014-05-01",
          "2014-06-01",
          "2014-07-01",
          "2014-08-01",
          "2014-09-01",
          "2014-10-01",
          "2014-11-01",
          "2014-12-01",
          "2015-01-01",
          "2015-02-01",
          "2015-03-01",
          "2015-04-01",
          "2015-05-01",
          "2015-06-01",
          "2015-07-01",
          "2015-08-01",
          "2015-09-01",
          "2015-10-01",
          "2015-11-01",
          "2015-12-01",
          "2016-01-01",
          "2016-02-01",
          "2016-03-01"
         ],
         "xaxis": "x",
         "y": [
          null,
          null,
          null,
          null,
          null,
          null,
          182484.16666666666,
          181917.08333333334,
          181077,
          180195.83333333334,
          179759.5,
          179997.16666666666,
          180913,
          181575.91666666666,
          182520.58333333334,
          183349.58333333334,
          183935.66666666666,
          184953.33333333334,
          185440.66666666666,
          185859,
          186656.75,
          187625,
          189104.66666666666,
          190819.58333333334,
          192167.33333333334,
          192774.91666666666,
          193801,
          195188,
          195535.25,
          196081.58333333334,
          197000.83333333334,
          198128.83333333334,
          199279.83333333334,
          200138.75,
          200278.5,
          198189.16666666666,
          197115.66666666666,
          195946.25,
          193507.58333333334,
          190699.75,
          190545.75,
          189609.66666666666,
          188907.08333333334,
          188430.75,
          188194.33333333334,
          187749.33333333334,
          186461.41666666666,
          185298.75,
          182852.41666666666,
          181013.66666666666,
          180520.16666666666,
          179454.83333333334,
          175739.91666666666,
          175064.83333333334,
          175489.25,
          176229.58333333334,
          176689.33333333334,
          177411.83333333334,
          179279.33333333334,
          180393.25,
          180760.58333333334,
          182303.66666666666,
          183252.33333333334,
          184269.5,
          188354.83333333334,
          191219,
          193843.08333333334,
          195350.41666666666,
          197349.25,
          199142.5,
          200129.66666666666,
          200384.66666666666,
          201724.75,
          201892,
          202091.66666666666,
          203045.08333333334,
          203827.25,
          204724.91666666666,
          205862.58333333334,
          207127.91666666666,
          208327.83333333334,
          209522.75,
          209511.25,
          210062.83333333334,
          209793,
          210022.25,
          210005.58333333334,
          210232.83333333334,
          210509.08333333334,
          213219.16666666666,
          215434.91666666666,
          217224.66666666666,
          219638.83333333334,
          221689.91666666666,
          224170.08333333334,
          224877.66666666666,
          226684.41666666666,
          227666.91666666666,
          229324.16666666666,
          230146.08333333334,
          231171,
          231549.66666666666,
          232299.33333333334,
          233484.58333333334,
          234313,
          234311.91666666666,
          234648,
          236041.33333333334,
          236861.41666666666,
          238346.66666666666,
          239333.58333333334,
          240948.41666666666,
          242706.25,
          244577.91666666666,
          247711.66666666666,
          252280.66666666666,
          256514.5,
          259855.41666666666,
          262918.6666666667,
          265091.5,
          267142.75,
          269696.8333333333,
          271597.4166666667,
          274181.3333333333,
          null,
          null,
          null,
          null,
          null
         ],
         "yaxis": "y"
        },
        {
         "hovertemplate": "Group=Mexico<br>Mes=%{x}<br>Pasajeros=%{y}<extra></extra>",
         "legendgroup": "Mexico",
         "line": {
          "color": "#636efa",
          "dash": "solid"
         },
         "marker": {
          "symbol": "circle"
         },
         "mode": "lines",
         "name": "Mexico",
         "showlegend": true,
         "type": "scattergl",
         "x": [
          "2005-07-01",
          "2005-08-01",
          "2005-09-01",
          "2005-10-01",
          "2005-11-01",
          "2005-12-01",
          "2006-01-01",
          "2006-02-01",
          "2006-03-01",
          "2006-04-01",
          "2006-05-01",
          "2006-06-01",
          "2006-07-01",
          "2006-08-01",
          "2006-09-01",
          "2006-10-01",
          "2006-11-01",
          "2006-12-01",
          "2007-01-01",
          "2007-02-01",
          "2007-03-01",
          "2007-04-01",
          "2007-05-01",
          "2007-06-01",
          "2007-07-01",
          "2007-08-01",
          "2007-09-01",
          "2007-10-01",
          "2007-11-01",
          "2007-12-01",
          "2008-01-01",
          "2008-02-01",
          "2008-03-01",
          "2008-04-01",
          "2008-05-01",
          "2008-06-01",
          "2008-07-01",
          "2008-08-01",
          "2008-09-01",
          "2008-10-01",
          "2008-11-01",
          "2008-12-01",
          "2009-01-01",
          "2009-02-01",
          "2009-03-01",
          "2009-04-01",
          "2009-05-01",
          "2009-06-01",
          "2009-07-01",
          "2009-08-01",
          "2009-09-01",
          "2009-10-01",
          "2009-11-01",
          "2009-12-01",
          "2010-01-01",
          "2010-02-01",
          "2010-03-01",
          "2010-04-01",
          "2010-05-01",
          "2010-06-01",
          "2010-07-01",
          "2010-08-01",
          "2010-09-01",
          "2010-10-01",
          "2010-11-01",
          "2010-12-01",
          "2011-01-01",
          "2011-02-01",
          "2011-03-01",
          "2011-04-01",
          "2011-05-01",
          "2011-06-01",
          "2011-07-01",
          "2011-08-01",
          "2011-09-01",
          "2011-10-01",
          "2011-11-01",
          "2011-12-01",
          "2012-01-01",
          "2012-02-01",
          "2012-03-01",
          "2012-04-01",
          "2012-05-01",
          "2012-06-01",
          "2012-07-01",
          "2012-08-01",
          "2012-09-01",
          "2012-10-01",
          "2012-11-01",
          "2012-12-01",
          "2013-01-01",
          "2013-02-01",
          "2013-03-01",
          "2013-04-01",
          "2013-05-01",
          "2013-06-01",
          "2013-07-01",
          "2013-08-01",
          "2013-09-01",
          "2013-10-01",
          "2013-11-01",
          "2013-12-01",
          "2014-01-01",
          "2014-02-01",
          "2014-03-01",
          "2014-04-01",
          "2014-05-01",
          "2014-06-01",
          "2014-07-01",
          "2014-08-01",
          "2014-09-01",
          "2014-10-01",
          "2014-11-01",
          "2014-12-01",
          "2015-01-01",
          "2015-02-01",
          "2015-03-01",
          "2015-04-01",
          "2015-05-01",
          "2015-06-01",
          "2015-07-01",
          "2015-08-01",
          "2015-09-01",
          "2015-10-01",
          "2015-11-01",
          "2015-12-01",
          "2016-01-01",
          "2016-02-01",
          "2016-03-01"
         ],
         "xaxis": "x",
         "y": [
          56442,
          52608,
          35443,
          49894,
          58119,
          64746,
          65369,
          58797,
          66895,
          70912,
          54840,
          60041,
          65494,
          60547,
          36209,
          49559,
          62252,
          66137,
          57581,
          48449,
          56891,
          59705,
          51609,
          56542,
          62011,
          58960,
          36456,
          50229,
          58305,
          65167,
          58779,
          53843,
          63045,
          58816,
          57070,
          62011,
          60962,
          62349,
          33846,
          37557,
          48528,
          58463,
          51445,
          47760,
          57890,
          59554,
          35689,
          56249,
          54674,
          52491,
          32942,
          38567,
          53508,
          60194,
          55902,
          49450,
          56175,
          57233,
          54612,
          61117,
          63685,
          53334,
          27395,
          29995,
          40671,
          48410,
          42271,
          39423,
          46908,
          47251,
          45099,
          48707,
          59313,
          50681,
          35346,
          39252,
          57714,
          73234,
          72586,
          63376,
          71493,
          72765,
          73243,
          77765,
          83273,
          74396,
          49906,
          64329,
          69956,
          77377,
          70522,
          57924,
          71385,
          66317,
          65223,
          71181,
          78275,
          73410,
          53087,
          64585,
          72541,
          89599,
          81338,
          72106,
          91103,
          86859,
          84133,
          98399,
          110670,
          96580,
          51736,
          58346,
          77886,
          86455,
          82033,
          72454,
          86545,
          88802,
          80932,
          86677,
          100414,
          88679,
          54562,
          70776,
          90074,
          100545,
          91366,
          80939,
          94210
         ],
         "yaxis": "y"
        },
        {
         "hovertemplate": "Group=Mexico rolling 12<br>Mes=%{x}<br>Pasajeros=%{y}<extra></extra>",
         "legendgroup": "Mexico rolling 12",
         "line": {
          "color": "#EF553B",
          "dash": "solid"
         },
         "marker": {
          "symbol": "circle"
         },
         "mode": "lines",
         "name": "Mexico rolling 12",
         "showlegend": true,
         "type": "scattergl",
         "x": [
          "2005-07-01",
          "2005-08-01",
          "2005-09-01",
          "2005-10-01",
          "2005-11-01",
          "2005-12-01",
          "2006-01-01",
          "2006-02-01",
          "2006-03-01",
          "2006-04-01",
          "2006-05-01",
          "2006-06-01",
          "2006-07-01",
          "2006-08-01",
          "2006-09-01",
          "2006-10-01",
          "2006-11-01",
          "2006-12-01",
          "2007-01-01",
          "2007-02-01",
          "2007-03-01",
          "2007-04-01",
          "2007-05-01",
          "2007-06-01",
          "2007-07-01",
          "2007-08-01",
          "2007-09-01",
          "2007-10-01",
          "2007-11-01",
          "2007-12-01",
          "2008-01-01",
          "2008-02-01",
          "2008-03-01",
          "2008-04-01",
          "2008-05-01",
          "2008-06-01",
          "2008-07-01",
          "2008-08-01",
          "2008-09-01",
          "2008-10-01",
          "2008-11-01",
          "2008-12-01",
          "2009-01-01",
          "2009-02-01",
          "2009-03-01",
          "2009-04-01",
          "2009-05-01",
          "2009-06-01",
          "2009-07-01",
          "2009-08-01",
          "2009-09-01",
          "2009-10-01",
          "2009-11-01",
          "2009-12-01",
          "2010-01-01",
          "2010-02-01",
          "2010-03-01",
          "2010-04-01",
          "2010-05-01",
          "2010-06-01",
          "2010-07-01",
          "2010-08-01",
          "2010-09-01",
          "2010-10-01",
          "2010-11-01",
          "2010-12-01",
          "2011-01-01",
          "2011-02-01",
          "2011-03-01",
          "2011-04-01",
          "2011-05-01",
          "2011-06-01",
          "2011-07-01",
          "2011-08-01",
          "2011-09-01",
          "2011-10-01",
          "2011-11-01",
          "2011-12-01",
          "2012-01-01",
          "2012-02-01",
          "2012-03-01",
          "2012-04-01",
          "2012-05-01",
          "2012-06-01",
          "2012-07-01",
          "2012-08-01",
          "2012-09-01",
          "2012-10-01",
          "2012-11-01",
          "2012-12-01",
          "2013-01-01",
          "2013-02-01",
          "2013-03-01",
          "2013-04-01",
          "2013-05-01",
          "2013-06-01",
          "2013-07-01",
          "2013-08-01",
          "2013-09-01",
          "2013-10-01",
          "2013-11-01",
          "2013-12-01",
          "2014-01-01",
          "2014-02-01",
          "2014-03-01",
          "2014-04-01",
          "2014-05-01",
          "2014-06-01",
          "2014-07-01",
          "2014-08-01",
          "2014-09-01",
          "2014-10-01",
          "2014-11-01",
          "2014-12-01",
          "2015-01-01",
          "2015-02-01",
          "2015-03-01",
          "2015-04-01",
          "2015-05-01",
          "2015-06-01",
          "2015-07-01",
          "2015-08-01",
          "2015-09-01",
          "2015-10-01",
          "2015-11-01",
          "2015-12-01",
          "2016-01-01",
          "2016-02-01",
          "2016-03-01"
         ],
         "xaxis": "x",
         "y": [
          null,
          null,
          null,
          null,
          null,
          null,
          57842.166666666664,
          58596.5,
          59258.083333333336,
          59321.916666666664,
          59294,
          59638.416666666664,
          59754.333333333336,
          59105.333333333336,
          58243,
          57409.333333333336,
          56475.416666666664,
          56206.166666666664,
          55914.583333333336,
          55624.333333333336,
          55492.083333333336,
          55512.666666666664,
          55568.5,
          55239.583333333336,
          55158.75,
          55258.583333333336,
          55708.083333333336,
          56220.916666666664,
          56146.833333333336,
          56601.916666666664,
          57057.666666666664,
          56970.25,
          57252.666666666664,
          57035.166666666664,
          55979.166666666664,
          55164.416666666664,
          54605.75,
          53994.583333333336,
          53487.666666666664,
          53058.083333333336,
          53119.583333333336,
          51337.833333333336,
          50857.666666666664,
          50333.666666666664,
          49512.166666666664,
          49436.833333333336,
          49521,
          49936,
          50080.25,
          50451.666666666664,
          50592.5,
          50449.583333333336,
          50256.166666666664,
          51833.083333333336,
          52238.75,
          52989.666666666664,
          53059.916666666664,
          52597.666666666664,
          51883.333333333336,
          50813.583333333336,
          49831.583333333336,
          48695.666666666664,
          47860.083333333336,
          47087.833333333336,
          46256,
          45463.25,
          44429.083333333336,
          44064.75,
          43843.666666666664,
          44506.25,
          45277.666666666664,
          46697.916666666664,
          48766.583333333336,
          51292.833333333336,
          53288.916666666664,
          55337.666666666664,
          57463.833333333336,
          59809.166666666664,
          62230.666666666664,
          64227.333333333336,
          66203.58333333333,
          67416.91666666667,
          69506.66666666667,
          70526.83333333333,
          70872.08333333333,
          70700.08333333333,
          70245.75,
          70236.75,
          69699.41666666667,
          69031.08333333333,
          68482.41666666667,
          68065.91666666667,
          67983.75,
          68248.83333333333,
          68270.16666666667,
          68485.58333333333,
          69504.08333333333,
          70405.41666666667,
          71587.25,
          73230.41666666667,
          74942.25,
          76518.08333333333,
          78786.25,
          81485.83333333333,
          83416.66666666667,
          83304.08333333333,
          82784.16666666667,
          83229.58333333333,
          82967.58333333333,
          83025.5,
          83054.5,
          82674.66666666667,
          82836.58333333333,
          82569.83333333333,
          81593,
          80738.33333333333,
          80079.91666666667,
          80315.41666666667,
          81351.25,
          82366.91666666667,
          83541.08333333333,
          84318.83333333333,
          85025.91666666667,
          85664.66666666667,
          null,
          null,
          null,
          null,
          null
         ],
         "yaxis": "y"
        },
        {
         "hovertemplate": "Group=Middle East<br>Mes=%{x}<br>Pasajeros=%{y}<extra></extra>",
         "legendgroup": "Middle East",
         "line": {
          "color": "#00cc96",
          "dash": "solid"
         },
         "marker": {
          "symbol": "circle"
         },
         "mode": "lines",
         "name": "Middle East",
         "showlegend": true,
         "type": "scattergl",
         "x": [
          "2008-12-01",
          "2009-01-01",
          "2009-02-01",
          "2009-03-01",
          "2009-04-01",
          "2009-05-01",
          "2009-06-01",
          "2009-07-01",
          "2009-08-01",
          "2009-09-01",
          "2009-10-01",
          "2009-11-01",
          "2009-12-01",
          "2010-01-01",
          "2010-02-01",
          "2010-03-01",
          "2010-04-01",
          "2010-05-01",
          "2010-06-01",
          "2010-07-01",
          "2010-08-01",
          "2010-09-01",
          "2010-10-01",
          "2010-11-01",
          "2010-12-01",
          "2011-01-01",
          "2011-02-01",
          "2011-03-01",
          "2011-04-01",
          "2011-05-01",
          "2011-06-01",
          "2011-07-01",
          "2011-08-01",
          "2011-09-01",
          "2011-10-01",
          "2011-11-01",
          "2011-12-01",
          "2012-01-01",
          "2012-02-01",
          "2012-03-01",
          "2012-04-01",
          "2012-05-01",
          "2012-06-01",
          "2012-07-01",
          "2012-08-01",
          "2012-09-01",
          "2012-10-01",
          "2012-11-01",
          "2012-12-01",
          "2013-01-01",
          "2013-02-01",
          "2013-03-01",
          "2013-04-01",
          "2013-05-01",
          "2013-06-01",
          "2013-07-01",
          "2013-08-01",
          "2013-09-01",
          "2013-10-01",
          "2013-11-01",
          "2013-12-01",
          "2014-01-01",
          "2014-02-01",
          "2014-03-01",
          "2014-04-01",
          "2014-05-01",
          "2014-06-01",
          "2014-07-01",
          "2014-08-01",
          "2014-09-01",
          "2014-10-01",
          "2014-11-01",
          "2014-12-01",
          "2015-01-01",
          "2015-02-01",
          "2015-03-01",
          "2015-04-01",
          "2015-05-01",
          "2015-06-01",
          "2015-07-01",
          "2015-08-01",
          "2015-09-01",
          "2015-10-01",
          "2015-11-01",
          "2015-12-01",
          "2016-01-01",
          "2016-02-01",
          "2016-03-01"
         ],
         "xaxis": "x",
         "y": [
          2913,
          5863,
          4780,
          6057,
          6390,
          12118,
          14407,
          15083,
          14237,
          11660,
          13771,
          15965,
          18203,
          17514,
          14068,
          17879,
          17586,
          18866,
          19317,
          19502,
          18132,
          16002,
          16145,
          16848,
          19955,
          18760,
          15353,
          17558,
          17011,
          18873,
          19097,
          19292,
          18211,
          16023,
          17180,
          18680,
          20320,
          20063,
          18705,
          18985,
          17357,
          18993,
          19747,
          20248,
          19786,
          16965,
          17022,
          18348,
          20516,
          19958,
          17499,
          18996,
          15632,
          17270,
          18712,
          18728,
          19995,
          18619,
          18555,
          18885,
          20425,
          20431,
          18459,
          19898,
          19450,
          20163,
          20248,
          18670,
          20871,
          19380,
          18601,
          22913,
          40368,
          41482,
          33802,
          37351,
          35937,
          42307,
          42440,
          43092,
          42853,
          31315,
          33050,
          35920,
          41695,
          41404,
          33846,
          37369
         ],
         "yaxis": "y"
        },
        {
         "hovertemplate": "Group=Middle East rolling 12<br>Mes=%{x}<br>Pasajeros=%{y}<extra></extra>",
         "legendgroup": "Middle East rolling 12",
         "line": {
          "color": "#ab63fa",
          "dash": "solid"
         },
         "marker": {
          "symbol": "circle"
         },
         "mode": "lines",
         "name": "Middle East rolling 12",
         "showlegend": true,
         "type": "scattergl",
         "x": [
          "2008-12-01",
          "2009-01-01",
          "2009-02-01",
          "2009-03-01",
          "2009-04-01",
          "2009-05-01",
          "2009-06-01",
          "2009-07-01",
          "2009-08-01",
          "2009-09-01",
          "2009-10-01",
          "2009-11-01",
          "2009-12-01",
          "2010-01-01",
          "2010-02-01",
          "2010-03-01",
          "2010-04-01",
          "2010-05-01",
          "2010-06-01",
          "2010-07-01",
          "2010-08-01",
          "2010-09-01",
          "2010-10-01",
          "2010-11-01",
          "2010-12-01",
          "2011-01-01",
          "2011-02-01",
          "2011-03-01",
          "2011-04-01",
          "2011-05-01",
          "2011-06-01",
          "2011-07-01",
          "2011-08-01",
          "2011-09-01",
          "2011-10-01",
          "2011-11-01",
          "2011-12-01",
          "2012-01-01",
          "2012-02-01",
          "2012-03-01",
          "2012-04-01",
          "2012-05-01",
          "2012-06-01",
          "2012-07-01",
          "2012-08-01",
          "2012-09-01",
          "2012-10-01",
          "2012-11-01",
          "2012-12-01",
          "2013-01-01",
          "2013-02-01",
          "2013-03-01",
          "2013-04-01",
          "2013-05-01",
          "2013-06-01",
          "2013-07-01",
          "2013-08-01",
          "2013-09-01",
          "2013-10-01",
          "2013-11-01",
          "2013-12-01",
          "2014-01-01",
          "2014-02-01",
          "2014-03-01",
          "2014-04-01",
          "2014-05-01",
          "2014-06-01",
          "2014-07-01",
          "2014-08-01",
          "2014-09-01",
          "2014-10-01",
          "2014-11-01",
          "2014-12-01",
          "2015-01-01",
          "2015-02-01",
          "2015-03-01",
          "2015-04-01",
          "2015-05-01",
          "2015-06-01",
          "2015-07-01",
          "2015-08-01",
          "2015-09-01",
          "2015-10-01",
          "2015-11-01",
          "2015-12-01",
          "2016-01-01",
          "2016-02-01",
          "2016-03-01"
         ],
         "xaxis": "x",
         "y": [
          null,
          null,
          null,
          null,
          null,
          null,
          10270.333333333334,
          11544.5,
          12515.416666666666,
          13289.416666666666,
          14274.583333333334,
          15207.583333333334,
          15769.916666666666,
          16179.083333333334,
          16547.333333333332,
          16871.916666666668,
          17233.75,
          17431.583333333332,
          17505.166666666668,
          17651.166666666668,
          17755,
          17862.083333333332,
          17835.333333333332,
          17787.416666666668,
          17788,
          17769.666666666668,
          17752.166666666668,
          17758.75,
          17760.5,
          17846.75,
          17999.416666666668,
          18029.833333333332,
          18138.416666666668,
          18417.75,
          18536.666666666668,
          18565.5,
          18575.5,
          18629.666666666668,
          18709.333333333332,
          18840.583333333332,
          18919.083333333332,
          18905.916666666668,
          18878.25,
          18894.583333333332,
          18885.833333333332,
          18785.333333333332,
          18786.25,
          18642.5,
          18498.916666666668,
          18412.666666666668,
          18286,
          18303.416666666668,
          18441.25,
          18569,
          18613.75,
          18606.166666666668,
          18645.583333333332,
          18725.583333333332,
          18800.75,
          19118.916666666668,
          19360,
          19488,
          19483.166666666668,
          19556.166666666668,
          19619.583333333332,
          19623.416666666668,
          19959.083333333332,
          21621,
          23375.25,
          24653.833333333332,
          26108.25,
          27482.166666666668,
          29327.5,
          31176.833333333332,
          33212,
          35043.833333333336,
          36038.416666666664,
          37242.5,
          38326.416666666664,
          38437,
          38430.5,
          38434.166666666664,
          38435.666666666664,
          null,
          null,
          null,
          null,
          null
         ],
         "yaxis": "y"
        },
        {
         "hovertemplate": "Group=South America<br>Mes=%{x}<br>Pasajeros=%{y}<extra></extra>",
         "legendgroup": "South America",
         "line": {
          "color": "#FFA15A",
          "dash": "solid"
         },
         "marker": {
          "symbol": "circle"
         },
         "mode": "lines",
         "name": "South America",
         "showlegend": true,
         "type": "scattergl",
         "x": [
          "2010-07-01",
          "2010-08-01",
          "2010-09-01",
          "2010-10-01",
          "2010-11-01",
          "2010-12-01",
          "2011-01-01",
          "2011-02-01",
          "2011-03-01",
          "2011-04-01",
          "2011-05-01",
          "2011-06-01",
          "2011-07-01",
          "2011-08-01",
          "2011-09-01",
          "2011-10-01",
          "2011-11-01",
          "2011-12-01",
          "2012-01-01",
          "2012-02-01",
          "2012-03-01",
          "2012-04-01",
          "2012-05-01",
          "2012-06-01",
          "2012-07-01",
          "2012-08-01",
          "2012-09-01",
          "2012-10-01",
          "2012-11-01",
          "2012-12-01",
          "2013-01-01",
          "2013-02-01",
          "2013-03-01",
          "2013-04-01",
          "2013-05-01",
          "2013-06-01",
          "2013-07-01",
          "2013-08-01",
          "2013-09-01",
          "2013-10-01",
          "2013-11-01",
          "2013-12-01",
          "2014-01-01",
          "2014-02-01",
          "2014-03-01"
         ],
         "xaxis": "x",
         "y": [
          6430,
          6064,
          5411,
          6253,
          6079,
          6234,
          6567,
          5894,
          6703,
          5658,
          5784,
          5331,
          6118,
          5157,
          4323,
          4184,
          4243,
          6796,
          6478,
          4926,
          6068,
          4879,
          5770,
          5675,
          5176,
          5126,
          5016,
          6525,
          6005,
          4809,
          3920,
          6079,
          7081,
          5107,
          5548,
          5487,
          5686,
          5877,
          5336,
          5301,
          4988,
          5002,
          5419,
          4764,
          5464
         ],
         "yaxis": "y"
        },
        {
         "hovertemplate": "Group=South America rolling 12<br>Mes=%{x}<br>Pasajeros=%{y}<extra></extra>",
         "legendgroup": "South America rolling 12",
         "line": {
          "color": "#19d3f3",
          "dash": "solid"
         },
         "marker": {
          "symbol": "circle"
         },
         "mode": "lines",
         "name": "South America rolling 12",
         "showlegend": true,
         "type": "scattergl",
         "x": [
          "2010-07-01",
          "2010-08-01",
          "2010-09-01",
          "2010-10-01",
          "2010-11-01",
          "2010-12-01",
          "2011-01-01",
          "2011-02-01",
          "2011-03-01",
          "2011-04-01",
          "2011-05-01",
          "2011-06-01",
          "2011-07-01",
          "2011-08-01",
          "2011-09-01",
          "2011-10-01",
          "2011-11-01",
          "2011-12-01",
          "2012-01-01",
          "2012-02-01",
          "2012-03-01",
          "2012-04-01",
          "2012-05-01",
          "2012-06-01",
          "2012-07-01",
          "2012-08-01",
          "2012-09-01",
          "2012-10-01",
          "2012-11-01",
          "2012-12-01",
          "2013-01-01",
          "2013-02-01",
          "2013-03-01",
          "2013-04-01",
          "2013-05-01",
          "2013-06-01",
          "2013-07-01",
          "2013-08-01",
          "2013-09-01",
          "2013-10-01",
          "2013-11-01",
          "2013-12-01",
          "2014-01-01",
          "2014-02-01",
          "2014-03-01"
         ],
         "xaxis": "x",
         "y": [
          null,
          null,
          null,
          null,
          null,
          null,
          6034,
          6008,
          5932.416666666667,
          5841.75,
          5669.333333333333,
          5516.333333333333,
          5563.166666666667,
          5555.75,
          5475.083333333333,
          5422.166666666667,
          5357.25,
          5356.083333333333,
          5384.75,
          5306.25,
          5303.666666666667,
          5361.416666666667,
          5556.5,
          5703.333333333333,
          5537.75,
          5324.583333333333,
          5420.666666666667,
          5505.083333333333,
          5524.083333333333,
          5505.583333333333,
          5489.916666666667,
          5532.416666666667,
          5595,
          5621.666666666667,
          5519.666666666667,
          5434.916666666667,
          5451,
          5575.916666666667,
          5466.333333333333,
          5331.583333333333,
          null,
          null,
          null,
          null,
          null
         ],
         "yaxis": "y"
        }
       ],
       "layout": {
        "height": 750,
        "legend": {
         "title": {
          "text": "Group"
         },
         "tracegroupgap": 0
        },
        "plot_bgcolor": "#F9FAFF",
        "template": {
         "data": {
          "bar": [
           {
            "error_x": {
             "color": "#2a3f5f"
            },
            "error_y": {
             "color": "#2a3f5f"
            },
            "marker": {
             "line": {
              "color": "#E5ECF6",
              "width": 0.5
             },
             "pattern": {
              "fillmode": "overlay",
              "size": 10,
              "solidity": 0.2
             }
            },
            "type": "bar"
           }
          ],
          "barpolar": [
           {
            "marker": {
             "line": {
              "color": "#E5ECF6",
              "width": 0.5
             },
             "pattern": {
              "fillmode": "overlay",
              "size": 10,
              "solidity": 0.2
             }
            },
            "type": "barpolar"
           }
          ],
          "carpet": [
           {
            "aaxis": {
             "endlinecolor": "#2a3f5f",
             "gridcolor": "white",
             "linecolor": "white",
             "minorgridcolor": "white",
             "startlinecolor": "#2a3f5f"
            },
            "baxis": {
             "endlinecolor": "#2a3f5f",
             "gridcolor": "white",
             "linecolor": "white",
             "minorgridcolor": "white",
             "startlinecolor": "#2a3f5f"
            },
            "type": "carpet"
           }
          ],
          "choropleth": [
           {
            "colorbar": {
             "outlinewidth": 0,
             "ticks": ""
            },
            "type": "choropleth"
           }
          ],
          "contour": [
           {
            "colorbar": {
             "outlinewidth": 0,
             "ticks": ""
            },
            "colorscale": [
             [
              0,
              "#0d0887"
             ],
             [
              0.1111111111111111,
              "#46039f"
             ],
             [
              0.2222222222222222,
              "#7201a8"
             ],
             [
              0.3333333333333333,
              "#9c179e"
             ],
             [
              0.4444444444444444,
              "#bd3786"
             ],
             [
              0.5555555555555556,
              "#d8576b"
             ],
             [
              0.6666666666666666,
              "#ed7953"
             ],
             [
              0.7777777777777778,
              "#fb9f3a"
             ],
             [
              0.8888888888888888,
              "#fdca26"
             ],
             [
              1,
              "#f0f921"
             ]
            ],
            "type": "contour"
           }
          ],
          "contourcarpet": [
           {
            "colorbar": {
             "outlinewidth": 0,
             "ticks": ""
            },
            "type": "contourcarpet"
           }
          ],
          "heatmap": [
           {
            "colorbar": {
             "outlinewidth": 0,
             "ticks": ""
            },
            "colorscale": [
             [
              0,
              "#0d0887"
             ],
             [
              0.1111111111111111,
              "#46039f"
             ],
             [
              0.2222222222222222,
              "#7201a8"
             ],
             [
              0.3333333333333333,
              "#9c179e"
             ],
             [
              0.4444444444444444,
              "#bd3786"
             ],
             [
              0.5555555555555556,
              "#d8576b"
             ],
             [
              0.6666666666666666,
              "#ed7953"
             ],
             [
              0.7777777777777778,
              "#fb9f3a"
             ],
             [
              0.8888888888888888,
              "#fdca26"
             ],
             [
              1,
              "#f0f921"
             ]
            ],
            "type": "heatmap"
           }
          ],
          "heatmapgl": [
           {
            "colorbar": {
             "outlinewidth": 0,
             "ticks": ""
            },
            "colorscale": [
             [
              0,
              "#0d0887"
             ],
             [
              0.1111111111111111,
              "#46039f"
             ],
             [
              0.2222222222222222,
              "#7201a8"
             ],
             [
              0.3333333333333333,
              "#9c179e"
             ],
             [
              0.4444444444444444,
              "#bd3786"
             ],
             [
              0.5555555555555556,
              "#d8576b"
             ],
             [
              0.6666666666666666,
              "#ed7953"
             ],
             [
              0.7777777777777778,
              "#fb9f3a"
             ],
             [
              0.8888888888888888,
              "#fdca26"
             ],
             [
              1,
              "#f0f921"
             ]
            ],
            "type": "heatmapgl"
           }
          ],
          "histogram": [
           {
            "marker": {
             "pattern": {
              "fillmode": "overlay",
              "size": 10,
              "solidity": 0.2
             }
            },
            "type": "histogram"
           }
          ],
          "histogram2d": [
           {
            "colorbar": {
             "outlinewidth": 0,
             "ticks": ""
            },
            "colorscale": [
             [
              0,
              "#0d0887"
             ],
             [
              0.1111111111111111,
              "#46039f"
             ],
             [
              0.2222222222222222,
              "#7201a8"
             ],
             [
              0.3333333333333333,
              "#9c179e"
             ],
             [
              0.4444444444444444,
              "#bd3786"
             ],
             [
              0.5555555555555556,
              "#d8576b"
             ],
             [
              0.6666666666666666,
              "#ed7953"
             ],
             [
              0.7777777777777778,
              "#fb9f3a"
             ],
             [
              0.8888888888888888,
              "#fdca26"
             ],
             [
              1,
              "#f0f921"
             ]
            ],
            "type": "histogram2d"
           }
          ],
          "histogram2dcontour": [
           {
            "colorbar": {
             "outlinewidth": 0,
             "ticks": ""
            },
            "colorscale": [
             [
              0,
              "#0d0887"
             ],
             [
              0.1111111111111111,
              "#46039f"
             ],
             [
              0.2222222222222222,
              "#7201a8"
             ],
             [
              0.3333333333333333,
              "#9c179e"
             ],
             [
              0.4444444444444444,
              "#bd3786"
             ],
             [
              0.5555555555555556,
              "#d8576b"
             ],
             [
              0.6666666666666666,
              "#ed7953"
             ],
             [
              0.7777777777777778,
              "#fb9f3a"
             ],
             [
              0.8888888888888888,
              "#fdca26"
             ],
             [
              1,
              "#f0f921"
             ]
            ],
            "type": "histogram2dcontour"
           }
          ],
          "mesh3d": [
           {
            "colorbar": {
             "outlinewidth": 0,
             "ticks": ""
            },
            "type": "mesh3d"
           }
          ],
          "parcoords": [
           {
            "line": {
             "colorbar": {
              "outlinewidth": 0,
              "ticks": ""
             }
            },
            "type": "parcoords"
           }
          ],
          "pie": [
           {
            "automargin": true,
            "type": "pie"
           }
          ],
          "scatter": [
           {
            "fillpattern": {
             "fillmode": "overlay",
             "size": 10,
             "solidity": 0.2
            },
            "type": "scatter"
           }
          ],
          "scatter3d": [
           {
            "line": {
             "colorbar": {
              "outlinewidth": 0,
              "ticks": ""
             }
            },
            "marker": {
             "colorbar": {
              "outlinewidth": 0,
              "ticks": ""
             }
            },
            "type": "scatter3d"
           }
          ],
          "scattercarpet": [
           {
            "marker": {
             "colorbar": {
              "outlinewidth": 0,
              "ticks": ""
             }
            },
            "type": "scattercarpet"
           }
          ],
          "scattergeo": [
           {
            "marker": {
             "colorbar": {
              "outlinewidth": 0,
              "ticks": ""
             }
            },
            "type": "scattergeo"
           }
          ],
          "scattergl": [
           {
            "marker": {
             "colorbar": {
              "outlinewidth": 0,
              "ticks": ""
             }
            },
            "type": "scattergl"
           }
          ],
          "scattermapbox": [
           {
            "marker": {
             "colorbar": {
              "outlinewidth": 0,
              "ticks": ""
             }
            },
            "type": "scattermapbox"
           }
          ],
          "scatterpolar": [
           {
            "marker": {
             "colorbar": {
              "outlinewidth": 0,
              "ticks": ""
             }
            },
            "type": "scatterpolar"
           }
          ],
          "scatterpolargl": [
           {
            "marker": {
             "colorbar": {
              "outlinewidth": 0,
              "ticks": ""
             }
            },
            "type": "scatterpolargl"
           }
          ],
          "scatterternary": [
           {
            "marker": {
             "colorbar": {
              "outlinewidth": 0,
              "ticks": ""
             }
            },
            "type": "scatterternary"
           }
          ],
          "surface": [
           {
            "colorbar": {
             "outlinewidth": 0,
             "ticks": ""
            },
            "colorscale": [
             [
              0,
              "#0d0887"
             ],
             [
              0.1111111111111111,
              "#46039f"
             ],
             [
              0.2222222222222222,
              "#7201a8"
             ],
             [
              0.3333333333333333,
              "#9c179e"
             ],
             [
              0.4444444444444444,
              "#bd3786"
             ],
             [
              0.5555555555555556,
              "#d8576b"
             ],
             [
              0.6666666666666666,
              "#ed7953"
             ],
             [
              0.7777777777777778,
              "#fb9f3a"
             ],
             [
              0.8888888888888888,
              "#fdca26"
             ],
             [
              1,
              "#f0f921"
             ]
            ],
            "type": "surface"
           }
          ],
          "table": [
           {
            "cells": {
             "fill": {
              "color": "#EBF0F8"
             },
             "line": {
              "color": "white"
             }
            },
            "header": {
             "fill": {
              "color": "#C8D4E3"
             },
             "line": {
              "color": "white"
             }
            },
            "type": "table"
           }
          ]
         },
         "layout": {
          "annotationdefaults": {
           "arrowcolor": "#2a3f5f",
           "arrowhead": 0,
           "arrowwidth": 1
          },
          "autotypenumbers": "strict",
          "coloraxis": {
           "colorbar": {
            "outlinewidth": 0,
            "ticks": ""
           }
          },
          "colorscale": {
           "diverging": [
            [
             0,
             "#8e0152"
            ],
            [
             0.1,
             "#c51b7d"
            ],
            [
             0.2,
             "#de77ae"
            ],
            [
             0.3,
             "#f1b6da"
            ],
            [
             0.4,
             "#fde0ef"
            ],
            [
             0.5,
             "#f7f7f7"
            ],
            [
             0.6,
             "#e6f5d0"
            ],
            [
             0.7,
             "#b8e186"
            ],
            [
             0.8,
             "#7fbc41"
            ],
            [
             0.9,
             "#4d9221"
            ],
            [
             1,
             "#276419"
            ]
           ],
           "sequential": [
            [
             0,
             "#0d0887"
            ],
            [
             0.1111111111111111,
             "#46039f"
            ],
            [
             0.2222222222222222,
             "#7201a8"
            ],
            [
             0.3333333333333333,
             "#9c179e"
            ],
            [
             0.4444444444444444,
             "#bd3786"
            ],
            [
             0.5555555555555556,
             "#d8576b"
            ],
            [
             0.6666666666666666,
             "#ed7953"
            ],
            [
             0.7777777777777778,
             "#fb9f3a"
            ],
            [
             0.8888888888888888,
             "#fdca26"
            ],
            [
             1,
             "#f0f921"
            ]
           ],
           "sequentialminus": [
            [
             0,
             "#0d0887"
            ],
            [
             0.1111111111111111,
             "#46039f"
            ],
            [
             0.2222222222222222,
             "#7201a8"
            ],
            [
             0.3333333333333333,
             "#9c179e"
            ],
            [
             0.4444444444444444,
             "#bd3786"
            ],
            [
             0.5555555555555556,
             "#d8576b"
            ],
            [
             0.6666666666666666,
             "#ed7953"
            ],
            [
             0.7777777777777778,
             "#fb9f3a"
            ],
            [
             0.8888888888888888,
             "#fdca26"
            ],
            [
             1,
             "#f0f921"
            ]
           ]
          },
          "colorway": [
           "#636efa",
           "#EF553B",
           "#00cc96",
           "#ab63fa",
           "#FFA15A",
           "#19d3f3",
           "#FF6692",
           "#B6E880",
           "#FF97FF",
           "#FECB52"
          ],
          "font": {
           "color": "#2a3f5f"
          },
          "geo": {
           "bgcolor": "white",
           "lakecolor": "white",
           "landcolor": "#E5ECF6",
           "showlakes": true,
           "showland": true,
           "subunitcolor": "white"
          },
          "hoverlabel": {
           "align": "left"
          },
          "hovermode": "closest",
          "mapbox": {
           "style": "light"
          },
          "paper_bgcolor": "white",
          "plot_bgcolor": "#E5ECF6",
          "polar": {
           "angularaxis": {
            "gridcolor": "white",
            "linecolor": "white",
            "ticks": ""
           },
           "bgcolor": "#E5ECF6",
           "radialaxis": {
            "gridcolor": "white",
            "linecolor": "white",
            "ticks": ""
           }
          },
          "scene": {
           "xaxis": {
            "backgroundcolor": "#E5ECF6",
            "gridcolor": "white",
            "gridwidth": 2,
            "linecolor": "white",
            "showbackground": true,
            "ticks": "",
            "zerolinecolor": "white"
           },
           "yaxis": {
            "backgroundcolor": "#E5ECF6",
            "gridcolor": "white",
            "gridwidth": 2,
            "linecolor": "white",
            "showbackground": true,
            "ticks": "",
            "zerolinecolor": "white"
           },
           "zaxis": {
            "backgroundcolor": "#E5ECF6",
            "gridcolor": "white",
            "gridwidth": 2,
            "linecolor": "white",
            "showbackground": true,
            "ticks": "",
            "zerolinecolor": "white"
           }
          },
          "shapedefaults": {
           "line": {
            "color": "#2a3f5f"
           }
          },
          "ternary": {
           "aaxis": {
            "gridcolor": "white",
            "linecolor": "white",
            "ticks": ""
           },
           "baxis": {
            "gridcolor": "white",
            "linecolor": "white",
            "ticks": ""
           },
           "bgcolor": "#E5ECF6",
           "caxis": {
            "gridcolor": "white",
            "linecolor": "white",
            "ticks": ""
           }
          },
          "title": {
           "x": 0.05
          },
          "xaxis": {
           "automargin": true,
           "gridcolor": "white",
           "linecolor": "white",
           "ticks": "",
           "title": {
            "standoff": 15
           },
           "zerolinecolor": "white",
           "zerolinewidth": 2
          },
          "yaxis": {
           "automargin": true,
           "gridcolor": "white",
           "linecolor": "white",
           "ticks": "",
           "title": {
            "standoff": 15
           },
           "zerolinecolor": "white",
           "zerolinewidth": 2
          }
         }
        },
        "title": {
         "font": {
          "size": 20
         },
         "text": "Pasajeros por mes, Asia, Australia / Oceania, Canada, Central America, Europe,<br> Mexico, Middle East, South America GEO Region(s) y todas las Operating Airline(s)",
         "x": 0.5
        },
        "width": 1250,
        "xaxis": {
         "anchor": "y",
         "domain": [
          0,
          1
         ],
         "title": {
          "font": {
           "size": 15
          },
          "text": "Mes"
         }
        },
        "yaxis": {
         "anchor": "x",
         "domain": [
          0,
          1
         ],
         "title": {
          "font": {
           "size": 15
          },
          "text": "Pasajeros"
         }
        }
       }
      }
     },
     "metadata": {},
     "output_type": "display_data"
    }
   ],
   "source": [
    "# Comportamiento del flujo de pasajeros en todas las regiones, excepto US y el promedio movil en cada una de ellas\n",
    "sel_regions = region.copy()\n",
    "sel_regions.remove('US')\n",
    "df_3_sel_reg = process_passengers_month(df_1, \"GEO Region\", sel_regions)\n",
    "plot_passengers_month(df_3_sel_reg, \"GEO Region\", sel_regions, roll_mean='Y') "
   ]
  },
  {
   "cell_type": "markdown",
   "metadata": {},
   "source": [
    "![](newplot18.png)"
   ]
  },
  {
   "cell_type": "markdown",
   "metadata": {},
   "source": [
    "<div style=\"letter-spacing: 0.5px; text-align: justify; font-size: 14px;\">\n",
    ". Generación de Gráfico de Pasajeros por Mes con Opciones de Filtrado y Media Móvil mensual para todo el período 2005-2016.\n",
    "</div>"
   ]
  },
  {
   "cell_type": "code",
   "execution_count": 68,
   "metadata": {},
   "outputs": [],
   "source": [
    "# Función para generar gráfico de líneas para analizar los pasajeros por mes y año\n",
    "def passengers_month_year(df_1, columna, seleccion=['todo'], columna_data='passengers', ancho=1000, alto=600):\n",
    "    \"\"\"\n",
    "    Genera un gráfico de líneas que muestra los pasajeros por mes y año.\n",
    "\n",
    "    Parámetros:\n",
    "    - df_1: DataFrame modificado con los datos de pasajeros.\n",
    "    - columna: Columna para filtrar los datos (ej. 'Operating Airline' o 'GEO Region').\n",
    "    - seleccion: Lista de valores para filtrar en la columna especificada. Por defecto, incluye todos los valores.\n",
    "    - columna_data: Nombre de la columna que contiene los datos de pasajeros. Por defecto, 'passengers'.\n",
    "    - ancho: Ancho del gráfico. Por defecto, 1000.\n",
    "    - alto: Alto del gráfico. Por defecto, 600.\n",
    "    \"\"\"\n",
    "    # Definir las columnas relacionadas\n",
    "    columna1, columna2 = 'Operating Airline', 'GEO Region'\n",
    "    otra_columna = columna2 if columna == columna1 else columna1\n",
    "\n",
    "    # Filtrar datos según la selección\n",
    "    df_2 = df_1 if seleccion == ['todo'] else df_1.filter(F.col(columna).isin(seleccion))\n",
    "\n",
    "    # Agregar y agrupar por fecha\n",
    "    df_3 = df_2.groupBy('Date').agg(F.sum(columna_data).alias(columna_data))\n",
    "    \n",
    "    # Obtener los años únicos ordenados\n",
    "    year_ = (\n",
    "        df_3.select(F.year('Date').alias('Year'))\n",
    "        .distinct()\n",
    "        .orderBy('Year')\n",
    "        .rdd.flatMap(lambda x: x)\n",
    "        .collect()\n",
    "    )\n",
    "\n",
    "    # Preparar los datos para el gráfico\n",
    "    plot_data = []\n",
    "    for anyo in year_:\n",
    "        # Filtrar los datos por año y ordenar por mes\n",
    "        df_4 = df_3.filter(F.year('Date') == anyo).orderBy(F.month('Date'))\n",
    "        \n",
    "        # Extraer los meses y datos de pasajeros\n",
    "        data = df_4.select(F.month('Date').alias('Month'), columna_data).collect()\n",
    "        plot_data.extend({'Year': anyo, 'Month': row['Month'], columna_data: row[columna_data]} for row in data)\n",
    "\n",
    "    # Convertir los datos a un DataFrame de Pandas\n",
    "    plot_df = pd.DataFrame(plot_data)\n",
    "\n",
    "    # Crear el gráfico con plotly.express\n",
    "    fig = px.line(\n",
    "        plot_df,\n",
    "        x='Month',\n",
    "        y=columna_data,\n",
    "        color='Year',\n",
    "        labels={'Month': 'Mes', columna_data: 'Pasajeros', 'Year': 'Año'},\n",
    "        title=(\n",
    "            f\"Pasajeros por mes, {', '.join(map(str, seleccion))} {columna}(s) y todas {otra_columna}(s)\"\n",
    "            if len(seleccion) <= 3\n",
    "            else f\"Pasajeros por mes y por {columna} (selección múltiple) y todo {otra_columna}(s)\"\n",
    "        )\n",
    "    )\n",
    "\n",
    "    # Ajustar el diseño del gráfico\n",
    "    fig.update_layout(\n",
    "        width=ancho,\n",
    "        height=alto,\n",
    "        plot_bgcolor='#FBFCFF',\n",
    "        title_font_size=20,\n",
    "        xaxis_title='Mes',\n",
    "        yaxis_title='Pasajeros',\n",
    "        legend_title='Año'\n",
    "    )\n",
    "\n",
    "    # Mostrar el gráfico\n",
    "    fig.show()\n"
   ]
  },
  {
   "cell_type": "markdown",
   "metadata": {},
   "source": [
    "<div style=\"letter-spacing: 0.5px; text-align: justify; font-size: 12px;\">\n",
    "La demanda de pasajeros cae en febrero, aumenta en marzo, se mantiene en abril y sigue creciendo hasta agosto. De nuevo se produce una caida en septiembre, aumenta en octubre, cae en noviembre y de nuevo repunta en diciembre.\n",
    "</div>"
   ]
  },
  {
   "cell_type": "code",
   "execution_count": 69,
   "metadata": {},
   "outputs": [
    {
     "data": {
      "application/vnd.plotly.v1+json": {
       "config": {
        "plotlyServerURL": "https://plot.ly"
       },
       "data": [
        {
         "hovertemplate": "Año=2005<br>Mes=%{x}<br>Pasajeros=%{y}<extra></extra>",
         "legendgroup": "2005",
         "line": {
          "color": "#636efa",
          "dash": "solid"
         },
         "marker": {
          "symbol": "circle"
         },
         "mode": "lines",
         "name": "2005",
         "orientation": "v",
         "showlegend": true,
         "type": "scatter",
         "x": [
          7,
          8,
          9,
          10,
          11,
          12
         ],
         "xaxis": "x",
         "y": [
          3254797,
          3224118,
          2764519,
          2798480,
          2638631,
          2696084
         ],
         "yaxis": "y"
        },
        {
         "hovertemplate": "Año=2006<br>Mes=%{x}<br>Pasajeros=%{y}<extra></extra>",
         "legendgroup": "2006",
         "line": {
          "color": "#EF553B",
          "dash": "solid"
         },
         "marker": {
          "symbol": "circle"
         },
         "mode": "lines",
         "name": "2006",
         "orientation": "v",
         "showlegend": true,
         "type": "scatter",
         "x": [
          1,
          2,
          3,
          4,
          5,
          6,
          7,
          8,
          9,
          10,
          11,
          12
         ],
         "xaxis": "x",
         "y": [
          2471712,
          2247255,
          2738730,
          2792413,
          2846400,
          3091837,
          3248908,
          3165026,
          2738319,
          2851945,
          2671437,
          2717430
         ],
         "yaxis": "y"
        },
        {
         "hovertemplate": "Año=2007<br>Mes=%{x}<br>Pasajeros=%{y}<extra></extra>",
         "legendgroup": "2007",
         "line": {
          "color": "#00cc96",
          "dash": "solid"
         },
         "marker": {
          "symbol": "circle"
         },
         "mode": "lines",
         "name": "2007",
         "orientation": "v",
         "showlegend": true,
         "type": "scatter",
         "x": [
          1,
          2,
          3,
          4,
          5,
          6,
          7,
          8,
          9,
          10,
          11,
          12
         ],
         "xaxis": "x",
         "y": [
          2527036,
          2323522,
          2844144,
          2891446,
          3080467,
          3286732,
          3404925,
          3459915,
          2973709,
          3146765,
          2934915,
          2917258
         ],
         "yaxis": "y"
        },
        {
         "hovertemplate": "Año=2008<br>Mes=%{x}<br>Pasajeros=%{y}<extra></extra>",
         "legendgroup": "2008",
         "line": {
          "color": "#ab63fa",
          "dash": "solid"
         },
         "marker": {
          "symbol": "circle"
         },
         "mode": "lines",
         "name": "2008",
         "orientation": "v",
         "showlegend": true,
         "type": "scatter",
         "x": [
          1,
          2,
          3,
          4,
          5,
          6,
          7,
          8,
          9,
          10,
          11,
          12
         ],
         "xaxis": "x",
         "y": [
          2685375,
          2613849,
          3146970,
          3048005,
          3321383,
          3466528,
          3621751,
          3629829,
          3012836,
          3133206,
          2751947,
          2970862
         ],
         "yaxis": "y"
        },
        {
         "hovertemplate": "Año=2009<br>Mes=%{x}<br>Pasajeros=%{y}<extra></extra>",
         "legendgroup": "2009",
         "line": {
          "color": "#FFA15A",
          "dash": "solid"
         },
         "marker": {
          "symbol": "circle"
         },
         "mode": "lines",
         "name": "2009",
         "orientation": "v",
         "showlegend": true,
         "type": "scatter",
         "x": [
          1,
          2,
          3,
          4,
          5,
          6,
          7,
          8,
          9,
          10,
          11,
          12
         ],
         "xaxis": "x",
         "y": [
          2654860,
          2368782,
          2936292,
          3035226,
          3186209,
          3432110,
          3659471,
          3659379,
          3199046,
          3259010,
          2979513,
          3083736
         ],
         "yaxis": "y"
        },
        {
         "hovertemplate": "Año=2010<br>Mes=%{x}<br>Pasajeros=%{y}<extra></extra>",
         "legendgroup": "2010",
         "line": {
          "color": "#19d3f3",
          "dash": "solid"
         },
         "marker": {
          "symbol": "circle"
         },
         "mode": "lines",
         "name": "2010",
         "orientation": "v",
         "showlegend": true,
         "type": "scatter",
         "x": [
          1,
          2,
          3,
          4,
          5,
          6,
          7,
          8,
          9,
          10,
          11,
          12
         ],
         "xaxis": "x",
         "y": [
          2796566,
          2524760,
          3118364,
          3151412,
          3390714,
          3626272,
          3778957,
          3785346,
          3367415,
          3502275,
          3172057,
          3177096
         ],
         "yaxis": "y"
        },
        {
         "hovertemplate": "Año=2011<br>Mes=%{x}<br>Pasajeros=%{y}<extra></extra>",
         "legendgroup": "2011",
         "line": {
          "color": "#FF6692",
          "dash": "solid"
         },
         "marker": {
          "symbol": "circle"
         },
         "mode": "lines",
         "name": "2011",
         "orientation": "v",
         "showlegend": true,
         "type": "scatter",
         "x": [
          1,
          2,
          3,
          4,
          5,
          6,
          7,
          8,
          9,
          10,
          11,
          12
         ],
         "xaxis": "x",
         "y": [
          2893972,
          2619193,
          3139089,
          3209189,
          3558021,
          3777419,
          3947019,
          3930681,
          3573533,
          3611694,
          3334801,
          3450820
         ],
         "yaxis": "y"
        },
        {
         "hovertemplate": "Año=2012<br>Mes=%{x}<br>Pasajeros=%{y}<extra></extra>",
         "legendgroup": "2012",
         "line": {
          "color": "#B6E880",
          "dash": "solid"
         },
         "marker": {
          "symbol": "circle"
         },
         "mode": "lines",
         "name": "2012",
         "orientation": "v",
         "showlegend": true,
         "type": "scatter",
         "x": [
          1,
          2,
          3,
          4,
          5,
          6,
          7,
          8,
          9,
          10,
          11,
          12
         ],
         "xaxis": "x",
         "y": [
          3218600,
          3005764,
          3481078,
          3569473,
          3825332,
          4112311,
          4290086,
          4362369,
          3831358,
          3849650,
          3482422,
          3448766
         ],
         "yaxis": "y"
        },
        {
         "hovertemplate": "Año=2013<br>Mes=%{x}<br>Pasajeros=%{y}<extra></extra>",
         "legendgroup": "2013",
         "line": {
          "color": "#FF97FF",
          "dash": "solid"
         },
         "marker": {
          "symbol": "circle"
         },
         "mode": "lines",
         "name": "2013",
         "orientation": "v",
         "showlegend": true,
         "type": "scatter",
         "x": [
          1,
          2,
          3,
          4,
          5,
          6,
          7,
          8,
          9,
          10,
          11,
          12
         ],
         "xaxis": "x",
         "y": [
          3209356,
          2968951,
          3599968,
          3609543,
          3934899,
          4155153,
          4181115,
          4351101,
          3785479,
          3926441,
          3470482,
          3819276
         ],
         "yaxis": "y"
        },
        {
         "hovertemplate": "Año=2014<br>Mes=%{x}<br>Pasajeros=%{y}<extra></extra>",
         "legendgroup": "2014",
         "line": {
          "color": "#FECB52",
          "dash": "solid"
         },
         "marker": {
          "symbol": "circle"
         },
         "mode": "lines",
         "name": "2014",
         "orientation": "v",
         "showlegend": true,
         "type": "scatter",
         "x": [
          1,
          2,
          3,
          4,
          5,
          6,
          7,
          8,
          9,
          10,
          11,
          12
         ],
         "xaxis": "x",
         "y": [
          3438136,
          3081846,
          3771574,
          3887382,
          4151403,
          4327219,
          4506218,
          4525926,
          3919485,
          4059884,
          3629119,
          3856908
         ],
         "yaxis": "y"
        },
        {
         "hovertemplate": "Año=2015<br>Mes=%{x}<br>Pasajeros=%{y}<extra></extra>",
         "legendgroup": "2015",
         "line": {
          "color": "#636efa",
          "dash": "solid"
         },
         "marker": {
          "symbol": "circle"
         },
         "mode": "lines",
         "name": "2015",
         "orientation": "v",
         "showlegend": true,
         "type": "scatter",
         "x": [
          1,
          2,
          3,
          4,
          5,
          6,
          7,
          8,
          9,
          10,
          11,
          12
         ],
         "xaxis": "x",
         "y": [
          3551072,
          3248534,
          4002732,
          4022770,
          4361622,
          4559640,
          4802431,
          4797484,
          4201882,
          4375077,
          4014388,
          4129462
         ],
         "yaxis": "y"
        },
        {
         "hovertemplate": "Año=2016<br>Mes=%{x}<br>Pasajeros=%{y}<extra></extra>",
         "legendgroup": "2016",
         "line": {
          "color": "#EF553B",
          "dash": "solid"
         },
         "marker": {
          "symbol": "circle"
         },
         "mode": "lines",
         "name": "2016",
         "orientation": "v",
         "showlegend": true,
         "type": "scatter",
         "x": [
          1,
          2,
          3
         ],
         "xaxis": "x",
         "y": [
          3749417,
          3543751,
          4138030
         ],
         "yaxis": "y"
        }
       ],
       "layout": {
        "height": 600,
        "legend": {
         "title": {
          "text": "Año"
         },
         "tracegroupgap": 0
        },
        "plot_bgcolor": "#FBFCFF",
        "template": {
         "data": {
          "bar": [
           {
            "error_x": {
             "color": "#2a3f5f"
            },
            "error_y": {
             "color": "#2a3f5f"
            },
            "marker": {
             "line": {
              "color": "#E5ECF6",
              "width": 0.5
             },
             "pattern": {
              "fillmode": "overlay",
              "size": 10,
              "solidity": 0.2
             }
            },
            "type": "bar"
           }
          ],
          "barpolar": [
           {
            "marker": {
             "line": {
              "color": "#E5ECF6",
              "width": 0.5
             },
             "pattern": {
              "fillmode": "overlay",
              "size": 10,
              "solidity": 0.2
             }
            },
            "type": "barpolar"
           }
          ],
          "carpet": [
           {
            "aaxis": {
             "endlinecolor": "#2a3f5f",
             "gridcolor": "white",
             "linecolor": "white",
             "minorgridcolor": "white",
             "startlinecolor": "#2a3f5f"
            },
            "baxis": {
             "endlinecolor": "#2a3f5f",
             "gridcolor": "white",
             "linecolor": "white",
             "minorgridcolor": "white",
             "startlinecolor": "#2a3f5f"
            },
            "type": "carpet"
           }
          ],
          "choropleth": [
           {
            "colorbar": {
             "outlinewidth": 0,
             "ticks": ""
            },
            "type": "choropleth"
           }
          ],
          "contour": [
           {
            "colorbar": {
             "outlinewidth": 0,
             "ticks": ""
            },
            "colorscale": [
             [
              0,
              "#0d0887"
             ],
             [
              0.1111111111111111,
              "#46039f"
             ],
             [
              0.2222222222222222,
              "#7201a8"
             ],
             [
              0.3333333333333333,
              "#9c179e"
             ],
             [
              0.4444444444444444,
              "#bd3786"
             ],
             [
              0.5555555555555556,
              "#d8576b"
             ],
             [
              0.6666666666666666,
              "#ed7953"
             ],
             [
              0.7777777777777778,
              "#fb9f3a"
             ],
             [
              0.8888888888888888,
              "#fdca26"
             ],
             [
              1,
              "#f0f921"
             ]
            ],
            "type": "contour"
           }
          ],
          "contourcarpet": [
           {
            "colorbar": {
             "outlinewidth": 0,
             "ticks": ""
            },
            "type": "contourcarpet"
           }
          ],
          "heatmap": [
           {
            "colorbar": {
             "outlinewidth": 0,
             "ticks": ""
            },
            "colorscale": [
             [
              0,
              "#0d0887"
             ],
             [
              0.1111111111111111,
              "#46039f"
             ],
             [
              0.2222222222222222,
              "#7201a8"
             ],
             [
              0.3333333333333333,
              "#9c179e"
             ],
             [
              0.4444444444444444,
              "#bd3786"
             ],
             [
              0.5555555555555556,
              "#d8576b"
             ],
             [
              0.6666666666666666,
              "#ed7953"
             ],
             [
              0.7777777777777778,
              "#fb9f3a"
             ],
             [
              0.8888888888888888,
              "#fdca26"
             ],
             [
              1,
              "#f0f921"
             ]
            ],
            "type": "heatmap"
           }
          ],
          "heatmapgl": [
           {
            "colorbar": {
             "outlinewidth": 0,
             "ticks": ""
            },
            "colorscale": [
             [
              0,
              "#0d0887"
             ],
             [
              0.1111111111111111,
              "#46039f"
             ],
             [
              0.2222222222222222,
              "#7201a8"
             ],
             [
              0.3333333333333333,
              "#9c179e"
             ],
             [
              0.4444444444444444,
              "#bd3786"
             ],
             [
              0.5555555555555556,
              "#d8576b"
             ],
             [
              0.6666666666666666,
              "#ed7953"
             ],
             [
              0.7777777777777778,
              "#fb9f3a"
             ],
             [
              0.8888888888888888,
              "#fdca26"
             ],
             [
              1,
              "#f0f921"
             ]
            ],
            "type": "heatmapgl"
           }
          ],
          "histogram": [
           {
            "marker": {
             "pattern": {
              "fillmode": "overlay",
              "size": 10,
              "solidity": 0.2
             }
            },
            "type": "histogram"
           }
          ],
          "histogram2d": [
           {
            "colorbar": {
             "outlinewidth": 0,
             "ticks": ""
            },
            "colorscale": [
             [
              0,
              "#0d0887"
             ],
             [
              0.1111111111111111,
              "#46039f"
             ],
             [
              0.2222222222222222,
              "#7201a8"
             ],
             [
              0.3333333333333333,
              "#9c179e"
             ],
             [
              0.4444444444444444,
              "#bd3786"
             ],
             [
              0.5555555555555556,
              "#d8576b"
             ],
             [
              0.6666666666666666,
              "#ed7953"
             ],
             [
              0.7777777777777778,
              "#fb9f3a"
             ],
             [
              0.8888888888888888,
              "#fdca26"
             ],
             [
              1,
              "#f0f921"
             ]
            ],
            "type": "histogram2d"
           }
          ],
          "histogram2dcontour": [
           {
            "colorbar": {
             "outlinewidth": 0,
             "ticks": ""
            },
            "colorscale": [
             [
              0,
              "#0d0887"
             ],
             [
              0.1111111111111111,
              "#46039f"
             ],
             [
              0.2222222222222222,
              "#7201a8"
             ],
             [
              0.3333333333333333,
              "#9c179e"
             ],
             [
              0.4444444444444444,
              "#bd3786"
             ],
             [
              0.5555555555555556,
              "#d8576b"
             ],
             [
              0.6666666666666666,
              "#ed7953"
             ],
             [
              0.7777777777777778,
              "#fb9f3a"
             ],
             [
              0.8888888888888888,
              "#fdca26"
             ],
             [
              1,
              "#f0f921"
             ]
            ],
            "type": "histogram2dcontour"
           }
          ],
          "mesh3d": [
           {
            "colorbar": {
             "outlinewidth": 0,
             "ticks": ""
            },
            "type": "mesh3d"
           }
          ],
          "parcoords": [
           {
            "line": {
             "colorbar": {
              "outlinewidth": 0,
              "ticks": ""
             }
            },
            "type": "parcoords"
           }
          ],
          "pie": [
           {
            "automargin": true,
            "type": "pie"
           }
          ],
          "scatter": [
           {
            "fillpattern": {
             "fillmode": "overlay",
             "size": 10,
             "solidity": 0.2
            },
            "type": "scatter"
           }
          ],
          "scatter3d": [
           {
            "line": {
             "colorbar": {
              "outlinewidth": 0,
              "ticks": ""
             }
            },
            "marker": {
             "colorbar": {
              "outlinewidth": 0,
              "ticks": ""
             }
            },
            "type": "scatter3d"
           }
          ],
          "scattercarpet": [
           {
            "marker": {
             "colorbar": {
              "outlinewidth": 0,
              "ticks": ""
             }
            },
            "type": "scattercarpet"
           }
          ],
          "scattergeo": [
           {
            "marker": {
             "colorbar": {
              "outlinewidth": 0,
              "ticks": ""
             }
            },
            "type": "scattergeo"
           }
          ],
          "scattergl": [
           {
            "marker": {
             "colorbar": {
              "outlinewidth": 0,
              "ticks": ""
             }
            },
            "type": "scattergl"
           }
          ],
          "scattermapbox": [
           {
            "marker": {
             "colorbar": {
              "outlinewidth": 0,
              "ticks": ""
             }
            },
            "type": "scattermapbox"
           }
          ],
          "scatterpolar": [
           {
            "marker": {
             "colorbar": {
              "outlinewidth": 0,
              "ticks": ""
             }
            },
            "type": "scatterpolar"
           }
          ],
          "scatterpolargl": [
           {
            "marker": {
             "colorbar": {
              "outlinewidth": 0,
              "ticks": ""
             }
            },
            "type": "scatterpolargl"
           }
          ],
          "scatterternary": [
           {
            "marker": {
             "colorbar": {
              "outlinewidth": 0,
              "ticks": ""
             }
            },
            "type": "scatterternary"
           }
          ],
          "surface": [
           {
            "colorbar": {
             "outlinewidth": 0,
             "ticks": ""
            },
            "colorscale": [
             [
              0,
              "#0d0887"
             ],
             [
              0.1111111111111111,
              "#46039f"
             ],
             [
              0.2222222222222222,
              "#7201a8"
             ],
             [
              0.3333333333333333,
              "#9c179e"
             ],
             [
              0.4444444444444444,
              "#bd3786"
             ],
             [
              0.5555555555555556,
              "#d8576b"
             ],
             [
              0.6666666666666666,
              "#ed7953"
             ],
             [
              0.7777777777777778,
              "#fb9f3a"
             ],
             [
              0.8888888888888888,
              "#fdca26"
             ],
             [
              1,
              "#f0f921"
             ]
            ],
            "type": "surface"
           }
          ],
          "table": [
           {
            "cells": {
             "fill": {
              "color": "#EBF0F8"
             },
             "line": {
              "color": "white"
             }
            },
            "header": {
             "fill": {
              "color": "#C8D4E3"
             },
             "line": {
              "color": "white"
             }
            },
            "type": "table"
           }
          ]
         },
         "layout": {
          "annotationdefaults": {
           "arrowcolor": "#2a3f5f",
           "arrowhead": 0,
           "arrowwidth": 1
          },
          "autotypenumbers": "strict",
          "coloraxis": {
           "colorbar": {
            "outlinewidth": 0,
            "ticks": ""
           }
          },
          "colorscale": {
           "diverging": [
            [
             0,
             "#8e0152"
            ],
            [
             0.1,
             "#c51b7d"
            ],
            [
             0.2,
             "#de77ae"
            ],
            [
             0.3,
             "#f1b6da"
            ],
            [
             0.4,
             "#fde0ef"
            ],
            [
             0.5,
             "#f7f7f7"
            ],
            [
             0.6,
             "#e6f5d0"
            ],
            [
             0.7,
             "#b8e186"
            ],
            [
             0.8,
             "#7fbc41"
            ],
            [
             0.9,
             "#4d9221"
            ],
            [
             1,
             "#276419"
            ]
           ],
           "sequential": [
            [
             0,
             "#0d0887"
            ],
            [
             0.1111111111111111,
             "#46039f"
            ],
            [
             0.2222222222222222,
             "#7201a8"
            ],
            [
             0.3333333333333333,
             "#9c179e"
            ],
            [
             0.4444444444444444,
             "#bd3786"
            ],
            [
             0.5555555555555556,
             "#d8576b"
            ],
            [
             0.6666666666666666,
             "#ed7953"
            ],
            [
             0.7777777777777778,
             "#fb9f3a"
            ],
            [
             0.8888888888888888,
             "#fdca26"
            ],
            [
             1,
             "#f0f921"
            ]
           ],
           "sequentialminus": [
            [
             0,
             "#0d0887"
            ],
            [
             0.1111111111111111,
             "#46039f"
            ],
            [
             0.2222222222222222,
             "#7201a8"
            ],
            [
             0.3333333333333333,
             "#9c179e"
            ],
            [
             0.4444444444444444,
             "#bd3786"
            ],
            [
             0.5555555555555556,
             "#d8576b"
            ],
            [
             0.6666666666666666,
             "#ed7953"
            ],
            [
             0.7777777777777778,
             "#fb9f3a"
            ],
            [
             0.8888888888888888,
             "#fdca26"
            ],
            [
             1,
             "#f0f921"
            ]
           ]
          },
          "colorway": [
           "#636efa",
           "#EF553B",
           "#00cc96",
           "#ab63fa",
           "#FFA15A",
           "#19d3f3",
           "#FF6692",
           "#B6E880",
           "#FF97FF",
           "#FECB52"
          ],
          "font": {
           "color": "#2a3f5f"
          },
          "geo": {
           "bgcolor": "white",
           "lakecolor": "white",
           "landcolor": "#E5ECF6",
           "showlakes": true,
           "showland": true,
           "subunitcolor": "white"
          },
          "hoverlabel": {
           "align": "left"
          },
          "hovermode": "closest",
          "mapbox": {
           "style": "light"
          },
          "paper_bgcolor": "white",
          "plot_bgcolor": "#E5ECF6",
          "polar": {
           "angularaxis": {
            "gridcolor": "white",
            "linecolor": "white",
            "ticks": ""
           },
           "bgcolor": "#E5ECF6",
           "radialaxis": {
            "gridcolor": "white",
            "linecolor": "white",
            "ticks": ""
           }
          },
          "scene": {
           "xaxis": {
            "backgroundcolor": "#E5ECF6",
            "gridcolor": "white",
            "gridwidth": 2,
            "linecolor": "white",
            "showbackground": true,
            "ticks": "",
            "zerolinecolor": "white"
           },
           "yaxis": {
            "backgroundcolor": "#E5ECF6",
            "gridcolor": "white",
            "gridwidth": 2,
            "linecolor": "white",
            "showbackground": true,
            "ticks": "",
            "zerolinecolor": "white"
           },
           "zaxis": {
            "backgroundcolor": "#E5ECF6",
            "gridcolor": "white",
            "gridwidth": 2,
            "linecolor": "white",
            "showbackground": true,
            "ticks": "",
            "zerolinecolor": "white"
           }
          },
          "shapedefaults": {
           "line": {
            "color": "#2a3f5f"
           }
          },
          "ternary": {
           "aaxis": {
            "gridcolor": "white",
            "linecolor": "white",
            "ticks": ""
           },
           "baxis": {
            "gridcolor": "white",
            "linecolor": "white",
            "ticks": ""
           },
           "bgcolor": "#E5ECF6",
           "caxis": {
            "gridcolor": "white",
            "linecolor": "white",
            "ticks": ""
           }
          },
          "title": {
           "x": 0.05
          },
          "xaxis": {
           "automargin": true,
           "gridcolor": "white",
           "linecolor": "white",
           "ticks": "",
           "title": {
            "standoff": 15
           },
           "zerolinecolor": "white",
           "zerolinewidth": 2
          },
          "yaxis": {
           "automargin": true,
           "gridcolor": "white",
           "linecolor": "white",
           "ticks": "",
           "title": {
            "standoff": 15
           },
           "zerolinecolor": "white",
           "zerolinewidth": 2
          }
         }
        },
        "title": {
         "font": {
          "size": 20
         },
         "text": "Pasajeros por mes, todo GEO Region(s) y todas Operating Airline(s)"
        },
        "width": 1000,
        "xaxis": {
         "anchor": "y",
         "domain": [
          0,
          1
         ],
         "title": {
          "text": "Mes"
         }
        },
        "yaxis": {
         "anchor": "x",
         "domain": [
          0,
          1
         ],
         "title": {
          "text": "Pasajeros"
         }
        }
       }
      }
     },
     "metadata": {},
     "output_type": "display_data"
    }
   ],
   "source": [
    "# Comportamiento mensual del flujo de pasajeros en todas las aerolíneas durante 2005-2016\n",
    "df_3_year = passengers_month_year(df_1, 'GEO Region') "
   ]
  },
  {
   "cell_type": "markdown",
   "metadata": {},
   "source": [
    "![](newplot19.png)"
   ]
  },
  {
   "cell_type": "markdown",
   "metadata": {},
   "source": [
    "<div style=\"letter-spacing: 0.5px; text-align: justify; font-size: 14px;\">\n",
    "Comportamiento de United Airlines\n",
    "</div>"
   ]
  },
  {
   "cell_type": "markdown",
   "metadata": {},
   "source": [
    "<div style=\"letter-spacing: 0.5px; text-align: justify; font-size: 12px;\">\n",
    "Se observa un salto brusco en 2013, lo cual está relacionado con la existencia de dos entradas en el dataframe para esta aerolínea. United Airlines es la aerolínea que transporta la mayor cantidad de pasajeros en rutas nacionales e internacionales.\n",
    "</div>"
   ]
  },
  {
   "cell_type": "code",
   "execution_count": 70,
   "metadata": {},
   "outputs": [
    {
     "data": {
      "application/vnd.plotly.v1+json": {
       "config": {
        "plotlyServerURL": "https://plot.ly"
       },
       "data": [
        {
         "hovertemplate": "Año=2005<br>Mes=%{x}<br>Pasajeros=%{y}<extra></extra>",
         "legendgroup": "2005",
         "line": {
          "color": "#636efa",
          "dash": "solid"
         },
         "marker": {
          "symbol": "circle"
         },
         "mode": "lines",
         "name": "2005",
         "orientation": "v",
         "showlegend": true,
         "type": "scatter",
         "x": [
          7,
          8,
          9,
          10,
          11,
          12
         ],
         "xaxis": "x",
         "y": [
          123117,
          123640,
          99227,
          104361,
          94771,
          97199
         ],
         "yaxis": "y"
        },
        {
         "hovertemplate": "Año=2006<br>Mes=%{x}<br>Pasajeros=%{y}<extra></extra>",
         "legendgroup": "2006",
         "line": {
          "color": "#EF553B",
          "dash": "solid"
         },
         "marker": {
          "symbol": "circle"
         },
         "mode": "lines",
         "name": "2006",
         "orientation": "v",
         "showlegend": true,
         "type": "scatter",
         "x": [
          1,
          2,
          3,
          4,
          5,
          6,
          7,
          8,
          9,
          10,
          11,
          12
         ],
         "xaxis": "x",
         "y": [
          83334,
          73621,
          93517,
          98987,
          102611,
          123701,
          131097,
          131102,
          107391,
          111716,
          98764,
          103207
         ],
         "yaxis": "y"
        },
        {
         "hovertemplate": "Año=2007<br>Mes=%{x}<br>Pasajeros=%{y}<extra></extra>",
         "legendgroup": "2007",
         "line": {
          "color": "#00cc96",
          "dash": "solid"
         },
         "marker": {
          "symbol": "circle"
         },
         "mode": "lines",
         "name": "2007",
         "orientation": "v",
         "showlegend": true,
         "type": "scatter",
         "x": [
          1,
          2,
          3,
          4,
          5,
          6,
          7,
          8,
          9,
          10,
          11,
          12
         ],
         "xaxis": "x",
         "y": [
          90139,
          80358,
          94231,
          103651,
          115156,
          133135,
          140037,
          145352,
          109257,
          119159,
          102419,
          104833
         ],
         "yaxis": "y"
        },
        {
         "hovertemplate": "Año=2008<br>Mes=%{x}<br>Pasajeros=%{y}<extra></extra>",
         "legendgroup": "2008",
         "line": {
          "color": "#ab63fa",
          "dash": "solid"
         },
         "marker": {
          "symbol": "circle"
         },
         "mode": "lines",
         "name": "2008",
         "orientation": "v",
         "showlegend": true,
         "type": "scatter",
         "x": [
          1,
          2,
          3,
          4,
          5,
          6,
          7,
          8,
          9,
          10,
          11,
          12
         ],
         "xaxis": "x",
         "y": [
          88621,
          82446,
          99772,
          99095,
          115097,
          131297,
          141662,
          144169,
          107151,
          117925,
          100703,
          114195
         ],
         "yaxis": "y"
        },
        {
         "hovertemplate": "Año=2009<br>Mes=%{x}<br>Pasajeros=%{y}<extra></extra>",
         "legendgroup": "2009",
         "line": {
          "color": "#FFA15A",
          "dash": "solid"
         },
         "marker": {
          "symbol": "circle"
         },
         "mode": "lines",
         "name": "2009",
         "orientation": "v",
         "showlegend": true,
         "type": "scatter",
         "x": [
          1,
          2,
          3,
          4,
          5,
          6,
          7,
          8,
          9,
          10,
          11,
          12
         ],
         "xaxis": "x",
         "y": [
          93617,
          80432,
          103013,
          110412,
          121184,
          136518,
          151543,
          154393,
          121881,
          125956,
          108670,
          121300
         ],
         "yaxis": "y"
        },
        {
         "hovertemplate": "Año=2010<br>Mes=%{x}<br>Pasajeros=%{y}<extra></extra>",
         "legendgroup": "2010",
         "line": {
          "color": "#19d3f3",
          "dash": "solid"
         },
         "marker": {
          "symbol": "circle"
         },
         "mode": "lines",
         "name": "2010",
         "orientation": "v",
         "showlegend": true,
         "type": "scatter",
         "x": [
          1,
          2,
          3,
          4,
          5,
          6,
          7,
          8,
          9,
          10,
          11,
          12
         ],
         "xaxis": "x",
         "y": [
          100931,
          86357,
          109426,
          114378,
          125598,
          144033,
          155241,
          149440,
          127852,
          136632,
          116619,
          127287
         ],
         "yaxis": "y"
        },
        {
         "hovertemplate": "Año=2011<br>Mes=%{x}<br>Pasajeros=%{y}<extra></extra>",
         "legendgroup": "2011",
         "line": {
          "color": "#FF6692",
          "dash": "solid"
         },
         "marker": {
          "symbol": "circle"
         },
         "mode": "lines",
         "name": "2011",
         "orientation": "v",
         "showlegend": true,
         "type": "scatter",
         "x": [
          1,
          2,
          3,
          4,
          5,
          6,
          7,
          8,
          9,
          10,
          11,
          12
         ],
         "xaxis": "x",
         "y": [
          112992,
          95549,
          114971,
          128037,
          146546,
          159575,
          168702,
          180331,
          158497,
          158974,
          154944,
          163177
         ],
         "yaxis": "y"
        },
        {
         "hovertemplate": "Año=2012<br>Mes=%{x}<br>Pasajeros=%{y}<extra></extra>",
         "legendgroup": "2012",
         "line": {
          "color": "#B6E880",
          "dash": "solid"
         },
         "marker": {
          "symbol": "circle"
         },
         "mode": "lines",
         "name": "2012",
         "orientation": "v",
         "showlegend": true,
         "type": "scatter",
         "x": [
          1,
          2,
          3,
          4,
          5,
          6,
          7,
          8,
          9,
          10,
          11,
          12
         ],
         "xaxis": "x",
         "y": [
          135256,
          117610,
          141732,
          232431,
          270564,
          311032,
          291638,
          339722,
          377111,
          436476,
          431492,
          446229
         ],
         "yaxis": "y"
        },
        {
         "hovertemplate": "Año=2013<br>Mes=%{x}<br>Pasajeros=%{y}<extra></extra>",
         "legendgroup": "2013",
         "line": {
          "color": "#FF97FF",
          "dash": "solid"
         },
         "marker": {
          "symbol": "circle"
         },
         "mode": "lines",
         "name": "2013",
         "orientation": "v",
         "showlegend": true,
         "type": "scatter",
         "x": [
          1,
          2,
          3,
          4,
          5,
          6,
          7,
          8,
          9,
          10,
          11,
          12
         ],
         "xaxis": "x",
         "y": [
          412240,
          385854,
          439583,
          434917,
          477496,
          586680,
          1640389,
          1703040,
          1462921,
          1518155,
          1337886,
          1458975
         ],
         "yaxis": "y"
        },
        {
         "hovertemplate": "Año=2014<br>Mes=%{x}<br>Pasajeros=%{y}<extra></extra>",
         "legendgroup": "2014",
         "line": {
          "color": "#FECB52",
          "dash": "solid"
         },
         "marker": {
          "symbol": "circle"
         },
         "mode": "lines",
         "name": "2014",
         "orientation": "v",
         "showlegend": true,
         "type": "scatter",
         "x": [
          1,
          2,
          3,
          4,
          5,
          6,
          7,
          8,
          9,
          10,
          11,
          12
         ],
         "xaxis": "x",
         "y": [
          1320287,
          1191547,
          1441963,
          1522997,
          1614431,
          1675006,
          1734273,
          1738498,
          1496682,
          1548913,
          1359681,
          1451519
         ],
         "yaxis": "y"
        },
        {
         "hovertemplate": "Año=2015<br>Mes=%{x}<br>Pasajeros=%{y}<extra></extra>",
         "legendgroup": "2015",
         "line": {
          "color": "#636efa",
          "dash": "solid"
         },
         "marker": {
          "symbol": "circle"
         },
         "mode": "lines",
         "name": "2015",
         "orientation": "v",
         "showlegend": true,
         "type": "scatter",
         "x": [
          1,
          2,
          3,
          4,
          5,
          6,
          7,
          8,
          9,
          10,
          11,
          12
         ],
         "xaxis": "x",
         "y": [
          1298973,
          1188106,
          1452171,
          1451928,
          1602839,
          1676163,
          1775182,
          1756119,
          1539181,
          1589388,
          1420265,
          1458917
         ],
         "yaxis": "y"
        },
        {
         "hovertemplate": "Año=2016<br>Mes=%{x}<br>Pasajeros=%{y}<extra></extra>",
         "legendgroup": "2016",
         "line": {
          "color": "#EF553B",
          "dash": "solid"
         },
         "marker": {
          "symbol": "circle"
         },
         "mode": "lines",
         "name": "2016",
         "orientation": "v",
         "showlegend": true,
         "type": "scatter",
         "x": [
          1,
          2,
          3
         ],
         "xaxis": "x",
         "y": [
          1295475,
          1237690,
          1488026
         ],
         "yaxis": "y"
        }
       ],
       "layout": {
        "height": 600,
        "legend": {
         "title": {
          "text": "Año"
         },
         "tracegroupgap": 0
        },
        "plot_bgcolor": "#FBFCFF",
        "template": {
         "data": {
          "bar": [
           {
            "error_x": {
             "color": "#2a3f5f"
            },
            "error_y": {
             "color": "#2a3f5f"
            },
            "marker": {
             "line": {
              "color": "#E5ECF6",
              "width": 0.5
             },
             "pattern": {
              "fillmode": "overlay",
              "size": 10,
              "solidity": 0.2
             }
            },
            "type": "bar"
           }
          ],
          "barpolar": [
           {
            "marker": {
             "line": {
              "color": "#E5ECF6",
              "width": 0.5
             },
             "pattern": {
              "fillmode": "overlay",
              "size": 10,
              "solidity": 0.2
             }
            },
            "type": "barpolar"
           }
          ],
          "carpet": [
           {
            "aaxis": {
             "endlinecolor": "#2a3f5f",
             "gridcolor": "white",
             "linecolor": "white",
             "minorgridcolor": "white",
             "startlinecolor": "#2a3f5f"
            },
            "baxis": {
             "endlinecolor": "#2a3f5f",
             "gridcolor": "white",
             "linecolor": "white",
             "minorgridcolor": "white",
             "startlinecolor": "#2a3f5f"
            },
            "type": "carpet"
           }
          ],
          "choropleth": [
           {
            "colorbar": {
             "outlinewidth": 0,
             "ticks": ""
            },
            "type": "choropleth"
           }
          ],
          "contour": [
           {
            "colorbar": {
             "outlinewidth": 0,
             "ticks": ""
            },
            "colorscale": [
             [
              0,
              "#0d0887"
             ],
             [
              0.1111111111111111,
              "#46039f"
             ],
             [
              0.2222222222222222,
              "#7201a8"
             ],
             [
              0.3333333333333333,
              "#9c179e"
             ],
             [
              0.4444444444444444,
              "#bd3786"
             ],
             [
              0.5555555555555556,
              "#d8576b"
             ],
             [
              0.6666666666666666,
              "#ed7953"
             ],
             [
              0.7777777777777778,
              "#fb9f3a"
             ],
             [
              0.8888888888888888,
              "#fdca26"
             ],
             [
              1,
              "#f0f921"
             ]
            ],
            "type": "contour"
           }
          ],
          "contourcarpet": [
           {
            "colorbar": {
             "outlinewidth": 0,
             "ticks": ""
            },
            "type": "contourcarpet"
           }
          ],
          "heatmap": [
           {
            "colorbar": {
             "outlinewidth": 0,
             "ticks": ""
            },
            "colorscale": [
             [
              0,
              "#0d0887"
             ],
             [
              0.1111111111111111,
              "#46039f"
             ],
             [
              0.2222222222222222,
              "#7201a8"
             ],
             [
              0.3333333333333333,
              "#9c179e"
             ],
             [
              0.4444444444444444,
              "#bd3786"
             ],
             [
              0.5555555555555556,
              "#d8576b"
             ],
             [
              0.6666666666666666,
              "#ed7953"
             ],
             [
              0.7777777777777778,
              "#fb9f3a"
             ],
             [
              0.8888888888888888,
              "#fdca26"
             ],
             [
              1,
              "#f0f921"
             ]
            ],
            "type": "heatmap"
           }
          ],
          "heatmapgl": [
           {
            "colorbar": {
             "outlinewidth": 0,
             "ticks": ""
            },
            "colorscale": [
             [
              0,
              "#0d0887"
             ],
             [
              0.1111111111111111,
              "#46039f"
             ],
             [
              0.2222222222222222,
              "#7201a8"
             ],
             [
              0.3333333333333333,
              "#9c179e"
             ],
             [
              0.4444444444444444,
              "#bd3786"
             ],
             [
              0.5555555555555556,
              "#d8576b"
             ],
             [
              0.6666666666666666,
              "#ed7953"
             ],
             [
              0.7777777777777778,
              "#fb9f3a"
             ],
             [
              0.8888888888888888,
              "#fdca26"
             ],
             [
              1,
              "#f0f921"
             ]
            ],
            "type": "heatmapgl"
           }
          ],
          "histogram": [
           {
            "marker": {
             "pattern": {
              "fillmode": "overlay",
              "size": 10,
              "solidity": 0.2
             }
            },
            "type": "histogram"
           }
          ],
          "histogram2d": [
           {
            "colorbar": {
             "outlinewidth": 0,
             "ticks": ""
            },
            "colorscale": [
             [
              0,
              "#0d0887"
             ],
             [
              0.1111111111111111,
              "#46039f"
             ],
             [
              0.2222222222222222,
              "#7201a8"
             ],
             [
              0.3333333333333333,
              "#9c179e"
             ],
             [
              0.4444444444444444,
              "#bd3786"
             ],
             [
              0.5555555555555556,
              "#d8576b"
             ],
             [
              0.6666666666666666,
              "#ed7953"
             ],
             [
              0.7777777777777778,
              "#fb9f3a"
             ],
             [
              0.8888888888888888,
              "#fdca26"
             ],
             [
              1,
              "#f0f921"
             ]
            ],
            "type": "histogram2d"
           }
          ],
          "histogram2dcontour": [
           {
            "colorbar": {
             "outlinewidth": 0,
             "ticks": ""
            },
            "colorscale": [
             [
              0,
              "#0d0887"
             ],
             [
              0.1111111111111111,
              "#46039f"
             ],
             [
              0.2222222222222222,
              "#7201a8"
             ],
             [
              0.3333333333333333,
              "#9c179e"
             ],
             [
              0.4444444444444444,
              "#bd3786"
             ],
             [
              0.5555555555555556,
              "#d8576b"
             ],
             [
              0.6666666666666666,
              "#ed7953"
             ],
             [
              0.7777777777777778,
              "#fb9f3a"
             ],
             [
              0.8888888888888888,
              "#fdca26"
             ],
             [
              1,
              "#f0f921"
             ]
            ],
            "type": "histogram2dcontour"
           }
          ],
          "mesh3d": [
           {
            "colorbar": {
             "outlinewidth": 0,
             "ticks": ""
            },
            "type": "mesh3d"
           }
          ],
          "parcoords": [
           {
            "line": {
             "colorbar": {
              "outlinewidth": 0,
              "ticks": ""
             }
            },
            "type": "parcoords"
           }
          ],
          "pie": [
           {
            "automargin": true,
            "type": "pie"
           }
          ],
          "scatter": [
           {
            "fillpattern": {
             "fillmode": "overlay",
             "size": 10,
             "solidity": 0.2
            },
            "type": "scatter"
           }
          ],
          "scatter3d": [
           {
            "line": {
             "colorbar": {
              "outlinewidth": 0,
              "ticks": ""
             }
            },
            "marker": {
             "colorbar": {
              "outlinewidth": 0,
              "ticks": ""
             }
            },
            "type": "scatter3d"
           }
          ],
          "scattercarpet": [
           {
            "marker": {
             "colorbar": {
              "outlinewidth": 0,
              "ticks": ""
             }
            },
            "type": "scattercarpet"
           }
          ],
          "scattergeo": [
           {
            "marker": {
             "colorbar": {
              "outlinewidth": 0,
              "ticks": ""
             }
            },
            "type": "scattergeo"
           }
          ],
          "scattergl": [
           {
            "marker": {
             "colorbar": {
              "outlinewidth": 0,
              "ticks": ""
             }
            },
            "type": "scattergl"
           }
          ],
          "scattermapbox": [
           {
            "marker": {
             "colorbar": {
              "outlinewidth": 0,
              "ticks": ""
             }
            },
            "type": "scattermapbox"
           }
          ],
          "scatterpolar": [
           {
            "marker": {
             "colorbar": {
              "outlinewidth": 0,
              "ticks": ""
             }
            },
            "type": "scatterpolar"
           }
          ],
          "scatterpolargl": [
           {
            "marker": {
             "colorbar": {
              "outlinewidth": 0,
              "ticks": ""
             }
            },
            "type": "scatterpolargl"
           }
          ],
          "scatterternary": [
           {
            "marker": {
             "colorbar": {
              "outlinewidth": 0,
              "ticks": ""
             }
            },
            "type": "scatterternary"
           }
          ],
          "surface": [
           {
            "colorbar": {
             "outlinewidth": 0,
             "ticks": ""
            },
            "colorscale": [
             [
              0,
              "#0d0887"
             ],
             [
              0.1111111111111111,
              "#46039f"
             ],
             [
              0.2222222222222222,
              "#7201a8"
             ],
             [
              0.3333333333333333,
              "#9c179e"
             ],
             [
              0.4444444444444444,
              "#bd3786"
             ],
             [
              0.5555555555555556,
              "#d8576b"
             ],
             [
              0.6666666666666666,
              "#ed7953"
             ],
             [
              0.7777777777777778,
              "#fb9f3a"
             ],
             [
              0.8888888888888888,
              "#fdca26"
             ],
             [
              1,
              "#f0f921"
             ]
            ],
            "type": "surface"
           }
          ],
          "table": [
           {
            "cells": {
             "fill": {
              "color": "#EBF0F8"
             },
             "line": {
              "color": "white"
             }
            },
            "header": {
             "fill": {
              "color": "#C8D4E3"
             },
             "line": {
              "color": "white"
             }
            },
            "type": "table"
           }
          ]
         },
         "layout": {
          "annotationdefaults": {
           "arrowcolor": "#2a3f5f",
           "arrowhead": 0,
           "arrowwidth": 1
          },
          "autotypenumbers": "strict",
          "coloraxis": {
           "colorbar": {
            "outlinewidth": 0,
            "ticks": ""
           }
          },
          "colorscale": {
           "diverging": [
            [
             0,
             "#8e0152"
            ],
            [
             0.1,
             "#c51b7d"
            ],
            [
             0.2,
             "#de77ae"
            ],
            [
             0.3,
             "#f1b6da"
            ],
            [
             0.4,
             "#fde0ef"
            ],
            [
             0.5,
             "#f7f7f7"
            ],
            [
             0.6,
             "#e6f5d0"
            ],
            [
             0.7,
             "#b8e186"
            ],
            [
             0.8,
             "#7fbc41"
            ],
            [
             0.9,
             "#4d9221"
            ],
            [
             1,
             "#276419"
            ]
           ],
           "sequential": [
            [
             0,
             "#0d0887"
            ],
            [
             0.1111111111111111,
             "#46039f"
            ],
            [
             0.2222222222222222,
             "#7201a8"
            ],
            [
             0.3333333333333333,
             "#9c179e"
            ],
            [
             0.4444444444444444,
             "#bd3786"
            ],
            [
             0.5555555555555556,
             "#d8576b"
            ],
            [
             0.6666666666666666,
             "#ed7953"
            ],
            [
             0.7777777777777778,
             "#fb9f3a"
            ],
            [
             0.8888888888888888,
             "#fdca26"
            ],
            [
             1,
             "#f0f921"
            ]
           ],
           "sequentialminus": [
            [
             0,
             "#0d0887"
            ],
            [
             0.1111111111111111,
             "#46039f"
            ],
            [
             0.2222222222222222,
             "#7201a8"
            ],
            [
             0.3333333333333333,
             "#9c179e"
            ],
            [
             0.4444444444444444,
             "#bd3786"
            ],
            [
             0.5555555555555556,
             "#d8576b"
            ],
            [
             0.6666666666666666,
             "#ed7953"
            ],
            [
             0.7777777777777778,
             "#fb9f3a"
            ],
            [
             0.8888888888888888,
             "#fdca26"
            ],
            [
             1,
             "#f0f921"
            ]
           ]
          },
          "colorway": [
           "#636efa",
           "#EF553B",
           "#00cc96",
           "#ab63fa",
           "#FFA15A",
           "#19d3f3",
           "#FF6692",
           "#B6E880",
           "#FF97FF",
           "#FECB52"
          ],
          "font": {
           "color": "#2a3f5f"
          },
          "geo": {
           "bgcolor": "white",
           "lakecolor": "white",
           "landcolor": "#E5ECF6",
           "showlakes": true,
           "showland": true,
           "subunitcolor": "white"
          },
          "hoverlabel": {
           "align": "left"
          },
          "hovermode": "closest",
          "mapbox": {
           "style": "light"
          },
          "paper_bgcolor": "white",
          "plot_bgcolor": "#E5ECF6",
          "polar": {
           "angularaxis": {
            "gridcolor": "white",
            "linecolor": "white",
            "ticks": ""
           },
           "bgcolor": "#E5ECF6",
           "radialaxis": {
            "gridcolor": "white",
            "linecolor": "white",
            "ticks": ""
           }
          },
          "scene": {
           "xaxis": {
            "backgroundcolor": "#E5ECF6",
            "gridcolor": "white",
            "gridwidth": 2,
            "linecolor": "white",
            "showbackground": true,
            "ticks": "",
            "zerolinecolor": "white"
           },
           "yaxis": {
            "backgroundcolor": "#E5ECF6",
            "gridcolor": "white",
            "gridwidth": 2,
            "linecolor": "white",
            "showbackground": true,
            "ticks": "",
            "zerolinecolor": "white"
           },
           "zaxis": {
            "backgroundcolor": "#E5ECF6",
            "gridcolor": "white",
            "gridwidth": 2,
            "linecolor": "white",
            "showbackground": true,
            "ticks": "",
            "zerolinecolor": "white"
           }
          },
          "shapedefaults": {
           "line": {
            "color": "#2a3f5f"
           }
          },
          "ternary": {
           "aaxis": {
            "gridcolor": "white",
            "linecolor": "white",
            "ticks": ""
           },
           "baxis": {
            "gridcolor": "white",
            "linecolor": "white",
            "ticks": ""
           },
           "bgcolor": "#E5ECF6",
           "caxis": {
            "gridcolor": "white",
            "linecolor": "white",
            "ticks": ""
           }
          },
          "title": {
           "x": 0.05
          },
          "xaxis": {
           "automargin": true,
           "gridcolor": "white",
           "linecolor": "white",
           "ticks": "",
           "title": {
            "standoff": 15
           },
           "zerolinecolor": "white",
           "zerolinewidth": 2
          },
          "yaxis": {
           "automargin": true,
           "gridcolor": "white",
           "linecolor": "white",
           "ticks": "",
           "title": {
            "standoff": 15
           },
           "zerolinecolor": "white",
           "zerolinewidth": 2
          }
         }
        },
        "title": {
         "font": {
          "size": 20
         },
         "text": "Pasajeros por mes, United Airlines Operating Airline(s) y todas GEO Region(s)"
        },
        "width": 1000,
        "xaxis": {
         "anchor": "y",
         "domain": [
          0,
          1
         ],
         "title": {
          "text": "Mes"
         }
        },
        "yaxis": {
         "anchor": "x",
         "domain": [
          0,
          1
         ],
         "title": {
          "text": "Pasajeros"
         }
        }
       }
      }
     },
     "metadata": {},
     "output_type": "display_data"
    }
   ],
   "source": [
    "# Comportamiento del flujo de pasajeros de la aerolínea con mayor número de pasajeros en el dataframe\n",
    "df_3_ua = passengers_month_year(df_1, 'Operating Airline', ['United Airlines']) "
   ]
  },
  {
   "cell_type": "markdown",
   "metadata": {},
   "source": [
    "![](newplot20.png)"
   ]
  },
  {
   "cell_type": "markdown",
   "metadata": {},
   "source": [
    "<div style=\"letter-spacing: 0.5px; text-align: justify; font-size: 14px;\">\n",
    "Comportamiento de la línea europea y asiática que transporta la mayor cantidad de pasajeros.\n",
    "</div>"
   ]
  },
  {
   "cell_type": "markdown",
   "metadata": {},
   "source": [
    "<div style=\"letter-spacing: 0.5px; text-align: justify; font-size: 12px;\">\n",
    "<b>Europa</b> Lufthansa German Airlines muestra entre 2011 y 2015 una tendencia de crecimiento sostenido entre los meses de febrero a septiembre, dibujando una especie de semicírculo. Los años previos la curva es casi plana con una fuerte caída en el mes de febrero. En 2010 la caída es mas pronunciada.\n",
    "</div>"
   ]
  },
  {
   "cell_type": "code",
   "execution_count": 71,
   "metadata": {},
   "outputs": [
    {
     "data": {
      "application/vnd.plotly.v1+json": {
       "config": {
        "plotlyServerURL": "https://plot.ly"
       },
       "data": [
        {
         "hovertemplate": "Año=2005<br>Mes=%{x}<br>Pasajeros=%{y}<extra></extra>",
         "legendgroup": "2005",
         "line": {
          "color": "#636efa",
          "dash": "solid"
         },
         "marker": {
          "symbol": "circle"
         },
         "mode": "lines",
         "name": "2005",
         "orientation": "v",
         "showlegend": true,
         "type": "scatter",
         "x": [
          7,
          8,
          9,
          10,
          11,
          12
         ],
         "xaxis": "x",
         "y": [
          42900,
          43393,
          41914,
          40318,
          30530,
          29645
         ],
         "yaxis": "y"
        },
        {
         "hovertemplate": "Año=2006<br>Mes=%{x}<br>Pasajeros=%{y}<extra></extra>",
         "legendgroup": "2006",
         "line": {
          "color": "#EF553B",
          "dash": "solid"
         },
         "marker": {
          "symbol": "circle"
         },
         "mode": "lines",
         "name": "2006",
         "orientation": "v",
         "showlegend": true,
         "type": "scatter",
         "x": [
          1,
          2,
          3,
          4,
          5,
          6,
          7,
          8,
          9,
          10,
          11,
          12
         ],
         "xaxis": "x",
         "y": [
          30302,
          25391,
          32674,
          39890,
          41531,
          41444,
          43282,
          42989,
          40927,
          41120,
          36638,
          37818
         ],
         "yaxis": "y"
        },
        {
         "hovertemplate": "Año=2007<br>Mes=%{x}<br>Pasajeros=%{y}<extra></extra>",
         "legendgroup": "2007",
         "line": {
          "color": "#00cc96",
          "dash": "solid"
         },
         "marker": {
          "symbol": "circle"
         },
         "mode": "lines",
         "name": "2007",
         "orientation": "v",
         "showlegend": true,
         "type": "scatter",
         "x": [
          1,
          2,
          3,
          4,
          5,
          6,
          7,
          8,
          9,
          10,
          11,
          12
         ],
         "xaxis": "x",
         "y": [
          37826,
          33310,
          39086,
          36148,
          37422,
          36130,
          37794,
          36735,
          35952,
          36856,
          34346,
          32521
         ],
         "yaxis": "y"
        },
        {
         "hovertemplate": "Año=2008<br>Mes=%{x}<br>Pasajeros=%{y}<extra></extra>",
         "legendgroup": "2008",
         "line": {
          "color": "#ab63fa",
          "dash": "solid"
         },
         "marker": {
          "symbol": "circle"
         },
         "mode": "lines",
         "name": "2008",
         "orientation": "v",
         "showlegend": true,
         "type": "scatter",
         "x": [
          1,
          2,
          3,
          4,
          5,
          6,
          7,
          8,
          9,
          10,
          11,
          12
         ],
         "xaxis": "x",
         "y": [
          34310,
          30956,
          35555,
          34224,
          35404,
          36370,
          37685,
          36085,
          35829,
          36060,
          32497,
          32279
         ],
         "yaxis": "y"
        },
        {
         "hovertemplate": "Año=2009<br>Mes=%{x}<br>Pasajeros=%{y}<extra></extra>",
         "legendgroup": "2009",
         "line": {
          "color": "#FFA15A",
          "dash": "solid"
         },
         "marker": {
          "symbol": "circle"
         },
         "mode": "lines",
         "name": "2009",
         "orientation": "v",
         "showlegend": true,
         "type": "scatter",
         "x": [
          1,
          2,
          3,
          4,
          5,
          6,
          7,
          8,
          9,
          10,
          11,
          12
         ],
         "xaxis": "x",
         "y": [
          33632,
          27745,
          34285,
          33628,
          34585,
          36217,
          39373,
          39714,
          36944,
          38024,
          32811,
          33754
         ],
         "yaxis": "y"
        },
        {
         "hovertemplate": "Año=2010<br>Mes=%{x}<br>Pasajeros=%{y}<extra></extra>",
         "legendgroup": "2010",
         "line": {
          "color": "#19d3f3",
          "dash": "solid"
         },
         "marker": {
          "symbol": "circle"
         },
         "mode": "lines",
         "name": "2010",
         "orientation": "v",
         "showlegend": true,
         "type": "scatter",
         "x": [
          1,
          2,
          3,
          4,
          5,
          6,
          7,
          8,
          9,
          10,
          11,
          12
         ],
         "xaxis": "x",
         "y": [
          33680,
          23477,
          34337,
          28256,
          35589,
          36637,
          38407,
          37646,
          36379,
          37002,
          33182,
          32722
         ],
         "yaxis": "y"
        },
        {
         "hovertemplate": "Año=2011<br>Mes=%{x}<br>Pasajeros=%{y}<extra></extra>",
         "legendgroup": "2011",
         "line": {
          "color": "#FF6692",
          "dash": "solid"
         },
         "marker": {
          "symbol": "circle"
         },
         "mode": "lines",
         "name": "2011",
         "orientation": "v",
         "showlegend": true,
         "type": "scatter",
         "x": [
          1,
          2,
          3,
          4,
          5,
          6,
          7,
          8,
          9,
          10,
          11,
          12
         ],
         "xaxis": "x",
         "y": [
          35134,
          28818,
          34338,
          33538,
          43852,
          47521,
          49682,
          49526,
          46126,
          42951,
          32868,
          30734
         ],
         "yaxis": "y"
        },
        {
         "hovertemplate": "Año=2012<br>Mes=%{x}<br>Pasajeros=%{y}<extra></extra>",
         "legendgroup": "2012",
         "line": {
          "color": "#B6E880",
          "dash": "solid"
         },
         "marker": {
          "symbol": "circle"
         },
         "mode": "lines",
         "name": "2012",
         "orientation": "v",
         "showlegend": true,
         "type": "scatter",
         "x": [
          1,
          2,
          3,
          4,
          5,
          6,
          7,
          8,
          9,
          10,
          11,
          12
         ],
         "xaxis": "x",
         "y": [
          33364,
          27189,
          37719,
          43452,
          46780,
          47393,
          50334,
          49082,
          45153,
          47182,
          40758,
          34208
         ],
         "yaxis": "y"
        },
        {
         "hovertemplate": "Año=2013<br>Mes=%{x}<br>Pasajeros=%{y}<extra></extra>",
         "legendgroup": "2013",
         "line": {
          "color": "#FF97FF",
          "dash": "solid"
         },
         "marker": {
          "symbol": "circle"
         },
         "mode": "lines",
         "name": "2013",
         "orientation": "v",
         "showlegend": true,
         "type": "scatter",
         "x": [
          1,
          2,
          3,
          4,
          5,
          6,
          7,
          8,
          9,
          10,
          11,
          12
         ],
         "xaxis": "x",
         "y": [
          35132,
          28283,
          37973,
          44169,
          47362,
          48658,
          50034,
          50120,
          46589,
          45816,
          33450,
          32264
         ],
         "yaxis": "y"
        },
        {
         "hovertemplate": "Año=2014<br>Mes=%{x}<br>Pasajeros=%{y}<extra></extra>",
         "legendgroup": "2014",
         "line": {
          "color": "#FECB52",
          "dash": "solid"
         },
         "marker": {
          "symbol": "circle"
         },
         "mode": "lines",
         "name": "2014",
         "orientation": "v",
         "showlegend": true,
         "type": "scatter",
         "x": [
          1,
          2,
          3,
          4,
          5,
          6,
          7,
          8,
          9,
          10,
          11,
          12
         ],
         "xaxis": "x",
         "y": [
          34569,
          28542,
          36611,
          34105,
          46186,
          48796,
          50079,
          49842,
          47724,
          46332,
          43367,
          38590
         ],
         "yaxis": "y"
        },
        {
         "hovertemplate": "Año=2015<br>Mes=%{x}<br>Pasajeros=%{y}<extra></extra>",
         "legendgroup": "2015",
         "line": {
          "color": "#636efa",
          "dash": "solid"
         },
         "marker": {
          "symbol": "circle"
         },
         "mode": "lines",
         "name": "2015",
         "orientation": "v",
         "showlegend": true,
         "type": "scatter",
         "x": [
          1,
          2,
          3,
          4,
          5,
          6,
          7,
          8,
          9,
          10,
          11,
          12
         ],
         "xaxis": "x",
         "y": [
          41254,
          35669,
          45301,
          43626,
          45657,
          45773,
          47806,
          47301,
          44679,
          46538,
          33672,
          38846
         ],
         "yaxis": "y"
        },
        {
         "hovertemplate": "Año=2016<br>Mes=%{x}<br>Pasajeros=%{y}<extra></extra>",
         "legendgroup": "2016",
         "line": {
          "color": "#EF553B",
          "dash": "solid"
         },
         "marker": {
          "symbol": "circle"
         },
         "mode": "lines",
         "name": "2016",
         "orientation": "v",
         "showlegend": true,
         "type": "scatter",
         "x": [
          1,
          2,
          3
         ],
         "xaxis": "x",
         "y": [
          40844,
          34849,
          43685
         ],
         "yaxis": "y"
        }
       ],
       "layout": {
        "height": 600,
        "legend": {
         "title": {
          "text": "Año"
         },
         "tracegroupgap": 0
        },
        "plot_bgcolor": "#FBFCFF",
        "template": {
         "data": {
          "bar": [
           {
            "error_x": {
             "color": "#2a3f5f"
            },
            "error_y": {
             "color": "#2a3f5f"
            },
            "marker": {
             "line": {
              "color": "#E5ECF6",
              "width": 0.5
             },
             "pattern": {
              "fillmode": "overlay",
              "size": 10,
              "solidity": 0.2
             }
            },
            "type": "bar"
           }
          ],
          "barpolar": [
           {
            "marker": {
             "line": {
              "color": "#E5ECF6",
              "width": 0.5
             },
             "pattern": {
              "fillmode": "overlay",
              "size": 10,
              "solidity": 0.2
             }
            },
            "type": "barpolar"
           }
          ],
          "carpet": [
           {
            "aaxis": {
             "endlinecolor": "#2a3f5f",
             "gridcolor": "white",
             "linecolor": "white",
             "minorgridcolor": "white",
             "startlinecolor": "#2a3f5f"
            },
            "baxis": {
             "endlinecolor": "#2a3f5f",
             "gridcolor": "white",
             "linecolor": "white",
             "minorgridcolor": "white",
             "startlinecolor": "#2a3f5f"
            },
            "type": "carpet"
           }
          ],
          "choropleth": [
           {
            "colorbar": {
             "outlinewidth": 0,
             "ticks": ""
            },
            "type": "choropleth"
           }
          ],
          "contour": [
           {
            "colorbar": {
             "outlinewidth": 0,
             "ticks": ""
            },
            "colorscale": [
             [
              0,
              "#0d0887"
             ],
             [
              0.1111111111111111,
              "#46039f"
             ],
             [
              0.2222222222222222,
              "#7201a8"
             ],
             [
              0.3333333333333333,
              "#9c179e"
             ],
             [
              0.4444444444444444,
              "#bd3786"
             ],
             [
              0.5555555555555556,
              "#d8576b"
             ],
             [
              0.6666666666666666,
              "#ed7953"
             ],
             [
              0.7777777777777778,
              "#fb9f3a"
             ],
             [
              0.8888888888888888,
              "#fdca26"
             ],
             [
              1,
              "#f0f921"
             ]
            ],
            "type": "contour"
           }
          ],
          "contourcarpet": [
           {
            "colorbar": {
             "outlinewidth": 0,
             "ticks": ""
            },
            "type": "contourcarpet"
           }
          ],
          "heatmap": [
           {
            "colorbar": {
             "outlinewidth": 0,
             "ticks": ""
            },
            "colorscale": [
             [
              0,
              "#0d0887"
             ],
             [
              0.1111111111111111,
              "#46039f"
             ],
             [
              0.2222222222222222,
              "#7201a8"
             ],
             [
              0.3333333333333333,
              "#9c179e"
             ],
             [
              0.4444444444444444,
              "#bd3786"
             ],
             [
              0.5555555555555556,
              "#d8576b"
             ],
             [
              0.6666666666666666,
              "#ed7953"
             ],
             [
              0.7777777777777778,
              "#fb9f3a"
             ],
             [
              0.8888888888888888,
              "#fdca26"
             ],
             [
              1,
              "#f0f921"
             ]
            ],
            "type": "heatmap"
           }
          ],
          "heatmapgl": [
           {
            "colorbar": {
             "outlinewidth": 0,
             "ticks": ""
            },
            "colorscale": [
             [
              0,
              "#0d0887"
             ],
             [
              0.1111111111111111,
              "#46039f"
             ],
             [
              0.2222222222222222,
              "#7201a8"
             ],
             [
              0.3333333333333333,
              "#9c179e"
             ],
             [
              0.4444444444444444,
              "#bd3786"
             ],
             [
              0.5555555555555556,
              "#d8576b"
             ],
             [
              0.6666666666666666,
              "#ed7953"
             ],
             [
              0.7777777777777778,
              "#fb9f3a"
             ],
             [
              0.8888888888888888,
              "#fdca26"
             ],
             [
              1,
              "#f0f921"
             ]
            ],
            "type": "heatmapgl"
           }
          ],
          "histogram": [
           {
            "marker": {
             "pattern": {
              "fillmode": "overlay",
              "size": 10,
              "solidity": 0.2
             }
            },
            "type": "histogram"
           }
          ],
          "histogram2d": [
           {
            "colorbar": {
             "outlinewidth": 0,
             "ticks": ""
            },
            "colorscale": [
             [
              0,
              "#0d0887"
             ],
             [
              0.1111111111111111,
              "#46039f"
             ],
             [
              0.2222222222222222,
              "#7201a8"
             ],
             [
              0.3333333333333333,
              "#9c179e"
             ],
             [
              0.4444444444444444,
              "#bd3786"
             ],
             [
              0.5555555555555556,
              "#d8576b"
             ],
             [
              0.6666666666666666,
              "#ed7953"
             ],
             [
              0.7777777777777778,
              "#fb9f3a"
             ],
             [
              0.8888888888888888,
              "#fdca26"
             ],
             [
              1,
              "#f0f921"
             ]
            ],
            "type": "histogram2d"
           }
          ],
          "histogram2dcontour": [
           {
            "colorbar": {
             "outlinewidth": 0,
             "ticks": ""
            },
            "colorscale": [
             [
              0,
              "#0d0887"
             ],
             [
              0.1111111111111111,
              "#46039f"
             ],
             [
              0.2222222222222222,
              "#7201a8"
             ],
             [
              0.3333333333333333,
              "#9c179e"
             ],
             [
              0.4444444444444444,
              "#bd3786"
             ],
             [
              0.5555555555555556,
              "#d8576b"
             ],
             [
              0.6666666666666666,
              "#ed7953"
             ],
             [
              0.7777777777777778,
              "#fb9f3a"
             ],
             [
              0.8888888888888888,
              "#fdca26"
             ],
             [
              1,
              "#f0f921"
             ]
            ],
            "type": "histogram2dcontour"
           }
          ],
          "mesh3d": [
           {
            "colorbar": {
             "outlinewidth": 0,
             "ticks": ""
            },
            "type": "mesh3d"
           }
          ],
          "parcoords": [
           {
            "line": {
             "colorbar": {
              "outlinewidth": 0,
              "ticks": ""
             }
            },
            "type": "parcoords"
           }
          ],
          "pie": [
           {
            "automargin": true,
            "type": "pie"
           }
          ],
          "scatter": [
           {
            "fillpattern": {
             "fillmode": "overlay",
             "size": 10,
             "solidity": 0.2
            },
            "type": "scatter"
           }
          ],
          "scatter3d": [
           {
            "line": {
             "colorbar": {
              "outlinewidth": 0,
              "ticks": ""
             }
            },
            "marker": {
             "colorbar": {
              "outlinewidth": 0,
              "ticks": ""
             }
            },
            "type": "scatter3d"
           }
          ],
          "scattercarpet": [
           {
            "marker": {
             "colorbar": {
              "outlinewidth": 0,
              "ticks": ""
             }
            },
            "type": "scattercarpet"
           }
          ],
          "scattergeo": [
           {
            "marker": {
             "colorbar": {
              "outlinewidth": 0,
              "ticks": ""
             }
            },
            "type": "scattergeo"
           }
          ],
          "scattergl": [
           {
            "marker": {
             "colorbar": {
              "outlinewidth": 0,
              "ticks": ""
             }
            },
            "type": "scattergl"
           }
          ],
          "scattermapbox": [
           {
            "marker": {
             "colorbar": {
              "outlinewidth": 0,
              "ticks": ""
             }
            },
            "type": "scattermapbox"
           }
          ],
          "scatterpolar": [
           {
            "marker": {
             "colorbar": {
              "outlinewidth": 0,
              "ticks": ""
             }
            },
            "type": "scatterpolar"
           }
          ],
          "scatterpolargl": [
           {
            "marker": {
             "colorbar": {
              "outlinewidth": 0,
              "ticks": ""
             }
            },
            "type": "scatterpolargl"
           }
          ],
          "scatterternary": [
           {
            "marker": {
             "colorbar": {
              "outlinewidth": 0,
              "ticks": ""
             }
            },
            "type": "scatterternary"
           }
          ],
          "surface": [
           {
            "colorbar": {
             "outlinewidth": 0,
             "ticks": ""
            },
            "colorscale": [
             [
              0,
              "#0d0887"
             ],
             [
              0.1111111111111111,
              "#46039f"
             ],
             [
              0.2222222222222222,
              "#7201a8"
             ],
             [
              0.3333333333333333,
              "#9c179e"
             ],
             [
              0.4444444444444444,
              "#bd3786"
             ],
             [
              0.5555555555555556,
              "#d8576b"
             ],
             [
              0.6666666666666666,
              "#ed7953"
             ],
             [
              0.7777777777777778,
              "#fb9f3a"
             ],
             [
              0.8888888888888888,
              "#fdca26"
             ],
             [
              1,
              "#f0f921"
             ]
            ],
            "type": "surface"
           }
          ],
          "table": [
           {
            "cells": {
             "fill": {
              "color": "#EBF0F8"
             },
             "line": {
              "color": "white"
             }
            },
            "header": {
             "fill": {
              "color": "#C8D4E3"
             },
             "line": {
              "color": "white"
             }
            },
            "type": "table"
           }
          ]
         },
         "layout": {
          "annotationdefaults": {
           "arrowcolor": "#2a3f5f",
           "arrowhead": 0,
           "arrowwidth": 1
          },
          "autotypenumbers": "strict",
          "coloraxis": {
           "colorbar": {
            "outlinewidth": 0,
            "ticks": ""
           }
          },
          "colorscale": {
           "diverging": [
            [
             0,
             "#8e0152"
            ],
            [
             0.1,
             "#c51b7d"
            ],
            [
             0.2,
             "#de77ae"
            ],
            [
             0.3,
             "#f1b6da"
            ],
            [
             0.4,
             "#fde0ef"
            ],
            [
             0.5,
             "#f7f7f7"
            ],
            [
             0.6,
             "#e6f5d0"
            ],
            [
             0.7,
             "#b8e186"
            ],
            [
             0.8,
             "#7fbc41"
            ],
            [
             0.9,
             "#4d9221"
            ],
            [
             1,
             "#276419"
            ]
           ],
           "sequential": [
            [
             0,
             "#0d0887"
            ],
            [
             0.1111111111111111,
             "#46039f"
            ],
            [
             0.2222222222222222,
             "#7201a8"
            ],
            [
             0.3333333333333333,
             "#9c179e"
            ],
            [
             0.4444444444444444,
             "#bd3786"
            ],
            [
             0.5555555555555556,
             "#d8576b"
            ],
            [
             0.6666666666666666,
             "#ed7953"
            ],
            [
             0.7777777777777778,
             "#fb9f3a"
            ],
            [
             0.8888888888888888,
             "#fdca26"
            ],
            [
             1,
             "#f0f921"
            ]
           ],
           "sequentialminus": [
            [
             0,
             "#0d0887"
            ],
            [
             0.1111111111111111,
             "#46039f"
            ],
            [
             0.2222222222222222,
             "#7201a8"
            ],
            [
             0.3333333333333333,
             "#9c179e"
            ],
            [
             0.4444444444444444,
             "#bd3786"
            ],
            [
             0.5555555555555556,
             "#d8576b"
            ],
            [
             0.6666666666666666,
             "#ed7953"
            ],
            [
             0.7777777777777778,
             "#fb9f3a"
            ],
            [
             0.8888888888888888,
             "#fdca26"
            ],
            [
             1,
             "#f0f921"
            ]
           ]
          },
          "colorway": [
           "#636efa",
           "#EF553B",
           "#00cc96",
           "#ab63fa",
           "#FFA15A",
           "#19d3f3",
           "#FF6692",
           "#B6E880",
           "#FF97FF",
           "#FECB52"
          ],
          "font": {
           "color": "#2a3f5f"
          },
          "geo": {
           "bgcolor": "white",
           "lakecolor": "white",
           "landcolor": "#E5ECF6",
           "showlakes": true,
           "showland": true,
           "subunitcolor": "white"
          },
          "hoverlabel": {
           "align": "left"
          },
          "hovermode": "closest",
          "mapbox": {
           "style": "light"
          },
          "paper_bgcolor": "white",
          "plot_bgcolor": "#E5ECF6",
          "polar": {
           "angularaxis": {
            "gridcolor": "white",
            "linecolor": "white",
            "ticks": ""
           },
           "bgcolor": "#E5ECF6",
           "radialaxis": {
            "gridcolor": "white",
            "linecolor": "white",
            "ticks": ""
           }
          },
          "scene": {
           "xaxis": {
            "backgroundcolor": "#E5ECF6",
            "gridcolor": "white",
            "gridwidth": 2,
            "linecolor": "white",
            "showbackground": true,
            "ticks": "",
            "zerolinecolor": "white"
           },
           "yaxis": {
            "backgroundcolor": "#E5ECF6",
            "gridcolor": "white",
            "gridwidth": 2,
            "linecolor": "white",
            "showbackground": true,
            "ticks": "",
            "zerolinecolor": "white"
           },
           "zaxis": {
            "backgroundcolor": "#E5ECF6",
            "gridcolor": "white",
            "gridwidth": 2,
            "linecolor": "white",
            "showbackground": true,
            "ticks": "",
            "zerolinecolor": "white"
           }
          },
          "shapedefaults": {
           "line": {
            "color": "#2a3f5f"
           }
          },
          "ternary": {
           "aaxis": {
            "gridcolor": "white",
            "linecolor": "white",
            "ticks": ""
           },
           "baxis": {
            "gridcolor": "white",
            "linecolor": "white",
            "ticks": ""
           },
           "bgcolor": "#E5ECF6",
           "caxis": {
            "gridcolor": "white",
            "linecolor": "white",
            "ticks": ""
           }
          },
          "title": {
           "x": 0.05
          },
          "xaxis": {
           "automargin": true,
           "gridcolor": "white",
           "linecolor": "white",
           "ticks": "",
           "title": {
            "standoff": 15
           },
           "zerolinecolor": "white",
           "zerolinewidth": 2
          },
          "yaxis": {
           "automargin": true,
           "gridcolor": "white",
           "linecolor": "white",
           "ticks": "",
           "title": {
            "standoff": 15
           },
           "zerolinecolor": "white",
           "zerolinewidth": 2
          }
         }
        },
        "title": {
         "font": {
          "size": 20
         },
         "text": "Pasajeros por mes, Lufthansa German Airlines Operating Airline(s) y todas GEO Region(s)"
        },
        "width": 1000,
        "xaxis": {
         "anchor": "y",
         "domain": [
          0,
          1
         ],
         "title": {
          "text": "Mes"
         }
        },
        "yaxis": {
         "anchor": "x",
         "domain": [
          0,
          1
         ],
         "title": {
          "text": "Pasajeros"
         }
        }
       }
      }
     },
     "metadata": {},
     "output_type": "display_data"
    }
   ],
   "source": [
    "# Principal aerolínea europea por el total de pasajeros transportados\n",
    "df_3_lufthansa = passengers_month_year(df_1, 'Operating Airline', ['Lufthansa German Airlines'])"
   ]
  },
  {
   "cell_type": "markdown",
   "metadata": {},
   "source": [
    "![](newplot21.png)"
   ]
  },
  {
   "cell_type": "markdown",
   "metadata": {},
   "source": [
    "<div style=\"letter-spacing: 0.5px; text-align: justify; font-size: 12px;\">\n",
    "<b>Asia</b> A partir del 2008 en adelante, Cathay Pacific muestra un flujo estable de pasajeros. El comportamiento mensual refleja que febrero y septiembre son los meses con menor movimiento. Llama la atención el salto brusco ocurrido en septiembre del 2007. Antes de esa fecha, el total de pasajeros está en torno a 22 mil pasajeros mensuales. Luego da un salto hasta alcanzar la cifra de más de 38 mil pasajeros en diciembre. \n",
    "</div>"
   ]
  },
  {
   "cell_type": "code",
   "execution_count": 72,
   "metadata": {},
   "outputs": [
    {
     "data": {
      "application/vnd.plotly.v1+json": {
       "config": {
        "plotlyServerURL": "https://plot.ly"
       },
       "data": [
        {
         "hovertemplate": "Año=2005<br>Mes=%{x}<br>Pasajeros=%{y}<extra></extra>",
         "legendgroup": "2005",
         "line": {
          "color": "#636efa",
          "dash": "solid"
         },
         "marker": {
          "symbol": "circle"
         },
         "mode": "lines",
         "name": "2005",
         "orientation": "v",
         "showlegend": true,
         "type": "scatter",
         "x": [
          7,
          8,
          9,
          10,
          11,
          12
         ],
         "xaxis": "x",
         "y": [
          20638,
          20803,
          18244,
          20677,
          20087,
          20255
         ],
         "yaxis": "y"
        },
        {
         "hovertemplate": "Año=2006<br>Mes=%{x}<br>Pasajeros=%{y}<extra></extra>",
         "legendgroup": "2006",
         "line": {
          "color": "#EF553B",
          "dash": "solid"
         },
         "marker": {
          "symbol": "circle"
         },
         "mode": "lines",
         "name": "2006",
         "orientation": "v",
         "showlegend": true,
         "type": "scatter",
         "x": [
          1,
          2,
          3,
          4,
          5,
          6,
          7,
          8,
          9,
          10,
          11,
          12
         ],
         "xaxis": "x",
         "y": [
          21854,
          18545,
          22094,
          20868,
          22041,
          22249,
          22793,
          20909,
          18842,
          20212,
          20439,
          20561
         ],
         "yaxis": "y"
        },
        {
         "hovertemplate": "Año=2007<br>Mes=%{x}<br>Pasajeros=%{y}<extra></extra>",
         "legendgroup": "2007",
         "line": {
          "color": "#00cc96",
          "dash": "solid"
         },
         "marker": {
          "symbol": "circle"
         },
         "mode": "lines",
         "name": "2007",
         "orientation": "v",
         "showlegend": true,
         "type": "scatter",
         "x": [
          1,
          2,
          3,
          4,
          5,
          6,
          7,
          8,
          9,
          10,
          11,
          12
         ],
         "xaxis": "x",
         "y": [
          21668,
          18180,
          22358,
          20549,
          21811,
          21530,
          22507,
          21666,
          21011,
          27472,
          36552,
          38097
         ],
         "yaxis": "y"
        },
        {
         "hovertemplate": "Año=2008<br>Mes=%{x}<br>Pasajeros=%{y}<extra></extra>",
         "legendgroup": "2008",
         "line": {
          "color": "#ab63fa",
          "dash": "solid"
         },
         "marker": {
          "symbol": "circle"
         },
         "mode": "lines",
         "name": "2008",
         "orientation": "v",
         "showlegend": true,
         "type": "scatter",
         "x": [
          1,
          2,
          3,
          4,
          5,
          6,
          7,
          8,
          9,
          10,
          11,
          12
         ],
         "xaxis": "x",
         "y": [
          46704,
          35429,
          42182,
          36652,
          40008,
          41732,
          40870,
          36947,
          31169,
          34722,
          37640,
          38382
         ],
         "yaxis": "y"
        },
        {
         "hovertemplate": "Año=2009<br>Mes=%{x}<br>Pasajeros=%{y}<extra></extra>",
         "legendgroup": "2009",
         "line": {
          "color": "#FFA15A",
          "dash": "solid"
         },
         "marker": {
          "symbol": "circle"
         },
         "mode": "lines",
         "name": "2009",
         "orientation": "v",
         "showlegend": true,
         "type": "scatter",
         "x": [
          1,
          2,
          3,
          4,
          5,
          6,
          7,
          8,
          9,
          10,
          11,
          12
         ],
         "xaxis": "x",
         "y": [
          42208,
          30812,
          35992,
          42256,
          40540,
          38144,
          41768,
          40053,
          30987,
          34726,
          39404,
          41622
         ],
         "yaxis": "y"
        },
        {
         "hovertemplate": "Año=2010<br>Mes=%{x}<br>Pasajeros=%{y}<extra></extra>",
         "legendgroup": "2010",
         "line": {
          "color": "#19d3f3",
          "dash": "solid"
         },
         "marker": {
          "symbol": "circle"
         },
         "mode": "lines",
         "name": "2010",
         "orientation": "v",
         "showlegend": true,
         "type": "scatter",
         "x": [
          1,
          2,
          3,
          4,
          5,
          6,
          7,
          8,
          9,
          10,
          11,
          12
         ],
         "xaxis": "x",
         "y": [
          43616,
          34645,
          40796,
          40255,
          43899,
          43144,
          43521,
          42172,
          38833,
          41636,
          39432,
          39317
         ],
         "yaxis": "y"
        },
        {
         "hovertemplate": "Año=2011<br>Mes=%{x}<br>Pasajeros=%{y}<extra></extra>",
         "legendgroup": "2011",
         "line": {
          "color": "#FF6692",
          "dash": "solid"
         },
         "marker": {
          "symbol": "circle"
         },
         "mode": "lines",
         "name": "2011",
         "orientation": "v",
         "showlegend": true,
         "type": "scatter",
         "x": [
          1,
          2,
          3,
          4,
          5,
          6,
          7,
          8,
          9,
          10,
          11,
          12
         ],
         "xaxis": "x",
         "y": [
          41759,
          33257,
          41716,
          40466,
          43638,
          41586,
          41925,
          41246,
          35807,
          38420,
          38946,
          38943
         ],
         "yaxis": "y"
        },
        {
         "hovertemplate": "Año=2012<br>Mes=%{x}<br>Pasajeros=%{y}<extra></extra>",
         "legendgroup": "2012",
         "line": {
          "color": "#B6E880",
          "dash": "solid"
         },
         "marker": {
          "symbol": "circle"
         },
         "mode": "lines",
         "name": "2012",
         "orientation": "v",
         "showlegend": true,
         "type": "scatter",
         "x": [
          1,
          2,
          3,
          4,
          5,
          6,
          7,
          8,
          9,
          10,
          11,
          12
         ],
         "xaxis": "x",
         "y": [
          39756,
          33206,
          38077,
          40425,
          42960,
          42840,
          37179,
          37450,
          34377,
          35808,
          36662,
          37254
         ],
         "yaxis": "y"
        },
        {
         "hovertemplate": "Año=2013<br>Mes=%{x}<br>Pasajeros=%{y}<extra></extra>",
         "legendgroup": "2013",
         "line": {
          "color": "#FF97FF",
          "dash": "solid"
         },
         "marker": {
          "symbol": "circle"
         },
         "mode": "lines",
         "name": "2013",
         "orientation": "v",
         "showlegend": true,
         "type": "scatter",
         "x": [
          1,
          2,
          3,
          4,
          5,
          6,
          7,
          8,
          9,
          10,
          11,
          12
         ],
         "xaxis": "x",
         "y": [
          35674,
          30978,
          35696,
          34858,
          36952,
          36775,
          36820,
          37126,
          31909,
          35017,
          35098,
          36158
         ],
         "yaxis": "y"
        },
        {
         "hovertemplate": "Año=2014<br>Mes=%{x}<br>Pasajeros=%{y}<extra></extra>",
         "legendgroup": "2014",
         "line": {
          "color": "#FECB52",
          "dash": "solid"
         },
         "marker": {
          "symbol": "circle"
         },
         "mode": "lines",
         "name": "2014",
         "orientation": "v",
         "showlegend": true,
         "type": "scatter",
         "x": [
          1,
          2,
          3,
          4,
          5,
          6,
          7,
          8,
          9,
          10,
          11,
          12
         ],
         "xaxis": "x",
         "y": [
          36349,
          31299,
          35513,
          34127,
          37502,
          36280,
          36118,
          36542,
          31642,
          32669,
          34462,
          34117
         ],
         "yaxis": "y"
        },
        {
         "hovertemplate": "Año=2015<br>Mes=%{x}<br>Pasajeros=%{y}<extra></extra>",
         "legendgroup": "2015",
         "line": {
          "color": "#636efa",
          "dash": "solid"
         },
         "marker": {
          "symbol": "circle"
         },
         "mode": "lines",
         "name": "2015",
         "orientation": "v",
         "showlegend": true,
         "type": "scatter",
         "x": [
          1,
          2,
          3,
          4,
          5,
          6,
          7,
          8,
          9,
          10,
          11,
          12
         ],
         "xaxis": "x",
         "y": [
          34147,
          29409,
          33955,
          32872,
          36161,
          40685,
          41039,
          42049,
          34348,
          41730,
          42439,
          41116
         ],
         "yaxis": "y"
        },
        {
         "hovertemplate": "Año=2016<br>Mes=%{x}<br>Pasajeros=%{y}<extra></extra>",
         "legendgroup": "2016",
         "line": {
          "color": "#EF553B",
          "dash": "solid"
         },
         "marker": {
          "symbol": "circle"
         },
         "mode": "lines",
         "name": "2016",
         "orientation": "v",
         "showlegend": true,
         "type": "scatter",
         "x": [
          1,
          2,
          3
         ],
         "xaxis": "x",
         "y": [
          42259,
          33923,
          40059
         ],
         "yaxis": "y"
        }
       ],
       "layout": {
        "height": 600,
        "legend": {
         "title": {
          "text": "Año"
         },
         "tracegroupgap": 0
        },
        "plot_bgcolor": "#FBFCFF",
        "template": {
         "data": {
          "bar": [
           {
            "error_x": {
             "color": "#2a3f5f"
            },
            "error_y": {
             "color": "#2a3f5f"
            },
            "marker": {
             "line": {
              "color": "#E5ECF6",
              "width": 0.5
             },
             "pattern": {
              "fillmode": "overlay",
              "size": 10,
              "solidity": 0.2
             }
            },
            "type": "bar"
           }
          ],
          "barpolar": [
           {
            "marker": {
             "line": {
              "color": "#E5ECF6",
              "width": 0.5
             },
             "pattern": {
              "fillmode": "overlay",
              "size": 10,
              "solidity": 0.2
             }
            },
            "type": "barpolar"
           }
          ],
          "carpet": [
           {
            "aaxis": {
             "endlinecolor": "#2a3f5f",
             "gridcolor": "white",
             "linecolor": "white",
             "minorgridcolor": "white",
             "startlinecolor": "#2a3f5f"
            },
            "baxis": {
             "endlinecolor": "#2a3f5f",
             "gridcolor": "white",
             "linecolor": "white",
             "minorgridcolor": "white",
             "startlinecolor": "#2a3f5f"
            },
            "type": "carpet"
           }
          ],
          "choropleth": [
           {
            "colorbar": {
             "outlinewidth": 0,
             "ticks": ""
            },
            "type": "choropleth"
           }
          ],
          "contour": [
           {
            "colorbar": {
             "outlinewidth": 0,
             "ticks": ""
            },
            "colorscale": [
             [
              0,
              "#0d0887"
             ],
             [
              0.1111111111111111,
              "#46039f"
             ],
             [
              0.2222222222222222,
              "#7201a8"
             ],
             [
              0.3333333333333333,
              "#9c179e"
             ],
             [
              0.4444444444444444,
              "#bd3786"
             ],
             [
              0.5555555555555556,
              "#d8576b"
             ],
             [
              0.6666666666666666,
              "#ed7953"
             ],
             [
              0.7777777777777778,
              "#fb9f3a"
             ],
             [
              0.8888888888888888,
              "#fdca26"
             ],
             [
              1,
              "#f0f921"
             ]
            ],
            "type": "contour"
           }
          ],
          "contourcarpet": [
           {
            "colorbar": {
             "outlinewidth": 0,
             "ticks": ""
            },
            "type": "contourcarpet"
           }
          ],
          "heatmap": [
           {
            "colorbar": {
             "outlinewidth": 0,
             "ticks": ""
            },
            "colorscale": [
             [
              0,
              "#0d0887"
             ],
             [
              0.1111111111111111,
              "#46039f"
             ],
             [
              0.2222222222222222,
              "#7201a8"
             ],
             [
              0.3333333333333333,
              "#9c179e"
             ],
             [
              0.4444444444444444,
              "#bd3786"
             ],
             [
              0.5555555555555556,
              "#d8576b"
             ],
             [
              0.6666666666666666,
              "#ed7953"
             ],
             [
              0.7777777777777778,
              "#fb9f3a"
             ],
             [
              0.8888888888888888,
              "#fdca26"
             ],
             [
              1,
              "#f0f921"
             ]
            ],
            "type": "heatmap"
           }
          ],
          "heatmapgl": [
           {
            "colorbar": {
             "outlinewidth": 0,
             "ticks": ""
            },
            "colorscale": [
             [
              0,
              "#0d0887"
             ],
             [
              0.1111111111111111,
              "#46039f"
             ],
             [
              0.2222222222222222,
              "#7201a8"
             ],
             [
              0.3333333333333333,
              "#9c179e"
             ],
             [
              0.4444444444444444,
              "#bd3786"
             ],
             [
              0.5555555555555556,
              "#d8576b"
             ],
             [
              0.6666666666666666,
              "#ed7953"
             ],
             [
              0.7777777777777778,
              "#fb9f3a"
             ],
             [
              0.8888888888888888,
              "#fdca26"
             ],
             [
              1,
              "#f0f921"
             ]
            ],
            "type": "heatmapgl"
           }
          ],
          "histogram": [
           {
            "marker": {
             "pattern": {
              "fillmode": "overlay",
              "size": 10,
              "solidity": 0.2
             }
            },
            "type": "histogram"
           }
          ],
          "histogram2d": [
           {
            "colorbar": {
             "outlinewidth": 0,
             "ticks": ""
            },
            "colorscale": [
             [
              0,
              "#0d0887"
             ],
             [
              0.1111111111111111,
              "#46039f"
             ],
             [
              0.2222222222222222,
              "#7201a8"
             ],
             [
              0.3333333333333333,
              "#9c179e"
             ],
             [
              0.4444444444444444,
              "#bd3786"
             ],
             [
              0.5555555555555556,
              "#d8576b"
             ],
             [
              0.6666666666666666,
              "#ed7953"
             ],
             [
              0.7777777777777778,
              "#fb9f3a"
             ],
             [
              0.8888888888888888,
              "#fdca26"
             ],
             [
              1,
              "#f0f921"
             ]
            ],
            "type": "histogram2d"
           }
          ],
          "histogram2dcontour": [
           {
            "colorbar": {
             "outlinewidth": 0,
             "ticks": ""
            },
            "colorscale": [
             [
              0,
              "#0d0887"
             ],
             [
              0.1111111111111111,
              "#46039f"
             ],
             [
              0.2222222222222222,
              "#7201a8"
             ],
             [
              0.3333333333333333,
              "#9c179e"
             ],
             [
              0.4444444444444444,
              "#bd3786"
             ],
             [
              0.5555555555555556,
              "#d8576b"
             ],
             [
              0.6666666666666666,
              "#ed7953"
             ],
             [
              0.7777777777777778,
              "#fb9f3a"
             ],
             [
              0.8888888888888888,
              "#fdca26"
             ],
             [
              1,
              "#f0f921"
             ]
            ],
            "type": "histogram2dcontour"
           }
          ],
          "mesh3d": [
           {
            "colorbar": {
             "outlinewidth": 0,
             "ticks": ""
            },
            "type": "mesh3d"
           }
          ],
          "parcoords": [
           {
            "line": {
             "colorbar": {
              "outlinewidth": 0,
              "ticks": ""
             }
            },
            "type": "parcoords"
           }
          ],
          "pie": [
           {
            "automargin": true,
            "type": "pie"
           }
          ],
          "scatter": [
           {
            "fillpattern": {
             "fillmode": "overlay",
             "size": 10,
             "solidity": 0.2
            },
            "type": "scatter"
           }
          ],
          "scatter3d": [
           {
            "line": {
             "colorbar": {
              "outlinewidth": 0,
              "ticks": ""
             }
            },
            "marker": {
             "colorbar": {
              "outlinewidth": 0,
              "ticks": ""
             }
            },
            "type": "scatter3d"
           }
          ],
          "scattercarpet": [
           {
            "marker": {
             "colorbar": {
              "outlinewidth": 0,
              "ticks": ""
             }
            },
            "type": "scattercarpet"
           }
          ],
          "scattergeo": [
           {
            "marker": {
             "colorbar": {
              "outlinewidth": 0,
              "ticks": ""
             }
            },
            "type": "scattergeo"
           }
          ],
          "scattergl": [
           {
            "marker": {
             "colorbar": {
              "outlinewidth": 0,
              "ticks": ""
             }
            },
            "type": "scattergl"
           }
          ],
          "scattermapbox": [
           {
            "marker": {
             "colorbar": {
              "outlinewidth": 0,
              "ticks": ""
             }
            },
            "type": "scattermapbox"
           }
          ],
          "scatterpolar": [
           {
            "marker": {
             "colorbar": {
              "outlinewidth": 0,
              "ticks": ""
             }
            },
            "type": "scatterpolar"
           }
          ],
          "scatterpolargl": [
           {
            "marker": {
             "colorbar": {
              "outlinewidth": 0,
              "ticks": ""
             }
            },
            "type": "scatterpolargl"
           }
          ],
          "scatterternary": [
           {
            "marker": {
             "colorbar": {
              "outlinewidth": 0,
              "ticks": ""
             }
            },
            "type": "scatterternary"
           }
          ],
          "surface": [
           {
            "colorbar": {
             "outlinewidth": 0,
             "ticks": ""
            },
            "colorscale": [
             [
              0,
              "#0d0887"
             ],
             [
              0.1111111111111111,
              "#46039f"
             ],
             [
              0.2222222222222222,
              "#7201a8"
             ],
             [
              0.3333333333333333,
              "#9c179e"
             ],
             [
              0.4444444444444444,
              "#bd3786"
             ],
             [
              0.5555555555555556,
              "#d8576b"
             ],
             [
              0.6666666666666666,
              "#ed7953"
             ],
             [
              0.7777777777777778,
              "#fb9f3a"
             ],
             [
              0.8888888888888888,
              "#fdca26"
             ],
             [
              1,
              "#f0f921"
             ]
            ],
            "type": "surface"
           }
          ],
          "table": [
           {
            "cells": {
             "fill": {
              "color": "#EBF0F8"
             },
             "line": {
              "color": "white"
             }
            },
            "header": {
             "fill": {
              "color": "#C8D4E3"
             },
             "line": {
              "color": "white"
             }
            },
            "type": "table"
           }
          ]
         },
         "layout": {
          "annotationdefaults": {
           "arrowcolor": "#2a3f5f",
           "arrowhead": 0,
           "arrowwidth": 1
          },
          "autotypenumbers": "strict",
          "coloraxis": {
           "colorbar": {
            "outlinewidth": 0,
            "ticks": ""
           }
          },
          "colorscale": {
           "diverging": [
            [
             0,
             "#8e0152"
            ],
            [
             0.1,
             "#c51b7d"
            ],
            [
             0.2,
             "#de77ae"
            ],
            [
             0.3,
             "#f1b6da"
            ],
            [
             0.4,
             "#fde0ef"
            ],
            [
             0.5,
             "#f7f7f7"
            ],
            [
             0.6,
             "#e6f5d0"
            ],
            [
             0.7,
             "#b8e186"
            ],
            [
             0.8,
             "#7fbc41"
            ],
            [
             0.9,
             "#4d9221"
            ],
            [
             1,
             "#276419"
            ]
           ],
           "sequential": [
            [
             0,
             "#0d0887"
            ],
            [
             0.1111111111111111,
             "#46039f"
            ],
            [
             0.2222222222222222,
             "#7201a8"
            ],
            [
             0.3333333333333333,
             "#9c179e"
            ],
            [
             0.4444444444444444,
             "#bd3786"
            ],
            [
             0.5555555555555556,
             "#d8576b"
            ],
            [
             0.6666666666666666,
             "#ed7953"
            ],
            [
             0.7777777777777778,
             "#fb9f3a"
            ],
            [
             0.8888888888888888,
             "#fdca26"
            ],
            [
             1,
             "#f0f921"
            ]
           ],
           "sequentialminus": [
            [
             0,
             "#0d0887"
            ],
            [
             0.1111111111111111,
             "#46039f"
            ],
            [
             0.2222222222222222,
             "#7201a8"
            ],
            [
             0.3333333333333333,
             "#9c179e"
            ],
            [
             0.4444444444444444,
             "#bd3786"
            ],
            [
             0.5555555555555556,
             "#d8576b"
            ],
            [
             0.6666666666666666,
             "#ed7953"
            ],
            [
             0.7777777777777778,
             "#fb9f3a"
            ],
            [
             0.8888888888888888,
             "#fdca26"
            ],
            [
             1,
             "#f0f921"
            ]
           ]
          },
          "colorway": [
           "#636efa",
           "#EF553B",
           "#00cc96",
           "#ab63fa",
           "#FFA15A",
           "#19d3f3",
           "#FF6692",
           "#B6E880",
           "#FF97FF",
           "#FECB52"
          ],
          "font": {
           "color": "#2a3f5f"
          },
          "geo": {
           "bgcolor": "white",
           "lakecolor": "white",
           "landcolor": "#E5ECF6",
           "showlakes": true,
           "showland": true,
           "subunitcolor": "white"
          },
          "hoverlabel": {
           "align": "left"
          },
          "hovermode": "closest",
          "mapbox": {
           "style": "light"
          },
          "paper_bgcolor": "white",
          "plot_bgcolor": "#E5ECF6",
          "polar": {
           "angularaxis": {
            "gridcolor": "white",
            "linecolor": "white",
            "ticks": ""
           },
           "bgcolor": "#E5ECF6",
           "radialaxis": {
            "gridcolor": "white",
            "linecolor": "white",
            "ticks": ""
           }
          },
          "scene": {
           "xaxis": {
            "backgroundcolor": "#E5ECF6",
            "gridcolor": "white",
            "gridwidth": 2,
            "linecolor": "white",
            "showbackground": true,
            "ticks": "",
            "zerolinecolor": "white"
           },
           "yaxis": {
            "backgroundcolor": "#E5ECF6",
            "gridcolor": "white",
            "gridwidth": 2,
            "linecolor": "white",
            "showbackground": true,
            "ticks": "",
            "zerolinecolor": "white"
           },
           "zaxis": {
            "backgroundcolor": "#E5ECF6",
            "gridcolor": "white",
            "gridwidth": 2,
            "linecolor": "white",
            "showbackground": true,
            "ticks": "",
            "zerolinecolor": "white"
           }
          },
          "shapedefaults": {
           "line": {
            "color": "#2a3f5f"
           }
          },
          "ternary": {
           "aaxis": {
            "gridcolor": "white",
            "linecolor": "white",
            "ticks": ""
           },
           "baxis": {
            "gridcolor": "white",
            "linecolor": "white",
            "ticks": ""
           },
           "bgcolor": "#E5ECF6",
           "caxis": {
            "gridcolor": "white",
            "linecolor": "white",
            "ticks": ""
           }
          },
          "title": {
           "x": 0.05
          },
          "xaxis": {
           "automargin": true,
           "gridcolor": "white",
           "linecolor": "white",
           "ticks": "",
           "title": {
            "standoff": 15
           },
           "zerolinecolor": "white",
           "zerolinewidth": 2
          },
          "yaxis": {
           "automargin": true,
           "gridcolor": "white",
           "linecolor": "white",
           "ticks": "",
           "title": {
            "standoff": 15
           },
           "zerolinecolor": "white",
           "zerolinewidth": 2
          }
         }
        },
        "title": {
         "font": {
          "size": 20
         },
         "text": "Pasajeros por mes, Cathay Pacific Operating Airline(s) y todas GEO Region(s)"
        },
        "width": 1000,
        "xaxis": {
         "anchor": "y",
         "domain": [
          0,
          1
         ],
         "title": {
          "text": "Mes"
         }
        },
        "yaxis": {
         "anchor": "x",
         "domain": [
          0,
          1
         ],
         "title": {
          "text": "Pasajeros"
         }
        }
       }
      }
     },
     "metadata": {},
     "output_type": "display_data"
    }
   ],
   "source": [
    "# Principal aerolínea asiática por el total de pasajeros transportados\n",
    "df_3_cathay = passengers_month_year(df_1, 'Operating Airline', ['Cathay Pacific']) "
   ]
  },
  {
   "cell_type": "markdown",
   "metadata": {},
   "source": [
    "![](newplot22.png)"
   ]
  },
  {
   "cell_type": "markdown",
   "metadata": {},
   "source": [
    "<div style=\"letter-spacing: 0.5px; text-align: justify; font-size: 14px;\">\n",
    "Regresión Lineal\n",
    "</div>"
   ]
  },
  {
   "cell_type": "code",
   "execution_count": 73,
   "metadata": {},
   "outputs": [],
   "source": [
    "#df_3 = process_passengers_month(df_1, \"GEO Region\", ['todo'])\n",
    "\n",
    "# Obtener la fecha mínima en la columna 'Date'\n",
    "min_date = df_3_all.agg(F.min(\"Date\")).collect()[0][0] \n",
    "\n",
    "# Calcular la columna 'Time' que represente la diferencia en meses entre cada fecha en Date y la fecha mínima (min_date)\n",
    "df_3_linear = df_3_all.withColumn('Time', (F.unix_timestamp('Date') - F.unix_timestamp(F.lit(min_date))) / 60 / 60 / 24 / 30)  # Diferencia en meses\n"
   ]
  },
  {
   "cell_type": "code",
   "execution_count": 74,
   "metadata": {},
   "outputs": [],
   "source": [
    "# Agregar una columna constante (intercepto)\n",
    "df_3_linear = df_3_linear.withColumn('constant', F.lit(1))\n",
    "\n",
    "# Crear el vector de características (X)\n",
    "assembler = VectorAssembler(inputCols=['Time', 'constant'], outputCol='features')\n",
    "df_3_linear = assembler.transform(df_3_linear)\n",
    "\n",
    "# Ajustar el modelo de regresión lineal\n",
    "lr = LinearRegression(featuresCol='features', labelCol='passengers')\n",
    "lr_model = lr.fit(df_3_linear)\n",
    "\n",
    "# Calcular predicciones\n",
    "predictions = lr_model.transform(df_3_linear)\n",
    "\n",
    "# Crear evaluador de regresión\n",
    "evaluator = RegressionEvaluator(labelCol=\"passengers\", predictionCol=\"prediction\")\n",
    "\n",
    "# Calcular métricas\n",
    "rmse = evaluator.evaluate(predictions, {evaluator.metricName: \"rmse\"})  # Root Mean Squared Error\n",
    "mae = evaluator.evaluate(predictions, {evaluator.metricName: \"mae\"})  # Mean Absolute Error\n",
    "mse = evaluator.evaluate(predictions, {evaluator.metricName: \"mse\"})  # Mean Squared Error\n",
    "r2 = evaluator.evaluate(predictions, {evaluator.metricName: \"r2\"})  # Coeficiente de determinación (R²)\n"
   ]
  },
  {
   "cell_type": "markdown",
   "metadata": {},
   "source": [
    "<div style=\"letter-spacing: 0.5px; text-align: justify; font-size: 12px;\">\n",
    "El coeficiente de determinación es menor a 60%, lo cual indica que el modelo es poco efectivo. \n",
    "</div>"
   ]
  },
  {
   "cell_type": "code",
   "execution_count": 75,
   "metadata": {},
   "outputs": [
    {
     "name": "stdout",
     "output_type": "stream",
     "text": [
      "Root Mean Squared Error (RMSE): 359202.61\n",
      "Mean Absolute Error (MAE): 282246.92\n",
      "Mean Squared Error (MSE): 129026513439.42\n",
      "R² (Coeficiente de determinación): 0.59\n"
     ]
    }
   ],
   "source": [
    "# Mostrar métricas\n",
    "print(f\"Root Mean Squared Error (RMSE): {rmse:.2f}\")\n",
    "print(f\"Mean Absolute Error (MAE): {mae:.2f}\")\n",
    "print(f\"Mean Squared Error (MSE): {mse:.2f}\")\n",
    "print(f\"R² (Coeficiente de determinación): {r2:.2f}\")"
   ]
  },
  {
   "cell_type": "markdown",
   "metadata": {},
   "source": [
    "<div style=\"letter-spacing: 0.5px; text-align: justify; font-size: 14px;\">\n",
    ".Realizar la predicción.\n",
    "</div>\n"
   ]
  },
  {
   "cell_type": "code",
   "execution_count": 76,
   "metadata": {},
   "outputs": [
    {
     "name": "stdout",
     "output_type": "stream",
     "text": [
      "['Date', 'passengers', 'Time', 'constant', 'features', 'passengers_']\n"
     ]
    }
   ],
   "source": [
    "# Realizar la predicción con el modelo ajustado\n",
    "df_3_linear = lr_model.transform(df_3_linear)\n",
    "\n",
    "# La predicción se guarda en una nueva columna\n",
    "df_3_linear = df_3_linear.withColumnRenamed(\"prediction\", \"passengers_\")\n",
    "\n",
    "# Imprimir las columnas de 'linear'\n",
    "print(df_3_linear.columns)\n",
    "\n"
   ]
  },
  {
   "cell_type": "markdown",
   "metadata": {},
   "source": [
    "<div style=\"letter-spacing: 0.5px; text-align: justify; font-size: 14px;\">\n",
    ".Extender la predicción hasta 2020.\n",
    "</div>"
   ]
  },
  {
   "cell_type": "code",
   "execution_count": 77,
   "metadata": {},
   "outputs": [
    {
     "name": "stdout",
     "output_type": "stream",
     "text": [
      "['Date', 'passengers', 'Time', 'constant', 'features', 'passengers_']\n"
     ]
    }
   ],
   "source": [
    "\n",
    "# Extender la predicción hasta 2020 (periods=60)\n",
    "df_3_predict_pd = pd.DataFrame(data={\n",
    "    'Date': pd.date_range('2016-03-01', periods=60, freq='M') + pd.DateOffset(days=1),\n",
    "    'passengers': np.nan\n",
    "})\n",
    "\n",
    "# Convertir el DataFrame de pandas a PySpark\n",
    "spark = SparkSession.builder.getOrCreate()\n",
    "df_3_predict = spark.createDataFrame(df_3_predict_pd)\n",
    "\n",
    "# Convertir la columna 'Date' a tipo 'date' \n",
    "df_3_predict = df_3_predict.withColumn('Date', F.col('Date').cast('date'))\n",
    "\n",
    "# Calcular la columna 'Time' para las fechas futuras\n",
    "min_date = df_3_linear.agg(F.min(\"Date\")).collect()[0][0]\n",
    "df_3_predict = df_3_predict.withColumn('Time', (F.unix_timestamp('Date') - F.unix_timestamp(F.lit(min_date))) / 60 / 60 / 24 / 30)\n",
    "\n",
    "# Agregar la columna constante y preparar características para la predicción\n",
    "df_3_predict = df_3_predict.withColumn('constant', F.lit(1))\n",
    "df_3_predict_assembler = VectorAssembler(inputCols=['Time', 'constant'], outputCol='features')\n",
    "df_3_predict = df_3_predict_assembler.transform(df_3_predict)\n",
    "\n",
    "# Eliminar la columna 'passengers_' si ya existe antes de aplicar la predicción\n",
    "df_3_predict = df_3_predict.drop('passengers_')\n",
    "\n",
    "# Realizar la predicción\n",
    "df_3_predict = lr_model.transform(df_3_predict)\n",
    "\n",
    "# Renombrar la columna de predicción a 'passengers_'\n",
    "df_3_predict = df_3_predict.withColumnRenamed(\"prediction\", \"passengers_\")\n",
    "\n",
    "# Imprimir las columnas de 'predict'\n",
    "print(df_3_predict.columns)\n"
   ]
  },
  {
   "cell_type": "code",
   "execution_count": 78,
   "metadata": {},
   "outputs": [],
   "source": [
    "\n",
    "# Crear los DataFrames necesarios para graficar\n",
    "df_3_linear_pd = df_3_linear.select('Date', 'passengers_').toPandas()\n",
    "df_3_predict_pd = df_3_predict.select('Date', 'passengers_').toPandas()"
   ]
  },
  {
   "cell_type": "code",
   "execution_count": 79,
   "metadata": {},
   "outputs": [],
   "source": [
    "def plot_line_chart(dataframes, x_col, y_col_list, width=1000, height=600, y_label='Pasajeros', title='', color_cycle=None):\n",
    "    \"\"\"\n",
    "    Función para graficar múltiples series de datos en un gráfico de líneas.\n",
    "    \n",
    "    Parámetros:\n",
    "    - dataframes (list): Lista de DataFrames de Spark que contienen los datos.\n",
    "    - x_col (str): Nombre de la columna que se usará en el eje X.\n",
    "    - y_col_list (list of lists): Lista de listas de nombres de columnas que se graficarán.\n",
    "    - width (int, optional): Ancho del gráfico. Por defecto 1000.\n",
    "    - height (int, optional): Alto del gráfico. Por defecto 600.\n",
    "    - y_label (str, optional): Etiqueta del eje Y. Por defecto 'Pasajeros'.\n",
    "    - title (str, optional): Título del gráfico.\n",
    "    - color_cycle (list, optional): Lista de colores para las líneas. Si no se proporciona, se usa un ciclo predeterminado.\n",
    "    \n",
    "    Retorna:\n",
    "    - None (muestra el gráfico).\n",
    "    \"\"\"\n",
    "\n",
    "    # Definir un ciclo de colores predeterminado si no se proporciona\n",
    "    if color_cycle is None:\n",
    "        color_cycle = ['orange', 'navy', 'tomato', 'crimson', 'darkgreen', 'brown', 'forestgreen', \n",
    "                       'steelblue', 'deeppink', 'darkorange', 'palegreen', 'gold', 'darkviolet']\n",
    "    \n",
    "    traces = []\n",
    "    color_index = 0\n",
    "    \n",
    "    # Iterar sobre los DataFrames y las columnas de interés\n",
    "    for df_idx, df_1 in enumerate(dataframes):\n",
    "        for y_col in y_col_list[df_idx]:\n",
    "            # Renombrar las columnas para evitar ambigüedades\n",
    "            df_1_renamed = df_1.select([F.col(x_col)] + [F.col(y_col).alias(f'{y_col}_{df_idx}')])\n",
    "            \n",
    "            # Convertir a pandas para graficar\n",
    "            x_data = df_1_renamed.select(x_col).toPandas()[x_col]\n",
    "            y_data = df_1_renamed.select(f'{y_col}_{df_idx}').toPandas()[f'{y_col}_{df_idx}']\n",
    "            \n",
    "            # Agregar la traza con las líneas\n",
    "            traces.append(go.Scatter(\n",
    "                x=x_data,\n",
    "                y=y_data,\n",
    "                mode='lines',\n",
    "                line=dict(color=color_cycle[color_index]),\n",
    "                name=f'{y_label} {df_idx+1}'  # Cambiar la leyenda según el índice del DataFrame\n",
    "            ))\n",
    "            \n",
    "            # Actualizar el índice de color\n",
    "            color_index = (color_index + 1) % len(color_cycle)\n",
    "    \n",
    "    # Crear la figura\n",
    "    fig = go.Figure(traces)\n",
    "    \n",
    "    # Configurar el layout del gráfico\n",
    "    fig.update_layout(\n",
    "        title=title,\n",
    "        xaxis_title='Año',  # Cambiar \"date\" por \"Año\"\n",
    "        yaxis_title=y_label,\n",
    "        plot_bgcolor='#F7FAFC',\n",
    "        title_font_size=20,\n",
    "        xaxis_title_font=dict(size=15),\n",
    "        yaxis_title_font=dict(size=15),\n",
    "        showlegend=True,\n",
    "        width=width,\n",
    "        height=height\n",
    "    )\n",
    "    \n",
    "    # Mostrar el gráfico\n",
    "    fig.show()\n"
   ]
  },
  {
   "cell_type": "markdown",
   "metadata": {},
   "source": [
    "<div style=\"letter-spacing: 0.5px; text-align: justify; font-size: 12px;\">\n",
    "  La <b style=\"color: orange;\">línea naranja</b> representa la cantidad de pasajeros por año. Su tendencia es creciente, con fluctuaciones anuales marcadas debido a estaciones y/o eventos específicos.\n",
    "\n",
    "  La <b style=\"color: blue;\">línea azul</b> muestra las predicciones del modelo de regresión lineal para los pasajeros. Esta línea también sigue una tendencia creciente, pero con menor variabilidad que la <b style=\"color: orange;\">línea naranja</b>, lo que sugiere que el modelo ofrece una aproximación más estable de la evolución del número de pasajeros.\n",
    "\n",
    "  Por su parte, la <b style=\"color: red;\">línea roja</b> proyecta la tendencia general del crecimiento de los pasajeros a partir del 2016. Sin embargo, al igual que la <b style=\"color: blue;\">línea azul</b> no refleja las fluctuaciones interanuales representadas por la <b style=\"color: orange;\">línea naranja</b>. Es importante recordar que, a finales del 2019, se detectó el virus COVID-19, el cual se prpagó rápidamente a nivel global, afectando a la humanidad y dejando repercusiones económicas que aún hoy perduran.\n",
    "</div>\n"
   ]
  },
  {
   "cell_type": "code",
   "execution_count": 80,
   "metadata": {},
   "outputs": [
    {
     "data": {
      "application/vnd.plotly.v1+json": {
       "config": {
        "plotlyServerURL": "https://plot.ly"
       },
       "data": [
        {
         "line": {
          "color": "orange"
         },
         "mode": "lines",
         "name": "Pasajeros 1",
         "type": "scatter",
         "x": [
          "2005-07-01",
          "2005-08-01",
          "2005-09-01",
          "2005-10-01",
          "2005-11-01",
          "2005-12-01",
          "2006-01-01",
          "2006-02-01",
          "2006-03-01",
          "2006-04-01",
          "2006-05-01",
          "2006-06-01",
          "2006-07-01",
          "2006-08-01",
          "2006-09-01",
          "2006-10-01",
          "2006-11-01",
          "2006-12-01",
          "2007-01-01",
          "2007-02-01",
          "2007-03-01",
          "2007-04-01",
          "2007-05-01",
          "2007-06-01",
          "2007-07-01",
          "2007-08-01",
          "2007-09-01",
          "2007-10-01",
          "2007-11-01",
          "2007-12-01",
          "2008-01-01",
          "2008-02-01",
          "2008-03-01",
          "2008-04-01",
          "2008-05-01",
          "2008-06-01",
          "2008-07-01",
          "2008-08-01",
          "2008-09-01",
          "2008-10-01",
          "2008-11-01",
          "2008-12-01",
          "2009-01-01",
          "2009-02-01",
          "2009-03-01",
          "2009-04-01",
          "2009-05-01",
          "2009-06-01",
          "2009-07-01",
          "2009-08-01",
          "2009-09-01",
          "2009-10-01",
          "2009-11-01",
          "2009-12-01",
          "2010-01-01",
          "2010-02-01",
          "2010-03-01",
          "2010-04-01",
          "2010-05-01",
          "2010-06-01",
          "2010-07-01",
          "2010-08-01",
          "2010-09-01",
          "2010-10-01",
          "2010-11-01",
          "2010-12-01",
          "2011-01-01",
          "2011-02-01",
          "2011-03-01",
          "2011-04-01",
          "2011-05-01",
          "2011-06-01",
          "2011-07-01",
          "2011-08-01",
          "2011-09-01",
          "2011-10-01",
          "2011-11-01",
          "2011-12-01",
          "2012-01-01",
          "2012-02-01",
          "2012-03-01",
          "2012-04-01",
          "2012-05-01",
          "2012-06-01",
          "2012-07-01",
          "2012-08-01",
          "2012-09-01",
          "2012-10-01",
          "2012-11-01",
          "2012-12-01",
          "2013-01-01",
          "2013-02-01",
          "2013-03-01",
          "2013-04-01",
          "2013-05-01",
          "2013-06-01",
          "2013-07-01",
          "2013-08-01",
          "2013-09-01",
          "2013-10-01",
          "2013-11-01",
          "2013-12-01",
          "2014-01-01",
          "2014-02-01",
          "2014-03-01",
          "2014-04-01",
          "2014-05-01",
          "2014-06-01",
          "2014-07-01",
          "2014-08-01",
          "2014-09-01",
          "2014-10-01",
          "2014-11-01",
          "2014-12-01",
          "2015-01-01",
          "2015-02-01",
          "2015-03-01",
          "2015-04-01",
          "2015-05-01",
          "2015-06-01",
          "2015-07-01",
          "2015-08-01",
          "2015-09-01",
          "2015-10-01",
          "2015-11-01",
          "2015-12-01",
          "2016-01-01",
          "2016-02-01",
          "2016-03-01"
         ],
         "y": [
          3254797,
          3224118,
          2764519,
          2798480,
          2638631,
          2696084,
          2471712,
          2247255,
          2738730,
          2792413,
          2846400,
          3091837,
          3248908,
          3165026,
          2738319,
          2851945,
          2671437,
          2717430,
          2527036,
          2323522,
          2844144,
          2891446,
          3080467,
          3286732,
          3404925,
          3459915,
          2973709,
          3146765,
          2934915,
          2917258,
          2685375,
          2613849,
          3146970,
          3048005,
          3321383,
          3466528,
          3621751,
          3629829,
          3012836,
          3133206,
          2751947,
          2970862,
          2654860,
          2368782,
          2936292,
          3035226,
          3186209,
          3432110,
          3659471,
          3659379,
          3199046,
          3259010,
          2979513,
          3083736,
          2796566,
          2524760,
          3118364,
          3151412,
          3390714,
          3626272,
          3778957,
          3785346,
          3367415,
          3502275,
          3172057,
          3177096,
          2893972,
          2619193,
          3139089,
          3209189,
          3558021,
          3777419,
          3947019,
          3930681,
          3573533,
          3611694,
          3334801,
          3450820,
          3218600,
          3005764,
          3481078,
          3569473,
          3825332,
          4112311,
          4290086,
          4362369,
          3831358,
          3849650,
          3482422,
          3448766,
          3209356,
          2968951,
          3599968,
          3609543,
          3934899,
          4155153,
          4181115,
          4351101,
          3785479,
          3926441,
          3470482,
          3819276,
          3438136,
          3081846,
          3771574,
          3887382,
          4151403,
          4327219,
          4506218,
          4525926,
          3919485,
          4059884,
          3629119,
          3856908,
          3551072,
          3248534,
          4002732,
          4022770,
          4361622,
          4559640,
          4802431,
          4797484,
          4201882,
          4375077,
          4014388,
          4129462,
          3749417,
          3543751,
          4138030
         ]
        },
        {
         "line": {
          "color": "navy"
         },
         "mode": "lines",
         "name": "Pasajeros 1",
         "type": "scatter",
         "x": [
          "2005-07-01",
          "2005-08-01",
          "2005-09-01",
          "2005-10-01",
          "2005-11-01",
          "2005-12-01",
          "2006-01-01",
          "2006-02-01",
          "2006-03-01",
          "2006-04-01",
          "2006-05-01",
          "2006-06-01",
          "2006-07-01",
          "2006-08-01",
          "2006-09-01",
          "2006-10-01",
          "2006-11-01",
          "2006-12-01",
          "2007-01-01",
          "2007-02-01",
          "2007-03-01",
          "2007-04-01",
          "2007-05-01",
          "2007-06-01",
          "2007-07-01",
          "2007-08-01",
          "2007-09-01",
          "2007-10-01",
          "2007-11-01",
          "2007-12-01",
          "2008-01-01",
          "2008-02-01",
          "2008-03-01",
          "2008-04-01",
          "2008-05-01",
          "2008-06-01",
          "2008-07-01",
          "2008-08-01",
          "2008-09-01",
          "2008-10-01",
          "2008-11-01",
          "2008-12-01",
          "2009-01-01",
          "2009-02-01",
          "2009-03-01",
          "2009-04-01",
          "2009-05-01",
          "2009-06-01",
          "2009-07-01",
          "2009-08-01",
          "2009-09-01",
          "2009-10-01",
          "2009-11-01",
          "2009-12-01",
          "2010-01-01",
          "2010-02-01",
          "2010-03-01",
          "2010-04-01",
          "2010-05-01",
          "2010-06-01",
          "2010-07-01",
          "2010-08-01",
          "2010-09-01",
          "2010-10-01",
          "2010-11-01",
          "2010-12-01",
          "2011-01-01",
          "2011-02-01",
          "2011-03-01",
          "2011-04-01",
          "2011-05-01",
          "2011-06-01",
          "2011-07-01",
          "2011-08-01",
          "2011-09-01",
          "2011-10-01",
          "2011-11-01",
          "2011-12-01",
          "2012-01-01",
          "2012-02-01",
          "2012-03-01",
          "2012-04-01",
          "2012-05-01",
          "2012-06-01",
          "2012-07-01",
          "2012-08-01",
          "2012-09-01",
          "2012-10-01",
          "2012-11-01",
          "2012-12-01",
          "2013-01-01",
          "2013-02-01",
          "2013-03-01",
          "2013-04-01",
          "2013-05-01",
          "2013-06-01",
          "2013-07-01",
          "2013-08-01",
          "2013-09-01",
          "2013-10-01",
          "2013-11-01",
          "2013-12-01",
          "2014-01-01",
          "2014-02-01",
          "2014-03-01",
          "2014-04-01",
          "2014-05-01",
          "2014-06-01",
          "2014-07-01",
          "2014-08-01",
          "2014-09-01",
          "2014-10-01",
          "2014-11-01",
          "2014-12-01",
          "2015-01-01",
          "2015-02-01",
          "2015-03-01",
          "2015-04-01",
          "2015-05-01",
          "2015-06-01",
          "2015-07-01",
          "2015-08-01",
          "2015-09-01",
          "2015-10-01",
          "2015-11-01",
          "2015-12-01",
          "2016-01-01",
          "2016-02-01",
          "2016-03-01"
         ],
         "y": [
          2672918.195518037,
          2684680.9249096205,
          2696443.6543012047,
          2707826.940809189,
          2719605.4803209226,
          2730988.766828907,
          2742751.496220491,
          2754514.2256120746,
          2765138.62635286,
          2776885.5456242943,
          2788268.8321322785,
          2800031.561523862,
          2811414.848031847,
          2823177.5774234305,
          2834940.306815014,
          2846323.593322999,
          2858102.1328347325,
          2869485.419342717,
          2881248.148734301,
          2893010.8781258846,
          2903635.27886667,
          2915382.198138104,
          2926765.4846460884,
          2938528.214037672,
          2949911.5005456563,
          2961674.2299372405,
          2973436.959328824,
          2984820.2458368083,
          2996598.7853485425,
          3007982.0718565267,
          3019744.801248111,
          3031507.5306396945,
          3042511.374264079,
          3054258.2935355133,
          3065641.5800434975,
          3077404.3094350817,
          3088787.595943066,
          3100550.3253346495,
          3112313.0547262337,
          3123696.341234218,
          3135474.8807459516,
          3146858.167253936,
          3158620.89664552,
          3170383.626037104,
          3181008.026777889,
          3192754.9460493233,
          3204138.2325573075,
          3215900.961948891,
          3227284.248456876,
          3239046.9778484595,
          3250809.707240043,
          3262192.993748028,
          3273971.5332597615,
          3285354.819767746,
          3297117.54915933,
          3308880.2785509136,
          3319504.679291699,
          3331251.598563133,
          3342634.8850711174,
          3354397.614462701,
          3365780.9009706853,
          3377543.6303622695,
          3389306.359753853,
          3400689.6462618373,
          3412468.1857735715,
          3423851.4722815556,
          3435614.20167314,
          3447376.9310647235,
          3458001.3318055086,
          3469748.251076943,
          3481131.537584927,
          3492894.266976511,
          3504277.5534844953,
          3516040.282876079,
          3527803.012267663,
          3539186.2987756473,
          3550964.8382873815,
          3562348.1247953656,
          3574110.8541869493,
          3585873.5835785335,
          3596877.427202918,
          3608624.3464743523,
          3620007.6329823365,
          3631770.36237392,
          3643153.648881905,
          3654916.3782734885,
          3666679.107665072,
          3678062.394173057,
          3689840.9336847905,
          3701224.2201927747,
          3712986.949584359,
          3724749.6789759425,
          3735374.079716728,
          3747120.998988162,
          3758504.2854961464,
          3770267.01488773,
          3781650.3013957143,
          3793413.0307872985,
          3805175.760178882,
          3816559.0466868663,
          3828337.5861986,
          3839720.8727065846,
          3851483.602098169,
          3863246.331489752,
          3873870.7322305376,
          3885617.6515019718,
          3897000.938009956,
          3908763.66740154,
          3920146.9539095243,
          3931909.683301108,
          3943672.412692692,
          3955055.6992006768,
          3966834.2387124104,
          3978217.5252203946,
          3989980.2546119783,
          4001742.9840035625,
          4012367.384744348,
          4024114.3040157817,
          4035497.5905237664,
          4047260.3199153496,
          4058643.606423334,
          4070406.3358149184,
          4082169.0652065016,
          4093552.3517144863,
          4105330.89122622,
          4116714.1777342046,
          4128476.9071257883,
          4140239.636517372,
          4151243.480141757
         ]
        },
        {
         "line": {
          "color": "tomato"
         },
         "mode": "lines",
         "name": "Pasajeros 2",
         "type": "scatter",
         "x": [
          "2016-04-01",
          "2016-05-01",
          "2016-06-01",
          "2016-07-01",
          "2016-08-01",
          "2016-09-01",
          "2016-10-01",
          "2016-11-01",
          "2016-12-01",
          "2017-01-01",
          "2017-02-01",
          "2017-03-01",
          "2017-04-01",
          "2017-05-01",
          "2017-06-01",
          "2017-07-01",
          "2017-08-01",
          "2017-09-01",
          "2017-10-01",
          "2017-11-01",
          "2017-12-01",
          "2018-01-01",
          "2018-02-01",
          "2018-03-01",
          "2018-04-01",
          "2018-05-01",
          "2018-06-01",
          "2018-07-01",
          "2018-08-01",
          "2018-09-01",
          "2018-10-01",
          "2018-11-01",
          "2018-12-01",
          "2019-01-01",
          "2019-02-01",
          "2019-03-01",
          "2019-04-01",
          "2019-05-01",
          "2019-06-01",
          "2019-07-01",
          "2019-08-01",
          "2019-09-01",
          "2019-10-01",
          "2019-11-01",
          "2019-12-01",
          "2020-01-01",
          "2020-02-01",
          "2020-03-01",
          "2020-04-01",
          "2020-05-01",
          "2020-06-01",
          "2020-07-01",
          "2020-08-01",
          "2020-09-01",
          "2020-10-01",
          "2020-11-01",
          "2020-12-01",
          "2021-01-01",
          "2021-02-01",
          "2021-03-01"
         ],
         "y": [
          4162990.399413191,
          4174373.6859211754,
          4186136.415312759,
          4197519.701820743,
          4209282.431212327,
          4221045.160603911,
          4232428.447111895,
          4244206.98662363,
          4255590.273131614,
          4267353.002523198,
          4279115.731914781,
          4289740.132655567,
          4301487.051927,
          4312870.338434985,
          4324633.067826569,
          4336016.354334554,
          4347779.083726137,
          4359541.813117721,
          4370925.099625705,
          4382703.639137439,
          4394086.925645424,
          4405849.655037008,
          4417612.3844285915,
          4428236.785169377,
          4439983.704440811,
          4451366.990948794,
          4463129.720340379,
          4474513.006848363,
          4486275.736239947,
          4498038.465631532,
          4509421.752139515,
          4521200.291651249,
          4532583.578159234,
          4544346.307550818,
          4556109.036942401,
          4566733.4376831865,
          4578480.35695462,
          4589863.643462605,
          4601626.372854189,
          4613009.659362173,
          4624772.388753757,
          4636535.118145341,
          4647918.404653326,
          4659696.944165058,
          4671080.230673043,
          4682842.960064627,
          4694605.689456211,
          4705609.5330805965,
          4717356.45235203,
          4728739.738860014,
          4740502.468251598,
          4751885.754759582,
          4763648.484151166,
          4775411.21354275,
          4786794.500050735,
          4798573.039562468,
          4809956.326070453,
          4821719.055462036,
          4833481.78485362,
          4844106.185594406
         ]
        }
       ],
       "layout": {
        "height": 600,
        "plot_bgcolor": "#F7FAFC",
        "showlegend": true,
        "template": {
         "data": {
          "bar": [
           {
            "error_x": {
             "color": "#2a3f5f"
            },
            "error_y": {
             "color": "#2a3f5f"
            },
            "marker": {
             "line": {
              "color": "#E5ECF6",
              "width": 0.5
             },
             "pattern": {
              "fillmode": "overlay",
              "size": 10,
              "solidity": 0.2
             }
            },
            "type": "bar"
           }
          ],
          "barpolar": [
           {
            "marker": {
             "line": {
              "color": "#E5ECF6",
              "width": 0.5
             },
             "pattern": {
              "fillmode": "overlay",
              "size": 10,
              "solidity": 0.2
             }
            },
            "type": "barpolar"
           }
          ],
          "carpet": [
           {
            "aaxis": {
             "endlinecolor": "#2a3f5f",
             "gridcolor": "white",
             "linecolor": "white",
             "minorgridcolor": "white",
             "startlinecolor": "#2a3f5f"
            },
            "baxis": {
             "endlinecolor": "#2a3f5f",
             "gridcolor": "white",
             "linecolor": "white",
             "minorgridcolor": "white",
             "startlinecolor": "#2a3f5f"
            },
            "type": "carpet"
           }
          ],
          "choropleth": [
           {
            "colorbar": {
             "outlinewidth": 0,
             "ticks": ""
            },
            "type": "choropleth"
           }
          ],
          "contour": [
           {
            "colorbar": {
             "outlinewidth": 0,
             "ticks": ""
            },
            "colorscale": [
             [
              0,
              "#0d0887"
             ],
             [
              0.1111111111111111,
              "#46039f"
             ],
             [
              0.2222222222222222,
              "#7201a8"
             ],
             [
              0.3333333333333333,
              "#9c179e"
             ],
             [
              0.4444444444444444,
              "#bd3786"
             ],
             [
              0.5555555555555556,
              "#d8576b"
             ],
             [
              0.6666666666666666,
              "#ed7953"
             ],
             [
              0.7777777777777778,
              "#fb9f3a"
             ],
             [
              0.8888888888888888,
              "#fdca26"
             ],
             [
              1,
              "#f0f921"
             ]
            ],
            "type": "contour"
           }
          ],
          "contourcarpet": [
           {
            "colorbar": {
             "outlinewidth": 0,
             "ticks": ""
            },
            "type": "contourcarpet"
           }
          ],
          "heatmap": [
           {
            "colorbar": {
             "outlinewidth": 0,
             "ticks": ""
            },
            "colorscale": [
             [
              0,
              "#0d0887"
             ],
             [
              0.1111111111111111,
              "#46039f"
             ],
             [
              0.2222222222222222,
              "#7201a8"
             ],
             [
              0.3333333333333333,
              "#9c179e"
             ],
             [
              0.4444444444444444,
              "#bd3786"
             ],
             [
              0.5555555555555556,
              "#d8576b"
             ],
             [
              0.6666666666666666,
              "#ed7953"
             ],
             [
              0.7777777777777778,
              "#fb9f3a"
             ],
             [
              0.8888888888888888,
              "#fdca26"
             ],
             [
              1,
              "#f0f921"
             ]
            ],
            "type": "heatmap"
           }
          ],
          "heatmapgl": [
           {
            "colorbar": {
             "outlinewidth": 0,
             "ticks": ""
            },
            "colorscale": [
             [
              0,
              "#0d0887"
             ],
             [
              0.1111111111111111,
              "#46039f"
             ],
             [
              0.2222222222222222,
              "#7201a8"
             ],
             [
              0.3333333333333333,
              "#9c179e"
             ],
             [
              0.4444444444444444,
              "#bd3786"
             ],
             [
              0.5555555555555556,
              "#d8576b"
             ],
             [
              0.6666666666666666,
              "#ed7953"
             ],
             [
              0.7777777777777778,
              "#fb9f3a"
             ],
             [
              0.8888888888888888,
              "#fdca26"
             ],
             [
              1,
              "#f0f921"
             ]
            ],
            "type": "heatmapgl"
           }
          ],
          "histogram": [
           {
            "marker": {
             "pattern": {
              "fillmode": "overlay",
              "size": 10,
              "solidity": 0.2
             }
            },
            "type": "histogram"
           }
          ],
          "histogram2d": [
           {
            "colorbar": {
             "outlinewidth": 0,
             "ticks": ""
            },
            "colorscale": [
             [
              0,
              "#0d0887"
             ],
             [
              0.1111111111111111,
              "#46039f"
             ],
             [
              0.2222222222222222,
              "#7201a8"
             ],
             [
              0.3333333333333333,
              "#9c179e"
             ],
             [
              0.4444444444444444,
              "#bd3786"
             ],
             [
              0.5555555555555556,
              "#d8576b"
             ],
             [
              0.6666666666666666,
              "#ed7953"
             ],
             [
              0.7777777777777778,
              "#fb9f3a"
             ],
             [
              0.8888888888888888,
              "#fdca26"
             ],
             [
              1,
              "#f0f921"
             ]
            ],
            "type": "histogram2d"
           }
          ],
          "histogram2dcontour": [
           {
            "colorbar": {
             "outlinewidth": 0,
             "ticks": ""
            },
            "colorscale": [
             [
              0,
              "#0d0887"
             ],
             [
              0.1111111111111111,
              "#46039f"
             ],
             [
              0.2222222222222222,
              "#7201a8"
             ],
             [
              0.3333333333333333,
              "#9c179e"
             ],
             [
              0.4444444444444444,
              "#bd3786"
             ],
             [
              0.5555555555555556,
              "#d8576b"
             ],
             [
              0.6666666666666666,
              "#ed7953"
             ],
             [
              0.7777777777777778,
              "#fb9f3a"
             ],
             [
              0.8888888888888888,
              "#fdca26"
             ],
             [
              1,
              "#f0f921"
             ]
            ],
            "type": "histogram2dcontour"
           }
          ],
          "mesh3d": [
           {
            "colorbar": {
             "outlinewidth": 0,
             "ticks": ""
            },
            "type": "mesh3d"
           }
          ],
          "parcoords": [
           {
            "line": {
             "colorbar": {
              "outlinewidth": 0,
              "ticks": ""
             }
            },
            "type": "parcoords"
           }
          ],
          "pie": [
           {
            "automargin": true,
            "type": "pie"
           }
          ],
          "scatter": [
           {
            "fillpattern": {
             "fillmode": "overlay",
             "size": 10,
             "solidity": 0.2
            },
            "type": "scatter"
           }
          ],
          "scatter3d": [
           {
            "line": {
             "colorbar": {
              "outlinewidth": 0,
              "ticks": ""
             }
            },
            "marker": {
             "colorbar": {
              "outlinewidth": 0,
              "ticks": ""
             }
            },
            "type": "scatter3d"
           }
          ],
          "scattercarpet": [
           {
            "marker": {
             "colorbar": {
              "outlinewidth": 0,
              "ticks": ""
             }
            },
            "type": "scattercarpet"
           }
          ],
          "scattergeo": [
           {
            "marker": {
             "colorbar": {
              "outlinewidth": 0,
              "ticks": ""
             }
            },
            "type": "scattergeo"
           }
          ],
          "scattergl": [
           {
            "marker": {
             "colorbar": {
              "outlinewidth": 0,
              "ticks": ""
             }
            },
            "type": "scattergl"
           }
          ],
          "scattermapbox": [
           {
            "marker": {
             "colorbar": {
              "outlinewidth": 0,
              "ticks": ""
             }
            },
            "type": "scattermapbox"
           }
          ],
          "scatterpolar": [
           {
            "marker": {
             "colorbar": {
              "outlinewidth": 0,
              "ticks": ""
             }
            },
            "type": "scatterpolar"
           }
          ],
          "scatterpolargl": [
           {
            "marker": {
             "colorbar": {
              "outlinewidth": 0,
              "ticks": ""
             }
            },
            "type": "scatterpolargl"
           }
          ],
          "scatterternary": [
           {
            "marker": {
             "colorbar": {
              "outlinewidth": 0,
              "ticks": ""
             }
            },
            "type": "scatterternary"
           }
          ],
          "surface": [
           {
            "colorbar": {
             "outlinewidth": 0,
             "ticks": ""
            },
            "colorscale": [
             [
              0,
              "#0d0887"
             ],
             [
              0.1111111111111111,
              "#46039f"
             ],
             [
              0.2222222222222222,
              "#7201a8"
             ],
             [
              0.3333333333333333,
              "#9c179e"
             ],
             [
              0.4444444444444444,
              "#bd3786"
             ],
             [
              0.5555555555555556,
              "#d8576b"
             ],
             [
              0.6666666666666666,
              "#ed7953"
             ],
             [
              0.7777777777777778,
              "#fb9f3a"
             ],
             [
              0.8888888888888888,
              "#fdca26"
             ],
             [
              1,
              "#f0f921"
             ]
            ],
            "type": "surface"
           }
          ],
          "table": [
           {
            "cells": {
             "fill": {
              "color": "#EBF0F8"
             },
             "line": {
              "color": "white"
             }
            },
            "header": {
             "fill": {
              "color": "#C8D4E3"
             },
             "line": {
              "color": "white"
             }
            },
            "type": "table"
           }
          ]
         },
         "layout": {
          "annotationdefaults": {
           "arrowcolor": "#2a3f5f",
           "arrowhead": 0,
           "arrowwidth": 1
          },
          "autotypenumbers": "strict",
          "coloraxis": {
           "colorbar": {
            "outlinewidth": 0,
            "ticks": ""
           }
          },
          "colorscale": {
           "diverging": [
            [
             0,
             "#8e0152"
            ],
            [
             0.1,
             "#c51b7d"
            ],
            [
             0.2,
             "#de77ae"
            ],
            [
             0.3,
             "#f1b6da"
            ],
            [
             0.4,
             "#fde0ef"
            ],
            [
             0.5,
             "#f7f7f7"
            ],
            [
             0.6,
             "#e6f5d0"
            ],
            [
             0.7,
             "#b8e186"
            ],
            [
             0.8,
             "#7fbc41"
            ],
            [
             0.9,
             "#4d9221"
            ],
            [
             1,
             "#276419"
            ]
           ],
           "sequential": [
            [
             0,
             "#0d0887"
            ],
            [
             0.1111111111111111,
             "#46039f"
            ],
            [
             0.2222222222222222,
             "#7201a8"
            ],
            [
             0.3333333333333333,
             "#9c179e"
            ],
            [
             0.4444444444444444,
             "#bd3786"
            ],
            [
             0.5555555555555556,
             "#d8576b"
            ],
            [
             0.6666666666666666,
             "#ed7953"
            ],
            [
             0.7777777777777778,
             "#fb9f3a"
            ],
            [
             0.8888888888888888,
             "#fdca26"
            ],
            [
             1,
             "#f0f921"
            ]
           ],
           "sequentialminus": [
            [
             0,
             "#0d0887"
            ],
            [
             0.1111111111111111,
             "#46039f"
            ],
            [
             0.2222222222222222,
             "#7201a8"
            ],
            [
             0.3333333333333333,
             "#9c179e"
            ],
            [
             0.4444444444444444,
             "#bd3786"
            ],
            [
             0.5555555555555556,
             "#d8576b"
            ],
            [
             0.6666666666666666,
             "#ed7953"
            ],
            [
             0.7777777777777778,
             "#fb9f3a"
            ],
            [
             0.8888888888888888,
             "#fdca26"
            ],
            [
             1,
             "#f0f921"
            ]
           ]
          },
          "colorway": [
           "#636efa",
           "#EF553B",
           "#00cc96",
           "#ab63fa",
           "#FFA15A",
           "#19d3f3",
           "#FF6692",
           "#B6E880",
           "#FF97FF",
           "#FECB52"
          ],
          "font": {
           "color": "#2a3f5f"
          },
          "geo": {
           "bgcolor": "white",
           "lakecolor": "white",
           "landcolor": "#E5ECF6",
           "showlakes": true,
           "showland": true,
           "subunitcolor": "white"
          },
          "hoverlabel": {
           "align": "left"
          },
          "hovermode": "closest",
          "mapbox": {
           "style": "light"
          },
          "paper_bgcolor": "white",
          "plot_bgcolor": "#E5ECF6",
          "polar": {
           "angularaxis": {
            "gridcolor": "white",
            "linecolor": "white",
            "ticks": ""
           },
           "bgcolor": "#E5ECF6",
           "radialaxis": {
            "gridcolor": "white",
            "linecolor": "white",
            "ticks": ""
           }
          },
          "scene": {
           "xaxis": {
            "backgroundcolor": "#E5ECF6",
            "gridcolor": "white",
            "gridwidth": 2,
            "linecolor": "white",
            "showbackground": true,
            "ticks": "",
            "zerolinecolor": "white"
           },
           "yaxis": {
            "backgroundcolor": "#E5ECF6",
            "gridcolor": "white",
            "gridwidth": 2,
            "linecolor": "white",
            "showbackground": true,
            "ticks": "",
            "zerolinecolor": "white"
           },
           "zaxis": {
            "backgroundcolor": "#E5ECF6",
            "gridcolor": "white",
            "gridwidth": 2,
            "linecolor": "white",
            "showbackground": true,
            "ticks": "",
            "zerolinecolor": "white"
           }
          },
          "shapedefaults": {
           "line": {
            "color": "#2a3f5f"
           }
          },
          "ternary": {
           "aaxis": {
            "gridcolor": "white",
            "linecolor": "white",
            "ticks": ""
           },
           "baxis": {
            "gridcolor": "white",
            "linecolor": "white",
            "ticks": ""
           },
           "bgcolor": "#E5ECF6",
           "caxis": {
            "gridcolor": "white",
            "linecolor": "white",
            "ticks": ""
           }
          },
          "title": {
           "x": 0.05
          },
          "xaxis": {
           "automargin": true,
           "gridcolor": "white",
           "linecolor": "white",
           "ticks": "",
           "title": {
            "standoff": 15
           },
           "zerolinecolor": "white",
           "zerolinewidth": 2
          },
          "yaxis": {
           "automargin": true,
           "gridcolor": "white",
           "linecolor": "white",
           "ticks": "",
           "title": {
            "standoff": 15
           },
           "zerolinecolor": "white",
           "zerolinewidth": 2
          }
         }
        },
        "title": {
         "font": {
          "size": 20
         },
         "text": "Movimiento Anual de pasajeros y su proyección hasta el 2020"
        },
        "width": 1000,
        "xaxis": {
         "title": {
          "font": {
           "size": 15
          },
          "text": "Año"
         }
        },
        "yaxis": {
         "title": {
          "font": {
           "size": 15
          },
          "text": "Pasajeros"
         }
        }
       }
      }
     },
     "metadata": {},
     "output_type": "display_data"
    }
   ],
   "source": [
    "# # Generar el gráfico con los DataFrames corregidos\n",
    "plot_line_chart([df_3_linear, df_3_predict], 'Date', \\\n",
    "               [['passengers', 'passengers_'], ['passengers_']], title='Movimiento Anual de pasajeros y su proyección hasta el 2020')"
   ]
  },
  {
   "cell_type": "markdown",
   "metadata": {},
   "source": [
    "![](newplot23.png)"
   ]
  }
 ],
 "metadata": {
  "kernelspec": {
   "display_name": "Python 3",
   "language": "python",
   "name": "python3"
  },
  "language_info": {
   "codemirror_mode": {
    "name": "ipython",
    "version": 3
   },
   "file_extension": ".py",
   "mimetype": "text/x-python",
   "name": "python",
   "nbconvert_exporter": "python",
   "pygments_lexer": "ipython3",
   "version": "3.7.8"
  }
 },
 "nbformat": 4,
 "nbformat_minor": 2
}
